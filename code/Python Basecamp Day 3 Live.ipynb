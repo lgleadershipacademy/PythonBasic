{
 "cells": [
  {
   "cell_type": "markdown",
   "id": "disturbed-richards",
   "metadata": {},
   "source": [
    "# 기술통계 분석"
   ]
  },
  {
   "cell_type": "markdown",
   "id": "familiar-illustration",
   "metadata": {},
   "source": [
    "## 분석 데이터 준비"
   ]
  },
  {
   "cell_type": "code",
   "execution_count": null,
   "id": "studied-housing",
   "metadata": {},
   "outputs": [],
   "source": [
    "# 라이브러리를 호출합니다.\n"
   ]
  },
  {
   "cell_type": "code",
   "execution_count": null,
   "id": "single-respect",
   "metadata": {},
   "outputs": [],
   "source": [
    "# 현재 작업경로를 확인합니다.\n"
   ]
  },
  {
   "cell_type": "code",
   "execution_count": null,
   "id": "pointed-pressing",
   "metadata": {},
   "outputs": [],
   "source": [
    "# 작업경로를 data 폴더로 변경합니다.\n"
   ]
  },
  {
   "cell_type": "code",
   "execution_count": null,
   "id": "current-inspiration",
   "metadata": {},
   "outputs": [],
   "source": [
    "# 현재 작업경로에 포함된 폴더명과 파일명을 출력합니다.\n"
   ]
  },
  {
   "cell_type": "code",
   "execution_count": null,
   "id": "recent-suspect",
   "metadata": {},
   "outputs": [],
   "source": [
    "# csv 파일을 'bytes'로 읽습니다.\n"
   ]
  },
  {
   "cell_type": "code",
   "execution_count": null,
   "id": "usual-isaac",
   "metadata": {},
   "outputs": [],
   "source": [
    "# 텍스트 파일의 문자 인코딩 방식을 확인합니다.\n"
   ]
  },
  {
   "cell_type": "code",
   "execution_count": null,
   "id": "aquatic-pilot",
   "metadata": {},
   "outputs": [],
   "source": [
    "# 아파트 csv 파일을 읽고 데이터프레임을 생성합니다.\n"
   ]
  },
  {
   "cell_type": "code",
   "execution_count": null,
   "id": "adverse-vector",
   "metadata": {},
   "outputs": [],
   "source": [
    "# apt의 정보를 확인합니다.\n"
   ]
  },
  {
   "cell_type": "code",
   "execution_count": null,
   "id": "absent-turkey",
   "metadata": {},
   "outputs": [],
   "source": [
    "# 거래일 컬럼의 자료형을 'datetime64'로 변환합니다.\n"
   ]
  },
  {
   "cell_type": "code",
   "execution_count": null,
   "id": "compressed-barcelona",
   "metadata": {},
   "outputs": [],
   "source": [
    "# apt의 컬럼별 자료형을 출력합니다.\n"
   ]
  },
  {
   "cell_type": "markdown",
   "id": "retained-clause",
   "metadata": {},
   "source": [
    "## 기술통계"
   ]
  },
  {
   "cell_type": "markdown",
   "id": "computational-bachelor",
   "metadata": {},
   "source": [
    "### 대푯값 : 평균, 절사평균"
   ]
  },
  {
   "cell_type": "code",
   "execution_count": null,
   "id": "pressed-techno",
   "metadata": {},
   "outputs": [],
   "source": [
    "# 거래금액 컬럼의 평균을 반환합니다.\n"
   ]
  },
  {
   "cell_type": "code",
   "execution_count": null,
   "id": "exact-wells",
   "metadata": {},
   "outputs": [],
   "source": [
    "# scipy.stats 모듈을 호출합니다.\n"
   ]
  },
  {
   "cell_type": "code",
   "execution_count": null,
   "id": "acceptable-dialogue",
   "metadata": {},
   "outputs": [],
   "source": [
    "# 양 극단에서 10%씩 제외한 평균을 계산합니다.\n"
   ]
  },
  {
   "cell_type": "markdown",
   "id": "dressed-hobby",
   "metadata": {},
   "source": [
    "### 대푯값 : 중위수"
   ]
  },
  {
   "cell_type": "code",
   "execution_count": null,
   "id": "moral-tattoo",
   "metadata": {},
   "outputs": [],
   "source": [
    "# 거래금액 컬럼의 중위수를 반환합니다.\n"
   ]
  },
  {
   "cell_type": "code",
   "execution_count": null,
   "id": "framed-firewall",
   "metadata": {},
   "outputs": [],
   "source": [
    "# [주의] 양 극단의 50%씩 절사한 평균을 계산하면 중위수 대신 결측값을 반환합니다. (경고문구가 출력됩니다!)\n"
   ]
  },
  {
   "cell_type": "code",
   "execution_count": null,
   "id": "mounted-beverage",
   "metadata": {},
   "outputs": [],
   "source": [
    "# 시군구 컬럼의 최빈값을 반환합니다.\n"
   ]
  },
  {
   "cell_type": "code",
   "execution_count": null,
   "id": "renewable-authority",
   "metadata": {},
   "outputs": [],
   "source": [
    "# 라이브러리를 호출합니다.\n"
   ]
  },
  {
   "cell_type": "code",
   "execution_count": null,
   "id": "monthly-dispute",
   "metadata": {},
   "outputs": [],
   "source": [
    "# 집계함수를 이용하여 시군구별로 거래건수를 확인합니다.\n"
   ]
  },
  {
   "cell_type": "markdown",
   "id": "painted-plymouth",
   "metadata": {},
   "source": [
    "### 분포 : 범위"
   ]
  },
  {
   "cell_type": "code",
   "execution_count": null,
   "id": "vital-illustration",
   "metadata": {},
   "outputs": [],
   "source": [
    "# 거래금액 컬럼의 최소값을 반환합니다.\n"
   ]
  },
  {
   "cell_type": "code",
   "execution_count": null,
   "id": "complex-quick",
   "metadata": {},
   "outputs": [],
   "source": [
    "# 거래금액 컬럼의 최대값을 반환합니다.\n"
   ]
  },
  {
   "cell_type": "code",
   "execution_count": null,
   "id": "rolled-blanket",
   "metadata": {},
   "outputs": [],
   "source": [
    "# 거래금액 컬럼의 범위를 반환합니다.\n"
   ]
  },
  {
   "cell_type": "markdown",
   "id": "dense-fisher",
   "metadata": {},
   "source": [
    "### 분포 : 분위수"
   ]
  },
  {
   "cell_type": "code",
   "execution_count": null,
   "id": "published-study",
   "metadata": {},
   "outputs": [],
   "source": [
    "# 거래금액 컬럼의 10 백분위수를 반환합니다.\n"
   ]
  },
  {
   "cell_type": "code",
   "execution_count": null,
   "id": "relevant-portsmouth",
   "metadata": {},
   "outputs": [],
   "source": [
    "# 거래금액 컬럼의 90 백분위수를 반환합니다.\n"
   ]
  },
  {
   "cell_type": "code",
   "execution_count": null,
   "id": "sound-cisco",
   "metadata": {},
   "outputs": [],
   "source": [
    "# 거래금액 컬럼의 10, 90 백분위수를 함께 반환합니다.\n"
   ]
  },
  {
   "cell_type": "code",
   "execution_count": null,
   "id": "fatty-princeton",
   "metadata": {},
   "outputs": [],
   "source": [
    "# 거래금액 컬럼의 십분위수를 반환합니다.\n"
   ]
  },
  {
   "cell_type": "markdown",
   "id": "occupational-speech",
   "metadata": {},
   "source": [
    "### 분포 : 사분위수와 사분범위"
   ]
  },
  {
   "cell_type": "code",
   "execution_count": null,
   "id": "drawn-india",
   "metadata": {},
   "outputs": [],
   "source": [
    "# 거래금액 컬럼의 1 사분위수를 반환합니다.\n"
   ]
  },
  {
   "cell_type": "code",
   "execution_count": null,
   "id": "wicked-russia",
   "metadata": {},
   "outputs": [],
   "source": [
    "# 거래금액 컬럼의 3 사분위수를 반환합니다.\n"
   ]
  },
  {
   "cell_type": "code",
   "execution_count": null,
   "id": "lyric-denver",
   "metadata": {},
   "outputs": [],
   "source": [
    "# 거래금액 컬럼의 최소값, 최대값 및 사분위수를 함께 반환합니다.\n"
   ]
  },
  {
   "cell_type": "code",
   "execution_count": null,
   "id": "laden-thing",
   "metadata": {},
   "outputs": [],
   "source": [
    "# 거래금액 컬럼의 사분범위를 계산합니다.\n"
   ]
  },
  {
   "cell_type": "markdown",
   "id": "supported-proportion",
   "metadata": {},
   "source": [
    "### 분포 : 분산"
   ]
  },
  {
   "cell_type": "code",
   "execution_count": null,
   "id": "illegal-rendering",
   "metadata": {},
   "outputs": [],
   "source": [
    "# 거래금액 컬럼의 분산을 반환합니다.\n"
   ]
  },
  {
   "cell_type": "markdown",
   "id": "laughing-muslim",
   "metadata": {},
   "source": [
    "### 분포 : 표준편차"
   ]
  },
  {
   "cell_type": "code",
   "execution_count": null,
   "id": "adjacent-techno",
   "metadata": {},
   "outputs": [],
   "source": [
    "# 거래금액 컬럼의 표준편차를 반환합니다.\n"
   ]
  },
  {
   "cell_type": "markdown",
   "id": "beautiful-occasion",
   "metadata": {},
   "source": [
    "### 분포 : 중위수절대편차"
   ]
  },
  {
   "cell_type": "code",
   "execution_count": null,
   "id": "aerial-manor",
   "metadata": {},
   "outputs": [],
   "source": [
    "# 거래금액 컬럼의 중위수절대편차를 반환합니다. (값이 조금 다릅니다!)\n"
   ]
  },
  {
   "cell_type": "code",
   "execution_count": null,
   "id": "distinct-begin",
   "metadata": {},
   "outputs": [],
   "source": [
    "# 로버스트한 통계량을 반환하는 모듈을 호출합니다.\n"
   ]
  },
  {
   "cell_type": "code",
   "execution_count": null,
   "id": "endless-expert",
   "metadata": {},
   "outputs": [],
   "source": [
    "# 거래금액 컬럼의 중위수절대편차를 반환합니다.\n"
   ]
  },
  {
   "cell_type": "markdown",
   "id": "empty-surge",
   "metadata": {},
   "source": [
    "### 여러 열의 기술통계량 생성"
   ]
  },
  {
   "cell_type": "code",
   "execution_count": null,
   "id": "wound-briefs",
   "metadata": {},
   "outputs": [],
   "source": [
    "# apt의 숫자 컬럼에 대한 평균을 반환합니다. (경고문구가 출력됩니다!)\n"
   ]
  },
  {
   "cell_type": "code",
   "execution_count": null,
   "id": "former-serum",
   "metadata": {},
   "outputs": [],
   "source": [
    "# apt의 숫자 컬럼에 대한 표준편차를 반환합니다.\n"
   ]
  },
  {
   "cell_type": "code",
   "execution_count": null,
   "id": "desirable-account",
   "metadata": {},
   "outputs": [],
   "source": [
    "# apt의 문자열 컬럼에 대한 최빈값을 반환합니다.\n"
   ]
  },
  {
   "cell_type": "code",
   "execution_count": null,
   "id": "fitted-bargain",
   "metadata": {},
   "outputs": [],
   "source": [
    "# apt의 모든 숫자 컬럼에 대한 기술통계량을 반환합니다.\n"
   ]
  },
  {
   "cell_type": "code",
   "execution_count": null,
   "id": "promotional-terry",
   "metadata": {},
   "outputs": [],
   "source": [
    "# apt의 모든 문자열 컬럼에 대한 기술통계량을 반환합니다.\n"
   ]
  },
  {
   "cell_type": "markdown",
   "id": "limited-notification",
   "metadata": {},
   "source": [
    "### 상관관계 : 공분산"
   ]
  },
  {
   "cell_type": "code",
   "execution_count": null,
   "id": "certified-coast",
   "metadata": {},
   "outputs": [],
   "source": [
    "# 전용면적과 거래금액 컬럼 간 공분산을 반환합니다.\n"
   ]
  },
  {
   "cell_type": "code",
   "execution_count": null,
   "id": "equipped-bridge",
   "metadata": {},
   "outputs": [],
   "source": [
    "# apt의 모든 숫자 컬럼 간 공분산 행렬을 반환합니다.\n"
   ]
  },
  {
   "cell_type": "markdown",
   "id": "owned-template",
   "metadata": {},
   "source": [
    "### 상관관계 : 상관계수"
   ]
  },
  {
   "cell_type": "code",
   "execution_count": null,
   "id": "elementary-nudist",
   "metadata": {},
   "outputs": [],
   "source": [
    "# 전용면적과 거래금액 컬럼 간 상관계수를 반환합니다.\n"
   ]
  },
  {
   "cell_type": "code",
   "execution_count": null,
   "id": "directed-landing",
   "metadata": {},
   "outputs": [],
   "source": [
    "# apt의 모든 숫자 컬럼 간 상관계수 행렬을 반환합니다.\n"
   ]
  },
  {
   "cell_type": "markdown",
   "id": "bronze-conjunction",
   "metadata": {},
   "source": [
    "# 확률변수와 확률분포"
   ]
  },
  {
   "cell_type": "markdown",
   "id": "verified-updating",
   "metadata": {},
   "source": [
    "## 정규분포 관련 함수"
   ]
  },
  {
   "cell_type": "code",
   "execution_count": null,
   "id": "mental-muslim",
   "metadata": {},
   "outputs": [],
   "source": [
    "# 정규분포 관련 모듈을 호출합니다.\n"
   ]
  },
  {
   "cell_type": "markdown",
   "id": "thick-holder",
   "metadata": {},
   "source": [
    "### 정규분포하는 임의의 실수 생성"
   ]
  },
  {
   "cell_type": "code",
   "execution_count": null,
   "id": "guided-reverse",
   "metadata": {},
   "outputs": [],
   "source": [
    "# 평균 172.4, 표준편차 5.7인 정규분포를 따르는 임의의 실수 5천 개를 배열로 생성합니다.\n"
   ]
  },
  {
   "cell_type": "markdown",
   "id": "executed-vintage",
   "metadata": {},
   "source": [
    "### 확률변수값의 확률밀도함수값 반환"
   ]
  },
  {
   "cell_type": "code",
   "execution_count": null,
   "id": "referenced-embassy",
   "metadata": {},
   "outputs": [],
   "source": [
    "# 평균 175, 표준편차 15인 정규분포에서 평균(175)의 확률밀도함수값을 반환합니다.\n"
   ]
  },
  {
   "cell_type": "code",
   "execution_count": null,
   "id": "suburban-dayton",
   "metadata": {},
   "outputs": [],
   "source": [
    "# 평균 175, 표준편차 10인 정규분포에서 평균(175)의 확률밀도함수값을 반환합니다.\n"
   ]
  },
  {
   "cell_type": "code",
   "execution_count": null,
   "id": "congressional-latino",
   "metadata": {},
   "outputs": [],
   "source": [
    "# 평균 175, 표준편차 5인 정규분포에서 평균(175)의 확률밀도함수값을 반환합니다.\n"
   ]
  },
  {
   "cell_type": "markdown",
   "id": "tribal-directory",
   "metadata": {},
   "source": [
    "### 확률변수값의 누적 확률 반환"
   ]
  },
  {
   "cell_type": "code",
   "execution_count": null,
   "id": "combined-advice",
   "metadata": {},
   "outputs": [],
   "source": [
    "# 평균 175, 표준편차 15인 정규분포에서 185의 누적 확률을 반환합니다.\n"
   ]
  },
  {
   "cell_type": "code",
   "execution_count": null,
   "id": "necessary-invite",
   "metadata": {},
   "outputs": [],
   "source": [
    "# 평균 175, 표준편차 10인 정규분포에서 185의 누적 확률을 반환합니다.\n"
   ]
  },
  {
   "cell_type": "code",
   "execution_count": null,
   "id": "periodic-freeware",
   "metadata": {},
   "outputs": [],
   "source": [
    "# 평균 175, 표준편차 5인 정규분포에서 185의 누적 확률을 반환합니다.\n"
   ]
  },
  {
   "cell_type": "code",
   "execution_count": null,
   "id": "arranged-juice",
   "metadata": {},
   "outputs": [],
   "source": [
    "# ±2 표준편차 위치의 누적확률을 배열로 반환합니다.\n"
   ]
  },
  {
   "cell_type": "code",
   "execution_count": null,
   "id": "textile-launch",
   "metadata": {},
   "outputs": [],
   "source": [
    "# ±2 표준편차 간 확률을 반환합니다.\n"
   ]
  },
  {
   "cell_type": "markdown",
   "id": "norwegian-wrapping",
   "metadata": {},
   "source": [
    "### 누적 확률로 확률변수값 반환"
   ]
  },
  {
   "cell_type": "code",
   "execution_count": null,
   "id": "oriented-longitude",
   "metadata": {},
   "outputs": [],
   "source": [
    "# 평균 175, 표준편차 15인 정규분포에서 누적 확률이 0.7475인 확률변수값을 반환합니다.\n"
   ]
  },
  {
   "cell_type": "code",
   "execution_count": null,
   "id": "mineral-pierce",
   "metadata": {},
   "outputs": [],
   "source": [
    "# 평균 175, 표준편차 10인 정규분포에서 누적 확률이 0.8413인 확률변수값을 반환합니다.\n"
   ]
  },
  {
   "cell_type": "code",
   "execution_count": null,
   "id": "addressed-manchester",
   "metadata": {},
   "outputs": [],
   "source": [
    "# 평균 175, 표준편차 5인 정규분포에서 누적 확률이 0.9772인 확률변수값을 반환합니다.\n"
   ]
  },
  {
   "cell_type": "code",
   "execution_count": null,
   "id": "earlier-forward",
   "metadata": {},
   "outputs": [],
   "source": [
    "# 평균 175, 표준편차 5인 정규분포에서 누적 확률이 0.90인 확률변수값을 반환합니다.\n"
   ]
  },
  {
   "cell_type": "code",
   "execution_count": null,
   "id": "institutional-authentication",
   "metadata": {},
   "outputs": [],
   "source": [
    "# 평균 175, 표준편차 5인 정규분포에서 누적 확률이 0.95인 확률변수값을 반환합니다.\n"
   ]
  },
  {
   "cell_type": "markdown",
   "id": "complex-federation",
   "metadata": {},
   "source": [
    "### 왜도 및 첨도"
   ]
  },
  {
   "cell_type": "code",
   "execution_count": null,
   "id": "binary-cover",
   "metadata": {},
   "outputs": [],
   "source": [
    "# 배열을 시리즈로 변환합니다.\n"
   ]
  },
  {
   "cell_type": "code",
   "execution_count": null,
   "id": "thirty-handy",
   "metadata": {},
   "outputs": [],
   "source": [
    "# heights의 왜도를 반환합니다.\n"
   ]
  },
  {
   "cell_type": "code",
   "execution_count": null,
   "id": "brown-cloud",
   "metadata": {},
   "outputs": [],
   "source": [
    "# heights의 첨도를 반환합니다.\n"
   ]
  },
  {
   "cell_type": "markdown",
   "id": "average-investor",
   "metadata": {},
   "source": [
    "### 정규성 검정"
   ]
  },
  {
   "cell_type": "code",
   "execution_count": null,
   "id": "laden-bridal",
   "metadata": {},
   "outputs": [],
   "source": [
    "# 5천 건 이하인 데이터의 정규성 여부는 사피로-윌크 검정으로 확인합니다.\n"
   ]
  },
  {
   "cell_type": "code",
   "execution_count": null,
   "id": "induced-cooperative",
   "metadata": {},
   "outputs": [],
   "source": [
    "# 평균 172.4, 표준편차 5.7인 정규분포를 따르는 임의의 실수 1만 개를 배열로 생성합니다.\n"
   ]
  },
  {
   "cell_type": "code",
   "execution_count": null,
   "id": "demographic-identifier",
   "metadata": {},
   "outputs": [],
   "source": [
    "# 배열을 시리즈로 변환합니다.\n"
   ]
  },
  {
   "cell_type": "code",
   "execution_count": null,
   "id": "another-congo",
   "metadata": {},
   "outputs": [],
   "source": [
    "# 사피로-윌크 검정으로 정규성 여부를 확인합니다. (경고문구가 출력됩니다!)\n"
   ]
  },
  {
   "cell_type": "code",
   "execution_count": null,
   "id": "adjacent-stevens",
   "metadata": {},
   "outputs": [],
   "source": [
    "# 5천 건을 초과하는 데이터의 정규성 여부는 앤더슨-달링 검정으로 대신합니다.\n"
   ]
  },
  {
   "cell_type": "markdown",
   "id": "champion-korea",
   "metadata": {},
   "source": [
    "## 데이터 표준화"
   ]
  },
  {
   "cell_type": "code",
   "execution_count": null,
   "id": "hired-theology",
   "metadata": {},
   "outputs": [],
   "source": [
    "# z-score를 반환하는 사용자 정의 함수를 생성합니다.\n"
   ]
  },
  {
   "cell_type": "code",
   "execution_count": null,
   "id": "fancy-delaware",
   "metadata": {},
   "outputs": [],
   "source": [
    "# 평균 175, 표준편차 15인 정규분포에서 확률변수가 185일 때의 z-score를 반환합니다.\n"
   ]
  },
  {
   "cell_type": "code",
   "execution_count": null,
   "id": "running-directory",
   "metadata": {},
   "outputs": [],
   "source": [
    "# 평균 175, 표준편차 10인 정규분포에서 확률변수가 185일 때의 z-score를 반환합니다.\n"
   ]
  },
  {
   "cell_type": "code",
   "execution_count": null,
   "id": "breathing-sperm",
   "metadata": {},
   "outputs": [],
   "source": [
    "# 평균 175, 표준편차 5인 정규분포에서 확률변수가 185일 때의 z-score를 반환합니다.\n"
   ]
  },
  {
   "cell_type": "markdown",
   "id": "committed-witness",
   "metadata": {},
   "source": [
    "## 이상치 탐지"
   ]
  },
  {
   "cell_type": "code",
   "execution_count": null,
   "id": "eight-wednesday",
   "metadata": {},
   "outputs": [],
   "source": [
    "# 데이터를 표준화하는 모듈을 호출합니다.\n"
   ]
  },
  {
   "cell_type": "code",
   "execution_count": null,
   "id": "final-limitation",
   "metadata": {},
   "outputs": [],
   "source": [
    "# 거래금액 컬럼을 표준화합니다.\n"
   ]
  },
  {
   "cell_type": "code",
   "execution_count": null,
   "id": "sound-workplace",
   "metadata": {},
   "outputs": [],
   "source": [
    "# 표준화된 데이터의 절대값이 2 초과인 건의 인덱스 배열을 생성합니다.\n"
   ]
  },
  {
   "cell_type": "code",
   "execution_count": null,
   "id": "round-investigation",
   "metadata": {},
   "outputs": [],
   "source": [
    "# ±2 표준편차 바깥에 위치하는 데이터를 이상치로 판단한 결과를 출력합니다.\n"
   ]
  },
  {
   "cell_type": "markdown",
   "id": "korean-grounds",
   "metadata": {},
   "source": [
    "# 데이터 시각화"
   ]
  },
  {
   "cell_type": "markdown",
   "id": "sound-defense",
   "metadata": {},
   "source": [
    "## 기본 설정"
   ]
  },
  {
   "cell_type": "markdown",
   "id": "suburban-morris",
   "metadata": {},
   "source": [
    "### 그래프 관련 설정"
   ]
  },
  {
   "cell_type": "code",
   "execution_count": null,
   "id": "verified-houston",
   "metadata": {},
   "outputs": [],
   "source": [
    "# 라이브러리를 호출합니다.\n",
    "\n",
    "\n",
    "# 마이너스 기호가 제대로 출력되도록 설정합니다.\n"
   ]
  },
  {
   "cell_type": "code",
   "execution_count": null,
   "id": "positive-reasoning",
   "metadata": {},
   "outputs": [],
   "source": [
    "# 그래프의 크기와 해상도를 설정합니다.\n"
   ]
  },
  {
   "cell_type": "code",
   "execution_count": null,
   "id": "thousand-powell",
   "metadata": {},
   "outputs": [],
   "source": [
    "# 경고문구가 출력되지 않도록 설정합니다.\n"
   ]
  },
  {
   "cell_type": "markdown",
   "id": "imposed-slave",
   "metadata": {},
   "source": [
    "### 한글폰트 설정"
   ]
  },
  {
   "cell_type": "code",
   "execution_count": null,
   "id": "separated-donna",
   "metadata": {},
   "outputs": [],
   "source": [
    "# 한글폰트가 설치된 경로를 찾습니다.\n"
   ]
  },
  {
   "cell_type": "code",
   "execution_count": null,
   "id": "registered-mercy",
   "metadata": {},
   "outputs": [],
   "source": [
    "# 그래프에서 사용할 한글폰트를 설정합니다.\n"
   ]
  },
  {
   "cell_type": "markdown",
   "id": "lesser-adapter",
   "metadata": {},
   "source": [
    "### 팔레트 설정"
   ]
  },
  {
   "cell_type": "code",
   "execution_count": null,
   "id": "expensive-print",
   "metadata": {},
   "outputs": [],
   "source": [
    "# pyplot 모듈에서 제공되는 컬러맵 목록을 출력합니다.\n"
   ]
  },
  {
   "cell_type": "code",
   "execution_count": null,
   "id": "obvious-syracuse",
   "metadata": {},
   "outputs": [],
   "source": [
    "# 관심 있는 팔레트의 색상을 출력합니다.\n"
   ]
  },
  {
   "cell_type": "code",
   "execution_count": null,
   "id": "vietnamese-hebrew",
   "metadata": {},
   "outputs": [],
   "source": [
    "# 출력할 색상의 개수를 설정합니다.\n"
   ]
  },
  {
   "cell_type": "code",
   "execution_count": null,
   "id": "changed-movement",
   "metadata": {},
   "outputs": [],
   "source": [
    "# 관심 있는 컬러맵을 출력합니다.\n"
   ]
  },
  {
   "cell_type": "code",
   "execution_count": null,
   "id": "constant-prison",
   "metadata": {},
   "outputs": [],
   "source": [
    "# 관심 있는 컬러맵을 출력합니다.\n"
   ]
  },
  {
   "cell_type": "markdown",
   "id": "selected-chemical",
   "metadata": {},
   "source": [
    "### Seaborn 테마 설정"
   ]
  },
  {
   "cell_type": "code",
   "execution_count": null,
   "id": "diverse-values",
   "metadata": {},
   "outputs": [],
   "source": [
    "# 그래프에 적용될 다양한 옵션을 설정합니다.\n"
   ]
  },
  {
   "cell_type": "markdown",
   "id": "structural-synthesis",
   "metadata": {},
   "source": [
    "## 도수분포표"
   ]
  },
  {
   "cell_type": "code",
   "execution_count": null,
   "id": "dimensional-bermuda",
   "metadata": {},
   "outputs": [],
   "source": [
    "# 계급을 설정하기 위해 데이터의 최소값과 최대값을 미리 확인합니다.\n"
   ]
  },
  {
   "cell_type": "code",
   "execution_count": null,
   "id": "detected-revision",
   "metadata": {},
   "outputs": [],
   "source": [
    "# 도수분포표의 계급을 설정합니다.\n"
   ]
  },
  {
   "cell_type": "code",
   "execution_count": null,
   "id": "funky-belfast",
   "metadata": {},
   "outputs": [],
   "source": [
    "# 계급을 출력합니다. (이상, 미만)\n"
   ]
  },
  {
   "cell_type": "code",
   "execution_count": null,
   "id": "isolated-battle",
   "metadata": {},
   "outputs": [],
   "source": [
    "# 계급별 빈도수를 반환합니다.\n"
   ]
  },
  {
   "cell_type": "code",
   "execution_count": null,
   "id": "distributed-illness",
   "metadata": {},
   "outputs": [],
   "source": [
    "# 상대도수를 계산합니다.\n"
   ]
  },
  {
   "cell_type": "code",
   "execution_count": null,
   "id": "spoken-extension",
   "metadata": {},
   "outputs": [],
   "source": [
    "# 도수분포표를 데이터프레임으로 생성하여 출력합니다.\n"
   ]
  },
  {
   "cell_type": "markdown",
   "id": "located-cricket",
   "metadata": {},
   "source": [
    "## 히스토그램 그리기"
   ]
  },
  {
   "cell_type": "code",
   "execution_count": null,
   "id": "certain-organic",
   "metadata": {},
   "outputs": [],
   "source": [
    "# 히스토그램은 일변량 연속형 데이터의 분포(도수분포표)를 시각화한 것입니다.\n"
   ]
  },
  {
   "cell_type": "code",
   "execution_count": null,
   "id": "approved-garlic",
   "metadata": {},
   "outputs": [],
   "source": [
    "# 자치구별 평균 거래금액을 계산하여 데이터프레임으로 생성합니다.\n"
   ]
  },
  {
   "cell_type": "code",
   "execution_count": null,
   "id": "vietnamese-accreditation",
   "metadata": {},
   "outputs": [],
   "source": [
    "# 자치구별 평균 거래금액 데이터프레임의 인덱스를 초기화합니다.\n"
   ]
  },
  {
   "cell_type": "code",
   "execution_count": null,
   "id": "statistical-factory",
   "metadata": {},
   "outputs": [],
   "source": [
    "# 자치구별 평균 거래금액을 처음 10행만 출력합니다.\n"
   ]
  },
  {
   "cell_type": "code",
   "execution_count": null,
   "id": "missing-ridge",
   "metadata": {},
   "outputs": [],
   "source": [
    "# 강남구, 서초구, 용산구, 송파구 등 4개 자치구만 선택하여 top4를 생성합니다.\n"
   ]
  },
  {
   "cell_type": "code",
   "execution_count": null,
   "id": "derived-teacher",
   "metadata": {},
   "outputs": [],
   "source": [
    "# 상위 4개 자치구 데이터프레임의 정보를 확인합니다.\n"
   ]
  },
  {
   "cell_type": "code",
   "execution_count": null,
   "id": "fixed-duplicate",
   "metadata": {},
   "outputs": [],
   "source": [
    "# 특정 열의 값에 따라 히스토그램을 여러 개 겹쳐서 그릴 수 있습니다.\n"
   ]
  },
  {
   "cell_type": "code",
   "execution_count": null,
   "id": "beneficial-incident",
   "metadata": {},
   "outputs": [],
   "source": [
    "# 특정 열의 값에 따라 히스토그램을 나누어서 그릴 수 있습니다.\n"
   ]
  },
  {
   "cell_type": "markdown",
   "id": "incorrect-tonight",
   "metadata": {},
   "source": [
    "## 상자수염그림 그리기"
   ]
  },
  {
   "cell_type": "code",
   "execution_count": null,
   "id": "destroyed-afternoon",
   "metadata": {},
   "outputs": [],
   "source": [
    "# 상자수염그림은 연속형 데이터의 사분위수와 이상치를 시각화한 것입니다.\n"
   ]
  },
  {
   "cell_type": "code",
   "execution_count": null,
   "id": "explicit-essence",
   "metadata": {},
   "outputs": [],
   "source": [
    "# 집단별 상자수염그림을 그리면, 여러 집단의 분포를 한 눈에 비교할 수 있습니다.\n"
   ]
  },
  {
   "cell_type": "code",
   "execution_count": null,
   "id": "nonprofit-economics",
   "metadata": {},
   "outputs": [],
   "source": [
    "# 상위 4개 자치구별 상자수염그림을 그립니다.\n"
   ]
  },
  {
   "cell_type": "markdown",
   "id": "victorian-listening",
   "metadata": {},
   "source": [
    "## 막대그래프 그리기"
   ]
  },
  {
   "cell_type": "code",
   "execution_count": null,
   "id": "aggressive-official",
   "metadata": {},
   "outputs": [],
   "source": [
    "# 일변량 막대그래프는 명목형 데이터의 빈도수를 막대로 시각화한 것입니다.\n"
   ]
  },
  {
   "cell_type": "code",
   "execution_count": null,
   "id": "premium-guinea",
   "metadata": {},
   "outputs": [],
   "source": [
    "# 이변량 막대그래프는 명목형 데이터에 따라 연속형 데이터의 크기를 표현합니다.\n"
   ]
  },
  {
   "cell_type": "code",
   "execution_count": null,
   "id": "compound-juvenile",
   "metadata": {
    "scrolled": false
   },
   "outputs": [],
   "source": [
    "# 막대그래프 위에 숫자를 텍스트로 추가합니다.\n"
   ]
  },
  {
   "cell_type": "markdown",
   "id": "artistic-hometown",
   "metadata": {},
   "source": [
    "## 선그래프"
   ]
  },
  {
   "cell_type": "code",
   "execution_count": null,
   "id": "collect-credit",
   "metadata": {},
   "outputs": [],
   "source": [
    "# 선그래프를 그리기 위해 먼저 apt에 거래월 컬럼을 생성합니다.\n"
   ]
  },
  {
   "cell_type": "code",
   "execution_count": null,
   "id": "corporate-times",
   "metadata": {},
   "outputs": [],
   "source": [
    "# 월별 거래금액의 평균을 선그래프로 그립니다.\n"
   ]
  },
  {
   "cell_type": "code",
   "execution_count": null,
   "id": "smart-socket",
   "metadata": {},
   "outputs": [],
   "source": [
    "# 특정 열의 값에 따라 선그래프를 겹쳐서 그릴 수 있습니다.\n"
   ]
  },
  {
   "cell_type": "code",
   "execution_count": null,
   "id": "proper-coffee",
   "metadata": {},
   "outputs": [],
   "source": [
    "# 선그래프에 점을 추가한 그래프를 그립니다.\n"
   ]
  },
  {
   "cell_type": "markdown",
   "id": "stunning-witness",
   "metadata": {},
   "source": [
    "## 산점도 그리기"
   ]
  },
  {
   "cell_type": "code",
   "execution_count": null,
   "id": "bright-saturn",
   "metadata": {},
   "outputs": [],
   "source": [
    "# 산점도는 이변량 연속형 데이터 간 상관관계를 시각화한 것입니다.\n"
   ]
  },
  {
   "cell_type": "code",
   "execution_count": null,
   "id": "continental-apollo",
   "metadata": {
    "scrolled": false
   },
   "outputs": [],
   "source": [
    "# 특정 열의 값에 따라 산점도를 겹쳐서 그릴 수 있습니다.\n"
   ]
  },
  {
   "cell_type": "markdown",
   "id": "dietary-transparency",
   "metadata": {},
   "source": [
    "## 산점도 행렬 그리기"
   ]
  },
  {
   "cell_type": "code",
   "execution_count": null,
   "id": "moral-documentation",
   "metadata": {},
   "outputs": [],
   "source": [
    "# 산점도 행렬을 그릴 숫자 컬럼을 일부만 선택합니다. (5~6개가 적당합니다.)\n"
   ]
  },
  {
   "cell_type": "code",
   "execution_count": null,
   "id": "rough-scanner",
   "metadata": {},
   "outputs": [],
   "source": [
    "# 모든 숫자 컬럼으로 산점도 행렬을 그립니다.\n"
   ]
  },
  {
   "cell_type": "markdown",
   "id": "portuguese-field",
   "metadata": {},
   "source": [
    "---"
   ]
  }
 ],
 "metadata": {
  "kernelspec": {
   "display_name": "Python 3",
   "language": "python",
   "name": "python3"
  },
  "language_info": {
   "codemirror_mode": {
    "name": "ipython",
    "version": 3
   },
   "file_extension": ".py",
   "mimetype": "text/x-python",
   "name": "python",
   "nbconvert_exporter": "python",
   "pygments_lexer": "ipython3",
   "version": "3.8.2"
  },
  "toc": {
   "base_numbering": 1,
   "nav_menu": {},
   "number_sections": true,
   "sideBar": true,
   "skip_h1_title": false,
   "title_cell": "Table of Contents",
   "title_sidebar": "Contents",
   "toc_cell": false,
   "toc_position": {},
   "toc_section_display": true,
   "toc_window_display": false
  },
  "varInspector": {
   "cols": {
    "lenName": 16,
    "lenType": 16,
    "lenVar": 40
   },
   "kernels_config": {
    "python": {
     "delete_cmd_postfix": "",
     "delete_cmd_prefix": "del ",
     "library": "var_list.py",
     "varRefreshCmd": "print(var_dic_list())"
    },
    "r": {
     "delete_cmd_postfix": ") ",
     "delete_cmd_prefix": "rm(",
     "library": "var_list.r",
     "varRefreshCmd": "cat(var_dic_list()) "
    }
   },
   "types_to_exclude": [
    "module",
    "function",
    "builtin_function_or_method",
    "instance",
    "_Feature"
   ],
   "window_display": false
  }
 },
 "nbformat": 4,
 "nbformat_minor": 5
}
