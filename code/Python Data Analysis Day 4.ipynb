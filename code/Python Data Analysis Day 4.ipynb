{
 "cells": [
  {
   "cell_type": "markdown",
   "id": "overall-mathematics",
   "metadata": {},
   "source": [
    "<p style=\"font-family:verdana;font-size:200%;text-align:center;\">Python Data Analysis Day 4</p>"
   ]
  },
  {
   "cell_type": "markdown",
   "id": "korean-grounds",
   "metadata": {},
   "source": [
    "## 데이터 시각화"
   ]
  },
  {
   "cell_type": "markdown",
   "id": "monthly-progressive",
   "metadata": {},
   "source": [
    "### 실습 데이터셋 준비"
   ]
  },
  {
   "cell_type": "code",
   "execution_count": null,
   "id": "premier-federal",
   "metadata": {},
   "outputs": [],
   "source": [
    "# 관련 라이브러리를 호출합니다.\n",
    "import os\n",
    "import numpy as np\n",
    "import pandas as pd"
   ]
  },
  {
   "cell_type": "code",
   "execution_count": null,
   "id": "minute-revelation",
   "metadata": {},
   "outputs": [],
   "source": [
    "# 작업경로를 data 폴더로 변경합니다.\n",
    "os.chdir('../data')"
   ]
  },
  {
   "cell_type": "code",
   "execution_count": null,
   "id": "statutory-pattern",
   "metadata": {},
   "outputs": [],
   "source": [
    "# 현재 작업경로에 포함된 폴더명과 파일명을 출력합니다.\n",
    "os.listdir()"
   ]
  },
  {
   "cell_type": "code",
   "execution_count": null,
   "id": "juvenile-effects",
   "metadata": {},
   "outputs": [],
   "source": [
    "# 실습할 csv 파일명을 fileName에 할당합니다.\n",
    "fileName = 'APT_List_Seoul_2020.xlsx'"
   ]
  },
  {
   "cell_type": "code",
   "execution_count": null,
   "id": "residential-spyware",
   "metadata": {},
   "outputs": [],
   "source": [
    "# 아파트 csv 파일을 읽고 데이터프레임을 생성합니다.\n",
    "apt = pd.read_excel(fileName)"
   ]
  },
  {
   "cell_type": "markdown",
   "id": "sound-defense",
   "metadata": {},
   "source": [
    "### 관련 라이브러리 호출 및 기본 설정"
   ]
  },
  {
   "cell_type": "code",
   "execution_count": null,
   "id": "verified-houston",
   "metadata": {},
   "outputs": [],
   "source": [
    "# 관련 라이브러리를 호출합니다.\n",
    "import seaborn as sns\n",
    "import matplotlib.pyplot as plt\n",
    "import matplotlib.font_manager as fm"
   ]
  },
  {
   "cell_type": "code",
   "execution_count": null,
   "id": "positive-reasoning",
   "metadata": {},
   "outputs": [],
   "source": [
    "# 그래프의 크기와 해상도를 설정합니다.\n",
    "plt.rcParams['figure.figsize'] = (12, 6)\n",
    "plt.rcParams['figure.dpi'] = 100"
   ]
  },
  {
   "cell_type": "markdown",
   "id": "imposed-slave",
   "metadata": {},
   "source": [
    "### 한글폰트 설정"
   ]
  },
  {
   "cell_type": "code",
   "execution_count": null,
   "id": "separated-donna",
   "metadata": {},
   "outputs": [],
   "source": [
    "# 한글폰트가 설치된 경로를 찾습니다.\n",
    "fontList = fm.findSystemFonts(fontext = 'ttf')"
   ]
  },
  {
   "cell_type": "code",
   "execution_count": null,
   "id": "informational-giant",
   "metadata": {},
   "outputs": [],
   "source": [
    "# 한글폰트명으로 검색합니다.\n",
    "[font for font in fontList if 'Nanum' in font]"
   ]
  },
  {
   "cell_type": "code",
   "execution_count": null,
   "id": "registered-mercy",
   "metadata": {},
   "outputs": [],
   "source": [
    "# 한글폰트 경로를 설정합니다.\n",
    "fontPath = '/Library/Fonts/NanumGothic.ttf'"
   ]
  },
  {
   "cell_type": "code",
   "execution_count": null,
   "id": "eleven-wound",
   "metadata": {},
   "outputs": [],
   "source": [
    "# 한글폰트 정보를 저장합니다.\n",
    "fontProp = fm.FontProperties(fname = fontPath)"
   ]
  },
  {
   "cell_type": "code",
   "execution_count": null,
   "id": "sized-citation",
   "metadata": {},
   "outputs": [],
   "source": [
    "# 한글폰트를 설정합니다.\n",
    "plt.rcParams['font.family'] = fontProp.get_name()\n",
    "plt.rcParams['font.size'] = 14"
   ]
  },
  {
   "cell_type": "code",
   "execution_count": null,
   "id": "racial-framework",
   "metadata": {},
   "outputs": [],
   "source": [
    "# [참고] 그래프에서 한글이 네모로 출력되는 에러를 해결하는 방법을 소개합니다.\n",
    "import matplotlib as mpl\n",
    "mpl.get_cachedir()"
   ]
  },
  {
   "cell_type": "code",
   "execution_count": null,
   "id": "floppy-bearing",
   "metadata": {},
   "outputs": [],
   "source": [
    "# 위 코드를 실행해서 출력되는 폴더에 포함된 파일을 확인합니다.\n",
    "os.listdir('/Users/drkevin/.matplotlib')"
   ]
  },
  {
   "cell_type": "code",
   "execution_count": null,
   "id": "incorporated-tiger",
   "metadata": {},
   "outputs": [],
   "source": [
    "# 위 폴더에 포함된 파일을 삭제합니다.\n",
    "os.remove('/Users/drkevin/.matplotlib/fontlist-v330.json')\n",
    "\n",
    "# 주피터 노트북을 재실행하면 한글폰트가 제대로 설정됩니다."
   ]
  },
  {
   "cell_type": "markdown",
   "id": "structural-synthesis",
   "metadata": {},
   "source": [
    "### 도수분포표"
   ]
  },
  {
   "cell_type": "code",
   "execution_count": null,
   "id": "dimensional-bermuda",
   "metadata": {},
   "outputs": [],
   "source": [
    "# 계급을 설정하기 위해 데이터의 최소값과 최대값을 미리 확인합니다.\n",
    "apt['거래금액'].describe()"
   ]
  },
  {
   "cell_type": "code",
   "execution_count": null,
   "id": "detected-revision",
   "metadata": {},
   "outputs": [],
   "source": [
    "# 도수분포표의 계급을 설정합니다.\n",
    "bins = np.arange(0, 79, 2)"
   ]
  },
  {
   "cell_type": "code",
   "execution_count": null,
   "id": "funky-belfast",
   "metadata": {},
   "outputs": [],
   "source": [
    "# 계급을 출력합니다. (이상, 미만)\n",
    "bins"
   ]
  },
  {
   "cell_type": "code",
   "execution_count": null,
   "id": "isolated-battle",
   "metadata": {},
   "outputs": [],
   "source": [
    "# 계급별 빈도수를 반환합니다.\n",
    "freq, edge = np.histogram(apt['거래금액'], bins)"
   ]
  },
  {
   "cell_type": "code",
   "execution_count": null,
   "id": "distributed-illness",
   "metadata": {},
   "outputs": [],
   "source": [
    "# 상대도수를 계산합니다.\n",
    "prop = (freq / len(apt['거래금액'])).round(4)"
   ]
  },
  {
   "cell_type": "code",
   "execution_count": null,
   "id": "spoken-extension",
   "metadata": {},
   "outputs": [],
   "source": [
    "# 도수분포표를 데이터프레임으로 생성하여 출력합니다.\n",
    "pd.DataFrame([bins, freq, prop], index = ['계급', '도수', '상대도수']).T"
   ]
  },
  {
   "cell_type": "markdown",
   "id": "located-cricket",
   "metadata": {},
   "source": [
    "### 히스토그램 그리기"
   ]
  },
  {
   "cell_type": "code",
   "execution_count": null,
   "id": "certain-organic",
   "metadata": {},
   "outputs": [],
   "source": [
    "# 히스토그램은 일변량 연속형 데이터의 분포(도수분포표)를 시각화한 것입니다.\n",
    "sns.histplot(data = apt, \n",
    "             x = '거래금액', \n",
    "             bins = bins,\n",
    "             color = '0.5')\n",
    "plt.title('거래금액 히스토그램')\n",
    "plt.show()"
   ]
  },
  {
   "cell_type": "code",
   "execution_count": null,
   "id": "approved-garlic",
   "metadata": {},
   "outputs": [],
   "source": [
    "# 관심 있는 3개 시군구만 선택하여 top3를 생성합니다.\n",
    "top3 = apt.loc[apt['시군구'].str.contains('강남|강동|강북')]\n",
    "top3.info()"
   ]
  },
  {
   "cell_type": "code",
   "execution_count": null,
   "id": "incorporated-profile",
   "metadata": {},
   "outputs": [],
   "source": [
    "# 새로 생성한 top3의 거래금액 컬럼의 최소값과 최대값을 확인합니다.\n",
    "top3['거래금액'].describe()"
   ]
  },
  {
   "cell_type": "code",
   "execution_count": null,
   "id": "metropolitan-province",
   "metadata": {},
   "outputs": [],
   "source": [
    "# 새로 생성한 top3의 거래금액 컬럼에 대한 계급을 설정합니다.\n",
    "bins = np.arange(0, 69, 1)\n",
    "bins"
   ]
  },
  {
   "cell_type": "code",
   "execution_count": null,
   "id": "fixed-duplicate",
   "metadata": {},
   "outputs": [],
   "source": [
    "# 특정 컬럼의 값에 따라 히스토그램을 여러 개 겹쳐서 그릴 수 있습니다.\n",
    "sns.histplot(data = top3, \n",
    "             x = '거래금액', \n",
    "             hue = '시군구', \n",
    "             palette = 'Dark2',\n",
    "             bins = bins)\n",
    "plt.show()"
   ]
  },
  {
   "cell_type": "markdown",
   "id": "lesser-adapter",
   "metadata": {},
   "source": [
    "### 색상 팔레트 설정"
   ]
  },
  {
   "cell_type": "code",
   "execution_count": null,
   "id": "expensive-print",
   "metadata": {},
   "outputs": [],
   "source": [
    "# pyplot 모듈에서 제공되는 컬러맵 목록을 출력합니다.\n",
    "dir(plt.cm)"
   ]
  },
  {
   "cell_type": "code",
   "execution_count": null,
   "id": "obvious-syracuse",
   "metadata": {},
   "outputs": [],
   "source": [
    "# 기본 팔레트의 색상을 출력합니다.\n",
    "sns.color_palette('deep')"
   ]
  },
  {
   "cell_type": "code",
   "execution_count": null,
   "id": "constant-prison",
   "metadata": {},
   "outputs": [],
   "source": [
    "# 관심 있는 팔레트에 포함된 색상을 출력합니다.\n",
    "sns.color_palette('Dark2')"
   ]
  },
  {
   "cell_type": "code",
   "execution_count": null,
   "id": "vietnamese-hebrew",
   "metadata": {},
   "outputs": [],
   "source": [
    "# 출력할 색상의 개수를 설정합니다.\n",
    "sns.color_palette('Dark2', 10)"
   ]
  },
  {
   "cell_type": "code",
   "execution_count": null,
   "id": "changed-movement",
   "metadata": {},
   "outputs": [],
   "source": [
    "# 관심 있는 컬러맵을 출력합니다.\n",
    "sns.color_palette('Spectral', 10)"
   ]
  },
  {
   "cell_type": "code",
   "execution_count": null,
   "id": "beneficial-incident",
   "metadata": {},
   "outputs": [],
   "source": [
    "# 특정 컬럼의 값에 따라 히스토그램을 나누어서 그릴 수 있습니다.\n",
    "sns.displot(data = top3, \n",
    "            x = '거래금액', \n",
    "            col = '시군구', \n",
    "            bins = bins,\n",
    "            color = 'blue')\n",
    "plt.show()"
   ]
  },
  {
   "cell_type": "markdown",
   "id": "incorrect-tonight",
   "metadata": {},
   "source": [
    "### 상자수염그림 그리기"
   ]
  },
  {
   "cell_type": "code",
   "execution_count": null,
   "id": "destroyed-afternoon",
   "metadata": {},
   "outputs": [],
   "source": [
    "# 상자수염그림은 연속형 데이터의 사분위수와 이상치를 시각화한 것입니다.\n",
    "sns.boxplot(data = apt, \n",
    "            y = '거래금액', \n",
    "            color = 'gold',\n",
    "            fliersize = 4)\n",
    "sns.despine(bottom = True)\n",
    "plt.show()"
   ]
  },
  {
   "cell_type": "code",
   "execution_count": null,
   "id": "explicit-essence",
   "metadata": {},
   "outputs": [],
   "source": [
    "# 집단별 상자수염그림을 그리면 여러 집단의 분포를 한 눈에 비교할 수 있습니다.\n",
    "sns.boxplot(data = apt, \n",
    "            x = '시군구', \n",
    "            y = '거래금액', \n",
    "            fliersize = 4)\n",
    "plt.xticks(rotation = 30)\n",
    "plt.show()"
   ]
  },
  {
   "cell_type": "markdown",
   "id": "victorian-listening",
   "metadata": {},
   "source": [
    "### 일변량 막대그래프 그리기"
   ]
  },
  {
   "cell_type": "code",
   "execution_count": null,
   "id": "aggressive-official",
   "metadata": {},
   "outputs": [],
   "source": [
    "# 일변량 막대그래프는 명목형 데이터의 빈도수를 막대로 시각화한 것입니다.\n",
    "sns.countplot(data = apt, \n",
    "              x = '시군구', \n",
    "              hue = '금액구분',\n",
    "              palette = 'CMRmap')\n",
    "plt.xticks(rotation = 30)\n",
    "plt.show()"
   ]
  },
  {
   "cell_type": "markdown",
   "id": "controlled-martin",
   "metadata": {},
   "source": [
    "### 이변량 막대그래프 그리기"
   ]
  },
  {
   "cell_type": "code",
   "execution_count": null,
   "id": "supported-ministry",
   "metadata": {},
   "outputs": [],
   "source": [
    "# 집계함수를 이용하여 시군구별 거래건수를 확인합니다.\n",
    "siggCnt = apt.groupby('시군구').count()[['거래금액']]\n",
    "siggCnt['시군구'] = siggCnt.index\n",
    "siggCnt = siggCnt.rename(columns = {'거래금액':'거래건수'})\n",
    "siggCnt = siggCnt.sort_values('거래건수', ascending = False)\n",
    "siggCnt = siggCnt.reset_index(drop = True)\n",
    "siggCnt.head()"
   ]
  },
  {
   "cell_type": "code",
   "execution_count": null,
   "id": "premium-guinea",
   "metadata": {},
   "outputs": [],
   "source": [
    "# 이변량 막대그래프는 명목형 데이터에 따라 연속형 데이터의 크기를 표현합니다.\n",
    "sns.barplot(data = siggCnt,\n",
    "            x = '시군구', \n",
    "            y = '거래건수')\n",
    "plt.xticks(rotation = 30)\n",
    "plt.show()"
   ]
  },
  {
   "cell_type": "code",
   "execution_count": null,
   "id": "compound-juvenile",
   "metadata": {
    "scrolled": false
   },
   "outputs": [],
   "source": [
    "# 막대그래프 위에 숫자를 텍스트로 추가합니다.\n",
    "sns.barplot(data = siggCnt, x = '시군구', y = '거래건수')\n",
    "\n",
    "for index, row in siggCnt.iterrows():\n",
    "    plt.text(x = index, y = row['거래건수'] + 100, s = row['거래건수'], \n",
    "             fontsize = 12, ha = 'center', va = 'bottom', c = 'black')\n",
    "\n",
    "plt.xticks(rotation = 30)\n",
    "plt.ylim(0, 8500)\n",
    "plt.show()"
   ]
  },
  {
   "cell_type": "markdown",
   "id": "artistic-hometown",
   "metadata": {},
   "source": [
    "### 선그래프 그리기"
   ]
  },
  {
   "cell_type": "code",
   "execution_count": null,
   "id": "collect-credit",
   "metadata": {},
   "outputs": [],
   "source": [
    "# apt에 거래월 컬럼을 정수형 시리즈로 생성합니다.\n",
    "apt['거래월'] = apt['거래일'].dt.month"
   ]
  },
  {
   "cell_type": "code",
   "execution_count": null,
   "id": "corporate-times",
   "metadata": {},
   "outputs": [],
   "source": [
    "# 월별 거래금액의 평균을 선그래프로 그립니다.\n",
    "sns.lineplot(data = apt, x = '거래월', y = '거래금액')\n",
    "plt.show()"
   ]
  },
  {
   "cell_type": "code",
   "execution_count": null,
   "id": "proper-coffee",
   "metadata": {},
   "outputs": [],
   "source": [
    "# 선그래프에 점을 추가한 그래프를 그립니다.\n",
    "sns.pointplot(data = apt, x = '거래월', y = '거래금액')\n",
    "plt.show()"
   ]
  },
  {
   "cell_type": "code",
   "execution_count": null,
   "id": "promotional-marketplace",
   "metadata": {},
   "outputs": [],
   "source": [
    "# 관심 있는 4개 자치구를 선택하고, 거래월 컬럼을 생성합니다.\n",
    "top4 = apt.loc[apt['시군구'].str.contains('강남|서초|용산|송파')]\n",
    "top4['거래월'] = top4['거래일'].dt.month"
   ]
  },
  {
   "cell_type": "code",
   "execution_count": null,
   "id": "smart-socket",
   "metadata": {},
   "outputs": [],
   "source": [
    "# 선그래프를 겹쳐서 그립니다.\n",
    "sns.lineplot(data = top4, x = '거래월', y = '거래금액', \n",
    "             hue = '시군구', palette = 'Dark2', ci = None)\n",
    "plt.show()"
   ]
  },
  {
   "cell_type": "markdown",
   "id": "stunning-witness",
   "metadata": {},
   "source": [
    "### 산점도 그리기"
   ]
  },
  {
   "cell_type": "code",
   "execution_count": null,
   "id": "bright-saturn",
   "metadata": {},
   "outputs": [],
   "source": [
    "# 산점도는 이변량 연속형 데이터 간 상관관계를 시각화한 것입니다.\n",
    "sns.scatterplot(data = apt, x = '전용면적', y = '거래금액', \n",
    "                hue = '금액구분', palette = 'Dark2', \n",
    "                edgecolor = 'black', linewidth = 0.5)\n",
    "plt.show()"
   ]
  },
  {
   "cell_type": "code",
   "execution_count": null,
   "id": "continental-apollo",
   "metadata": {
    "scrolled": false
   },
   "outputs": [],
   "source": [
    "# 특정 컬럼의 값에 따라 산점도를 겹쳐서 그릴 수 있습니다.\n",
    "sns.scatterplot(data = top3, x = '전용면적', y = '거래금액', \n",
    "                hue = '시군구', palette = 'Dark2',\n",
    "                edgecolor = 'white', linewidth = 0.5)\n",
    "plt.show()"
   ]
  },
  {
   "cell_type": "markdown",
   "id": "dietary-transparency",
   "metadata": {},
   "source": [
    "### 산점도 행렬 그리기"
   ]
  },
  {
   "cell_type": "code",
   "execution_count": null,
   "id": "moral-documentation",
   "metadata": {},
   "outputs": [],
   "source": [
    "# 산점도 행렬을 그릴 일부 숫자 컬럼을 선택합니다. (5~6개가 적당합니다.)\n",
    "top3 = top3.loc[:, ['시군구', '거래금액', '전용면적', '층', '세대수']]"
   ]
  },
  {
   "cell_type": "code",
   "execution_count": null,
   "id": "rough-scanner",
   "metadata": {},
   "outputs": [],
   "source": [
    "# 선택한 숫자 컬럼으로 산점도 행렬을 그립니다.\n",
    "sns.pairplot(data = top3, hue = '시군구', palette = 'Dark2')\n",
    "plt.show()"
   ]
  },
  {
   "cell_type": "markdown",
   "id": "portuguese-field",
   "metadata": {},
   "source": [
    "<p style=\"font-family:verdana;font-size:200%;text-align:center;\">End of Document</p>"
   ]
  }
 ],
 "metadata": {
  "kernelspec": {
   "display_name": "Python 3",
   "language": "python",
   "name": "python3"
  },
  "language_info": {
   "codemirror_mode": {
    "name": "ipython",
    "version": 3
   },
   "file_extension": ".py",
   "mimetype": "text/x-python",
   "name": "python",
   "nbconvert_exporter": "python",
   "pygments_lexer": "ipython3",
   "version": "3.9.2"
  },
  "toc": {
   "base_numbering": 1,
   "nav_menu": {},
   "number_sections": true,
   "sideBar": true,
   "skip_h1_title": false,
   "title_cell": "Table of Contents",
   "title_sidebar": "Contents",
   "toc_cell": false,
   "toc_position": {},
   "toc_section_display": true,
   "toc_window_display": false
  },
  "varInspector": {
   "cols": {
    "lenName": 16,
    "lenType": 16,
    "lenVar": 40
   },
   "kernels_config": {
    "python": {
     "delete_cmd_postfix": "",
     "delete_cmd_prefix": "del ",
     "library": "var_list.py",
     "varRefreshCmd": "print(var_dic_list())"
    },
    "r": {
     "delete_cmd_postfix": ") ",
     "delete_cmd_prefix": "rm(",
     "library": "var_list.r",
     "varRefreshCmd": "cat(var_dic_list()) "
    }
   },
   "types_to_exclude": [
    "module",
    "function",
    "builtin_function_or_method",
    "instance",
    "_Feature"
   ],
   "window_display": false
  }
 },
 "nbformat": 4,
 "nbformat_minor": 5
}
