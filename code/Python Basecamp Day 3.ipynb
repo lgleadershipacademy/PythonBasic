{
 "cells": [
  {
   "cell_type": "markdown",
   "id": "introductory-license",
   "metadata": {},
   "source": [
    "# dfply 기초"
   ]
  },
  {
   "cell_type": "markdown",
   "id": "hybrid-jacksonville",
   "metadata": {},
   "source": [
    "## 실습 데이터셋 준비"
   ]
  },
  {
   "cell_type": "code",
   "execution_count": null,
   "id": "modern-warrant",
   "metadata": {},
   "outputs": [],
   "source": [
    "# 관련 라이브러리를 호출합니다.\n",
    "import os\n",
    "from dfply import *"
   ]
  },
  {
   "cell_type": "code",
   "execution_count": null,
   "id": "tamil-establishment",
   "metadata": {},
   "outputs": [],
   "source": [
    "# 현재 작업경로를 확인합니다.\n",
    "os.getcwd()"
   ]
  },
  {
   "cell_type": "code",
   "execution_count": null,
   "id": "obvious-circumstances",
   "metadata": {},
   "outputs": [],
   "source": [
    "# 작업경로를 data 폴더로 변경합니다.\n",
    "os.chdir('../data')"
   ]
  },
  {
   "cell_type": "code",
   "execution_count": null,
   "id": "adapted-reliance",
   "metadata": {},
   "outputs": [],
   "source": [
    "# 현재 경로에 포함된 폴더명과 파일명을 출력합니다.\n",
    "os.listdir()"
   ]
  },
  {
   "cell_type": "markdown",
   "id": "light-broad",
   "metadata": {},
   "source": [
    "## 컬럼 선택 및 제거"
   ]
  },
  {
   "cell_type": "code",
   "execution_count": null,
   "id": "hearing-calendar",
   "metadata": {},
   "outputs": [],
   "source": [
    "# xlsx 파일을 읽고 데이터프레임을 생성합니다.\n",
    "kbo = pd.read_excel('KBO_Hitters_2020.xlsx')"
   ]
  },
  {
   "cell_type": "code",
   "execution_count": null,
   "id": "private-compensation",
   "metadata": {},
   "outputs": [],
   "source": [
    "# 데이터프레임에서 필요한 컬럼명을 지정하여 해당 열을 선택합니다.\n",
    "kbo >> select(X['팀명'], X['선수명'], X['경기'])"
   ]
  },
  {
   "cell_type": "code",
   "execution_count": null,
   "id": "applied-limitation",
   "metadata": {},
   "outputs": [],
   "source": [
    "# 컬럼명 대신 정수 인덱스를 나열해도 됩니다.\n",
    "kbo >> select(1, 0, 2)"
   ]
  },
  {
   "cell_type": "code",
   "execution_count": null,
   "id": "accepted-banks",
   "metadata": {},
   "outputs": [],
   "source": [
    "# 컬럼명 앞에 ~ 기호를 추가하면 삭제합니다.\n",
    "kbo >> select(~X['타율'], ~X['OPS'])"
   ]
  },
  {
   "cell_type": "code",
   "execution_count": null,
   "id": "secret-posting",
   "metadata": {},
   "outputs": [],
   "source": [
    "# 데이터프레임에서 불필요한 열을 제거합니다.\n",
    "kbo >>= drop(X['타율'], X['OPS'])"
   ]
  },
  {
   "cell_type": "markdown",
   "id": "respective-statement",
   "metadata": {},
   "source": [
    "## 조건에 맞는 행 걸러내기"
   ]
  },
  {
   "cell_type": "code",
   "execution_count": null,
   "id": "combined-charlotte",
   "metadata": {},
   "outputs": [],
   "source": [
    "# kbo에서 홈런이 30 이상인 행만 선택합니다.\n",
    "kbo >> mask(X['홈런'] >= 30)"
   ]
  },
  {
   "cell_type": "code",
   "execution_count": null,
   "id": "coral-addiction",
   "metadata": {},
   "outputs": [],
   "source": [
    "# kbo에서 안타가 150 이상인 행만 선택합니다.\n",
    "kbo >> mask(X['안타'] >= 150)"
   ]
  },
  {
   "cell_type": "code",
   "execution_count": null,
   "id": "second-horizontal",
   "metadata": {},
   "outputs": [],
   "source": [
    "# kbo에서 타점이 100 이상인 행만 선택합니다.\n",
    "kbo >> mask(X['타점'] >= 100)"
   ]
  },
  {
   "cell_type": "code",
   "execution_count": null,
   "id": "separated-maldives",
   "metadata": {},
   "outputs": [],
   "source": [
    "# 세 가지 조건을 모두 만족하는 행을 선택합니다.\n",
    "kbo >> mask(X['홈런'] >= 30, X['안타'] >= 150, X['타점'] >= 100)"
   ]
  },
  {
   "cell_type": "code",
   "execution_count": null,
   "id": "continental-seating",
   "metadata": {},
   "outputs": [],
   "source": [
    "# pandas 방식으로 세 가지 조건을 만족하는 행을 선택합니다.\n",
    "kbo[(kbo['홈런'] >= 30) & (kbo['안타'] >= 150) & (kbo['타점'] >= 100)]"
   ]
  },
  {
   "cell_type": "markdown",
   "id": "alike-transparency",
   "metadata": {},
   "source": [
    "## 집계함수로 데이터 요약"
   ]
  },
  {
   "cell_type": "code",
   "execution_count": null,
   "id": "desperate-admission",
   "metadata": {},
   "outputs": [],
   "source": [
    "# 팀별 안타 합계 및 타수 합계 컬럼을 생성하여 데이터프레임을 반환합니다.\n",
    "teamStat = kbo \\\n",
    ">> group_by(X['팀명']) \\\n",
    ">> summarize(팀타수 = X['타수'].sum(), \n",
    "             팀안타 = X['안타'].sum())"
   ]
  },
  {
   "cell_type": "code",
   "execution_count": null,
   "id": "indie-filename",
   "metadata": {},
   "outputs": [],
   "source": [
    "# teamStat의 정보를 확인합니다.\n",
    "teamStat.info()"
   ]
  },
  {
   "cell_type": "code",
   "execution_count": null,
   "id": "reserved-translator",
   "metadata": {},
   "outputs": [],
   "source": [
    "# teamStat을 출력합니다.\n",
    "teamStat"
   ]
  },
  {
   "cell_type": "markdown",
   "id": "finite-creator",
   "metadata": {},
   "source": [
    "## 파생변수 생성"
   ]
  },
  {
   "cell_type": "code",
   "execution_count": null,
   "id": "demanding-corps",
   "metadata": {},
   "outputs": [],
   "source": [
    "# teamStat에서 팀타율 컬럼을 생성합니다.\n",
    "teamStat >>= mutate(팀타율 = (X['팀안타'] / X['팀타수']).round(3))"
   ]
  },
  {
   "cell_type": "code",
   "execution_count": null,
   "id": "welsh-stone",
   "metadata": {},
   "outputs": [],
   "source": [
    "# teamStat을 출력합니다.\n",
    "teamStat"
   ]
  },
  {
   "cell_type": "markdown",
   "id": "graduate-august",
   "metadata": {},
   "source": [
    "## 데이터 정렬"
   ]
  },
  {
   "cell_type": "code",
   "execution_count": null,
   "id": "beautiful-story",
   "metadata": {},
   "outputs": [],
   "source": [
    "# teamStat에서 팀타율 기준으로 내림차순 정렬합니다.\n",
    "teamStat >>= ungroup() >> arrange(X['팀타율'], ascending = False)"
   ]
  },
  {
   "cell_type": "code",
   "execution_count": null,
   "id": "associate-swing",
   "metadata": {},
   "outputs": [],
   "source": [
    "# teamStat을 출력합니다.\n",
    "teamStat"
   ]
  },
  {
   "cell_type": "markdown",
   "id": "instrumental-martial",
   "metadata": {},
   "source": [
    "## [참고] 그룹 & 집계 & 파생변수 & 정렬을 한 번에 실행"
   ]
  },
  {
   "cell_type": "code",
   "execution_count": null,
   "id": "decreased-translator",
   "metadata": {},
   "outputs": [],
   "source": [
    "# kbo에서 팀별 팀안타, 팀타수 컬럼을 생성하고 팀타율을 계산하여 반환합니다.\n",
    "kbo \\\n",
    ">> group_by(X['팀명']) \\\n",
    ">> summarize(팀타수 = X['타수'].sum(), 팀안타 = X['안타'].sum()) \\\n",
    ">> mutate(팀타율 = (X['팀안타'] / X['팀타수']).round(3)) \\\n",
    ">> ungroup() \\\n",
    ">> arrange(X['팀타율'], ascending = False)"
   ]
  },
  {
   "cell_type": "markdown",
   "id": "disturbed-richards",
   "metadata": {},
   "source": [
    "# 기술통계 분석"
   ]
  },
  {
   "cell_type": "markdown",
   "id": "familiar-illustration",
   "metadata": {},
   "source": [
    "## 실습 데이터셋 준비"
   ]
  },
  {
   "cell_type": "code",
   "execution_count": null,
   "id": "studied-housing",
   "metadata": {},
   "outputs": [],
   "source": [
    "# 관련 라이브러리를 호출합니다.\n",
    "import numpy as np\n",
    "import pandas as pd\n",
    "import chardet"
   ]
  },
  {
   "cell_type": "code",
   "execution_count": null,
   "id": "current-inspiration",
   "metadata": {},
   "outputs": [],
   "source": [
    "# 현재 작업경로에 포함된 폴더명과 파일명을 출력합니다.\n",
    "os.listdir()"
   ]
  },
  {
   "cell_type": "code",
   "execution_count": null,
   "id": "thorough-information",
   "metadata": {},
   "outputs": [],
   "source": [
    "# 실습할 csv 파일명을 fileName에 할당합니다.\n",
    "fileName = 'APT_List_Seoul_2020.csv'"
   ]
  },
  {
   "cell_type": "code",
   "execution_count": null,
   "id": "recent-suspect",
   "metadata": {},
   "outputs": [],
   "source": [
    "# csv 파일을 'bytes'로 읽습니다.\n",
    "raw = open(fileName, 'rb').read()"
   ]
  },
  {
   "cell_type": "code",
   "execution_count": null,
   "id": "usual-isaac",
   "metadata": {},
   "outputs": [],
   "source": [
    "# 텍스트 파일의 문자 인코딩 방식을 확인합니다.\n",
    "chardet.detect(raw[:100])"
   ]
  },
  {
   "cell_type": "code",
   "execution_count": null,
   "id": "aquatic-pilot",
   "metadata": {},
   "outputs": [],
   "source": [
    "# 아파트 csv 파일을 읽고 데이터프레임을 생성합니다.\n",
    "apt = pd.read_csv(fileName)"
   ]
  },
  {
   "cell_type": "code",
   "execution_count": null,
   "id": "adverse-vector",
   "metadata": {},
   "outputs": [],
   "source": [
    "# apt의 정보를 확인합니다.\n",
    "apt.info()"
   ]
  },
  {
   "cell_type": "code",
   "execution_count": null,
   "id": "absent-turkey",
   "metadata": {},
   "outputs": [],
   "source": [
    "# 거래일 컬럼의 자료형을 'datetime64'로 변환합니다.\n",
    "apt['거래일'] = pd.to_datetime(apt['거래일'])"
   ]
  },
  {
   "cell_type": "code",
   "execution_count": null,
   "id": "compressed-barcelona",
   "metadata": {},
   "outputs": [],
   "source": [
    "# apt의 컬럼별 자료형을 출력합니다.\n",
    "apt.dtypes"
   ]
  },
  {
   "cell_type": "markdown",
   "id": "computational-bachelor",
   "metadata": {},
   "source": [
    "## 대푯값 : 평균, 절사평균"
   ]
  },
  {
   "cell_type": "code",
   "execution_count": null,
   "id": "pressed-techno",
   "metadata": {},
   "outputs": [],
   "source": [
    "# 거래금액 컬럼의 평균을 반환합니다.\n",
    "apt['거래금액'].mean()"
   ]
  },
  {
   "cell_type": "code",
   "execution_count": null,
   "id": "exact-wells",
   "metadata": {},
   "outputs": [],
   "source": [
    "# scipy.stats 모듈을 호출합니다.\n",
    "from scipy import stats"
   ]
  },
  {
   "cell_type": "code",
   "execution_count": null,
   "id": "acceptable-dialogue",
   "metadata": {},
   "outputs": [],
   "source": [
    "# 양 극단에서 10%씩 제외한 평균을 계산합니다.\n",
    "stats.trim_mean(apt['거래금액'], 0.1)"
   ]
  },
  {
   "cell_type": "markdown",
   "id": "dressed-hobby",
   "metadata": {},
   "source": [
    "## 대푯값 : 중위수"
   ]
  },
  {
   "cell_type": "code",
   "execution_count": null,
   "id": "moral-tattoo",
   "metadata": {},
   "outputs": [],
   "source": [
    "# 거래금액 컬럼의 중위수를 반환합니다.\n",
    "apt['거래금액'].median()"
   ]
  },
  {
   "cell_type": "code",
   "execution_count": null,
   "id": "framed-firewall",
   "metadata": {},
   "outputs": [],
   "source": [
    "# [주의] 양 극단의 50%씩 절사한 평균을 계산하면 원소 개수에 따라 중위수 또는 결측값을 반환합니다.\n",
    "stats.trim_mean(apt['거래금액'], 0.5)"
   ]
  },
  {
   "cell_type": "code",
   "execution_count": null,
   "id": "peaceful-virgin",
   "metadata": {},
   "outputs": [],
   "source": [
    "# 원소 개수가 홀수이면 결측값 대신 중위수를 반환합니다.\n",
    "stats.trim_mean(range(11), 0.5)"
   ]
  },
  {
   "cell_type": "markdown",
   "id": "contemporary-difficulty",
   "metadata": {},
   "source": [
    "## 대푯값 : 최빈값"
   ]
  },
  {
   "cell_type": "code",
   "execution_count": null,
   "id": "mounted-beverage",
   "metadata": {
    "scrolled": true
   },
   "outputs": [],
   "source": [
    "# 시군구 컬럼의 최빈값을 반환합니다.\n",
    "apt['시군구'].mode()"
   ]
  },
  {
   "cell_type": "code",
   "execution_count": null,
   "id": "renewable-authority",
   "metadata": {},
   "outputs": [],
   "source": [
    "# 라이브러리를 호출합니다.\n",
    "from dfply import *"
   ]
  },
  {
   "cell_type": "code",
   "execution_count": null,
   "id": "monthly-dispute",
   "metadata": {},
   "outputs": [],
   "source": [
    "# 집계함수를 이용하여 시군구별 거래건수를 확인합니다.\n",
    "apt \\\n",
    ">> group_by(X['시군구']) \\\n",
    ">> summarize(거래건수 = X['시군구'].count()) \\\n",
    ">> ungroup() \\\n",
    ">> arrange(X['거래건수'], ascending = False)"
   ]
  },
  {
   "cell_type": "markdown",
   "id": "painted-plymouth",
   "metadata": {},
   "source": [
    "## 분포 : 범위"
   ]
  },
  {
   "cell_type": "code",
   "execution_count": null,
   "id": "vital-illustration",
   "metadata": {},
   "outputs": [],
   "source": [
    "# 거래금액 컬럼의 최소값을 반환합니다.\n",
    "apt['거래금액'].min()"
   ]
  },
  {
   "cell_type": "code",
   "execution_count": null,
   "id": "complex-quick",
   "metadata": {},
   "outputs": [],
   "source": [
    "# 거래금액 컬럼의 최대값을 반환합니다.\n",
    "apt['거래금액'].max()"
   ]
  },
  {
   "cell_type": "code",
   "execution_count": null,
   "id": "rolled-blanket",
   "metadata": {},
   "outputs": [],
   "source": [
    "# 거래금액 컬럼의 범위를 반환합니다.\n",
    "apt['거래금액'].max() - apt['거래금액'].min()"
   ]
  },
  {
   "cell_type": "markdown",
   "id": "dense-fisher",
   "metadata": {},
   "source": [
    "## 분포 : 분위수"
   ]
  },
  {
   "cell_type": "code",
   "execution_count": null,
   "id": "published-study",
   "metadata": {},
   "outputs": [],
   "source": [
    "# 거래금액 컬럼의 10 백분위수를 반환합니다.\n",
    "apt['거래금액'].quantile(0.10)"
   ]
  },
  {
   "cell_type": "code",
   "execution_count": null,
   "id": "relevant-portsmouth",
   "metadata": {},
   "outputs": [],
   "source": [
    "# 거래금액 컬럼의 90 백분위수를 반환합니다.\n",
    "apt['거래금액'].quantile(0.90)"
   ]
  },
  {
   "cell_type": "code",
   "execution_count": null,
   "id": "sound-cisco",
   "metadata": {},
   "outputs": [],
   "source": [
    "# 거래금액 컬럼의 10, 90 백분위수를 함께 반환합니다.\n",
    "apt['거래금액'].quantile([0.10, 0.90])"
   ]
  },
  {
   "cell_type": "code",
   "execution_count": null,
   "id": "fatty-princeton",
   "metadata": {},
   "outputs": [],
   "source": [
    "# 거래금액 컬럼의 십분위수를 반환합니다.\n",
    "apt['거래금액'].quantile(np.arange(0.0, 1.1, 0.1))"
   ]
  },
  {
   "cell_type": "markdown",
   "id": "occupational-speech",
   "metadata": {},
   "source": [
    "## 분포 : 사분위수와 사분범위"
   ]
  },
  {
   "cell_type": "code",
   "execution_count": null,
   "id": "drawn-india",
   "metadata": {},
   "outputs": [],
   "source": [
    "# 거래금액 컬럼의 1 사분위수를 반환합니다.\n",
    "apt['거래금액'].quantile(0.25)"
   ]
  },
  {
   "cell_type": "code",
   "execution_count": null,
   "id": "wicked-russia",
   "metadata": {},
   "outputs": [],
   "source": [
    "# 거래금액 컬럼의 3 사분위수를 반환합니다.\n",
    "apt['거래금액'].quantile(0.75)"
   ]
  },
  {
   "cell_type": "code",
   "execution_count": null,
   "id": "lyric-denver",
   "metadata": {},
   "outputs": [],
   "source": [
    "# 거래금액 컬럼의 최소값, 최대값 및 사분위수를 함께 반환합니다.\n",
    "apt['거래금액'].quantile(np.arange(0.0, 1.1, 0.25))"
   ]
  },
  {
   "cell_type": "code",
   "execution_count": null,
   "id": "laden-thing",
   "metadata": {},
   "outputs": [],
   "source": [
    "# 거래금액 컬럼의 사분범위를 계산합니다.\n",
    "apt['거래금액'].quantile(0.75) - apt['거래금액'].quantile(0.25)"
   ]
  },
  {
   "cell_type": "markdown",
   "id": "supported-proportion",
   "metadata": {},
   "source": [
    "## 분포 : 분산"
   ]
  },
  {
   "cell_type": "code",
   "execution_count": null,
   "id": "illegal-rendering",
   "metadata": {},
   "outputs": [],
   "source": [
    "# 거래금액 컬럼의 분산을 반환합니다.\n",
    "apt['거래금액'].var()"
   ]
  },
  {
   "cell_type": "markdown",
   "id": "laughing-muslim",
   "metadata": {},
   "source": [
    "## 분포 : 표준편차"
   ]
  },
  {
   "cell_type": "code",
   "execution_count": null,
   "id": "adjacent-techno",
   "metadata": {},
   "outputs": [],
   "source": [
    "# 거래금액 컬럼의 표준편차를 반환합니다.\n",
    "apt['거래금액'].std()"
   ]
  },
  {
   "cell_type": "markdown",
   "id": "beautiful-occasion",
   "metadata": {},
   "source": [
    "## 분포 : 중위수절대편차"
   ]
  },
  {
   "cell_type": "code",
   "execution_count": null,
   "id": "aerial-manor",
   "metadata": {},
   "outputs": [],
   "source": [
    "# 거래금액 컬럼의 중위수절대편차를 반환합니다. (값이 조금 다릅니다!)\n",
    "apt['거래금액'].mad()"
   ]
  },
  {
   "cell_type": "code",
   "execution_count": null,
   "id": "distinct-begin",
   "metadata": {},
   "outputs": [],
   "source": [
    "# 로버스트한 통계량을 반환하는 모듈을 호출합니다.\n",
    "from statsmodels import robust"
   ]
  },
  {
   "cell_type": "code",
   "execution_count": null,
   "id": "endless-expert",
   "metadata": {},
   "outputs": [],
   "source": [
    "# 거래금액 컬럼의 중위수절대편차를 반환합니다.\n",
    "robust.mad(apt['거래금액'])"
   ]
  },
  {
   "cell_type": "markdown",
   "id": "empty-surge",
   "metadata": {},
   "source": [
    "## 여러 컬럼의 기술통계량 생성"
   ]
  },
  {
   "cell_type": "code",
   "execution_count": null,
   "id": "wound-briefs",
   "metadata": {},
   "outputs": [],
   "source": [
    "# apt의 숫자 컬럼에 대한 평균을 반환합니다.\n",
    "apt.apply('mean', numeric_only = True, axis = 0)"
   ]
  },
  {
   "cell_type": "code",
   "execution_count": null,
   "id": "three-trance",
   "metadata": {},
   "outputs": [],
   "source": [
    "# apt의 숫자 컬럼에 대한 분산을 반환합니다.\n",
    "apt.apply('var', numeric_only = True, axis = 0)"
   ]
  },
  {
   "cell_type": "code",
   "execution_count": null,
   "id": "former-serum",
   "metadata": {},
   "outputs": [],
   "source": [
    "# apt의 숫자 컬럼에 대한 표준편차를 반환합니다.\n",
    "apt.apply('std', numeric_only = True, axis = 0)"
   ]
  },
  {
   "cell_type": "code",
   "execution_count": null,
   "id": "desirable-account",
   "metadata": {},
   "outputs": [],
   "source": [
    "# apt의 문자열 컬럼에 대한 최빈값을 반환합니다.\n",
    "apt.apply('mode', axis = 0)"
   ]
  },
  {
   "cell_type": "code",
   "execution_count": null,
   "id": "fitted-bargain",
   "metadata": {},
   "outputs": [],
   "source": [
    "# apt의 모든 숫자 컬럼에 대한 기술통계량을 반환합니다.\n",
    "apt.describe()"
   ]
  },
  {
   "cell_type": "code",
   "execution_count": null,
   "id": "promotional-terry",
   "metadata": {},
   "outputs": [],
   "source": [
    "# apt의 모든 문자열 컬럼에 대한 기술통계량을 반환합니다.\n",
    "apt.describe(include = 'object')"
   ]
  },
  {
   "cell_type": "markdown",
   "id": "limited-notification",
   "metadata": {},
   "source": [
    "## 상관관계 : 공분산"
   ]
  },
  {
   "cell_type": "code",
   "execution_count": null,
   "id": "certified-coast",
   "metadata": {},
   "outputs": [],
   "source": [
    "# 전용면적과 거래금액 컬럼 간 공분산을 반환합니다.\n",
    "apt['전용면적'].cov(apt['거래금액'])"
   ]
  },
  {
   "cell_type": "code",
   "execution_count": null,
   "id": "equipped-bridge",
   "metadata": {},
   "outputs": [],
   "source": [
    "# apt의 모든 숫자 컬럼 간 공분산 행렬을 반환합니다.\n",
    "apt.cov()"
   ]
  },
  {
   "cell_type": "markdown",
   "id": "owned-template",
   "metadata": {},
   "source": [
    "## 상관관계 : 상관계수"
   ]
  },
  {
   "cell_type": "code",
   "execution_count": null,
   "id": "elementary-nudist",
   "metadata": {},
   "outputs": [],
   "source": [
    "# 전용면적과 거래금액 컬럼 간 상관계수를 반환합니다.\n",
    "apt['전용면적'].corr(apt['거래금액'])"
   ]
  },
  {
   "cell_type": "code",
   "execution_count": null,
   "id": "directed-landing",
   "metadata": {},
   "outputs": [],
   "source": [
    "# apt의 모든 숫자 컬럼 간 상관계수 행렬을 반환합니다.\n",
    "apt.corr()"
   ]
  },
  {
   "cell_type": "markdown",
   "id": "korean-grounds",
   "metadata": {},
   "source": [
    "# 데이터 시각화"
   ]
  },
  {
   "cell_type": "markdown",
   "id": "sound-defense",
   "metadata": {},
   "source": [
    "## 관련 라이브러리 호출 및 기본 설정"
   ]
  },
  {
   "cell_type": "code",
   "execution_count": null,
   "id": "verified-houston",
   "metadata": {},
   "outputs": [],
   "source": [
    "# 관련 라이브러리를 호출합니다.\n",
    "import seaborn as sns\n",
    "import matplotlib as mpl\n",
    "import matplotlib.pyplot as plt\n",
    "import matplotlib.font_manager as fm"
   ]
  },
  {
   "cell_type": "code",
   "execution_count": null,
   "id": "occupied-charter",
   "metadata": {},
   "outputs": [],
   "source": [
    "# 마이너스 기호가 제대로 출력되도록 설정합니다.\n",
    "mpl.rcParams['axes.unicode_minus'] = False"
   ]
  },
  {
   "cell_type": "code",
   "execution_count": null,
   "id": "positive-reasoning",
   "metadata": {},
   "outputs": [],
   "source": [
    "# 그래프의 크기와 해상도를 설정합니다.\n",
    "plt.rcParams['figure.figsize'] = (12, 6)\n",
    "plt.rcParams['figure.dpi'] = 100"
   ]
  },
  {
   "cell_type": "code",
   "execution_count": null,
   "id": "thousand-powell",
   "metadata": {},
   "outputs": [],
   "source": [
    "# 경고문구가 출력되지 않도록 설정합니다.\n",
    "import warnings\n",
    "warnings.filterwarnings('ignore')"
   ]
  },
  {
   "cell_type": "markdown",
   "id": "imposed-slave",
   "metadata": {},
   "source": [
    "## 한글폰트 설정"
   ]
  },
  {
   "cell_type": "code",
   "execution_count": null,
   "id": "separated-donna",
   "metadata": {},
   "outputs": [],
   "source": [
    "# 한글폰트가 설치된 경로를 찾습니다.\n",
    "fontList = fm.findSystemFonts(fontext = 'ttf')"
   ]
  },
  {
   "cell_type": "code",
   "execution_count": null,
   "id": "informational-giant",
   "metadata": {},
   "outputs": [],
   "source": [
    "# 한글폰트명으로 검색합니다.\n",
    "[font for font in fontList if 'Nanum' in font]"
   ]
  },
  {
   "cell_type": "code",
   "execution_count": null,
   "id": "registered-mercy",
   "metadata": {},
   "outputs": [],
   "source": [
    "# 한글폰트를 설정합니다.\n",
    "fontPath = '/Library/Fonts/NanumGothic.ttf'\n",
    "fontProp = fm.FontProperties(fname = fontPath)"
   ]
  },
  {
   "cell_type": "code",
   "execution_count": null,
   "id": "racial-framework",
   "metadata": {},
   "outputs": [],
   "source": [
    "# [참고] 그래프에서 한글이 네모로 출력되는 에러를 해결하는 방법을 소개합니다.\n",
    "mpl.get_cachedir()"
   ]
  },
  {
   "cell_type": "code",
   "execution_count": null,
   "id": "incorporated-tiger",
   "metadata": {},
   "outputs": [],
   "source": [
    "# 위 코드를 실행해서 출력되는 폴더로 이동하여 tex.cache 폴더 및 fontList.json 파일을 삭제합니다.\n",
    "# 주피터 노트북을 재실행하면 한글폰트가 제대로 설정됩니다."
   ]
  },
  {
   "cell_type": "markdown",
   "id": "lesser-adapter",
   "metadata": {},
   "source": [
    "## 색상 팔레트 설정"
   ]
  },
  {
   "cell_type": "code",
   "execution_count": null,
   "id": "expensive-print",
   "metadata": {},
   "outputs": [],
   "source": [
    "# pyplot 모듈에서 제공되는 컬러맵 목록을 출력합니다.\n",
    "dir(plt.cm)"
   ]
  },
  {
   "cell_type": "code",
   "execution_count": null,
   "id": "obvious-syracuse",
   "metadata": {},
   "outputs": [],
   "source": [
    "# 관심 있는 팔레트의 색상을 출력합니다.\n",
    "sns.color_palette('CMRmap')"
   ]
  },
  {
   "cell_type": "code",
   "execution_count": null,
   "id": "vietnamese-hebrew",
   "metadata": {},
   "outputs": [],
   "source": [
    "# 출력할 색상의 개수를 설정합니다.\n",
    "sns.color_palette('pastel', 10)"
   ]
  },
  {
   "cell_type": "code",
   "execution_count": null,
   "id": "constant-prison",
   "metadata": {},
   "outputs": [],
   "source": [
    "# 관심 있는 컬러맵을 출력합니다.\n",
    "sns.color_palette('Spectral', 10)"
   ]
  },
  {
   "cell_type": "code",
   "execution_count": null,
   "id": "changed-movement",
   "metadata": {},
   "outputs": [],
   "source": [
    "# 관심 있는 컬러맵을 출력합니다.\n",
    "sns.color_palette('Set2', 10)"
   ]
  },
  {
   "cell_type": "markdown",
   "id": "selected-chemical",
   "metadata": {},
   "source": [
    "## Seaborn 테마 설정"
   ]
  },
  {
   "cell_type": "code",
   "execution_count": null,
   "id": "diverse-values",
   "metadata": {},
   "outputs": [],
   "source": [
    "# 그래프에 적용될 다양한 옵션을 설정합니다.\n",
    "sns.set_theme(context = 'notebook', \n",
    "              style = 'white', \n",
    "              palette = 'Set2', \n",
    "              font = fontProp.get_name(),\n",
    "              font_scale = 1.2)"
   ]
  },
  {
   "cell_type": "markdown",
   "id": "structural-synthesis",
   "metadata": {},
   "source": [
    "## 도수분포표"
   ]
  },
  {
   "cell_type": "code",
   "execution_count": null,
   "id": "dimensional-bermuda",
   "metadata": {},
   "outputs": [],
   "source": [
    "# 계급을 설정하기 위해 데이터의 최소값과 최대값을 미리 확인합니다.\n",
    "apt['거래금액'].describe()"
   ]
  },
  {
   "cell_type": "code",
   "execution_count": null,
   "id": "detected-revision",
   "metadata": {},
   "outputs": [],
   "source": [
    "# 도수분포표의 계급을 설정합니다.\n",
    "bins = np.arange(0, 81, 5)"
   ]
  },
  {
   "cell_type": "code",
   "execution_count": null,
   "id": "funky-belfast",
   "metadata": {},
   "outputs": [],
   "source": [
    "# 계급을 출력합니다. (이상, 미만)\n",
    "bins"
   ]
  },
  {
   "cell_type": "code",
   "execution_count": null,
   "id": "isolated-battle",
   "metadata": {},
   "outputs": [],
   "source": [
    "# 계급별 빈도수를 반환합니다.\n",
    "freq, edge = np.histogram(apt['거래금액'], bins)"
   ]
  },
  {
   "cell_type": "code",
   "execution_count": null,
   "id": "distributed-illness",
   "metadata": {},
   "outputs": [],
   "source": [
    "# 상대도수를 계산합니다.\n",
    "prop = (freq / len(apt['거래금액'])).round(4)"
   ]
  },
  {
   "cell_type": "code",
   "execution_count": null,
   "id": "spoken-extension",
   "metadata": {},
   "outputs": [],
   "source": [
    "# 도수분포표를 데이터프레임으로 생성하여 출력합니다.\n",
    "pd.DataFrame([bins, freq, prop], index = ['계급', '도수', '상대도수']).T"
   ]
  },
  {
   "cell_type": "markdown",
   "id": "located-cricket",
   "metadata": {},
   "source": [
    "## 히스토그램 그리기"
   ]
  },
  {
   "cell_type": "code",
   "execution_count": null,
   "id": "certain-organic",
   "metadata": {},
   "outputs": [],
   "source": [
    "# 히스토그램은 일변량 연속형 데이터의 분포(도수분포표)를 시각화한 것입니다.\n",
    "sns.histplot(data = apt, \n",
    "             x = '거래금액', \n",
    "             bins = bins,\n",
    "             color = '0.5',\n",
    "             edgecolor = 'black',)\n",
    "plt.title('거래금액 히스토그램')\n",
    "plt.show()"
   ]
  },
  {
   "cell_type": "code",
   "execution_count": null,
   "id": "approved-garlic",
   "metadata": {},
   "outputs": [],
   "source": [
    "# 시군구별 평균 거래금액을 계산하여 데이터프레임으로 생성합니다.\n",
    "siggMean = apt \\\n",
    ">> group_by(X['시군구']) \\\n",
    ">> summarize(평균금액 = X['거래금액'].mean()) \\\n",
    ">> mutate(평균금액 = X['평균금액'].round(2)) \\\n",
    ">> ungroup() \\\n",
    ">> arrange(X['평균금액'], ascending = False)"
   ]
  },
  {
   "cell_type": "code",
   "execution_count": null,
   "id": "vietnamese-accreditation",
   "metadata": {},
   "outputs": [],
   "source": [
    "# 시군구별 평균 거래금액 데이터프레임의 인덱스를 초기화합니다.\n",
    "siggMean = siggMean.reset_index(drop = True)"
   ]
  },
  {
   "cell_type": "code",
   "execution_count": null,
   "id": "statistical-factory",
   "metadata": {},
   "outputs": [],
   "source": [
    "# 시군구별 평균 거래금액을 처음 10행만 출력합니다.\n",
    "siggMean.head(10)"
   ]
  },
  {
   "cell_type": "code",
   "execution_count": null,
   "id": "missing-ridge",
   "metadata": {},
   "outputs": [],
   "source": [
    "# 강남구, 서초구, 용산구, 송파구 등 4개 시군구만 선택하여 top4를 생성합니다.\n",
    "top4 = apt >> mask(X['시군구'].str.contains('강남|서초|용산|송파'))"
   ]
  },
  {
   "cell_type": "code",
   "execution_count": null,
   "id": "derived-teacher",
   "metadata": {},
   "outputs": [],
   "source": [
    "# 상위 4개 자치구 데이터프레임의 정보를 확인합니다.\n",
    "top4.info()"
   ]
  },
  {
   "cell_type": "code",
   "execution_count": null,
   "id": "fixed-duplicate",
   "metadata": {},
   "outputs": [],
   "source": [
    "# 특정 컬럼의 값에 따라 히스토그램을 여러 개 겹쳐서 그릴 수 있습니다.\n",
    "sns.histplot(data = top4, \n",
    "             x = '거래금액', \n",
    "             hue = '시군구', \n",
    "             bins = 100,\n",
    "             edgecolor = 'black')\n",
    "plt.title('상위 4개 시군구별 거래금액 히스토그램')\n",
    "plt.show()"
   ]
  },
  {
   "cell_type": "code",
   "execution_count": null,
   "id": "beneficial-incident",
   "metadata": {},
   "outputs": [],
   "source": [
    "# 특정 컬럼의 값에 따라 히스토그램을 나누어서 그릴 수 있습니다.\n",
    "sns.displot(data = top4, \n",
    "            x = '거래금액', \n",
    "            col = '시군구', \n",
    "            binwidth = 1,\n",
    "            color = 'blue', \n",
    "            height = 3)\n",
    "plt.show()"
   ]
  },
  {
   "cell_type": "markdown",
   "id": "incorrect-tonight",
   "metadata": {},
   "source": [
    "## 상자수염그림 그리기"
   ]
  },
  {
   "cell_type": "code",
   "execution_count": null,
   "id": "destroyed-afternoon",
   "metadata": {},
   "outputs": [],
   "source": [
    "# 상자수염그림은 연속형 데이터의 사분위수와 이상치를 시각화한 것입니다.\n",
    "sns.boxplot(y = '거래금액', \n",
    "            data = apt, \n",
    "            color = 'gold')\n",
    "sns.despine(bottom = True)\n",
    "plt.title('거래금액 상자수염그림')\n",
    "plt.show()"
   ]
  },
  {
   "cell_type": "code",
   "execution_count": null,
   "id": "explicit-essence",
   "metadata": {},
   "outputs": [],
   "source": [
    "# 집단별 상자수염그림을 그리면 여러 집단의 분포를 한 눈에 비교할 수 있습니다.\n",
    "sns.boxplot(x = '시군구', \n",
    "            y = '거래금액', \n",
    "            data = apt, \n",
    "            fliersize = 4)\n",
    "plt.title('시군구별 거래금액 상자수염그림')\n",
    "plt.xticks(rotation = 90)\n",
    "plt.show()"
   ]
  },
  {
   "cell_type": "markdown",
   "id": "victorian-listening",
   "metadata": {},
   "source": [
    "## 일변량 막대그래프 그리기"
   ]
  },
  {
   "cell_type": "code",
   "execution_count": null,
   "id": "aggressive-official",
   "metadata": {},
   "outputs": [],
   "source": [
    "# 일변량 막대그래프는 명목형 데이터의 빈도수를 막대로 시각화한 것입니다.\n",
    "sns.countplot(x = '시군구', \n",
    "              data = apt, \n",
    "              hue = '금액구분')\n",
    "plt.title('시군구별 거래건수 막대그래프')\n",
    "plt.xticks(rotation = 90)\n",
    "plt.show()"
   ]
  },
  {
   "cell_type": "markdown",
   "id": "controlled-martin",
   "metadata": {},
   "source": [
    "## 이변량 막대그래프 그리기"
   ]
  },
  {
   "cell_type": "code",
   "execution_count": null,
   "id": "premium-guinea",
   "metadata": {},
   "outputs": [],
   "source": [
    "# 이변량 막대그래프는 명목형 데이터에 따라 연속형 데이터의 크기를 표현합니다.\n",
    "sns.barplot(x = '시군구', \n",
    "            y = '평균금액', \n",
    "            data = siggMean)\n",
    "plt.title('시군구별 평균 거래금액 막대그래프')\n",
    "plt.xticks(rotation = 90)\n",
    "plt.show()"
   ]
  },
  {
   "cell_type": "code",
   "execution_count": null,
   "id": "compound-juvenile",
   "metadata": {
    "scrolled": false
   },
   "outputs": [],
   "source": [
    "# 막대그래프 위에 숫자를 텍스트로 추가합니다.\n",
    "sns.barplot(x = '시군구', y = '평균금액', data = siggMean)\n",
    "\n",
    "for index, row in siggMean.iterrows():\n",
    "    plt.text(x = index, y = row['평균금액'] + 0.1, s = row['평균금액'], \n",
    "             fontsize = 10, ha = 'center', va = 'bottom', c = 'black')\n",
    "\n",
    "plt.title('시군구별 평균 거래금액 막대그래프')\n",
    "plt.xticks(rotation = 90)\n",
    "plt.ylim(0, 20)\n",
    "plt.show()"
   ]
  },
  {
   "cell_type": "markdown",
   "id": "artistic-hometown",
   "metadata": {},
   "source": [
    "## 선그래프 그리기"
   ]
  },
  {
   "cell_type": "code",
   "execution_count": null,
   "id": "collect-credit",
   "metadata": {},
   "outputs": [],
   "source": [
    "# apt에 거래월 컬럼을 정수형 시리즈로 생성합니다.\n",
    "apt['거래월'] = apt['거래일'].dt.month"
   ]
  },
  {
   "cell_type": "code",
   "execution_count": null,
   "id": "corporate-times",
   "metadata": {},
   "outputs": [],
   "source": [
    "# 월별 거래금액의 평균을 선그래프로 그립니다.\n",
    "sns.lineplot(x = '거래월', y = '거래금액', data = apt, ci = 95)\n",
    "plt.title('월별 평균 거래금액 선그래프')\n",
    "plt.show()"
   ]
  },
  {
   "cell_type": "code",
   "execution_count": null,
   "id": "proper-coffee",
   "metadata": {},
   "outputs": [],
   "source": [
    "# 선그래프에 점을 추가한 그래프를 그립니다.\n",
    "sns.pointplot(x = '거래월', \n",
    "              y = '거래금액', \n",
    "              data = apt, \n",
    "              hue = '금액구분',\n",
    "              palette = 'Spectral')\n",
    "plt.title('금액구분에 따른 월별 평균 거래금액 선그래프')\n",
    "plt.show()"
   ]
  },
  {
   "cell_type": "code",
   "execution_count": null,
   "id": "smart-socket",
   "metadata": {},
   "outputs": [],
   "source": [
    "# 특정 컬럼의 값에 따라 선그래프를 겹쳐서 그릴 수 있습니다.\n",
    "top4['거래월'] = top4['거래일'].dt.month\n",
    "sns.lineplot(x = '거래월', \n",
    "             y = '거래금액', \n",
    "             data = top4, \n",
    "             hue = '시군구', \n",
    "             palette = 'Spectral', \n",
    "             size = '시군구')\n",
    "plt.title('상위 4개 시군구의 월별 평균 거래금액 선그래프')\n",
    "plt.show()"
   ]
  },
  {
   "cell_type": "markdown",
   "id": "stunning-witness",
   "metadata": {},
   "source": [
    "## 산점도 그리기"
   ]
  },
  {
   "cell_type": "code",
   "execution_count": null,
   "id": "bright-saturn",
   "metadata": {},
   "outputs": [],
   "source": [
    "# 산점도는 이변량 연속형 데이터 간 상관관계를 시각화한 것입니다.\n",
    "sns.scatterplot(x = '전용면적', \n",
    "                y = '거래금액', \n",
    "                data = apt,\n",
    "                hue = '금액구분',\n",
    "                edgecolor = 'black', \n",
    "                linewidth = 0.2)\n",
    "plt.title('전용면적과 거래금액의 관계')\n",
    "plt.show()"
   ]
  },
  {
   "cell_type": "code",
   "execution_count": null,
   "id": "continental-apollo",
   "metadata": {
    "scrolled": false
   },
   "outputs": [],
   "source": [
    "# 특정 컬럼의 값에 따라 산점도를 겹쳐서 그릴 수 있습니다.\n",
    "sns.scatterplot(x = '전용면적', \n",
    "                y = '거래금액', \n",
    "                data = top4, \n",
    "                hue = '시군구', \n",
    "                palette = 'deep',\n",
    "                edgecolor = 'white')\n",
    "plt.title('상위 4개 시군구별 전용면적과 거래금액의 관계')\n",
    "plt.show()"
   ]
  },
  {
   "cell_type": "markdown",
   "id": "dietary-transparency",
   "metadata": {},
   "source": [
    "## 산점도 행렬 그리기"
   ]
  },
  {
   "cell_type": "code",
   "execution_count": null,
   "id": "moral-documentation",
   "metadata": {},
   "outputs": [],
   "source": [
    "# 산점도 행렬을 그릴 일부 숫자 컬럼을 선택합니다. (5~6개가 적당합니다.)\n",
    "top4_1 = top4 >> select(['시군구', '거래금액', '전용면적', '층', '세대수', '용적률'])"
   ]
  },
  {
   "cell_type": "code",
   "execution_count": null,
   "id": "rough-scanner",
   "metadata": {},
   "outputs": [],
   "source": [
    "# 선택한 숫자 컬럼으로 산점도 행렬을 그립니다.\n",
    "sns.pairplot(data = top4_1, hue = '시군구', palette = 'deep')\n",
    "plt.show()"
   ]
  },
  {
   "cell_type": "markdown",
   "id": "portuguese-field",
   "metadata": {},
   "source": [
    "---"
   ]
  }
 ],
 "metadata": {
  "kernelspec": {
   "display_name": "Python 3",
   "language": "python",
   "name": "python3"
  },
  "language_info": {
   "codemirror_mode": {
    "name": "ipython",
    "version": 3
   },
   "file_extension": ".py",
   "mimetype": "text/x-python",
   "name": "python",
   "nbconvert_exporter": "python",
   "pygments_lexer": "ipython3",
   "version": "3.9.2"
  },
  "toc": {
   "base_numbering": 1,
   "nav_menu": {},
   "number_sections": true,
   "sideBar": true,
   "skip_h1_title": false,
   "title_cell": "Table of Contents",
   "title_sidebar": "Contents",
   "toc_cell": false,
   "toc_position": {},
   "toc_section_display": true,
   "toc_window_display": false
  },
  "varInspector": {
   "cols": {
    "lenName": 16,
    "lenType": 16,
    "lenVar": 40
   },
   "kernels_config": {
    "python": {
     "delete_cmd_postfix": "",
     "delete_cmd_prefix": "del ",
     "library": "var_list.py",
     "varRefreshCmd": "print(var_dic_list())"
    },
    "r": {
     "delete_cmd_postfix": ") ",
     "delete_cmd_prefix": "rm(",
     "library": "var_list.r",
     "varRefreshCmd": "cat(var_dic_list()) "
    }
   },
   "types_to_exclude": [
    "module",
    "function",
    "builtin_function_or_method",
    "instance",
    "_Feature"
   ],
   "window_display": false
  }
 },
 "nbformat": 4,
 "nbformat_minor": 5
}
