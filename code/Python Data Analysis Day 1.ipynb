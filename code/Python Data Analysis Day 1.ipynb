{
 "cells": [
  {
   "cell_type": "markdown",
   "id": "informative-skiing",
   "metadata": {},
   "source": [
    "<p style=\"font-family:verdana;font-size:200%;text-align:center;\">Python Data Analysis Day 1</p>"
   ]
  },
  {
   "cell_type": "markdown",
   "id": "designing-zambia",
   "metadata": {},
   "source": [
    "## Python 자료형 기초"
   ]
  },
  {
   "cell_type": "markdown",
   "id": "important-vision",
   "metadata": {},
   "source": [
    "### Python 변수와 객체"
   ]
  },
  {
   "cell_type": "code",
   "execution_count": null,
   "id": "thousand-looking",
   "metadata": {},
   "outputs": [],
   "source": [
    "# 변수 a에 정수 1을 할당합니다.\n",
    "a = 1"
   ]
  },
  {
   "cell_type": "code",
   "execution_count": null,
   "id": "excess-occasion",
   "metadata": {},
   "outputs": [],
   "source": [
    "# a가 가리키는 메모리 주소를 출력합니다.\n",
    "id(a)"
   ]
  },
  {
   "cell_type": "code",
   "execution_count": null,
   "id": "original-oracle",
   "metadata": {},
   "outputs": [],
   "source": [
    "# a에 정수 2를 할당합니다.\n",
    "a = 2"
   ]
  },
  {
   "cell_type": "code",
   "execution_count": null,
   "id": "behind-sweden",
   "metadata": {},
   "outputs": [],
   "source": [
    "# a가 가리키는 메모리 주소를 출력하니 바뀌었습니다.\n",
    "id(a)"
   ]
  },
  {
   "cell_type": "markdown",
   "id": "manual-advisory",
   "metadata": {},
   "source": [
    "### Python 객체의 속성과 방식"
   ]
  },
  {
   "cell_type": "code",
   "execution_count": null,
   "id": "extended-owner",
   "metadata": {},
   "outputs": [],
   "source": [
    "# 변수 a에 정수 10을 할당합니다.\n",
    "a = 10"
   ]
  },
  {
   "cell_type": "code",
   "execution_count": null,
   "id": "acquired-porcelain",
   "metadata": {},
   "outputs": [],
   "source": [
    "# a를 출력합니다.\n",
    "a"
   ]
  },
  {
   "cell_type": "code",
   "execution_count": null,
   "id": "religious-customer",
   "metadata": {},
   "outputs": [],
   "source": [
    "# print() 함수로 a를 출력합니다.\n",
    "print(a)"
   ]
  },
  {
   "cell_type": "code",
   "execution_count": null,
   "id": "american-weekly",
   "metadata": {},
   "outputs": [],
   "source": [
    "# a의 클래스를 확인합니다.\n",
    "type(a)"
   ]
  },
  {
   "cell_type": "code",
   "execution_count": null,
   "id": "interim-contribution",
   "metadata": {
    "scrolled": true
   },
   "outputs": [],
   "source": [
    "# a가 갖는 속성과 방식을 출력합니다.\n",
    "dir(a)"
   ]
  },
  {
   "cell_type": "code",
   "execution_count": null,
   "id": "impressed-guatemala",
   "metadata": {},
   "outputs": [],
   "source": [
    "# a의 속성 numerator에 접근합니다.\n",
    "a.numerator"
   ]
  },
  {
   "cell_type": "code",
   "execution_count": null,
   "id": "smart-estonia",
   "metadata": {},
   "outputs": [],
   "source": [
    "# a의 방식 bit_length에 접근합니다.\n",
    "a.bit_length()"
   ]
  },
  {
   "cell_type": "markdown",
   "id": "editorial-celebration",
   "metadata": {},
   "source": [
    "### Python 객체의 생성 및 교환"
   ]
  },
  {
   "cell_type": "code",
   "execution_count": null,
   "id": "dramatic-shore",
   "metadata": {},
   "outputs": [],
   "source": [
    "# 변수 a와 b에 같은 문자열을 동시에 할당합니다.\n",
    "a = b = 'Language'"
   ]
  },
  {
   "cell_type": "code",
   "execution_count": null,
   "id": "blank-violence",
   "metadata": {},
   "outputs": [],
   "source": [
    "# a와 b를 각각 출력합니다.\n",
    "print(a); print(b)"
   ]
  },
  {
   "cell_type": "code",
   "execution_count": null,
   "id": "annual-routine",
   "metadata": {},
   "outputs": [],
   "source": [
    "# a와 b에 두 개의 문자열을 차례대로 할당합니다.\n",
    "a, b = 'Python', 'R'"
   ]
  },
  {
   "cell_type": "code",
   "execution_count": null,
   "id": "possible-asset",
   "metadata": {},
   "outputs": [],
   "source": [
    "# a와 b를 각각 출력합니다.\n",
    "print(a); print(b)"
   ]
  },
  {
   "cell_type": "code",
   "execution_count": null,
   "id": "northern-workplace",
   "metadata": {},
   "outputs": [],
   "source": [
    "# a와 b에 할당되었던 값을 서로 교환합니다.\n",
    "a, b = b, a"
   ]
  },
  {
   "cell_type": "code",
   "execution_count": null,
   "id": "ambient-spare",
   "metadata": {},
   "outputs": [],
   "source": [
    "# a와 b를 각각 출력합니다.\n",
    "print(a); print(b)"
   ]
  },
  {
   "cell_type": "markdown",
   "id": "loaded-movie",
   "metadata": {},
   "source": [
    "## Python 자료형의 종류"
   ]
  },
  {
   "cell_type": "markdown",
   "id": "chief-reality",
   "metadata": {},
   "source": [
    "### 숫자 : 정수와 실수"
   ]
  },
  {
   "cell_type": "markdown",
   "id": "worse-origin",
   "metadata": {},
   "source": [
    "#### 숫자 변수 생성"
   ]
  },
  {
   "cell_type": "code",
   "execution_count": null,
   "id": "unlike-vegetation",
   "metadata": {},
   "outputs": [],
   "source": [
    "# 변수 a에 정수 3을 할당합니다.\n",
    "a = 3"
   ]
  },
  {
   "cell_type": "code",
   "execution_count": null,
   "id": "designing-diabetes",
   "metadata": {},
   "outputs": [],
   "source": [
    "# a를 출력합니다.\n",
    "a"
   ]
  },
  {
   "cell_type": "code",
   "execution_count": null,
   "id": "convenient-counter",
   "metadata": {},
   "outputs": [],
   "source": [
    "# a의 클래스를 확인합니다.\n",
    "type(a)"
   ]
  },
  {
   "cell_type": "code",
   "execution_count": null,
   "id": "adjacent-superintendent",
   "metadata": {},
   "outputs": [],
   "source": [
    "# 변수 b에 실수 3.0을 할당합니다.\n",
    "b = 3.0"
   ]
  },
  {
   "cell_type": "code",
   "execution_count": null,
   "id": "posted-intention",
   "metadata": {},
   "outputs": [],
   "source": [
    "# b를 출력합니다.\n",
    "b"
   ]
  },
  {
   "cell_type": "code",
   "execution_count": null,
   "id": "received-commerce",
   "metadata": {},
   "outputs": [],
   "source": [
    "# b의 클래스를 확인합니다.\n",
    "type(b)"
   ]
  },
  {
   "cell_type": "markdown",
   "id": "sustainable-paint",
   "metadata": {},
   "source": [
    "#### 산술 연산자"
   ]
  },
  {
   "cell_type": "code",
   "execution_count": null,
   "id": "proper-xerox",
   "metadata": {},
   "outputs": [],
   "source": [
    "# a와 b를 더합니다.\n",
    "a + b"
   ]
  },
  {
   "cell_type": "code",
   "execution_count": null,
   "id": "supported-balance",
   "metadata": {},
   "outputs": [],
   "source": [
    "# a에서 b를 뺍니다.\n",
    "a - b"
   ]
  },
  {
   "cell_type": "code",
   "execution_count": null,
   "id": "gothic-organization",
   "metadata": {},
   "outputs": [],
   "source": [
    "# a와 b를 곱합니다.\n",
    "a * b"
   ]
  },
  {
   "cell_type": "code",
   "execution_count": null,
   "id": "sought-terrace",
   "metadata": {},
   "outputs": [],
   "source": [
    "# a를 b로 거듭제곱합니다.\n",
    "a ** b"
   ]
  },
  {
   "cell_type": "code",
   "execution_count": null,
   "id": "funky-entry",
   "metadata": {},
   "outputs": [],
   "source": [
    "# a를 b로 나눕니다.\n",
    "a / b"
   ]
  },
  {
   "cell_type": "code",
   "execution_count": null,
   "id": "approved-asset",
   "metadata": {},
   "outputs": [],
   "source": [
    "# a를 b로 나눈 (소수점 이하를 절사한) 몫을 반환합니다.\n",
    "a // b"
   ]
  },
  {
   "cell_type": "code",
   "execution_count": null,
   "id": "worldwide-experiment",
   "metadata": {},
   "outputs": [],
   "source": [
    "# a를 b로 나눈 나머지를 반환합니다.\n",
    "a % b"
   ]
  },
  {
   "cell_type": "markdown",
   "id": "cardiovascular-encounter",
   "metadata": {},
   "source": [
    "#### 할당 연산자"
   ]
  },
  {
   "cell_type": "code",
   "execution_count": null,
   "id": "thermal-happiness",
   "metadata": {},
   "outputs": [],
   "source": [
    "# a에 정수 5를 할당합니다.\n",
    "a = 5; a"
   ]
  },
  {
   "cell_type": "code",
   "execution_count": null,
   "id": "animated-requirement",
   "metadata": {},
   "outputs": [],
   "source": [
    "# a에 1을 더한 값을 a에 재할당합니다.\n",
    "a += 1; a"
   ]
  },
  {
   "cell_type": "code",
   "execution_count": null,
   "id": "tracked-variance",
   "metadata": {},
   "outputs": [],
   "source": [
    "# a에서 2를 뺀 값을 a에 재할당합니다.\n",
    "a -= 2; a"
   ]
  },
  {
   "cell_type": "code",
   "execution_count": null,
   "id": "wrapped-bridges",
   "metadata": {},
   "outputs": [],
   "source": [
    "# b에 3을 곱한 값을 b에 재할당합니다.\n",
    "b *= 3; b"
   ]
  },
  {
   "cell_type": "code",
   "execution_count": null,
   "id": "brief-oliver",
   "metadata": {},
   "outputs": [],
   "source": [
    "# b를 4로 나눈 값을 b에 재할당합니다.\n",
    "b /= 4; b"
   ]
  },
  {
   "cell_type": "markdown",
   "id": "athletic-hamilton",
   "metadata": {},
   "source": [
    "#### 비교 연산자"
   ]
  },
  {
   "cell_type": "code",
   "execution_count": null,
   "id": "competent-revolution",
   "metadata": {},
   "outputs": [],
   "source": [
    "# a가 4보다 크면 True, 작거나 같으면 False를 반환합니다.\n",
    "a > 4"
   ]
  },
  {
   "cell_type": "code",
   "execution_count": null,
   "id": "based-kenya",
   "metadata": {},
   "outputs": [],
   "source": [
    "# a가 4보다 크거나 같으면 True, 작으면 False를 반환합니다.\n",
    "a >= 4"
   ]
  },
  {
   "cell_type": "code",
   "execution_count": null,
   "id": "valuable-charles",
   "metadata": {},
   "outputs": [],
   "source": [
    "# a가 4보다 작으면 True, 크거나 같으면 False를 반환합니다.\n",
    "a < 4"
   ]
  },
  {
   "cell_type": "code",
   "execution_count": null,
   "id": "standing-morning",
   "metadata": {},
   "outputs": [],
   "source": [
    "# a가 4보다 작거나 같으면 True, 크면 False를 반환합니다.\n",
    "a <= 4"
   ]
  },
  {
   "cell_type": "code",
   "execution_count": null,
   "id": "fossil-capture",
   "metadata": {},
   "outputs": [],
   "source": [
    "# a가 4이면 True, 다르면 False를 반환합니다.\n",
    "a == 4"
   ]
  },
  {
   "cell_type": "code",
   "execution_count": null,
   "id": "seasonal-chester",
   "metadata": {},
   "outputs": [],
   "source": [
    "# a가 4가 아니면 True, 같으면 False를 반환합니다.\n",
    "a != 4"
   ]
  },
  {
   "cell_type": "markdown",
   "id": "reverse-therapist",
   "metadata": {},
   "source": [
    "#### 논리 연산자"
   ]
  },
  {
   "cell_type": "code",
   "execution_count": null,
   "id": "suitable-nirvana",
   "metadata": {},
   "outputs": [],
   "source": [
    "# [논리곱] 양쪽의 진리값이 모두 True이면 True, 아니면 False를 반환합니다.\n",
    "a > 3 and b > 3"
   ]
  },
  {
   "cell_type": "code",
   "execution_count": null,
   "id": "statewide-distance",
   "metadata": {},
   "outputs": [],
   "source": [
    "# [논리합] 양쪽의 진리값 중 하나 이상 True이면 True, 아니면 False를 반환합니다.\n",
    "a > 3 or b > 3"
   ]
  },
  {
   "cell_type": "code",
   "execution_count": null,
   "id": "macro-movement",
   "metadata": {},
   "outputs": [],
   "source": [
    "# [논리부정] not 뒤에 오는 진리값을 반전합니다.\n",
    "not a > 3"
   ]
  },
  {
   "cell_type": "markdown",
   "id": "comic-healthcare",
   "metadata": {},
   "source": [
    "#### 비트 연산자"
   ]
  },
  {
   "cell_type": "code",
   "execution_count": null,
   "id": "fourth-sample",
   "metadata": {},
   "outputs": [],
   "source": [
    "# 논리곱 연산을 비트 연산자로 실행합니다.\n",
    "(a > 3) & (b > 3)"
   ]
  },
  {
   "cell_type": "code",
   "execution_count": null,
   "id": "dramatic-arkansas",
   "metadata": {},
   "outputs": [],
   "source": [
    "# 논리합 연산을 비트 연산자로 실행합니다.\n",
    "(a > 3) | (b > 3)"
   ]
  },
  {
   "cell_type": "code",
   "execution_count": null,
   "id": "technical-sunrise",
   "metadata": {},
   "outputs": [],
   "source": [
    "# 논리부정 연산을 비트 연산자로 실행합니다.\n",
    "~ (a > 3)"
   ]
  },
  {
   "cell_type": "code",
   "execution_count": null,
   "id": "level-percentage",
   "metadata": {},
   "outputs": [],
   "source": [
    "# 논리부정 연산을 비트 연산자로 실행합니다.\n",
    "~ (b > 3)"
   ]
  },
  {
   "cell_type": "markdown",
   "id": "sized-filing",
   "metadata": {},
   "source": [
    "### 문자열"
   ]
  },
  {
   "cell_type": "markdown",
   "id": "unique-verification",
   "metadata": {},
   "source": [
    "#### 문자열 생성"
   ]
  },
  {
   "cell_type": "code",
   "execution_count": null,
   "id": "configured-repository",
   "metadata": {},
   "outputs": [],
   "source": [
    "# 변수 str1에 문자열을 할당합니다.\n",
    "str1 = 'Life is short, '"
   ]
  },
  {
   "cell_type": "code",
   "execution_count": null,
   "id": "indonesian-marking",
   "metadata": {},
   "outputs": [],
   "source": [
    "# str1을 출력합니다.\n",
    "str1"
   ]
  },
  {
   "cell_type": "code",
   "execution_count": null,
   "id": "sublime-trace",
   "metadata": {},
   "outputs": [],
   "source": [
    "# print() 함수를 실행하면 출력되는 결과가 달라집니다.\n",
    "print(str1)"
   ]
  },
  {
   "cell_type": "code",
   "execution_count": null,
   "id": "dangerous-refrigerator",
   "metadata": {},
   "outputs": [],
   "source": [
    "# str1의 클래스를 확인합니다.\n",
    "type(str1)"
   ]
  },
  {
   "cell_type": "code",
   "execution_count": null,
   "id": "fewer-aircraft",
   "metadata": {},
   "outputs": [],
   "source": [
    "# str1의 글자수를 반환합니다.\n",
    "len(str1)"
   ]
  },
  {
   "cell_type": "code",
   "execution_count": null,
   "id": "reported-greece",
   "metadata": {},
   "outputs": [],
   "source": [
    "# 변수 str2에 문자열을 할당합니다.\n",
    "str2 = \"you need Python!\""
   ]
  },
  {
   "cell_type": "code",
   "execution_count": null,
   "id": "constitutional-trunk",
   "metadata": {},
   "outputs": [],
   "source": [
    "# str2를 출력합니다.\n",
    "str2"
   ]
  },
  {
   "cell_type": "markdown",
   "id": "continuous-inspiration",
   "metadata": {},
   "source": [
    "#### [참고] 다양한 문자열 생성법"
   ]
  },
  {
   "cell_type": "code",
   "execution_count": null,
   "id": "municipal-maple",
   "metadata": {},
   "outputs": [],
   "source": [
    "# 홑따옴표로 감싼 문자열 안에 홑따옴표를 추가하면 에러가 발생합니다.\n",
    "'Monty Python's Flying Circus'"
   ]
  },
  {
   "cell_type": "code",
   "execution_count": null,
   "id": "imposed-mechanism",
   "metadata": {},
   "outputs": [],
   "source": [
    "# 문자열 안에 홑따옴표를 추가하려면 문자열을 겹따옴표로 감싸주어야 합니다.\n",
    "\"Monty Python's Flying Circus\""
   ]
  },
  {
   "cell_type": "code",
   "execution_count": null,
   "id": "special-commitment",
   "metadata": {},
   "outputs": [],
   "source": [
    "# 만약 홑따옴표를 쓰고 싶다면 안쪽 따옴표 앞에 역슬래쉬(\\) 기호를 추가해야 합니다.\n",
    "'Monty Python\\'s Flying Circus'"
   ]
  },
  {
   "cell_type": "code",
   "execution_count": null,
   "id": "requested-click",
   "metadata": {},
   "outputs": [],
   "source": [
    "# 두 가지 경우를 모두 포함하는 예제입니다.\n",
    "'I\\'m saying \"You need Python!\" now.'"
   ]
  },
  {
   "cell_type": "code",
   "execution_count": null,
   "id": "classified-campbell",
   "metadata": {},
   "outputs": [],
   "source": [
    "# print() 함수는 \\ 기호를 제외한 결과를 출력합니다.\n",
    "print('I\\'m saying \"You need Python!\" now.')"
   ]
  },
  {
   "cell_type": "code",
   "execution_count": null,
   "id": "crazy-criterion",
   "metadata": {},
   "outputs": [],
   "source": [
    "# 여러 줄의 문자열을 생성하려면 홑따옴표나 겹따옴표를 세 번 감싸줍니다.\n",
    "'''hello!\n",
    "Good to see you.'''"
   ]
  },
  {
   "cell_type": "markdown",
   "id": "authentic-champion",
   "metadata": {},
   "source": [
    "#### 문자열 연산자"
   ]
  },
  {
   "cell_type": "code",
   "execution_count": null,
   "id": "split-andorra",
   "metadata": {},
   "outputs": [],
   "source": [
    "# + 기호는 문자열을 하나로 결합합니다.\n",
    "str1 + str2"
   ]
  },
  {
   "cell_type": "code",
   "execution_count": null,
   "id": "international-bolivia",
   "metadata": {},
   "outputs": [],
   "source": [
    "# * 기호는 문자열을 지정된 횟수만큼 반복합니다.\n",
    "str2 * 3"
   ]
  },
  {
   "cell_type": "code",
   "execution_count": null,
   "id": "offshore-europe",
   "metadata": {},
   "outputs": [],
   "source": [
    "# 'a'가 str1에 포함되면 True, 포함되지 않으면 False를 반환합니다.\n",
    "'a' in str1"
   ]
  },
  {
   "cell_type": "code",
   "execution_count": null,
   "id": "straight-region",
   "metadata": {},
   "outputs": [],
   "source": [
    "# 'a'가 str1에 포함되지 않으면 True, 포함되면 False를 반환합니다.\n",
    "'a' not in str1"
   ]
  },
  {
   "cell_type": "markdown",
   "id": "smart-evolution",
   "metadata": {},
   "source": [
    "#### 문자열의 인덱싱"
   ]
  },
  {
   "cell_type": "code",
   "execution_count": null,
   "id": "worthy-adelaide",
   "metadata": {},
   "outputs": [],
   "source": [
    "# sen에 문자열을 할당합니다.\n",
    "sen = '아버지가 안방에 들어가신다.'"
   ]
  },
  {
   "cell_type": "code",
   "execution_count": null,
   "id": "willing-breakdown",
   "metadata": {},
   "outputs": [],
   "source": [
    "# sen의 첫 번째 문자(0번 인덱스)를 선택합니다.\n",
    "sen[0]"
   ]
  },
  {
   "cell_type": "code",
   "execution_count": null,
   "id": "formed-church",
   "metadata": {},
   "outputs": [],
   "source": [
    "# sen의 두 번째 문자(1번 인덱스)를 선택합니다.\n",
    "sen[1]"
   ]
  },
  {
   "cell_type": "code",
   "execution_count": null,
   "id": "common-syria",
   "metadata": {},
   "outputs": [],
   "source": [
    "# sen의 마지막 문자(-1번 인덱스)를 선택합니다.\n",
    "sen[-1]"
   ]
  },
  {
   "cell_type": "markdown",
   "id": "impaired-simulation",
   "metadata": {},
   "source": [
    "#### 문자열의 슬라이싱"
   ]
  },
  {
   "cell_type": "code",
   "execution_count": null,
   "id": "renewable-blair",
   "metadata": {},
   "outputs": [],
   "source": [
    "# sen의 1~3번째 문자를 하나씩 선택하여 하나로 결합합니다.\n",
    "sen[0] + sen[1] + sen[2]"
   ]
  },
  {
   "cell_type": "code",
   "execution_count": null,
   "id": "upset-hebrew",
   "metadata": {},
   "outputs": [],
   "source": [
    "# sen의 0번 인덱스부터 2번 인덱스를 선택합니다.\n",
    "sen[0:3]"
   ]
  },
  {
   "cell_type": "code",
   "execution_count": null,
   "id": "behavioral-reduction",
   "metadata": {},
   "outputs": [],
   "source": [
    "# 콜론 앞에 정수를 생략하면 첫 번째 문자부터 선택합니다.\n",
    "sen[:3]"
   ]
  },
  {
   "cell_type": "code",
   "execution_count": null,
   "id": "weird-cooling",
   "metadata": {},
   "outputs": [],
   "source": [
    "# 콜론 뒤에 정수를 생략하면 마지막 문자까지 선택합니다.\n",
    "sen[9:]"
   ]
  },
  {
   "cell_type": "code",
   "execution_count": null,
   "id": "complete-samuel",
   "metadata": {},
   "outputs": [],
   "source": [
    "# sen의 열 번째 문자부터 끝에서 두 번째 문자를 선택합니다.\n",
    "sen[9:-1]"
   ]
  },
  {
   "cell_type": "code",
   "execution_count": null,
   "id": "acquired-wrestling",
   "metadata": {},
   "outputs": [],
   "source": [
    "# sen의 전체 문자열을 선택합니다.\n",
    "sen[:]"
   ]
  },
  {
   "cell_type": "markdown",
   "id": "beginning-resistance",
   "metadata": {},
   "source": [
    "#### 문자열 공백 제거"
   ]
  },
  {
   "cell_type": "code",
   "execution_count": null,
   "id": "likely-generator",
   "metadata": {},
   "outputs": [],
   "source": [
    "# 문자열 양쪽에 공백을 추가합니다.\n",
    "sen = '\\n 나의 살던 고향은 꽃피는 산골\\t'"
   ]
  },
  {
   "cell_type": "code",
   "execution_count": null,
   "id": "defensive-convergence",
   "metadata": {},
   "outputs": [],
   "source": [
    "# sen을 출력합니다.\n",
    "sen"
   ]
  },
  {
   "cell_type": "code",
   "execution_count": null,
   "id": "dependent-whale",
   "metadata": {
    "scrolled": true
   },
   "outputs": [],
   "source": [
    "# sen에 포함된 속성과 방식 목록을 출력합니다.\n",
    "dir(sen)"
   ]
  },
  {
   "cell_type": "code",
   "execution_count": null,
   "id": "convertible-muslim",
   "metadata": {},
   "outputs": [],
   "source": [
    "# sen의 양쪽 공백을 제거하고 sen에 재할당합니다.\n",
    "sen = sen.strip()"
   ]
  },
  {
   "cell_type": "code",
   "execution_count": null,
   "id": "weekly-train",
   "metadata": {},
   "outputs": [],
   "source": [
    "# sen을 출력합니다. 양쪽 공백이 제거되었습니다.\n",
    "sen"
   ]
  },
  {
   "cell_type": "markdown",
   "id": "continental-concern",
   "metadata": {},
   "source": [
    "#### 문자열 변경"
   ]
  },
  {
   "cell_type": "code",
   "execution_count": null,
   "id": "athletic-snapshot",
   "metadata": {},
   "outputs": [],
   "source": [
    "# sen의 '산골'을 '공원'으로 바꾼 결과를 출력합니다.\n",
    "sen.replace('산골', '공원')"
   ]
  },
  {
   "cell_type": "code",
   "execution_count": null,
   "id": "worst-drawing",
   "metadata": {},
   "outputs": [],
   "source": [
    "# sen을 출력합니다. sen은 값이 업데이트되지 않았으므로 '산골'이 그대로 있습니다.\n",
    "sen"
   ]
  },
  {
   "cell_type": "markdown",
   "id": "computational-frank",
   "metadata": {},
   "source": [
    "#### 문자열 인덱스 확인"
   ]
  },
  {
   "cell_type": "code",
   "execution_count": null,
   "id": "compact-forward",
   "metadata": {},
   "outputs": [],
   "source": [
    "# sen에 포함된 공백의 개수를 반환합니다.\n",
    "sen.count(' ')"
   ]
  },
  {
   "cell_type": "code",
   "execution_count": null,
   "id": "judicial-minneapolis",
   "metadata": {},
   "outputs": [],
   "source": [
    "# sen에서 공백이 처음 나오는 인덱스를 반환합니다.\n",
    "sen.index(' ')"
   ]
  },
  {
   "cell_type": "code",
   "execution_count": null,
   "id": "refined-elements",
   "metadata": {},
   "outputs": [],
   "source": [
    "# index() 함수에 탐색할 범위를 설정할 수 있습니다. 3번 인덱스부터 마지막 인덱스까지 탐색합니다.\n",
    "sen.index(' ', 3, len(sen))"
   ]
  },
  {
   "cell_type": "code",
   "execution_count": null,
   "id": "comic-sellers",
   "metadata": {},
   "outputs": [],
   "source": [
    "# 글자수가 2 이상인 문자도 탐색할 수 있습니다.\n",
    "sen.index('산골')"
   ]
  },
  {
   "cell_type": "code",
   "execution_count": null,
   "id": "broad-regulation",
   "metadata": {},
   "outputs": [],
   "source": [
    "# 문자열에 없는 문자를 입력하면 에러가 발생합니다.\n",
    "sen.index('공원')"
   ]
  },
  {
   "cell_type": "code",
   "execution_count": null,
   "id": "cross-madrid",
   "metadata": {},
   "outputs": [],
   "source": [
    "# find() 함수는 index() 함수와 같은 기능을 수행합니다.\n",
    "# 다만 문자열에 없는 문자를 입력하면 에러를 발생시키는 대신 -1을 반환합니다.\n",
    "sen.find('공원')"
   ]
  },
  {
   "cell_type": "markdown",
   "id": "static-mineral",
   "metadata": {},
   "source": [
    "#### 문자열 분리"
   ]
  },
  {
   "cell_type": "code",
   "execution_count": null,
   "id": "offensive-spoke",
   "metadata": {},
   "outputs": [],
   "source": [
    "# sen을 문자 '은'으로 분리합니다.\n",
    "sen.split('은')"
   ]
  },
  {
   "cell_type": "code",
   "execution_count": null,
   "id": "swedish-civilization",
   "metadata": {},
   "outputs": [],
   "source": [
    "# sen을 공백으로 분리한 결과로 strs를 생성합니다.\n",
    "strs = sen.split()"
   ]
  },
  {
   "cell_type": "code",
   "execution_count": null,
   "id": "twelve-mediterranean",
   "metadata": {},
   "outputs": [],
   "source": [
    "# strs를 출력합니다.\n",
    "strs"
   ]
  },
  {
   "cell_type": "code",
   "execution_count": null,
   "id": "centered-negotiation",
   "metadata": {},
   "outputs": [],
   "source": [
    "# strs의 클래스를 확인합니다.\n",
    "type(strs)"
   ]
  },
  {
   "cell_type": "markdown",
   "id": "optimum-blame",
   "metadata": {},
   "source": [
    "#### 문자열 결합"
   ]
  },
  {
   "cell_type": "code",
   "execution_count": null,
   "id": "structured-ordinance",
   "metadata": {},
   "outputs": [],
   "source": [
    "# strs의 원소 사이에 공백을 추가하여 하나의 문자열로 결합합니다.\n",
    "' '.join(strs)"
   ]
  },
  {
   "cell_type": "code",
   "execution_count": null,
   "id": "finnish-identity",
   "metadata": {},
   "outputs": [],
   "source": [
    "# 원하는 문자를 구분자로 설정할 수 있습니다.\n",
    "'-'.join(strs)"
   ]
  },
  {
   "cell_type": "markdown",
   "id": "junior-peoples",
   "metadata": {},
   "source": [
    "#### 문자열 포맷팅"
   ]
  },
  {
   "cell_type": "code",
   "execution_count": null,
   "id": "overall-overview",
   "metadata": {},
   "outputs": [],
   "source": [
    "# 변수 rate와 name에 적당한 값을 할당합니다.\n",
    "rate = 3.2\n",
    "name = '홍길동'"
   ]
  },
  {
   "cell_type": "code",
   "execution_count": null,
   "id": "joint-necklace",
   "metadata": {},
   "outputs": [],
   "source": [
    "# 문자열의 '%f'에 rate의 값을 실수로 출력합니다.\n",
    "'고객님의 이자율은 %f %%입니다.' %(rate)"
   ]
  },
  {
   "cell_type": "code",
   "execution_count": null,
   "id": "compound-associate",
   "metadata": {},
   "outputs": [],
   "source": [
    "# 실수의 소수점 자리수를 설정하여 출력합니다.\n",
    "'고객님의 이자율은 %.2f %%입니다.' %(rate)"
   ]
  },
  {
   "cell_type": "code",
   "execution_count": null,
   "id": "loving-helen",
   "metadata": {},
   "outputs": [],
   "source": [
    "# name과 rate의 값을 순차적으로 '%s'와 '%f'에 반영합니다.\n",
    "'%s 고객님의 이자율은 %.2f %%입니다.' %(name, rate)"
   ]
  },
  {
   "cell_type": "markdown",
   "id": "novel-albuquerque",
   "metadata": {},
   "source": [
    "#### format() 함수를 사용한 포맷팅"
   ]
  },
  {
   "cell_type": "code",
   "execution_count": null,
   "id": "sunrise-matter",
   "metadata": {},
   "outputs": [],
   "source": [
    "# format() 함수에 입력된 변수를 문자열의 중괄호 안에 적용하여 출력합니다.\n",
    "'{} 고객님의 이자율은 {} %입니다.'.format(name, rate)"
   ]
  },
  {
   "cell_type": "code",
   "execution_count": null,
   "id": "tender-ghana",
   "metadata": {},
   "outputs": [],
   "source": [
    "# format() 함수에 입력된 변수의 인덱스를 중괄호 안에 지정할 수 있습니다.\n",
    "'{0} 고객님의 이자율은 {1} %입니다.'.format(name, rate)"
   ]
  },
  {
   "cell_type": "code",
   "execution_count": null,
   "id": "renewable-charge",
   "metadata": {},
   "outputs": [],
   "source": [
    "# 실수 변수의 소수점 자리수를 설정할 수 있습니다.\n",
    "'{0} 고객님의 이자율은 {1:.2f} %입니다.'.format(name, rate)"
   ]
  },
  {
   "cell_type": "code",
   "execution_count": null,
   "id": "sound-rings",
   "metadata": {},
   "outputs": [],
   "source": [
    "# Python 3.6에서 도입된 f 문자열은 format() 함수보다 간결해졌습니다.\n",
    "f'{name} 고객님의 이자율은 {rate:.2f} %입니다.'"
   ]
  },
  {
   "cell_type": "markdown",
   "id": "earlier-circular",
   "metadata": {},
   "source": [
    "### 원소의 형 변환"
   ]
  },
  {
   "cell_type": "code",
   "execution_count": null,
   "id": "systematic-arrival",
   "metadata": {},
   "outputs": [],
   "source": [
    "# a에 문자열 '1.2'를 할당합니다.\n",
    "a = '1.2'"
   ]
  },
  {
   "cell_type": "code",
   "execution_count": null,
   "id": "beneficial-mailing",
   "metadata": {},
   "outputs": [],
   "source": [
    "# a의 클래스를 확인합니다.\n",
    "type(a)"
   ]
  },
  {
   "cell_type": "code",
   "execution_count": null,
   "id": "generous-outside",
   "metadata": {},
   "outputs": [],
   "source": [
    "# a를 실수로 형 변환하고 b에 할당합니다.\n",
    "b = float(a)"
   ]
  },
  {
   "cell_type": "code",
   "execution_count": null,
   "id": "circular-brand",
   "metadata": {},
   "outputs": [],
   "source": [
    "# b의 클래스를 확인합니다.\n",
    "type(b)"
   ]
  },
  {
   "cell_type": "code",
   "execution_count": null,
   "id": "italic-limit",
   "metadata": {},
   "outputs": [],
   "source": [
    "# a를 정수로 형 변환 시도합니다. (에러가 발생합니다!)\n",
    "c = int(a)"
   ]
  },
  {
   "cell_type": "code",
   "execution_count": null,
   "id": "spread-tenant",
   "metadata": {},
   "outputs": [],
   "source": [
    "# b를 정수로 형 변환하고 c에 할당합니다.\n",
    "c = int(b)"
   ]
  },
  {
   "cell_type": "code",
   "execution_count": null,
   "id": "nominated-secretary",
   "metadata": {},
   "outputs": [],
   "source": [
    "# c의 클래스를 확인합니다.\n",
    "type(c)"
   ]
  },
  {
   "cell_type": "markdown",
   "id": "applicable-vulnerability",
   "metadata": {},
   "source": [
    "### 부울"
   ]
  },
  {
   "cell_type": "code",
   "execution_count": null,
   "id": "ranging-alexandria",
   "metadata": {},
   "outputs": [],
   "source": [
    "# 변수 a에 True를 할당합니다.\n",
    "a = True"
   ]
  },
  {
   "cell_type": "code",
   "execution_count": null,
   "id": "multiple-reggae",
   "metadata": {},
   "outputs": [],
   "source": [
    "# a의 클래스를 확인합니다.\n",
    "type(a)"
   ]
  },
  {
   "cell_type": "code",
   "execution_count": null,
   "id": "macro-burden",
   "metadata": {},
   "outputs": [],
   "source": [
    "# 어떤 객체를 True/False로 반환합니다.\n",
    "bool(1)"
   ]
  },
  {
   "cell_type": "markdown",
   "id": "coastal-potter",
   "metadata": {},
   "source": [
    "### 리스트"
   ]
  },
  {
   "cell_type": "markdown",
   "id": "killing-cassette",
   "metadata": {},
   "source": [
    "#### 리스트 생성"
   ]
  },
  {
   "cell_type": "code",
   "execution_count": null,
   "id": "important-receiver",
   "metadata": {},
   "outputs": [],
   "source": [
    "# 빈 리스트를 생성합니다.\n",
    "a = []"
   ]
  },
  {
   "cell_type": "code",
   "execution_count": null,
   "id": "intense-wallace",
   "metadata": {},
   "outputs": [],
   "source": [
    "# a의 클래스를 확인합니다.\n",
    "type(a)"
   ]
  },
  {
   "cell_type": "code",
   "execution_count": null,
   "id": "innocent-hydrogen",
   "metadata": {},
   "outputs": [],
   "source": [
    "# 리스트 원소를 콤마(,)로 구분하여 생성합니다.\n",
    "b = [1, 5, 3]"
   ]
  },
  {
   "cell_type": "code",
   "execution_count": null,
   "id": "dutch-bulgaria",
   "metadata": {},
   "outputs": [],
   "source": [
    "# b를 출력합니다.\n",
    "b"
   ]
  },
  {
   "cell_type": "code",
   "execution_count": null,
   "id": "happy-handle",
   "metadata": {},
   "outputs": [],
   "source": [
    "# 여러 자료형을 원소로 갖는 리스트를 생성합니다.\n",
    "c = [1, 2.0, 'a']"
   ]
  },
  {
   "cell_type": "code",
   "execution_count": null,
   "id": "approximate-characterization",
   "metadata": {},
   "outputs": [],
   "source": [
    "# c를 출력합니다.\n",
    "c"
   ]
  },
  {
   "cell_type": "code",
   "execution_count": null,
   "id": "technological-password",
   "metadata": {},
   "outputs": [],
   "source": [
    "# 여러 변수로 하나의 리스트를 생성합니다.\n",
    "[a, b, c]"
   ]
  },
  {
   "cell_type": "markdown",
   "id": "cognitive-survey",
   "metadata": {},
   "source": [
    "#### 리스트의 인덱싱"
   ]
  },
  {
   "cell_type": "code",
   "execution_count": null,
   "id": "naked-interface",
   "metadata": {},
   "outputs": [],
   "source": [
    "# 리스트를 생성합니다.\n",
    "a = [1, 2, '3', '4', ['가', '나', '다']]"
   ]
  },
  {
   "cell_type": "code",
   "execution_count": null,
   "id": "careful-suffering",
   "metadata": {},
   "outputs": [],
   "source": [
    "# a의 0번 인덱스 원소와 1번 인덱스 원소를 더합니다.\n",
    "a[0] + a[1]"
   ]
  },
  {
   "cell_type": "code",
   "execution_count": null,
   "id": "acute-charter",
   "metadata": {},
   "outputs": [],
   "source": [
    "# a의 2번 인덱스 원소와 3번 인덱스 원소를 결합합니다.\n",
    "a[2] + a[3]"
   ]
  },
  {
   "cell_type": "code",
   "execution_count": null,
   "id": "adjusted-cincinnati",
   "metadata": {},
   "outputs": [],
   "source": [
    "# a의 4번 인덱스 원소는 리스트이므로, 대괄호를 이어서 사용하면 리스트의 개별 원소를 반환합니다.\n",
    "a[4][0]"
   ]
  },
  {
   "cell_type": "markdown",
   "id": "desperate-television",
   "metadata": {},
   "source": [
    "#### 리스트의 슬라이싱"
   ]
  },
  {
   "cell_type": "code",
   "execution_count": null,
   "id": "received-cabinet",
   "metadata": {},
   "outputs": [],
   "source": [
    "# a의 0~1번 인덱스 원소를 선택합니다.\n",
    "a[0:2]"
   ]
  },
  {
   "cell_type": "code",
   "execution_count": null,
   "id": "brief-symphony",
   "metadata": {},
   "outputs": [],
   "source": [
    "# a의 2~3번 인덱스 원소를 선택합니다.\n",
    "a[2:4]"
   ]
  },
  {
   "cell_type": "code",
   "execution_count": null,
   "id": "unable-distinction",
   "metadata": {},
   "outputs": [],
   "source": [
    "# a의 0~3번 인덱스 원소를 선택합니다.\n",
    "a[:4]"
   ]
  },
  {
   "cell_type": "code",
   "execution_count": null,
   "id": "elect-apparel",
   "metadata": {},
   "outputs": [],
   "source": [
    "# a의 4~마지막 원소를 선택합니다.\n",
    "a[4:]"
   ]
  },
  {
   "cell_type": "code",
   "execution_count": null,
   "id": "written-prairie",
   "metadata": {},
   "outputs": [],
   "source": [
    "# a의 처음부터 끝에서 두 번째 원소를 선택합니다.\n",
    "a[:-1]"
   ]
  },
  {
   "cell_type": "markdown",
   "id": "chronic-remove",
   "metadata": {},
   "source": [
    "#### 이중 콜론 연산자"
   ]
  },
  {
   "cell_type": "code",
   "execution_count": null,
   "id": "sustained-alexandria",
   "metadata": {},
   "outputs": [],
   "source": [
    "# 리스트를 생성합니다.\n",
    "a = [1, 2, 3, 4, 5, 6]"
   ]
  },
  {
   "cell_type": "code",
   "execution_count": null,
   "id": "brown-reservoir",
   "metadata": {},
   "outputs": [],
   "source": [
    "# a의 1~4번 인덱스 원소에서 두 칸 간격인 1번, 3번 인덱스 원소를 반환합니다.\n",
    "a[1:5:2]"
   ]
  },
  {
   "cell_type": "code",
   "execution_count": null,
   "id": "cooperative-inventory",
   "metadata": {},
   "outputs": [],
   "source": [
    "# a의 처음부터 4번 인덱스 원소까지 두 칸 간격인 0번, 2번, 4번 인덱스 원소를 반환합니다.\n",
    "a[:5:2]"
   ]
  },
  {
   "cell_type": "code",
   "execution_count": null,
   "id": "northern-final",
   "metadata": {},
   "outputs": [],
   "source": [
    "# a의 1번 인덱스부터 마지막 원소까지 두 칸 간격으로 반환합니다.\n",
    "a[1::2]"
   ]
  },
  {
   "cell_type": "code",
   "execution_count": null,
   "id": "acknowledged-arthritis",
   "metadata": {},
   "outputs": [],
   "source": [
    "# a의 처음부터 마지막 원소까지 두 칸 간격으로 반환합니다.\n",
    "a[::2]"
   ]
  },
  {
   "cell_type": "code",
   "execution_count": null,
   "id": "municipal-yellow",
   "metadata": {},
   "outputs": [],
   "source": [
    "# a의 전체 원소를 역순으로 반환합니다. 내림차순 정렬이 아닙니다.\n",
    "a[::-1]"
   ]
  },
  {
   "cell_type": "markdown",
   "id": "beneficial-horizontal",
   "metadata": {},
   "source": [
    "#### 리스트의 인덱싱 및 슬라이싱 관련 주의사항"
   ]
  },
  {
   "cell_type": "code",
   "execution_count": null,
   "id": "increased-employment",
   "metadata": {},
   "outputs": [],
   "source": [
    "# 대괄호 안에 아무것도 입력하지 않으면 에러가 발생합니다.\n",
    "a[]"
   ]
  },
  {
   "cell_type": "code",
   "execution_count": null,
   "id": "pointed-investor",
   "metadata": {},
   "outputs": [],
   "source": [
    "# 빈 콜론을 입력하면 리스트 a의 전체 원소를 반환합니다.\n",
    "a[:]"
   ]
  },
  {
   "cell_type": "code",
   "execution_count": null,
   "id": "applied-mechanism",
   "metadata": {},
   "outputs": [],
   "source": [
    "# 대괄호 안에 인덱스를 스칼라로 설정하면 해당 원소를 본래 자료형으로 반환합니다.\n",
    "a[0]"
   ]
  },
  {
   "cell_type": "code",
   "execution_count": null,
   "id": "therapeutic-ballet",
   "metadata": {},
   "outputs": [],
   "source": [
    "# 대괄호 안에 콜론을 사용하면 연속된 원소를 항상 리스트로 반환합니다.\n",
    "a[0:1]"
   ]
  },
  {
   "cell_type": "code",
   "execution_count": null,
   "id": "juvenile-baseline",
   "metadata": {},
   "outputs": [],
   "source": [
    "# 대괄호 안에 리스트를 입력하면 에러가 발생합니다.\n",
    "a[[0, 1]]"
   ]
  },
  {
   "cell_type": "markdown",
   "id": "funded-haiti",
   "metadata": {},
   "source": [
    "#### range() 함수 사용법"
   ]
  },
  {
   "cell_type": "code",
   "execution_count": null,
   "id": "false-occupation",
   "metadata": {},
   "outputs": [],
   "source": [
    "# 0부터 4까지 연속된 정수를 a에 할당합니다.\n",
    "a = range(5)"
   ]
  },
  {
   "cell_type": "code",
   "execution_count": null,
   "id": "settled-insured",
   "metadata": {},
   "outputs": [],
   "source": [
    "# a를 출력합니다.\n",
    "a"
   ]
  },
  {
   "cell_type": "code",
   "execution_count": null,
   "id": "retained-creation",
   "metadata": {},
   "outputs": [],
   "source": [
    "# a의 클래스를 확인합니다.\n",
    "type(a)"
   ]
  },
  {
   "cell_type": "code",
   "execution_count": null,
   "id": "institutional-leadership",
   "metadata": {},
   "outputs": [],
   "source": [
    "# a를 리스트로 변환하고, a에 재할당합니다.\n",
    "a = list(a)"
   ]
  },
  {
   "cell_type": "code",
   "execution_count": null,
   "id": "tough-accounting",
   "metadata": {},
   "outputs": [],
   "source": [
    "# range() 함수에 정수를 두 개 입력하면, 두 숫자 사이의 연속된 정수를 반환합니다.\n",
    "list(range(1, 6))"
   ]
  },
  {
   "cell_type": "code",
   "execution_count": null,
   "id": "chief-herald",
   "metadata": {},
   "outputs": [],
   "source": [
    "# range() 함수에 정수를 세 개 입력하면, 마지막 숫자는 간격으로 설정됩니다.\n",
    "list(range(1, 11, 2))"
   ]
  },
  {
   "cell_type": "markdown",
   "id": "expressed-inflation",
   "metadata": {},
   "source": [
    "#### 리스트 원소 추가"
   ]
  },
  {
   "cell_type": "code",
   "execution_count": null,
   "id": "simplified-artwork",
   "metadata": {},
   "outputs": [],
   "source": [
    "# a에 정수 5를 마지막 원소로 추가합니다.\n",
    "a.append(5)"
   ]
  },
  {
   "cell_type": "code",
   "execution_count": null,
   "id": "bibliographic-estate",
   "metadata": {},
   "outputs": [],
   "source": [
    "# a를 출력합니다.\n",
    "a"
   ]
  },
  {
   "cell_type": "code",
   "execution_count": null,
   "id": "canadian-anniversary",
   "metadata": {},
   "outputs": [],
   "source": [
    "# append() 함수에 리스트를 입력하면, 해당 리스트가 원소로 추가됩니다.\n",
    "a.append([6, 7])"
   ]
  },
  {
   "cell_type": "code",
   "execution_count": null,
   "id": "falling-nation",
   "metadata": {},
   "outputs": [],
   "source": [
    "# a를 출력합니다.\n",
    "a"
   ]
  },
  {
   "cell_type": "code",
   "execution_count": null,
   "id": "intended-thanksgiving",
   "metadata": {},
   "outputs": [],
   "source": [
    "# extend() 함수에 입력된 리스트의 원소를 a에 추가합니다.\n",
    "a.extend([8, 9])"
   ]
  },
  {
   "cell_type": "code",
   "execution_count": null,
   "id": "hairy-holmes",
   "metadata": {},
   "outputs": [],
   "source": [
    "# a를 출력합니다.\n",
    "a"
   ]
  },
  {
   "cell_type": "markdown",
   "id": "exempt-registrar",
   "metadata": {},
   "source": [
    "#### 리스트 원소 삽입"
   ]
  },
  {
   "cell_type": "code",
   "execution_count": null,
   "id": "failing-reliance",
   "metadata": {},
   "outputs": [],
   "source": [
    "# a의 1번 인덱스 앞에 정수 10을 삽입합니다.\n",
    "a.insert(1, 10)"
   ]
  },
  {
   "cell_type": "code",
   "execution_count": null,
   "id": "checked-novelty",
   "metadata": {},
   "outputs": [],
   "source": [
    "# a를 출력합니다.\n",
    "a"
   ]
  },
  {
   "cell_type": "markdown",
   "id": "hundred-strain",
   "metadata": {},
   "source": [
    "#### 리스트 원소 삭제"
   ]
  },
  {
   "cell_type": "code",
   "execution_count": null,
   "id": "filled-tracker",
   "metadata": {},
   "outputs": [],
   "source": [
    "# remove() 함수는 입력된 값을 (중복된 경우 맨 처음) 하나만 삭제합니다.\n",
    "a.remove([6, 7])"
   ]
  },
  {
   "cell_type": "code",
   "execution_count": null,
   "id": "announced-tower",
   "metadata": {},
   "outputs": [],
   "source": [
    "# a를 출력합니다.\n",
    "a"
   ]
  },
  {
   "cell_type": "code",
   "execution_count": null,
   "id": "given-animation",
   "metadata": {},
   "outputs": [],
   "source": [
    "# pop() 함수는 입력된 인덱스의 원소를 출력하고, 해당 원소를 제거한 결과를 재할당합니다.\n",
    "a.pop(2)"
   ]
  },
  {
   "cell_type": "code",
   "execution_count": null,
   "id": "developmental-twins",
   "metadata": {},
   "outputs": [],
   "source": [
    "# a를 출력합니다.\n",
    "a"
   ]
  },
  {
   "cell_type": "markdown",
   "id": "numerous-boundary",
   "metadata": {},
   "source": [
    "#### 리스트 원소 변경"
   ]
  },
  {
   "cell_type": "code",
   "execution_count": null,
   "id": "dangerous-clarity",
   "metadata": {},
   "outputs": [],
   "source": [
    "# a의 0번 인덱스 원소를 정수 1로 변경합니다.\n",
    "a[0] = 1"
   ]
  },
  {
   "cell_type": "code",
   "execution_count": null,
   "id": "hourly-branch",
   "metadata": {},
   "outputs": [],
   "source": [
    "# a를 출력합니다.\n",
    "a"
   ]
  },
  {
   "cell_type": "code",
   "execution_count": null,
   "id": "original-fitness",
   "metadata": {},
   "outputs": [],
   "source": [
    "# a의 3~4번 인덱스 원소를 리스트 [7, 6]의 원소로 변경합니다.\n",
    "a[3:5] = [7, 6]"
   ]
  },
  {
   "cell_type": "code",
   "execution_count": null,
   "id": "completed-devon",
   "metadata": {},
   "outputs": [],
   "source": [
    "# a를 출력합니다.\n",
    "a"
   ]
  },
  {
   "cell_type": "code",
   "execution_count": null,
   "id": "laughing-bradford",
   "metadata": {},
   "outputs": [],
   "source": [
    "# a의 3번 인덱스 원소를 리스트 [4, 3]으로 변경합니다.\n",
    "a[3] = [4, 3]"
   ]
  },
  {
   "cell_type": "code",
   "execution_count": null,
   "id": "illegal-bearing",
   "metadata": {},
   "outputs": [],
   "source": [
    "# a를 출력합니다.\n",
    "a"
   ]
  },
  {
   "cell_type": "markdown",
   "id": "living-cornwall",
   "metadata": {},
   "source": [
    "#### 리스트 연산자"
   ]
  },
  {
   "cell_type": "code",
   "execution_count": null,
   "id": "systematic-complexity",
   "metadata": {},
   "outputs": [],
   "source": [
    "# a와 a를 결합합니다.\n",
    "a + a"
   ]
  },
  {
   "cell_type": "code",
   "execution_count": null,
   "id": "accompanied-cross",
   "metadata": {},
   "outputs": [],
   "source": [
    "# a의 전체 원소를 두 번 반복합니다.\n",
    "a * 2"
   ]
  },
  {
   "cell_type": "code",
   "execution_count": null,
   "id": "behind-folks",
   "metadata": {},
   "outputs": [],
   "source": [
    "# 1이 리스트 a의 원소이면 True, 원소가 아니면 False를 반환합니다.\n",
    "1 in a"
   ]
  },
  {
   "cell_type": "code",
   "execution_count": null,
   "id": "automated-broad",
   "metadata": {},
   "outputs": [],
   "source": [
    "# 1이 리스트 a의 원소가 아니면 True, 원소이면 False를 반환합니다.\n",
    "1 not in a"
   ]
  },
  {
   "cell_type": "markdown",
   "id": "backed-cosmetic",
   "metadata": {},
   "source": [
    "#### 리스트 원소 확인"
   ]
  },
  {
   "cell_type": "code",
   "execution_count": null,
   "id": "north-gothic",
   "metadata": {},
   "outputs": [],
   "source": [
    "# a의 원소에 1이 몇 개 있는지 확인합니다.\n",
    "a.count(1)"
   ]
  },
  {
   "cell_type": "code",
   "execution_count": null,
   "id": "finite-humanitarian",
   "metadata": {},
   "outputs": [],
   "source": [
    "# 리스트에 없는 원소를 입력하면 0을 반환합니다.\n",
    "a.count(7)"
   ]
  },
  {
   "cell_type": "code",
   "execution_count": null,
   "id": "heated-conversation",
   "metadata": {},
   "outputs": [],
   "source": [
    "# 리스트 원소 중 1이 처음 나오는 인덱스를 반환합니다.\n",
    "a.index(1)"
   ]
  },
  {
   "cell_type": "code",
   "execution_count": null,
   "id": "missing-barrel",
   "metadata": {},
   "outputs": [],
   "source": [
    "# 리스트에 없는 원소를 입력하면 에러가 발생합니다.\n",
    "a.index(7)"
   ]
  },
  {
   "cell_type": "markdown",
   "id": "soviet-highland",
   "metadata": {},
   "source": [
    "#### 리스트 원소 정렬"
   ]
  },
  {
   "cell_type": "code",
   "execution_count": null,
   "id": "indie-religion",
   "metadata": {},
   "outputs": [],
   "source": [
    "# a에 포함된 리스트 [4, 3]을 삭제합니다.\n",
    "a.remove([4, 3])"
   ]
  },
  {
   "cell_type": "code",
   "execution_count": null,
   "id": "opposite-mozambique",
   "metadata": {},
   "outputs": [],
   "source": [
    "# a의 원소를 오름차순으로 정렬합니다.\n",
    "a.sort()"
   ]
  },
  {
   "cell_type": "code",
   "execution_count": null,
   "id": "liable-anchor",
   "metadata": {},
   "outputs": [],
   "source": [
    "# a를 출력합니다.\n",
    "a"
   ]
  },
  {
   "cell_type": "code",
   "execution_count": null,
   "id": "modular-complement",
   "metadata": {},
   "outputs": [],
   "source": [
    "# a의 원소를 역순으로 변경합니다.\n",
    "a.reverse()"
   ]
  },
  {
   "cell_type": "code",
   "execution_count": null,
   "id": "compact-commissioner",
   "metadata": {},
   "outputs": [],
   "source": [
    "# a를 출력합니다.\n",
    "a"
   ]
  },
  {
   "cell_type": "markdown",
   "id": "joined-platform",
   "metadata": {},
   "source": [
    "### 튜플"
   ]
  },
  {
   "cell_type": "code",
   "execution_count": null,
   "id": "internal-lease",
   "metadata": {},
   "outputs": [],
   "source": [
    "# 튜플을 생성합니다.\n",
    "t = (1, 2.0, '3')"
   ]
  },
  {
   "cell_type": "code",
   "execution_count": null,
   "id": "insured-criminal",
   "metadata": {},
   "outputs": [],
   "source": [
    "# tuple() 클래스는 리스트를 튜플로 변환합니다.\n",
    "t = tuple([1, 2.0, '3'])"
   ]
  },
  {
   "cell_type": "code",
   "execution_count": null,
   "id": "differential-nation",
   "metadata": {},
   "outputs": [],
   "source": [
    "# t를 출력합니다.\n",
    "t"
   ]
  },
  {
   "cell_type": "code",
   "execution_count": null,
   "id": "unlike-bracelet",
   "metadata": {},
   "outputs": [],
   "source": [
    "# t의 클래스를 확인합니다.\n",
    "type(t)"
   ]
  },
  {
   "cell_type": "markdown",
   "id": "varying-northern",
   "metadata": {},
   "source": [
    "### 딕셔너리"
   ]
  },
  {
   "cell_type": "markdown",
   "id": "theoretical-screw",
   "metadata": {},
   "source": [
    "#### 딕셔너리 생성"
   ]
  },
  {
   "cell_type": "code",
   "execution_count": null,
   "id": "protected-unknown",
   "metadata": {},
   "outputs": [],
   "source": [
    "# 딕셔너리를 생성합니다.\n",
    "d = {'item' : 'pants', 'size' : ['S', 'M', 'L', 'XL']}"
   ]
  },
  {
   "cell_type": "code",
   "execution_count": null,
   "id": "permanent-booking",
   "metadata": {},
   "outputs": [],
   "source": [
    "# d를 출력합니다.\n",
    "d"
   ]
  },
  {
   "cell_type": "code",
   "execution_count": null,
   "id": "three-classics",
   "metadata": {},
   "outputs": [],
   "source": [
    "# d의 클래스를 확인합니다.\n",
    "type(d)"
   ]
  },
  {
   "cell_type": "code",
   "execution_count": null,
   "id": "further-elimination",
   "metadata": {},
   "outputs": [],
   "source": [
    "# dict() 클래스로 딕셔너리를 생성합니다.\n",
    "dict(item = 'pants')"
   ]
  },
  {
   "cell_type": "code",
   "execution_count": null,
   "id": "rental-frame",
   "metadata": {},
   "outputs": [],
   "source": [
    "# key를 따옴표로 감싸면 에러가 발생합니다.\n",
    "dict('item' = 'pants')"
   ]
  },
  {
   "cell_type": "code",
   "execution_count": null,
   "id": "directed-julian",
   "metadata": {},
   "outputs": [],
   "source": [
    "# 콜론을 사용하면 에러가 발생합니다.\n",
    "dict(item : 'pants')"
   ]
  },
  {
   "cell_type": "markdown",
   "id": "armed-african",
   "metadata": {},
   "source": [
    "#### 딕셔너리 원소 선택"
   ]
  },
  {
   "cell_type": "code",
   "execution_count": null,
   "id": "elegant-patent",
   "metadata": {
    "scrolled": true
   },
   "outputs": [],
   "source": [
    "# d에서 key가 'item'인 원소의 value를 반환합니다.\n",
    "d['item']"
   ]
  },
  {
   "cell_type": "code",
   "execution_count": null,
   "id": "excessive-modification",
   "metadata": {},
   "outputs": [],
   "source": [
    "# d에서 key가 'items'인 원소의 value를 반환합니다. (에러가 발생합니다!)\n",
    "d['items']"
   ]
  },
  {
   "cell_type": "markdown",
   "id": "strategic-flood",
   "metadata": {},
   "source": [
    "#### 딕셔너리 원소 추가"
   ]
  },
  {
   "cell_type": "code",
   "execution_count": null,
   "id": "forced-ebony",
   "metadata": {},
   "outputs": [],
   "source": [
    "# d에서 key가 'shop'인 원소가 포함되어 있는지 확인합니다.\n",
    "'shop' in d"
   ]
  },
  {
   "cell_type": "code",
   "execution_count": null,
   "id": "julian-ocean",
   "metadata": {},
   "outputs": [],
   "source": [
    "# d에서 key가 'shop'인 원소를 추가하고 value에 'A1'을 할당합니다.\n",
    "d['shop'] = 'A1'"
   ]
  },
  {
   "cell_type": "code",
   "execution_count": null,
   "id": "tested-collect",
   "metadata": {},
   "outputs": [],
   "source": [
    "# d를 출력합니다.\n",
    "d"
   ]
  },
  {
   "cell_type": "markdown",
   "id": "great-beverage",
   "metadata": {},
   "source": [
    "#### 딕셔너리 원소 변경"
   ]
  },
  {
   "cell_type": "code",
   "execution_count": null,
   "id": "sapphire-plaza",
   "metadata": {},
   "outputs": [],
   "source": [
    "# d에서 key가 'item'인 원소의 value를 'skirt'로 변경합니다.\n",
    "d['item'] = 'skirt'"
   ]
  },
  {
   "cell_type": "code",
   "execution_count": null,
   "id": "dependent-assist",
   "metadata": {},
   "outputs": [],
   "source": [
    "# d에서 key가 'item'인 원소인 value를 반환합니다.\n",
    "d['item']"
   ]
  },
  {
   "cell_type": "markdown",
   "id": "understood-ability",
   "metadata": {},
   "source": [
    "#### 딕셔너리 원소 삭제"
   ]
  },
  {
   "cell_type": "code",
   "execution_count": null,
   "id": "amateur-insulin",
   "metadata": {},
   "outputs": [],
   "source": [
    "# del 문을 이용하여 d에서 key가 'item'인 원소를 제거합니다.\n",
    "del d['item']"
   ]
  },
  {
   "cell_type": "code",
   "execution_count": null,
   "id": "handmade-penguin",
   "metadata": {},
   "outputs": [],
   "source": [
    "# d를 출력합니다.\n",
    "d"
   ]
  },
  {
   "cell_type": "markdown",
   "id": "manual-estate",
   "metadata": {},
   "source": [
    "#### 딕셔너리 key와 value 반환"
   ]
  },
  {
   "cell_type": "code",
   "execution_count": null,
   "id": "national-swimming",
   "metadata": {},
   "outputs": [],
   "source": [
    "# keys() 함수는 딕셔너리의 key를 리스트로 반환합니다.\n",
    "list(d.keys())"
   ]
  },
  {
   "cell_type": "code",
   "execution_count": null,
   "id": "parallel-compound",
   "metadata": {},
   "outputs": [],
   "source": [
    "# values() 함수는 딕셔너리의 values를 리스트로 반환합니다.\n",
    "list(d.values())"
   ]
  },
  {
   "cell_type": "code",
   "execution_count": null,
   "id": "equal-panama",
   "metadata": {},
   "outputs": [],
   "source": [
    "# items() 함수는 딕셔너리의 key와 value를 함께 리스트로 반환합니다.\n",
    "list(d.items())"
   ]
  },
  {
   "cell_type": "markdown",
   "id": "electronic-henry",
   "metadata": {},
   "source": [
    "### 집합"
   ]
  },
  {
   "cell_type": "code",
   "execution_count": null,
   "id": "martial-compact",
   "metadata": {},
   "outputs": [],
   "source": [
    "# 집합을 생성합니다.\n",
    "s = {3, 1, 2, 1, 3, 2}"
   ]
  },
  {
   "cell_type": "code",
   "execution_count": null,
   "id": "satisfactory-gossip",
   "metadata": {},
   "outputs": [],
   "source": [
    "# set() 클래스는 리스트를 집합으로 변환합니다.\n",
    "s = set([3, 1, 2, 1, 3, 2])"
   ]
  },
  {
   "cell_type": "code",
   "execution_count": null,
   "id": "japanese-mechanics",
   "metadata": {},
   "outputs": [],
   "source": [
    "# s를 출력합니다.\n",
    "s"
   ]
  },
  {
   "cell_type": "code",
   "execution_count": null,
   "id": "plastic-honduras",
   "metadata": {},
   "outputs": [],
   "source": [
    "# s의 클래스를 확인합니다.\n",
    "type(s)"
   ]
  },
  {
   "cell_type": "markdown",
   "id": "neutral-brazilian",
   "metadata": {},
   "source": [
    "<p style=\"font-family:verdana;font-size:200%;text-align:center;\">End of Document</p>"
   ]
  }
 ],
 "metadata": {
  "kernelspec": {
   "display_name": "Python 3",
   "language": "python",
   "name": "python3"
  },
  "language_info": {
   "codemirror_mode": {
    "name": "ipython",
    "version": 3
   },
   "file_extension": ".py",
   "mimetype": "text/x-python",
   "name": "python",
   "nbconvert_exporter": "python",
   "pygments_lexer": "ipython3",
   "version": "3.9.2"
  },
  "toc": {
   "base_numbering": 1,
   "nav_menu": {},
   "number_sections": true,
   "sideBar": true,
   "skip_h1_title": false,
   "title_cell": "Table of Contents",
   "title_sidebar": "Contents",
   "toc_cell": false,
   "toc_position": {},
   "toc_section_display": true,
   "toc_window_display": false
  },
  "varInspector": {
   "cols": {
    "lenName": 16,
    "lenType": 16,
    "lenVar": 40
   },
   "kernels_config": {
    "python": {
     "delete_cmd_postfix": "",
     "delete_cmd_prefix": "del ",
     "library": "var_list.py",
     "varRefreshCmd": "print(var_dic_list())"
    },
    "r": {
     "delete_cmd_postfix": ") ",
     "delete_cmd_prefix": "rm(",
     "library": "var_list.r",
     "varRefreshCmd": "cat(var_dic_list()) "
    }
   },
   "types_to_exclude": [
    "module",
    "function",
    "builtin_function_or_method",
    "instance",
    "_Feature"
   ],
   "window_display": false
  }
 },
 "nbformat": 4,
 "nbformat_minor": 5
}
