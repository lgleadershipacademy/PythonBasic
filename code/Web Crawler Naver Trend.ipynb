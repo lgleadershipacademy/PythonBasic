{
 "cells": [
  {
   "cell_type": "markdown",
   "id": "brutal-irrigation",
   "metadata": {},
   "source": [
    "## 셀레늄 환경 설정"
   ]
  },
  {
   "cell_type": "markdown",
   "id": "recovered-metadata",
   "metadata": {},
   "source": [
    "- 크롬드라이브 다운로드 : https://chromedriver.chromium.org/downloads\n",
    "- 셀레늄 서버 다운로드 : https://www.selenium.dev/downloads/\n",
    "\n",
    "\n",
    "- 크롬드라이브는 크롬 버전을 확인하고 다운로드\n",
    "- 크롬드라이브는 압축파일로 받으므로 압축 해제 후 driver 폴더로 이동\n",
    "- 셀레늄 서버 파일은 그냥 selenium 폴더로 이동"
   ]
  },
  {
   "cell_type": "code",
   "execution_count": null,
   "id": "delayed-treaty",
   "metadata": {},
   "outputs": [],
   "source": [
    "# 패키지 설치\n",
    "# !pip install selenium\n",
    "# !pip install bs4\n",
    "# !pip install lxml"
   ]
  },
  {
   "cell_type": "code",
   "execution_count": 1,
   "id": "sticky-introduction",
   "metadata": {},
   "outputs": [],
   "source": [
    "import os\n",
    "from selenium import webdriver\n",
    "from bs4 import BeautifulSoup as bts\n",
    "import lxml"
   ]
  },
  {
   "cell_type": "code",
   "execution_count": 2,
   "id": "essential-distinction",
   "metadata": {},
   "outputs": [
    {
     "data": {
      "text/plain": [
       "'C:\\\\Users\\\\14T90N-VR56K\\\\Documents\\\\Project\\\\code'"
      ]
     },
     "execution_count": 2,
     "metadata": {},
     "output_type": "execute_result"
    }
   ],
   "source": [
    "os.getcwd()"
   ]
  },
  {
   "cell_type": "code",
   "execution_count": 3,
   "id": "accepted-setup",
   "metadata": {},
   "outputs": [],
   "source": [
    "driver = webdriver.Chrome('C:\\\\Users\\\\14T90N-VR56K\\\\Documents\\\\Project\\\\driver\\\\chromedriver')"
   ]
  },
  {
   "cell_type": "code",
   "execution_count": 4,
   "id": "premium-diameter",
   "metadata": {},
   "outputs": [],
   "source": [
    "driver.get('https://datalab.naver.com/keyword/trendSearch.naver')"
   ]
  },
  {
   "cell_type": "code",
   "execution_count": 5,
   "id": "logical-record",
   "metadata": {},
   "outputs": [],
   "source": [
    "driver.implicitly_wait(3)"
   ]
  },
  {
   "cell_type": "code",
   "execution_count": 6,
   "id": "cheap-marsh",
   "metadata": {},
   "outputs": [],
   "source": [
    "driver.find_element_by_xpath('//*[@id=\"item_keyword1\"]').send_keys('메디헤어')"
   ]
  },
  {
   "cell_type": "code",
   "execution_count": 7,
   "id": "front-commander",
   "metadata": {},
   "outputs": [],
   "source": [
    "driver.find_element_by_xpath('//*[@id=\"startYear\"]').click()"
   ]
  },
  {
   "cell_type": "code",
   "execution_count": 8,
   "id": "synthetic-leonard",
   "metadata": {},
   "outputs": [],
   "source": [
    "# 2021년 선택\n",
    "driver.find_element_by_xpath('//*[@id=\"startYearDiv\"]/ul/li[6]/a').click()"
   ]
  },
  {
   "cell_type": "code",
   "execution_count": 9,
   "id": "third-shark",
   "metadata": {},
   "outputs": [],
   "source": [
    "driver.find_element_by_xpath('//*[@id=\"startMonth\"]').click()"
   ]
  },
  {
   "cell_type": "code",
   "execution_count": 10,
   "id": "differential-patrick",
   "metadata": {},
   "outputs": [],
   "source": [
    "# 01월 선택\n",
    "driver.find_element_by_xpath('//*[@id=\"startMonthDiv\"]/ul/li[1]/a').click()"
   ]
  },
  {
   "cell_type": "code",
   "execution_count": 11,
   "id": "interim-deputy",
   "metadata": {},
   "outputs": [],
   "source": [
    "driver.find_element_by_xpath('//*[@id=\"startDay\"]').click()"
   ]
  },
  {
   "cell_type": "code",
   "execution_count": 12,
   "id": "alpha-providence",
   "metadata": {},
   "outputs": [],
   "source": [
    "# 01일 선택\n",
    "driver.find_element_by_xpath('//*[@id=\"startDayDiv\"]/ul/li[1]/a').click()"
   ]
  },
  {
   "cell_type": "code",
   "execution_count": 13,
   "id": "remarkable-blast",
   "metadata": {},
   "outputs": [],
   "source": [
    "# 범위 전체 선택\n",
    "driver.find_element_by_xpath('//*[@id=\"item_device_0\"]').click()"
   ]
  },
  {
   "cell_type": "code",
   "execution_count": 14,
   "id": "optimum-moderator",
   "metadata": {},
   "outputs": [],
   "source": [
    "# 성별 전체 선택\n",
    "driver.find_element_by_xpath('//*[@id=\"item_gender_0\"]').click()"
   ]
  },
  {
   "cell_type": "code",
   "execution_count": 15,
   "id": "proved-camcorder",
   "metadata": {},
   "outputs": [],
   "source": [
    "# 연령 전체 선택\n",
    "driver.find_element_by_xpath('//*[@id=\"item_age_0\"]').click()"
   ]
  },
  {
   "cell_type": "code",
   "execution_count": 16,
   "id": "republican-assessment",
   "metadata": {},
   "outputs": [],
   "source": [
    "# 네이버 검색 데이터 조회 버튼 클릭\n",
    "driver.find_element_by_xpath('//*[@id=\"content\"]/div/div[2]/div[1]/div/form/fieldset/a').click()"
   ]
  },
  {
   "cell_type": "code",
   "execution_count": 17,
   "id": "spare-housing",
   "metadata": {},
   "outputs": [],
   "source": [
    "# 현재 페이지 읽기\n",
    "# html = driver.page_source\n",
    "# soup = bts(html, 'lxml')\n",
    "# index = soup.select('g.bb-event-rects.bb-event-rects-single > rect')"
   ]
  },
  {
   "cell_type": "code",
   "execution_count": 18,
   "id": "younger-commerce",
   "metadata": {},
   "outputs": [],
   "source": [
    "# 엑셀 파일 다운로드\n",
    "driver.find_element_by_xpath('//*[@id=\"content\"]/div/div[1]/div[1]/div/div/div/div/div/div[1]/div[4]/a').click()"
   ]
  },
  {
   "cell_type": "code",
   "execution_count": 19,
   "id": "worse-python",
   "metadata": {},
   "outputs": [],
   "source": [
    "driver.close()"
   ]
  },
  {
   "cell_type": "code",
   "execution_count": 20,
   "id": "nuclear-psychology",
   "metadata": {},
   "outputs": [],
   "source": [
    "os.chdir('C:/Users/14T90N-VR56K/Downloads')"
   ]
  },
  {
   "cell_type": "code",
   "execution_count": 21,
   "id": "conventional-cyprus",
   "metadata": {},
   "outputs": [
    {
     "data": {
      "text/plain": [
       "['(서울과학종합대학원)2021년 계층별 리더십 교육 제안서 요청.pdf',\n",
       " '0.성명직위_FIDAS Advanced_Test3.docx',\n",
       " 'datalab.xlsx',\n",
       " 'desktop.ini',\n",
       " 'gensim-3.8.3-cp39-cp39-win_amd64.whl',\n",
       " 'jdk-8u281-windows-x64.exe',\n",
       " 'JPype1-1.2.0-cp39-cp39-win_amd64.whl',\n",
       " 'LG 쉬는시간 장표.pptx',\n",
       " 'titanic.zip',\n",
       " 'TMONBlack.ttf',\n",
       " 'wordcloud-1.8.1-cp39-cp39-win_amd64.whl',\n",
       " '두산인프라코어_FIDAS Advanced_운영멘트_210326 정리.docx',\n",
       " '띄울화면.pptx',\n",
       " '붙임1. 2021년 계층별 리더십교육 운영용역 과업내용서.pdf',\n",
       " '붙임2. 2021년 계층별 리더십교육 운영용역 제안요청서.pdf',\n",
       " '코인들.pptx']"
      ]
     },
     "execution_count": 21,
     "metadata": {},
     "output_type": "execute_result"
    }
   ],
   "source": [
    "os.listdir()"
   ]
  },
  {
   "cell_type": "code",
   "execution_count": 22,
   "id": "killing-ministry",
   "metadata": {},
   "outputs": [],
   "source": [
    "import pandas as pd"
   ]
  },
  {
   "cell_type": "code",
   "execution_count": 23,
   "id": "vulnerable-bahamas",
   "metadata": {},
   "outputs": [
    {
     "name": "stderr",
     "output_type": "stream",
     "text": [
      "c:\\users\\14t90n-vr56k\\appdata\\local\\programs\\python\\python39\\lib\\site-packages\\openpyxl\\styles\\stylesheet.py:221: UserWarning: Workbook contains no default style, apply openpyxl's default\n",
      "  warn(\"Workbook contains no default style, apply openpyxl's default\")\n"
     ]
    }
   ],
   "source": [
    "naver = pd.read_excel('datalab.xlsx', skiprows = 6)"
   ]
  },
  {
   "cell_type": "code",
   "execution_count": 24,
   "id": "suburban-aquatic",
   "metadata": {},
   "outputs": [
    {
     "data": {
      "text/html": [
       "<div>\n",
       "<style scoped>\n",
       "    .dataframe tbody tr th:only-of-type {\n",
       "        vertical-align: middle;\n",
       "    }\n",
       "\n",
       "    .dataframe tbody tr th {\n",
       "        vertical-align: top;\n",
       "    }\n",
       "\n",
       "    .dataframe thead th {\n",
       "        text-align: right;\n",
       "    }\n",
       "</style>\n",
       "<table border=\"1\" class=\"dataframe\">\n",
       "  <thead>\n",
       "    <tr style=\"text-align: right;\">\n",
       "      <th></th>\n",
       "      <th>날짜</th>\n",
       "      <th>메디헤어</th>\n",
       "    </tr>\n",
       "  </thead>\n",
       "  <tbody>\n",
       "    <tr>\n",
       "      <th>0</th>\n",
       "      <td>2021-01-01</td>\n",
       "      <td>1.59726</td>\n",
       "    </tr>\n",
       "    <tr>\n",
       "      <th>1</th>\n",
       "      <td>2021-01-02</td>\n",
       "      <td>1.78741</td>\n",
       "    </tr>\n",
       "    <tr>\n",
       "      <th>2</th>\n",
       "      <td>2021-01-03</td>\n",
       "      <td>2.28180</td>\n",
       "    </tr>\n",
       "    <tr>\n",
       "      <th>3</th>\n",
       "      <td>2021-01-04</td>\n",
       "      <td>4.03118</td>\n",
       "    </tr>\n",
       "    <tr>\n",
       "      <th>4</th>\n",
       "      <td>2021-01-05</td>\n",
       "      <td>3.34664</td>\n",
       "    </tr>\n",
       "    <tr>\n",
       "      <th>...</th>\n",
       "      <td>...</td>\n",
       "      <td>...</td>\n",
       "    </tr>\n",
       "    <tr>\n",
       "      <th>86</th>\n",
       "      <td>2021-03-28</td>\n",
       "      <td>5.59041</td>\n",
       "    </tr>\n",
       "    <tr>\n",
       "      <th>87</th>\n",
       "      <td>2021-03-29</td>\n",
       "      <td>7.09260</td>\n",
       "    </tr>\n",
       "    <tr>\n",
       "      <th>88</th>\n",
       "      <td>2021-03-30</td>\n",
       "      <td>6.40806</td>\n",
       "    </tr>\n",
       "    <tr>\n",
       "      <th>89</th>\n",
       "      <td>2021-03-31</td>\n",
       "      <td>5.32420</td>\n",
       "    </tr>\n",
       "    <tr>\n",
       "      <th>90</th>\n",
       "      <td>2021-04-01</td>\n",
       "      <td>6.65525</td>\n",
       "    </tr>\n",
       "  </tbody>\n",
       "</table>\n",
       "<p>91 rows × 2 columns</p>\n",
       "</div>"
      ],
      "text/plain": [
       "            날짜     메디헤어\n",
       "0   2021-01-01  1.59726\n",
       "1   2021-01-02  1.78741\n",
       "2   2021-01-03  2.28180\n",
       "3   2021-01-04  4.03118\n",
       "4   2021-01-05  3.34664\n",
       "..         ...      ...\n",
       "86  2021-03-28  5.59041\n",
       "87  2021-03-29  7.09260\n",
       "88  2021-03-30  6.40806\n",
       "89  2021-03-31  5.32420\n",
       "90  2021-04-01  6.65525\n",
       "\n",
       "[91 rows x 2 columns]"
      ]
     },
     "execution_count": 24,
     "metadata": {},
     "output_type": "execute_result"
    }
   ],
   "source": [
    "naver"
   ]
  },
  {
   "cell_type": "code",
   "execution_count": 25,
   "id": "composite-courtesy",
   "metadata": {},
   "outputs": [
    {
     "name": "stdout",
     "output_type": "stream",
     "text": [
      "<class 'pandas.core.frame.DataFrame'>\n",
      "RangeIndex: 91 entries, 0 to 90\n",
      "Data columns (total 2 columns):\n",
      " #   Column  Non-Null Count  Dtype  \n",
      "---  ------  --------------  -----  \n",
      " 0   날짜      91 non-null     object \n",
      " 1   메디헤어    91 non-null     float64\n",
      "dtypes: float64(1), object(1)\n",
      "memory usage: 1.5+ KB\n"
     ]
    }
   ],
   "source": [
    "naver.info()"
   ]
  },
  {
   "cell_type": "code",
   "execution_count": 26,
   "id": "regulated-harvey",
   "metadata": {},
   "outputs": [],
   "source": [
    "naver['날짜'] = naver['날짜'].astype('datetime64')"
   ]
  },
  {
   "cell_type": "code",
   "execution_count": 27,
   "id": "least-mathematics",
   "metadata": {},
   "outputs": [],
   "source": [
    "naver = naver.loc[naver['날짜'] >= '2021-01-01']"
   ]
  },
  {
   "cell_type": "code",
   "execution_count": 28,
   "id": "boring-european",
   "metadata": {},
   "outputs": [],
   "source": [
    "import seaborn as sns\n",
    "import matplotlib.pyplot as plt\n",
    "import matplotlib.font_manager as fm"
   ]
  },
  {
   "cell_type": "code",
   "execution_count": 29,
   "id": "popular-rochester",
   "metadata": {},
   "outputs": [],
   "source": [
    "fontList = fm.findSystemFonts(fontext = 'ttf')"
   ]
  },
  {
   "cell_type": "code",
   "execution_count": 30,
   "id": "coated-string",
   "metadata": {},
   "outputs": [
    {
     "data": {
      "text/plain": [
       "['C:\\\\Users\\\\14T90N-VR56K\\\\AppData\\\\Local\\\\Microsoft\\\\Windows\\\\Fonts\\\\GamjaFlower-Regular.ttf']"
      ]
     },
     "execution_count": 30,
     "metadata": {},
     "output_type": "execute_result"
    }
   ],
   "source": [
    "[font for font in fontList if 'Gamja' in font]"
   ]
  },
  {
   "cell_type": "code",
   "execution_count": 31,
   "id": "disciplinary-enhancement",
   "metadata": {},
   "outputs": [],
   "source": [
    "fontPath = 'C:\\\\Users\\\\14T90N-VR56K\\\\AppData\\\\Local\\\\Microsoft\\\\Windows\\\\Fonts\\\\GamjaFlower-Regular.ttf'\n",
    "fontProp = fm.FontProperties(fname = fontPath)"
   ]
  },
  {
   "cell_type": "code",
   "execution_count": 32,
   "id": "related-quantum",
   "metadata": {},
   "outputs": [],
   "source": [
    "plt.rcParams['figure.figsize'] = (12, 6)\n",
    "plt.rcParams['figure.dpi'] = 100\n",
    "plt.rcParams['font.family'] = fontProp.get_name()\n",
    "plt.rcParams['font.size'] = 14"
   ]
  },
  {
   "cell_type": "code",
   "execution_count": 33,
   "id": "necessary-alarm",
   "metadata": {},
   "outputs": [
    {
     "data": {
      "image/png": "[encoded data removed]",
      "text/plain": [
       "<Figure size 1200x600 with 1 Axes>"
      ]
     },
     "metadata": {
      "needs_background": "light"
     },
     "output_type": "display_data"
    }
   ],
   "source": [
    "sns.lineplot(data = naver, x = '날짜', y = '메디헤어', )\n",
    "plt.xticks(ticks = naver['날짜'][::7], rotation = 30)\n",
    "plt.show()"
   ]
  },
  {
   "cell_type": "code",
   "execution_count": null,
   "id": "hearing-banking",
   "metadata": {},
   "outputs": [],
   "source": []
  }
 ],
 "metadata": {
  "kernelspec": {
   "display_name": "Python 3",
   "language": "python",
   "name": "python3"
  },
  "language_info": {
   "codemirror_mode": {
    "name": "ipython",
    "version": 3
   },
   "file_extension": ".py",
   "mimetype": "text/x-python",
   "name": "python",
   "nbconvert_exporter": "python",
   "pygments_lexer": "ipython3",
   "version": "3.9.2"
  },
  "toc": {
   "base_numbering": 1,
   "nav_menu": {},
   "number_sections": true,
   "sideBar": true,
   "skip_h1_title": false,
   "title_cell": "Table of Contents",
   "title_sidebar": "Contents",
   "toc_cell": false,
   "toc_position": {},
   "toc_section_display": true,
   "toc_window_display": false
  },
  "varInspector": {
   "cols": {
    "lenName": 16,
    "lenType": 16,
    "lenVar": 40
   },
   "kernels_config": {
    "python": {
     "delete_cmd_postfix": "",
     "delete_cmd_prefix": "del ",
     "library": "var_list.py",
     "varRefreshCmd": "print(var_dic_list())"
    },
    "r": {
     "delete_cmd_postfix": ") ",
     "delete_cmd_prefix": "rm(",
     "library": "var_list.r",
     "varRefreshCmd": "cat(var_dic_list()) "
    }
   },
   "types_to_exclude": [
    "module",
    "function",
    "builtin_function_or_method",
    "instance",
    "_Feature"
   ],
   "window_display": false
  }
 },
 "nbformat": 4,
 "nbformat_minor": 5
}
