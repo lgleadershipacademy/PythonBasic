{
 "cells": [
  {
   "cell_type": "markdown",
   "id": "japanese-transparency",
   "metadata": {},
   "source": [
    "## Python 표준 라이브러리"
   ]
  },
  {
   "cell_type": "markdown",
   "id": "challenging-hammer",
   "metadata": {},
   "source": [
    "### 작업경로 확인,  변경 및 새 폴더 생성"
   ]
  },
  {
   "cell_type": "code",
   "execution_count": 70,
   "id": "united-potential",
   "metadata": {},
   "outputs": [],
   "source": [
    "# 관련 라이브러리를 호출합니다.\n",
    "import os, shutil"
   ]
  },
  {
   "cell_type": "code",
   "execution_count": 71,
   "id": "mysterious-throw",
   "metadata": {},
   "outputs": [
    {
     "data": {
      "text/plain": [
       "'/Users/drkevin/Documents/Lectures/ASSIST/LGE Python/code'"
      ]
     },
     "execution_count": 71,
     "metadata": {},
     "output_type": "execute_result"
    }
   ],
   "source": [
    "# 현재 작업경로를 확인합니다.\n",
    "os.getcwd()"
   ]
  },
  {
   "cell_type": "code",
   "execution_count": 72,
   "id": "abstract-reader",
   "metadata": {},
   "outputs": [],
   "source": [
    "# 데이터 파일이 저장된 폴더로 작업경로를 변경합니다. (상대경로 사용)\n",
    "os.chdir('../data')"
   ]
  },
  {
   "cell_type": "code",
   "execution_count": 73,
   "id": "emerging-ethernet",
   "metadata": {},
   "outputs": [],
   "source": [
    "# 새로운 폴더를 생성합니다.\n",
    "os.mkdir('./temp')"
   ]
  },
  {
   "cell_type": "markdown",
   "id": "hindu-compilation",
   "metadata": {},
   "source": [
    "### 새로운 텍스트 파일 생성"
   ]
  },
  {
   "cell_type": "code",
   "execution_count": null,
   "id": "another-sensitivity",
   "metadata": {},
   "outputs": [],
   "source": [
    "# 현재 작업경로에 'test.txt' 파일을 생성합니다.\n",
    "file = open('test.txt', 'w', encoding = 'UTF-8')"
   ]
  },
  {
   "cell_type": "code",
   "execution_count": null,
   "id": "ceramic-education",
   "metadata": {},
   "outputs": [],
   "source": [
    "# text.txt 파일에 문자열을 추가합니다.\n",
    "for i in range(1, 6):\n",
    "    file.write(f'{i}번째 페이지 수집!\\n')"
   ]
  },
  {
   "cell_type": "code",
   "execution_count": null,
   "id": "celtic-communication",
   "metadata": {},
   "outputs": [],
   "source": [
    "# 텍스트 파일을 닫습니다.\n",
    "file.close()"
   ]
  },
  {
   "cell_type": "markdown",
   "id": "broadband-opera",
   "metadata": {},
   "source": [
    "### 기존 텍스트 파일에 데이터 추가"
   ]
  },
  {
   "cell_type": "code",
   "execution_count": null,
   "id": "introductory-covering",
   "metadata": {},
   "outputs": [],
   "source": [
    "# 'test.txt' 파일을 추가 모드로 엽니다.\n",
    "file = open('test.txt', 'a', encoding = 'UTF-8')"
   ]
  },
  {
   "cell_type": "code",
   "execution_count": null,
   "id": "killing-anaheim",
   "metadata": {},
   "outputs": [],
   "source": [
    "# 'test.txt' 파일에 문자열을 추가합니다.\n",
    "for i in range(11, 16):\n",
    "    file.write(f'{i}번째 페이지 수집!\\n')"
   ]
  },
  {
   "cell_type": "code",
   "execution_count": null,
   "id": "medieval-hartford",
   "metadata": {},
   "outputs": [],
   "source": [
    "# 텍스트 파일을 닫습니다.\n",
    "file.close()"
   ]
  },
  {
   "cell_type": "markdown",
   "id": "resident-bidder",
   "metadata": {},
   "source": [
    "### 텍스트 파일 읽기 (2가지 모드 비교)"
   ]
  },
  {
   "cell_type": "code",
   "execution_count": null,
   "id": "competent-storage",
   "metadata": {},
   "outputs": [],
   "source": [
    "# 'test.txt' 파일을 읽고 문자열로 결합하여 반환합니다.\n",
    "file = open('test.txt', 'r').read()"
   ]
  },
  {
   "cell_type": "code",
   "execution_count": null,
   "id": "precise-tiffany",
   "metadata": {},
   "outputs": [],
   "source": [
    "# file을 출력합니다. 한글이 제대로 출력됩니다.\n",
    "file"
   ]
  },
  {
   "cell_type": "code",
   "execution_count": null,
   "id": "diverse-overall",
   "metadata": {},
   "outputs": [],
   "source": [
    "# file의 클래스를 확인합니다.\n",
    "type(file)"
   ]
  },
  {
   "cell_type": "code",
   "execution_count": null,
   "id": "comparative-stuart",
   "metadata": {},
   "outputs": [],
   "source": [
    "# 'text.txt' 파일을 binary로 읽습니다.\n",
    "file = open('test.txt', 'rb').read()"
   ]
  },
  {
   "cell_type": "code",
   "execution_count": null,
   "id": "recovered-development",
   "metadata": {},
   "outputs": [],
   "source": [
    "# file을 출력합니다. 한글이 코드로 출력됩니다.\n",
    "file"
   ]
  },
  {
   "cell_type": "code",
   "execution_count": null,
   "id": "monetary-transformation",
   "metadata": {},
   "outputs": [],
   "source": [
    "# file의 클래스를 확인합니다.\n",
    "type(file)"
   ]
  },
  {
   "cell_type": "code",
   "execution_count": null,
   "id": "potential-gazette",
   "metadata": {},
   "outputs": [],
   "source": [
    "# file은 한글이 인코드된 상태이므로, 디코딩해야 제대로 출력됩니다.\n",
    "file.decode('UTF-8')"
   ]
  },
  {
   "cell_type": "markdown",
   "id": "caring-skiing",
   "metadata": {},
   "source": [
    "### 파일 복사 및 이동"
   ]
  },
  {
   "cell_type": "code",
   "execution_count": null,
   "id": "binary-clearance",
   "metadata": {},
   "outputs": [],
   "source": [
    "# 현재 작업경로에 포함되어 있는 폴더명과 파일명을 출력합니다.\n",
    "os.listdir()"
   ]
  },
  {
   "cell_type": "code",
   "execution_count": null,
   "id": "delayed-portugal",
   "metadata": {},
   "outputs": [],
   "source": [
    "# 기존 파일을 복사합니다. (파일명, 파일명)\n",
    "shutil.copy('test.txt', 'copy1.txt')"
   ]
  },
  {
   "cell_type": "code",
   "execution_count": null,
   "id": "extra-freeze",
   "metadata": {},
   "outputs": [],
   "source": [
    "# 기존 파일을 다른 폴더로 복사합니다. (파일명, 폴더명)\n",
    "shutil.copy('test.txt', './temp')"
   ]
  },
  {
   "cell_type": "code",
   "execution_count": null,
   "id": "cognitive-holmes",
   "metadata": {},
   "outputs": [],
   "source": [
    "# 파일을 이동시킵니다. (파일명, 폴더명)\n",
    "shutil.move('copy1.txt', './temp')"
   ]
  },
  {
   "cell_type": "markdown",
   "id": "attempted-guess",
   "metadata": {},
   "source": [
    "### 파일명 변경"
   ]
  },
  {
   "cell_type": "code",
   "execution_count": null,
   "id": "fatal-damage",
   "metadata": {},
   "outputs": [],
   "source": [
    "# 작업경로를 변경합니다.\n",
    "os.chdir('./temp')"
   ]
  },
  {
   "cell_type": "code",
   "execution_count": null,
   "id": "governmental-upper",
   "metadata": {},
   "outputs": [],
   "source": [
    "# 현재 작업경로에 포함되어 있는 폴더명과 파일명을 출력합니다.\n",
    "os.listdir()"
   ]
  },
  {
   "cell_type": "code",
   "execution_count": null,
   "id": "prepared-depth",
   "metadata": {},
   "outputs": [],
   "source": [
    "# 파일명을 변경합니다. (파일명, 파일명)\n",
    "os.rename('test.txt', 'copy2.txt')"
   ]
  },
  {
   "cell_type": "code",
   "execution_count": null,
   "id": "floral-helping",
   "metadata": {},
   "outputs": [],
   "source": [
    "# 파일을 복사합니다. (파일명, 파일명)\n",
    "shutil.copy('copy2.txt', 'copy3.txt')"
   ]
  },
  {
   "cell_type": "markdown",
   "id": "controlling-clothing",
   "metadata": {},
   "source": [
    "### 파일 삭제"
   ]
  },
  {
   "cell_type": "code",
   "execution_count": null,
   "id": "considerable-editing",
   "metadata": {},
   "outputs": [],
   "source": [
    "# 현재 작업경로에 포함되어 있는 폴더명과 파일명을 출력합니다.\n",
    "os.listdir()"
   ]
  },
  {
   "cell_type": "code",
   "execution_count": null,
   "id": "strategic-grave",
   "metadata": {},
   "outputs": [],
   "source": [
    "# 한 개 파일을 삭제합니다.\n",
    "os.remove('copy1.txt')"
   ]
  },
  {
   "cell_type": "code",
   "execution_count": null,
   "id": "included-israeli",
   "metadata": {},
   "outputs": [],
   "source": [
    "# 여러 개의 파일을 한 번에 삭제하려면 아래와 같이 반복문을 실행합니다.\n",
    "for i in os.listdir():\n",
    "    if os.path.splitext(i)[-1] != '':\n",
    "        os.remove(i)"
   ]
  },
  {
   "cell_type": "markdown",
   "id": "iraqi-kernel",
   "metadata": {},
   "source": [
    "### 폴더 삭제"
   ]
  },
  {
   "cell_type": "code",
   "execution_count": null,
   "id": "administrative-research",
   "metadata": {},
   "outputs": [],
   "source": [
    "# 상위 폴더로 이동합니다.\n",
    "os.chdir('..')"
   ]
  },
  {
   "cell_type": "code",
   "execution_count": null,
   "id": "sexual-chick",
   "metadata": {},
   "outputs": [],
   "source": [
    "# 현재 작업경로에 포함되어 있는 폴더명과 파일명을 출력합니다.\n",
    "os.listdir()"
   ]
  },
  {
   "cell_type": "code",
   "execution_count": null,
   "id": "biological-mambo",
   "metadata": {},
   "outputs": [],
   "source": [
    "# 비어 있는 폴더를 삭제합니다.\n",
    "os.rmdir('temp')"
   ]
  },
  {
   "cell_type": "code",
   "execution_count": null,
   "id": "constant-system",
   "metadata": {},
   "outputs": [],
   "source": [
    "# 폴더와 파일을 모두 삭제합니다.\n",
    "# shutil.rmtree('temp')"
   ]
  },
  {
   "cell_type": "markdown",
   "id": "fluid-vatican",
   "metadata": {},
   "source": [
    "### 현재 날짜 및 시간 확인"
   ]
  },
  {
   "cell_type": "code",
   "execution_count": null,
   "id": "vanilla-omega",
   "metadata": {},
   "outputs": [],
   "source": [
    "# 관련 라이브러리를 호출합니다.\n",
    "from time import *"
   ]
  },
  {
   "cell_type": "code",
   "execution_count": null,
   "id": "labeled-oxygen",
   "metadata": {},
   "outputs": [],
   "source": [
    "# 유닉스 시간을 실수로 출력합니다.\n",
    "time()"
   ]
  },
  {
   "cell_type": "code",
   "execution_count": null,
   "id": "comparable-orchestra",
   "metadata": {},
   "outputs": [],
   "source": [
    "# 유닉스 시간을 로컬 시간으로 변환합니다.\n",
    "localtime(time())"
   ]
  },
  {
   "cell_type": "code",
   "execution_count": null,
   "id": "sustainable-photographer",
   "metadata": {},
   "outputs": [],
   "source": [
    "# 로컬 시간 데이터에서 원하는 날짜/시간 포맷으로 변환합니다.\n",
    "strftime('%Y년 %m월 %d일', localtime())"
   ]
  },
  {
   "cell_type": "markdown",
   "id": "enhanced-volume",
   "metadata": {},
   "source": [
    "### [참고] 로케일 관련 함수 소개"
   ]
  },
  {
   "cell_type": "code",
   "execution_count": null,
   "id": "statistical-census",
   "metadata": {},
   "outputs": [],
   "source": [
    "# 관련 라이브러리를 호출합니다.\n",
    "import locale"
   ]
  },
  {
   "cell_type": "code",
   "execution_count": null,
   "id": "pharmaceutical-approach",
   "metadata": {},
   "outputs": [],
   "source": [
    "# 현재 설정된 로케일을 확인합니다.\n",
    "locale.getlocale()"
   ]
  },
  {
   "cell_type": "code",
   "execution_count": null,
   "id": "democratic-basis",
   "metadata": {},
   "outputs": [],
   "source": [
    "# 한국 로케일로 변경합니다.\n",
    "locale.setlocale(locale.LC_TIME, 'ko_KR')"
   ]
  },
  {
   "cell_type": "code",
   "execution_count": null,
   "id": "dominican-insulation",
   "metadata": {},
   "outputs": [],
   "source": [
    "# 로컬 시간 데이터를 날짜/시간 포맷으로 다시 변환합니다.\n",
    "strftime('%Y년 %m월 %d일', localtime())"
   ]
  },
  {
   "cell_type": "markdown",
   "id": "human-lawrence",
   "metadata": {},
   "source": [
    "## numpy 기초"
   ]
  },
  {
   "cell_type": "code",
   "execution_count": 1,
   "id": "facial-pizza",
   "metadata": {},
   "outputs": [],
   "source": [
    "# numpy 라이브러리를 호출합니다.\n",
    "import numpy as np"
   ]
  },
  {
   "cell_type": "markdown",
   "id": "coupled-assistant",
   "metadata": {},
   "source": [
    "### 1차원 배열 생성"
   ]
  },
  {
   "cell_type": "code",
   "execution_count": 2,
   "id": "published-rally",
   "metadata": {},
   "outputs": [],
   "source": [
    "# 리스트로 1차원 배열을 생성합니다.\n",
    "ar1 = np.array([1, 2, 3])"
   ]
  },
  {
   "cell_type": "code",
   "execution_count": 3,
   "id": "latter-chocolate",
   "metadata": {},
   "outputs": [
    {
     "data": {
      "text/plain": [
       "array([1, 2, 3])"
      ]
     },
     "execution_count": 3,
     "metadata": {},
     "output_type": "execute_result"
    }
   ],
   "source": [
    "# ar1을 출력합니다.\n",
    "ar1"
   ]
  },
  {
   "cell_type": "code",
   "execution_count": 4,
   "id": "above-radius",
   "metadata": {},
   "outputs": [
    {
     "data": {
      "text/plain": [
       "numpy.ndarray"
      ]
     },
     "execution_count": 4,
     "metadata": {},
     "output_type": "execute_result"
    }
   ],
   "source": [
    "# ar1의 클래스를 확인합니다.\n",
    "type(ar1)"
   ]
  },
  {
   "cell_type": "code",
   "execution_count": 5,
   "id": "dramatic-porcelain",
   "metadata": {},
   "outputs": [
    {
     "data": {
      "text/plain": [
       "1"
      ]
     },
     "execution_count": 5,
     "metadata": {},
     "output_type": "execute_result"
    }
   ],
   "source": [
    "# ar1의 차원을 확인합니다. (1차원)\n",
    "ar1.ndim"
   ]
  },
  {
   "cell_type": "code",
   "execution_count": 6,
   "id": "attractive-corps",
   "metadata": {},
   "outputs": [
    {
     "data": {
      "text/plain": [
       "(3,)"
      ]
     },
     "execution_count": 6,
     "metadata": {},
     "output_type": "execute_result"
    }
   ],
   "source": [
    "# ar1의 형태를 확인합니다. \n",
    "ar1.shape"
   ]
  },
  {
   "cell_type": "code",
   "execution_count": 7,
   "id": "tested-consent",
   "metadata": {},
   "outputs": [
    {
     "data": {
      "text/plain": [
       "dtype('int64')"
      ]
     },
     "execution_count": 7,
     "metadata": {},
     "output_type": "execute_result"
    }
   ],
   "source": [
    "# ar1 원소의 자료형을 확인합니다.\n",
    "ar1.dtype"
   ]
  },
  {
   "cell_type": "code",
   "execution_count": 8,
   "id": "innocent-think",
   "metadata": {},
   "outputs": [
    {
     "data": {
      "text/plain": [
       "array([0, 1, 2, 3, 4])"
      ]
     },
     "execution_count": 8,
     "metadata": {},
     "output_type": "execute_result"
    }
   ],
   "source": [
    "# 0부터 4까지 연속된 정수를 원소로 갖는 1차원 배열을 생성합니다.\n",
    "np.arange(5)"
   ]
  },
  {
   "cell_type": "code",
   "execution_count": 9,
   "id": "dominican-classics",
   "metadata": {},
   "outputs": [
    {
     "data": {
      "text/plain": [
       "array([1, 2, 3, 4, 5])"
      ]
     },
     "execution_count": 9,
     "metadata": {},
     "output_type": "execute_result"
    }
   ],
   "source": [
    "# 1부터 5까지 연속된 정수를를 원소로 갖는 1차원 배열을 생성합니다.\n",
    "np.arange(1, 6)"
   ]
  },
  {
   "cell_type": "code",
   "execution_count": 10,
   "id": "destroyed-boundary",
   "metadata": {},
   "outputs": [
    {
     "data": {
      "text/plain": [
       "array([1, 3, 5, 7, 9])"
      ]
     },
     "execution_count": 10,
     "metadata": {},
     "output_type": "execute_result"
    }
   ],
   "source": [
    "# 1부터 10에서 홀수를 원소로 갖는 1차원 배열을 생성합니다.\n",
    "np.arange(1, 11, 2)"
   ]
  },
  {
   "cell_type": "code",
   "execution_count": 11,
   "id": "dutch-fusion",
   "metadata": {},
   "outputs": [
    {
     "data": {
      "text/plain": [
       "array([0. , 0.1, 0.2, 0.3, 0.4, 0.5, 0.6, 0.7, 0.8, 0.9])"
      ]
     },
     "execution_count": 11,
     "metadata": {},
     "output_type": "execute_result"
    }
   ],
   "source": [
    "# 0부터 1까지 간격이 0.1인 실수를 원소로 갖는 1차원 배열을 생성합니다.\n",
    "np.arange(0, 1, 0.1)"
   ]
  },
  {
   "cell_type": "markdown",
   "id": "random-product",
   "metadata": {},
   "source": [
    "### 1차원 배열의 형 변환"
   ]
  },
  {
   "cell_type": "code",
   "execution_count": 12,
   "id": "deluxe-measurement",
   "metadata": {},
   "outputs": [],
   "source": [
    "# 자료형이 섞여 있는 리스트로 1차원 배열을 생성합니다.\n",
    "ar1 = np.array([1, 2.0, '3'])"
   ]
  },
  {
   "cell_type": "code",
   "execution_count": 13,
   "id": "falling-scope",
   "metadata": {},
   "outputs": [
    {
     "data": {
      "text/plain": [
       "array(['1', '2.0', '3'], dtype='<U32')"
      ]
     },
     "execution_count": 13,
     "metadata": {},
     "output_type": "execute_result"
    }
   ],
   "source": [
    "# ar1을 출력합니다.\n",
    "ar1"
   ]
  },
  {
   "cell_type": "code",
   "execution_count": 14,
   "id": "affiliated-transsexual",
   "metadata": {},
   "outputs": [
    {
     "data": {
      "text/plain": [
       "dtype('<U32')"
      ]
     },
     "execution_count": 14,
     "metadata": {},
     "output_type": "execute_result"
    }
   ],
   "source": [
    "# ar1의 자료형을 확인합니다.\n",
    "ar1.dtype"
   ]
  },
  {
   "cell_type": "code",
   "execution_count": 15,
   "id": "green-edinburgh",
   "metadata": {},
   "outputs": [
    {
     "data": {
      "text/plain": [
       "array([1., 2., 3.])"
      ]
     },
     "execution_count": 15,
     "metadata": {},
     "output_type": "execute_result"
    }
   ],
   "source": [
    "# ar1의 원소를 실수로 변환합니다.\n",
    "ar1.astype('float')"
   ]
  },
  {
   "cell_type": "code",
   "execution_count": 16,
   "id": "genuine-seeking",
   "metadata": {},
   "outputs": [
    {
     "ename": "ValueError",
     "evalue": "invalid literal for int() with base 10: '2.0'",
     "output_type": "error",
     "traceback": [
      "\u001b[0;31m---------------------------------------------------------------------------\u001b[0m",
      "\u001b[0;31mValueError\u001b[0m                                Traceback (most recent call last)",
      "\u001b[0;32m<ipython-input-16-d3c3e9ea0f58>\u001b[0m in \u001b[0;36m<module>\u001b[0;34m\u001b[0m\n\u001b[1;32m      1\u001b[0m \u001b[0;31m# ar1의 원소를 정수로 변환합니다. (에러가 발생합니다!)\u001b[0m\u001b[0;34m\u001b[0m\u001b[0;34m\u001b[0m\u001b[0;34m\u001b[0m\u001b[0m\n\u001b[0;32m----> 2\u001b[0;31m \u001b[0mar1\u001b[0m\u001b[0;34m.\u001b[0m\u001b[0mastype\u001b[0m\u001b[0;34m(\u001b[0m\u001b[0;34m'int'\u001b[0m\u001b[0;34m)\u001b[0m\u001b[0;34m\u001b[0m\u001b[0;34m\u001b[0m\u001b[0m\n\u001b[0m",
      "\u001b[0;31mValueError\u001b[0m: invalid literal for int() with base 10: '2.0'"
     ]
    }
   ],
   "source": [
    "# ar1의 원소를 정수로 변환합니다. (에러가 발생합니다!)\n",
    "ar1.astype('int')"
   ]
  },
  {
   "cell_type": "markdown",
   "id": "fifth-medium",
   "metadata": {},
   "source": [
    "### 1차원 배열의 인덱싱"
   ]
  },
  {
   "cell_type": "code",
   "execution_count": 17,
   "id": "statutory-resolution",
   "metadata": {},
   "outputs": [],
   "source": [
    "# 1부터 11에서 홀수를 원소로 갖는 1차원 배열을 생성합니다. \n",
    "ar1 = np.arange(1, 12, 2)"
   ]
  },
  {
   "cell_type": "code",
   "execution_count": 18,
   "id": "raised-richardson",
   "metadata": {},
   "outputs": [
    {
     "data": {
      "text/plain": [
       "1"
      ]
     },
     "execution_count": 18,
     "metadata": {},
     "output_type": "execute_result"
    }
   ],
   "source": [
    "# ar1의 0번 인덱스(첫 번째) 원소를 선택합니다.\n",
    "ar1[0]"
   ]
  },
  {
   "cell_type": "code",
   "execution_count": 19,
   "id": "velvet-bottom",
   "metadata": {},
   "outputs": [
    {
     "data": {
      "text/plain": [
       "3"
      ]
     },
     "execution_count": 19,
     "metadata": {},
     "output_type": "execute_result"
    }
   ],
   "source": [
    "# ar1의 1번 인덱스(두 번째) 원소를 선택합니다.\n",
    "ar1[1]"
   ]
  },
  {
   "cell_type": "code",
   "execution_count": 20,
   "id": "pressed-import",
   "metadata": {},
   "outputs": [
    {
     "data": {
      "text/plain": [
       "11"
      ]
     },
     "execution_count": 20,
     "metadata": {},
     "output_type": "execute_result"
    }
   ],
   "source": [
    "# ar1의 마지막 원소를 선택합니다.\n",
    "ar1[-1]"
   ]
  },
  {
   "cell_type": "markdown",
   "id": "heard-alliance",
   "metadata": {},
   "source": [
    "### 1차원 배열의 슬라이싱"
   ]
  },
  {
   "cell_type": "code",
   "execution_count": 21,
   "id": "checked-madonna",
   "metadata": {},
   "outputs": [
    {
     "data": {
      "text/plain": [
       "array([1, 3, 5])"
      ]
     },
     "execution_count": 21,
     "metadata": {},
     "output_type": "execute_result"
    }
   ],
   "source": [
    "# ar1의 0~2번 인덱스 원소를 선택합니다. \n",
    "ar1[:3]"
   ]
  },
  {
   "cell_type": "code",
   "execution_count": 22,
   "id": "thorough-jacket",
   "metadata": {},
   "outputs": [
    {
     "data": {
      "text/plain": [
       "array([ 7,  9, 11])"
      ]
     },
     "execution_count": 22,
     "metadata": {},
     "output_type": "execute_result"
    }
   ],
   "source": [
    "# ar1의 3번 인덱스부터 마지막 원소까지 선택합니다.\n",
    "ar1[3:]"
   ]
  },
  {
   "cell_type": "code",
   "execution_count": 23,
   "id": "considerable-fireplace",
   "metadata": {},
   "outputs": [
    {
     "data": {
      "text/plain": [
       "array([ 1,  3,  5,  7,  9, 11])"
      ]
     },
     "execution_count": 23,
     "metadata": {},
     "output_type": "execute_result"
    }
   ],
   "source": [
    "# ar1의 전체 원소를 선택합니다.\n",
    "ar1[:]"
   ]
  },
  {
   "cell_type": "code",
   "execution_count": 24,
   "id": "controlling-transparency",
   "metadata": {},
   "outputs": [
    {
     "data": {
      "text/plain": [
       "array([7, 1])"
      ]
     },
     "execution_count": 24,
     "metadata": {},
     "output_type": "execute_result"
    }
   ],
   "source": [
    "# ar1에서 리스트로 지정된 인덱스 순서대로 원소를 선택합니다.\n",
    "ar1[[3, 0, 2, 4, 1]]"
   ]
  },
  {
   "cell_type": "code",
   "execution_count": null,
   "id": "controlled-binary",
   "metadata": {},
   "outputs": [],
   "source": [
    "# 오름차순 정렬 실습을 위해 ar1에 재할당합니다.\n",
    "ar1 = ar1[[3, 0, 2, 4, 1]]"
   ]
  },
  {
   "cell_type": "markdown",
   "id": "fifty-people",
   "metadata": {},
   "source": [
    "### 1차원 배열의 원소 정렬"
   ]
  },
  {
   "cell_type": "code",
   "execution_count": null,
   "id": "reflected-honey",
   "metadata": {},
   "outputs": [],
   "source": [
    "# ar1을 오름차순으로 정렬한 결과를 ar1에 재할당합니다.\n",
    "ar1.sort()"
   ]
  },
  {
   "cell_type": "code",
   "execution_count": null,
   "id": "funded-shark",
   "metadata": {},
   "outputs": [],
   "source": [
    "# ar1을 출력합니다.\n",
    "ar1"
   ]
  },
  {
   "cell_type": "code",
   "execution_count": null,
   "id": "composite-representation",
   "metadata": {},
   "outputs": [],
   "source": [
    "# 1차원 배열의 원소를 역순으로 정렬합니다.\n",
    "ar1 = ar1[::-1]"
   ]
  },
  {
   "cell_type": "code",
   "execution_count": null,
   "id": "organized-merchandise",
   "metadata": {},
   "outputs": [],
   "source": [
    "# ar1을 출력합니다.\n",
    "ar1"
   ]
  },
  {
   "cell_type": "markdown",
   "id": "neural-norman",
   "metadata": {},
   "source": [
    "### 2차원 배열 생성"
   ]
  },
  {
   "cell_type": "code",
   "execution_count": null,
   "id": "spanish-flexibility",
   "metadata": {},
   "outputs": [],
   "source": [
    "# 리스트로 2차원 배열을 생성합니다.\n",
    "ar2 = np.array([[1, 2, 3], [4, 5, 6]])"
   ]
  },
  {
   "cell_type": "code",
   "execution_count": null,
   "id": "architectural-wallpaper",
   "metadata": {},
   "outputs": [],
   "source": [
    "# ar2를 출력합니다.\n",
    "ar2"
   ]
  },
  {
   "cell_type": "code",
   "execution_count": null,
   "id": "dutch-saying",
   "metadata": {},
   "outputs": [],
   "source": [
    "# ar2의 클래스를 확인합니다.\n",
    "type(ar2)"
   ]
  },
  {
   "cell_type": "code",
   "execution_count": null,
   "id": "gorgeous-quality",
   "metadata": {},
   "outputs": [],
   "source": [
    "# ar2의 차원을 확인합니다. (2차원)\n",
    "ar2.ndim"
   ]
  },
  {
   "cell_type": "code",
   "execution_count": null,
   "id": "minimal-allowance",
   "metadata": {},
   "outputs": [],
   "source": [
    "# ar2의 형태를 확인합니다. \n",
    "ar2.shape"
   ]
  },
  {
   "cell_type": "code",
   "execution_count": null,
   "id": "instant-solution",
   "metadata": {},
   "outputs": [],
   "source": [
    "# ar2 원소의 자료형을 확인합니다.\n",
    "ar2.dtype"
   ]
  },
  {
   "cell_type": "markdown",
   "id": "patent-recorder",
   "metadata": {},
   "source": [
    "### 배열의 재구조"
   ]
  },
  {
   "cell_type": "code",
   "execution_count": null,
   "id": "stable-capital",
   "metadata": {},
   "outputs": [],
   "source": [
    "# 0부터 11까지 12개의 원소를 갖는 1차원 배열을 생성합니다.\n",
    "ar1 = np.arange(12)"
   ]
  },
  {
   "cell_type": "code",
   "execution_count": null,
   "id": "utility-acrobat",
   "metadata": {},
   "outputs": [],
   "source": [
    "# ar1을 3행 4열인 2차원 배열로 변환합니다.\n",
    "ar1.reshape(3, 4)"
   ]
  },
  {
   "cell_type": "code",
   "execution_count": null,
   "id": "animal-professor",
   "metadata": {},
   "outputs": [],
   "source": [
    "# 배열의 구조를 변경할 때 원소의 입력방향을 세로로 지정합니다.\n",
    "ar1.reshape(3, 4, order = 'F')"
   ]
  },
  {
   "cell_type": "code",
   "execution_count": null,
   "id": "inner-uncertainty",
   "metadata": {},
   "outputs": [],
   "source": [
    "# 행 위치에 숫자, 열 위치에 '-1'을 할당하면 열의 크기가 자동 계산됩니다.\n",
    "ar1.reshape(4, -1)"
   ]
  },
  {
   "cell_type": "code",
   "execution_count": null,
   "id": "lucky-stretch",
   "metadata": {},
   "outputs": [],
   "source": [
    "# 2차원 배열 인덱싱 실습을 위해 ar2에 재할당합니다.\n",
    "ar2 = ar1.reshape(4, -1)"
   ]
  },
  {
   "cell_type": "markdown",
   "id": "visible-router",
   "metadata": {},
   "source": [
    "### 2차원 배열의 인덱싱 및 슬라이싱"
   ]
  },
  {
   "cell_type": "code",
   "execution_count": null,
   "id": "lesbian-flooring",
   "metadata": {},
   "outputs": [],
   "source": [
    "# ar2의 1행 1열의 원소를 선택합니다.\n",
    "ar2[0, 0]"
   ]
  },
  {
   "cell_type": "code",
   "execution_count": null,
   "id": "legislative-horror",
   "metadata": {},
   "outputs": [],
   "source": [
    "# ar2의 2행 2열의 원소를 선택합니다. \n",
    "ar2[1, 1]"
   ]
  },
  {
   "cell_type": "code",
   "execution_count": null,
   "id": "answering-huntington",
   "metadata": {},
   "outputs": [],
   "source": [
    "# ar2의 1~2행 1~2열 원소를 선택합니다.\n",
    "ar2[0:2, 0:2]"
   ]
  },
  {
   "cell_type": "code",
   "execution_count": null,
   "id": "fiscal-reaction",
   "metadata": {},
   "outputs": [],
   "source": [
    "# ar2의 전체 행 2~3열 원소를 선택합니다.\n",
    "ar2[:, 1:3]"
   ]
  },
  {
   "cell_type": "code",
   "execution_count": null,
   "id": "exotic-start",
   "metadata": {},
   "outputs": [],
   "source": [
    "# ar2의 열 순서를 변경합니다.\n",
    "ar2[:, [2, 1]]"
   ]
  },
  {
   "cell_type": "markdown",
   "id": "exciting-springfield",
   "metadata": {},
   "source": [
    "## pandas 기초"
   ]
  },
  {
   "cell_type": "code",
   "execution_count": 25,
   "id": "absolute-reasoning",
   "metadata": {},
   "outputs": [],
   "source": [
    "# pandas 라이브러리를 호출합니다.\n",
    "import pandas as pd"
   ]
  },
  {
   "cell_type": "markdown",
   "id": "palestinian-savannah",
   "metadata": {},
   "source": [
    "### 시리즈 생성"
   ]
  },
  {
   "cell_type": "code",
   "execution_count": 26,
   "id": "lovely-tsunami",
   "metadata": {},
   "outputs": [],
   "source": [
    "# 1차원 배열로 시리즈를 생성합니다.\n",
    "sr = pd.Series(np.arange(1, 10, 2))"
   ]
  },
  {
   "cell_type": "code",
   "execution_count": 27,
   "id": "agricultural-period",
   "metadata": {},
   "outputs": [
    {
     "data": {
      "text/plain": [
       "0    1\n",
       "1    3\n",
       "2    5\n",
       "3    7\n",
       "4    9\n",
       "dtype: int64"
      ]
     },
     "execution_count": 27,
     "metadata": {},
     "output_type": "execute_result"
    }
   ],
   "source": [
    "# sr을 출력합니다.\n",
    "sr"
   ]
  },
  {
   "cell_type": "code",
   "execution_count": 28,
   "id": "funded-metadata",
   "metadata": {},
   "outputs": [
    {
     "data": {
      "text/plain": [
       "pandas.core.series.Series"
      ]
     },
     "execution_count": 28,
     "metadata": {},
     "output_type": "execute_result"
    }
   ],
   "source": [
    "# sr의 클래스를 확인합니다.\n",
    "type(sr)"
   ]
  },
  {
   "cell_type": "code",
   "execution_count": 29,
   "id": "civic-happening",
   "metadata": {},
   "outputs": [
    {
     "data": {
      "text/plain": [
       "a    1\n",
       "b    3\n",
       "c    5\n",
       "d    7\n",
       "e    9\n",
       "dtype: int64"
      ]
     },
     "execution_count": 29,
     "metadata": {},
     "output_type": "execute_result"
    }
   ],
   "source": [
    "# 리스트로 시리즈를 생성합니다. (value, index 순)\n",
    "pd.Series([1, 3, 5, 7, 9], ['a', 'b', 'c', 'd', 'e'])"
   ]
  },
  {
   "cell_type": "code",
   "execution_count": 30,
   "id": "protected-donna",
   "metadata": {},
   "outputs": [
    {
     "data": {
      "text/plain": [
       "a    1\n",
       "b    3\n",
       "c    5\n",
       "d    7\n",
       "e    9\n",
       "dtype: int64"
      ]
     },
     "execution_count": 30,
     "metadata": {},
     "output_type": "execute_result"
    }
   ],
   "source": [
    "# 딕셔너리로 시리즈를 생성합니다. (key가 index로 자동 설정)\n",
    "pd.Series({'a':1, 'b':3, 'c':5, 'd':7, 'e':9})"
   ]
  },
  {
   "cell_type": "markdown",
   "id": "funded-copyright",
   "metadata": {},
   "source": [
    "### 시리즈 확인"
   ]
  },
  {
   "cell_type": "code",
   "execution_count": 31,
   "id": "lyric-bottom",
   "metadata": {},
   "outputs": [
    {
     "data": {
      "text/plain": [
       "(5,)"
      ]
     },
     "execution_count": 31,
     "metadata": {},
     "output_type": "execute_result"
    }
   ],
   "source": [
    "# sr의 형태를 출력합니다.\n",
    "sr.shape"
   ]
  },
  {
   "cell_type": "code",
   "execution_count": 32,
   "id": "anonymous-treatment",
   "metadata": {},
   "outputs": [
    {
     "data": {
      "text/plain": [
       "array([1, 3, 5, 7, 9])"
      ]
     },
     "execution_count": 32,
     "metadata": {},
     "output_type": "execute_result"
    }
   ],
   "source": [
    "# sr의 값을 출력합니다.\n",
    "sr.values"
   ]
  },
  {
   "cell_type": "code",
   "execution_count": 33,
   "id": "metric-evans",
   "metadata": {},
   "outputs": [
    {
     "data": {
      "text/plain": [
       "RangeIndex(start=0, stop=5, step=1)"
      ]
     },
     "execution_count": 33,
     "metadata": {},
     "output_type": "execute_result"
    }
   ],
   "source": [
    "# sr의 인덱스명을 출력합니다.\n",
    "sr.index"
   ]
  },
  {
   "cell_type": "code",
   "execution_count": 34,
   "id": "under-peninsula",
   "metadata": {},
   "outputs": [
    {
     "data": {
      "text/plain": [
       "dtype('int64')"
      ]
     },
     "execution_count": 34,
     "metadata": {},
     "output_type": "execute_result"
    }
   ],
   "source": [
    "# sr의 자료형을 출력합니다.\n",
    "sr.dtypes"
   ]
  },
  {
   "cell_type": "code",
   "execution_count": 35,
   "id": "under-london",
   "metadata": {},
   "outputs": [],
   "source": [
    "# 시리즈의 인덱스명을 변경합니다.\n",
    "sr.index = ['a', 'b', 'c', 'd', 'e']"
   ]
  },
  {
   "cell_type": "code",
   "execution_count": 36,
   "id": "chemical-citizen",
   "metadata": {},
   "outputs": [
    {
     "data": {
      "text/plain": [
       "a    1\n",
       "b    3\n",
       "c    5\n",
       "d    7\n",
       "e    9\n",
       "dtype: int64"
      ]
     },
     "execution_count": 36,
     "metadata": {},
     "output_type": "execute_result"
    }
   ],
   "source": [
    "# sr을 출력합니다.\n",
    "sr"
   ]
  },
  {
   "cell_type": "markdown",
   "id": "laughing-effects",
   "metadata": {},
   "source": [
    "### 시리즈의 팬시 인덱싱"
   ]
  },
  {
   "cell_type": "code",
   "execution_count": 37,
   "id": "proof-governor",
   "metadata": {},
   "outputs": [
    {
     "data": {
      "text/plain": [
       "1"
      ]
     },
     "execution_count": 37,
     "metadata": {},
     "output_type": "execute_result"
    }
   ],
   "source": [
    "# iloc 인덱싱은 대괄호 안에 정수 인덱스 스칼라를 지정하면 해당 원소를 반환합니다.\n",
    "sr.iloc[0]"
   ]
  },
  {
   "cell_type": "code",
   "execution_count": 38,
   "id": "cloudy-wildlife",
   "metadata": {},
   "outputs": [
    {
     "data": {
      "text/plain": [
       "a    1\n",
       "dtype: int64"
      ]
     },
     "execution_count": 38,
     "metadata": {},
     "output_type": "execute_result"
    }
   ],
   "source": [
    "# 대괄호 안에 스칼라 대신 리스트를 지정하면 항상 시리즈로 반환됩니다.\n",
    "sr.iloc[[0]]"
   ]
  },
  {
   "cell_type": "code",
   "execution_count": 39,
   "id": "latest-involvement",
   "metadata": {},
   "outputs": [
    {
     "data": {
      "text/plain": [
       "b    3\n",
       "d    7\n",
       "dtype: int64"
      ]
     },
     "execution_count": 39,
     "metadata": {},
     "output_type": "execute_result"
    }
   ],
   "source": [
    "# 연속하지 않는 인덱스를 지정할 때 반드시 리스트로 할당해야 합니다.\n",
    "sr.iloc[[1, 3]]"
   ]
  },
  {
   "cell_type": "code",
   "execution_count": 40,
   "id": "dramatic-associate",
   "metadata": {},
   "outputs": [
    {
     "data": {
      "text/plain": [
       "b    3\n",
       "c    5\n",
       "dtype: int64"
      ]
     },
     "execution_count": 40,
     "metadata": {},
     "output_type": "execute_result"
    }
   ],
   "source": [
    "# sr의 1~2번 인덱스 원소를 선택하여 시리즈로 출력합니다.\n",
    "sr.iloc[1:3]"
   ]
  },
  {
   "cell_type": "code",
   "execution_count": 41,
   "id": "closing-concept",
   "metadata": {},
   "outputs": [
    {
     "data": {
      "text/plain": [
       "1"
      ]
     },
     "execution_count": 41,
     "metadata": {},
     "output_type": "execute_result"
    }
   ],
   "source": [
    "# loc 인덱싱은 대괄호 안에 인덱스명 스칼라를 지정하면 해당 원소를 반환합니다.\n",
    "sr.loc['a']"
   ]
  },
  {
   "cell_type": "code",
   "execution_count": 42,
   "id": "infinite-fireplace",
   "metadata": {},
   "outputs": [
    {
     "data": {
      "text/plain": [
       "a    1\n",
       "dtype: int64"
      ]
     },
     "execution_count": 42,
     "metadata": {},
     "output_type": "execute_result"
    }
   ],
   "source": [
    "# 대괄호 안에 리스트를 지정하면 항상 시리즈로 반환됩니다.\n",
    "sr.loc[['a']]"
   ]
  },
  {
   "cell_type": "code",
   "execution_count": 43,
   "id": "genetic-delay",
   "metadata": {},
   "outputs": [
    {
     "data": {
      "text/plain": [
       "b    3\n",
       "d    7\n",
       "dtype: int64"
      ]
     },
     "execution_count": 43,
     "metadata": {},
     "output_type": "execute_result"
    }
   ],
   "source": [
    "# sr의 인덱스명이 'b', 'd'인 원소를 선택합니다.\n",
    "sr.loc[['b', 'd']]"
   ]
  },
  {
   "cell_type": "code",
   "execution_count": 44,
   "id": "emerging-federal",
   "metadata": {},
   "outputs": [
    {
     "data": {
      "text/plain": [
       "a    1\n",
       "b    3\n",
       "c    5\n",
       "dtype: int64"
      ]
     },
     "execution_count": 44,
     "metadata": {},
     "output_type": "execute_result"
    }
   ],
   "source": [
    "# sr의 인덱스명이 'a', 'b', 'c'인 원소를 선택합니다.\n",
    "sr.loc['a':'c']"
   ]
  },
  {
   "cell_type": "markdown",
   "id": "southeast-electricity",
   "metadata": {},
   "source": [
    "### 시리즈의 불리언 인덱싱"
   ]
  },
  {
   "cell_type": "code",
   "execution_count": 45,
   "id": "velvet-permission",
   "metadata": {},
   "outputs": [
    {
     "data": {
      "text/plain": [
       "dtype('int64')"
      ]
     },
     "execution_count": 45,
     "metadata": {},
     "output_type": "execute_result"
    }
   ],
   "source": [
    "# sr 원소의 자료형을 확인합니다.\n",
    "sr.dtype"
   ]
  },
  {
   "cell_type": "code",
   "execution_count": 46,
   "id": "interstate-range",
   "metadata": {},
   "outputs": [
    {
     "data": {
      "text/plain": [
       "a    False\n",
       "b    False\n",
       "c     True\n",
       "d     True\n",
       "e     True\n",
       "dtype: bool"
      ]
     },
     "execution_count": 46,
     "metadata": {},
     "output_type": "execute_result"
    }
   ],
   "source": [
    "# sr로 비교 연산을 실행합니다.\n",
    "sr >= 5"
   ]
  },
  {
   "cell_type": "code",
   "execution_count": 47,
   "id": "paperback-stupid",
   "metadata": {},
   "outputs": [
    {
     "data": {
      "text/plain": [
       "c    5\n",
       "d    7\n",
       "e    9\n",
       "dtype: int64"
      ]
     },
     "execution_count": 47,
     "metadata": {},
     "output_type": "execute_result"
    }
   ],
   "source": [
    "# 대괄호 안에 비교 연산 코드를 지정하면 True에 해당하는 원소만 추출합니다.\n",
    "sr.loc[sr >= 5]"
   ]
  },
  {
   "cell_type": "code",
   "execution_count": 48,
   "id": "occupied-chapel",
   "metadata": {},
   "outputs": [
    {
     "data": {
      "text/plain": [
       "c    5\n",
       "d    7\n",
       "dtype: int64"
      ]
     },
     "execution_count": 48,
     "metadata": {},
     "output_type": "execute_result"
    }
   ],
   "source": [
    "# 두 개 이상의 비교 연산 결과로 불리언 인덱싱을 합니다.\n",
    "sr.loc[(sr >= 5) & (sr <= 7)]"
   ]
  },
  {
   "cell_type": "markdown",
   "id": "parallel-ensemble",
   "metadata": {},
   "source": [
    "### 시리즈 원소 추가 및 삭제"
   ]
  },
  {
   "cell_type": "code",
   "execution_count": 49,
   "id": "aboriginal-shape",
   "metadata": {},
   "outputs": [],
   "source": [
    "# 새로운 시리즈를 생성합니다.\n",
    "nr = pd.Series(range(2, 11, 2))"
   ]
  },
  {
   "cell_type": "code",
   "execution_count": 50,
   "id": "southwest-quarter",
   "metadata": {},
   "outputs": [
    {
     "data": {
      "text/plain": [
       "0     2\n",
       "1     4\n",
       "2     6\n",
       "3     8\n",
       "4    10\n",
       "dtype: int64"
      ]
     },
     "execution_count": 50,
     "metadata": {},
     "output_type": "execute_result"
    }
   ],
   "source": [
    "# nr을 출력합니다.\n",
    "nr"
   ]
  },
  {
   "cell_type": "code",
   "execution_count": 51,
   "id": "informative-cause",
   "metadata": {},
   "outputs": [],
   "source": [
    "# append() 함수로 기존 시리즈에 새로운 시리즈를 추가합니다\n",
    "sr = sr.append(nr)"
   ]
  },
  {
   "cell_type": "code",
   "execution_count": 52,
   "id": "monthly-daily",
   "metadata": {},
   "outputs": [
    {
     "data": {
      "text/plain": [
       "a     1\n",
       "b     3\n",
       "c     5\n",
       "d     7\n",
       "e     9\n",
       "0     2\n",
       "1     4\n",
       "2     6\n",
       "3     8\n",
       "4    10\n",
       "dtype: int64"
      ]
     },
     "execution_count": 52,
     "metadata": {},
     "output_type": "execute_result"
    }
   ],
   "source": [
    "# sr을 출력합니다.\n",
    "sr"
   ]
  },
  {
   "cell_type": "code",
   "execution_count": 53,
   "id": "elementary-liabilities",
   "metadata": {},
   "outputs": [
    {
     "data": {
      "text/plain": [
       "b    3\n",
       "c    5\n",
       "d    7\n",
       "e    9\n",
       "0    2\n",
       "1    4\n",
       "2    6\n",
       "3    8\n",
       "dtype: int64"
      ]
     },
     "execution_count": 53,
     "metadata": {},
     "output_type": "execute_result"
    }
   ],
   "source": [
    "# drop() 함수에 인덱스명을 입력하여 원소를 삭제합니다.\n",
    "sr.drop(['a', 4])"
   ]
  },
  {
   "cell_type": "markdown",
   "id": "alone-amateur",
   "metadata": {},
   "source": [
    "### 시리즈 원소 변경"
   ]
  },
  {
   "cell_type": "code",
   "execution_count": 54,
   "id": "controlled-spanking",
   "metadata": {},
   "outputs": [
    {
     "data": {
      "text/plain": [
       "a     2\n",
       "b     4\n",
       "c     6\n",
       "d     8\n",
       "e    10\n",
       "0     3\n",
       "1     5\n",
       "2     7\n",
       "3     9\n",
       "4    11\n",
       "dtype: int64"
      ]
     },
     "execution_count": 54,
     "metadata": {},
     "output_type": "execute_result"
    }
   ],
   "source": [
    "# sr의 전체 원소에 1을 더합니다.\n",
    "sr + 1"
   ]
  },
  {
   "cell_type": "code",
   "execution_count": 55,
   "id": "variable-ordinance",
   "metadata": {},
   "outputs": [
    {
     "data": {
      "text/plain": [
       "a     2\n",
       "b     6\n",
       "c    10\n",
       "d    14\n",
       "e    18\n",
       "0     4\n",
       "1     8\n",
       "2    12\n",
       "3    16\n",
       "4    20\n",
       "dtype: int64"
      ]
     },
     "execution_count": 55,
     "metadata": {},
     "output_type": "execute_result"
    }
   ],
   "source": [
    "# sr의 전체 원소에 2를 곱합니다.\n",
    "sr * 2"
   ]
  },
  {
   "cell_type": "code",
   "execution_count": 56,
   "id": "wound-delivery",
   "metadata": {},
   "outputs": [
    {
     "data": {
      "text/plain": [
       "e     9\n",
       "4    10\n",
       "dtype: int64"
      ]
     },
     "execution_count": 56,
     "metadata": {},
     "output_type": "execute_result"
    }
   ],
   "source": [
    "# sr에서 9보다 큰 원소를 시리즈로 반환합니다.\n",
    "sr.loc[sr >= 9]"
   ]
  },
  {
   "cell_type": "code",
   "execution_count": 57,
   "id": "sustained-cathedral",
   "metadata": {},
   "outputs": [],
   "source": [
    "# sr에서 9보다 큰 원소를 문자열로 변경합니다.\n",
    "sr.loc[sr >= 9] = ['가', '나']"
   ]
  },
  {
   "cell_type": "code",
   "execution_count": 58,
   "id": "dirty-storm",
   "metadata": {},
   "outputs": [
    {
     "data": {
      "text/plain": [
       "a    1\n",
       "b    3\n",
       "c    5\n",
       "d    7\n",
       "e    가\n",
       "0    2\n",
       "1    4\n",
       "2    6\n",
       "3    8\n",
       "4    나\n",
       "dtype: object"
      ]
     },
     "execution_count": 58,
     "metadata": {},
     "output_type": "execute_result"
    }
   ],
   "source": [
    "# sr을 출력합니다.\n",
    "sr"
   ]
  },
  {
   "cell_type": "code",
   "execution_count": 59,
   "id": "blond-saver",
   "metadata": {},
   "outputs": [
    {
     "data": {
      "text/plain": [
       "int"
      ]
     },
     "execution_count": 59,
     "metadata": {},
     "output_type": "execute_result"
    }
   ],
   "source": [
    "# sr의 1번 인덱스(두 번째) 원소의 클래스를 확인합니다.\n",
    "type(sr.iloc[1])"
   ]
  },
  {
   "cell_type": "markdown",
   "id": "sensitive-classroom",
   "metadata": {},
   "source": [
    "### 시리즈의 결측값 처리"
   ]
  },
  {
   "cell_type": "code",
   "execution_count": 60,
   "id": "forced-depression",
   "metadata": {},
   "outputs": [],
   "source": [
    "# sr의 원소 '가', '나'를 결측값으로 변경합니다. \n",
    "sr.loc[(sr == '가') | (sr == '나')] = np.nan"
   ]
  },
  {
   "cell_type": "code",
   "execution_count": 61,
   "id": "waiting-pontiac",
   "metadata": {},
   "outputs": [
    {
     "data": {
      "text/plain": [
       "a      1\n",
       "b      3\n",
       "c      5\n",
       "d      7\n",
       "e    NaN\n",
       "0      2\n",
       "1      4\n",
       "2      6\n",
       "3      8\n",
       "4    NaN\n",
       "dtype: object"
      ]
     },
     "execution_count": 61,
     "metadata": {},
     "output_type": "execute_result"
    }
   ],
   "source": [
    "# sr을 출력합니다.\n",
    "sr"
   ]
  },
  {
   "cell_type": "code",
   "execution_count": 65,
   "id": "identical-turkey",
   "metadata": {},
   "outputs": [
    {
     "data": {
      "text/plain": [
       "2"
      ]
     },
     "execution_count": 65,
     "metadata": {},
     "output_type": "execute_result"
    }
   ],
   "source": [
    "# sr의 결측값 개수를 출력합니다.\n",
    "sr.isna().sum()"
   ]
  },
  {
   "cell_type": "code",
   "execution_count": 66,
   "id": "substantial-northern",
   "metadata": {},
   "outputs": [
    {
     "data": {
      "text/plain": [
       "a    1\n",
       "b    3\n",
       "c    5\n",
       "d    7\n",
       "e    0\n",
       "0    2\n",
       "1    4\n",
       "2    6\n",
       "3    8\n",
       "4    0\n",
       "dtype: int64"
      ]
     },
     "execution_count": 66,
     "metadata": {},
     "output_type": "execute_result"
    }
   ],
   "source": [
    "# sr의 결측값을 0으로 변경한 결과를 출력합니다.\n",
    "sr.fillna(0)"
   ]
  },
  {
   "cell_type": "code",
   "execution_count": 67,
   "id": "composed-retail",
   "metadata": {},
   "outputs": [
    {
     "data": {
      "text/plain": [
       "a    1\n",
       "b    3\n",
       "c    5\n",
       "d    7\n",
       "0    2\n",
       "1    4\n",
       "2    6\n",
       "3    8\n",
       "dtype: object"
      ]
     },
     "execution_count": 67,
     "metadata": {},
     "output_type": "execute_result"
    }
   ],
   "source": [
    "# sr의 결측값을 삭제한 결과를 sr에 재할당합니다.\n",
    "sr.dropna()"
   ]
  },
  {
   "cell_type": "code",
   "execution_count": null,
   "id": "incorporate-seminar",
   "metadata": {},
   "outputs": [],
   "source": [
    "# sr을 출력합니다.\n",
    "sr = sr.dropna()"
   ]
  },
  {
   "cell_type": "markdown",
   "id": "associate-parker",
   "metadata": {},
   "source": [
    "### 데이터프레임 생성"
   ]
  },
  {
   "cell_type": "code",
   "execution_count": null,
   "id": "immune-commons",
   "metadata": {},
   "outputs": [],
   "source": [
    "# 리스트로 데이터프레임을 생성합니다.\n",
    "df = pd.DataFrame([[1, 2, 3], [4, 5, 6], [7, 8, 9]],\n",
    "                  index = [1, 2, 3],\n",
    "                  columns = ['A반', 'B반', 'C반'])"
   ]
  },
  {
   "cell_type": "code",
   "execution_count": null,
   "id": "inner-hindu",
   "metadata": {},
   "outputs": [],
   "source": [
    "# df를 출력합니다.\n",
    "df"
   ]
  },
  {
   "cell_type": "code",
   "execution_count": null,
   "id": "promising-composer",
   "metadata": {},
   "outputs": [],
   "source": [
    "# df의 클래스를 확인합니다.\n",
    "type(df)"
   ]
  },
  {
   "cell_type": "code",
   "execution_count": null,
   "id": "eleven-minutes",
   "metadata": {},
   "outputs": [],
   "source": [
    "# 딕셔너리로 데이터프레임을 생성합니다.\n",
    "pd.DataFrame({'A반':[1, 2, 3], 'B반':[4, 5, 6], 'C반':[7, 8, 9]})"
   ]
  },
  {
   "cell_type": "code",
   "execution_count": null,
   "id": "focused-sustainability",
   "metadata": {},
   "outputs": [],
   "source": [
    "# 딕셔너리를 원소로 갖는 리스트로 데이터프레임을 생성합니다.\n",
    "pd.DataFrame([{'A반': 1, 'B반': 2, 'C반': 3},\n",
    "              {'A반': 4, 'B반': 5, 'C반': 6},\n",
    "              {'A반': 7, 'B반': 8, 'C반': 9}])"
   ]
  },
  {
   "cell_type": "markdown",
   "id": "separate-clarity",
   "metadata": {},
   "source": [
    "### 데이터프레임 확인"
   ]
  },
  {
   "cell_type": "code",
   "execution_count": null,
   "id": "waiting-camel",
   "metadata": {},
   "outputs": [],
   "source": [
    "# df의 형태를 튜플로 출력합니다. (행의 수, 열의 수)\n",
    "df.shape"
   ]
  },
  {
   "cell_type": "code",
   "execution_count": null,
   "id": "composite-bible",
   "metadata": {},
   "outputs": [],
   "source": [
    "# df의 값을 2차원 배열로 출력합니다.\n",
    "df.values"
   ]
  },
  {
   "cell_type": "code",
   "execution_count": null,
   "id": "beneficial-latest",
   "metadata": {},
   "outputs": [],
   "source": [
    "# df의 인덱스명을 출력합니다. \n",
    "df.index"
   ]
  },
  {
   "cell_type": "code",
   "execution_count": null,
   "id": "iraqi-morgan",
   "metadata": {},
   "outputs": [],
   "source": [
    "# df의 컬럼명을 출력합니다. \n",
    "df.columns"
   ]
  },
  {
   "cell_type": "code",
   "execution_count": null,
   "id": "individual-hardwood",
   "metadata": {},
   "outputs": [],
   "source": [
    "# df의 컬럼별 자료형을 출력합니다. \n",
    "df.dtypes"
   ]
  },
  {
   "cell_type": "code",
   "execution_count": null,
   "id": "collaborative-spirituality",
   "metadata": {},
   "outputs": [],
   "source": [
    "# df의 정보를 한 번에 확인합니다.\n",
    "df.info()"
   ]
  },
  {
   "cell_type": "code",
   "execution_count": null,
   "id": "floppy-entity",
   "metadata": {},
   "outputs": [],
   "source": [
    "# df의 컬럼별 기술통계량을 한꺼번에 출력합니다. \n",
    "df.describe()"
   ]
  },
  {
   "cell_type": "markdown",
   "id": "terminal-roommate",
   "metadata": {},
   "source": [
    "## 데이터 입출력"
   ]
  },
  {
   "cell_type": "markdown",
   "id": "israeli-water",
   "metadata": {},
   "source": [
    "### xlsx 파일 입출력"
   ]
  },
  {
   "cell_type": "code",
   "execution_count": null,
   "id": "sustained-blank",
   "metadata": {},
   "outputs": [],
   "source": [
    "# xlsx 파일을 읽고 데이터프레임을 생성합니다.\n",
    "df = pd.read_excel('KBO_Hitters_2020.xlsx')"
   ]
  },
  {
   "cell_type": "code",
   "execution_count": null,
   "id": "reliable-combat",
   "metadata": {},
   "outputs": [],
   "source": [
    "# df의 정보를 한 번에 확인합니다.\n",
    "df.info()"
   ]
  },
  {
   "cell_type": "code",
   "execution_count": null,
   "id": "departmental-rally",
   "metadata": {},
   "outputs": [],
   "source": [
    "# df의 처음 다섯 행을 출력합니다.\n",
    "df.head()"
   ]
  },
  {
   "cell_type": "code",
   "execution_count": null,
   "id": "necessary-pepper",
   "metadata": {},
   "outputs": [],
   "source": [
    "# df의 인덱스를 정수 1부터 시작하도록 변경합니다.\n",
    "df.index = range(1, 297)"
   ]
  },
  {
   "cell_type": "code",
   "execution_count": null,
   "id": "derived-result",
   "metadata": {},
   "outputs": [],
   "source": [
    "# 데이터프레임을 xlsx 파일로 저장합니다.\n",
    "df.to_excel('test.xlsx', sheet_name = 'test', index = None)"
   ]
  },
  {
   "cell_type": "markdown",
   "id": "shared-champion",
   "metadata": {},
   "source": [
    "### csv 파일 인코딩 방식 확인 및 입출력"
   ]
  },
  {
   "cell_type": "code",
   "execution_count": null,
   "id": "consolidated-substance",
   "metadata": {},
   "outputs": [],
   "source": [
    "# 관련 라이브러리를 호출합니다.\n",
    "import chardet"
   ]
  },
  {
   "cell_type": "code",
   "execution_count": null,
   "id": "willing-transcription",
   "metadata": {},
   "outputs": [],
   "source": [
    "# 텍스트 파일을 bytes 모드로 읽습니다.\n",
    "raw = open('KBO_Hitters_2020.csv', 'rb').read()"
   ]
  },
  {
   "cell_type": "code",
   "execution_count": null,
   "id": "consecutive-inspiration",
   "metadata": {},
   "outputs": [],
   "source": [
    "# 텍스트 파일의 문자 인코딩 방식을 확인합니다.\n",
    "chardet.detect(raw)"
   ]
  },
  {
   "cell_type": "code",
   "execution_count": null,
   "id": "specialized-cameroon",
   "metadata": {},
   "outputs": [],
   "source": [
    "# 텍스트 파일을 읽고 데이터프레임을 생성합니다.\n",
    "df = pd.read_csv('KBO_Hitters_2020.csv', encoding = 'EUC-KR')"
   ]
  },
  {
   "cell_type": "code",
   "execution_count": null,
   "id": "endless-operator",
   "metadata": {},
   "outputs": [],
   "source": [
    "# 데이터프레임을 csv 파일로 저장합니다.\n",
    "df.to_csv('test.csv', index = None, encoding = 'EUC-KR')"
   ]
  },
  {
   "cell_type": "markdown",
   "id": "healthy-nowhere",
   "metadata": {},
   "source": [
    "### 데이터프레임 팬시 인덱싱"
   ]
  },
  {
   "cell_type": "code",
   "execution_count": null,
   "id": "material-venice",
   "metadata": {},
   "outputs": [],
   "source": [
    "# 정수 인덱스를 스칼라로 지정하면 해당 행을 선택하여 시리즈로 출력합니다.\n",
    "df.iloc[0]"
   ]
  },
  {
   "cell_type": "code",
   "execution_count": null,
   "id": "noble-earthquake",
   "metadata": {},
   "outputs": [],
   "source": [
    "# 정수 인덱스를 리스트로 지정하면 해당 행을 선택하여 데이터프레임으로 출력합니다.\n",
    "df.iloc[[0]]"
   ]
  },
  {
   "cell_type": "code",
   "execution_count": null,
   "id": "promotional-fight",
   "metadata": {},
   "outputs": [],
   "source": [
    "# 대괄호 안에 콜론을 사용하여 슬라이싱하면 해당 행을 데이터프레임으로 반환합니다.\n",
    "df.iloc[0:10]"
   ]
  },
  {
   "cell_type": "code",
   "execution_count": null,
   "id": "abstract-richards",
   "metadata": {},
   "outputs": [],
   "source": [
    "# 대괄호 안에 콤마(,)를 추가하고, 콤마 뒤에 선택할 컬럼의 정수 인덱스를 지정합니다.\n",
    "df.iloc[0:10, :]"
   ]
  },
  {
   "cell_type": "code",
   "execution_count": null,
   "id": "driving-curtis",
   "metadata": {},
   "outputs": [],
   "source": [
    "# df의 0~9번 인덱스 행, 0~11번 인덱스 컬럼을 데이터프레임으로 반환합니다.\n",
    "df.iloc[0:10, 0:12]"
   ]
  },
  {
   "cell_type": "code",
   "execution_count": null,
   "id": "early-rings",
   "metadata": {},
   "outputs": [],
   "source": [
    "# 대괄호 안에 리스트를 지정하면 원하는 순서대로 선택할 수 있습니다.\n",
    "df.iloc[:, [1, 0, 4, 5, 6]]"
   ]
  },
  {
   "cell_type": "code",
   "execution_count": null,
   "id": "wrapped-commissioner",
   "metadata": {},
   "outputs": [],
   "source": [
    "# df의 인덱스명이 1인 행의 전체 컬럼을 선택하여 시리즈로 반환합니다.\n",
    "df.loc[1]"
   ]
  },
  {
   "cell_type": "code",
   "execution_count": null,
   "id": "worse-interface",
   "metadata": {},
   "outputs": [],
   "source": [
    "# 인덱스명을 리스트로 지정하면 해당 행을 선택하여 데이터프레임으로 반환합니다.\n",
    "df.loc[[1]]"
   ]
  },
  {
   "cell_type": "code",
   "execution_count": null,
   "id": "confidential-veteran",
   "metadata": {},
   "outputs": [],
   "source": [
    "# df의 인덱스명이 1~10인 행을 선택하여 데이터프레임으로 반환합니다.\n",
    "df.loc[1:10]"
   ]
  },
  {
   "cell_type": "code",
   "execution_count": null,
   "id": "ancient-rapid",
   "metadata": {},
   "outputs": [],
   "source": [
    "# 대괄호 안에 콤마(,)를 추가하고, 콤마 뒤에 선택할 컬럼의 컬럼명을 지정합니다.\n",
    "df.loc[1:10, :]"
   ]
  },
  {
   "cell_type": "code",
   "execution_count": null,
   "id": "wrapped-subdivision",
   "metadata": {},
   "outputs": [],
   "source": [
    "# df의 인덱스명이 1~10인 행, 선수명~도루 컬럼을 반환합니다.\n",
    "df.loc[1:10, '선수명':'도루']"
   ]
  },
  {
   "cell_type": "code",
   "execution_count": null,
   "id": "impressed-weight",
   "metadata": {},
   "outputs": [],
   "source": [
    "# 컬럼명을 원하는 순서대로 선택할 수 있습니다.\n",
    "df.loc[:, ['팀명', '선수명', '타수', '안타', '홈런']]"
   ]
  },
  {
   "cell_type": "markdown",
   "id": "curious-helmet",
   "metadata": {},
   "source": [
    "## 데이터프레임 전처리"
   ]
  },
  {
   "cell_type": "markdown",
   "id": "small-owner",
   "metadata": {},
   "source": [
    "###  실습 데이터셋 준비"
   ]
  },
  {
   "cell_type": "code",
   "execution_count": 74,
   "id": "billion-insider",
   "metadata": {},
   "outputs": [
    {
     "data": {
      "text/plain": [
       "['temp',\n",
       " '.DS_Store',\n",
       " 'APT_Price_Seoul_2020.csv',\n",
       " 'Naver_APT_Detail.xlsx',\n",
       " 'KBO_Hitters_2020.csv',\n",
       " 'KBO_Hitters_2020.xlsx',\n",
       " 'Naver_APT_Detail.csv',\n",
       " 'APT_Price_Seoul_2020.xlsx']"
      ]
     },
     "execution_count": 74,
     "metadata": {},
     "output_type": "execute_result"
    }
   ],
   "source": [
    "# 현재 작업경로에 저장된 파일명을 출력합니다.\n",
    "os.listdir()"
   ]
  },
  {
   "cell_type": "code",
   "execution_count": null,
   "id": "academic-folder",
   "metadata": {},
   "outputs": [],
   "source": [
    "# 가격 xlsx 파일을 읽고 데이터프레임을 생성합니다.\n",
    "price = pd.read_excel('APT_Price_Seoul_2020.xlsx')"
   ]
  },
  {
   "cell_type": "code",
   "execution_count": null,
   "id": "compound-stereo",
   "metadata": {},
   "outputs": [],
   "source": [
    "# price의 처음 다섯 행을 출력합니다.\n",
    "price.head()"
   ]
  },
  {
   "cell_type": "code",
   "execution_count": null,
   "id": "therapeutic-basketball",
   "metadata": {},
   "outputs": [],
   "source": [
    "# price의 정보를 출력합니다.\n",
    "price.info()"
   ]
  },
  {
   "cell_type": "code",
   "execution_count": 75,
   "id": "adaptive-password",
   "metadata": {},
   "outputs": [],
   "source": [
    "# 상세정보 xlsx 파일을 읽고 데이터프레임을 생성합니다.\n",
    "detail = pd.read_excel('Naver_APT_Detail.xlsx')"
   ]
  },
  {
   "cell_type": "code",
   "execution_count": 76,
   "id": "powered-preservation",
   "metadata": {},
   "outputs": [
    {
     "data": {
      "text/html": [
       "<div>\n",
       "<style scoped>\n",
       "    .dataframe tbody tr th:only-of-type {\n",
       "        vertical-align: middle;\n",
       "    }\n",
       "\n",
       "    .dataframe tbody tr th {\n",
       "        vertical-align: top;\n",
       "    }\n",
       "\n",
       "    .dataframe thead th {\n",
       "        text-align: right;\n",
       "    }\n",
       "</style>\n",
       "<table border=\"1\" class=\"dataframe\">\n",
       "  <thead>\n",
       "    <tr style=\"text-align: right;\">\n",
       "      <th></th>\n",
       "      <th>ID</th>\n",
       "      <th>아파트명</th>\n",
       "      <th>지번주소</th>\n",
       "      <th>세대수</th>\n",
       "      <th>임대수</th>\n",
       "      <th>동수</th>\n",
       "      <th>용적률</th>\n",
       "      <th>건폐율</th>\n",
       "      <th>주차대수</th>\n",
       "    </tr>\n",
       "  </thead>\n",
       "  <tbody>\n",
       "    <tr>\n",
       "      <th>0</th>\n",
       "      <td>130473</td>\n",
       "      <td>16에스티뷰</td>\n",
       "      <td>서울 광진구 자양동 680-14</td>\n",
       "      <td>7</td>\n",
       "      <td>0</td>\n",
       "      <td>1</td>\n",
       "      <td>355</td>\n",
       "      <td>56</td>\n",
       "      <td>5</td>\n",
       "    </tr>\n",
       "    <tr>\n",
       "      <th>1</th>\n",
       "      <td>111186</td>\n",
       "      <td>67디벨리움(도시형)</td>\n",
       "      <td>서울 노원구 공릉동 670-7</td>\n",
       "      <td>106</td>\n",
       "      <td>0</td>\n",
       "      <td>1</td>\n",
       "      <td>629</td>\n",
       "      <td>56</td>\n",
       "      <td>66</td>\n",
       "    </tr>\n",
       "    <tr>\n",
       "      <th>2</th>\n",
       "      <td>120013</td>\n",
       "      <td>가락(헤븐스테이)</td>\n",
       "      <td>서울 송파구 가락동 177-10</td>\n",
       "      <td>12</td>\n",
       "      <td>0</td>\n",
       "      <td>1</td>\n",
       "      <td>199</td>\n",
       "      <td>46</td>\n",
       "      <td>12</td>\n",
       "    </tr>\n",
       "    <tr>\n",
       "      <th>3</th>\n",
       "      <td>128942</td>\n",
       "      <td>가락그랑밸리</td>\n",
       "      <td>서울 송파구 가락동 141-7</td>\n",
       "      <td>12</td>\n",
       "      <td>0</td>\n",
       "      <td>1</td>\n",
       "      <td>292</td>\n",
       "      <td>59</td>\n",
       "      <td>12</td>\n",
       "    </tr>\n",
       "    <tr>\n",
       "      <th>4</th>\n",
       "      <td>594</td>\n",
       "      <td>가락금호</td>\n",
       "      <td>서울 송파구 가락동 95-1</td>\n",
       "      <td>915</td>\n",
       "      <td>0</td>\n",
       "      <td>8</td>\n",
       "      <td>397</td>\n",
       "      <td>22</td>\n",
       "      <td>735</td>\n",
       "    </tr>\n",
       "  </tbody>\n",
       "</table>\n",
       "</div>"
      ],
      "text/plain": [
       "       ID         아파트명               지번주소  세대수  임대수  동수  용적률  건폐율  주차대수\n",
       "0  130473       16에스티뷰  서울 광진구 자양동 680-14    7    0   1  355   56     5\n",
       "1  111186  67디벨리움(도시형)   서울 노원구 공릉동 670-7  106    0   1  629   56    66\n",
       "2  120013    가락(헤븐스테이)  서울 송파구 가락동 177-10   12    0   1  199   46    12\n",
       "3  128942       가락그랑밸리   서울 송파구 가락동 141-7   12    0   1  292   59    12\n",
       "4     594         가락금호    서울 송파구 가락동 95-1  915    0   8  397   22   735"
      ]
     },
     "execution_count": 76,
     "metadata": {},
     "output_type": "execute_result"
    }
   ],
   "source": [
    "# detail의 처음 다섯 행을 출력합니다.\n",
    "detail.head()"
   ]
  },
  {
   "cell_type": "code",
   "execution_count": 77,
   "id": "meaningful-complement",
   "metadata": {},
   "outputs": [
    {
     "name": "stdout",
     "output_type": "stream",
     "text": [
      "<class 'pandas.core.frame.DataFrame'>\n",
      "RangeIndex: 9145 entries, 0 to 9144\n",
      "Data columns (total 9 columns):\n",
      " #   Column  Non-Null Count  Dtype \n",
      "---  ------  --------------  ----- \n",
      " 0   ID      9145 non-null   int64 \n",
      " 1   아파트명    9145 non-null   object\n",
      " 2   지번주소    9145 non-null   object\n",
      " 3   세대수     9145 non-null   int64 \n",
      " 4   임대수     9145 non-null   int64 \n",
      " 5   동수      9145 non-null   int64 \n",
      " 6   용적률     9145 non-null   int64 \n",
      " 7   건폐율     9145 non-null   int64 \n",
      " 8   주차대수    9145 non-null   int64 \n",
      "dtypes: int64(7), object(2)\n",
      "memory usage: 643.1+ KB\n"
     ]
    }
   ],
   "source": [
    "# detail의 정보를 출력합니다.\n",
    "detail.info()"
   ]
  },
  {
   "cell_type": "markdown",
   "id": "vulnerable-faith",
   "metadata": {},
   "source": [
    "#### [참고] csv 파일 읽을 때 날짜 자료형 유지하는 방법"
   ]
  },
  {
   "cell_type": "code",
   "execution_count": 78,
   "id": "retired-start",
   "metadata": {},
   "outputs": [],
   "source": [
    "# csv 파일을 bytes 모드로 읽습니다.\n",
    "raw = open('APT_Price_Seoul_2020.csv', 'rb').read()"
   ]
  },
  {
   "cell_type": "code",
   "execution_count": 79,
   "id": "outstanding-portfolio",
   "metadata": {},
   "outputs": [
    {
     "ename": "NameError",
     "evalue": "name 'chardet' is not defined",
     "output_type": "error",
     "traceback": [
      "\u001b[0;31m---------------------------------------------------------------------------\u001b[0m",
      "\u001b[0;31mNameError\u001b[0m                                 Traceback (most recent call last)",
      "\u001b[0;32m<ipython-input-79-890ca37c7a2f>\u001b[0m in \u001b[0;36m<module>\u001b[0;34m\u001b[0m\n\u001b[1;32m      1\u001b[0m \u001b[0;31m# 텍스트 파일의 문자 인코딩 방식을 확인합니다.\u001b[0m\u001b[0;34m\u001b[0m\u001b[0;34m\u001b[0m\u001b[0;34m\u001b[0m\u001b[0m\n\u001b[0;32m----> 2\u001b[0;31m \u001b[0mchardet\u001b[0m\u001b[0;34m.\u001b[0m\u001b[0mdetect\u001b[0m\u001b[0;34m(\u001b[0m\u001b[0mraw\u001b[0m\u001b[0;34m[\u001b[0m\u001b[0;34m:\u001b[0m\u001b[0;36m100\u001b[0m\u001b[0;34m]\u001b[0m\u001b[0;34m)\u001b[0m\u001b[0;34m\u001b[0m\u001b[0;34m\u001b[0m\u001b[0m\n\u001b[0m",
      "\u001b[0;31mNameError\u001b[0m: name 'chardet' is not defined"
     ]
    }
   ],
   "source": [
    "# 텍스트 파일의 문자 인코딩 방식을 확인합니다.\n",
    "chardet.detect(raw[:100])"
   ]
  },
  {
   "cell_type": "code",
   "execution_count": 80,
   "id": "cutting-banner",
   "metadata": {},
   "outputs": [],
   "source": [
    "# 가격 csv 파일을 읽고 데이터프레임을 생성합니다.\n",
    "price = pd.read_csv('APT_Price_Seoul_2020.csv')"
   ]
  },
  {
   "cell_type": "code",
   "execution_count": 81,
   "id": "informative-argument",
   "metadata": {},
   "outputs": [
    {
     "name": "stdout",
     "output_type": "stream",
     "text": [
      "<class 'pandas.core.frame.DataFrame'>\n",
      "RangeIndex: 80734 entries, 0 to 80733\n",
      "Data columns (total 10 columns):\n",
      " #   Column  Non-Null Count  Dtype  \n",
      "---  ------  --------------  -----  \n",
      " 0   일련번호    77154 non-null  object \n",
      " 1   아파트     80734 non-null  object \n",
      " 2   시도명     80734 non-null  object \n",
      " 3   시군구     80734 non-null  object \n",
      " 4   법정동     80734 non-null  object \n",
      " 5   지번      80709 non-null  object \n",
      " 6   거래일     80734 non-null  object \n",
      " 7   전용면적    80734 non-null  float64\n",
      " 8   층       80734 non-null  int64  \n",
      " 9   거래금액    80734 non-null  int64  \n",
      "dtypes: float64(1), int64(2), object(7)\n",
      "memory usage: 6.2+ MB\n"
     ]
    }
   ],
   "source": [
    "# price의 정보를 확인합니다.\n",
    "price.info()"
   ]
  },
  {
   "cell_type": "code",
   "execution_count": 82,
   "id": "rocky-pride",
   "metadata": {},
   "outputs": [],
   "source": [
    "# csv 파일을 읽을 때 날짜 자료형으로 읽을 컬럼명을 지정합니다.\n",
    "price = pd.read_csv('APT_Price_Seoul_2020.csv', parse_dates = ['거래일'])"
   ]
  },
  {
   "cell_type": "code",
   "execution_count": 83,
   "id": "owned-possession",
   "metadata": {},
   "outputs": [
    {
     "name": "stdout",
     "output_type": "stream",
     "text": [
      "<class 'pandas.core.frame.DataFrame'>\n",
      "RangeIndex: 80734 entries, 0 to 80733\n",
      "Data columns (total 10 columns):\n",
      " #   Column  Non-Null Count  Dtype         \n",
      "---  ------  --------------  -----         \n",
      " 0   일련번호    77154 non-null  object        \n",
      " 1   아파트     80734 non-null  object        \n",
      " 2   시도명     80734 non-null  object        \n",
      " 3   시군구     80734 non-null  object        \n",
      " 4   법정동     80734 non-null  object        \n",
      " 5   지번      80709 non-null  object        \n",
      " 6   거래일     80734 non-null  datetime64[ns]\n",
      " 7   전용면적    80734 non-null  float64       \n",
      " 8   층       80734 non-null  int64         \n",
      " 9   거래금액    80734 non-null  int64         \n",
      "dtypes: datetime64[ns](1), float64(1), int64(2), object(6)\n",
      "memory usage: 6.2+ MB\n"
     ]
    }
   ],
   "source": [
    "# price의 정보를 다시 확인합니다.\n",
    "price.info()"
   ]
  },
  {
   "cell_type": "markdown",
   "id": "amateur-compression",
   "metadata": {},
   "source": [
    "### 컬럼 선택 및 삭제"
   ]
  },
  {
   "cell_type": "code",
   "execution_count": 84,
   "id": "rising-wedding",
   "metadata": {},
   "outputs": [
    {
     "data": {
      "text/plain": [
       "Index(['일련번호', '아파트', '시도명', '시군구', '법정동', '지번', '거래일', '전용면적', '층', '거래금액'], dtype='object')"
      ]
     },
     "execution_count": 84,
     "metadata": {},
     "output_type": "execute_result"
    }
   ],
   "source": [
    "# 가격 데이터의 컬럼명을 출력합니다.\n",
    "price.columns"
   ]
  },
  {
   "cell_type": "code",
   "execution_count": 85,
   "id": "impossible-marker",
   "metadata": {},
   "outputs": [
    {
     "data": {
      "text/plain": [
       "0        11200-3074\n",
       "1        11200-3031\n",
       "2          11230-26\n",
       "3               NaN\n",
       "4          11260-11\n",
       "            ...    \n",
       "80729    11740-2664\n",
       "80730     11740-323\n",
       "80731     11740-167\n",
       "80732    11740-2851\n",
       "80733    11740-2856\n",
       "Name: 일련번호, Length: 80734, dtype: object"
      ]
     },
     "execution_count": 85,
     "metadata": {},
     "output_type": "execute_result"
    }
   ],
   "source": [
    "# 일련번호 컬럼을 선택하여 시리즈로 반환합니다.\n",
    "price['일련번호']"
   ]
  },
  {
   "cell_type": "code",
   "execution_count": 86,
   "id": "general-frederick",
   "metadata": {},
   "outputs": [
    {
     "data": {
      "text/html": [
       "<div>\n",
       "<style scoped>\n",
       "    .dataframe tbody tr th:only-of-type {\n",
       "        vertical-align: middle;\n",
       "    }\n",
       "\n",
       "    .dataframe tbody tr th {\n",
       "        vertical-align: top;\n",
       "    }\n",
       "\n",
       "    .dataframe thead th {\n",
       "        text-align: right;\n",
       "    }\n",
       "</style>\n",
       "<table border=\"1\" class=\"dataframe\">\n",
       "  <thead>\n",
       "    <tr style=\"text-align: right;\">\n",
       "      <th></th>\n",
       "      <th>일련번호</th>\n",
       "      <th>거래일</th>\n",
       "    </tr>\n",
       "  </thead>\n",
       "  <tbody>\n",
       "    <tr>\n",
       "      <th>0</th>\n",
       "      <td>11200-3074</td>\n",
       "      <td>2020-01-01</td>\n",
       "    </tr>\n",
       "    <tr>\n",
       "      <th>1</th>\n",
       "      <td>11200-3031</td>\n",
       "      <td>2020-01-01</td>\n",
       "    </tr>\n",
       "    <tr>\n",
       "      <th>2</th>\n",
       "      <td>11230-26</td>\n",
       "      <td>2020-01-01</td>\n",
       "    </tr>\n",
       "    <tr>\n",
       "      <th>3</th>\n",
       "      <td>NaN</td>\n",
       "      <td>2020-01-01</td>\n",
       "    </tr>\n",
       "    <tr>\n",
       "      <th>4</th>\n",
       "      <td>11260-11</td>\n",
       "      <td>2020-01-01</td>\n",
       "    </tr>\n",
       "    <tr>\n",
       "      <th>...</th>\n",
       "      <td>...</td>\n",
       "      <td>...</td>\n",
       "    </tr>\n",
       "    <tr>\n",
       "      <th>80729</th>\n",
       "      <td>11740-2664</td>\n",
       "      <td>2020-12-31</td>\n",
       "    </tr>\n",
       "    <tr>\n",
       "      <th>80730</th>\n",
       "      <td>11740-323</td>\n",
       "      <td>2020-12-31</td>\n",
       "    </tr>\n",
       "    <tr>\n",
       "      <th>80731</th>\n",
       "      <td>11740-167</td>\n",
       "      <td>2020-12-31</td>\n",
       "    </tr>\n",
       "    <tr>\n",
       "      <th>80732</th>\n",
       "      <td>11740-2851</td>\n",
       "      <td>2020-12-31</td>\n",
       "    </tr>\n",
       "    <tr>\n",
       "      <th>80733</th>\n",
       "      <td>11740-2856</td>\n",
       "      <td>2020-12-31</td>\n",
       "    </tr>\n",
       "  </tbody>\n",
       "</table>\n",
       "<p>80734 rows × 2 columns</p>\n",
       "</div>"
      ],
      "text/plain": [
       "             일련번호        거래일\n",
       "0      11200-3074 2020-01-01\n",
       "1      11200-3031 2020-01-01\n",
       "2        11230-26 2020-01-01\n",
       "3             NaN 2020-01-01\n",
       "4        11260-11 2020-01-01\n",
       "...           ...        ...\n",
       "80729  11740-2664 2020-12-31\n",
       "80730   11740-323 2020-12-31\n",
       "80731   11740-167 2020-12-31\n",
       "80732  11740-2851 2020-12-31\n",
       "80733  11740-2856 2020-12-31\n",
       "\n",
       "[80734 rows x 2 columns]"
      ]
     },
     "execution_count": 86,
     "metadata": {},
     "output_type": "execute_result"
    }
   ],
   "source": [
    "# 여러 컬럼을 선택하려면 리스트를 입력합니다.\n",
    "price[['일련번호', '거래일']]"
   ]
  },
  {
   "cell_type": "code",
   "execution_count": 87,
   "id": "burning-contribution",
   "metadata": {},
   "outputs": [
    {
     "data": {
      "text/html": [
       "<div>\n",
       "<style scoped>\n",
       "    .dataframe tbody tr th:only-of-type {\n",
       "        vertical-align: middle;\n",
       "    }\n",
       "\n",
       "    .dataframe tbody tr th {\n",
       "        vertical-align: top;\n",
       "    }\n",
       "\n",
       "    .dataframe thead th {\n",
       "        text-align: right;\n",
       "    }\n",
       "</style>\n",
       "<table border=\"1\" class=\"dataframe\">\n",
       "  <thead>\n",
       "    <tr style=\"text-align: right;\">\n",
       "      <th></th>\n",
       "      <th>아파트</th>\n",
       "      <th>시도명</th>\n",
       "      <th>시군구</th>\n",
       "      <th>법정동</th>\n",
       "      <th>지번</th>\n",
       "      <th>거래일</th>\n",
       "      <th>전용면적</th>\n",
       "      <th>층</th>\n",
       "      <th>거래금액</th>\n",
       "    </tr>\n",
       "  </thead>\n",
       "  <tbody>\n",
       "    <tr>\n",
       "      <th>0</th>\n",
       "      <td>텐즈힐아파트(1단지)</td>\n",
       "      <td>서울특별시</td>\n",
       "      <td>성동구</td>\n",
       "      <td>하왕십리동</td>\n",
       "      <td>1066</td>\n",
       "      <td>2020-01-01</td>\n",
       "      <td>84.960</td>\n",
       "      <td>19</td>\n",
       "      <td>120000</td>\n",
       "    </tr>\n",
       "    <tr>\n",
       "      <th>1</th>\n",
       "      <td>서울숲더샵</td>\n",
       "      <td>서울특별시</td>\n",
       "      <td>성동구</td>\n",
       "      <td>행당동</td>\n",
       "      <td>377</td>\n",
       "      <td>2020-01-01</td>\n",
       "      <td>92.240</td>\n",
       "      <td>13</td>\n",
       "      <td>118000</td>\n",
       "    </tr>\n",
       "    <tr>\n",
       "      <th>2</th>\n",
       "      <td>답십리청솔우성</td>\n",
       "      <td>서울특별시</td>\n",
       "      <td>동대문구</td>\n",
       "      <td>답십리동</td>\n",
       "      <td>80</td>\n",
       "      <td>2020-01-01</td>\n",
       "      <td>59.740</td>\n",
       "      <td>9</td>\n",
       "      <td>54000</td>\n",
       "    </tr>\n",
       "    <tr>\n",
       "      <th>3</th>\n",
       "      <td>다우하임</td>\n",
       "      <td>서울특별시</td>\n",
       "      <td>동대문구</td>\n",
       "      <td>장안동</td>\n",
       "      <td>344-2</td>\n",
       "      <td>2020-01-01</td>\n",
       "      <td>29.980</td>\n",
       "      <td>11</td>\n",
       "      <td>23500</td>\n",
       "    </tr>\n",
       "    <tr>\n",
       "      <th>4</th>\n",
       "      <td>면목삼익</td>\n",
       "      <td>서울특별시</td>\n",
       "      <td>중랑구</td>\n",
       "      <td>면목동</td>\n",
       "      <td>1516</td>\n",
       "      <td>2020-01-01</td>\n",
       "      <td>84.990</td>\n",
       "      <td>5</td>\n",
       "      <td>47500</td>\n",
       "    </tr>\n",
       "    <tr>\n",
       "      <th>...</th>\n",
       "      <td>...</td>\n",
       "      <td>...</td>\n",
       "      <td>...</td>\n",
       "      <td>...</td>\n",
       "      <td>...</td>\n",
       "      <td>...</td>\n",
       "      <td>...</td>\n",
       "      <td>...</td>\n",
       "      <td>...</td>\n",
       "    </tr>\n",
       "    <tr>\n",
       "      <th>80729</th>\n",
       "      <td>프라이어팰리스</td>\n",
       "      <td>서울특별시</td>\n",
       "      <td>강동구</td>\n",
       "      <td>암사동</td>\n",
       "      <td>413</td>\n",
       "      <td>2020-12-31</td>\n",
       "      <td>59.983</td>\n",
       "      <td>20</td>\n",
       "      <td>115000</td>\n",
       "    </tr>\n",
       "    <tr>\n",
       "      <th>80730</th>\n",
       "      <td>우림루미아트</td>\n",
       "      <td>서울특별시</td>\n",
       "      <td>강동구</td>\n",
       "      <td>성내동</td>\n",
       "      <td>599</td>\n",
       "      <td>2020-12-31</td>\n",
       "      <td>84.500</td>\n",
       "      <td>7</td>\n",
       "      <td>79000</td>\n",
       "    </tr>\n",
       "    <tr>\n",
       "      <th>80731</th>\n",
       "      <td>금호아파트</td>\n",
       "      <td>서울특별시</td>\n",
       "      <td>강동구</td>\n",
       "      <td>천호동</td>\n",
       "      <td>44</td>\n",
       "      <td>2020-12-31</td>\n",
       "      <td>27.610</td>\n",
       "      <td>5</td>\n",
       "      <td>37800</td>\n",
       "    </tr>\n",
       "    <tr>\n",
       "      <th>80732</th>\n",
       "      <td>강일리버파크4단지</td>\n",
       "      <td>서울특별시</td>\n",
       "      <td>강동구</td>\n",
       "      <td>강일동</td>\n",
       "      <td>673</td>\n",
       "      <td>2020-12-31</td>\n",
       "      <td>84.740</td>\n",
       "      <td>12</td>\n",
       "      <td>111000</td>\n",
       "    </tr>\n",
       "    <tr>\n",
       "      <th>80733</th>\n",
       "      <td>강일리버파크9단지</td>\n",
       "      <td>서울특별시</td>\n",
       "      <td>강동구</td>\n",
       "      <td>강일동</td>\n",
       "      <td>699</td>\n",
       "      <td>2020-12-31</td>\n",
       "      <td>84.740</td>\n",
       "      <td>5</td>\n",
       "      <td>104000</td>\n",
       "    </tr>\n",
       "  </tbody>\n",
       "</table>\n",
       "<p>80734 rows × 9 columns</p>\n",
       "</div>"
      ],
      "text/plain": [
       "               아파트    시도명   시군구    법정동     지번        거래일    전용면적   층    거래금액\n",
       "0      텐즈힐아파트(1단지)  서울특별시   성동구  하왕십리동   1066 2020-01-01  84.960  19  120000\n",
       "1            서울숲더샵  서울특별시   성동구    행당동    377 2020-01-01  92.240  13  118000\n",
       "2          답십리청솔우성  서울특별시  동대문구   답십리동     80 2020-01-01  59.740   9   54000\n",
       "3             다우하임  서울특별시  동대문구    장안동  344-2 2020-01-01  29.980  11   23500\n",
       "4             면목삼익  서울특별시   중랑구    면목동   1516 2020-01-01  84.990   5   47500\n",
       "...            ...    ...   ...    ...    ...        ...     ...  ..     ...\n",
       "80729      프라이어팰리스  서울특별시   강동구    암사동    413 2020-12-31  59.983  20  115000\n",
       "80730       우림루미아트  서울특별시   강동구    성내동    599 2020-12-31  84.500   7   79000\n",
       "80731        금호아파트  서울특별시   강동구    천호동     44 2020-12-31  27.610   5   37800\n",
       "80732    강일리버파크4단지  서울특별시   강동구    강일동    673 2020-12-31  84.740  12  111000\n",
       "80733    강일리버파크9단지  서울특별시   강동구    강일동    699 2020-12-31  84.740   5  104000\n",
       "\n",
       "[80734 rows x 9 columns]"
      ]
     },
     "execution_count": 87,
     "metadata": {},
     "output_type": "execute_result"
    }
   ],
   "source": [
    "# drop() 함수에 삭제할 컬럼명을 리스트로 입력하여 삭제합니다.\n",
    "price.drop('일련번호', axis = 1)"
   ]
  },
  {
   "cell_type": "code",
   "execution_count": 88,
   "id": "simple-stevens",
   "metadata": {},
   "outputs": [],
   "source": [
    "# 컬럼을 삭제하고 price에 재할당합니다.\n",
    "price = price.drop('일련번호', axis = 1)"
   ]
  },
  {
   "cell_type": "markdown",
   "id": "buried-partition",
   "metadata": {},
   "source": [
    "### 컬럼명 변경"
   ]
  },
  {
   "cell_type": "code",
   "execution_count": 89,
   "id": "employed-swaziland",
   "metadata": {},
   "outputs": [],
   "source": [
    "# rename() 함수로 일부 컬럼명을 변경합니다.\n",
    "price = price.rename(columns = {'아파트': '아파트명'})"
   ]
  },
  {
   "cell_type": "code",
   "execution_count": 90,
   "id": "supposed-honor",
   "metadata": {},
   "outputs": [
    {
     "data": {
      "text/plain": [
       "Index(['아파트명', '시도명', '시군구', '법정동', '지번', '거래일', '전용면적', '층', '거래금액'], dtype='object')"
      ]
     },
     "execution_count": 90,
     "metadata": {},
     "output_type": "execute_result"
    }
   ],
   "source": [
    "# 가격 데이터의 컬럼명을 출력합니다.\n",
    "price.columns"
   ]
  },
  {
   "cell_type": "code",
   "execution_count": 91,
   "id": "corrected-grave",
   "metadata": {},
   "outputs": [],
   "source": [
    "# columns 속성을 사용하면 컬럼명 전체를 변경합니다.\n",
    "price.columns = ['아파트', '시도', '시군구', '읍면동', '지번', '거래일', '전용면적', '층', '거래금액']"
   ]
  },
  {
   "cell_type": "code",
   "execution_count": 92,
   "id": "color-tribute",
   "metadata": {},
   "outputs": [
    {
     "data": {
      "text/html": [
       "<div>\n",
       "<style scoped>\n",
       "    .dataframe tbody tr th:only-of-type {\n",
       "        vertical-align: middle;\n",
       "    }\n",
       "\n",
       "    .dataframe tbody tr th {\n",
       "        vertical-align: top;\n",
       "    }\n",
       "\n",
       "    .dataframe thead th {\n",
       "        text-align: right;\n",
       "    }\n",
       "</style>\n",
       "<table border=\"1\" class=\"dataframe\">\n",
       "  <thead>\n",
       "    <tr style=\"text-align: right;\">\n",
       "      <th></th>\n",
       "      <th>아파트</th>\n",
       "      <th>시도</th>\n",
       "      <th>시군구</th>\n",
       "      <th>읍면동</th>\n",
       "      <th>지번</th>\n",
       "      <th>거래일</th>\n",
       "      <th>전용면적</th>\n",
       "      <th>층</th>\n",
       "      <th>거래금액</th>\n",
       "    </tr>\n",
       "  </thead>\n",
       "  <tbody>\n",
       "    <tr>\n",
       "      <th>0</th>\n",
       "      <td>텐즈힐아파트(1단지)</td>\n",
       "      <td>서울특별시</td>\n",
       "      <td>성동구</td>\n",
       "      <td>하왕십리동</td>\n",
       "      <td>1066</td>\n",
       "      <td>2020-01-01</td>\n",
       "      <td>84.96</td>\n",
       "      <td>19</td>\n",
       "      <td>120000</td>\n",
       "    </tr>\n",
       "    <tr>\n",
       "      <th>1</th>\n",
       "      <td>서울숲더샵</td>\n",
       "      <td>서울특별시</td>\n",
       "      <td>성동구</td>\n",
       "      <td>행당동</td>\n",
       "      <td>377</td>\n",
       "      <td>2020-01-01</td>\n",
       "      <td>92.24</td>\n",
       "      <td>13</td>\n",
       "      <td>118000</td>\n",
       "    </tr>\n",
       "    <tr>\n",
       "      <th>2</th>\n",
       "      <td>답십리청솔우성</td>\n",
       "      <td>서울특별시</td>\n",
       "      <td>동대문구</td>\n",
       "      <td>답십리동</td>\n",
       "      <td>80</td>\n",
       "      <td>2020-01-01</td>\n",
       "      <td>59.74</td>\n",
       "      <td>9</td>\n",
       "      <td>54000</td>\n",
       "    </tr>\n",
       "    <tr>\n",
       "      <th>3</th>\n",
       "      <td>다우하임</td>\n",
       "      <td>서울특별시</td>\n",
       "      <td>동대문구</td>\n",
       "      <td>장안동</td>\n",
       "      <td>344-2</td>\n",
       "      <td>2020-01-01</td>\n",
       "      <td>29.98</td>\n",
       "      <td>11</td>\n",
       "      <td>23500</td>\n",
       "    </tr>\n",
       "    <tr>\n",
       "      <th>4</th>\n",
       "      <td>면목삼익</td>\n",
       "      <td>서울특별시</td>\n",
       "      <td>중랑구</td>\n",
       "      <td>면목동</td>\n",
       "      <td>1516</td>\n",
       "      <td>2020-01-01</td>\n",
       "      <td>84.99</td>\n",
       "      <td>5</td>\n",
       "      <td>47500</td>\n",
       "    </tr>\n",
       "  </tbody>\n",
       "</table>\n",
       "</div>"
      ],
      "text/plain": [
       "           아파트     시도   시군구    읍면동     지번        거래일   전용면적   층    거래금액\n",
       "0  텐즈힐아파트(1단지)  서울특별시   성동구  하왕십리동   1066 2020-01-01  84.96  19  120000\n",
       "1        서울숲더샵  서울특별시   성동구    행당동    377 2020-01-01  92.24  13  118000\n",
       "2      답십리청솔우성  서울특별시  동대문구   답십리동     80 2020-01-01  59.74   9   54000\n",
       "3         다우하임  서울특별시  동대문구    장안동  344-2 2020-01-01  29.98  11   23500\n",
       "4         면목삼익  서울특별시   중랑구    면목동   1516 2020-01-01  84.99   5   47500"
      ]
     },
     "execution_count": 92,
     "metadata": {},
     "output_type": "execute_result"
    }
   ],
   "source": [
    "# 가격 데이터의 처음 다섯 행을 출력합니다.\n",
    "price.head()"
   ]
  },
  {
   "cell_type": "markdown",
   "id": "changed-gates",
   "metadata": {},
   "source": [
    "### 컬럼 자료형 변환"
   ]
  },
  {
   "cell_type": "code",
   "execution_count": 93,
   "id": "jewish-longer",
   "metadata": {},
   "outputs": [],
   "source": [
    "# 거래일 컬럼을 문자열로 변환합니다.\n",
    "price['거래일'] = price['거래일'].astype('str')"
   ]
  },
  {
   "cell_type": "code",
   "execution_count": 94,
   "id": "regular-worth",
   "metadata": {},
   "outputs": [],
   "source": [
    "# 거래금액 컬럼을 실수로 변환합니다.\n",
    "price['거래금액'] = price['거래금액'].astype('float')"
   ]
  },
  {
   "cell_type": "code",
   "execution_count": 95,
   "id": "spatial-moral",
   "metadata": {},
   "outputs": [
    {
     "data": {
      "text/plain": [
       "아파트      object\n",
       "시도       object\n",
       "시군구      object\n",
       "읍면동      object\n",
       "지번       object\n",
       "거래일      object\n",
       "전용면적    float64\n",
       "층         int64\n",
       "거래금액    float64\n",
       "dtype: object"
      ]
     },
     "execution_count": 95,
     "metadata": {},
     "output_type": "execute_result"
    }
   ],
   "source": [
    "# 가격 데이터의 컬럼별 자료형을 확인합니다.\n",
    "price.dtypes"
   ]
  },
  {
   "cell_type": "code",
   "execution_count": 96,
   "id": "confident-butterfly",
   "metadata": {},
   "outputs": [],
   "source": [
    "# 거래일 컬럼을 날짜로 복원합니다.\n",
    "price['거래일'] = pd.to_datetime(price['거래일'])"
   ]
  },
  {
   "cell_type": "code",
   "execution_count": 97,
   "id": "destroyed-colon",
   "metadata": {},
   "outputs": [
    {
     "data": {
      "text/plain": [
       "아파트             object\n",
       "시도              object\n",
       "시군구             object\n",
       "읍면동             object\n",
       "지번              object\n",
       "거래일     datetime64[ns]\n",
       "전용면적           float64\n",
       "층                int64\n",
       "거래금액           float64\n",
       "dtype: object"
      ]
     },
     "execution_count": 97,
     "metadata": {},
     "output_type": "execute_result"
    }
   ],
   "source": [
    "# 가격 데이터의 컬럼별 자료형을 다시 확인합니다.\n",
    "price.dtypes"
   ]
  },
  {
   "cell_type": "code",
   "execution_count": 98,
   "id": "creative-burton",
   "metadata": {},
   "outputs": [],
   "source": [
    "# astype() 함수에 딕셔너리로 입력하면 여러 컬럼을 각각 변환합니다.\n",
    "price = price.astype({'층':'float', '거래금액':'int'})"
   ]
  },
  {
   "cell_type": "code",
   "execution_count": 99,
   "id": "genetic-cheat",
   "metadata": {},
   "outputs": [
    {
     "data": {
      "text/plain": [
       "아파트             object\n",
       "시도              object\n",
       "시군구             object\n",
       "읍면동             object\n",
       "지번              object\n",
       "거래일     datetime64[ns]\n",
       "전용면적           float64\n",
       "층              float64\n",
       "거래금액             int64\n",
       "dtype: object"
      ]
     },
     "execution_count": 99,
     "metadata": {},
     "output_type": "execute_result"
    }
   ],
   "source": [
    "# 가격 데이터의 컬럼별 자료형을 확인합니다.\n",
    "price.dtypes"
   ]
  },
  {
   "cell_type": "code",
   "execution_count": 100,
   "id": "hollow-capability",
   "metadata": {},
   "outputs": [],
   "source": [
    "# 여러 컬럼을 하나의 자료형으로 동시에 변환합니다.\n",
    "price.iloc[:, 7:9] = price.iloc[:, 7:9].astype(int)"
   ]
  },
  {
   "cell_type": "code",
   "execution_count": 101,
   "id": "floppy-connecticut",
   "metadata": {},
   "outputs": [
    {
     "data": {
      "text/plain": [
       "아파트             object\n",
       "시도              object\n",
       "시군구             object\n",
       "읍면동             object\n",
       "지번              object\n",
       "거래일     datetime64[ns]\n",
       "전용면적           float64\n",
       "층                int64\n",
       "거래금액             int64\n",
       "dtype: object"
      ]
     },
     "execution_count": 101,
     "metadata": {},
     "output_type": "execute_result"
    }
   ],
   "source": [
    "# 가격 데이터의 컬럼별 자료형을 확인합니다.\n",
    "price.dtypes"
   ]
  },
  {
   "cell_type": "markdown",
   "id": "external-military",
   "metadata": {},
   "source": [
    "### [참고] 문자열을 날짜 자료형으로 변환"
   ]
  },
  {
   "cell_type": "code",
   "execution_count": 102,
   "id": "aware-factor",
   "metadata": {},
   "outputs": [],
   "source": [
    "# yyyy-mm-dd 형태가 아닌 문자열 데이터로 데이터프레임을 생성합니다.\n",
    "dates = pd.DataFrame(['2020년 12월 13일', '2021년 1월 1일'], columns = ['날짜'])"
   ]
  },
  {
   "cell_type": "code",
   "execution_count": 103,
   "id": "excess-weapon",
   "metadata": {},
   "outputs": [
    {
     "ename": "ParserError",
     "evalue": "Unknown string format: 2020년 12월 13일",
     "output_type": "error",
     "traceback": [
      "\u001b[0;31m---------------------------------------------------------------------------\u001b[0m",
      "\u001b[0;31mTypeError\u001b[0m                                 Traceback (most recent call last)",
      "\u001b[0;32m/Library/Frameworks/Python.framework/Versions/3.9/lib/python3.9/site-packages/pandas/core/arrays/datetimes.py\u001b[0m in \u001b[0;36mobjects_to_datetime64ns\u001b[0;34m(data, dayfirst, yearfirst, utc, errors, require_iso8601, allow_object)\u001b[0m\n\u001b[1;32m   2084\u001b[0m         \u001b[0;32mtry\u001b[0m\u001b[0;34m:\u001b[0m\u001b[0;34m\u001b[0m\u001b[0;34m\u001b[0m\u001b[0m\n\u001b[0;32m-> 2085\u001b[0;31m             \u001b[0mvalues\u001b[0m\u001b[0;34m,\u001b[0m \u001b[0mtz_parsed\u001b[0m \u001b[0;34m=\u001b[0m \u001b[0mconversion\u001b[0m\u001b[0;34m.\u001b[0m\u001b[0mdatetime_to_datetime64\u001b[0m\u001b[0;34m(\u001b[0m\u001b[0mdata\u001b[0m\u001b[0;34m)\u001b[0m\u001b[0;34m\u001b[0m\u001b[0;34m\u001b[0m\u001b[0m\n\u001b[0m\u001b[1;32m   2086\u001b[0m             \u001b[0;31m# If tzaware, these values represent unix timestamps, so we\u001b[0m\u001b[0;34m\u001b[0m\u001b[0;34m\u001b[0m\u001b[0;34m\u001b[0m\u001b[0m\n",
      "\u001b[0;32mpandas/_libs/tslibs/conversion.pyx\u001b[0m in \u001b[0;36mpandas._libs.tslibs.conversion.datetime_to_datetime64\u001b[0;34m()\u001b[0m\n",
      "\u001b[0;31mTypeError\u001b[0m: Unrecognized value type: <class 'str'>",
      "\nDuring handling of the above exception, another exception occurred:\n",
      "\u001b[0;31mParserError\u001b[0m                               Traceback (most recent call last)",
      "\u001b[0;32m<ipython-input-103-1f8f31cb59f2>\u001b[0m in \u001b[0;36m<module>\u001b[0;34m\u001b[0m\n\u001b[1;32m      1\u001b[0m \u001b[0;31m# 거래일 컬럼을 날짜로 변환하려고 하면 에러가 발생합니다.\u001b[0m\u001b[0;34m\u001b[0m\u001b[0;34m\u001b[0m\u001b[0;34m\u001b[0m\u001b[0m\n\u001b[0;32m----> 2\u001b[0;31m \u001b[0mdates\u001b[0m\u001b[0;34m[\u001b[0m\u001b[0;34m'날짜'\u001b[0m\u001b[0;34m]\u001b[0m \u001b[0;34m=\u001b[0m \u001b[0mdates\u001b[0m\u001b[0;34m[\u001b[0m\u001b[0;34m'날짜'\u001b[0m\u001b[0;34m]\u001b[0m\u001b[0;34m.\u001b[0m\u001b[0mastype\u001b[0m\u001b[0;34m(\u001b[0m\u001b[0;34m'datetime64'\u001b[0m\u001b[0;34m)\u001b[0m\u001b[0;34m\u001b[0m\u001b[0;34m\u001b[0m\u001b[0m\n\u001b[0m",
      "\u001b[0;32m/Library/Frameworks/Python.framework/Versions/3.9/lib/python3.9/site-packages/pandas/core/generic.py\u001b[0m in \u001b[0;36mastype\u001b[0;34m(self, dtype, copy, errors)\u001b[0m\n\u001b[1;32m   5875\u001b[0m         \u001b[0;32melse\u001b[0m\u001b[0;34m:\u001b[0m\u001b[0;34m\u001b[0m\u001b[0;34m\u001b[0m\u001b[0m\n\u001b[1;32m   5876\u001b[0m             \u001b[0;31m# else, only a single dtype is given\u001b[0m\u001b[0;34m\u001b[0m\u001b[0;34m\u001b[0m\u001b[0;34m\u001b[0m\u001b[0m\n\u001b[0;32m-> 5877\u001b[0;31m             \u001b[0mnew_data\u001b[0m \u001b[0;34m=\u001b[0m \u001b[0mself\u001b[0m\u001b[0;34m.\u001b[0m\u001b[0m_mgr\u001b[0m\u001b[0;34m.\u001b[0m\u001b[0mastype\u001b[0m\u001b[0;34m(\u001b[0m\u001b[0mdtype\u001b[0m\u001b[0;34m=\u001b[0m\u001b[0mdtype\u001b[0m\u001b[0;34m,\u001b[0m \u001b[0mcopy\u001b[0m\u001b[0;34m=\u001b[0m\u001b[0mcopy\u001b[0m\u001b[0;34m,\u001b[0m \u001b[0merrors\u001b[0m\u001b[0;34m=\u001b[0m\u001b[0merrors\u001b[0m\u001b[0;34m)\u001b[0m\u001b[0;34m\u001b[0m\u001b[0;34m\u001b[0m\u001b[0m\n\u001b[0m\u001b[1;32m   5878\u001b[0m             \u001b[0;32mreturn\u001b[0m \u001b[0mself\u001b[0m\u001b[0;34m.\u001b[0m\u001b[0m_constructor\u001b[0m\u001b[0;34m(\u001b[0m\u001b[0mnew_data\u001b[0m\u001b[0;34m)\u001b[0m\u001b[0;34m.\u001b[0m\u001b[0m__finalize__\u001b[0m\u001b[0;34m(\u001b[0m\u001b[0mself\u001b[0m\u001b[0;34m,\u001b[0m \u001b[0mmethod\u001b[0m\u001b[0;34m=\u001b[0m\u001b[0;34m\"astype\"\u001b[0m\u001b[0;34m)\u001b[0m\u001b[0;34m\u001b[0m\u001b[0;34m\u001b[0m\u001b[0m\n\u001b[1;32m   5879\u001b[0m \u001b[0;34m\u001b[0m\u001b[0m\n",
      "\u001b[0;32m/Library/Frameworks/Python.framework/Versions/3.9/lib/python3.9/site-packages/pandas/core/internals/managers.py\u001b[0m in \u001b[0;36mastype\u001b[0;34m(self, dtype, copy, errors)\u001b[0m\n\u001b[1;32m    629\u001b[0m         \u001b[0mself\u001b[0m\u001b[0;34m,\u001b[0m \u001b[0mdtype\u001b[0m\u001b[0;34m,\u001b[0m \u001b[0mcopy\u001b[0m\u001b[0;34m:\u001b[0m \u001b[0mbool\u001b[0m \u001b[0;34m=\u001b[0m \u001b[0;32mFalse\u001b[0m\u001b[0;34m,\u001b[0m \u001b[0merrors\u001b[0m\u001b[0;34m:\u001b[0m \u001b[0mstr\u001b[0m \u001b[0;34m=\u001b[0m \u001b[0;34m\"raise\"\u001b[0m\u001b[0;34m\u001b[0m\u001b[0;34m\u001b[0m\u001b[0m\n\u001b[1;32m    630\u001b[0m     ) -> \"BlockManager\":\n\u001b[0;32m--> 631\u001b[0;31m         \u001b[0;32mreturn\u001b[0m \u001b[0mself\u001b[0m\u001b[0;34m.\u001b[0m\u001b[0mapply\u001b[0m\u001b[0;34m(\u001b[0m\u001b[0;34m\"astype\"\u001b[0m\u001b[0;34m,\u001b[0m \u001b[0mdtype\u001b[0m\u001b[0;34m=\u001b[0m\u001b[0mdtype\u001b[0m\u001b[0;34m,\u001b[0m \u001b[0mcopy\u001b[0m\u001b[0;34m=\u001b[0m\u001b[0mcopy\u001b[0m\u001b[0;34m,\u001b[0m \u001b[0merrors\u001b[0m\u001b[0;34m=\u001b[0m\u001b[0merrors\u001b[0m\u001b[0;34m)\u001b[0m\u001b[0;34m\u001b[0m\u001b[0;34m\u001b[0m\u001b[0m\n\u001b[0m\u001b[1;32m    632\u001b[0m \u001b[0;34m\u001b[0m\u001b[0m\n\u001b[1;32m    633\u001b[0m     def convert(\n",
      "\u001b[0;32m/Library/Frameworks/Python.framework/Versions/3.9/lib/python3.9/site-packages/pandas/core/internals/managers.py\u001b[0m in \u001b[0;36mapply\u001b[0;34m(self, f, align_keys, ignore_failures, **kwargs)\u001b[0m\n\u001b[1;32m    425\u001b[0m                     \u001b[0mapplied\u001b[0m \u001b[0;34m=\u001b[0m \u001b[0mb\u001b[0m\u001b[0;34m.\u001b[0m\u001b[0mapply\u001b[0m\u001b[0;34m(\u001b[0m\u001b[0mf\u001b[0m\u001b[0;34m,\u001b[0m \u001b[0;34m**\u001b[0m\u001b[0mkwargs\u001b[0m\u001b[0;34m)\u001b[0m\u001b[0;34m\u001b[0m\u001b[0;34m\u001b[0m\u001b[0m\n\u001b[1;32m    426\u001b[0m                 \u001b[0;32melse\u001b[0m\u001b[0;34m:\u001b[0m\u001b[0;34m\u001b[0m\u001b[0;34m\u001b[0m\u001b[0m\n\u001b[0;32m--> 427\u001b[0;31m                     \u001b[0mapplied\u001b[0m \u001b[0;34m=\u001b[0m \u001b[0mgetattr\u001b[0m\u001b[0;34m(\u001b[0m\u001b[0mb\u001b[0m\u001b[0;34m,\u001b[0m \u001b[0mf\u001b[0m\u001b[0;34m)\u001b[0m\u001b[0;34m(\u001b[0m\u001b[0;34m**\u001b[0m\u001b[0mkwargs\u001b[0m\u001b[0;34m)\u001b[0m\u001b[0;34m\u001b[0m\u001b[0;34m\u001b[0m\u001b[0m\n\u001b[0m\u001b[1;32m    428\u001b[0m             \u001b[0;32mexcept\u001b[0m \u001b[0;34m(\u001b[0m\u001b[0mTypeError\u001b[0m\u001b[0;34m,\u001b[0m \u001b[0mNotImplementedError\u001b[0m\u001b[0;34m)\u001b[0m\u001b[0;34m:\u001b[0m\u001b[0;34m\u001b[0m\u001b[0;34m\u001b[0m\u001b[0m\n\u001b[1;32m    429\u001b[0m                 \u001b[0;32mif\u001b[0m \u001b[0;32mnot\u001b[0m \u001b[0mignore_failures\u001b[0m\u001b[0;34m:\u001b[0m\u001b[0;34m\u001b[0m\u001b[0;34m\u001b[0m\u001b[0m\n",
      "\u001b[0;32m/Library/Frameworks/Python.framework/Versions/3.9/lib/python3.9/site-packages/pandas/core/internals/blocks.py\u001b[0m in \u001b[0;36mastype\u001b[0;34m(self, dtype, copy, errors)\u001b[0m\n\u001b[1;32m    671\u001b[0m             \u001b[0mvals1d\u001b[0m \u001b[0;34m=\u001b[0m \u001b[0mvalues\u001b[0m\u001b[0;34m.\u001b[0m\u001b[0mravel\u001b[0m\u001b[0;34m(\u001b[0m\u001b[0;34m)\u001b[0m\u001b[0;34m\u001b[0m\u001b[0;34m\u001b[0m\u001b[0m\n\u001b[1;32m    672\u001b[0m             \u001b[0;32mtry\u001b[0m\u001b[0;34m:\u001b[0m\u001b[0;34m\u001b[0m\u001b[0;34m\u001b[0m\u001b[0m\n\u001b[0;32m--> 673\u001b[0;31m                 \u001b[0mvalues\u001b[0m \u001b[0;34m=\u001b[0m \u001b[0mastype_nansafe\u001b[0m\u001b[0;34m(\u001b[0m\u001b[0mvals1d\u001b[0m\u001b[0;34m,\u001b[0m \u001b[0mdtype\u001b[0m\u001b[0;34m,\u001b[0m \u001b[0mcopy\u001b[0m\u001b[0;34m=\u001b[0m\u001b[0;32mTrue\u001b[0m\u001b[0;34m)\u001b[0m\u001b[0;34m\u001b[0m\u001b[0;34m\u001b[0m\u001b[0m\n\u001b[0m\u001b[1;32m    674\u001b[0m             \u001b[0;32mexcept\u001b[0m \u001b[0;34m(\u001b[0m\u001b[0mValueError\u001b[0m\u001b[0;34m,\u001b[0m \u001b[0mTypeError\u001b[0m\u001b[0;34m)\u001b[0m\u001b[0;34m:\u001b[0m\u001b[0;34m\u001b[0m\u001b[0;34m\u001b[0m\u001b[0m\n\u001b[1;32m    675\u001b[0m                 \u001b[0;31m# e.g. astype_nansafe can fail on object-dtype of strings\u001b[0m\u001b[0;34m\u001b[0m\u001b[0;34m\u001b[0m\u001b[0;34m\u001b[0m\u001b[0m\n",
      "\u001b[0;32m/Library/Frameworks/Python.framework/Versions/3.9/lib/python3.9/site-packages/pandas/core/dtypes/cast.py\u001b[0m in \u001b[0;36mastype_nansafe\u001b[0;34m(arr, dtype, copy, skipna)\u001b[0m\n\u001b[1;32m   1080\u001b[0m             \u001b[0;32mfrom\u001b[0m \u001b[0mpandas\u001b[0m \u001b[0;32mimport\u001b[0m \u001b[0mto_datetime\u001b[0m\u001b[0;34m\u001b[0m\u001b[0;34m\u001b[0m\u001b[0m\n\u001b[1;32m   1081\u001b[0m \u001b[0;34m\u001b[0m\u001b[0m\n\u001b[0;32m-> 1082\u001b[0;31m             \u001b[0;32mreturn\u001b[0m \u001b[0mastype_nansafe\u001b[0m\u001b[0;34m(\u001b[0m\u001b[0mto_datetime\u001b[0m\u001b[0;34m(\u001b[0m\u001b[0marr\u001b[0m\u001b[0;34m)\u001b[0m\u001b[0;34m.\u001b[0m\u001b[0mvalues\u001b[0m\u001b[0;34m,\u001b[0m \u001b[0mdtype\u001b[0m\u001b[0;34m,\u001b[0m \u001b[0mcopy\u001b[0m\u001b[0;34m=\u001b[0m\u001b[0mcopy\u001b[0m\u001b[0;34m)\u001b[0m\u001b[0;34m\u001b[0m\u001b[0;34m\u001b[0m\u001b[0m\n\u001b[0m\u001b[1;32m   1083\u001b[0m         \u001b[0;32melif\u001b[0m \u001b[0mis_timedelta64_dtype\u001b[0m\u001b[0;34m(\u001b[0m\u001b[0mdtype\u001b[0m\u001b[0;34m)\u001b[0m\u001b[0;34m:\u001b[0m\u001b[0;34m\u001b[0m\u001b[0;34m\u001b[0m\u001b[0m\n\u001b[1;32m   1084\u001b[0m             \u001b[0;32mfrom\u001b[0m \u001b[0mpandas\u001b[0m \u001b[0;32mimport\u001b[0m \u001b[0mto_timedelta\u001b[0m\u001b[0;34m\u001b[0m\u001b[0;34m\u001b[0m\u001b[0m\n",
      "\u001b[0;32m/Library/Frameworks/Python.framework/Versions/3.9/lib/python3.9/site-packages/pandas/core/tools/datetimes.py\u001b[0m in \u001b[0;36mto_datetime\u001b[0;34m(arg, errors, dayfirst, yearfirst, utc, format, exact, unit, infer_datetime_format, origin, cache)\u001b[0m\n\u001b[1;32m    828\u001b[0m             \u001b[0mresult\u001b[0m \u001b[0;34m=\u001b[0m \u001b[0m_convert_and_box_cache\u001b[0m\u001b[0;34m(\u001b[0m\u001b[0marg\u001b[0m\u001b[0;34m,\u001b[0m \u001b[0mcache_array\u001b[0m\u001b[0;34m)\u001b[0m\u001b[0;34m\u001b[0m\u001b[0;34m\u001b[0m\u001b[0m\n\u001b[1;32m    829\u001b[0m         \u001b[0;32melse\u001b[0m\u001b[0;34m:\u001b[0m\u001b[0;34m\u001b[0m\u001b[0;34m\u001b[0m\u001b[0m\n\u001b[0;32m--> 830\u001b[0;31m             \u001b[0mresult\u001b[0m \u001b[0;34m=\u001b[0m \u001b[0mconvert_listlike\u001b[0m\u001b[0;34m(\u001b[0m\u001b[0marg\u001b[0m\u001b[0;34m,\u001b[0m \u001b[0mformat\u001b[0m\u001b[0;34m)\u001b[0m\u001b[0;34m\u001b[0m\u001b[0;34m\u001b[0m\u001b[0m\n\u001b[0m\u001b[1;32m    831\u001b[0m     \u001b[0;32melse\u001b[0m\u001b[0;34m:\u001b[0m\u001b[0;34m\u001b[0m\u001b[0;34m\u001b[0m\u001b[0m\n\u001b[1;32m    832\u001b[0m         \u001b[0mresult\u001b[0m \u001b[0;34m=\u001b[0m \u001b[0mconvert_listlike\u001b[0m\u001b[0;34m(\u001b[0m\u001b[0mnp\u001b[0m\u001b[0;34m.\u001b[0m\u001b[0marray\u001b[0m\u001b[0;34m(\u001b[0m\u001b[0;34m[\u001b[0m\u001b[0marg\u001b[0m\u001b[0;34m]\u001b[0m\u001b[0;34m)\u001b[0m\u001b[0;34m,\u001b[0m \u001b[0mformat\u001b[0m\u001b[0;34m)\u001b[0m\u001b[0;34m[\u001b[0m\u001b[0;36m0\u001b[0m\u001b[0;34m]\u001b[0m\u001b[0;34m\u001b[0m\u001b[0;34m\u001b[0m\u001b[0m\n",
      "\u001b[0;32m/Library/Frameworks/Python.framework/Versions/3.9/lib/python3.9/site-packages/pandas/core/tools/datetimes.py\u001b[0m in \u001b[0;36m_convert_listlike_datetimes\u001b[0;34m(arg, format, name, tz, unit, errors, infer_datetime_format, dayfirst, yearfirst, exact)\u001b[0m\n\u001b[1;32m    463\u001b[0m         \u001b[0;32massert\u001b[0m \u001b[0mformat\u001b[0m \u001b[0;32mis\u001b[0m \u001b[0;32mNone\u001b[0m \u001b[0;32mor\u001b[0m \u001b[0minfer_datetime_format\u001b[0m\u001b[0;34m\u001b[0m\u001b[0;34m\u001b[0m\u001b[0m\n\u001b[1;32m    464\u001b[0m         \u001b[0mutc\u001b[0m \u001b[0;34m=\u001b[0m \u001b[0mtz\u001b[0m \u001b[0;34m==\u001b[0m \u001b[0;34m\"utc\"\u001b[0m\u001b[0;34m\u001b[0m\u001b[0;34m\u001b[0m\u001b[0m\n\u001b[0;32m--> 465\u001b[0;31m         result, tz_parsed = objects_to_datetime64ns(\n\u001b[0m\u001b[1;32m    466\u001b[0m             \u001b[0marg\u001b[0m\u001b[0;34m,\u001b[0m\u001b[0;34m\u001b[0m\u001b[0;34m\u001b[0m\u001b[0m\n\u001b[1;32m    467\u001b[0m             \u001b[0mdayfirst\u001b[0m\u001b[0;34m=\u001b[0m\u001b[0mdayfirst\u001b[0m\u001b[0;34m,\u001b[0m\u001b[0;34m\u001b[0m\u001b[0;34m\u001b[0m\u001b[0m\n",
      "\u001b[0;32m/Library/Frameworks/Python.framework/Versions/3.9/lib/python3.9/site-packages/pandas/core/arrays/datetimes.py\u001b[0m in \u001b[0;36mobjects_to_datetime64ns\u001b[0;34m(data, dayfirst, yearfirst, utc, errors, require_iso8601, allow_object)\u001b[0m\n\u001b[1;32m   2088\u001b[0m             \u001b[0;32mreturn\u001b[0m \u001b[0mvalues\u001b[0m\u001b[0;34m.\u001b[0m\u001b[0mview\u001b[0m\u001b[0;34m(\u001b[0m\u001b[0;34m\"i8\"\u001b[0m\u001b[0;34m)\u001b[0m\u001b[0;34m,\u001b[0m \u001b[0mtz_parsed\u001b[0m\u001b[0;34m\u001b[0m\u001b[0;34m\u001b[0m\u001b[0m\n\u001b[1;32m   2089\u001b[0m         \u001b[0;32mexcept\u001b[0m \u001b[0;34m(\u001b[0m\u001b[0mValueError\u001b[0m\u001b[0;34m,\u001b[0m \u001b[0mTypeError\u001b[0m\u001b[0;34m)\u001b[0m\u001b[0;34m:\u001b[0m\u001b[0;34m\u001b[0m\u001b[0;34m\u001b[0m\u001b[0m\n\u001b[0;32m-> 2090\u001b[0;31m             \u001b[0;32mraise\u001b[0m \u001b[0me\u001b[0m\u001b[0;34m\u001b[0m\u001b[0;34m\u001b[0m\u001b[0m\n\u001b[0m\u001b[1;32m   2091\u001b[0m \u001b[0;34m\u001b[0m\u001b[0m\n\u001b[1;32m   2092\u001b[0m     \u001b[0;32mif\u001b[0m \u001b[0mtz_parsed\u001b[0m \u001b[0;32mis\u001b[0m \u001b[0;32mnot\u001b[0m \u001b[0;32mNone\u001b[0m\u001b[0;34m:\u001b[0m\u001b[0;34m\u001b[0m\u001b[0;34m\u001b[0m\u001b[0m\n",
      "\u001b[0;32m/Library/Frameworks/Python.framework/Versions/3.9/lib/python3.9/site-packages/pandas/core/arrays/datetimes.py\u001b[0m in \u001b[0;36mobjects_to_datetime64ns\u001b[0;34m(data, dayfirst, yearfirst, utc, errors, require_iso8601, allow_object)\u001b[0m\n\u001b[1;32m   2073\u001b[0m \u001b[0;34m\u001b[0m\u001b[0m\n\u001b[1;32m   2074\u001b[0m     \u001b[0;32mtry\u001b[0m\u001b[0;34m:\u001b[0m\u001b[0;34m\u001b[0m\u001b[0;34m\u001b[0m\u001b[0m\n\u001b[0;32m-> 2075\u001b[0;31m         result, tz_parsed = tslib.array_to_datetime(\n\u001b[0m\u001b[1;32m   2076\u001b[0m             \u001b[0mdata\u001b[0m\u001b[0;34m,\u001b[0m\u001b[0;34m\u001b[0m\u001b[0;34m\u001b[0m\u001b[0m\n\u001b[1;32m   2077\u001b[0m             \u001b[0merrors\u001b[0m\u001b[0;34m=\u001b[0m\u001b[0merrors\u001b[0m\u001b[0;34m,\u001b[0m\u001b[0;34m\u001b[0m\u001b[0;34m\u001b[0m\u001b[0m\n",
      "\u001b[0;32mpandas/_libs/tslib.pyx\u001b[0m in \u001b[0;36mpandas._libs.tslib.array_to_datetime\u001b[0;34m()\u001b[0m\n",
      "\u001b[0;32mpandas/_libs/tslib.pyx\u001b[0m in \u001b[0;36mpandas._libs.tslib.array_to_datetime\u001b[0;34m()\u001b[0m\n",
      "\u001b[0;32mpandas/_libs/tslib.pyx\u001b[0m in \u001b[0;36mpandas._libs.tslib.array_to_datetime_object\u001b[0;34m()\u001b[0m\n",
      "\u001b[0;32mpandas/_libs/tslib.pyx\u001b[0m in \u001b[0;36mpandas._libs.tslib.array_to_datetime_object\u001b[0;34m()\u001b[0m\n",
      "\u001b[0;32mpandas/_libs/tslibs/parsing.pyx\u001b[0m in \u001b[0;36mpandas._libs.tslibs.parsing.parse_datetime_string\u001b[0;34m()\u001b[0m\n",
      "\u001b[0;32m/Library/Frameworks/Python.framework/Versions/3.9/lib/python3.9/site-packages/dateutil/parser/_parser.py\u001b[0m in \u001b[0;36mparse\u001b[0;34m(timestr, parserinfo, **kwargs)\u001b[0m\n\u001b[1;32m   1372\u001b[0m         \u001b[0;32mreturn\u001b[0m \u001b[0mparser\u001b[0m\u001b[0;34m(\u001b[0m\u001b[0mparserinfo\u001b[0m\u001b[0;34m)\u001b[0m\u001b[0;34m.\u001b[0m\u001b[0mparse\u001b[0m\u001b[0;34m(\u001b[0m\u001b[0mtimestr\u001b[0m\u001b[0;34m,\u001b[0m \u001b[0;34m**\u001b[0m\u001b[0mkwargs\u001b[0m\u001b[0;34m)\u001b[0m\u001b[0;34m\u001b[0m\u001b[0;34m\u001b[0m\u001b[0m\n\u001b[1;32m   1373\u001b[0m     \u001b[0;32melse\u001b[0m\u001b[0;34m:\u001b[0m\u001b[0;34m\u001b[0m\u001b[0;34m\u001b[0m\u001b[0m\n\u001b[0;32m-> 1374\u001b[0;31m         \u001b[0;32mreturn\u001b[0m \u001b[0mDEFAULTPARSER\u001b[0m\u001b[0;34m.\u001b[0m\u001b[0mparse\u001b[0m\u001b[0;34m(\u001b[0m\u001b[0mtimestr\u001b[0m\u001b[0;34m,\u001b[0m \u001b[0;34m**\u001b[0m\u001b[0mkwargs\u001b[0m\u001b[0;34m)\u001b[0m\u001b[0;34m\u001b[0m\u001b[0;34m\u001b[0m\u001b[0m\n\u001b[0m\u001b[1;32m   1375\u001b[0m \u001b[0;34m\u001b[0m\u001b[0m\n\u001b[1;32m   1376\u001b[0m \u001b[0;34m\u001b[0m\u001b[0m\n",
      "\u001b[0;32m/Library/Frameworks/Python.framework/Versions/3.9/lib/python3.9/site-packages/dateutil/parser/_parser.py\u001b[0m in \u001b[0;36mparse\u001b[0;34m(self, timestr, default, ignoretz, tzinfos, **kwargs)\u001b[0m\n\u001b[1;32m    647\u001b[0m \u001b[0;34m\u001b[0m\u001b[0m\n\u001b[1;32m    648\u001b[0m         \u001b[0;32mif\u001b[0m \u001b[0mres\u001b[0m \u001b[0;32mis\u001b[0m \u001b[0;32mNone\u001b[0m\u001b[0;34m:\u001b[0m\u001b[0;34m\u001b[0m\u001b[0;34m\u001b[0m\u001b[0m\n\u001b[0;32m--> 649\u001b[0;31m             \u001b[0;32mraise\u001b[0m \u001b[0mParserError\u001b[0m\u001b[0;34m(\u001b[0m\u001b[0;34m\"Unknown string format: %s\"\u001b[0m\u001b[0;34m,\u001b[0m \u001b[0mtimestr\u001b[0m\u001b[0;34m)\u001b[0m\u001b[0;34m\u001b[0m\u001b[0;34m\u001b[0m\u001b[0m\n\u001b[0m\u001b[1;32m    650\u001b[0m \u001b[0;34m\u001b[0m\u001b[0m\n\u001b[1;32m    651\u001b[0m         \u001b[0;32mif\u001b[0m \u001b[0mlen\u001b[0m\u001b[0;34m(\u001b[0m\u001b[0mres\u001b[0m\u001b[0;34m)\u001b[0m \u001b[0;34m==\u001b[0m \u001b[0;36m0\u001b[0m\u001b[0;34m:\u001b[0m\u001b[0;34m\u001b[0m\u001b[0;34m\u001b[0m\u001b[0m\n",
      "\u001b[0;31mParserError\u001b[0m: Unknown string format: 2020년 12월 13일"
     ]
    }
   ],
   "source": [
    "# 거래일 컬럼을 날짜로 변환하려고 하면 에러가 발생합니다.\n",
    "dates['날짜'] = dates['날짜'].astype('datetime64')"
   ]
  },
  {
   "cell_type": "code",
   "execution_count": 104,
   "id": "novel-setting",
   "metadata": {},
   "outputs": [],
   "source": [
    "# to_datetime() 함수의 format 매개변수에 날짜 포맷을 지정하면 변환됩니다.\n",
    "dates['날짜'] = pd.to_datetime(dates['날짜'], format = '%Y년 %m월 %d일')"
   ]
  },
  {
   "cell_type": "markdown",
   "id": "potential-bookmark",
   "metadata": {},
   "source": [
    "### 조건에 맞는 행 선택"
   ]
  },
  {
   "cell_type": "code",
   "execution_count": 105,
   "id": "fewer-second",
   "metadata": {},
   "outputs": [
    {
     "data": {
      "text/html": [
       "<div>\n",
       "<style scoped>\n",
       "    .dataframe tbody tr th:only-of-type {\n",
       "        vertical-align: middle;\n",
       "    }\n",
       "\n",
       "    .dataframe tbody tr th {\n",
       "        vertical-align: top;\n",
       "    }\n",
       "\n",
       "    .dataframe thead th {\n",
       "        text-align: right;\n",
       "    }\n",
       "</style>\n",
       "<table border=\"1\" class=\"dataframe\">\n",
       "  <thead>\n",
       "    <tr style=\"text-align: right;\">\n",
       "      <th></th>\n",
       "      <th>아파트</th>\n",
       "      <th>시도</th>\n",
       "      <th>시군구</th>\n",
       "      <th>읍면동</th>\n",
       "      <th>지번</th>\n",
       "      <th>거래일</th>\n",
       "      <th>전용면적</th>\n",
       "      <th>층</th>\n",
       "      <th>거래금액</th>\n",
       "    </tr>\n",
       "  </thead>\n",
       "  <tbody>\n",
       "    <tr>\n",
       "      <th>21625</th>\n",
       "      <td>한남더힐</td>\n",
       "      <td>서울특별시</td>\n",
       "      <td>용산구</td>\n",
       "      <td>한남동</td>\n",
       "      <td>810</td>\n",
       "      <td>2020-04-27</td>\n",
       "      <td>240.305</td>\n",
       "      <td>-1</td>\n",
       "      <td>730000</td>\n",
       "    </tr>\n",
       "    <tr>\n",
       "      <th>59241</th>\n",
       "      <td>한남더힐</td>\n",
       "      <td>서울특별시</td>\n",
       "      <td>용산구</td>\n",
       "      <td>한남동</td>\n",
       "      <td>810</td>\n",
       "      <td>2020-09-04</td>\n",
       "      <td>243.642</td>\n",
       "      <td>1</td>\n",
       "      <td>775000</td>\n",
       "    </tr>\n",
       "    <tr>\n",
       "      <th>61491</th>\n",
       "      <td>한남더힐</td>\n",
       "      <td>서울특별시</td>\n",
       "      <td>용산구</td>\n",
       "      <td>한남동</td>\n",
       "      <td>810</td>\n",
       "      <td>2020-09-21</td>\n",
       "      <td>240.230</td>\n",
       "      <td>3</td>\n",
       "      <td>730000</td>\n",
       "    </tr>\n",
       "    <tr>\n",
       "      <th>68239</th>\n",
       "      <td>한남더힐</td>\n",
       "      <td>서울특별시</td>\n",
       "      <td>용산구</td>\n",
       "      <td>한남동</td>\n",
       "      <td>810</td>\n",
       "      <td>2020-11-09</td>\n",
       "      <td>241.052</td>\n",
       "      <td>-1</td>\n",
       "      <td>760000</td>\n",
       "    </tr>\n",
       "    <tr>\n",
       "      <th>80522</th>\n",
       "      <td>한남더힐</td>\n",
       "      <td>서울특별시</td>\n",
       "      <td>용산구</td>\n",
       "      <td>한남동</td>\n",
       "      <td>810</td>\n",
       "      <td>2020-12-31</td>\n",
       "      <td>240.305</td>\n",
       "      <td>2</td>\n",
       "      <td>710000</td>\n",
       "    </tr>\n",
       "  </tbody>\n",
       "</table>\n",
       "</div>"
      ],
      "text/plain": [
       "        아파트     시도  시군구  읍면동   지번        거래일     전용면적  층    거래금액\n",
       "21625  한남더힐  서울특별시  용산구  한남동  810 2020-04-27  240.305 -1  730000\n",
       "59241  한남더힐  서울특별시  용산구  한남동  810 2020-09-04  243.642  1  775000\n",
       "61491  한남더힐  서울특별시  용산구  한남동  810 2020-09-21  240.230  3  730000\n",
       "68239  한남더힐  서울특별시  용산구  한남동  810 2020-11-09  241.052 -1  760000\n",
       "80522  한남더힐  서울특별시  용산구  한남동  810 2020-12-31  240.305  2  710000"
      ]
     },
     "execution_count": 105,
     "metadata": {},
     "output_type": "execute_result"
    }
   ],
   "source": [
    "# 거래금액이 700000(70억) 이상인 행만 선택합니다.\n",
    "price.loc[price['거래금액'] >= 700000]"
   ]
  },
  {
   "cell_type": "code",
   "execution_count": 106,
   "id": "sustained-scientist",
   "metadata": {},
   "outputs": [],
   "source": [
    "# 거래금액이 70억 이상인 행을 선택하여 df1에 할당합니다.\n",
    "df1 = price.loc[price['거래금액'] >= 700000]"
   ]
  },
  {
   "cell_type": "code",
   "execution_count": 107,
   "id": "pacific-employee",
   "metadata": {},
   "outputs": [
    {
     "data": {
      "text/html": [
       "<div>\n",
       "<style scoped>\n",
       "    .dataframe tbody tr th:only-of-type {\n",
       "        vertical-align: middle;\n",
       "    }\n",
       "\n",
       "    .dataframe tbody tr th {\n",
       "        vertical-align: top;\n",
       "    }\n",
       "\n",
       "    .dataframe thead th {\n",
       "        text-align: right;\n",
       "    }\n",
       "</style>\n",
       "<table border=\"1\" class=\"dataframe\">\n",
       "  <thead>\n",
       "    <tr style=\"text-align: right;\">\n",
       "      <th></th>\n",
       "      <th>아파트</th>\n",
       "      <th>시도</th>\n",
       "      <th>시군구</th>\n",
       "      <th>읍면동</th>\n",
       "      <th>지번</th>\n",
       "      <th>거래일</th>\n",
       "      <th>전용면적</th>\n",
       "      <th>층</th>\n",
       "      <th>거래금액</th>\n",
       "    </tr>\n",
       "  </thead>\n",
       "  <tbody>\n",
       "    <tr>\n",
       "      <th>21625</th>\n",
       "      <td>한남더힐</td>\n",
       "      <td>서울특별시</td>\n",
       "      <td>용산구</td>\n",
       "      <td>한남동</td>\n",
       "      <td>810</td>\n",
       "      <td>2020-04-27</td>\n",
       "      <td>240.305</td>\n",
       "      <td>-1</td>\n",
       "      <td>730000</td>\n",
       "    </tr>\n",
       "    <tr>\n",
       "      <th>59241</th>\n",
       "      <td>한남더힐</td>\n",
       "      <td>서울특별시</td>\n",
       "      <td>용산구</td>\n",
       "      <td>한남동</td>\n",
       "      <td>810</td>\n",
       "      <td>2020-09-04</td>\n",
       "      <td>243.642</td>\n",
       "      <td>1</td>\n",
       "      <td>775000</td>\n",
       "    </tr>\n",
       "    <tr>\n",
       "      <th>61491</th>\n",
       "      <td>한남더힐</td>\n",
       "      <td>서울특별시</td>\n",
       "      <td>용산구</td>\n",
       "      <td>한남동</td>\n",
       "      <td>810</td>\n",
       "      <td>2020-09-21</td>\n",
       "      <td>240.230</td>\n",
       "      <td>3</td>\n",
       "      <td>730000</td>\n",
       "    </tr>\n",
       "    <tr>\n",
       "      <th>68239</th>\n",
       "      <td>한남더힐</td>\n",
       "      <td>서울특별시</td>\n",
       "      <td>용산구</td>\n",
       "      <td>한남동</td>\n",
       "      <td>810</td>\n",
       "      <td>2020-11-09</td>\n",
       "      <td>241.052</td>\n",
       "      <td>-1</td>\n",
       "      <td>760000</td>\n",
       "    </tr>\n",
       "    <tr>\n",
       "      <th>80522</th>\n",
       "      <td>한남더힐</td>\n",
       "      <td>서울특별시</td>\n",
       "      <td>용산구</td>\n",
       "      <td>한남동</td>\n",
       "      <td>810</td>\n",
       "      <td>2020-12-31</td>\n",
       "      <td>240.305</td>\n",
       "      <td>2</td>\n",
       "      <td>710000</td>\n",
       "    </tr>\n",
       "  </tbody>\n",
       "</table>\n",
       "</div>"
      ],
      "text/plain": [
       "        아파트     시도  시군구  읍면동   지번        거래일     전용면적  층    거래금액\n",
       "21625  한남더힐  서울특별시  용산구  한남동  810 2020-04-27  240.305 -1  730000\n",
       "59241  한남더힐  서울특별시  용산구  한남동  810 2020-09-04  243.642  1  775000\n",
       "61491  한남더힐  서울특별시  용산구  한남동  810 2020-09-21  240.230  3  730000\n",
       "68239  한남더힐  서울특별시  용산구  한남동  810 2020-11-09  241.052 -1  760000\n",
       "80522  한남더힐  서울특별시  용산구  한남동  810 2020-12-31  240.305  2  710000"
      ]
     },
     "execution_count": 107,
     "metadata": {},
     "output_type": "execute_result"
    }
   ],
   "source": [
    "# df1의 처음 10행을 출력합니다.\n",
    "df1.head(10)"
   ]
  },
  {
   "cell_type": "code",
   "execution_count": 108,
   "id": "generous-sodium",
   "metadata": {},
   "outputs": [],
   "source": [
    "# 거래금액이 70억 미만이고, 60층 이상인 행을 선택하여 df2에 할당합니다.\n",
    "df2 = price.loc[(price['거래금액'] < 700000) & (price['층'] >= 60)]"
   ]
  },
  {
   "cell_type": "code",
   "execution_count": 109,
   "id": "hidden-algeria",
   "metadata": {},
   "outputs": [
    {
     "data": {
      "text/html": [
       "<div>\n",
       "<style scoped>\n",
       "    .dataframe tbody tr th:only-of-type {\n",
       "        vertical-align: middle;\n",
       "    }\n",
       "\n",
       "    .dataframe tbody tr th {\n",
       "        vertical-align: top;\n",
       "    }\n",
       "\n",
       "    .dataframe thead th {\n",
       "        text-align: right;\n",
       "    }\n",
       "</style>\n",
       "<table border=\"1\" class=\"dataframe\">\n",
       "  <thead>\n",
       "    <tr style=\"text-align: right;\">\n",
       "      <th></th>\n",
       "      <th>아파트</th>\n",
       "      <th>시도</th>\n",
       "      <th>시군구</th>\n",
       "      <th>읍면동</th>\n",
       "      <th>지번</th>\n",
       "      <th>거래일</th>\n",
       "      <th>전용면적</th>\n",
       "      <th>층</th>\n",
       "      <th>거래금액</th>\n",
       "    </tr>\n",
       "  </thead>\n",
       "  <tbody>\n",
       "    <tr>\n",
       "      <th>23700</th>\n",
       "      <td>타워팰리스3</td>\n",
       "      <td>서울특별시</td>\n",
       "      <td>강남구</td>\n",
       "      <td>도곡동</td>\n",
       "      <td>467-29</td>\n",
       "      <td>2020-05-11</td>\n",
       "      <td>185.622</td>\n",
       "      <td>63</td>\n",
       "      <td>350000</td>\n",
       "    </tr>\n",
       "    <tr>\n",
       "      <th>44541</th>\n",
       "      <td>현대하이페리온</td>\n",
       "      <td>서울특별시</td>\n",
       "      <td>양천구</td>\n",
       "      <td>목동</td>\n",
       "      <td>916</td>\n",
       "      <td>2020-07-03</td>\n",
       "      <td>154.050</td>\n",
       "      <td>66</td>\n",
       "      <td>240000</td>\n",
       "    </tr>\n",
       "    <tr>\n",
       "      <th>52607</th>\n",
       "      <td>타워팰리스3</td>\n",
       "      <td>서울특별시</td>\n",
       "      <td>강남구</td>\n",
       "      <td>도곡동</td>\n",
       "      <td>467-29</td>\n",
       "      <td>2020-07-25</td>\n",
       "      <td>235.740</td>\n",
       "      <td>67</td>\n",
       "      <td>542500</td>\n",
       "    </tr>\n",
       "    <tr>\n",
       "      <th>66396</th>\n",
       "      <td>타워팰리스3</td>\n",
       "      <td>서울특별시</td>\n",
       "      <td>강남구</td>\n",
       "      <td>도곡동</td>\n",
       "      <td>467-29</td>\n",
       "      <td>2020-10-27</td>\n",
       "      <td>185.622</td>\n",
       "      <td>66</td>\n",
       "      <td>380000</td>\n",
       "    </tr>\n",
       "    <tr>\n",
       "      <th>68998</th>\n",
       "      <td>현대하이페리온</td>\n",
       "      <td>서울특별시</td>\n",
       "      <td>양천구</td>\n",
       "      <td>목동</td>\n",
       "      <td>916</td>\n",
       "      <td>2020-11-13</td>\n",
       "      <td>138.200</td>\n",
       "      <td>60</td>\n",
       "      <td>210000</td>\n",
       "    </tr>\n",
       "  </tbody>\n",
       "</table>\n",
       "</div>"
      ],
      "text/plain": [
       "           아파트     시도  시군구  읍면동      지번        거래일     전용면적   층    거래금액\n",
       "23700   타워팰리스3  서울특별시  강남구  도곡동  467-29 2020-05-11  185.622  63  350000\n",
       "44541  현대하이페리온  서울특별시  양천구   목동     916 2020-07-03  154.050  66  240000\n",
       "52607   타워팰리스3  서울특별시  강남구  도곡동  467-29 2020-07-25  235.740  67  542500\n",
       "66396   타워팰리스3  서울특별시  강남구  도곡동  467-29 2020-10-27  185.622  66  380000\n",
       "68998  현대하이페리온  서울특별시  양천구   목동     916 2020-11-13  138.200  60  210000"
      ]
     },
     "execution_count": 109,
     "metadata": {},
     "output_type": "execute_result"
    }
   ],
   "source": [
    "# df2의 처음 10행을 출력합니다.\n",
    "df2.head(10)"
   ]
  },
  {
   "cell_type": "markdown",
   "id": "iraqi-roman",
   "metadata": {},
   "source": [
    "### 행 삭제 및 인덱스명 초기화"
   ]
  },
  {
   "cell_type": "code",
   "execution_count": 110,
   "id": "adopted-spyware",
   "metadata": {},
   "outputs": [
    {
     "data": {
      "text/html": [
       "<div>\n",
       "<style scoped>\n",
       "    .dataframe tbody tr th:only-of-type {\n",
       "        vertical-align: middle;\n",
       "    }\n",
       "\n",
       "    .dataframe tbody tr th {\n",
       "        vertical-align: top;\n",
       "    }\n",
       "\n",
       "    .dataframe thead th {\n",
       "        text-align: right;\n",
       "    }\n",
       "</style>\n",
       "<table border=\"1\" class=\"dataframe\">\n",
       "  <thead>\n",
       "    <tr style=\"text-align: right;\">\n",
       "      <th></th>\n",
       "      <th>아파트</th>\n",
       "      <th>시도</th>\n",
       "      <th>시군구</th>\n",
       "      <th>읍면동</th>\n",
       "      <th>지번</th>\n",
       "      <th>거래일</th>\n",
       "      <th>전용면적</th>\n",
       "      <th>층</th>\n",
       "      <th>거래금액</th>\n",
       "    </tr>\n",
       "  </thead>\n",
       "  <tbody>\n",
       "    <tr>\n",
       "      <th>52607</th>\n",
       "      <td>타워팰리스3</td>\n",
       "      <td>서울특별시</td>\n",
       "      <td>강남구</td>\n",
       "      <td>도곡동</td>\n",
       "      <td>467-29</td>\n",
       "      <td>2020-07-25</td>\n",
       "      <td>235.740</td>\n",
       "      <td>67</td>\n",
       "      <td>542500</td>\n",
       "    </tr>\n",
       "    <tr>\n",
       "      <th>66396</th>\n",
       "      <td>타워팰리스3</td>\n",
       "      <td>서울특별시</td>\n",
       "      <td>강남구</td>\n",
       "      <td>도곡동</td>\n",
       "      <td>467-29</td>\n",
       "      <td>2020-10-27</td>\n",
       "      <td>185.622</td>\n",
       "      <td>66</td>\n",
       "      <td>380000</td>\n",
       "    </tr>\n",
       "    <tr>\n",
       "      <th>68998</th>\n",
       "      <td>현대하이페리온</td>\n",
       "      <td>서울특별시</td>\n",
       "      <td>양천구</td>\n",
       "      <td>목동</td>\n",
       "      <td>916</td>\n",
       "      <td>2020-11-13</td>\n",
       "      <td>138.200</td>\n",
       "      <td>60</td>\n",
       "      <td>210000</td>\n",
       "    </tr>\n",
       "  </tbody>\n",
       "</table>\n",
       "</div>"
      ],
      "text/plain": [
       "           아파트     시도  시군구  읍면동      지번        거래일     전용면적   층    거래금액\n",
       "52607   타워팰리스3  서울특별시  강남구  도곡동  467-29 2020-07-25  235.740  67  542500\n",
       "66396   타워팰리스3  서울특별시  강남구  도곡동  467-29 2020-10-27  185.622  66  380000\n",
       "68998  현대하이페리온  서울특별시  양천구   목동     916 2020-11-13  138.200  60  210000"
      ]
     },
     "execution_count": 110,
     "metadata": {},
     "output_type": "execute_result"
    }
   ],
   "source": [
    "# drop() 함수에 인덱스명 스칼라/리스트를 입력하여 행을 삭제합니다.\n",
    "df2.drop([23700, 44541])"
   ]
  },
  {
   "cell_type": "code",
   "execution_count": 111,
   "id": "intermediate-sweden",
   "metadata": {},
   "outputs": [
    {
     "ename": "KeyError",
     "evalue": "'[1 2] not found in axis'",
     "output_type": "error",
     "traceback": [
      "\u001b[0;31m---------------------------------------------------------------------------\u001b[0m",
      "\u001b[0;31mKeyError\u001b[0m                                  Traceback (most recent call last)",
      "\u001b[0;32m<ipython-input-111-477fdd63f223>\u001b[0m in \u001b[0;36m<module>\u001b[0;34m\u001b[0m\n\u001b[1;32m      1\u001b[0m \u001b[0;31m# [주의] 인덱스명에 없는 값을 입력하면 에러가 발생합니다.\u001b[0m\u001b[0;34m\u001b[0m\u001b[0;34m\u001b[0m\u001b[0;34m\u001b[0m\u001b[0m\n\u001b[0;32m----> 2\u001b[0;31m \u001b[0mdf2\u001b[0m\u001b[0;34m.\u001b[0m\u001b[0mdrop\u001b[0m\u001b[0;34m(\u001b[0m\u001b[0;34m[\u001b[0m\u001b[0;36m1\u001b[0m\u001b[0;34m,\u001b[0m \u001b[0;36m2\u001b[0m\u001b[0;34m]\u001b[0m\u001b[0;34m)\u001b[0m\u001b[0;34m\u001b[0m\u001b[0;34m\u001b[0m\u001b[0m\n\u001b[0m",
      "\u001b[0;32m/Library/Frameworks/Python.framework/Versions/3.9/lib/python3.9/site-packages/pandas/core/frame.py\u001b[0m in \u001b[0;36mdrop\u001b[0;34m(self, labels, axis, index, columns, level, inplace, errors)\u001b[0m\n\u001b[1;32m   4306\u001b[0m                 \u001b[0mweight\u001b[0m  \u001b[0;36m1.0\u001b[0m     \u001b[0;36m0.8\u001b[0m\u001b[0;34m\u001b[0m\u001b[0;34m\u001b[0m\u001b[0m\n\u001b[1;32m   4307\u001b[0m         \"\"\"\n\u001b[0;32m-> 4308\u001b[0;31m         return super().drop(\n\u001b[0m\u001b[1;32m   4309\u001b[0m             \u001b[0mlabels\u001b[0m\u001b[0;34m=\u001b[0m\u001b[0mlabels\u001b[0m\u001b[0;34m,\u001b[0m\u001b[0;34m\u001b[0m\u001b[0;34m\u001b[0m\u001b[0m\n\u001b[1;32m   4310\u001b[0m             \u001b[0maxis\u001b[0m\u001b[0;34m=\u001b[0m\u001b[0maxis\u001b[0m\u001b[0;34m,\u001b[0m\u001b[0;34m\u001b[0m\u001b[0;34m\u001b[0m\u001b[0m\n",
      "\u001b[0;32m/Library/Frameworks/Python.framework/Versions/3.9/lib/python3.9/site-packages/pandas/core/generic.py\u001b[0m in \u001b[0;36mdrop\u001b[0;34m(self, labels, axis, index, columns, level, inplace, errors)\u001b[0m\n\u001b[1;32m   4151\u001b[0m         \u001b[0;32mfor\u001b[0m \u001b[0maxis\u001b[0m\u001b[0;34m,\u001b[0m \u001b[0mlabels\u001b[0m \u001b[0;32min\u001b[0m \u001b[0maxes\u001b[0m\u001b[0;34m.\u001b[0m\u001b[0mitems\u001b[0m\u001b[0;34m(\u001b[0m\u001b[0;34m)\u001b[0m\u001b[0;34m:\u001b[0m\u001b[0;34m\u001b[0m\u001b[0;34m\u001b[0m\u001b[0m\n\u001b[1;32m   4152\u001b[0m             \u001b[0;32mif\u001b[0m \u001b[0mlabels\u001b[0m \u001b[0;32mis\u001b[0m \u001b[0;32mnot\u001b[0m \u001b[0;32mNone\u001b[0m\u001b[0;34m:\u001b[0m\u001b[0;34m\u001b[0m\u001b[0;34m\u001b[0m\u001b[0m\n\u001b[0;32m-> 4153\u001b[0;31m                 \u001b[0mobj\u001b[0m \u001b[0;34m=\u001b[0m \u001b[0mobj\u001b[0m\u001b[0;34m.\u001b[0m\u001b[0m_drop_axis\u001b[0m\u001b[0;34m(\u001b[0m\u001b[0mlabels\u001b[0m\u001b[0;34m,\u001b[0m \u001b[0maxis\u001b[0m\u001b[0;34m,\u001b[0m \u001b[0mlevel\u001b[0m\u001b[0;34m=\u001b[0m\u001b[0mlevel\u001b[0m\u001b[0;34m,\u001b[0m \u001b[0merrors\u001b[0m\u001b[0;34m=\u001b[0m\u001b[0merrors\u001b[0m\u001b[0;34m)\u001b[0m\u001b[0;34m\u001b[0m\u001b[0;34m\u001b[0m\u001b[0m\n\u001b[0m\u001b[1;32m   4154\u001b[0m \u001b[0;34m\u001b[0m\u001b[0m\n\u001b[1;32m   4155\u001b[0m         \u001b[0;32mif\u001b[0m \u001b[0minplace\u001b[0m\u001b[0;34m:\u001b[0m\u001b[0;34m\u001b[0m\u001b[0;34m\u001b[0m\u001b[0m\n",
      "\u001b[0;32m/Library/Frameworks/Python.framework/Versions/3.9/lib/python3.9/site-packages/pandas/core/generic.py\u001b[0m in \u001b[0;36m_drop_axis\u001b[0;34m(self, labels, axis, level, errors)\u001b[0m\n\u001b[1;32m   4186\u001b[0m                 \u001b[0mnew_axis\u001b[0m \u001b[0;34m=\u001b[0m \u001b[0maxis\u001b[0m\u001b[0;34m.\u001b[0m\u001b[0mdrop\u001b[0m\u001b[0;34m(\u001b[0m\u001b[0mlabels\u001b[0m\u001b[0;34m,\u001b[0m \u001b[0mlevel\u001b[0m\u001b[0;34m=\u001b[0m\u001b[0mlevel\u001b[0m\u001b[0;34m,\u001b[0m \u001b[0merrors\u001b[0m\u001b[0;34m=\u001b[0m\u001b[0merrors\u001b[0m\u001b[0;34m)\u001b[0m\u001b[0;34m\u001b[0m\u001b[0;34m\u001b[0m\u001b[0m\n\u001b[1;32m   4187\u001b[0m             \u001b[0;32melse\u001b[0m\u001b[0;34m:\u001b[0m\u001b[0;34m\u001b[0m\u001b[0;34m\u001b[0m\u001b[0m\n\u001b[0;32m-> 4188\u001b[0;31m                 \u001b[0mnew_axis\u001b[0m \u001b[0;34m=\u001b[0m \u001b[0maxis\u001b[0m\u001b[0;34m.\u001b[0m\u001b[0mdrop\u001b[0m\u001b[0;34m(\u001b[0m\u001b[0mlabels\u001b[0m\u001b[0;34m,\u001b[0m \u001b[0merrors\u001b[0m\u001b[0;34m=\u001b[0m\u001b[0merrors\u001b[0m\u001b[0;34m)\u001b[0m\u001b[0;34m\u001b[0m\u001b[0;34m\u001b[0m\u001b[0m\n\u001b[0m\u001b[1;32m   4189\u001b[0m             \u001b[0mresult\u001b[0m \u001b[0;34m=\u001b[0m \u001b[0mself\u001b[0m\u001b[0;34m.\u001b[0m\u001b[0mreindex\u001b[0m\u001b[0;34m(\u001b[0m\u001b[0;34m**\u001b[0m\u001b[0;34m{\u001b[0m\u001b[0maxis_name\u001b[0m\u001b[0;34m:\u001b[0m \u001b[0mnew_axis\u001b[0m\u001b[0;34m}\u001b[0m\u001b[0;34m)\u001b[0m\u001b[0;34m\u001b[0m\u001b[0;34m\u001b[0m\u001b[0m\n\u001b[1;32m   4190\u001b[0m \u001b[0;34m\u001b[0m\u001b[0m\n",
      "\u001b[0;32m/Library/Frameworks/Python.framework/Versions/3.9/lib/python3.9/site-packages/pandas/core/indexes/base.py\u001b[0m in \u001b[0;36mdrop\u001b[0;34m(self, labels, errors)\u001b[0m\n\u001b[1;32m   5589\u001b[0m         \u001b[0;32mif\u001b[0m \u001b[0mmask\u001b[0m\u001b[0;34m.\u001b[0m\u001b[0many\u001b[0m\u001b[0;34m(\u001b[0m\u001b[0;34m)\u001b[0m\u001b[0;34m:\u001b[0m\u001b[0;34m\u001b[0m\u001b[0;34m\u001b[0m\u001b[0m\n\u001b[1;32m   5590\u001b[0m             \u001b[0;32mif\u001b[0m \u001b[0merrors\u001b[0m \u001b[0;34m!=\u001b[0m \u001b[0;34m\"ignore\"\u001b[0m\u001b[0;34m:\u001b[0m\u001b[0;34m\u001b[0m\u001b[0;34m\u001b[0m\u001b[0m\n\u001b[0;32m-> 5591\u001b[0;31m                 \u001b[0;32mraise\u001b[0m \u001b[0mKeyError\u001b[0m\u001b[0;34m(\u001b[0m\u001b[0;34mf\"{labels[mask]} not found in axis\"\u001b[0m\u001b[0;34m)\u001b[0m\u001b[0;34m\u001b[0m\u001b[0;34m\u001b[0m\u001b[0m\n\u001b[0m\u001b[1;32m   5592\u001b[0m             \u001b[0mindexer\u001b[0m \u001b[0;34m=\u001b[0m \u001b[0mindexer\u001b[0m\u001b[0;34m[\u001b[0m\u001b[0;34m~\u001b[0m\u001b[0mmask\u001b[0m\u001b[0;34m]\u001b[0m\u001b[0;34m\u001b[0m\u001b[0;34m\u001b[0m\u001b[0m\n\u001b[1;32m   5593\u001b[0m         \u001b[0;32mreturn\u001b[0m \u001b[0mself\u001b[0m\u001b[0;34m.\u001b[0m\u001b[0mdelete\u001b[0m\u001b[0;34m(\u001b[0m\u001b[0mindexer\u001b[0m\u001b[0;34m)\u001b[0m\u001b[0;34m\u001b[0m\u001b[0;34m\u001b[0m\u001b[0m\n",
      "\u001b[0;31mKeyError\u001b[0m: '[1 2] not found in axis'"
     ]
    }
   ],
   "source": [
    "# [주의] 인덱스명에 없는 값을 입력하면 에러가 발생합니다.\n",
    "df2.drop([1, 2])"
   ]
  },
  {
   "cell_type": "code",
   "execution_count": 112,
   "id": "industrial-democrat",
   "metadata": {},
   "outputs": [
    {
     "data": {
      "text/html": [
       "<div>\n",
       "<style scoped>\n",
       "    .dataframe tbody tr th:only-of-type {\n",
       "        vertical-align: middle;\n",
       "    }\n",
       "\n",
       "    .dataframe tbody tr th {\n",
       "        vertical-align: top;\n",
       "    }\n",
       "\n",
       "    .dataframe thead th {\n",
       "        text-align: right;\n",
       "    }\n",
       "</style>\n",
       "<table border=\"1\" class=\"dataframe\">\n",
       "  <thead>\n",
       "    <tr style=\"text-align: right;\">\n",
       "      <th></th>\n",
       "      <th>index</th>\n",
       "      <th>아파트</th>\n",
       "      <th>시도</th>\n",
       "      <th>시군구</th>\n",
       "      <th>읍면동</th>\n",
       "      <th>지번</th>\n",
       "      <th>거래일</th>\n",
       "      <th>전용면적</th>\n",
       "      <th>층</th>\n",
       "      <th>거래금액</th>\n",
       "    </tr>\n",
       "  </thead>\n",
       "  <tbody>\n",
       "    <tr>\n",
       "      <th>0</th>\n",
       "      <td>21625</td>\n",
       "      <td>한남더힐</td>\n",
       "      <td>서울특별시</td>\n",
       "      <td>용산구</td>\n",
       "      <td>한남동</td>\n",
       "      <td>810</td>\n",
       "      <td>2020-04-27</td>\n",
       "      <td>240.305</td>\n",
       "      <td>-1</td>\n",
       "      <td>730000</td>\n",
       "    </tr>\n",
       "    <tr>\n",
       "      <th>1</th>\n",
       "      <td>59241</td>\n",
       "      <td>한남더힐</td>\n",
       "      <td>서울특별시</td>\n",
       "      <td>용산구</td>\n",
       "      <td>한남동</td>\n",
       "      <td>810</td>\n",
       "      <td>2020-09-04</td>\n",
       "      <td>243.642</td>\n",
       "      <td>1</td>\n",
       "      <td>775000</td>\n",
       "    </tr>\n",
       "    <tr>\n",
       "      <th>2</th>\n",
       "      <td>61491</td>\n",
       "      <td>한남더힐</td>\n",
       "      <td>서울특별시</td>\n",
       "      <td>용산구</td>\n",
       "      <td>한남동</td>\n",
       "      <td>810</td>\n",
       "      <td>2020-09-21</td>\n",
       "      <td>240.230</td>\n",
       "      <td>3</td>\n",
       "      <td>730000</td>\n",
       "    </tr>\n",
       "    <tr>\n",
       "      <th>3</th>\n",
       "      <td>68239</td>\n",
       "      <td>한남더힐</td>\n",
       "      <td>서울특별시</td>\n",
       "      <td>용산구</td>\n",
       "      <td>한남동</td>\n",
       "      <td>810</td>\n",
       "      <td>2020-11-09</td>\n",
       "      <td>241.052</td>\n",
       "      <td>-1</td>\n",
       "      <td>760000</td>\n",
       "    </tr>\n",
       "    <tr>\n",
       "      <th>4</th>\n",
       "      <td>80522</td>\n",
       "      <td>한남더힐</td>\n",
       "      <td>서울특별시</td>\n",
       "      <td>용산구</td>\n",
       "      <td>한남동</td>\n",
       "      <td>810</td>\n",
       "      <td>2020-12-31</td>\n",
       "      <td>240.305</td>\n",
       "      <td>2</td>\n",
       "      <td>710000</td>\n",
       "    </tr>\n",
       "  </tbody>\n",
       "</table>\n",
       "</div>"
      ],
      "text/plain": [
       "   index   아파트     시도  시군구  읍면동   지번        거래일     전용면적  층    거래금액\n",
       "0  21625  한남더힐  서울특별시  용산구  한남동  810 2020-04-27  240.305 -1  730000\n",
       "1  59241  한남더힐  서울특별시  용산구  한남동  810 2020-09-04  243.642  1  775000\n",
       "2  61491  한남더힐  서울특별시  용산구  한남동  810 2020-09-21  240.230  3  730000\n",
       "3  68239  한남더힐  서울특별시  용산구  한남동  810 2020-11-09  241.052 -1  760000\n",
       "4  80522  한남더힐  서울특별시  용산구  한남동  810 2020-12-31  240.305  2  710000"
      ]
     },
     "execution_count": 112,
     "metadata": {},
     "output_type": "execute_result"
    }
   ],
   "source": [
    "# df1의 인덱스명을 초기화한 결과를 출력합니다.\n",
    "df1.reset_index()"
   ]
  },
  {
   "cell_type": "code",
   "execution_count": 113,
   "id": "empty-lightweight",
   "metadata": {},
   "outputs": [
    {
     "data": {
      "text/html": [
       "<div>\n",
       "<style scoped>\n",
       "    .dataframe tbody tr th:only-of-type {\n",
       "        vertical-align: middle;\n",
       "    }\n",
       "\n",
       "    .dataframe tbody tr th {\n",
       "        vertical-align: top;\n",
       "    }\n",
       "\n",
       "    .dataframe thead th {\n",
       "        text-align: right;\n",
       "    }\n",
       "</style>\n",
       "<table border=\"1\" class=\"dataframe\">\n",
       "  <thead>\n",
       "    <tr style=\"text-align: right;\">\n",
       "      <th></th>\n",
       "      <th>아파트</th>\n",
       "      <th>시도</th>\n",
       "      <th>시군구</th>\n",
       "      <th>읍면동</th>\n",
       "      <th>지번</th>\n",
       "      <th>거래일</th>\n",
       "      <th>전용면적</th>\n",
       "      <th>층</th>\n",
       "      <th>거래금액</th>\n",
       "    </tr>\n",
       "  </thead>\n",
       "  <tbody>\n",
       "    <tr>\n",
       "      <th>0</th>\n",
       "      <td>한남더힐</td>\n",
       "      <td>서울특별시</td>\n",
       "      <td>용산구</td>\n",
       "      <td>한남동</td>\n",
       "      <td>810</td>\n",
       "      <td>2020-04-27</td>\n",
       "      <td>240.305</td>\n",
       "      <td>-1</td>\n",
       "      <td>730000</td>\n",
       "    </tr>\n",
       "    <tr>\n",
       "      <th>1</th>\n",
       "      <td>한남더힐</td>\n",
       "      <td>서울특별시</td>\n",
       "      <td>용산구</td>\n",
       "      <td>한남동</td>\n",
       "      <td>810</td>\n",
       "      <td>2020-09-04</td>\n",
       "      <td>243.642</td>\n",
       "      <td>1</td>\n",
       "      <td>775000</td>\n",
       "    </tr>\n",
       "    <tr>\n",
       "      <th>2</th>\n",
       "      <td>한남더힐</td>\n",
       "      <td>서울특별시</td>\n",
       "      <td>용산구</td>\n",
       "      <td>한남동</td>\n",
       "      <td>810</td>\n",
       "      <td>2020-09-21</td>\n",
       "      <td>240.230</td>\n",
       "      <td>3</td>\n",
       "      <td>730000</td>\n",
       "    </tr>\n",
       "    <tr>\n",
       "      <th>3</th>\n",
       "      <td>한남더힐</td>\n",
       "      <td>서울특별시</td>\n",
       "      <td>용산구</td>\n",
       "      <td>한남동</td>\n",
       "      <td>810</td>\n",
       "      <td>2020-11-09</td>\n",
       "      <td>241.052</td>\n",
       "      <td>-1</td>\n",
       "      <td>760000</td>\n",
       "    </tr>\n",
       "    <tr>\n",
       "      <th>4</th>\n",
       "      <td>한남더힐</td>\n",
       "      <td>서울특별시</td>\n",
       "      <td>용산구</td>\n",
       "      <td>한남동</td>\n",
       "      <td>810</td>\n",
       "      <td>2020-12-31</td>\n",
       "      <td>240.305</td>\n",
       "      <td>2</td>\n",
       "      <td>710000</td>\n",
       "    </tr>\n",
       "  </tbody>\n",
       "</table>\n",
       "</div>"
      ],
      "text/plain": [
       "    아파트     시도  시군구  읍면동   지번        거래일     전용면적  층    거래금액\n",
       "0  한남더힐  서울특별시  용산구  한남동  810 2020-04-27  240.305 -1  730000\n",
       "1  한남더힐  서울특별시  용산구  한남동  810 2020-09-04  243.642  1  775000\n",
       "2  한남더힐  서울특별시  용산구  한남동  810 2020-09-21  240.230  3  730000\n",
       "3  한남더힐  서울특별시  용산구  한남동  810 2020-11-09  241.052 -1  760000\n",
       "4  한남더힐  서울특별시  용산구  한남동  810 2020-12-31  240.305  2  710000"
      ]
     },
     "execution_count": 113,
     "metadata": {},
     "output_type": "execute_result"
    }
   ],
   "source": [
    "# index 컬럼이 생성되지 않도록 drop = True를 추가합니다.\n",
    "df1.reset_index(drop = True)"
   ]
  },
  {
   "cell_type": "code",
   "execution_count": 114,
   "id": "written-purple",
   "metadata": {},
   "outputs": [],
   "source": [
    "# 인덱스명을 초기화한 결과를 df1에 재할당합니다.\n",
    "df1 = df1.reset_index(drop = True)"
   ]
  },
  {
   "cell_type": "markdown",
   "id": "rational-burns",
   "metadata": {},
   "source": [
    "### 결측값 처리"
   ]
  },
  {
   "cell_type": "code",
   "execution_count": 115,
   "id": "martial-album",
   "metadata": {},
   "outputs": [
    {
     "data": {
      "text/plain": [
       "아파트      0\n",
       "시도       0\n",
       "시군구      0\n",
       "읍면동      0\n",
       "지번      25\n",
       "거래일      0\n",
       "전용면적     0\n",
       "층        0\n",
       "거래금액     0\n",
       "dtype: int64"
      ]
     },
     "execution_count": 115,
     "metadata": {},
     "output_type": "execute_result"
    }
   ],
   "source": [
    "# 컬럼별 결측값 개수를 확인합니다.\n",
    "price.isna().sum()"
   ]
  },
  {
   "cell_type": "code",
   "execution_count": 116,
   "id": "outstanding-brazil",
   "metadata": {},
   "outputs": [
    {
     "data": {
      "text/html": [
       "<div>\n",
       "<style scoped>\n",
       "    .dataframe tbody tr th:only-of-type {\n",
       "        vertical-align: middle;\n",
       "    }\n",
       "\n",
       "    .dataframe tbody tr th {\n",
       "        vertical-align: top;\n",
       "    }\n",
       "\n",
       "    .dataframe thead th {\n",
       "        text-align: right;\n",
       "    }\n",
       "</style>\n",
       "<table border=\"1\" class=\"dataframe\">\n",
       "  <thead>\n",
       "    <tr style=\"text-align: right;\">\n",
       "      <th></th>\n",
       "      <th>아파트</th>\n",
       "      <th>시도</th>\n",
       "      <th>시군구</th>\n",
       "      <th>읍면동</th>\n",
       "      <th>지번</th>\n",
       "      <th>거래일</th>\n",
       "      <th>전용면적</th>\n",
       "      <th>층</th>\n",
       "      <th>거래금액</th>\n",
       "    </tr>\n",
       "  </thead>\n",
       "  <tbody>\n",
       "    <tr>\n",
       "      <th>0</th>\n",
       "      <td>텐즈힐아파트(1단지)</td>\n",
       "      <td>서울특별시</td>\n",
       "      <td>성동구</td>\n",
       "      <td>하왕십리동</td>\n",
       "      <td>1066</td>\n",
       "      <td>2020-01-01</td>\n",
       "      <td>84.960</td>\n",
       "      <td>19</td>\n",
       "      <td>120000</td>\n",
       "    </tr>\n",
       "    <tr>\n",
       "      <th>1</th>\n",
       "      <td>서울숲더샵</td>\n",
       "      <td>서울특별시</td>\n",
       "      <td>성동구</td>\n",
       "      <td>행당동</td>\n",
       "      <td>377</td>\n",
       "      <td>2020-01-01</td>\n",
       "      <td>92.240</td>\n",
       "      <td>13</td>\n",
       "      <td>118000</td>\n",
       "    </tr>\n",
       "    <tr>\n",
       "      <th>2</th>\n",
       "      <td>답십리청솔우성</td>\n",
       "      <td>서울특별시</td>\n",
       "      <td>동대문구</td>\n",
       "      <td>답십리동</td>\n",
       "      <td>80</td>\n",
       "      <td>2020-01-01</td>\n",
       "      <td>59.740</td>\n",
       "      <td>9</td>\n",
       "      <td>54000</td>\n",
       "    </tr>\n",
       "    <tr>\n",
       "      <th>3</th>\n",
       "      <td>다우하임</td>\n",
       "      <td>서울특별시</td>\n",
       "      <td>동대문구</td>\n",
       "      <td>장안동</td>\n",
       "      <td>344-2</td>\n",
       "      <td>2020-01-01</td>\n",
       "      <td>29.980</td>\n",
       "      <td>11</td>\n",
       "      <td>23500</td>\n",
       "    </tr>\n",
       "    <tr>\n",
       "      <th>4</th>\n",
       "      <td>면목삼익</td>\n",
       "      <td>서울특별시</td>\n",
       "      <td>중랑구</td>\n",
       "      <td>면목동</td>\n",
       "      <td>1516</td>\n",
       "      <td>2020-01-01</td>\n",
       "      <td>84.990</td>\n",
       "      <td>5</td>\n",
       "      <td>47500</td>\n",
       "    </tr>\n",
       "    <tr>\n",
       "      <th>...</th>\n",
       "      <td>...</td>\n",
       "      <td>...</td>\n",
       "      <td>...</td>\n",
       "      <td>...</td>\n",
       "      <td>...</td>\n",
       "      <td>...</td>\n",
       "      <td>...</td>\n",
       "      <td>...</td>\n",
       "      <td>...</td>\n",
       "    </tr>\n",
       "    <tr>\n",
       "      <th>80729</th>\n",
       "      <td>프라이어팰리스</td>\n",
       "      <td>서울특별시</td>\n",
       "      <td>강동구</td>\n",
       "      <td>암사동</td>\n",
       "      <td>413</td>\n",
       "      <td>2020-12-31</td>\n",
       "      <td>59.983</td>\n",
       "      <td>20</td>\n",
       "      <td>115000</td>\n",
       "    </tr>\n",
       "    <tr>\n",
       "      <th>80730</th>\n",
       "      <td>우림루미아트</td>\n",
       "      <td>서울특별시</td>\n",
       "      <td>강동구</td>\n",
       "      <td>성내동</td>\n",
       "      <td>599</td>\n",
       "      <td>2020-12-31</td>\n",
       "      <td>84.500</td>\n",
       "      <td>7</td>\n",
       "      <td>79000</td>\n",
       "    </tr>\n",
       "    <tr>\n",
       "      <th>80731</th>\n",
       "      <td>금호아파트</td>\n",
       "      <td>서울특별시</td>\n",
       "      <td>강동구</td>\n",
       "      <td>천호동</td>\n",
       "      <td>44</td>\n",
       "      <td>2020-12-31</td>\n",
       "      <td>27.610</td>\n",
       "      <td>5</td>\n",
       "      <td>37800</td>\n",
       "    </tr>\n",
       "    <tr>\n",
       "      <th>80732</th>\n",
       "      <td>강일리버파크4단지</td>\n",
       "      <td>서울특별시</td>\n",
       "      <td>강동구</td>\n",
       "      <td>강일동</td>\n",
       "      <td>673</td>\n",
       "      <td>2020-12-31</td>\n",
       "      <td>84.740</td>\n",
       "      <td>12</td>\n",
       "      <td>111000</td>\n",
       "    </tr>\n",
       "    <tr>\n",
       "      <th>80733</th>\n",
       "      <td>강일리버파크9단지</td>\n",
       "      <td>서울특별시</td>\n",
       "      <td>강동구</td>\n",
       "      <td>강일동</td>\n",
       "      <td>699</td>\n",
       "      <td>2020-12-31</td>\n",
       "      <td>84.740</td>\n",
       "      <td>5</td>\n",
       "      <td>104000</td>\n",
       "    </tr>\n",
       "  </tbody>\n",
       "</table>\n",
       "<p>80709 rows × 9 columns</p>\n",
       "</div>"
      ],
      "text/plain": [
       "               아파트     시도   시군구    읍면동     지번        거래일    전용면적   층    거래금액\n",
       "0      텐즈힐아파트(1단지)  서울특별시   성동구  하왕십리동   1066 2020-01-01  84.960  19  120000\n",
       "1            서울숲더샵  서울특별시   성동구    행당동    377 2020-01-01  92.240  13  118000\n",
       "2          답십리청솔우성  서울특별시  동대문구   답십리동     80 2020-01-01  59.740   9   54000\n",
       "3             다우하임  서울특별시  동대문구    장안동  344-2 2020-01-01  29.980  11   23500\n",
       "4             면목삼익  서울특별시   중랑구    면목동   1516 2020-01-01  84.990   5   47500\n",
       "...            ...    ...   ...    ...    ...        ...     ...  ..     ...\n",
       "80729      프라이어팰리스  서울특별시   강동구    암사동    413 2020-12-31  59.983  20  115000\n",
       "80730       우림루미아트  서울특별시   강동구    성내동    599 2020-12-31  84.500   7   79000\n",
       "80731        금호아파트  서울특별시   강동구    천호동     44 2020-12-31  27.610   5   37800\n",
       "80732    강일리버파크4단지  서울특별시   강동구    강일동    673 2020-12-31  84.740  12  111000\n",
       "80733    강일리버파크9단지  서울특별시   강동구    강일동    699 2020-12-31  84.740   5  104000\n",
       "\n",
       "[80709 rows x 9 columns]"
      ]
     },
     "execution_count": 116,
     "metadata": {},
     "output_type": "execute_result"
    }
   ],
   "source": [
    "# 결측값을 포함하는 행을 삭제한 결과를 출력합니다.\n",
    "price.dropna()"
   ]
  },
  {
   "cell_type": "code",
   "execution_count": 117,
   "id": "liked-simple",
   "metadata": {},
   "outputs": [
    {
     "data": {
      "text/html": [
       "<div>\n",
       "<style scoped>\n",
       "    .dataframe tbody tr th:only-of-type {\n",
       "        vertical-align: middle;\n",
       "    }\n",
       "\n",
       "    .dataframe tbody tr th {\n",
       "        vertical-align: top;\n",
       "    }\n",
       "\n",
       "    .dataframe thead th {\n",
       "        text-align: right;\n",
       "    }\n",
       "</style>\n",
       "<table border=\"1\" class=\"dataframe\">\n",
       "  <thead>\n",
       "    <tr style=\"text-align: right;\">\n",
       "      <th></th>\n",
       "      <th>아파트</th>\n",
       "      <th>시도</th>\n",
       "      <th>시군구</th>\n",
       "      <th>읍면동</th>\n",
       "      <th>지번</th>\n",
       "      <th>거래일</th>\n",
       "      <th>전용면적</th>\n",
       "      <th>층</th>\n",
       "      <th>거래금액</th>\n",
       "    </tr>\n",
       "  </thead>\n",
       "  <tbody>\n",
       "    <tr>\n",
       "      <th>0</th>\n",
       "      <td>텐즈힐아파트(1단지)</td>\n",
       "      <td>서울특별시</td>\n",
       "      <td>성동구</td>\n",
       "      <td>하왕십리동</td>\n",
       "      <td>1066</td>\n",
       "      <td>2020-01-01</td>\n",
       "      <td>84.960</td>\n",
       "      <td>19</td>\n",
       "      <td>120000</td>\n",
       "    </tr>\n",
       "    <tr>\n",
       "      <th>1</th>\n",
       "      <td>서울숲더샵</td>\n",
       "      <td>서울특별시</td>\n",
       "      <td>성동구</td>\n",
       "      <td>행당동</td>\n",
       "      <td>377</td>\n",
       "      <td>2020-01-01</td>\n",
       "      <td>92.240</td>\n",
       "      <td>13</td>\n",
       "      <td>118000</td>\n",
       "    </tr>\n",
       "    <tr>\n",
       "      <th>2</th>\n",
       "      <td>답십리청솔우성</td>\n",
       "      <td>서울특별시</td>\n",
       "      <td>동대문구</td>\n",
       "      <td>답십리동</td>\n",
       "      <td>80</td>\n",
       "      <td>2020-01-01</td>\n",
       "      <td>59.740</td>\n",
       "      <td>9</td>\n",
       "      <td>54000</td>\n",
       "    </tr>\n",
       "    <tr>\n",
       "      <th>3</th>\n",
       "      <td>다우하임</td>\n",
       "      <td>서울특별시</td>\n",
       "      <td>동대문구</td>\n",
       "      <td>장안동</td>\n",
       "      <td>344-2</td>\n",
       "      <td>2020-01-01</td>\n",
       "      <td>29.980</td>\n",
       "      <td>11</td>\n",
       "      <td>23500</td>\n",
       "    </tr>\n",
       "    <tr>\n",
       "      <th>4</th>\n",
       "      <td>면목삼익</td>\n",
       "      <td>서울특별시</td>\n",
       "      <td>중랑구</td>\n",
       "      <td>면목동</td>\n",
       "      <td>1516</td>\n",
       "      <td>2020-01-01</td>\n",
       "      <td>84.990</td>\n",
       "      <td>5</td>\n",
       "      <td>47500</td>\n",
       "    </tr>\n",
       "    <tr>\n",
       "      <th>...</th>\n",
       "      <td>...</td>\n",
       "      <td>...</td>\n",
       "      <td>...</td>\n",
       "      <td>...</td>\n",
       "      <td>...</td>\n",
       "      <td>...</td>\n",
       "      <td>...</td>\n",
       "      <td>...</td>\n",
       "      <td>...</td>\n",
       "    </tr>\n",
       "    <tr>\n",
       "      <th>80729</th>\n",
       "      <td>프라이어팰리스</td>\n",
       "      <td>서울특별시</td>\n",
       "      <td>강동구</td>\n",
       "      <td>암사동</td>\n",
       "      <td>413</td>\n",
       "      <td>2020-12-31</td>\n",
       "      <td>59.983</td>\n",
       "      <td>20</td>\n",
       "      <td>115000</td>\n",
       "    </tr>\n",
       "    <tr>\n",
       "      <th>80730</th>\n",
       "      <td>우림루미아트</td>\n",
       "      <td>서울특별시</td>\n",
       "      <td>강동구</td>\n",
       "      <td>성내동</td>\n",
       "      <td>599</td>\n",
       "      <td>2020-12-31</td>\n",
       "      <td>84.500</td>\n",
       "      <td>7</td>\n",
       "      <td>79000</td>\n",
       "    </tr>\n",
       "    <tr>\n",
       "      <th>80731</th>\n",
       "      <td>금호아파트</td>\n",
       "      <td>서울특별시</td>\n",
       "      <td>강동구</td>\n",
       "      <td>천호동</td>\n",
       "      <td>44</td>\n",
       "      <td>2020-12-31</td>\n",
       "      <td>27.610</td>\n",
       "      <td>5</td>\n",
       "      <td>37800</td>\n",
       "    </tr>\n",
       "    <tr>\n",
       "      <th>80732</th>\n",
       "      <td>강일리버파크4단지</td>\n",
       "      <td>서울특별시</td>\n",
       "      <td>강동구</td>\n",
       "      <td>강일동</td>\n",
       "      <td>673</td>\n",
       "      <td>2020-12-31</td>\n",
       "      <td>84.740</td>\n",
       "      <td>12</td>\n",
       "      <td>111000</td>\n",
       "    </tr>\n",
       "    <tr>\n",
       "      <th>80733</th>\n",
       "      <td>강일리버파크9단지</td>\n",
       "      <td>서울특별시</td>\n",
       "      <td>강동구</td>\n",
       "      <td>강일동</td>\n",
       "      <td>699</td>\n",
       "      <td>2020-12-31</td>\n",
       "      <td>84.740</td>\n",
       "      <td>5</td>\n",
       "      <td>104000</td>\n",
       "    </tr>\n",
       "  </tbody>\n",
       "</table>\n",
       "<p>80734 rows × 9 columns</p>\n",
       "</div>"
      ],
      "text/plain": [
       "               아파트     시도   시군구    읍면동     지번        거래일    전용면적   층    거래금액\n",
       "0      텐즈힐아파트(1단지)  서울특별시   성동구  하왕십리동   1066 2020-01-01  84.960  19  120000\n",
       "1            서울숲더샵  서울특별시   성동구    행당동    377 2020-01-01  92.240  13  118000\n",
       "2          답십리청솔우성  서울특별시  동대문구   답십리동     80 2020-01-01  59.740   9   54000\n",
       "3             다우하임  서울특별시  동대문구    장안동  344-2 2020-01-01  29.980  11   23500\n",
       "4             면목삼익  서울특별시   중랑구    면목동   1516 2020-01-01  84.990   5   47500\n",
       "...            ...    ...   ...    ...    ...        ...     ...  ..     ...\n",
       "80729      프라이어팰리스  서울특별시   강동구    암사동    413 2020-12-31  59.983  20  115000\n",
       "80730       우림루미아트  서울특별시   강동구    성내동    599 2020-12-31  84.500   7   79000\n",
       "80731        금호아파트  서울특별시   강동구    천호동     44 2020-12-31  27.610   5   37800\n",
       "80732    강일리버파크4단지  서울특별시   강동구    강일동    673 2020-12-31  84.740  12  111000\n",
       "80733    강일리버파크9단지  서울특별시   강동구    강일동    699 2020-12-31  84.740   5  104000\n",
       "\n",
       "[80734 rows x 9 columns]"
      ]
     },
     "execution_count": 117,
     "metadata": {},
     "output_type": "execute_result"
    }
   ],
   "source": [
    "# 결측값을 공백으로 채운 결과를 출력합니다.\n",
    "price.fillna('')"
   ]
  },
  {
   "cell_type": "code",
   "execution_count": 118,
   "id": "narrow-soundtrack",
   "metadata": {},
   "outputs": [],
   "source": [
    "# 가격 데이터에서 결측값을 삭제하고 재할당합니다.\n",
    "price = price.dropna()"
   ]
  },
  {
   "cell_type": "code",
   "execution_count": 119,
   "id": "human-motivation",
   "metadata": {},
   "outputs": [
    {
     "data": {
      "text/plain": [
       "아파트     0\n",
       "시도      0\n",
       "시군구     0\n",
       "읍면동     0\n",
       "지번      0\n",
       "거래일     0\n",
       "전용면적    0\n",
       "층       0\n",
       "거래금액    0\n",
       "dtype: int64"
      ]
     },
     "execution_count": 119,
     "metadata": {},
     "output_type": "execute_result"
    }
   ],
   "source": [
    "# 컬럼별 결측값 개수를 다시 확인합니다.\n",
    "price.isna().sum()"
   ]
  },
  {
   "cell_type": "markdown",
   "id": "american-milan",
   "metadata": {},
   "source": [
    "### 파생변수 생성"
   ]
  },
  {
   "cell_type": "code",
   "execution_count": 120,
   "id": "dependent-modification",
   "metadata": {},
   "outputs": [],
   "source": [
    "# 거래금액을 전용면적으로 나눈 새로운 컬럼을 생성합니다.\n",
    "price['단위금액'] = price['거래금액'] / price['전용면적']"
   ]
  },
  {
   "cell_type": "code",
   "execution_count": 121,
   "id": "norman-asian",
   "metadata": {},
   "outputs": [
    {
     "data": {
      "text/html": [
       "<div>\n",
       "<style scoped>\n",
       "    .dataframe tbody tr th:only-of-type {\n",
       "        vertical-align: middle;\n",
       "    }\n",
       "\n",
       "    .dataframe tbody tr th {\n",
       "        vertical-align: top;\n",
       "    }\n",
       "\n",
       "    .dataframe thead th {\n",
       "        text-align: right;\n",
       "    }\n",
       "</style>\n",
       "<table border=\"1\" class=\"dataframe\">\n",
       "  <thead>\n",
       "    <tr style=\"text-align: right;\">\n",
       "      <th></th>\n",
       "      <th>아파트</th>\n",
       "      <th>시도</th>\n",
       "      <th>시군구</th>\n",
       "      <th>읍면동</th>\n",
       "      <th>지번</th>\n",
       "      <th>거래일</th>\n",
       "      <th>전용면적</th>\n",
       "      <th>층</th>\n",
       "      <th>거래금액</th>\n",
       "      <th>단위금액</th>\n",
       "    </tr>\n",
       "  </thead>\n",
       "  <tbody>\n",
       "    <tr>\n",
       "      <th>0</th>\n",
       "      <td>텐즈힐아파트(1단지)</td>\n",
       "      <td>서울특별시</td>\n",
       "      <td>성동구</td>\n",
       "      <td>하왕십리동</td>\n",
       "      <td>1066</td>\n",
       "      <td>2020-01-01</td>\n",
       "      <td>84.96</td>\n",
       "      <td>19</td>\n",
       "      <td>120000</td>\n",
       "      <td>1412.429379</td>\n",
       "    </tr>\n",
       "    <tr>\n",
       "      <th>1</th>\n",
       "      <td>서울숲더샵</td>\n",
       "      <td>서울특별시</td>\n",
       "      <td>성동구</td>\n",
       "      <td>행당동</td>\n",
       "      <td>377</td>\n",
       "      <td>2020-01-01</td>\n",
       "      <td>92.24</td>\n",
       "      <td>13</td>\n",
       "      <td>118000</td>\n",
       "      <td>1279.271466</td>\n",
       "    </tr>\n",
       "    <tr>\n",
       "      <th>2</th>\n",
       "      <td>답십리청솔우성</td>\n",
       "      <td>서울특별시</td>\n",
       "      <td>동대문구</td>\n",
       "      <td>답십리동</td>\n",
       "      <td>80</td>\n",
       "      <td>2020-01-01</td>\n",
       "      <td>59.74</td>\n",
       "      <td>9</td>\n",
       "      <td>54000</td>\n",
       "      <td>903.916974</td>\n",
       "    </tr>\n",
       "    <tr>\n",
       "      <th>3</th>\n",
       "      <td>다우하임</td>\n",
       "      <td>서울특별시</td>\n",
       "      <td>동대문구</td>\n",
       "      <td>장안동</td>\n",
       "      <td>344-2</td>\n",
       "      <td>2020-01-01</td>\n",
       "      <td>29.98</td>\n",
       "      <td>11</td>\n",
       "      <td>23500</td>\n",
       "      <td>783.855904</td>\n",
       "    </tr>\n",
       "    <tr>\n",
       "      <th>4</th>\n",
       "      <td>면목삼익</td>\n",
       "      <td>서울특별시</td>\n",
       "      <td>중랑구</td>\n",
       "      <td>면목동</td>\n",
       "      <td>1516</td>\n",
       "      <td>2020-01-01</td>\n",
       "      <td>84.99</td>\n",
       "      <td>5</td>\n",
       "      <td>47500</td>\n",
       "      <td>558.889281</td>\n",
       "    </tr>\n",
       "  </tbody>\n",
       "</table>\n",
       "</div>"
      ],
      "text/plain": [
       "           아파트     시도   시군구    읍면동     지번        거래일   전용면적   층    거래금액  \\\n",
       "0  텐즈힐아파트(1단지)  서울특별시   성동구  하왕십리동   1066 2020-01-01  84.96  19  120000   \n",
       "1        서울숲더샵  서울특별시   성동구    행당동    377 2020-01-01  92.24  13  118000   \n",
       "2      답십리청솔우성  서울특별시  동대문구   답십리동     80 2020-01-01  59.74   9   54000   \n",
       "3         다우하임  서울특별시  동대문구    장안동  344-2 2020-01-01  29.98  11   23500   \n",
       "4         면목삼익  서울특별시   중랑구    면목동   1516 2020-01-01  84.99   5   47500   \n",
       "\n",
       "          단위금액  \n",
       "0  1412.429379  \n",
       "1  1279.271466  \n",
       "2   903.916974  \n",
       "3   783.855904  \n",
       "4   558.889281  "
      ]
     },
     "execution_count": 121,
     "metadata": {},
     "output_type": "execute_result"
    }
   ],
   "source": [
    "# 가격 데이터의 처음 다섯 행을 출력합니다.\n",
    "price.head()"
   ]
  },
  {
   "cell_type": "code",
   "execution_count": 122,
   "id": "macro-error",
   "metadata": {},
   "outputs": [],
   "source": [
    "# 단위금액 컬럼값을 반올림하여 소수점 둘째 자리까지 남깁니다.\n",
    "price['단위금액'] = price['단위금액'].round(2)"
   ]
  },
  {
   "cell_type": "code",
   "execution_count": 124,
   "id": "inappropriate-resistance",
   "metadata": {},
   "outputs": [],
   "source": [
    "# 거래금액 컬럼을 만원 단위에서 억원 단위로 변경합니다.\n",
    "price['거래금액'] = price['거래금액'] / 10000"
   ]
  },
  {
   "cell_type": "code",
   "execution_count": 125,
   "id": "planned-supervision",
   "metadata": {},
   "outputs": [
    {
     "data": {
      "text/html": [
       "<div>\n",
       "<style scoped>\n",
       "    .dataframe tbody tr th:only-of-type {\n",
       "        vertical-align: middle;\n",
       "    }\n",
       "\n",
       "    .dataframe tbody tr th {\n",
       "        vertical-align: top;\n",
       "    }\n",
       "\n",
       "    .dataframe thead th {\n",
       "        text-align: right;\n",
       "    }\n",
       "</style>\n",
       "<table border=\"1\" class=\"dataframe\">\n",
       "  <thead>\n",
       "    <tr style=\"text-align: right;\">\n",
       "      <th></th>\n",
       "      <th>아파트</th>\n",
       "      <th>시도</th>\n",
       "      <th>시군구</th>\n",
       "      <th>읍면동</th>\n",
       "      <th>지번</th>\n",
       "      <th>거래일</th>\n",
       "      <th>전용면적</th>\n",
       "      <th>층</th>\n",
       "      <th>거래금액</th>\n",
       "      <th>단위금액</th>\n",
       "    </tr>\n",
       "  </thead>\n",
       "  <tbody>\n",
       "    <tr>\n",
       "      <th>0</th>\n",
       "      <td>텐즈힐아파트(1단지)</td>\n",
       "      <td>서울특별시</td>\n",
       "      <td>성동구</td>\n",
       "      <td>하왕십리동</td>\n",
       "      <td>1066</td>\n",
       "      <td>2020-01-01</td>\n",
       "      <td>84.96</td>\n",
       "      <td>19</td>\n",
       "      <td>12.00</td>\n",
       "      <td>1412.43</td>\n",
       "    </tr>\n",
       "    <tr>\n",
       "      <th>1</th>\n",
       "      <td>서울숲더샵</td>\n",
       "      <td>서울특별시</td>\n",
       "      <td>성동구</td>\n",
       "      <td>행당동</td>\n",
       "      <td>377</td>\n",
       "      <td>2020-01-01</td>\n",
       "      <td>92.24</td>\n",
       "      <td>13</td>\n",
       "      <td>11.80</td>\n",
       "      <td>1279.27</td>\n",
       "    </tr>\n",
       "    <tr>\n",
       "      <th>2</th>\n",
       "      <td>답십리청솔우성</td>\n",
       "      <td>서울특별시</td>\n",
       "      <td>동대문구</td>\n",
       "      <td>답십리동</td>\n",
       "      <td>80</td>\n",
       "      <td>2020-01-01</td>\n",
       "      <td>59.74</td>\n",
       "      <td>9</td>\n",
       "      <td>5.40</td>\n",
       "      <td>903.92</td>\n",
       "    </tr>\n",
       "    <tr>\n",
       "      <th>3</th>\n",
       "      <td>다우하임</td>\n",
       "      <td>서울특별시</td>\n",
       "      <td>동대문구</td>\n",
       "      <td>장안동</td>\n",
       "      <td>344-2</td>\n",
       "      <td>2020-01-01</td>\n",
       "      <td>29.98</td>\n",
       "      <td>11</td>\n",
       "      <td>2.35</td>\n",
       "      <td>783.86</td>\n",
       "    </tr>\n",
       "    <tr>\n",
       "      <th>4</th>\n",
       "      <td>면목삼익</td>\n",
       "      <td>서울특별시</td>\n",
       "      <td>중랑구</td>\n",
       "      <td>면목동</td>\n",
       "      <td>1516</td>\n",
       "      <td>2020-01-01</td>\n",
       "      <td>84.99</td>\n",
       "      <td>5</td>\n",
       "      <td>4.75</td>\n",
       "      <td>558.89</td>\n",
       "    </tr>\n",
       "  </tbody>\n",
       "</table>\n",
       "</div>"
      ],
      "text/plain": [
       "           아파트     시도   시군구    읍면동     지번        거래일   전용면적   층   거래금액  \\\n",
       "0  텐즈힐아파트(1단지)  서울특별시   성동구  하왕십리동   1066 2020-01-01  84.96  19  12.00   \n",
       "1        서울숲더샵  서울특별시   성동구    행당동    377 2020-01-01  92.24  13  11.80   \n",
       "2      답십리청솔우성  서울특별시  동대문구   답십리동     80 2020-01-01  59.74   9   5.40   \n",
       "3         다우하임  서울특별시  동대문구    장안동  344-2 2020-01-01  29.98  11   2.35   \n",
       "4         면목삼익  서울특별시   중랑구    면목동   1516 2020-01-01  84.99   5   4.75   \n",
       "\n",
       "      단위금액  \n",
       "0  1412.43  \n",
       "1  1279.27  \n",
       "2   903.92  \n",
       "3   783.86  \n",
       "4   558.89  "
      ]
     },
     "execution_count": 125,
     "metadata": {},
     "output_type": "execute_result"
    }
   ],
   "source": [
    "# 가격 데이터의 처음 다섯 행을 출력합니다.\n",
    "price.head()"
   ]
  },
  {
   "cell_type": "code",
   "execution_count": 126,
   "id": "lasting-chapter",
   "metadata": {},
   "outputs": [],
   "source": [
    "# 단위금액의 크기를 1천만원 기준으로 구분하는 이진형 컬럼을 생성합니다.\n",
    "price.loc[price['단위금액'] >= 1000, '금액구분'] = '이상'\n",
    "price.loc[price['단위금액'] < 1000, '금액구분'] = '미만'"
   ]
  },
  {
   "cell_type": "code",
   "execution_count": 127,
   "id": "duplicate-battlefield",
   "metadata": {},
   "outputs": [
    {
     "data": {
      "text/html": [
       "<div>\n",
       "<style scoped>\n",
       "    .dataframe tbody tr th:only-of-type {\n",
       "        vertical-align: middle;\n",
       "    }\n",
       "\n",
       "    .dataframe tbody tr th {\n",
       "        vertical-align: top;\n",
       "    }\n",
       "\n",
       "    .dataframe thead th {\n",
       "        text-align: right;\n",
       "    }\n",
       "</style>\n",
       "<table border=\"1\" class=\"dataframe\">\n",
       "  <thead>\n",
       "    <tr style=\"text-align: right;\">\n",
       "      <th></th>\n",
       "      <th>아파트</th>\n",
       "      <th>시도</th>\n",
       "      <th>시군구</th>\n",
       "      <th>읍면동</th>\n",
       "      <th>지번</th>\n",
       "      <th>거래일</th>\n",
       "      <th>전용면적</th>\n",
       "      <th>층</th>\n",
       "      <th>거래금액</th>\n",
       "      <th>단위금액</th>\n",
       "      <th>금액구분</th>\n",
       "    </tr>\n",
       "  </thead>\n",
       "  <tbody>\n",
       "    <tr>\n",
       "      <th>0</th>\n",
       "      <td>텐즈힐아파트(1단지)</td>\n",
       "      <td>서울특별시</td>\n",
       "      <td>성동구</td>\n",
       "      <td>하왕십리동</td>\n",
       "      <td>1066</td>\n",
       "      <td>2020-01-01</td>\n",
       "      <td>84.96</td>\n",
       "      <td>19</td>\n",
       "      <td>12.00</td>\n",
       "      <td>1412.43</td>\n",
       "      <td>이상</td>\n",
       "    </tr>\n",
       "    <tr>\n",
       "      <th>1</th>\n",
       "      <td>서울숲더샵</td>\n",
       "      <td>서울특별시</td>\n",
       "      <td>성동구</td>\n",
       "      <td>행당동</td>\n",
       "      <td>377</td>\n",
       "      <td>2020-01-01</td>\n",
       "      <td>92.24</td>\n",
       "      <td>13</td>\n",
       "      <td>11.80</td>\n",
       "      <td>1279.27</td>\n",
       "      <td>이상</td>\n",
       "    </tr>\n",
       "    <tr>\n",
       "      <th>2</th>\n",
       "      <td>답십리청솔우성</td>\n",
       "      <td>서울특별시</td>\n",
       "      <td>동대문구</td>\n",
       "      <td>답십리동</td>\n",
       "      <td>80</td>\n",
       "      <td>2020-01-01</td>\n",
       "      <td>59.74</td>\n",
       "      <td>9</td>\n",
       "      <td>5.40</td>\n",
       "      <td>903.92</td>\n",
       "      <td>미만</td>\n",
       "    </tr>\n",
       "    <tr>\n",
       "      <th>3</th>\n",
       "      <td>다우하임</td>\n",
       "      <td>서울특별시</td>\n",
       "      <td>동대문구</td>\n",
       "      <td>장안동</td>\n",
       "      <td>344-2</td>\n",
       "      <td>2020-01-01</td>\n",
       "      <td>29.98</td>\n",
       "      <td>11</td>\n",
       "      <td>2.35</td>\n",
       "      <td>783.86</td>\n",
       "      <td>미만</td>\n",
       "    </tr>\n",
       "    <tr>\n",
       "      <th>4</th>\n",
       "      <td>면목삼익</td>\n",
       "      <td>서울특별시</td>\n",
       "      <td>중랑구</td>\n",
       "      <td>면목동</td>\n",
       "      <td>1516</td>\n",
       "      <td>2020-01-01</td>\n",
       "      <td>84.99</td>\n",
       "      <td>5</td>\n",
       "      <td>4.75</td>\n",
       "      <td>558.89</td>\n",
       "      <td>미만</td>\n",
       "    </tr>\n",
       "  </tbody>\n",
       "</table>\n",
       "</div>"
      ],
      "text/plain": [
       "           아파트     시도   시군구    읍면동     지번        거래일   전용면적   층   거래금액  \\\n",
       "0  텐즈힐아파트(1단지)  서울특별시   성동구  하왕십리동   1066 2020-01-01  84.96  19  12.00   \n",
       "1        서울숲더샵  서울특별시   성동구    행당동    377 2020-01-01  92.24  13  11.80   \n",
       "2      답십리청솔우성  서울특별시  동대문구   답십리동     80 2020-01-01  59.74   9   5.40   \n",
       "3         다우하임  서울특별시  동대문구    장안동  344-2 2020-01-01  29.98  11   2.35   \n",
       "4         면목삼익  서울특별시   중랑구    면목동   1516 2020-01-01  84.99   5   4.75   \n",
       "\n",
       "      단위금액 금액구분  \n",
       "0  1412.43   이상  \n",
       "1  1279.27   이상  \n",
       "2   903.92   미만  \n",
       "3   783.86   미만  \n",
       "4   558.89   미만  "
      ]
     },
     "execution_count": 127,
     "metadata": {},
     "output_type": "execute_result"
    }
   ],
   "source": [
    "# 가격 데이터의 처음 다섯 행을 출력합니다.\n",
    "price.head()"
   ]
  },
  {
   "cell_type": "code",
   "execution_count": 128,
   "id": "blond-dryer",
   "metadata": {},
   "outputs": [],
   "source": [
    "# 여러 컬럼값을 결합하여 지번주소 컬럼을 생성합니다.\n",
    "price['지번주소'] = price['시도'] + ' ' + price['시군구'] + ' ' + price['읍면동'] + ' ' + price['지번']"
   ]
  },
  {
   "cell_type": "markdown",
   "id": "latest-insight",
   "metadata": {},
   "source": [
    "#### [참고] 같은 함수 반복 실행 실습"
   ]
  },
  {
   "cell_type": "code",
   "execution_count": 129,
   "id": "posted-wrestling",
   "metadata": {},
   "outputs": [
    {
     "data": {
      "text/plain": [
       "0        120000\n",
       "1        118000\n",
       "2         54000\n",
       "3         23500\n",
       "4         47500\n",
       "          ...  \n",
       "80729    115000\n",
       "80730     79000\n",
       "80731     37800\n",
       "80732    111000\n",
       "80733    104000\n",
       "Name: 거래금액, Length: 80709, dtype: int64"
      ]
     },
     "execution_count": 129,
     "metadata": {},
     "output_type": "execute_result"
    }
   ],
   "source": [
    "# 거래금액 컬럼의 각 원소에 10000을 곱하고 정수로 변환합니다.\n",
    "price['거래금액'].map(lambda x: x*10000).astype('int')"
   ]
  },
  {
   "cell_type": "code",
   "execution_count": 130,
   "id": "tamil-penny",
   "metadata": {},
   "outputs": [
    {
     "data": {
      "text/plain": [
       "시도     80709\n",
       "시군구    80709\n",
       "읍면동    80709\n",
       "지번     80709\n",
       "dtype: int64"
      ]
     },
     "execution_count": 130,
     "metadata": {},
     "output_type": "execute_result"
    }
   ],
   "source": [
    "# 시도~지번 컬럼을 갖는 데이터프레임 각 열의 길이를 반환합니다.\n",
    "price.loc[:, '시도':'지번'].apply(len, axis = 0)"
   ]
  },
  {
   "cell_type": "code",
   "execution_count": 131,
   "id": "thorough-monitoring",
   "metadata": {},
   "outputs": [
    {
     "data": {
      "text/plain": [
       "0        4\n",
       "1        4\n",
       "2        4\n",
       "3        4\n",
       "4        4\n",
       "        ..\n",
       "80729    4\n",
       "80730    4\n",
       "80731    4\n",
       "80732    4\n",
       "80733    4\n",
       "Length: 80709, dtype: int64"
      ]
     },
     "execution_count": 131,
     "metadata": {},
     "output_type": "execute_result"
    }
   ],
   "source": [
    "# 시도~지번 컬럼을 갖는 데이터프레임 각 행의 길이를 반환합니다.\n",
    "price.loc[:, '시도':'지번'].apply(len, axis = 1)"
   ]
  },
  {
   "cell_type": "code",
   "execution_count": 132,
   "id": "protective-illness",
   "metadata": {},
   "outputs": [
    {
     "data": {
      "text/plain": [
       "0        서울특별시 성동구 하왕십리동 1066\n",
       "1           서울특별시 성동구 행당동 377\n",
       "2          서울특별시 동대문구 답십리동 80\n",
       "3        서울특별시 동대문구 장안동 344-2\n",
       "4          서울특별시 중랑구 면목동 1516\n",
       "                 ...         \n",
       "80729       서울특별시 강동구 암사동 413\n",
       "80730       서울특별시 강동구 성내동 599\n",
       "80731        서울특별시 강동구 천호동 44\n",
       "80732       서울특별시 강동구 강일동 673\n",
       "80733       서울특별시 강동구 강일동 699\n",
       "Length: 80709, dtype: object"
      ]
     },
     "execution_count": 132,
     "metadata": {},
     "output_type": "execute_result"
    }
   ],
   "source": [
    "# 시도~지번 컬럼을 갖는 데이터프레임 각 행 원소를 하나로 결합합니다.\n",
    "price.loc[:, '시도':'지번'].apply(lambda x: ' '.join(x), axis = 1)"
   ]
  },
  {
   "cell_type": "code",
   "execution_count": 133,
   "id": "different-juice",
   "metadata": {},
   "outputs": [
    {
     "data": {
      "text/html": [
       "<div>\n",
       "<style scoped>\n",
       "    .dataframe tbody tr th:only-of-type {\n",
       "        vertical-align: middle;\n",
       "    }\n",
       "\n",
       "    .dataframe tbody tr th {\n",
       "        vertical-align: top;\n",
       "    }\n",
       "\n",
       "    .dataframe thead th {\n",
       "        text-align: right;\n",
       "    }\n",
       "</style>\n",
       "<table border=\"1\" class=\"dataframe\">\n",
       "  <thead>\n",
       "    <tr style=\"text-align: right;\">\n",
       "      <th></th>\n",
       "      <th>시도</th>\n",
       "      <th>시군구</th>\n",
       "      <th>읍면동</th>\n",
       "      <th>지번</th>\n",
       "    </tr>\n",
       "  </thead>\n",
       "  <tbody>\n",
       "    <tr>\n",
       "      <th>0</th>\n",
       "      <td>5</td>\n",
       "      <td>3</td>\n",
       "      <td>5</td>\n",
       "      <td>4</td>\n",
       "    </tr>\n",
       "    <tr>\n",
       "      <th>1</th>\n",
       "      <td>5</td>\n",
       "      <td>3</td>\n",
       "      <td>3</td>\n",
       "      <td>3</td>\n",
       "    </tr>\n",
       "    <tr>\n",
       "      <th>2</th>\n",
       "      <td>5</td>\n",
       "      <td>4</td>\n",
       "      <td>4</td>\n",
       "      <td>2</td>\n",
       "    </tr>\n",
       "    <tr>\n",
       "      <th>3</th>\n",
       "      <td>5</td>\n",
       "      <td>4</td>\n",
       "      <td>3</td>\n",
       "      <td>5</td>\n",
       "    </tr>\n",
       "    <tr>\n",
       "      <th>4</th>\n",
       "      <td>5</td>\n",
       "      <td>3</td>\n",
       "      <td>3</td>\n",
       "      <td>4</td>\n",
       "    </tr>\n",
       "    <tr>\n",
       "      <th>...</th>\n",
       "      <td>...</td>\n",
       "      <td>...</td>\n",
       "      <td>...</td>\n",
       "      <td>...</td>\n",
       "    </tr>\n",
       "    <tr>\n",
       "      <th>80729</th>\n",
       "      <td>5</td>\n",
       "      <td>3</td>\n",
       "      <td>3</td>\n",
       "      <td>3</td>\n",
       "    </tr>\n",
       "    <tr>\n",
       "      <th>80730</th>\n",
       "      <td>5</td>\n",
       "      <td>3</td>\n",
       "      <td>3</td>\n",
       "      <td>3</td>\n",
       "    </tr>\n",
       "    <tr>\n",
       "      <th>80731</th>\n",
       "      <td>5</td>\n",
       "      <td>3</td>\n",
       "      <td>3</td>\n",
       "      <td>2</td>\n",
       "    </tr>\n",
       "    <tr>\n",
       "      <th>80732</th>\n",
       "      <td>5</td>\n",
       "      <td>3</td>\n",
       "      <td>3</td>\n",
       "      <td>3</td>\n",
       "    </tr>\n",
       "    <tr>\n",
       "      <th>80733</th>\n",
       "      <td>5</td>\n",
       "      <td>3</td>\n",
       "      <td>3</td>\n",
       "      <td>3</td>\n",
       "    </tr>\n",
       "  </tbody>\n",
       "</table>\n",
       "<p>80709 rows × 4 columns</p>\n",
       "</div>"
      ],
      "text/plain": [
       "       시도  시군구  읍면동  지번\n",
       "0       5    3    5   4\n",
       "1       5    3    3   3\n",
       "2       5    4    4   2\n",
       "3       5    4    3   5\n",
       "4       5    3    3   4\n",
       "...    ..  ...  ...  ..\n",
       "80729   5    3    3   3\n",
       "80730   5    3    3   3\n",
       "80731   5    3    3   2\n",
       "80732   5    3    3   3\n",
       "80733   5    3    3   3\n",
       "\n",
       "[80709 rows x 4 columns]"
      ]
     },
     "execution_count": 133,
     "metadata": {},
     "output_type": "execute_result"
    }
   ],
   "source": [
    "# 시도~지번 컬럼을 갖는 데이터프레임 각 원소의 길이를 반환합니다.\n",
    "price.loc[:, '시도':'지번'].applymap(len)"
   ]
  },
  {
   "cell_type": "markdown",
   "id": "olympic-holiday",
   "metadata": {},
   "source": [
    "#### [참고] 날짜 컬럼 분해"
   ]
  },
  {
   "cell_type": "code",
   "execution_count": 134,
   "id": "celtic-alignment",
   "metadata": {},
   "outputs": [
    {
     "data": {
      "text/plain": [
       "0        2020\n",
       "1        2020\n",
       "2        2020\n",
       "3        2020\n",
       "4        2020\n",
       "         ... \n",
       "80729    2020\n",
       "80730    2020\n",
       "80731    2020\n",
       "80732    2020\n",
       "80733    2020\n",
       "Name: 거래일, Length: 80709, dtype: int64"
      ]
     },
     "execution_count": 134,
     "metadata": {},
     "output_type": "execute_result"
    }
   ],
   "source": [
    "# 날짜 자료형에서 연도만 추출합니다.\n",
    "price['거래일'].dt.year"
   ]
  },
  {
   "cell_type": "code",
   "execution_count": 135,
   "id": "inappropriate-printer",
   "metadata": {},
   "outputs": [
    {
     "data": {
      "text/plain": [
       "0         1\n",
       "1         1\n",
       "2         1\n",
       "3         1\n",
       "4         1\n",
       "         ..\n",
       "80729    12\n",
       "80730    12\n",
       "80731    12\n",
       "80732    12\n",
       "80733    12\n",
       "Name: 거래일, Length: 80709, dtype: int64"
      ]
     },
     "execution_count": 135,
     "metadata": {},
     "output_type": "execute_result"
    }
   ],
   "source": [
    "# 날짜 자료형에서 월만 추출합니다.\n",
    "price['거래일'].dt.month"
   ]
  },
  {
   "cell_type": "code",
   "execution_count": 136,
   "id": "nearby-marine",
   "metadata": {},
   "outputs": [
    {
     "data": {
      "text/plain": [
       "0         1\n",
       "1         1\n",
       "2         1\n",
       "3         1\n",
       "4         1\n",
       "         ..\n",
       "80729    31\n",
       "80730    31\n",
       "80731    31\n",
       "80732    31\n",
       "80733    31\n",
       "Name: 거래일, Length: 80709, dtype: int64"
      ]
     },
     "execution_count": 136,
     "metadata": {},
     "output_type": "execute_result"
    }
   ],
   "source": [
    "# 날짜 자료형에서 일만 추출합니다.\n",
    "price['거래일'].dt.day"
   ]
  },
  {
   "cell_type": "code",
   "execution_count": 137,
   "id": "reduced-journal",
   "metadata": {},
   "outputs": [
    {
     "data": {
      "text/plain": [
       "0        0\n",
       "1        0\n",
       "2        0\n",
       "3        0\n",
       "4        0\n",
       "        ..\n",
       "80729    0\n",
       "80730    0\n",
       "80731    0\n",
       "80732    0\n",
       "80733    0\n",
       "Name: 거래일, Length: 80709, dtype: int64"
      ]
     },
     "execution_count": 137,
     "metadata": {},
     "output_type": "execute_result"
    }
   ],
   "source": [
    "# 날짜 자료형에서 시만 추출합니다.\n",
    "price['거래일'].dt.hour"
   ]
  },
  {
   "cell_type": "code",
   "execution_count": 138,
   "id": "thousand-rover",
   "metadata": {},
   "outputs": [
    {
     "data": {
      "text/plain": [
       "0        0\n",
       "1        0\n",
       "2        0\n",
       "3        0\n",
       "4        0\n",
       "        ..\n",
       "80729    0\n",
       "80730    0\n",
       "80731    0\n",
       "80732    0\n",
       "80733    0\n",
       "Name: 거래일, Length: 80709, dtype: int64"
      ]
     },
     "execution_count": 138,
     "metadata": {},
     "output_type": "execute_result"
    }
   ],
   "source": [
    "# 날짜 자료형에서 분만 추출합니다.\n",
    "price['거래일'].dt.minute"
   ]
  },
  {
   "cell_type": "code",
   "execution_count": 139,
   "id": "experienced-frequency",
   "metadata": {},
   "outputs": [
    {
     "data": {
      "text/plain": [
       "0        0\n",
       "1        0\n",
       "2        0\n",
       "3        0\n",
       "4        0\n",
       "        ..\n",
       "80729    0\n",
       "80730    0\n",
       "80731    0\n",
       "80732    0\n",
       "80733    0\n",
       "Name: 거래일, Length: 80709, dtype: int64"
      ]
     },
     "execution_count": 139,
     "metadata": {},
     "output_type": "execute_result"
    }
   ],
   "source": [
    "# 날짜 자료형에서 초만 추출합니다.\n",
    "price['거래일'].dt.second"
   ]
  },
  {
   "cell_type": "markdown",
   "id": "danish-patient",
   "metadata": {},
   "source": [
    "### 집계함수로 데이터 요약"
   ]
  },
  {
   "cell_type": "code",
   "execution_count": 140,
   "id": "mediterranean-recipient",
   "metadata": {},
   "outputs": [
    {
     "data": {
      "text/plain": [
       "시군구\n",
       "강남구     3615\n",
       "강동구     4099\n",
       "강북구     2092\n",
       "강서구     5651\n",
       "관악구     2569\n",
       "광진구     1244\n",
       "구로구     4876\n",
       "금천구     1473\n",
       "노원구     8715\n",
       "도봉구     4375\n",
       "동대문구    3079\n",
       "동작구     2830\n",
       "마포구     2751\n",
       "서대문구    2713\n",
       "서초구     3162\n",
       "성동구     2921\n",
       "성북구     4159\n",
       "송파구     4473\n",
       "양천구     3355\n",
       "영등포구    3340\n",
       "용산구     1459\n",
       "은평구     3311\n",
       "종로구      742\n",
       "중구       982\n",
       "중랑구     2723\n",
       "Name: 거래금액, dtype: int64"
      ]
     },
     "execution_count": 140,
     "metadata": {},
     "output_type": "execute_result"
    }
   ],
   "source": [
    "# 시군구별 단위금액 빈도수를 반환합니다.\n",
    "price.groupby('시군구').count()['거래금액']"
   ]
  },
  {
   "cell_type": "code",
   "execution_count": 141,
   "id": "divine-alaska",
   "metadata": {
    "scrolled": false
   },
   "outputs": [
    {
     "data": {
      "text/plain": [
       "시군구\n",
       "강남구     65562.2552\n",
       "강동구     34615.6737\n",
       "강북구     11739.9900\n",
       "강서구     38312.2583\n",
       "관악구     16017.9222\n",
       "광진구     13272.7500\n",
       "구로구     26592.4217\n",
       "금천구      7290.9235\n",
       "노원구     45473.7730\n",
       "도봉구     20020.0600\n",
       "동대문구    21835.5184\n",
       "동작구     27598.5781\n",
       "마포구     27867.3744\n",
       "서대문구    21334.9968\n",
       "서초구     55217.7194\n",
       "성동구     33223.7493\n",
       "성북구     28551.4116\n",
       "송파구     58385.8719\n",
       "양천구     29806.9477\n",
       "영등포구    29964.4215\n",
       "용산구     22064.6564\n",
       "은평구     20707.6492\n",
       "종로구      6215.1429\n",
       "중구       9078.7105\n",
       "중랑구     13879.2190\n",
       "Name: 거래금액, dtype: float64"
      ]
     },
     "execution_count": 141,
     "metadata": {},
     "output_type": "execute_result"
    }
   ],
   "source": [
    "# 시군구별 단위금액 합계를 반환합니다.\n",
    "price.groupby('시군구').sum()['거래금액']"
   ]
  },
  {
   "cell_type": "code",
   "execution_count": 142,
   "id": "dress-medicine",
   "metadata": {},
   "outputs": [
    {
     "data": {
      "text/plain": [
       "시군구\n",
       "강남구     2091.012598\n",
       "강동구     1170.814987\n",
       "강북구      769.775531\n",
       "강서구      966.118843\n",
       "관악구      874.033243\n",
       "광진구     1292.313497\n",
       "구로구      771.494674\n",
       "금천구      730.706538\n",
       "노원구      844.149993\n",
       "도봉구      676.571051\n",
       "동대문구     992.247928\n",
       "동작구     1229.730481\n",
       "마포구     1344.089924\n",
       "서대문구    1040.408120\n",
       "서초구     1907.915825\n",
       "성동구     1468.693458\n",
       "성북구      913.888887\n",
       "송파구     1600.924719\n",
       "양천구     1141.513255\n",
       "영등포구    1177.527326\n",
       "용산구     1596.273838\n",
       "은평구      826.131945\n",
       "종로구     1053.473787\n",
       "중구      1135.959358\n",
       "중랑구      757.423404\n",
       "Name: 단위금액, dtype: float64"
      ]
     },
     "execution_count": 142,
     "metadata": {},
     "output_type": "execute_result"
    }
   ],
   "source": [
    "# 시군구별 단위금액 평균을 반환합니다.\n",
    "price.groupby('시군구').mean()['단위금액']"
   ]
  },
  {
   "cell_type": "code",
   "execution_count": 143,
   "id": "selective-minimum",
   "metadata": {},
   "outputs": [
    {
     "data": {
      "text/plain": [
       "시군구\n",
       "강남구     706.531530\n",
       "강동구     417.477275\n",
       "강북구     221.297617\n",
       "강서구     289.908533\n",
       "관악구     217.373337\n",
       "광진구     361.530854\n",
       "구로구     285.207866\n",
       "금천구     262.485211\n",
       "노원구     217.833149\n",
       "도봉구     207.201375\n",
       "동대문구    328.306251\n",
       "동작구     351.155961\n",
       "마포구     398.730508\n",
       "서대문구    378.748214\n",
       "서초구     814.184055\n",
       "성동구     436.209154\n",
       "성북구     264.218887\n",
       "송파구     568.850562\n",
       "양천구     544.938218\n",
       "영등포구    325.926582\n",
       "용산구     481.443742\n",
       "은평구     274.878308\n",
       "종로구     462.800367\n",
       "중구      318.427422\n",
       "중랑구     168.628239\n",
       "Name: 단위금액, dtype: float64"
      ]
     },
     "execution_count": 143,
     "metadata": {},
     "output_type": "execute_result"
    }
   ],
   "source": [
    "# 시군구별 단위금액 표준편차를 반환합니다.\n",
    "price.groupby('시군구').std()['단위금액']"
   ]
  },
  {
   "cell_type": "code",
   "execution_count": 144,
   "id": "nuclear-directive",
   "metadata": {},
   "outputs": [
    {
     "data": {
      "text/plain": [
       "시군구\n",
       "강남구     449.16\n",
       "강동구     305.27\n",
       "강북구     170.91\n",
       "강서구     205.66\n",
       "관악구     281.37\n",
       "광진구     341.95\n",
       "구로구     165.48\n",
       "금천구     202.81\n",
       "노원구     302.14\n",
       "도봉구     154.76\n",
       "동대문구    352.50\n",
       "동작구     314.77\n",
       "마포구     427.95\n",
       "서대문구    251.57\n",
       "서초구     410.34\n",
       "성동구     315.68\n",
       "성북구     232.85\n",
       "송파구     314.51\n",
       "양천구     210.90\n",
       "영등포구    355.49\n",
       "용산구     331.42\n",
       "은평구     247.37\n",
       "종로구     316.01\n",
       "중구      240.68\n",
       "중랑구     276.02\n",
       "Name: 단위금액, dtype: float64"
      ]
     },
     "execution_count": 144,
     "metadata": {},
     "output_type": "execute_result"
    }
   ],
   "source": [
    "# 시군구별 단위금액 최소값을 반환합니다.\n",
    "price.groupby('시군구').min()['단위금액']"
   ]
  },
  {
   "cell_type": "code",
   "execution_count": 145,
   "id": "addressed-reality",
   "metadata": {},
   "outputs": [
    {
     "data": {
      "text/plain": [
       "시군구\n",
       "강남구     5471.10\n",
       "강동구     2456.46\n",
       "강북구     1538.00\n",
       "강서구     1883.88\n",
       "관악구     1653.31\n",
       "광진구     2500.42\n",
       "구로구     1750.00\n",
       "금천구     1621.84\n",
       "노원구     2126.33\n",
       "도봉구     1355.93\n",
       "동대문구    2167.39\n",
       "동작구     2737.19\n",
       "마포구     2559.80\n",
       "서대문구    2337.23\n",
       "서초구     4378.02\n",
       "성동구     3949.87\n",
       "성북구     1961.60\n",
       "송파구     4154.62\n",
       "양천구     2765.40\n",
       "영등포구    2693.74\n",
       "용산구     3970.78\n",
       "은평구     1741.24\n",
       "종로구     2589.59\n",
       "중구      2079.16\n",
       "중랑구     1579.69\n",
       "Name: 단위금액, dtype: float64"
      ]
     },
     "execution_count": 145,
     "metadata": {},
     "output_type": "execute_result"
    }
   ],
   "source": [
    "# 시군구별 단위금액 최대값을 반환합니다.\n",
    "price.groupby('시군구').max()['단위금액']"
   ]
  },
  {
   "cell_type": "code",
   "execution_count": 146,
   "id": "focused-innocent",
   "metadata": {},
   "outputs": [
    {
     "data": {
      "text/html": [
       "<div>\n",
       "<style scoped>\n",
       "    .dataframe tbody tr th:only-of-type {\n",
       "        vertical-align: middle;\n",
       "    }\n",
       "\n",
       "    .dataframe tbody tr th {\n",
       "        vertical-align: top;\n",
       "    }\n",
       "\n",
       "    .dataframe thead th {\n",
       "        text-align: right;\n",
       "    }\n",
       "</style>\n",
       "<table border=\"1\" class=\"dataframe\">\n",
       "  <thead>\n",
       "    <tr style=\"text-align: right;\">\n",
       "      <th></th>\n",
       "      <th>count</th>\n",
       "      <th>mean</th>\n",
       "      <th>std</th>\n",
       "      <th>min</th>\n",
       "      <th>25%</th>\n",
       "      <th>50%</th>\n",
       "      <th>75%</th>\n",
       "      <th>max</th>\n",
       "    </tr>\n",
       "    <tr>\n",
       "      <th>시군구</th>\n",
       "      <th></th>\n",
       "      <th></th>\n",
       "      <th></th>\n",
       "      <th></th>\n",
       "      <th></th>\n",
       "      <th></th>\n",
       "      <th></th>\n",
       "      <th></th>\n",
       "    </tr>\n",
       "  </thead>\n",
       "  <tbody>\n",
       "    <tr>\n",
       "      <th>강남구</th>\n",
       "      <td>3615.0</td>\n",
       "      <td>2091.012598</td>\n",
       "      <td>706.531530</td>\n",
       "      <td>449.16</td>\n",
       "      <td>1542.4400</td>\n",
       "      <td>2151.900</td>\n",
       "      <td>2591.9200</td>\n",
       "      <td>5471.10</td>\n",
       "    </tr>\n",
       "    <tr>\n",
       "      <th>강동구</th>\n",
       "      <td>4099.0</td>\n",
       "      <td>1170.814987</td>\n",
       "      <td>417.477275</td>\n",
       "      <td>305.27</td>\n",
       "      <td>831.9600</td>\n",
       "      <td>1117.780</td>\n",
       "      <td>1458.7000</td>\n",
       "      <td>2456.46</td>\n",
       "    </tr>\n",
       "    <tr>\n",
       "      <th>강북구</th>\n",
       "      <td>2092.0</td>\n",
       "      <td>769.775531</td>\n",
       "      <td>221.297617</td>\n",
       "      <td>170.91</td>\n",
       "      <td>609.4900</td>\n",
       "      <td>740.555</td>\n",
       "      <td>905.4700</td>\n",
       "      <td>1538.00</td>\n",
       "    </tr>\n",
       "    <tr>\n",
       "      <th>강서구</th>\n",
       "      <td>5651.0</td>\n",
       "      <td>966.118843</td>\n",
       "      <td>289.908533</td>\n",
       "      <td>205.66</td>\n",
       "      <td>763.9800</td>\n",
       "      <td>946.370</td>\n",
       "      <td>1154.6200</td>\n",
       "      <td>1883.88</td>\n",
       "    </tr>\n",
       "    <tr>\n",
       "      <th>관악구</th>\n",
       "      <td>2569.0</td>\n",
       "      <td>874.033243</td>\n",
       "      <td>217.373337</td>\n",
       "      <td>281.37</td>\n",
       "      <td>712.0200</td>\n",
       "      <td>860.750</td>\n",
       "      <td>1020.6500</td>\n",
       "      <td>1653.31</td>\n",
       "    </tr>\n",
       "    <tr>\n",
       "      <th>광진구</th>\n",
       "      <td>1244.0</td>\n",
       "      <td>1292.313497</td>\n",
       "      <td>361.530854</td>\n",
       "      <td>341.95</td>\n",
       "      <td>1057.3425</td>\n",
       "      <td>1325.460</td>\n",
       "      <td>1564.9900</td>\n",
       "      <td>2500.42</td>\n",
       "    </tr>\n",
       "    <tr>\n",
       "      <th>구로구</th>\n",
       "      <td>4876.0</td>\n",
       "      <td>771.494674</td>\n",
       "      <td>285.207866</td>\n",
       "      <td>165.48</td>\n",
       "      <td>568.4750</td>\n",
       "      <td>745.945</td>\n",
       "      <td>946.1200</td>\n",
       "      <td>1750.00</td>\n",
       "    </tr>\n",
       "    <tr>\n",
       "      <th>금천구</th>\n",
       "      <td>1473.0</td>\n",
       "      <td>730.706538</td>\n",
       "      <td>262.485211</td>\n",
       "      <td>202.81</td>\n",
       "      <td>553.1400</td>\n",
       "      <td>682.590</td>\n",
       "      <td>865.6400</td>\n",
       "      <td>1621.84</td>\n",
       "    </tr>\n",
       "    <tr>\n",
       "      <th>노원구</th>\n",
       "      <td>8715.0</td>\n",
       "      <td>844.149993</td>\n",
       "      <td>217.833149</td>\n",
       "      <td>302.14</td>\n",
       "      <td>694.9600</td>\n",
       "      <td>813.940</td>\n",
       "      <td>969.5150</td>\n",
       "      <td>2126.33</td>\n",
       "    </tr>\n",
       "    <tr>\n",
       "      <th>도봉구</th>\n",
       "      <td>4375.0</td>\n",
       "      <td>676.571051</td>\n",
       "      <td>207.201375</td>\n",
       "      <td>154.76</td>\n",
       "      <td>506.3300</td>\n",
       "      <td>634.750</td>\n",
       "      <td>823.5800</td>\n",
       "      <td>1355.93</td>\n",
       "    </tr>\n",
       "    <tr>\n",
       "      <th>동대문구</th>\n",
       "      <td>3079.0</td>\n",
       "      <td>992.247928</td>\n",
       "      <td>328.306251</td>\n",
       "      <td>352.50</td>\n",
       "      <td>748.8450</td>\n",
       "      <td>940.310</td>\n",
       "      <td>1170.7700</td>\n",
       "      <td>2167.39</td>\n",
       "    </tr>\n",
       "    <tr>\n",
       "      <th>동작구</th>\n",
       "      <td>2830.0</td>\n",
       "      <td>1229.730481</td>\n",
       "      <td>351.155961</td>\n",
       "      <td>314.77</td>\n",
       "      <td>999.0150</td>\n",
       "      <td>1183.310</td>\n",
       "      <td>1455.2925</td>\n",
       "      <td>2737.19</td>\n",
       "    </tr>\n",
       "    <tr>\n",
       "      <th>마포구</th>\n",
       "      <td>2751.0</td>\n",
       "      <td>1344.089924</td>\n",
       "      <td>398.730508</td>\n",
       "      <td>427.95</td>\n",
       "      <td>1056.1350</td>\n",
       "      <td>1317.800</td>\n",
       "      <td>1594.5600</td>\n",
       "      <td>2559.80</td>\n",
       "    </tr>\n",
       "    <tr>\n",
       "      <th>서대문구</th>\n",
       "      <td>2713.0</td>\n",
       "      <td>1040.408120</td>\n",
       "      <td>378.748214</td>\n",
       "      <td>251.57</td>\n",
       "      <td>767.0500</td>\n",
       "      <td>997.830</td>\n",
       "      <td>1265.1400</td>\n",
       "      <td>2337.23</td>\n",
       "    </tr>\n",
       "    <tr>\n",
       "      <th>서초구</th>\n",
       "      <td>3162.0</td>\n",
       "      <td>1907.915825</td>\n",
       "      <td>814.184055</td>\n",
       "      <td>410.34</td>\n",
       "      <td>1215.2350</td>\n",
       "      <td>1753.885</td>\n",
       "      <td>2436.1000</td>\n",
       "      <td>4378.02</td>\n",
       "    </tr>\n",
       "    <tr>\n",
       "      <th>성동구</th>\n",
       "      <td>2921.0</td>\n",
       "      <td>1468.693458</td>\n",
       "      <td>436.209154</td>\n",
       "      <td>315.68</td>\n",
       "      <td>1144.1400</td>\n",
       "      <td>1417.600</td>\n",
       "      <td>1734.2000</td>\n",
       "      <td>3949.87</td>\n",
       "    </tr>\n",
       "    <tr>\n",
       "      <th>성북구</th>\n",
       "      <td>4159.0</td>\n",
       "      <td>913.888887</td>\n",
       "      <td>264.218887</td>\n",
       "      <td>232.85</td>\n",
       "      <td>721.6500</td>\n",
       "      <td>883.390</td>\n",
       "      <td>1075.4850</td>\n",
       "      <td>1961.60</td>\n",
       "    </tr>\n",
       "    <tr>\n",
       "      <th>송파구</th>\n",
       "      <td>4473.0</td>\n",
       "      <td>1600.924719</td>\n",
       "      <td>568.850562</td>\n",
       "      <td>314.51</td>\n",
       "      <td>1179.3800</td>\n",
       "      <td>1523.200</td>\n",
       "      <td>1956.7500</td>\n",
       "      <td>4154.62</td>\n",
       "    </tr>\n",
       "    <tr>\n",
       "      <th>양천구</th>\n",
       "      <td>3355.0</td>\n",
       "      <td>1141.513255</td>\n",
       "      <td>544.938218</td>\n",
       "      <td>210.90</td>\n",
       "      <td>717.6700</td>\n",
       "      <td>1010.100</td>\n",
       "      <td>1533.5600</td>\n",
       "      <td>2765.40</td>\n",
       "    </tr>\n",
       "    <tr>\n",
       "      <th>영등포구</th>\n",
       "      <td>3340.0</td>\n",
       "      <td>1177.527326</td>\n",
       "      <td>325.926582</td>\n",
       "      <td>355.49</td>\n",
       "      <td>952.5375</td>\n",
       "      <td>1135.840</td>\n",
       "      <td>1359.6075</td>\n",
       "      <td>2693.74</td>\n",
       "    </tr>\n",
       "    <tr>\n",
       "      <th>용산구</th>\n",
       "      <td>1459.0</td>\n",
       "      <td>1596.273838</td>\n",
       "      <td>481.443742</td>\n",
       "      <td>331.42</td>\n",
       "      <td>1275.0900</td>\n",
       "      <td>1543.360</td>\n",
       "      <td>1859.6450</td>\n",
       "      <td>3970.78</td>\n",
       "    </tr>\n",
       "    <tr>\n",
       "      <th>은평구</th>\n",
       "      <td>3311.0</td>\n",
       "      <td>826.131945</td>\n",
       "      <td>274.878308</td>\n",
       "      <td>247.37</td>\n",
       "      <td>604.0700</td>\n",
       "      <td>814.280</td>\n",
       "      <td>1014.0050</td>\n",
       "      <td>1741.24</td>\n",
       "    </tr>\n",
       "    <tr>\n",
       "      <th>종로구</th>\n",
       "      <td>742.0</td>\n",
       "      <td>1053.473787</td>\n",
       "      <td>462.800367</td>\n",
       "      <td>316.01</td>\n",
       "      <td>730.4825</td>\n",
       "      <td>944.255</td>\n",
       "      <td>1230.7875</td>\n",
       "      <td>2589.59</td>\n",
       "    </tr>\n",
       "    <tr>\n",
       "      <th>중구</th>\n",
       "      <td>982.0</td>\n",
       "      <td>1135.959358</td>\n",
       "      <td>318.427422</td>\n",
       "      <td>240.68</td>\n",
       "      <td>947.7925</td>\n",
       "      <td>1105.500</td>\n",
       "      <td>1363.3325</td>\n",
       "      <td>2079.16</td>\n",
       "    </tr>\n",
       "    <tr>\n",
       "      <th>중랑구</th>\n",
       "      <td>2723.0</td>\n",
       "      <td>757.423404</td>\n",
       "      <td>168.628239</td>\n",
       "      <td>276.02</td>\n",
       "      <td>651.0850</td>\n",
       "      <td>743.420</td>\n",
       "      <td>859.4550</td>\n",
       "      <td>1579.69</td>\n",
       "    </tr>\n",
       "  </tbody>\n",
       "</table>\n",
       "</div>"
      ],
      "text/plain": [
       "       count         mean         std     min        25%       50%        75%  \\\n",
       "시군구                                                                             \n",
       "강남구   3615.0  2091.012598  706.531530  449.16  1542.4400  2151.900  2591.9200   \n",
       "강동구   4099.0  1170.814987  417.477275  305.27   831.9600  1117.780  1458.7000   \n",
       "강북구   2092.0   769.775531  221.297617  170.91   609.4900   740.555   905.4700   \n",
       "강서구   5651.0   966.118843  289.908533  205.66   763.9800   946.370  1154.6200   \n",
       "관악구   2569.0   874.033243  217.373337  281.37   712.0200   860.750  1020.6500   \n",
       "광진구   1244.0  1292.313497  361.530854  341.95  1057.3425  1325.460  1564.9900   \n",
       "구로구   4876.0   771.494674  285.207866  165.48   568.4750   745.945   946.1200   \n",
       "금천구   1473.0   730.706538  262.485211  202.81   553.1400   682.590   865.6400   \n",
       "노원구   8715.0   844.149993  217.833149  302.14   694.9600   813.940   969.5150   \n",
       "도봉구   4375.0   676.571051  207.201375  154.76   506.3300   634.750   823.5800   \n",
       "동대문구  3079.0   992.247928  328.306251  352.50   748.8450   940.310  1170.7700   \n",
       "동작구   2830.0  1229.730481  351.155961  314.77   999.0150  1183.310  1455.2925   \n",
       "마포구   2751.0  1344.089924  398.730508  427.95  1056.1350  1317.800  1594.5600   \n",
       "서대문구  2713.0  1040.408120  378.748214  251.57   767.0500   997.830  1265.1400   \n",
       "서초구   3162.0  1907.915825  814.184055  410.34  1215.2350  1753.885  2436.1000   \n",
       "성동구   2921.0  1468.693458  436.209154  315.68  1144.1400  1417.600  1734.2000   \n",
       "성북구   4159.0   913.888887  264.218887  232.85   721.6500   883.390  1075.4850   \n",
       "송파구   4473.0  1600.924719  568.850562  314.51  1179.3800  1523.200  1956.7500   \n",
       "양천구   3355.0  1141.513255  544.938218  210.90   717.6700  1010.100  1533.5600   \n",
       "영등포구  3340.0  1177.527326  325.926582  355.49   952.5375  1135.840  1359.6075   \n",
       "용산구   1459.0  1596.273838  481.443742  331.42  1275.0900  1543.360  1859.6450   \n",
       "은평구   3311.0   826.131945  274.878308  247.37   604.0700   814.280  1014.0050   \n",
       "종로구    742.0  1053.473787  462.800367  316.01   730.4825   944.255  1230.7875   \n",
       "중구     982.0  1135.959358  318.427422  240.68   947.7925  1105.500  1363.3325   \n",
       "중랑구   2723.0   757.423404  168.628239  276.02   651.0850   743.420   859.4550   \n",
       "\n",
       "          max  \n",
       "시군구            \n",
       "강남구   5471.10  \n",
       "강동구   2456.46  \n",
       "강북구   1538.00  \n",
       "강서구   1883.88  \n",
       "관악구   1653.31  \n",
       "광진구   2500.42  \n",
       "구로구   1750.00  \n",
       "금천구   1621.84  \n",
       "노원구   2126.33  \n",
       "도봉구   1355.93  \n",
       "동대문구  2167.39  \n",
       "동작구   2737.19  \n",
       "마포구   2559.80  \n",
       "서대문구  2337.23  \n",
       "서초구   4378.02  \n",
       "성동구   3949.87  \n",
       "성북구   1961.60  \n",
       "송파구   4154.62  \n",
       "양천구   2765.40  \n",
       "영등포구  2693.74  \n",
       "용산구   3970.78  \n",
       "은평구   1741.24  \n",
       "종로구   2589.59  \n",
       "중구    2079.16  \n",
       "중랑구   1579.69  "
      ]
     },
     "execution_count": 146,
     "metadata": {},
     "output_type": "execute_result"
    }
   ],
   "source": [
    "# 시군구별 단위금액의 기술통계량을 한 번에 반환합니다.\n",
    "price.groupby('시군구').describe()['단위금액']"
   ]
  },
  {
   "cell_type": "markdown",
   "id": "short-grenada",
   "metadata": {},
   "source": [
    "### 데이터프레임 구조 변경"
   ]
  },
  {
   "cell_type": "code",
   "execution_count": 147,
   "id": "center-induction",
   "metadata": {},
   "outputs": [],
   "source": [
    "# 두 개의 컬럼으로 데이터를 요약하여 Long type의 데이터프레임을 생성합니다.\n",
    "long = price.groupby(['시군구', '금액구분']).count()[['단위금액']]"
   ]
  },
  {
   "cell_type": "code",
   "execution_count": 148,
   "id": "bigger-breeding",
   "metadata": {},
   "outputs": [
    {
     "data": {
      "text/html": [
       "<div>\n",
       "<style scoped>\n",
       "    .dataframe tbody tr th:only-of-type {\n",
       "        vertical-align: middle;\n",
       "    }\n",
       "\n",
       "    .dataframe tbody tr th {\n",
       "        vertical-align: top;\n",
       "    }\n",
       "\n",
       "    .dataframe thead th {\n",
       "        text-align: right;\n",
       "    }\n",
       "</style>\n",
       "<table border=\"1\" class=\"dataframe\">\n",
       "  <thead>\n",
       "    <tr style=\"text-align: right;\">\n",
       "      <th></th>\n",
       "      <th></th>\n",
       "      <th>단위금액</th>\n",
       "    </tr>\n",
       "    <tr>\n",
       "      <th>시군구</th>\n",
       "      <th>금액구분</th>\n",
       "      <th></th>\n",
       "    </tr>\n",
       "  </thead>\n",
       "  <tbody>\n",
       "    <tr>\n",
       "      <th rowspan=\"2\" valign=\"top\">강남구</th>\n",
       "      <th>미만</th>\n",
       "      <td>198</td>\n",
       "    </tr>\n",
       "    <tr>\n",
       "      <th>이상</th>\n",
       "      <td>3417</td>\n",
       "    </tr>\n",
       "    <tr>\n",
       "      <th rowspan=\"2\" valign=\"top\">강동구</th>\n",
       "      <th>미만</th>\n",
       "      <td>1564</td>\n",
       "    </tr>\n",
       "    <tr>\n",
       "      <th>이상</th>\n",
       "      <td>2535</td>\n",
       "    </tr>\n",
       "    <tr>\n",
       "      <th rowspan=\"2\" valign=\"top\">강북구</th>\n",
       "      <th>미만</th>\n",
       "      <td>1738</td>\n",
       "    </tr>\n",
       "    <tr>\n",
       "      <th>이상</th>\n",
       "      <td>354</td>\n",
       "    </tr>\n",
       "    <tr>\n",
       "      <th rowspan=\"2\" valign=\"top\">강서구</th>\n",
       "      <th>미만</th>\n",
       "      <td>3231</td>\n",
       "    </tr>\n",
       "    <tr>\n",
       "      <th>이상</th>\n",
       "      <td>2420</td>\n",
       "    </tr>\n",
       "    <tr>\n",
       "      <th rowspan=\"2\" valign=\"top\">관악구</th>\n",
       "      <th>미만</th>\n",
       "      <td>1847</td>\n",
       "    </tr>\n",
       "    <tr>\n",
       "      <th>이상</th>\n",
       "      <td>722</td>\n",
       "    </tr>\n",
       "  </tbody>\n",
       "</table>\n",
       "</div>"
      ],
      "text/plain": [
       "          단위금액\n",
       "시군구 금액구분      \n",
       "강남구 미만     198\n",
       "    이상    3417\n",
       "강동구 미만    1564\n",
       "    이상    2535\n",
       "강북구 미만    1738\n",
       "    이상     354\n",
       "강서구 미만    3231\n",
       "    이상    2420\n",
       "관악구 미만    1847\n",
       "    이상     722"
      ]
     },
     "execution_count": 148,
     "metadata": {},
     "output_type": "execute_result"
    }
   ],
   "source": [
    "# long의 처음 10행만 출력합니다.\n",
    "long.head(10)"
   ]
  },
  {
   "cell_type": "code",
   "execution_count": 149,
   "id": "waiting-balance",
   "metadata": {},
   "outputs": [],
   "source": [
    "# 단위금액 컬럼명을 건수로 변경합니다.\n",
    "long.columns = ['건수']"
   ]
  },
  {
   "cell_type": "code",
   "execution_count": 150,
   "id": "absolute-flesh",
   "metadata": {},
   "outputs": [],
   "source": [
    "# Long type을 Wide type으로 변경합니다.\n",
    "wide = long.unstack()"
   ]
  },
  {
   "cell_type": "code",
   "execution_count": 151,
   "id": "august-toner",
   "metadata": {},
   "outputs": [
    {
     "data": {
      "text/html": [
       "<div>\n",
       "<style scoped>\n",
       "    .dataframe tbody tr th:only-of-type {\n",
       "        vertical-align: middle;\n",
       "    }\n",
       "\n",
       "    .dataframe tbody tr th {\n",
       "        vertical-align: top;\n",
       "    }\n",
       "\n",
       "    .dataframe thead tr th {\n",
       "        text-align: left;\n",
       "    }\n",
       "\n",
       "    .dataframe thead tr:last-of-type th {\n",
       "        text-align: right;\n",
       "    }\n",
       "</style>\n",
       "<table border=\"1\" class=\"dataframe\">\n",
       "  <thead>\n",
       "    <tr>\n",
       "      <th></th>\n",
       "      <th colspan=\"2\" halign=\"left\">건수</th>\n",
       "    </tr>\n",
       "    <tr>\n",
       "      <th>금액구분</th>\n",
       "      <th>미만</th>\n",
       "      <th>이상</th>\n",
       "    </tr>\n",
       "    <tr>\n",
       "      <th>시군구</th>\n",
       "      <th></th>\n",
       "      <th></th>\n",
       "    </tr>\n",
       "  </thead>\n",
       "  <tbody>\n",
       "    <tr>\n",
       "      <th>강남구</th>\n",
       "      <td>198</td>\n",
       "      <td>3417</td>\n",
       "    </tr>\n",
       "    <tr>\n",
       "      <th>강동구</th>\n",
       "      <td>1564</td>\n",
       "      <td>2535</td>\n",
       "    </tr>\n",
       "    <tr>\n",
       "      <th>강북구</th>\n",
       "      <td>1738</td>\n",
       "      <td>354</td>\n",
       "    </tr>\n",
       "    <tr>\n",
       "      <th>강서구</th>\n",
       "      <td>3231</td>\n",
       "      <td>2420</td>\n",
       "    </tr>\n",
       "    <tr>\n",
       "      <th>관악구</th>\n",
       "      <td>1847</td>\n",
       "      <td>722</td>\n",
       "    </tr>\n",
       "    <tr>\n",
       "      <th>광진구</th>\n",
       "      <td>255</td>\n",
       "      <td>989</td>\n",
       "    </tr>\n",
       "    <tr>\n",
       "      <th>구로구</th>\n",
       "      <td>3868</td>\n",
       "      <td>1008</td>\n",
       "    </tr>\n",
       "    <tr>\n",
       "      <th>금천구</th>\n",
       "      <td>1275</td>\n",
       "      <td>198</td>\n",
       "    </tr>\n",
       "    <tr>\n",
       "      <th>노원구</th>\n",
       "      <td>6844</td>\n",
       "      <td>1871</td>\n",
       "    </tr>\n",
       "    <tr>\n",
       "      <th>도봉구</th>\n",
       "      <td>3985</td>\n",
       "      <td>390</td>\n",
       "    </tr>\n",
       "  </tbody>\n",
       "</table>\n",
       "</div>"
      ],
      "text/plain": [
       "        건수      \n",
       "금액구분    미만    이상\n",
       "시군구             \n",
       "강남구    198  3417\n",
       "강동구   1564  2535\n",
       "강북구   1738   354\n",
       "강서구   3231  2420\n",
       "관악구   1847   722\n",
       "광진구    255   989\n",
       "구로구   3868  1008\n",
       "금천구   1275   198\n",
       "노원구   6844  1871\n",
       "도봉구   3985   390"
      ]
     },
     "execution_count": 151,
     "metadata": {},
     "output_type": "execute_result"
    }
   ],
   "source": [
    "# wide의 처음 10행만 출력합니다.\n",
    "wide.head(10)"
   ]
  },
  {
   "cell_type": "code",
   "execution_count": 152,
   "id": "collectible-communist",
   "metadata": {},
   "outputs": [
    {
     "data": {
      "text/html": [
       "<div>\n",
       "<style scoped>\n",
       "    .dataframe tbody tr th:only-of-type {\n",
       "        vertical-align: middle;\n",
       "    }\n",
       "\n",
       "    .dataframe tbody tr th {\n",
       "        vertical-align: top;\n",
       "    }\n",
       "\n",
       "    .dataframe thead th {\n",
       "        text-align: right;\n",
       "    }\n",
       "</style>\n",
       "<table border=\"1\" class=\"dataframe\">\n",
       "  <thead>\n",
       "    <tr style=\"text-align: right;\">\n",
       "      <th></th>\n",
       "      <th></th>\n",
       "      <th>건수</th>\n",
       "    </tr>\n",
       "    <tr>\n",
       "      <th>시군구</th>\n",
       "      <th>금액구분</th>\n",
       "      <th></th>\n",
       "    </tr>\n",
       "  </thead>\n",
       "  <tbody>\n",
       "    <tr>\n",
       "      <th rowspan=\"2\" valign=\"top\">강남구</th>\n",
       "      <th>미만</th>\n",
       "      <td>198</td>\n",
       "    </tr>\n",
       "    <tr>\n",
       "      <th>이상</th>\n",
       "      <td>3417</td>\n",
       "    </tr>\n",
       "    <tr>\n",
       "      <th rowspan=\"2\" valign=\"top\">강동구</th>\n",
       "      <th>미만</th>\n",
       "      <td>1564</td>\n",
       "    </tr>\n",
       "    <tr>\n",
       "      <th>이상</th>\n",
       "      <td>2535</td>\n",
       "    </tr>\n",
       "    <tr>\n",
       "      <th rowspan=\"2\" valign=\"top\">강북구</th>\n",
       "      <th>미만</th>\n",
       "      <td>1738</td>\n",
       "    </tr>\n",
       "    <tr>\n",
       "      <th>이상</th>\n",
       "      <td>354</td>\n",
       "    </tr>\n",
       "    <tr>\n",
       "      <th rowspan=\"2\" valign=\"top\">강서구</th>\n",
       "      <th>미만</th>\n",
       "      <td>3231</td>\n",
       "    </tr>\n",
       "    <tr>\n",
       "      <th>이상</th>\n",
       "      <td>2420</td>\n",
       "    </tr>\n",
       "    <tr>\n",
       "      <th rowspan=\"2\" valign=\"top\">관악구</th>\n",
       "      <th>미만</th>\n",
       "      <td>1847</td>\n",
       "    </tr>\n",
       "    <tr>\n",
       "      <th>이상</th>\n",
       "      <td>722</td>\n",
       "    </tr>\n",
       "  </tbody>\n",
       "</table>\n",
       "</div>"
      ],
      "text/plain": [
       "            건수\n",
       "시군구 금액구분      \n",
       "강남구 미만     198\n",
       "    이상    3417\n",
       "강동구 미만    1564\n",
       "    이상    2535\n",
       "강북구 미만    1738\n",
       "    이상     354\n",
       "강서구 미만    3231\n",
       "    이상    2420\n",
       "관악구 미만    1847\n",
       "    이상     722"
      ]
     },
     "execution_count": 152,
     "metadata": {},
     "output_type": "execute_result"
    }
   ],
   "source": [
    "# Wide type을 Long type으로 변경하고 처음 10행만 출력합니다.\n",
    "wide.stack().head(10)"
   ]
  },
  {
   "cell_type": "markdown",
   "id": "several-bobby",
   "metadata": {},
   "source": [
    "### 피벗 테이블 생성"
   ]
  },
  {
   "cell_type": "code",
   "execution_count": 153,
   "id": "historical-baghdad",
   "metadata": {},
   "outputs": [
    {
     "data": {
      "text/html": [
       "<div>\n",
       "<style scoped>\n",
       "    .dataframe tbody tr th:only-of-type {\n",
       "        vertical-align: middle;\n",
       "    }\n",
       "\n",
       "    .dataframe tbody tr th {\n",
       "        vertical-align: top;\n",
       "    }\n",
       "\n",
       "    .dataframe thead tr th {\n",
       "        text-align: left;\n",
       "    }\n",
       "\n",
       "    .dataframe thead tr:last-of-type th {\n",
       "        text-align: right;\n",
       "    }\n",
       "</style>\n",
       "<table border=\"1\" class=\"dataframe\">\n",
       "  <thead>\n",
       "    <tr>\n",
       "      <th></th>\n",
       "      <th colspan=\"2\" halign=\"left\">mean</th>\n",
       "      <th colspan=\"2\" halign=\"left\">std</th>\n",
       "    </tr>\n",
       "    <tr>\n",
       "      <th>금액구분</th>\n",
       "      <th>미만</th>\n",
       "      <th>이상</th>\n",
       "      <th>미만</th>\n",
       "      <th>이상</th>\n",
       "    </tr>\n",
       "    <tr>\n",
       "      <th>시군구</th>\n",
       "      <th></th>\n",
       "      <th></th>\n",
       "      <th></th>\n",
       "      <th></th>\n",
       "    </tr>\n",
       "  </thead>\n",
       "  <tbody>\n",
       "    <tr>\n",
       "      <th>강남구</th>\n",
       "      <td>887.453434</td>\n",
       "      <td>2160.753515</td>\n",
       "      <td>102.100035</td>\n",
       "      <td>662.338770</td>\n",
       "    </tr>\n",
       "    <tr>\n",
       "      <th>강동구</th>\n",
       "      <td>763.310077</td>\n",
       "      <td>1422.230245</td>\n",
       "      <td>137.354052</td>\n",
       "      <td>323.254729</td>\n",
       "    </tr>\n",
       "    <tr>\n",
       "      <th>강북구</th>\n",
       "      <td>696.279977</td>\n",
       "      <td>1130.609633</td>\n",
       "      <td>157.015143</td>\n",
       "      <td>107.758403</td>\n",
       "    </tr>\n",
       "    <tr>\n",
       "      <th>강서구</th>\n",
       "      <td>763.636453</td>\n",
       "      <td>1236.457934</td>\n",
       "      <td>161.664380</td>\n",
       "      <td>183.122640</td>\n",
       "    </tr>\n",
       "    <tr>\n",
       "      <th>관악구</th>\n",
       "      <td>767.832328</td>\n",
       "      <td>1145.713421</td>\n",
       "      <td>141.735963</td>\n",
       "      <td>118.555845</td>\n",
       "    </tr>\n",
       "    <tr>\n",
       "      <th>광진구</th>\n",
       "      <td>762.851333</td>\n",
       "      <td>1428.828008</td>\n",
       "      <td>164.853445</td>\n",
       "      <td>257.768934</td>\n",
       "    </tr>\n",
       "    <tr>\n",
       "      <th>구로구</th>\n",
       "      <td>659.877725</td>\n",
       "      <td>1199.802569</td>\n",
       "      <td>189.171514</td>\n",
       "      <td>157.757555</td>\n",
       "    </tr>\n",
       "    <tr>\n",
       "      <th>금천구</th>\n",
       "      <td>650.493961</td>\n",
       "      <td>1247.226919</td>\n",
       "      <td>164.724495</td>\n",
       "      <td>171.898250</td>\n",
       "    </tr>\n",
       "    <tr>\n",
       "      <th>노원구</th>\n",
       "      <td>757.539359</td>\n",
       "      <td>1160.966232</td>\n",
       "      <td>131.730821</td>\n",
       "      <td>172.442693</td>\n",
       "    </tr>\n",
       "    <tr>\n",
       "      <th>도봉구</th>\n",
       "      <td>636.207882</td>\n",
       "      <td>1088.999846</td>\n",
       "      <td>168.035514</td>\n",
       "      <td>79.588690</td>\n",
       "    </tr>\n",
       "    <tr>\n",
       "      <th>동대문구</th>\n",
       "      <td>764.397142</td>\n",
       "      <td>1290.693143</td>\n",
       "      <td>149.181833</td>\n",
       "      <td>250.452813</td>\n",
       "    </tr>\n",
       "    <tr>\n",
       "      <th>동작구</th>\n",
       "      <td>824.815742</td>\n",
       "      <td>1366.360501</td>\n",
       "      <td>146.218031</td>\n",
       "      <td>289.318238</td>\n",
       "    </tr>\n",
       "    <tr>\n",
       "      <th>마포구</th>\n",
       "      <td>824.471141</td>\n",
       "      <td>1474.526289</td>\n",
       "      <td>125.007766</td>\n",
       "      <td>331.913461</td>\n",
       "    </tr>\n",
       "    <tr>\n",
       "      <th>서대문구</th>\n",
       "      <td>744.985128</td>\n",
       "      <td>1341.326332</td>\n",
       "      <td>172.898508</td>\n",
       "      <td>282.212059</td>\n",
       "    </tr>\n",
       "    <tr>\n",
       "      <th>서초구</th>\n",
       "      <td>856.997626</td>\n",
       "      <td>2042.091544</td>\n",
       "      <td>104.393284</td>\n",
       "      <td>766.228001</td>\n",
       "    </tr>\n",
       "    <tr>\n",
       "      <th>성동구</th>\n",
       "      <td>853.486317</td>\n",
       "      <td>1548.121051</td>\n",
       "      <td>120.352545</td>\n",
       "      <td>397.233574</td>\n",
       "    </tr>\n",
       "    <tr>\n",
       "      <th>성북구</th>\n",
       "      <td>758.586381</td>\n",
       "      <td>1207.130215</td>\n",
       "      <td>147.956624</td>\n",
       "      <td>169.557834</td>\n",
       "    </tr>\n",
       "    <tr>\n",
       "      <th>송파구</th>\n",
       "      <td>814.978227</td>\n",
       "      <td>1724.796721</td>\n",
       "      <td>131.223041</td>\n",
       "      <td>509.082032</td>\n",
       "    </tr>\n",
       "    <tr>\n",
       "      <th>양천구</th>\n",
       "      <td>695.178888</td>\n",
       "      <td>1566.296864</td>\n",
       "      <td>186.788084</td>\n",
       "      <td>419.863475</td>\n",
       "    </tr>\n",
       "    <tr>\n",
       "      <th>영등포구</th>\n",
       "      <td>832.409921</td>\n",
       "      <td>1326.491419</td>\n",
       "      <td>117.249818</td>\n",
       "      <td>269.326718</td>\n",
       "    </tr>\n",
       "    <tr>\n",
       "      <th>용산구</th>\n",
       "      <td>791.704790</td>\n",
       "      <td>1667.724373</td>\n",
       "      <td>158.137552</td>\n",
       "      <td>433.064666</td>\n",
       "    </tr>\n",
       "    <tr>\n",
       "      <th>은평구</th>\n",
       "      <td>696.250436</td>\n",
       "      <td>1185.485563</td>\n",
       "      <td>176.114779</td>\n",
       "      <td>151.532633</td>\n",
       "    </tr>\n",
       "    <tr>\n",
       "      <th>종로구</th>\n",
       "      <td>736.084706</td>\n",
       "      <td>1441.182605</td>\n",
       "      <td>153.612152</td>\n",
       "      <td>416.622160</td>\n",
       "    </tr>\n",
       "    <tr>\n",
       "      <th>중구</th>\n",
       "      <td>787.737700</td>\n",
       "      <td>1298.879208</td>\n",
       "      <td>177.741109</td>\n",
       "      <td>225.280215</td>\n",
       "    </tr>\n",
       "    <tr>\n",
       "      <th>중랑구</th>\n",
       "      <td>728.545443</td>\n",
       "      <td>1106.596827</td>\n",
       "      <td>137.152045</td>\n",
       "      <td>113.234901</td>\n",
       "    </tr>\n",
       "  </tbody>\n",
       "</table>\n",
       "</div>"
      ],
      "text/plain": [
       "            mean                      std            \n",
       "금액구분          미만           이상          미만          이상\n",
       "시군구                                                  \n",
       "강남구   887.453434  2160.753515  102.100035  662.338770\n",
       "강동구   763.310077  1422.230245  137.354052  323.254729\n",
       "강북구   696.279977  1130.609633  157.015143  107.758403\n",
       "강서구   763.636453  1236.457934  161.664380  183.122640\n",
       "관악구   767.832328  1145.713421  141.735963  118.555845\n",
       "광진구   762.851333  1428.828008  164.853445  257.768934\n",
       "구로구   659.877725  1199.802569  189.171514  157.757555\n",
       "금천구   650.493961  1247.226919  164.724495  171.898250\n",
       "노원구   757.539359  1160.966232  131.730821  172.442693\n",
       "도봉구   636.207882  1088.999846  168.035514   79.588690\n",
       "동대문구  764.397142  1290.693143  149.181833  250.452813\n",
       "동작구   824.815742  1366.360501  146.218031  289.318238\n",
       "마포구   824.471141  1474.526289  125.007766  331.913461\n",
       "서대문구  744.985128  1341.326332  172.898508  282.212059\n",
       "서초구   856.997626  2042.091544  104.393284  766.228001\n",
       "성동구   853.486317  1548.121051  120.352545  397.233574\n",
       "성북구   758.586381  1207.130215  147.956624  169.557834\n",
       "송파구   814.978227  1724.796721  131.223041  509.082032\n",
       "양천구   695.178888  1566.296864  186.788084  419.863475\n",
       "영등포구  832.409921  1326.491419  117.249818  269.326718\n",
       "용산구   791.704790  1667.724373  158.137552  433.064666\n",
       "은평구   696.250436  1185.485563  176.114779  151.532633\n",
       "종로구   736.084706  1441.182605  153.612152  416.622160\n",
       "중구    787.737700  1298.879208  177.741109  225.280215\n",
       "중랑구   728.545443  1106.596827  137.152045  113.234901"
      ]
     },
     "execution_count": 153,
     "metadata": {},
     "output_type": "execute_result"
    }
   ],
   "source": [
    "# 원데이터로부터 피벗 테이블을 생성합니다.\n",
    "pd.pivot_table(data = price, \n",
    "               index = '시군구', \n",
    "               columns = '금액구분', \n",
    "               values = '단위금액', \n",
    "               aggfunc = ['mean', 'std'])"
   ]
  },
  {
   "cell_type": "markdown",
   "id": "scenic-spirituality",
   "metadata": {},
   "source": [
    "### 데이터프레임 결합"
   ]
  },
  {
   "cell_type": "code",
   "execution_count": 154,
   "id": "spoken-bicycle",
   "metadata": {},
   "outputs": [
    {
     "data": {
      "text/html": [
       "<div>\n",
       "<style scoped>\n",
       "    .dataframe tbody tr th:only-of-type {\n",
       "        vertical-align: middle;\n",
       "    }\n",
       "\n",
       "    .dataframe tbody tr th {\n",
       "        vertical-align: top;\n",
       "    }\n",
       "\n",
       "    .dataframe thead th {\n",
       "        text-align: right;\n",
       "    }\n",
       "</style>\n",
       "<table border=\"1\" class=\"dataframe\">\n",
       "  <thead>\n",
       "    <tr style=\"text-align: right;\">\n",
       "      <th></th>\n",
       "      <th>아파트</th>\n",
       "      <th>시도</th>\n",
       "      <th>시군구</th>\n",
       "      <th>읍면동</th>\n",
       "      <th>지번</th>\n",
       "      <th>거래일</th>\n",
       "      <th>전용면적</th>\n",
       "      <th>층</th>\n",
       "      <th>거래금액</th>\n",
       "    </tr>\n",
       "  </thead>\n",
       "  <tbody>\n",
       "    <tr>\n",
       "      <th>0</th>\n",
       "      <td>한남더힐</td>\n",
       "      <td>서울특별시</td>\n",
       "      <td>용산구</td>\n",
       "      <td>한남동</td>\n",
       "      <td>810</td>\n",
       "      <td>2020-04-27</td>\n",
       "      <td>240.305</td>\n",
       "      <td>-1</td>\n",
       "      <td>730000</td>\n",
       "    </tr>\n",
       "    <tr>\n",
       "      <th>1</th>\n",
       "      <td>한남더힐</td>\n",
       "      <td>서울특별시</td>\n",
       "      <td>용산구</td>\n",
       "      <td>한남동</td>\n",
       "      <td>810</td>\n",
       "      <td>2020-09-04</td>\n",
       "      <td>243.642</td>\n",
       "      <td>1</td>\n",
       "      <td>775000</td>\n",
       "    </tr>\n",
       "    <tr>\n",
       "      <th>2</th>\n",
       "      <td>한남더힐</td>\n",
       "      <td>서울특별시</td>\n",
       "      <td>용산구</td>\n",
       "      <td>한남동</td>\n",
       "      <td>810</td>\n",
       "      <td>2020-09-21</td>\n",
       "      <td>240.230</td>\n",
       "      <td>3</td>\n",
       "      <td>730000</td>\n",
       "    </tr>\n",
       "    <tr>\n",
       "      <th>3</th>\n",
       "      <td>한남더힐</td>\n",
       "      <td>서울특별시</td>\n",
       "      <td>용산구</td>\n",
       "      <td>한남동</td>\n",
       "      <td>810</td>\n",
       "      <td>2020-11-09</td>\n",
       "      <td>241.052</td>\n",
       "      <td>-1</td>\n",
       "      <td>760000</td>\n",
       "    </tr>\n",
       "    <tr>\n",
       "      <th>4</th>\n",
       "      <td>한남더힐</td>\n",
       "      <td>서울특별시</td>\n",
       "      <td>용산구</td>\n",
       "      <td>한남동</td>\n",
       "      <td>810</td>\n",
       "      <td>2020-12-31</td>\n",
       "      <td>240.305</td>\n",
       "      <td>2</td>\n",
       "      <td>710000</td>\n",
       "    </tr>\n",
       "    <tr>\n",
       "      <th>23700</th>\n",
       "      <td>타워팰리스3</td>\n",
       "      <td>서울특별시</td>\n",
       "      <td>강남구</td>\n",
       "      <td>도곡동</td>\n",
       "      <td>467-29</td>\n",
       "      <td>2020-05-11</td>\n",
       "      <td>185.622</td>\n",
       "      <td>63</td>\n",
       "      <td>350000</td>\n",
       "    </tr>\n",
       "    <tr>\n",
       "      <th>44541</th>\n",
       "      <td>현대하이페리온</td>\n",
       "      <td>서울특별시</td>\n",
       "      <td>양천구</td>\n",
       "      <td>목동</td>\n",
       "      <td>916</td>\n",
       "      <td>2020-07-03</td>\n",
       "      <td>154.050</td>\n",
       "      <td>66</td>\n",
       "      <td>240000</td>\n",
       "    </tr>\n",
       "    <tr>\n",
       "      <th>52607</th>\n",
       "      <td>타워팰리스3</td>\n",
       "      <td>서울특별시</td>\n",
       "      <td>강남구</td>\n",
       "      <td>도곡동</td>\n",
       "      <td>467-29</td>\n",
       "      <td>2020-07-25</td>\n",
       "      <td>235.740</td>\n",
       "      <td>67</td>\n",
       "      <td>542500</td>\n",
       "    </tr>\n",
       "    <tr>\n",
       "      <th>66396</th>\n",
       "      <td>타워팰리스3</td>\n",
       "      <td>서울특별시</td>\n",
       "      <td>강남구</td>\n",
       "      <td>도곡동</td>\n",
       "      <td>467-29</td>\n",
       "      <td>2020-10-27</td>\n",
       "      <td>185.622</td>\n",
       "      <td>66</td>\n",
       "      <td>380000</td>\n",
       "    </tr>\n",
       "    <tr>\n",
       "      <th>68998</th>\n",
       "      <td>현대하이페리온</td>\n",
       "      <td>서울특별시</td>\n",
       "      <td>양천구</td>\n",
       "      <td>목동</td>\n",
       "      <td>916</td>\n",
       "      <td>2020-11-13</td>\n",
       "      <td>138.200</td>\n",
       "      <td>60</td>\n",
       "      <td>210000</td>\n",
       "    </tr>\n",
       "  </tbody>\n",
       "</table>\n",
       "</div>"
      ],
      "text/plain": [
       "           아파트     시도  시군구  읍면동      지번        거래일     전용면적   층    거래금액\n",
       "0         한남더힐  서울특별시  용산구  한남동     810 2020-04-27  240.305  -1  730000\n",
       "1         한남더힐  서울특별시  용산구  한남동     810 2020-09-04  243.642   1  775000\n",
       "2         한남더힐  서울특별시  용산구  한남동     810 2020-09-21  240.230   3  730000\n",
       "3         한남더힐  서울특별시  용산구  한남동     810 2020-11-09  241.052  -1  760000\n",
       "4         한남더힐  서울특별시  용산구  한남동     810 2020-12-31  240.305   2  710000\n",
       "23700   타워팰리스3  서울특별시  강남구  도곡동  467-29 2020-05-11  185.622  63  350000\n",
       "44541  현대하이페리온  서울특별시  양천구   목동     916 2020-07-03  154.050  66  240000\n",
       "52607   타워팰리스3  서울특별시  강남구  도곡동  467-29 2020-07-25  235.740  67  542500\n",
       "66396   타워팰리스3  서울특별시  강남구  도곡동  467-29 2020-10-27  185.622  66  380000\n",
       "68998  현대하이페리온  서울특별시  양천구   목동     916 2020-11-13  138.200  60  210000"
      ]
     },
     "execution_count": 154,
     "metadata": {},
     "output_type": "execute_result"
    }
   ],
   "source": [
    "# 컬럼명이 같은 df1과 df2를 세로 방향으로 결합한 결과를 반환합니다.\n",
    "pd.concat([df1, df2])"
   ]
  },
  {
   "cell_type": "code",
   "execution_count": 155,
   "id": "likely-messenger",
   "metadata": {},
   "outputs": [
    {
     "data": {
      "text/html": [
       "<div>\n",
       "<style scoped>\n",
       "    .dataframe tbody tr th:only-of-type {\n",
       "        vertical-align: middle;\n",
       "    }\n",
       "\n",
       "    .dataframe tbody tr th {\n",
       "        vertical-align: top;\n",
       "    }\n",
       "\n",
       "    .dataframe thead th {\n",
       "        text-align: right;\n",
       "    }\n",
       "</style>\n",
       "<table border=\"1\" class=\"dataframe\">\n",
       "  <thead>\n",
       "    <tr style=\"text-align: right;\">\n",
       "      <th></th>\n",
       "      <th>아파트</th>\n",
       "      <th>시도</th>\n",
       "      <th>시군구</th>\n",
       "      <th>읍면동</th>\n",
       "      <th>지번</th>\n",
       "      <th>거래일</th>\n",
       "      <th>전용면적</th>\n",
       "      <th>층</th>\n",
       "      <th>거래금액</th>\n",
       "    </tr>\n",
       "  </thead>\n",
       "  <tbody>\n",
       "    <tr>\n",
       "      <th>0</th>\n",
       "      <td>한남더힐</td>\n",
       "      <td>서울특별시</td>\n",
       "      <td>용산구</td>\n",
       "      <td>한남동</td>\n",
       "      <td>810</td>\n",
       "      <td>2020-04-27</td>\n",
       "      <td>240.305</td>\n",
       "      <td>-1</td>\n",
       "      <td>730000</td>\n",
       "    </tr>\n",
       "    <tr>\n",
       "      <th>1</th>\n",
       "      <td>한남더힐</td>\n",
       "      <td>서울특별시</td>\n",
       "      <td>용산구</td>\n",
       "      <td>한남동</td>\n",
       "      <td>810</td>\n",
       "      <td>2020-09-04</td>\n",
       "      <td>243.642</td>\n",
       "      <td>1</td>\n",
       "      <td>775000</td>\n",
       "    </tr>\n",
       "    <tr>\n",
       "      <th>2</th>\n",
       "      <td>한남더힐</td>\n",
       "      <td>서울특별시</td>\n",
       "      <td>용산구</td>\n",
       "      <td>한남동</td>\n",
       "      <td>810</td>\n",
       "      <td>2020-09-21</td>\n",
       "      <td>240.230</td>\n",
       "      <td>3</td>\n",
       "      <td>730000</td>\n",
       "    </tr>\n",
       "    <tr>\n",
       "      <th>3</th>\n",
       "      <td>한남더힐</td>\n",
       "      <td>서울특별시</td>\n",
       "      <td>용산구</td>\n",
       "      <td>한남동</td>\n",
       "      <td>810</td>\n",
       "      <td>2020-11-09</td>\n",
       "      <td>241.052</td>\n",
       "      <td>-1</td>\n",
       "      <td>760000</td>\n",
       "    </tr>\n",
       "    <tr>\n",
       "      <th>4</th>\n",
       "      <td>한남더힐</td>\n",
       "      <td>서울특별시</td>\n",
       "      <td>용산구</td>\n",
       "      <td>한남동</td>\n",
       "      <td>810</td>\n",
       "      <td>2020-12-31</td>\n",
       "      <td>240.305</td>\n",
       "      <td>2</td>\n",
       "      <td>710000</td>\n",
       "    </tr>\n",
       "    <tr>\n",
       "      <th>5</th>\n",
       "      <td>타워팰리스3</td>\n",
       "      <td>서울특별시</td>\n",
       "      <td>강남구</td>\n",
       "      <td>도곡동</td>\n",
       "      <td>467-29</td>\n",
       "      <td>2020-05-11</td>\n",
       "      <td>185.622</td>\n",
       "      <td>63</td>\n",
       "      <td>350000</td>\n",
       "    </tr>\n",
       "    <tr>\n",
       "      <th>6</th>\n",
       "      <td>현대하이페리온</td>\n",
       "      <td>서울특별시</td>\n",
       "      <td>양천구</td>\n",
       "      <td>목동</td>\n",
       "      <td>916</td>\n",
       "      <td>2020-07-03</td>\n",
       "      <td>154.050</td>\n",
       "      <td>66</td>\n",
       "      <td>240000</td>\n",
       "    </tr>\n",
       "    <tr>\n",
       "      <th>7</th>\n",
       "      <td>타워팰리스3</td>\n",
       "      <td>서울특별시</td>\n",
       "      <td>강남구</td>\n",
       "      <td>도곡동</td>\n",
       "      <td>467-29</td>\n",
       "      <td>2020-07-25</td>\n",
       "      <td>235.740</td>\n",
       "      <td>67</td>\n",
       "      <td>542500</td>\n",
       "    </tr>\n",
       "    <tr>\n",
       "      <th>8</th>\n",
       "      <td>타워팰리스3</td>\n",
       "      <td>서울특별시</td>\n",
       "      <td>강남구</td>\n",
       "      <td>도곡동</td>\n",
       "      <td>467-29</td>\n",
       "      <td>2020-10-27</td>\n",
       "      <td>185.622</td>\n",
       "      <td>66</td>\n",
       "      <td>380000</td>\n",
       "    </tr>\n",
       "    <tr>\n",
       "      <th>9</th>\n",
       "      <td>현대하이페리온</td>\n",
       "      <td>서울특별시</td>\n",
       "      <td>양천구</td>\n",
       "      <td>목동</td>\n",
       "      <td>916</td>\n",
       "      <td>2020-11-13</td>\n",
       "      <td>138.200</td>\n",
       "      <td>60</td>\n",
       "      <td>210000</td>\n",
       "    </tr>\n",
       "  </tbody>\n",
       "</table>\n",
       "</div>"
      ],
      "text/plain": [
       "       아파트     시도  시군구  읍면동      지번        거래일     전용면적   층    거래금액\n",
       "0     한남더힐  서울특별시  용산구  한남동     810 2020-04-27  240.305  -1  730000\n",
       "1     한남더힐  서울특별시  용산구  한남동     810 2020-09-04  243.642   1  775000\n",
       "2     한남더힐  서울특별시  용산구  한남동     810 2020-09-21  240.230   3  730000\n",
       "3     한남더힐  서울특별시  용산구  한남동     810 2020-11-09  241.052  -1  760000\n",
       "4     한남더힐  서울특별시  용산구  한남동     810 2020-12-31  240.305   2  710000\n",
       "5   타워팰리스3  서울특별시  강남구  도곡동  467-29 2020-05-11  185.622  63  350000\n",
       "6  현대하이페리온  서울특별시  양천구   목동     916 2020-07-03  154.050  66  240000\n",
       "7   타워팰리스3  서울특별시  강남구  도곡동  467-29 2020-07-25  235.740  67  542500\n",
       "8   타워팰리스3  서울특별시  강남구  도곡동  467-29 2020-10-27  185.622  66  380000\n",
       "9  현대하이페리온  서울특별시  양천구   목동     916 2020-11-13  138.200  60  210000"
      ]
     },
     "execution_count": 155,
     "metadata": {},
     "output_type": "execute_result"
    }
   ],
   "source": [
    "# 두 데이터프레임을 결합한 결과에서 인덱스명을 초기화합니다.\n",
    "pd.concat([df1, df2], ignore_index = True)"
   ]
  },
  {
   "cell_type": "code",
   "execution_count": 156,
   "id": "played-private",
   "metadata": {},
   "outputs": [],
   "source": [
    "# df2의 일부 컬럼명을 변경합니다.\n",
    "df2 = df2.rename(columns = {'아파트':'아파트명'})"
   ]
  },
  {
   "cell_type": "code",
   "execution_count": 157,
   "id": "restricted-breakfast",
   "metadata": {},
   "outputs": [
    {
     "data": {
      "text/html": [
       "<div>\n",
       "<style scoped>\n",
       "    .dataframe tbody tr th:only-of-type {\n",
       "        vertical-align: middle;\n",
       "    }\n",
       "\n",
       "    .dataframe tbody tr th {\n",
       "        vertical-align: top;\n",
       "    }\n",
       "\n",
       "    .dataframe thead th {\n",
       "        text-align: right;\n",
       "    }\n",
       "</style>\n",
       "<table border=\"1\" class=\"dataframe\">\n",
       "  <thead>\n",
       "    <tr style=\"text-align: right;\">\n",
       "      <th></th>\n",
       "      <th>아파트</th>\n",
       "      <th>시도</th>\n",
       "      <th>시군구</th>\n",
       "      <th>읍면동</th>\n",
       "      <th>지번</th>\n",
       "      <th>거래일</th>\n",
       "      <th>전용면적</th>\n",
       "      <th>층</th>\n",
       "      <th>거래금액</th>\n",
       "      <th>아파트명</th>\n",
       "    </tr>\n",
       "  </thead>\n",
       "  <tbody>\n",
       "    <tr>\n",
       "      <th>0</th>\n",
       "      <td>한남더힐</td>\n",
       "      <td>서울특별시</td>\n",
       "      <td>용산구</td>\n",
       "      <td>한남동</td>\n",
       "      <td>810</td>\n",
       "      <td>2020-04-27</td>\n",
       "      <td>240.305</td>\n",
       "      <td>-1</td>\n",
       "      <td>730000</td>\n",
       "      <td>NaN</td>\n",
       "    </tr>\n",
       "    <tr>\n",
       "      <th>1</th>\n",
       "      <td>한남더힐</td>\n",
       "      <td>서울특별시</td>\n",
       "      <td>용산구</td>\n",
       "      <td>한남동</td>\n",
       "      <td>810</td>\n",
       "      <td>2020-09-04</td>\n",
       "      <td>243.642</td>\n",
       "      <td>1</td>\n",
       "      <td>775000</td>\n",
       "      <td>NaN</td>\n",
       "    </tr>\n",
       "    <tr>\n",
       "      <th>2</th>\n",
       "      <td>한남더힐</td>\n",
       "      <td>서울특별시</td>\n",
       "      <td>용산구</td>\n",
       "      <td>한남동</td>\n",
       "      <td>810</td>\n",
       "      <td>2020-09-21</td>\n",
       "      <td>240.230</td>\n",
       "      <td>3</td>\n",
       "      <td>730000</td>\n",
       "      <td>NaN</td>\n",
       "    </tr>\n",
       "    <tr>\n",
       "      <th>3</th>\n",
       "      <td>한남더힐</td>\n",
       "      <td>서울특별시</td>\n",
       "      <td>용산구</td>\n",
       "      <td>한남동</td>\n",
       "      <td>810</td>\n",
       "      <td>2020-11-09</td>\n",
       "      <td>241.052</td>\n",
       "      <td>-1</td>\n",
       "      <td>760000</td>\n",
       "      <td>NaN</td>\n",
       "    </tr>\n",
       "    <tr>\n",
       "      <th>4</th>\n",
       "      <td>한남더힐</td>\n",
       "      <td>서울특별시</td>\n",
       "      <td>용산구</td>\n",
       "      <td>한남동</td>\n",
       "      <td>810</td>\n",
       "      <td>2020-12-31</td>\n",
       "      <td>240.305</td>\n",
       "      <td>2</td>\n",
       "      <td>710000</td>\n",
       "      <td>NaN</td>\n",
       "    </tr>\n",
       "    <tr>\n",
       "      <th>23700</th>\n",
       "      <td>NaN</td>\n",
       "      <td>서울특별시</td>\n",
       "      <td>강남구</td>\n",
       "      <td>도곡동</td>\n",
       "      <td>467-29</td>\n",
       "      <td>2020-05-11</td>\n",
       "      <td>185.622</td>\n",
       "      <td>63</td>\n",
       "      <td>350000</td>\n",
       "      <td>타워팰리스3</td>\n",
       "    </tr>\n",
       "    <tr>\n",
       "      <th>44541</th>\n",
       "      <td>NaN</td>\n",
       "      <td>서울특별시</td>\n",
       "      <td>양천구</td>\n",
       "      <td>목동</td>\n",
       "      <td>916</td>\n",
       "      <td>2020-07-03</td>\n",
       "      <td>154.050</td>\n",
       "      <td>66</td>\n",
       "      <td>240000</td>\n",
       "      <td>현대하이페리온</td>\n",
       "    </tr>\n",
       "    <tr>\n",
       "      <th>52607</th>\n",
       "      <td>NaN</td>\n",
       "      <td>서울특별시</td>\n",
       "      <td>강남구</td>\n",
       "      <td>도곡동</td>\n",
       "      <td>467-29</td>\n",
       "      <td>2020-07-25</td>\n",
       "      <td>235.740</td>\n",
       "      <td>67</td>\n",
       "      <td>542500</td>\n",
       "      <td>타워팰리스3</td>\n",
       "    </tr>\n",
       "    <tr>\n",
       "      <th>66396</th>\n",
       "      <td>NaN</td>\n",
       "      <td>서울특별시</td>\n",
       "      <td>강남구</td>\n",
       "      <td>도곡동</td>\n",
       "      <td>467-29</td>\n",
       "      <td>2020-10-27</td>\n",
       "      <td>185.622</td>\n",
       "      <td>66</td>\n",
       "      <td>380000</td>\n",
       "      <td>타워팰리스3</td>\n",
       "    </tr>\n",
       "    <tr>\n",
       "      <th>68998</th>\n",
       "      <td>NaN</td>\n",
       "      <td>서울특별시</td>\n",
       "      <td>양천구</td>\n",
       "      <td>목동</td>\n",
       "      <td>916</td>\n",
       "      <td>2020-11-13</td>\n",
       "      <td>138.200</td>\n",
       "      <td>60</td>\n",
       "      <td>210000</td>\n",
       "      <td>현대하이페리온</td>\n",
       "    </tr>\n",
       "  </tbody>\n",
       "</table>\n",
       "</div>"
      ],
      "text/plain": [
       "        아파트     시도  시군구  읍면동      지번        거래일     전용면적   층    거래금액     아파트명\n",
       "0      한남더힐  서울특별시  용산구  한남동     810 2020-04-27  240.305  -1  730000      NaN\n",
       "1      한남더힐  서울특별시  용산구  한남동     810 2020-09-04  243.642   1  775000      NaN\n",
       "2      한남더힐  서울특별시  용산구  한남동     810 2020-09-21  240.230   3  730000      NaN\n",
       "3      한남더힐  서울특별시  용산구  한남동     810 2020-11-09  241.052  -1  760000      NaN\n",
       "4      한남더힐  서울특별시  용산구  한남동     810 2020-12-31  240.305   2  710000      NaN\n",
       "23700   NaN  서울특별시  강남구  도곡동  467-29 2020-05-11  185.622  63  350000   타워팰리스3\n",
       "44541   NaN  서울특별시  양천구   목동     916 2020-07-03  154.050  66  240000  현대하이페리온\n",
       "52607   NaN  서울특별시  강남구  도곡동  467-29 2020-07-25  235.740  67  542500   타워팰리스3\n",
       "66396   NaN  서울특별시  강남구  도곡동  467-29 2020-10-27  185.622  66  380000   타워팰리스3\n",
       "68998   NaN  서울특별시  양천구   목동     916 2020-11-13  138.200  60  210000  현대하이페리온"
      ]
     },
     "execution_count": 157,
     "metadata": {},
     "output_type": "execute_result"
    }
   ],
   "source": [
    "# 컬럼명이 다른 df1과 df2를 세로 방향으로 결합한 결과를 반환합니다.\n",
    "pd.concat([df1, df2])"
   ]
  },
  {
   "cell_type": "code",
   "execution_count": 158,
   "id": "satisfied-garden",
   "metadata": {},
   "outputs": [
    {
     "data": {
      "text/html": [
       "<div>\n",
       "<style scoped>\n",
       "    .dataframe tbody tr th:only-of-type {\n",
       "        vertical-align: middle;\n",
       "    }\n",
       "\n",
       "    .dataframe tbody tr th {\n",
       "        vertical-align: top;\n",
       "    }\n",
       "\n",
       "    .dataframe thead th {\n",
       "        text-align: right;\n",
       "    }\n",
       "</style>\n",
       "<table border=\"1\" class=\"dataframe\">\n",
       "  <thead>\n",
       "    <tr style=\"text-align: right;\">\n",
       "      <th></th>\n",
       "      <th>아파트</th>\n",
       "      <th>시도</th>\n",
       "      <th>시군구</th>\n",
       "      <th>읍면동</th>\n",
       "      <th>지번</th>\n",
       "      <th>거래일</th>\n",
       "      <th>전용면적</th>\n",
       "      <th>층</th>\n",
       "      <th>거래금액</th>\n",
       "      <th>아파트명</th>\n",
       "      <th>시도</th>\n",
       "      <th>시군구</th>\n",
       "      <th>읍면동</th>\n",
       "      <th>지번</th>\n",
       "      <th>거래일</th>\n",
       "      <th>전용면적</th>\n",
       "      <th>층</th>\n",
       "      <th>거래금액</th>\n",
       "    </tr>\n",
       "  </thead>\n",
       "  <tbody>\n",
       "    <tr>\n",
       "      <th>0</th>\n",
       "      <td>한남더힐</td>\n",
       "      <td>서울특별시</td>\n",
       "      <td>용산구</td>\n",
       "      <td>한남동</td>\n",
       "      <td>810</td>\n",
       "      <td>2020-04-27</td>\n",
       "      <td>240.305</td>\n",
       "      <td>-1.0</td>\n",
       "      <td>730000.0</td>\n",
       "      <td>NaN</td>\n",
       "      <td>NaN</td>\n",
       "      <td>NaN</td>\n",
       "      <td>NaN</td>\n",
       "      <td>NaN</td>\n",
       "      <td>NaT</td>\n",
       "      <td>NaN</td>\n",
       "      <td>NaN</td>\n",
       "      <td>NaN</td>\n",
       "    </tr>\n",
       "    <tr>\n",
       "      <th>1</th>\n",
       "      <td>한남더힐</td>\n",
       "      <td>서울특별시</td>\n",
       "      <td>용산구</td>\n",
       "      <td>한남동</td>\n",
       "      <td>810</td>\n",
       "      <td>2020-09-04</td>\n",
       "      <td>243.642</td>\n",
       "      <td>1.0</td>\n",
       "      <td>775000.0</td>\n",
       "      <td>NaN</td>\n",
       "      <td>NaN</td>\n",
       "      <td>NaN</td>\n",
       "      <td>NaN</td>\n",
       "      <td>NaN</td>\n",
       "      <td>NaT</td>\n",
       "      <td>NaN</td>\n",
       "      <td>NaN</td>\n",
       "      <td>NaN</td>\n",
       "    </tr>\n",
       "    <tr>\n",
       "      <th>2</th>\n",
       "      <td>한남더힐</td>\n",
       "      <td>서울특별시</td>\n",
       "      <td>용산구</td>\n",
       "      <td>한남동</td>\n",
       "      <td>810</td>\n",
       "      <td>2020-09-21</td>\n",
       "      <td>240.230</td>\n",
       "      <td>3.0</td>\n",
       "      <td>730000.0</td>\n",
       "      <td>NaN</td>\n",
       "      <td>NaN</td>\n",
       "      <td>NaN</td>\n",
       "      <td>NaN</td>\n",
       "      <td>NaN</td>\n",
       "      <td>NaT</td>\n",
       "      <td>NaN</td>\n",
       "      <td>NaN</td>\n",
       "      <td>NaN</td>\n",
       "    </tr>\n",
       "    <tr>\n",
       "      <th>3</th>\n",
       "      <td>한남더힐</td>\n",
       "      <td>서울특별시</td>\n",
       "      <td>용산구</td>\n",
       "      <td>한남동</td>\n",
       "      <td>810</td>\n",
       "      <td>2020-11-09</td>\n",
       "      <td>241.052</td>\n",
       "      <td>-1.0</td>\n",
       "      <td>760000.0</td>\n",
       "      <td>NaN</td>\n",
       "      <td>NaN</td>\n",
       "      <td>NaN</td>\n",
       "      <td>NaN</td>\n",
       "      <td>NaN</td>\n",
       "      <td>NaT</td>\n",
       "      <td>NaN</td>\n",
       "      <td>NaN</td>\n",
       "      <td>NaN</td>\n",
       "    </tr>\n",
       "    <tr>\n",
       "      <th>4</th>\n",
       "      <td>한남더힐</td>\n",
       "      <td>서울특별시</td>\n",
       "      <td>용산구</td>\n",
       "      <td>한남동</td>\n",
       "      <td>810</td>\n",
       "      <td>2020-12-31</td>\n",
       "      <td>240.305</td>\n",
       "      <td>2.0</td>\n",
       "      <td>710000.0</td>\n",
       "      <td>NaN</td>\n",
       "      <td>NaN</td>\n",
       "      <td>NaN</td>\n",
       "      <td>NaN</td>\n",
       "      <td>NaN</td>\n",
       "      <td>NaT</td>\n",
       "      <td>NaN</td>\n",
       "      <td>NaN</td>\n",
       "      <td>NaN</td>\n",
       "    </tr>\n",
       "    <tr>\n",
       "      <th>23700</th>\n",
       "      <td>NaN</td>\n",
       "      <td>NaN</td>\n",
       "      <td>NaN</td>\n",
       "      <td>NaN</td>\n",
       "      <td>NaN</td>\n",
       "      <td>NaT</td>\n",
       "      <td>NaN</td>\n",
       "      <td>NaN</td>\n",
       "      <td>NaN</td>\n",
       "      <td>타워팰리스3</td>\n",
       "      <td>서울특별시</td>\n",
       "      <td>강남구</td>\n",
       "      <td>도곡동</td>\n",
       "      <td>467-29</td>\n",
       "      <td>2020-05-11</td>\n",
       "      <td>185.622</td>\n",
       "      <td>63.0</td>\n",
       "      <td>350000.0</td>\n",
       "    </tr>\n",
       "    <tr>\n",
       "      <th>44541</th>\n",
       "      <td>NaN</td>\n",
       "      <td>NaN</td>\n",
       "      <td>NaN</td>\n",
       "      <td>NaN</td>\n",
       "      <td>NaN</td>\n",
       "      <td>NaT</td>\n",
       "      <td>NaN</td>\n",
       "      <td>NaN</td>\n",
       "      <td>NaN</td>\n",
       "      <td>현대하이페리온</td>\n",
       "      <td>서울특별시</td>\n",
       "      <td>양천구</td>\n",
       "      <td>목동</td>\n",
       "      <td>916</td>\n",
       "      <td>2020-07-03</td>\n",
       "      <td>154.050</td>\n",
       "      <td>66.0</td>\n",
       "      <td>240000.0</td>\n",
       "    </tr>\n",
       "    <tr>\n",
       "      <th>52607</th>\n",
       "      <td>NaN</td>\n",
       "      <td>NaN</td>\n",
       "      <td>NaN</td>\n",
       "      <td>NaN</td>\n",
       "      <td>NaN</td>\n",
       "      <td>NaT</td>\n",
       "      <td>NaN</td>\n",
       "      <td>NaN</td>\n",
       "      <td>NaN</td>\n",
       "      <td>타워팰리스3</td>\n",
       "      <td>서울특별시</td>\n",
       "      <td>강남구</td>\n",
       "      <td>도곡동</td>\n",
       "      <td>467-29</td>\n",
       "      <td>2020-07-25</td>\n",
       "      <td>235.740</td>\n",
       "      <td>67.0</td>\n",
       "      <td>542500.0</td>\n",
       "    </tr>\n",
       "    <tr>\n",
       "      <th>66396</th>\n",
       "      <td>NaN</td>\n",
       "      <td>NaN</td>\n",
       "      <td>NaN</td>\n",
       "      <td>NaN</td>\n",
       "      <td>NaN</td>\n",
       "      <td>NaT</td>\n",
       "      <td>NaN</td>\n",
       "      <td>NaN</td>\n",
       "      <td>NaN</td>\n",
       "      <td>타워팰리스3</td>\n",
       "      <td>서울특별시</td>\n",
       "      <td>강남구</td>\n",
       "      <td>도곡동</td>\n",
       "      <td>467-29</td>\n",
       "      <td>2020-10-27</td>\n",
       "      <td>185.622</td>\n",
       "      <td>66.0</td>\n",
       "      <td>380000.0</td>\n",
       "    </tr>\n",
       "    <tr>\n",
       "      <th>68998</th>\n",
       "      <td>NaN</td>\n",
       "      <td>NaN</td>\n",
       "      <td>NaN</td>\n",
       "      <td>NaN</td>\n",
       "      <td>NaN</td>\n",
       "      <td>NaT</td>\n",
       "      <td>NaN</td>\n",
       "      <td>NaN</td>\n",
       "      <td>NaN</td>\n",
       "      <td>현대하이페리온</td>\n",
       "      <td>서울특별시</td>\n",
       "      <td>양천구</td>\n",
       "      <td>목동</td>\n",
       "      <td>916</td>\n",
       "      <td>2020-11-13</td>\n",
       "      <td>138.200</td>\n",
       "      <td>60.0</td>\n",
       "      <td>210000.0</td>\n",
       "    </tr>\n",
       "  </tbody>\n",
       "</table>\n",
       "</div>"
      ],
      "text/plain": [
       "        아파트     시도  시군구  읍면동   지번        거래일     전용면적    층      거래금액     아파트명  \\\n",
       "0      한남더힐  서울특별시  용산구  한남동  810 2020-04-27  240.305 -1.0  730000.0      NaN   \n",
       "1      한남더힐  서울특별시  용산구  한남동  810 2020-09-04  243.642  1.0  775000.0      NaN   \n",
       "2      한남더힐  서울특별시  용산구  한남동  810 2020-09-21  240.230  3.0  730000.0      NaN   \n",
       "3      한남더힐  서울특별시  용산구  한남동  810 2020-11-09  241.052 -1.0  760000.0      NaN   \n",
       "4      한남더힐  서울특별시  용산구  한남동  810 2020-12-31  240.305  2.0  710000.0      NaN   \n",
       "23700   NaN    NaN  NaN  NaN  NaN        NaT      NaN  NaN       NaN   타워팰리스3   \n",
       "44541   NaN    NaN  NaN  NaN  NaN        NaT      NaN  NaN       NaN  현대하이페리온   \n",
       "52607   NaN    NaN  NaN  NaN  NaN        NaT      NaN  NaN       NaN   타워팰리스3   \n",
       "66396   NaN    NaN  NaN  NaN  NaN        NaT      NaN  NaN       NaN   타워팰리스3   \n",
       "68998   NaN    NaN  NaN  NaN  NaN        NaT      NaN  NaN       NaN  현대하이페리온   \n",
       "\n",
       "          시도  시군구  읍면동      지번        거래일     전용면적     층      거래금액  \n",
       "0        NaN  NaN  NaN     NaN        NaT      NaN   NaN       NaN  \n",
       "1        NaN  NaN  NaN     NaN        NaT      NaN   NaN       NaN  \n",
       "2        NaN  NaN  NaN     NaN        NaT      NaN   NaN       NaN  \n",
       "3        NaN  NaN  NaN     NaN        NaT      NaN   NaN       NaN  \n",
       "4        NaN  NaN  NaN     NaN        NaT      NaN   NaN       NaN  \n",
       "23700  서울특별시  강남구  도곡동  467-29 2020-05-11  185.622  63.0  350000.0  \n",
       "44541  서울특별시  양천구   목동     916 2020-07-03  154.050  66.0  240000.0  \n",
       "52607  서울특별시  강남구  도곡동  467-29 2020-07-25  235.740  67.0  542500.0  \n",
       "66396  서울특별시  강남구  도곡동  467-29 2020-10-27  185.622  66.0  380000.0  \n",
       "68998  서울특별시  양천구   목동     916 2020-11-13  138.200  60.0  210000.0  "
      ]
     },
     "execution_count": 158,
     "metadata": {},
     "output_type": "execute_result"
    }
   ],
   "source": [
    "# 인덱스명이 다른 df1과 df2를 가로 방향으로 결합한 결과를 반환합니다.\n",
    "pd.concat([df1, df2], axis = 1)"
   ]
  },
  {
   "cell_type": "markdown",
   "id": "previous-spanish",
   "metadata": {},
   "source": [
    "### 외래키 확인 및 전처리"
   ]
  },
  {
   "cell_type": "code",
   "execution_count": 159,
   "id": "occupational-numbers",
   "metadata": {},
   "outputs": [
    {
     "data": {
      "text/plain": [
       "{'지번주소'}"
      ]
     },
     "execution_count": 159,
     "metadata": {},
     "output_type": "execute_result"
    }
   ],
   "source": [
    "# 가격 데이터와 상세정보 데이터에서 일치하는 컬럼명을 찾습니다.\n",
    "set(price.columns) & set(detail.columns)"
   ]
  },
  {
   "cell_type": "code",
   "execution_count": 160,
   "id": "musical-isolation",
   "metadata": {},
   "outputs": [
    {
     "data": {
      "text/plain": [
       "0        서울특별시 성동구 하왕십리동 1066\n",
       "1           서울특별시 성동구 행당동 377\n",
       "2          서울특별시 동대문구 답십리동 80\n",
       "3        서울특별시 동대문구 장안동 344-2\n",
       "4          서울특별시 중랑구 면목동 1516\n",
       "                 ...         \n",
       "80729       서울특별시 강동구 암사동 413\n",
       "80730       서울특별시 강동구 성내동 599\n",
       "80731        서울특별시 강동구 천호동 44\n",
       "80732       서울특별시 강동구 강일동 673\n",
       "80733       서울특별시 강동구 강일동 699\n",
       "Name: 지번주소, Length: 80709, dtype: object"
      ]
     },
     "execution_count": 160,
     "metadata": {},
     "output_type": "execute_result"
    }
   ],
   "source": [
    "# 가격 데이터의 지번주소를 출력합니다.\n",
    "price['지번주소']"
   ]
  },
  {
   "cell_type": "code",
   "execution_count": 161,
   "id": "together-hungarian",
   "metadata": {},
   "outputs": [
    {
     "data": {
      "text/plain": [
       "0       서울 광진구 자양동 680-14\n",
       "1        서울 노원구 공릉동 670-7\n",
       "2       서울 송파구 가락동 177-10\n",
       "3        서울 송파구 가락동 141-7\n",
       "4         서울 송파구 가락동 95-1\n",
       "              ...        \n",
       "9140    서울 관악구 봉천동 912-14\n",
       "9141    서울 광진구 자양동 663-21\n",
       "9142    서울 중랑구 상봉동 102-42\n",
       "9143    서울 중랑구 상봉동 102-30\n",
       "9144    서울 은평구 대조동 186-44\n",
       "Name: 지번주소, Length: 9145, dtype: object"
      ]
     },
     "execution_count": 161,
     "metadata": {},
     "output_type": "execute_result"
    }
   ],
   "source": [
    "# 상세정보 데이터의 지번주소를 출력합니다.\n",
    "detail['지번주소']"
   ]
  },
  {
   "cell_type": "code",
   "execution_count": 162,
   "id": "yellow-crawford",
   "metadata": {},
   "outputs": [],
   "source": [
    "# 가격 데이터의 지번주소에서 '특별시'를 삭제합니다.\n",
    "price['지번주소'] = price['지번주소'].str.replace('특별시', '')"
   ]
  },
  {
   "cell_type": "code",
   "execution_count": 163,
   "id": "forty-cherry",
   "metadata": {},
   "outputs": [
    {
     "data": {
      "text/plain": [
       "0        서울 성동구 하왕십리동 1066\n",
       "1           서울 성동구 행당동 377\n",
       "2          서울 동대문구 답십리동 80\n",
       "3        서울 동대문구 장안동 344-2\n",
       "4          서울 중랑구 면목동 1516\n",
       "               ...        \n",
       "80729       서울 강동구 암사동 413\n",
       "80730       서울 강동구 성내동 599\n",
       "80731        서울 강동구 천호동 44\n",
       "80732       서울 강동구 강일동 673\n",
       "80733       서울 강동구 강일동 699\n",
       "Name: 지번주소, Length: 80709, dtype: object"
      ]
     },
     "execution_count": 163,
     "metadata": {},
     "output_type": "execute_result"
    }
   ],
   "source": [
    "# 가격 데이터의 지번주소를 다시 출력합니다.\n",
    "price['지번주소']"
   ]
  },
  {
   "cell_type": "markdown",
   "id": "vulnerable-teaching",
   "metadata": {},
   "source": [
    "### 데이터프레임 중복 확인 및 제거"
   ]
  },
  {
   "cell_type": "code",
   "execution_count": 164,
   "id": "spiritual-landing",
   "metadata": {},
   "outputs": [
    {
     "data": {
      "text/plain": [
       "25"
      ]
     },
     "execution_count": 164,
     "metadata": {},
     "output_type": "execute_result"
    }
   ],
   "source": [
    "# 상세정보 데이터에서 지번주소 컬럼의 중복 건수를 출력합니다.\n",
    "detail.duplicated(['지번주소']).sum()"
   ]
  },
  {
   "cell_type": "code",
   "execution_count": 165,
   "id": "unauthorized-vision",
   "metadata": {},
   "outputs": [
    {
     "name": "stdout",
     "output_type": "stream",
     "text": [
      "0       False\n",
      "1       False\n",
      "2       False\n",
      "3       False\n",
      "4       False\n",
      "        ...  \n",
      "9140    False\n",
      "9141    False\n",
      "9142    False\n",
      "9143    False\n",
      "9144    False\n",
      "Length: 9145, dtype: bool\n"
     ]
    }
   ],
   "source": [
    "# 지번주소 컬럼이 중복인 인덱스를 추출합니다.\n",
    "dup = detail.duplicated(['지번주소'], keep = False)\n",
    "print(dup)"
   ]
  },
  {
   "cell_type": "code",
   "execution_count": 166,
   "id": "hawaiian-subscriber",
   "metadata": {},
   "outputs": [
    {
     "data": {
      "text/html": [
       "<div>\n",
       "<style scoped>\n",
       "    .dataframe tbody tr th:only-of-type {\n",
       "        vertical-align: middle;\n",
       "    }\n",
       "\n",
       "    .dataframe tbody tr th {\n",
       "        vertical-align: top;\n",
       "    }\n",
       "\n",
       "    .dataframe thead th {\n",
       "        text-align: right;\n",
       "    }\n",
       "</style>\n",
       "<table border=\"1\" class=\"dataframe\">\n",
       "  <thead>\n",
       "    <tr style=\"text-align: right;\">\n",
       "      <th></th>\n",
       "      <th>ID</th>\n",
       "      <th>아파트명</th>\n",
       "      <th>지번주소</th>\n",
       "      <th>세대수</th>\n",
       "      <th>임대수</th>\n",
       "      <th>동수</th>\n",
       "      <th>용적률</th>\n",
       "      <th>건폐율</th>\n",
       "      <th>주차대수</th>\n",
       "    </tr>\n",
       "  </thead>\n",
       "  <tbody>\n",
       "    <tr>\n",
       "      <th>199</th>\n",
       "      <td>1303</td>\n",
       "      <td>개포주공6단지</td>\n",
       "      <td>서울 강남구 개포동 185</td>\n",
       "      <td>1060</td>\n",
       "      <td>0</td>\n",
       "      <td>9</td>\n",
       "      <td>0</td>\n",
       "      <td>0</td>\n",
       "      <td>300</td>\n",
       "    </tr>\n",
       "    <tr>\n",
       "      <th>200</th>\n",
       "      <td>1307</td>\n",
       "      <td>개포주공7단지</td>\n",
       "      <td>서울 강남구 개포동 185</td>\n",
       "      <td>900</td>\n",
       "      <td>0</td>\n",
       "      <td>8</td>\n",
       "      <td>0</td>\n",
       "      <td>0</td>\n",
       "      <td>400</td>\n",
       "    </tr>\n",
       "    <tr>\n",
       "      <th>555</th>\n",
       "      <td>67</td>\n",
       "      <td>광장극동2차</td>\n",
       "      <td>서울 광진구 광장동 218-1</td>\n",
       "      <td>896</td>\n",
       "      <td>0</td>\n",
       "      <td>11</td>\n",
       "      <td>0</td>\n",
       "      <td>0</td>\n",
       "      <td>896</td>\n",
       "    </tr>\n",
       "    <tr>\n",
       "      <th>719</th>\n",
       "      <td>374</td>\n",
       "      <td>극동</td>\n",
       "      <td>서울 동작구 사당동 105</td>\n",
       "      <td>1550</td>\n",
       "      <td>0</td>\n",
       "      <td>12</td>\n",
       "      <td>248</td>\n",
       "      <td>18</td>\n",
       "      <td>981</td>\n",
       "    </tr>\n",
       "    <tr>\n",
       "      <th>726</th>\n",
       "      <td>66</td>\n",
       "      <td>극동1차</td>\n",
       "      <td>서울 광진구 광장동 218-1</td>\n",
       "      <td>448</td>\n",
       "      <td>0</td>\n",
       "      <td>5</td>\n",
       "      <td>204</td>\n",
       "      <td>0</td>\n",
       "      <td>500</td>\n",
       "    </tr>\n",
       "    <tr>\n",
       "      <th>991</th>\n",
       "      <td>123685</td>\n",
       "      <td>노들리안3</td>\n",
       "      <td>서울 관악구 봉천동 1667-13</td>\n",
       "      <td>1</td>\n",
       "      <td>0</td>\n",
       "      <td>1</td>\n",
       "      <td>408</td>\n",
       "      <td>52</td>\n",
       "      <td>0</td>\n",
       "    </tr>\n",
       "    <tr>\n",
       "      <th>992</th>\n",
       "      <td>123686</td>\n",
       "      <td>노들리안3(도시형)</td>\n",
       "      <td>서울 관악구 봉천동 1667-13</td>\n",
       "      <td>21</td>\n",
       "      <td>0</td>\n",
       "      <td>1</td>\n",
       "      <td>408</td>\n",
       "      <td>52</td>\n",
       "      <td>11</td>\n",
       "    </tr>\n",
       "    <tr>\n",
       "      <th>1515</th>\n",
       "      <td>419</td>\n",
       "      <td>대청</td>\n",
       "      <td>서울 강남구 개포동 12</td>\n",
       "      <td>822</td>\n",
       "      <td>0</td>\n",
       "      <td>6</td>\n",
       "      <td>0</td>\n",
       "      <td>0</td>\n",
       "      <td>700</td>\n",
       "    </tr>\n",
       "    <tr>\n",
       "      <th>1516</th>\n",
       "      <td>483</td>\n",
       "      <td>대치2단지</td>\n",
       "      <td>서울 강남구 개포동 12</td>\n",
       "      <td>1758</td>\n",
       "      <td>0</td>\n",
       "      <td>11</td>\n",
       "      <td>174</td>\n",
       "      <td>12</td>\n",
       "      <td>1758</td>\n",
       "    </tr>\n",
       "    <tr>\n",
       "      <th>1589</th>\n",
       "      <td>132163</td>\n",
       "      <td>더스타일하우스디센트럴</td>\n",
       "      <td>서울 서대문구 충정로3가 480</td>\n",
       "      <td>199</td>\n",
       "      <td>199</td>\n",
       "      <td>2</td>\n",
       "      <td>464</td>\n",
       "      <td>53</td>\n",
       "      <td>137</td>\n",
       "    </tr>\n",
       "    <tr>\n",
       "      <th>1590</th>\n",
       "      <td>132162</td>\n",
       "      <td>더스타일하우스디센트럴(도시형)</td>\n",
       "      <td>서울 서대문구 충정로3가 480</td>\n",
       "      <td>300</td>\n",
       "      <td>300</td>\n",
       "      <td>2</td>\n",
       "      <td>464</td>\n",
       "      <td>53</td>\n",
       "      <td>115</td>\n",
       "    </tr>\n",
       "    <tr>\n",
       "      <th>2251</th>\n",
       "      <td>107916</td>\n",
       "      <td>래미안대치팰리스1단지</td>\n",
       "      <td>서울 강남구 대치동 1027</td>\n",
       "      <td>1278</td>\n",
       "      <td>20</td>\n",
       "      <td>13</td>\n",
       "      <td>258</td>\n",
       "      <td>15</td>\n",
       "      <td>2478</td>\n",
       "    </tr>\n",
       "    <tr>\n",
       "      <th>2252</th>\n",
       "      <td>107917</td>\n",
       "      <td>래미안대치팰리스2단지</td>\n",
       "      <td>서울 강남구 대치동 1027</td>\n",
       "      <td>330</td>\n",
       "      <td>20</td>\n",
       "      <td>4</td>\n",
       "      <td>258</td>\n",
       "      <td>15</td>\n",
       "      <td>601</td>\n",
       "    </tr>\n",
       "    <tr>\n",
       "      <th>2660</th>\n",
       "      <td>119076</td>\n",
       "      <td>만연샌텀시티</td>\n",
       "      <td>서울 은평구 갈현동 456-8</td>\n",
       "      <td>1</td>\n",
       "      <td>0</td>\n",
       "      <td>1</td>\n",
       "      <td>430</td>\n",
       "      <td>51</td>\n",
       "      <td>0</td>\n",
       "    </tr>\n",
       "    <tr>\n",
       "      <th>2661</th>\n",
       "      <td>119075</td>\n",
       "      <td>만연샌텀시티(도시형)</td>\n",
       "      <td>서울 은평구 갈현동 456-8</td>\n",
       "      <td>18</td>\n",
       "      <td>0</td>\n",
       "      <td>1</td>\n",
       "      <td>430</td>\n",
       "      <td>51</td>\n",
       "      <td>4</td>\n",
       "    </tr>\n",
       "    <tr>\n",
       "      <th>3006</th>\n",
       "      <td>133402</td>\n",
       "      <td>미사아름채</td>\n",
       "      <td>서울 강동구 천호동 452-15</td>\n",
       "      <td>1</td>\n",
       "      <td>0</td>\n",
       "      <td>1</td>\n",
       "      <td>553</td>\n",
       "      <td>59</td>\n",
       "      <td>0</td>\n",
       "    </tr>\n",
       "    <tr>\n",
       "      <th>3007</th>\n",
       "      <td>133403</td>\n",
       "      <td>미사아름채(도시형)</td>\n",
       "      <td>서울 강동구 천호동 452-15</td>\n",
       "      <td>130</td>\n",
       "      <td>0</td>\n",
       "      <td>1</td>\n",
       "      <td>553</td>\n",
       "      <td>59</td>\n",
       "      <td>65</td>\n",
       "    </tr>\n",
       "    <tr>\n",
       "      <th>3013</th>\n",
       "      <td>620</td>\n",
       "      <td>미성</td>\n",
       "      <td>서울 송파구 신천동 17-6</td>\n",
       "      <td>1230</td>\n",
       "      <td>0</td>\n",
       "      <td>9</td>\n",
       "      <td>0</td>\n",
       "      <td>0</td>\n",
       "      <td>2091</td>\n",
       "    </tr>\n",
       "    <tr>\n",
       "      <th>3575</th>\n",
       "      <td>380</td>\n",
       "      <td>사당우성2단지</td>\n",
       "      <td>서울 동작구 사당동 105</td>\n",
       "      <td>1079</td>\n",
       "      <td>0</td>\n",
       "      <td>8</td>\n",
       "      <td>248</td>\n",
       "      <td>18</td>\n",
       "      <td>1299</td>\n",
       "    </tr>\n",
       "    <tr>\n",
       "      <th>3576</th>\n",
       "      <td>381</td>\n",
       "      <td>사당우성3단지</td>\n",
       "      <td>서울 동작구 사당동 105</td>\n",
       "      <td>855</td>\n",
       "      <td>0</td>\n",
       "      <td>6</td>\n",
       "      <td>0</td>\n",
       "      <td>0</td>\n",
       "      <td>1710</td>\n",
       "    </tr>\n",
       "    <tr>\n",
       "      <th>4992</th>\n",
       "      <td>378</td>\n",
       "      <td>신동아4차</td>\n",
       "      <td>서울 동작구 사당동 105</td>\n",
       "      <td>912</td>\n",
       "      <td>0</td>\n",
       "      <td>8</td>\n",
       "      <td>0</td>\n",
       "      <td>0</td>\n",
       "      <td>912</td>\n",
       "    </tr>\n",
       "    <tr>\n",
       "      <th>5315</th>\n",
       "      <td>119123</td>\n",
       "      <td>씨즈건대힐스</td>\n",
       "      <td>서울 광진구 화양동 530</td>\n",
       "      <td>1</td>\n",
       "      <td>0</td>\n",
       "      <td>1</td>\n",
       "      <td>249</td>\n",
       "      <td>36</td>\n",
       "      <td>1</td>\n",
       "    </tr>\n",
       "    <tr>\n",
       "      <th>5316</th>\n",
       "      <td>116717</td>\n",
       "      <td>씨즈건대힐스(도시형)</td>\n",
       "      <td>서울 광진구 화양동 530</td>\n",
       "      <td>148</td>\n",
       "      <td>0</td>\n",
       "      <td>1</td>\n",
       "      <td>249</td>\n",
       "      <td>36</td>\n",
       "      <td>74</td>\n",
       "    </tr>\n",
       "    <tr>\n",
       "      <th>6761</th>\n",
       "      <td>3754</td>\n",
       "      <td>장미2차</td>\n",
       "      <td>서울 송파구 신천동 11</td>\n",
       "      <td>1302</td>\n",
       "      <td>0</td>\n",
       "      <td>10</td>\n",
       "      <td>0</td>\n",
       "      <td>0</td>\n",
       "      <td>1302</td>\n",
       "    </tr>\n",
       "    <tr>\n",
       "      <th>6762</th>\n",
       "      <td>622</td>\n",
       "      <td>장미3차</td>\n",
       "      <td>서울 송파구 신천동 11</td>\n",
       "      <td>120</td>\n",
       "      <td>0</td>\n",
       "      <td>2</td>\n",
       "      <td>0</td>\n",
       "      <td>0</td>\n",
       "      <td>0</td>\n",
       "    </tr>\n",
       "    <tr>\n",
       "      <th>6896</th>\n",
       "      <td>109134</td>\n",
       "      <td>제이드파크(도시형)</td>\n",
       "      <td>서울 동대문구 장안동 382-2</td>\n",
       "      <td>28</td>\n",
       "      <td>0</td>\n",
       "      <td>1</td>\n",
       "      <td>489</td>\n",
       "      <td>59</td>\n",
       "      <td>14</td>\n",
       "    </tr>\n",
       "    <tr>\n",
       "      <th>6897</th>\n",
       "      <td>109130</td>\n",
       "      <td>제이드파크(아)</td>\n",
       "      <td>서울 동대문구 장안동 382-2</td>\n",
       "      <td>12</td>\n",
       "      <td>0</td>\n",
       "      <td>1</td>\n",
       "      <td>489</td>\n",
       "      <td>59</td>\n",
       "      <td>6</td>\n",
       "    </tr>\n",
       "    <tr>\n",
       "      <th>6975</th>\n",
       "      <td>3379</td>\n",
       "      <td>주공1단지</td>\n",
       "      <td>서울 동대문구 휘경동 57</td>\n",
       "      <td>1224</td>\n",
       "      <td>0</td>\n",
       "      <td>13</td>\n",
       "      <td>257</td>\n",
       "      <td>20</td>\n",
       "      <td>2513</td>\n",
       "    </tr>\n",
       "    <tr>\n",
       "      <th>6976</th>\n",
       "      <td>100207</td>\n",
       "      <td>주공2단지</td>\n",
       "      <td>서울 동대문구 휘경동 57</td>\n",
       "      <td>800</td>\n",
       "      <td>0</td>\n",
       "      <td>7</td>\n",
       "      <td>0</td>\n",
       "      <td>0</td>\n",
       "      <td>1200</td>\n",
       "    </tr>\n",
       "    <tr>\n",
       "      <th>6977</th>\n",
       "      <td>902</td>\n",
       "      <td>주공고층3단지</td>\n",
       "      <td>서울 강동구 둔촌동 174-1</td>\n",
       "      <td>1480</td>\n",
       "      <td>0</td>\n",
       "      <td>25</td>\n",
       "      <td>0</td>\n",
       "      <td>0</td>\n",
       "      <td>1468</td>\n",
       "    </tr>\n",
       "    <tr>\n",
       "      <th>6980</th>\n",
       "      <td>901</td>\n",
       "      <td>주공저층2단지</td>\n",
       "      <td>서울 강동구 둔촌동 174-1</td>\n",
       "      <td>900</td>\n",
       "      <td>0</td>\n",
       "      <td>36</td>\n",
       "      <td>0</td>\n",
       "      <td>0</td>\n",
       "      <td>630</td>\n",
       "    </tr>\n",
       "    <tr>\n",
       "      <th>7298</th>\n",
       "      <td>25841</td>\n",
       "      <td>청구(284)</td>\n",
       "      <td>서울 노원구 하계동 284</td>\n",
       "      <td>660</td>\n",
       "      <td>0</td>\n",
       "      <td>5</td>\n",
       "      <td>214</td>\n",
       "      <td>15</td>\n",
       "      <td>330</td>\n",
       "    </tr>\n",
       "    <tr>\n",
       "      <th>7589</th>\n",
       "      <td>1284</td>\n",
       "      <td>크로바</td>\n",
       "      <td>서울 송파구 신천동 17-6</td>\n",
       "      <td>120</td>\n",
       "      <td>0</td>\n",
       "      <td>2</td>\n",
       "      <td>0</td>\n",
       "      <td>0</td>\n",
       "      <td>264</td>\n",
       "    </tr>\n",
       "    <tr>\n",
       "      <th>7741</th>\n",
       "      <td>123905</td>\n",
       "      <td>테라팰리스건대2차</td>\n",
       "      <td>서울 광진구 자양동 860</td>\n",
       "      <td>68</td>\n",
       "      <td>0</td>\n",
       "      <td>1</td>\n",
       "      <td>249</td>\n",
       "      <td>31</td>\n",
       "      <td>72</td>\n",
       "    </tr>\n",
       "    <tr>\n",
       "      <th>7742</th>\n",
       "      <td>123902</td>\n",
       "      <td>테라팰리스건대2차(도시형)</td>\n",
       "      <td>서울 광진구 자양동 860</td>\n",
       "      <td>10</td>\n",
       "      <td>0</td>\n",
       "      <td>1</td>\n",
       "      <td>249</td>\n",
       "      <td>31</td>\n",
       "      <td>8</td>\n",
       "    </tr>\n",
       "    <tr>\n",
       "      <th>7984</th>\n",
       "      <td>110384</td>\n",
       "      <td>하나세인스톤2차</td>\n",
       "      <td>서울 구로구 구로동 97-4</td>\n",
       "      <td>9</td>\n",
       "      <td>0</td>\n",
       "      <td>1</td>\n",
       "      <td>776</td>\n",
       "      <td>57</td>\n",
       "      <td>3</td>\n",
       "    </tr>\n",
       "    <tr>\n",
       "      <th>7985</th>\n",
       "      <td>102801</td>\n",
       "      <td>하나세인스톤2차(도시형)</td>\n",
       "      <td>서울 구로구 구로동 97-4</td>\n",
       "      <td>91</td>\n",
       "      <td>0</td>\n",
       "      <td>1</td>\n",
       "      <td>766</td>\n",
       "      <td>57</td>\n",
       "      <td>35</td>\n",
       "    </tr>\n",
       "    <tr>\n",
       "      <th>8119</th>\n",
       "      <td>109492</td>\n",
       "      <td>한남아이파크</td>\n",
       "      <td>서울 용산구 한남동 828</td>\n",
       "      <td>10</td>\n",
       "      <td>0</td>\n",
       "      <td>1</td>\n",
       "      <td>787</td>\n",
       "      <td>58</td>\n",
       "      <td>8</td>\n",
       "    </tr>\n",
       "    <tr>\n",
       "      <th>8120</th>\n",
       "      <td>109469</td>\n",
       "      <td>한남아이파크(도시형)</td>\n",
       "      <td>서울 용산구 한남동 828</td>\n",
       "      <td>270</td>\n",
       "      <td>0</td>\n",
       "      <td>1</td>\n",
       "      <td>787</td>\n",
       "      <td>58</td>\n",
       "      <td>240</td>\n",
       "    </tr>\n",
       "    <tr>\n",
       "      <th>8222</th>\n",
       "      <td>263</td>\n",
       "      <td>한신</td>\n",
       "      <td>서울 노원구 하계동 284</td>\n",
       "      <td>1200</td>\n",
       "      <td>0</td>\n",
       "      <td>4</td>\n",
       "      <td>214</td>\n",
       "      <td>15</td>\n",
       "      <td>840</td>\n",
       "    </tr>\n",
       "    <tr>\n",
       "      <th>8544</th>\n",
       "      <td>724</td>\n",
       "      <td>현대6,7차</td>\n",
       "      <td>서울 강남구 압구정동 456</td>\n",
       "      <td>1288</td>\n",
       "      <td>0</td>\n",
       "      <td>15</td>\n",
       "      <td>210</td>\n",
       "      <td>16</td>\n",
       "      <td>1120</td>\n",
       "    </tr>\n",
       "    <tr>\n",
       "      <th>8545</th>\n",
       "      <td>27498</td>\n",
       "      <td>현대65동(대림아크로빌)</td>\n",
       "      <td>서울 강남구 압구정동 456</td>\n",
       "      <td>56</td>\n",
       "      <td>0</td>\n",
       "      <td>1</td>\n",
       "      <td>240</td>\n",
       "      <td>20</td>\n",
       "      <td>89</td>\n",
       "    </tr>\n",
       "    <tr>\n",
       "      <th>8810</th>\n",
       "      <td>105912</td>\n",
       "      <td>화양타워(도시형)</td>\n",
       "      <td>서울 광진구 화양동 110-37</td>\n",
       "      <td>54</td>\n",
       "      <td>0</td>\n",
       "      <td>1</td>\n",
       "      <td>489</td>\n",
       "      <td>73</td>\n",
       "      <td>137</td>\n",
       "    </tr>\n",
       "    <tr>\n",
       "      <th>8811</th>\n",
       "      <td>14620</td>\n",
       "      <td>화양타워(아)</td>\n",
       "      <td>서울 광진구 화양동 110-37</td>\n",
       "      <td>38</td>\n",
       "      <td>0</td>\n",
       "      <td>1</td>\n",
       "      <td>489</td>\n",
       "      <td>59</td>\n",
       "      <td>37</td>\n",
       "    </tr>\n",
       "    <tr>\n",
       "      <th>8876</th>\n",
       "      <td>126357</td>\n",
       "      <td>훼미리타운</td>\n",
       "      <td>서울 서초구 방배동 932-34</td>\n",
       "      <td>1</td>\n",
       "      <td>0</td>\n",
       "      <td>1</td>\n",
       "      <td>198</td>\n",
       "      <td>43</td>\n",
       "      <td>0</td>\n",
       "    </tr>\n",
       "    <tr>\n",
       "      <th>8877</th>\n",
       "      <td>106897</td>\n",
       "      <td>훼미리타운(도시형)</td>\n",
       "      <td>서울 서초구 방배동 932-34</td>\n",
       "      <td>27</td>\n",
       "      <td>0</td>\n",
       "      <td>1</td>\n",
       "      <td>198</td>\n",
       "      <td>43</td>\n",
       "      <td>19</td>\n",
       "    </tr>\n",
       "    <tr>\n",
       "      <th>9085</th>\n",
       "      <td>25418</td>\n",
       "      <td>MY</td>\n",
       "      <td>서울 광진구 구의동 251-1</td>\n",
       "      <td>1</td>\n",
       "      <td>0</td>\n",
       "      <td>1</td>\n",
       "      <td>199</td>\n",
       "      <td>59</td>\n",
       "      <td>0</td>\n",
       "    </tr>\n",
       "    <tr>\n",
       "      <th>9086</th>\n",
       "      <td>120820</td>\n",
       "      <td>MY(도시형)</td>\n",
       "      <td>서울 광진구 구의동 251-1</td>\n",
       "      <td>12</td>\n",
       "      <td>0</td>\n",
       "      <td>1</td>\n",
       "      <td>199</td>\n",
       "      <td>59</td>\n",
       "      <td>4</td>\n",
       "    </tr>\n",
       "  </tbody>\n",
       "</table>\n",
       "</div>"
      ],
      "text/plain": [
       "          ID              아파트명                지번주소   세대수  임대수  동수  용적률  건폐율  \\\n",
       "199     1303           개포주공6단지      서울 강남구 개포동 185  1060    0   9    0    0   \n",
       "200     1307           개포주공7단지      서울 강남구 개포동 185   900    0   8    0    0   \n",
       "555       67            광장극동2차    서울 광진구 광장동 218-1   896    0  11    0    0   \n",
       "719      374                극동      서울 동작구 사당동 105  1550    0  12  248   18   \n",
       "726       66              극동1차    서울 광진구 광장동 218-1   448    0   5  204    0   \n",
       "991   123685             노들리안3  서울 관악구 봉천동 1667-13     1    0   1  408   52   \n",
       "992   123686        노들리안3(도시형)  서울 관악구 봉천동 1667-13    21    0   1  408   52   \n",
       "1515     419                대청       서울 강남구 개포동 12   822    0   6    0    0   \n",
       "1516     483             대치2단지       서울 강남구 개포동 12  1758    0  11  174   12   \n",
       "1589  132163       더스타일하우스디센트럴   서울 서대문구 충정로3가 480   199  199   2  464   53   \n",
       "1590  132162  더스타일하우스디센트럴(도시형)   서울 서대문구 충정로3가 480   300  300   2  464   53   \n",
       "2251  107916       래미안대치팰리스1단지     서울 강남구 대치동 1027  1278   20  13  258   15   \n",
       "2252  107917       래미안대치팰리스2단지     서울 강남구 대치동 1027   330   20   4  258   15   \n",
       "2660  119076            만연샌텀시티    서울 은평구 갈현동 456-8     1    0   1  430   51   \n",
       "2661  119075       만연샌텀시티(도시형)    서울 은평구 갈현동 456-8    18    0   1  430   51   \n",
       "3006  133402             미사아름채   서울 강동구 천호동 452-15     1    0   1  553   59   \n",
       "3007  133403        미사아름채(도시형)   서울 강동구 천호동 452-15   130    0   1  553   59   \n",
       "3013     620                미성     서울 송파구 신천동 17-6  1230    0   9    0    0   \n",
       "3575     380           사당우성2단지      서울 동작구 사당동 105  1079    0   8  248   18   \n",
       "3576     381           사당우성3단지      서울 동작구 사당동 105   855    0   6    0    0   \n",
       "4992     378             신동아4차      서울 동작구 사당동 105   912    0   8    0    0   \n",
       "5315  119123            씨즈건대힐스      서울 광진구 화양동 530     1    0   1  249   36   \n",
       "5316  116717       씨즈건대힐스(도시형)      서울 광진구 화양동 530   148    0   1  249   36   \n",
       "6761    3754              장미2차       서울 송파구 신천동 11  1302    0  10    0    0   \n",
       "6762     622              장미3차       서울 송파구 신천동 11   120    0   2    0    0   \n",
       "6896  109134        제이드파크(도시형)   서울 동대문구 장안동 382-2    28    0   1  489   59   \n",
       "6897  109130          제이드파크(아)   서울 동대문구 장안동 382-2    12    0   1  489   59   \n",
       "6975    3379             주공1단지      서울 동대문구 휘경동 57  1224    0  13  257   20   \n",
       "6976  100207             주공2단지      서울 동대문구 휘경동 57   800    0   7    0    0   \n",
       "6977     902           주공고층3단지    서울 강동구 둔촌동 174-1  1480    0  25    0    0   \n",
       "6980     901           주공저층2단지    서울 강동구 둔촌동 174-1   900    0  36    0    0   \n",
       "7298   25841           청구(284)      서울 노원구 하계동 284   660    0   5  214   15   \n",
       "7589    1284               크로바     서울 송파구 신천동 17-6   120    0   2    0    0   \n",
       "7741  123905         테라팰리스건대2차      서울 광진구 자양동 860    68    0   1  249   31   \n",
       "7742  123902    테라팰리스건대2차(도시형)      서울 광진구 자양동 860    10    0   1  249   31   \n",
       "7984  110384          하나세인스톤2차     서울 구로구 구로동 97-4     9    0   1  776   57   \n",
       "7985  102801     하나세인스톤2차(도시형)     서울 구로구 구로동 97-4    91    0   1  766   57   \n",
       "8119  109492            한남아이파크      서울 용산구 한남동 828    10    0   1  787   58   \n",
       "8120  109469       한남아이파크(도시형)      서울 용산구 한남동 828   270    0   1  787   58   \n",
       "8222     263                한신      서울 노원구 하계동 284  1200    0   4  214   15   \n",
       "8544     724            현대6,7차     서울 강남구 압구정동 456  1288    0  15  210   16   \n",
       "8545   27498     현대65동(대림아크로빌)     서울 강남구 압구정동 456    56    0   1  240   20   \n",
       "8810  105912         화양타워(도시형)   서울 광진구 화양동 110-37    54    0   1  489   73   \n",
       "8811   14620           화양타워(아)   서울 광진구 화양동 110-37    38    0   1  489   59   \n",
       "8876  126357             훼미리타운   서울 서초구 방배동 932-34     1    0   1  198   43   \n",
       "8877  106897        훼미리타운(도시형)   서울 서초구 방배동 932-34    27    0   1  198   43   \n",
       "9085   25418                MY    서울 광진구 구의동 251-1     1    0   1  199   59   \n",
       "9086  120820           MY(도시형)    서울 광진구 구의동 251-1    12    0   1  199   59   \n",
       "\n",
       "      주차대수  \n",
       "199    300  \n",
       "200    400  \n",
       "555    896  \n",
       "719    981  \n",
       "726    500  \n",
       "991      0  \n",
       "992     11  \n",
       "1515   700  \n",
       "1516  1758  \n",
       "1589   137  \n",
       "1590   115  \n",
       "2251  2478  \n",
       "2252   601  \n",
       "2660     0  \n",
       "2661     4  \n",
       "3006     0  \n",
       "3007    65  \n",
       "3013  2091  \n",
       "3575  1299  \n",
       "3576  1710  \n",
       "4992   912  \n",
       "5315     1  \n",
       "5316    74  \n",
       "6761  1302  \n",
       "6762     0  \n",
       "6896    14  \n",
       "6897     6  \n",
       "6975  2513  \n",
       "6976  1200  \n",
       "6977  1468  \n",
       "6980   630  \n",
       "7298   330  \n",
       "7589   264  \n",
       "7741    72  \n",
       "7742     8  \n",
       "7984     3  \n",
       "7985    35  \n",
       "8119     8  \n",
       "8120   240  \n",
       "8222   840  \n",
       "8544  1120  \n",
       "8545    89  \n",
       "8810   137  \n",
       "8811    37  \n",
       "8876     0  \n",
       "8877    19  \n",
       "9085     0  \n",
       "9086     4  "
      ]
     },
     "execution_count": 166,
     "metadata": {},
     "output_type": "execute_result"
    }
   ],
   "source": [
    "# 상세정보 데이터에서 지번주소 컬럼이 중복인 행만 선택합니다.\n",
    "detail.loc[dup]"
   ]
  },
  {
   "cell_type": "code",
   "execution_count": 167,
   "id": "perceived-heaven",
   "metadata": {},
   "outputs": [],
   "source": [
    "# 지번주소 컬럼이 중복이면 첫 번째 행을 남기고 재할당합니다.\n",
    "detail = detail.drop_duplicates(['지번주소'], keep = 'first')"
   ]
  },
  {
   "cell_type": "markdown",
   "id": "buried-sterling",
   "metadata": {},
   "source": [
    "### 데이터프레임 병합"
   ]
  },
  {
   "cell_type": "code",
   "execution_count": 168,
   "id": "economic-kitty",
   "metadata": {},
   "outputs": [
    {
     "data": {
      "text/html": [
       "<div>\n",
       "<style scoped>\n",
       "    .dataframe tbody tr th:only-of-type {\n",
       "        vertical-align: middle;\n",
       "    }\n",
       "\n",
       "    .dataframe tbody tr th {\n",
       "        vertical-align: top;\n",
       "    }\n",
       "\n",
       "    .dataframe thead th {\n",
       "        text-align: right;\n",
       "    }\n",
       "</style>\n",
       "<table border=\"1\" class=\"dataframe\">\n",
       "  <thead>\n",
       "    <tr style=\"text-align: right;\">\n",
       "      <th></th>\n",
       "      <th>아파트</th>\n",
       "      <th>시도</th>\n",
       "      <th>시군구</th>\n",
       "      <th>읍면동</th>\n",
       "      <th>지번</th>\n",
       "      <th>거래일</th>\n",
       "      <th>전용면적</th>\n",
       "      <th>층</th>\n",
       "      <th>거래금액</th>\n",
       "      <th>단위금액</th>\n",
       "      <th>금액구분</th>\n",
       "      <th>지번주소</th>\n",
       "      <th>ID</th>\n",
       "      <th>아파트명</th>\n",
       "      <th>세대수</th>\n",
       "      <th>임대수</th>\n",
       "      <th>동수</th>\n",
       "      <th>용적률</th>\n",
       "      <th>건폐율</th>\n",
       "      <th>주차대수</th>\n",
       "    </tr>\n",
       "  </thead>\n",
       "  <tbody>\n",
       "    <tr>\n",
       "      <th>0</th>\n",
       "      <td>텐즈힐아파트(1단지)</td>\n",
       "      <td>서울특별시</td>\n",
       "      <td>성동구</td>\n",
       "      <td>하왕십리동</td>\n",
       "      <td>1066</td>\n",
       "      <td>2020-01-01</td>\n",
       "      <td>84.96</td>\n",
       "      <td>19</td>\n",
       "      <td>12.00</td>\n",
       "      <td>1412.43</td>\n",
       "      <td>이상</td>\n",
       "      <td>서울 성동구 하왕십리동 1066</td>\n",
       "      <td>107240</td>\n",
       "      <td>텐즈힐1</td>\n",
       "      <td>1702</td>\n",
       "      <td>333</td>\n",
       "      <td>21</td>\n",
       "      <td>224</td>\n",
       "      <td>21</td>\n",
       "      <td>2431</td>\n",
       "    </tr>\n",
       "    <tr>\n",
       "      <th>1</th>\n",
       "      <td>텐즈힐아파트(1단지)</td>\n",
       "      <td>서울특별시</td>\n",
       "      <td>성동구</td>\n",
       "      <td>하왕십리동</td>\n",
       "      <td>1066</td>\n",
       "      <td>2020-01-03</td>\n",
       "      <td>72.52</td>\n",
       "      <td>12</td>\n",
       "      <td>12.30</td>\n",
       "      <td>1696.08</td>\n",
       "      <td>이상</td>\n",
       "      <td>서울 성동구 하왕십리동 1066</td>\n",
       "      <td>107240</td>\n",
       "      <td>텐즈힐1</td>\n",
       "      <td>1702</td>\n",
       "      <td>333</td>\n",
       "      <td>21</td>\n",
       "      <td>224</td>\n",
       "      <td>21</td>\n",
       "      <td>2431</td>\n",
       "    </tr>\n",
       "    <tr>\n",
       "      <th>2</th>\n",
       "      <td>텐즈힐아파트(1단지)</td>\n",
       "      <td>서울특별시</td>\n",
       "      <td>성동구</td>\n",
       "      <td>하왕십리동</td>\n",
       "      <td>1066</td>\n",
       "      <td>2020-02-04</td>\n",
       "      <td>84.96</td>\n",
       "      <td>3</td>\n",
       "      <td>12.50</td>\n",
       "      <td>1471.28</td>\n",
       "      <td>이상</td>\n",
       "      <td>서울 성동구 하왕십리동 1066</td>\n",
       "      <td>107240</td>\n",
       "      <td>텐즈힐1</td>\n",
       "      <td>1702</td>\n",
       "      <td>333</td>\n",
       "      <td>21</td>\n",
       "      <td>224</td>\n",
       "      <td>21</td>\n",
       "      <td>2431</td>\n",
       "    </tr>\n",
       "    <tr>\n",
       "      <th>3</th>\n",
       "      <td>텐즈힐아파트(1단지)</td>\n",
       "      <td>서울특별시</td>\n",
       "      <td>성동구</td>\n",
       "      <td>하왕십리동</td>\n",
       "      <td>1066</td>\n",
       "      <td>2020-02-05</td>\n",
       "      <td>84.88</td>\n",
       "      <td>2</td>\n",
       "      <td>13.40</td>\n",
       "      <td>1578.70</td>\n",
       "      <td>이상</td>\n",
       "      <td>서울 성동구 하왕십리동 1066</td>\n",
       "      <td>107240</td>\n",
       "      <td>텐즈힐1</td>\n",
       "      <td>1702</td>\n",
       "      <td>333</td>\n",
       "      <td>21</td>\n",
       "      <td>224</td>\n",
       "      <td>21</td>\n",
       "      <td>2431</td>\n",
       "    </tr>\n",
       "    <tr>\n",
       "      <th>4</th>\n",
       "      <td>텐즈힐아파트(1단지)</td>\n",
       "      <td>서울특별시</td>\n",
       "      <td>성동구</td>\n",
       "      <td>하왕십리동</td>\n",
       "      <td>1066</td>\n",
       "      <td>2020-02-13</td>\n",
       "      <td>84.96</td>\n",
       "      <td>2</td>\n",
       "      <td>12.30</td>\n",
       "      <td>1447.74</td>\n",
       "      <td>이상</td>\n",
       "      <td>서울 성동구 하왕십리동 1066</td>\n",
       "      <td>107240</td>\n",
       "      <td>텐즈힐1</td>\n",
       "      <td>1702</td>\n",
       "      <td>333</td>\n",
       "      <td>21</td>\n",
       "      <td>224</td>\n",
       "      <td>21</td>\n",
       "      <td>2431</td>\n",
       "    </tr>\n",
       "    <tr>\n",
       "      <th>...</th>\n",
       "      <td>...</td>\n",
       "      <td>...</td>\n",
       "      <td>...</td>\n",
       "      <td>...</td>\n",
       "      <td>...</td>\n",
       "      <td>...</td>\n",
       "      <td>...</td>\n",
       "      <td>...</td>\n",
       "      <td>...</td>\n",
       "      <td>...</td>\n",
       "      <td>...</td>\n",
       "      <td>...</td>\n",
       "      <td>...</td>\n",
       "      <td>...</td>\n",
       "      <td>...</td>\n",
       "      <td>...</td>\n",
       "      <td>...</td>\n",
       "      <td>...</td>\n",
       "      <td>...</td>\n",
       "      <td>...</td>\n",
       "    </tr>\n",
       "    <tr>\n",
       "      <th>77075</th>\n",
       "      <td>마곡 보타닉</td>\n",
       "      <td>서울특별시</td>\n",
       "      <td>강서구</td>\n",
       "      <td>가양동</td>\n",
       "      <td>235-4</td>\n",
       "      <td>2020-12-29</td>\n",
       "      <td>59.80</td>\n",
       "      <td>4</td>\n",
       "      <td>5.40</td>\n",
       "      <td>903.01</td>\n",
       "      <td>미만</td>\n",
       "      <td>서울 강서구 가양동 235-4</td>\n",
       "      <td>124903</td>\n",
       "      <td>마곡보타닉</td>\n",
       "      <td>27</td>\n",
       "      <td>0</td>\n",
       "      <td>1</td>\n",
       "      <td>246</td>\n",
       "      <td>39</td>\n",
       "      <td>24</td>\n",
       "    </tr>\n",
       "    <tr>\n",
       "      <th>77076</th>\n",
       "      <td>방배비젼21빌라트</td>\n",
       "      <td>서울특별시</td>\n",
       "      <td>서초구</td>\n",
       "      <td>방배동</td>\n",
       "      <td>849-2</td>\n",
       "      <td>2020-12-29</td>\n",
       "      <td>187.34</td>\n",
       "      <td>2</td>\n",
       "      <td>18.00</td>\n",
       "      <td>960.82</td>\n",
       "      <td>미만</td>\n",
       "      <td>서울 서초구 방배동 849-2</td>\n",
       "      <td>119963</td>\n",
       "      <td>방배비젼21빌라트</td>\n",
       "      <td>14</td>\n",
       "      <td>0</td>\n",
       "      <td>1</td>\n",
       "      <td>282</td>\n",
       "      <td>44</td>\n",
       "      <td>32</td>\n",
       "    </tr>\n",
       "    <tr>\n",
       "      <th>77077</th>\n",
       "      <td>롯데캐슬파크(40)</td>\n",
       "      <td>서울특별시</td>\n",
       "      <td>서초구</td>\n",
       "      <td>방배동</td>\n",
       "      <td>888-40</td>\n",
       "      <td>2020-12-29</td>\n",
       "      <td>244.75</td>\n",
       "      <td>4</td>\n",
       "      <td>19.00</td>\n",
       "      <td>776.30</td>\n",
       "      <td>미만</td>\n",
       "      <td>서울 서초구 방배동 888-40</td>\n",
       "      <td>10692</td>\n",
       "      <td>롯데캐슬파크</td>\n",
       "      <td>57</td>\n",
       "      <td>0</td>\n",
       "      <td>3</td>\n",
       "      <td>0</td>\n",
       "      <td>0</td>\n",
       "      <td>0</td>\n",
       "    </tr>\n",
       "    <tr>\n",
       "      <th>77078</th>\n",
       "      <td>두원A동</td>\n",
       "      <td>서울특별시</td>\n",
       "      <td>양천구</td>\n",
       "      <td>신월동</td>\n",
       "      <td>485-2</td>\n",
       "      <td>2020-12-30</td>\n",
       "      <td>84.99</td>\n",
       "      <td>3</td>\n",
       "      <td>4.05</td>\n",
       "      <td>476.53</td>\n",
       "      <td>미만</td>\n",
       "      <td>서울 양천구 신월동 485-2</td>\n",
       "      <td>19051</td>\n",
       "      <td>두원</td>\n",
       "      <td>38</td>\n",
       "      <td>0</td>\n",
       "      <td>2</td>\n",
       "      <td>0</td>\n",
       "      <td>0</td>\n",
       "      <td>44</td>\n",
       "    </tr>\n",
       "    <tr>\n",
       "      <th>77079</th>\n",
       "      <td>상지리츠빌(10)</td>\n",
       "      <td>서울특별시</td>\n",
       "      <td>서초구</td>\n",
       "      <td>서초동</td>\n",
       "      <td>1517-6</td>\n",
       "      <td>2020-12-30</td>\n",
       "      <td>175.22</td>\n",
       "      <td>5</td>\n",
       "      <td>22.00</td>\n",
       "      <td>1255.56</td>\n",
       "      <td>이상</td>\n",
       "      <td>서울 서초구 서초동 1517-6</td>\n",
       "      <td>25504</td>\n",
       "      <td>서초상지리츠빌10차</td>\n",
       "      <td>19</td>\n",
       "      <td>0</td>\n",
       "      <td>1</td>\n",
       "      <td>199</td>\n",
       "      <td>34</td>\n",
       "      <td>49</td>\n",
       "    </tr>\n",
       "  </tbody>\n",
       "</table>\n",
       "<p>77080 rows × 20 columns</p>\n",
       "</div>"
      ],
      "text/plain": [
       "               아파트     시도  시군구    읍면동      지번        거래일    전용면적   층   거래금액  \\\n",
       "0      텐즈힐아파트(1단지)  서울특별시  성동구  하왕십리동    1066 2020-01-01   84.96  19  12.00   \n",
       "1      텐즈힐아파트(1단지)  서울특별시  성동구  하왕십리동    1066 2020-01-03   72.52  12  12.30   \n",
       "2      텐즈힐아파트(1단지)  서울특별시  성동구  하왕십리동    1066 2020-02-04   84.96   3  12.50   \n",
       "3      텐즈힐아파트(1단지)  서울특별시  성동구  하왕십리동    1066 2020-02-05   84.88   2  13.40   \n",
       "4      텐즈힐아파트(1단지)  서울특별시  성동구  하왕십리동    1066 2020-02-13   84.96   2  12.30   \n",
       "...            ...    ...  ...    ...     ...        ...     ...  ..    ...   \n",
       "77075       마곡 보타닉  서울특별시  강서구    가양동   235-4 2020-12-29   59.80   4   5.40   \n",
       "77076    방배비젼21빌라트  서울특별시  서초구    방배동   849-2 2020-12-29  187.34   2  18.00   \n",
       "77077   롯데캐슬파크(40)  서울특별시  서초구    방배동  888-40 2020-12-29  244.75   4  19.00   \n",
       "77078         두원A동  서울특별시  양천구    신월동   485-2 2020-12-30   84.99   3   4.05   \n",
       "77079    상지리츠빌(10)  서울특별시  서초구    서초동  1517-6 2020-12-30  175.22   5  22.00   \n",
       "\n",
       "          단위금액 금액구분               지번주소      ID        아파트명   세대수  임대수  동수  \\\n",
       "0      1412.43   이상  서울 성동구 하왕십리동 1066  107240        텐즈힐1  1702  333  21   \n",
       "1      1696.08   이상  서울 성동구 하왕십리동 1066  107240        텐즈힐1  1702  333  21   \n",
       "2      1471.28   이상  서울 성동구 하왕십리동 1066  107240        텐즈힐1  1702  333  21   \n",
       "3      1578.70   이상  서울 성동구 하왕십리동 1066  107240        텐즈힐1  1702  333  21   \n",
       "4      1447.74   이상  서울 성동구 하왕십리동 1066  107240        텐즈힐1  1702  333  21   \n",
       "...        ...  ...                ...     ...         ...   ...  ...  ..   \n",
       "77075   903.01   미만   서울 강서구 가양동 235-4  124903       마곡보타닉    27    0   1   \n",
       "77076   960.82   미만   서울 서초구 방배동 849-2  119963   방배비젼21빌라트    14    0   1   \n",
       "77077   776.30   미만  서울 서초구 방배동 888-40   10692      롯데캐슬파크    57    0   3   \n",
       "77078   476.53   미만   서울 양천구 신월동 485-2   19051          두원    38    0   2   \n",
       "77079  1255.56   이상  서울 서초구 서초동 1517-6   25504  서초상지리츠빌10차    19    0   1   \n",
       "\n",
       "       용적률  건폐율  주차대수  \n",
       "0      224   21  2431  \n",
       "1      224   21  2431  \n",
       "2      224   21  2431  \n",
       "3      224   21  2431  \n",
       "4      224   21  2431  \n",
       "...    ...  ...   ...  \n",
       "77075  246   39    24  \n",
       "77076  282   44    32  \n",
       "77077    0    0     0  \n",
       "77078    0    0    44  \n",
       "77079  199   34    49  \n",
       "\n",
       "[77080 rows x 20 columns]"
      ]
     },
     "execution_count": 168,
     "metadata": {},
     "output_type": "execute_result"
    }
   ],
   "source": [
    "# 내부 병합을 실행합니다.\n",
    "pd.merge(price, detail, 'inner', on = '지번주소')"
   ]
  },
  {
   "cell_type": "code",
   "execution_count": 169,
   "id": "split-holmes",
   "metadata": {
    "scrolled": false
   },
   "outputs": [
    {
     "data": {
      "text/html": [
       "<div>\n",
       "<style scoped>\n",
       "    .dataframe tbody tr th:only-of-type {\n",
       "        vertical-align: middle;\n",
       "    }\n",
       "\n",
       "    .dataframe tbody tr th {\n",
       "        vertical-align: top;\n",
       "    }\n",
       "\n",
       "    .dataframe thead th {\n",
       "        text-align: right;\n",
       "    }\n",
       "</style>\n",
       "<table border=\"1\" class=\"dataframe\">\n",
       "  <thead>\n",
       "    <tr style=\"text-align: right;\">\n",
       "      <th></th>\n",
       "      <th>아파트</th>\n",
       "      <th>시도</th>\n",
       "      <th>시군구</th>\n",
       "      <th>읍면동</th>\n",
       "      <th>지번</th>\n",
       "      <th>거래일</th>\n",
       "      <th>전용면적</th>\n",
       "      <th>층</th>\n",
       "      <th>거래금액</th>\n",
       "      <th>단위금액</th>\n",
       "      <th>금액구분</th>\n",
       "      <th>지번주소</th>\n",
       "      <th>ID</th>\n",
       "      <th>아파트명</th>\n",
       "      <th>세대수</th>\n",
       "      <th>임대수</th>\n",
       "      <th>동수</th>\n",
       "      <th>용적률</th>\n",
       "      <th>건폐율</th>\n",
       "      <th>주차대수</th>\n",
       "    </tr>\n",
       "  </thead>\n",
       "  <tbody>\n",
       "    <tr>\n",
       "      <th>0</th>\n",
       "      <td>텐즈힐아파트(1단지)</td>\n",
       "      <td>서울특별시</td>\n",
       "      <td>성동구</td>\n",
       "      <td>하왕십리동</td>\n",
       "      <td>1066</td>\n",
       "      <td>2020-01-01</td>\n",
       "      <td>84.96</td>\n",
       "      <td>19.0</td>\n",
       "      <td>12.0</td>\n",
       "      <td>1412.43</td>\n",
       "      <td>이상</td>\n",
       "      <td>서울 성동구 하왕십리동 1066</td>\n",
       "      <td>107240.0</td>\n",
       "      <td>텐즈힐1</td>\n",
       "      <td>1702.0</td>\n",
       "      <td>333.0</td>\n",
       "      <td>21.0</td>\n",
       "      <td>224.0</td>\n",
       "      <td>21.0</td>\n",
       "      <td>2431.0</td>\n",
       "    </tr>\n",
       "    <tr>\n",
       "      <th>1</th>\n",
       "      <td>텐즈힐아파트(1단지)</td>\n",
       "      <td>서울특별시</td>\n",
       "      <td>성동구</td>\n",
       "      <td>하왕십리동</td>\n",
       "      <td>1066</td>\n",
       "      <td>2020-01-03</td>\n",
       "      <td>72.52</td>\n",
       "      <td>12.0</td>\n",
       "      <td>12.3</td>\n",
       "      <td>1696.08</td>\n",
       "      <td>이상</td>\n",
       "      <td>서울 성동구 하왕십리동 1066</td>\n",
       "      <td>107240.0</td>\n",
       "      <td>텐즈힐1</td>\n",
       "      <td>1702.0</td>\n",
       "      <td>333.0</td>\n",
       "      <td>21.0</td>\n",
       "      <td>224.0</td>\n",
       "      <td>21.0</td>\n",
       "      <td>2431.0</td>\n",
       "    </tr>\n",
       "    <tr>\n",
       "      <th>2</th>\n",
       "      <td>텐즈힐아파트(1단지)</td>\n",
       "      <td>서울특별시</td>\n",
       "      <td>성동구</td>\n",
       "      <td>하왕십리동</td>\n",
       "      <td>1066</td>\n",
       "      <td>2020-02-04</td>\n",
       "      <td>84.96</td>\n",
       "      <td>3.0</td>\n",
       "      <td>12.5</td>\n",
       "      <td>1471.28</td>\n",
       "      <td>이상</td>\n",
       "      <td>서울 성동구 하왕십리동 1066</td>\n",
       "      <td>107240.0</td>\n",
       "      <td>텐즈힐1</td>\n",
       "      <td>1702.0</td>\n",
       "      <td>333.0</td>\n",
       "      <td>21.0</td>\n",
       "      <td>224.0</td>\n",
       "      <td>21.0</td>\n",
       "      <td>2431.0</td>\n",
       "    </tr>\n",
       "    <tr>\n",
       "      <th>3</th>\n",
       "      <td>텐즈힐아파트(1단지)</td>\n",
       "      <td>서울특별시</td>\n",
       "      <td>성동구</td>\n",
       "      <td>하왕십리동</td>\n",
       "      <td>1066</td>\n",
       "      <td>2020-02-05</td>\n",
       "      <td>84.88</td>\n",
       "      <td>2.0</td>\n",
       "      <td>13.4</td>\n",
       "      <td>1578.70</td>\n",
       "      <td>이상</td>\n",
       "      <td>서울 성동구 하왕십리동 1066</td>\n",
       "      <td>107240.0</td>\n",
       "      <td>텐즈힐1</td>\n",
       "      <td>1702.0</td>\n",
       "      <td>333.0</td>\n",
       "      <td>21.0</td>\n",
       "      <td>224.0</td>\n",
       "      <td>21.0</td>\n",
       "      <td>2431.0</td>\n",
       "    </tr>\n",
       "    <tr>\n",
       "      <th>4</th>\n",
       "      <td>텐즈힐아파트(1단지)</td>\n",
       "      <td>서울특별시</td>\n",
       "      <td>성동구</td>\n",
       "      <td>하왕십리동</td>\n",
       "      <td>1066</td>\n",
       "      <td>2020-02-13</td>\n",
       "      <td>84.96</td>\n",
       "      <td>2.0</td>\n",
       "      <td>12.3</td>\n",
       "      <td>1447.74</td>\n",
       "      <td>이상</td>\n",
       "      <td>서울 성동구 하왕십리동 1066</td>\n",
       "      <td>107240.0</td>\n",
       "      <td>텐즈힐1</td>\n",
       "      <td>1702.0</td>\n",
       "      <td>333.0</td>\n",
       "      <td>21.0</td>\n",
       "      <td>224.0</td>\n",
       "      <td>21.0</td>\n",
       "      <td>2431.0</td>\n",
       "    </tr>\n",
       "    <tr>\n",
       "      <th>...</th>\n",
       "      <td>...</td>\n",
       "      <td>...</td>\n",
       "      <td>...</td>\n",
       "      <td>...</td>\n",
       "      <td>...</td>\n",
       "      <td>...</td>\n",
       "      <td>...</td>\n",
       "      <td>...</td>\n",
       "      <td>...</td>\n",
       "      <td>...</td>\n",
       "      <td>...</td>\n",
       "      <td>...</td>\n",
       "      <td>...</td>\n",
       "      <td>...</td>\n",
       "      <td>...</td>\n",
       "      <td>...</td>\n",
       "      <td>...</td>\n",
       "      <td>...</td>\n",
       "      <td>...</td>\n",
       "      <td>...</td>\n",
       "    </tr>\n",
       "    <tr>\n",
       "      <th>83918</th>\n",
       "      <td>NaN</td>\n",
       "      <td>NaN</td>\n",
       "      <td>NaN</td>\n",
       "      <td>NaN</td>\n",
       "      <td>NaN</td>\n",
       "      <td>NaT</td>\n",
       "      <td>NaN</td>\n",
       "      <td>NaN</td>\n",
       "      <td>NaN</td>\n",
       "      <td>NaN</td>\n",
       "      <td>NaN</td>\n",
       "      <td>서울 관악구 남현동 602-284</td>\n",
       "      <td>118688.0</td>\n",
       "      <td>VIP</td>\n",
       "      <td>10.0</td>\n",
       "      <td>0.0</td>\n",
       "      <td>1.0</td>\n",
       "      <td>218.0</td>\n",
       "      <td>47.0</td>\n",
       "      <td>11.0</td>\n",
       "    </tr>\n",
       "    <tr>\n",
       "      <th>83919</th>\n",
       "      <td>NaN</td>\n",
       "      <td>NaN</td>\n",
       "      <td>NaN</td>\n",
       "      <td>NaN</td>\n",
       "      <td>NaN</td>\n",
       "      <td>NaT</td>\n",
       "      <td>NaN</td>\n",
       "      <td>NaN</td>\n",
       "      <td>NaN</td>\n",
       "      <td>NaN</td>\n",
       "      <td>NaN</td>\n",
       "      <td>서울 관악구 봉천동 912-16</td>\n",
       "      <td>138722.0</td>\n",
       "      <td>YK서울대</td>\n",
       "      <td>26.0</td>\n",
       "      <td>0.0</td>\n",
       "      <td>1.0</td>\n",
       "      <td>499.0</td>\n",
       "      <td>57.0</td>\n",
       "      <td>13.0</td>\n",
       "    </tr>\n",
       "    <tr>\n",
       "      <th>83920</th>\n",
       "      <td>NaN</td>\n",
       "      <td>NaN</td>\n",
       "      <td>NaN</td>\n",
       "      <td>NaN</td>\n",
       "      <td>NaN</td>\n",
       "      <td>NaT</td>\n",
       "      <td>NaN</td>\n",
       "      <td>NaN</td>\n",
       "      <td>NaN</td>\n",
       "      <td>NaN</td>\n",
       "      <td>NaN</td>\n",
       "      <td>서울 관악구 봉천동 912-14</td>\n",
       "      <td>125085.0</td>\n",
       "      <td>YK타워(도시형)</td>\n",
       "      <td>24.0</td>\n",
       "      <td>0.0</td>\n",
       "      <td>1.0</td>\n",
       "      <td>399.0</td>\n",
       "      <td>59.0</td>\n",
       "      <td>12.0</td>\n",
       "    </tr>\n",
       "    <tr>\n",
       "      <th>83921</th>\n",
       "      <td>NaN</td>\n",
       "      <td>NaN</td>\n",
       "      <td>NaN</td>\n",
       "      <td>NaN</td>\n",
       "      <td>NaN</td>\n",
       "      <td>NaT</td>\n",
       "      <td>NaN</td>\n",
       "      <td>NaN</td>\n",
       "      <td>NaN</td>\n",
       "      <td>NaN</td>\n",
       "      <td>NaN</td>\n",
       "      <td>서울 중랑구 상봉동 102-42</td>\n",
       "      <td>124441.0</td>\n",
       "      <td>YMS타워</td>\n",
       "      <td>24.0</td>\n",
       "      <td>0.0</td>\n",
       "      <td>3.0</td>\n",
       "      <td>0.0</td>\n",
       "      <td>0.0</td>\n",
       "      <td>0.0</td>\n",
       "    </tr>\n",
       "    <tr>\n",
       "      <th>83922</th>\n",
       "      <td>NaN</td>\n",
       "      <td>NaN</td>\n",
       "      <td>NaN</td>\n",
       "      <td>NaN</td>\n",
       "      <td>NaN</td>\n",
       "      <td>NaT</td>\n",
       "      <td>NaN</td>\n",
       "      <td>NaN</td>\n",
       "      <td>NaN</td>\n",
       "      <td>NaN</td>\n",
       "      <td>NaN</td>\n",
       "      <td>서울 중랑구 상봉동 102-30</td>\n",
       "      <td>124440.0</td>\n",
       "      <td>YMS타워(도시형)</td>\n",
       "      <td>21.0</td>\n",
       "      <td>0.0</td>\n",
       "      <td>1.0</td>\n",
       "      <td>0.0</td>\n",
       "      <td>0.0</td>\n",
       "      <td>0.0</td>\n",
       "    </tr>\n",
       "  </tbody>\n",
       "</table>\n",
       "<p>83923 rows × 20 columns</p>\n",
       "</div>"
      ],
      "text/plain": [
       "               아파트     시도  시군구    읍면동    지번        거래일   전용면적     층  거래금액  \\\n",
       "0      텐즈힐아파트(1단지)  서울특별시  성동구  하왕십리동  1066 2020-01-01  84.96  19.0  12.0   \n",
       "1      텐즈힐아파트(1단지)  서울특별시  성동구  하왕십리동  1066 2020-01-03  72.52  12.0  12.3   \n",
       "2      텐즈힐아파트(1단지)  서울특별시  성동구  하왕십리동  1066 2020-02-04  84.96   3.0  12.5   \n",
       "3      텐즈힐아파트(1단지)  서울특별시  성동구  하왕십리동  1066 2020-02-05  84.88   2.0  13.4   \n",
       "4      텐즈힐아파트(1단지)  서울특별시  성동구  하왕십리동  1066 2020-02-13  84.96   2.0  12.3   \n",
       "...            ...    ...  ...    ...   ...        ...    ...   ...   ...   \n",
       "83918          NaN    NaN  NaN    NaN   NaN        NaT    NaN   NaN   NaN   \n",
       "83919          NaN    NaN  NaN    NaN   NaN        NaT    NaN   NaN   NaN   \n",
       "83920          NaN    NaN  NaN    NaN   NaN        NaT    NaN   NaN   NaN   \n",
       "83921          NaN    NaN  NaN    NaN   NaN        NaT    NaN   NaN   NaN   \n",
       "83922          NaN    NaN  NaN    NaN   NaN        NaT    NaN   NaN   NaN   \n",
       "\n",
       "          단위금액 금액구분                지번주소        ID        아파트명     세대수    임대수  \\\n",
       "0      1412.43   이상   서울 성동구 하왕십리동 1066  107240.0        텐즈힐1  1702.0  333.0   \n",
       "1      1696.08   이상   서울 성동구 하왕십리동 1066  107240.0        텐즈힐1  1702.0  333.0   \n",
       "2      1471.28   이상   서울 성동구 하왕십리동 1066  107240.0        텐즈힐1  1702.0  333.0   \n",
       "3      1578.70   이상   서울 성동구 하왕십리동 1066  107240.0        텐즈힐1  1702.0  333.0   \n",
       "4      1447.74   이상   서울 성동구 하왕십리동 1066  107240.0        텐즈힐1  1702.0  333.0   \n",
       "...        ...  ...                 ...       ...         ...     ...    ...   \n",
       "83918      NaN  NaN  서울 관악구 남현동 602-284  118688.0         VIP    10.0    0.0   \n",
       "83919      NaN  NaN   서울 관악구 봉천동 912-16  138722.0       YK서울대    26.0    0.0   \n",
       "83920      NaN  NaN   서울 관악구 봉천동 912-14  125085.0   YK타워(도시형)    24.0    0.0   \n",
       "83921      NaN  NaN   서울 중랑구 상봉동 102-42  124441.0       YMS타워    24.0    0.0   \n",
       "83922      NaN  NaN   서울 중랑구 상봉동 102-30  124440.0  YMS타워(도시형)    21.0    0.0   \n",
       "\n",
       "         동수    용적률   건폐율    주차대수  \n",
       "0      21.0  224.0  21.0  2431.0  \n",
       "1      21.0  224.0  21.0  2431.0  \n",
       "2      21.0  224.0  21.0  2431.0  \n",
       "3      21.0  224.0  21.0  2431.0  \n",
       "4      21.0  224.0  21.0  2431.0  \n",
       "...     ...    ...   ...     ...  \n",
       "83918   1.0  218.0  47.0    11.0  \n",
       "83919   1.0  499.0  57.0    13.0  \n",
       "83920   1.0  399.0  59.0    12.0  \n",
       "83921   3.0    0.0   0.0     0.0  \n",
       "83922   1.0    0.0   0.0     0.0  \n",
       "\n",
       "[83923 rows x 20 columns]"
      ]
     },
     "execution_count": 169,
     "metadata": {},
     "output_type": "execute_result"
    }
   ],
   "source": [
    "# 외부 병합을 실행합니다.\n",
    "pd.merge(price, detail, 'outer', on = '지번주소')"
   ]
  },
  {
   "cell_type": "code",
   "execution_count": 170,
   "id": "humanitarian-haiti",
   "metadata": {},
   "outputs": [
    {
     "data": {
      "text/html": [
       "<div>\n",
       "<style scoped>\n",
       "    .dataframe tbody tr th:only-of-type {\n",
       "        vertical-align: middle;\n",
       "    }\n",
       "\n",
       "    .dataframe tbody tr th {\n",
       "        vertical-align: top;\n",
       "    }\n",
       "\n",
       "    .dataframe thead th {\n",
       "        text-align: right;\n",
       "    }\n",
       "</style>\n",
       "<table border=\"1\" class=\"dataframe\">\n",
       "  <thead>\n",
       "    <tr style=\"text-align: right;\">\n",
       "      <th></th>\n",
       "      <th>아파트</th>\n",
       "      <th>시도</th>\n",
       "      <th>시군구</th>\n",
       "      <th>읍면동</th>\n",
       "      <th>지번</th>\n",
       "      <th>거래일</th>\n",
       "      <th>전용면적</th>\n",
       "      <th>층</th>\n",
       "      <th>거래금액</th>\n",
       "      <th>단위금액</th>\n",
       "      <th>금액구분</th>\n",
       "      <th>지번주소</th>\n",
       "      <th>ID</th>\n",
       "      <th>아파트명</th>\n",
       "      <th>세대수</th>\n",
       "      <th>임대수</th>\n",
       "      <th>동수</th>\n",
       "      <th>용적률</th>\n",
       "      <th>건폐율</th>\n",
       "      <th>주차대수</th>\n",
       "    </tr>\n",
       "  </thead>\n",
       "  <tbody>\n",
       "    <tr>\n",
       "      <th>0</th>\n",
       "      <td>텐즈힐아파트(1단지)</td>\n",
       "      <td>서울특별시</td>\n",
       "      <td>성동구</td>\n",
       "      <td>하왕십리동</td>\n",
       "      <td>1066</td>\n",
       "      <td>2020-01-01</td>\n",
       "      <td>84.960</td>\n",
       "      <td>19</td>\n",
       "      <td>12.00</td>\n",
       "      <td>1412.43</td>\n",
       "      <td>이상</td>\n",
       "      <td>서울 성동구 하왕십리동 1066</td>\n",
       "      <td>107240.0</td>\n",
       "      <td>텐즈힐1</td>\n",
       "      <td>1702.0</td>\n",
       "      <td>333.0</td>\n",
       "      <td>21.0</td>\n",
       "      <td>224.0</td>\n",
       "      <td>21.0</td>\n",
       "      <td>2431.0</td>\n",
       "    </tr>\n",
       "    <tr>\n",
       "      <th>1</th>\n",
       "      <td>서울숲더샵</td>\n",
       "      <td>서울특별시</td>\n",
       "      <td>성동구</td>\n",
       "      <td>행당동</td>\n",
       "      <td>377</td>\n",
       "      <td>2020-01-01</td>\n",
       "      <td>92.240</td>\n",
       "      <td>13</td>\n",
       "      <td>11.80</td>\n",
       "      <td>1279.27</td>\n",
       "      <td>이상</td>\n",
       "      <td>서울 성동구 행당동 377</td>\n",
       "      <td>103112.0</td>\n",
       "      <td>서울숲더샵</td>\n",
       "      <td>495.0</td>\n",
       "      <td>0.0</td>\n",
       "      <td>3.0</td>\n",
       "      <td>392.0</td>\n",
       "      <td>34.0</td>\n",
       "      <td>937.0</td>\n",
       "    </tr>\n",
       "    <tr>\n",
       "      <th>2</th>\n",
       "      <td>답십리청솔우성</td>\n",
       "      <td>서울특별시</td>\n",
       "      <td>동대문구</td>\n",
       "      <td>답십리동</td>\n",
       "      <td>80</td>\n",
       "      <td>2020-01-01</td>\n",
       "      <td>59.740</td>\n",
       "      <td>9</td>\n",
       "      <td>5.40</td>\n",
       "      <td>903.92</td>\n",
       "      <td>미만</td>\n",
       "      <td>서울 동대문구 답십리동 80</td>\n",
       "      <td>3273.0</td>\n",
       "      <td>답십리청솔우성</td>\n",
       "      <td>1542.0</td>\n",
       "      <td>432.0</td>\n",
       "      <td>16.0</td>\n",
       "      <td>258.0</td>\n",
       "      <td>19.0</td>\n",
       "      <td>1377.0</td>\n",
       "    </tr>\n",
       "    <tr>\n",
       "      <th>3</th>\n",
       "      <td>다우하임</td>\n",
       "      <td>서울특별시</td>\n",
       "      <td>동대문구</td>\n",
       "      <td>장안동</td>\n",
       "      <td>344-2</td>\n",
       "      <td>2020-01-01</td>\n",
       "      <td>29.980</td>\n",
       "      <td>11</td>\n",
       "      <td>2.35</td>\n",
       "      <td>783.86</td>\n",
       "      <td>미만</td>\n",
       "      <td>서울 동대문구 장안동 344-2</td>\n",
       "      <td>122416.0</td>\n",
       "      <td>다우하임</td>\n",
       "      <td>28.0</td>\n",
       "      <td>0.0</td>\n",
       "      <td>1.0</td>\n",
       "      <td>607.0</td>\n",
       "      <td>58.0</td>\n",
       "      <td>22.0</td>\n",
       "    </tr>\n",
       "    <tr>\n",
       "      <th>4</th>\n",
       "      <td>면목삼익</td>\n",
       "      <td>서울특별시</td>\n",
       "      <td>중랑구</td>\n",
       "      <td>면목동</td>\n",
       "      <td>1516</td>\n",
       "      <td>2020-01-01</td>\n",
       "      <td>84.990</td>\n",
       "      <td>5</td>\n",
       "      <td>4.75</td>\n",
       "      <td>558.89</td>\n",
       "      <td>미만</td>\n",
       "      <td>서울 중랑구 면목동 1516</td>\n",
       "      <td>1247.0</td>\n",
       "      <td>면목삼익</td>\n",
       "      <td>216.0</td>\n",
       "      <td>0.0</td>\n",
       "      <td>3.0</td>\n",
       "      <td>402.0</td>\n",
       "      <td>27.0</td>\n",
       "      <td>233.0</td>\n",
       "    </tr>\n",
       "    <tr>\n",
       "      <th>...</th>\n",
       "      <td>...</td>\n",
       "      <td>...</td>\n",
       "      <td>...</td>\n",
       "      <td>...</td>\n",
       "      <td>...</td>\n",
       "      <td>...</td>\n",
       "      <td>...</td>\n",
       "      <td>...</td>\n",
       "      <td>...</td>\n",
       "      <td>...</td>\n",
       "      <td>...</td>\n",
       "      <td>...</td>\n",
       "      <td>...</td>\n",
       "      <td>...</td>\n",
       "      <td>...</td>\n",
       "      <td>...</td>\n",
       "      <td>...</td>\n",
       "      <td>...</td>\n",
       "      <td>...</td>\n",
       "      <td>...</td>\n",
       "    </tr>\n",
       "    <tr>\n",
       "      <th>80704</th>\n",
       "      <td>프라이어팰리스</td>\n",
       "      <td>서울특별시</td>\n",
       "      <td>강동구</td>\n",
       "      <td>암사동</td>\n",
       "      <td>413</td>\n",
       "      <td>2020-12-31</td>\n",
       "      <td>59.983</td>\n",
       "      <td>20</td>\n",
       "      <td>11.50</td>\n",
       "      <td>1917.21</td>\n",
       "      <td>이상</td>\n",
       "      <td>서울 강동구 암사동 413</td>\n",
       "      <td>19578.0</td>\n",
       "      <td>프라이어팰리스</td>\n",
       "      <td>1622.0</td>\n",
       "      <td>0.0</td>\n",
       "      <td>22.0</td>\n",
       "      <td>277.0</td>\n",
       "      <td>15.0</td>\n",
       "      <td>2185.0</td>\n",
       "    </tr>\n",
       "    <tr>\n",
       "      <th>80705</th>\n",
       "      <td>우림루미아트</td>\n",
       "      <td>서울특별시</td>\n",
       "      <td>강동구</td>\n",
       "      <td>성내동</td>\n",
       "      <td>599</td>\n",
       "      <td>2020-12-31</td>\n",
       "      <td>84.500</td>\n",
       "      <td>7</td>\n",
       "      <td>7.90</td>\n",
       "      <td>934.91</td>\n",
       "      <td>미만</td>\n",
       "      <td>서울 강동구 성내동 599</td>\n",
       "      <td>13860.0</td>\n",
       "      <td>우림루미아트</td>\n",
       "      <td>69.0</td>\n",
       "      <td>0.0</td>\n",
       "      <td>1.0</td>\n",
       "      <td>232.0</td>\n",
       "      <td>29.0</td>\n",
       "      <td>79.0</td>\n",
       "    </tr>\n",
       "    <tr>\n",
       "      <th>80706</th>\n",
       "      <td>금호아파트</td>\n",
       "      <td>서울특별시</td>\n",
       "      <td>강동구</td>\n",
       "      <td>천호동</td>\n",
       "      <td>44</td>\n",
       "      <td>2020-12-31</td>\n",
       "      <td>27.610</td>\n",
       "      <td>5</td>\n",
       "      <td>3.78</td>\n",
       "      <td>1369.07</td>\n",
       "      <td>이상</td>\n",
       "      <td>서울 강동구 천호동 44</td>\n",
       "      <td>999.0</td>\n",
       "      <td>금호</td>\n",
       "      <td>232.0</td>\n",
       "      <td>0.0</td>\n",
       "      <td>1.0</td>\n",
       "      <td>248.0</td>\n",
       "      <td>22.0</td>\n",
       "      <td>37.0</td>\n",
       "    </tr>\n",
       "    <tr>\n",
       "      <th>80707</th>\n",
       "      <td>강일리버파크4단지</td>\n",
       "      <td>서울특별시</td>\n",
       "      <td>강동구</td>\n",
       "      <td>강일동</td>\n",
       "      <td>673</td>\n",
       "      <td>2020-12-31</td>\n",
       "      <td>84.740</td>\n",
       "      <td>12</td>\n",
       "      <td>11.10</td>\n",
       "      <td>1309.89</td>\n",
       "      <td>이상</td>\n",
       "      <td>서울 강동구 강일동 673</td>\n",
       "      <td>27476.0</td>\n",
       "      <td>강일리버파크4단지</td>\n",
       "      <td>748.0</td>\n",
       "      <td>470.0</td>\n",
       "      <td>10.0</td>\n",
       "      <td>179.0</td>\n",
       "      <td>17.0</td>\n",
       "      <td>831.0</td>\n",
       "    </tr>\n",
       "    <tr>\n",
       "      <th>80708</th>\n",
       "      <td>강일리버파크9단지</td>\n",
       "      <td>서울특별시</td>\n",
       "      <td>강동구</td>\n",
       "      <td>강일동</td>\n",
       "      <td>699</td>\n",
       "      <td>2020-12-31</td>\n",
       "      <td>84.740</td>\n",
       "      <td>5</td>\n",
       "      <td>10.40</td>\n",
       "      <td>1227.28</td>\n",
       "      <td>이상</td>\n",
       "      <td>서울 강동구 강일동 699</td>\n",
       "      <td>27481.0</td>\n",
       "      <td>강일리버파크9단지</td>\n",
       "      <td>841.0</td>\n",
       "      <td>737.0</td>\n",
       "      <td>13.0</td>\n",
       "      <td>163.0</td>\n",
       "      <td>15.0</td>\n",
       "      <td>980.0</td>\n",
       "    </tr>\n",
       "  </tbody>\n",
       "</table>\n",
       "<p>80709 rows × 20 columns</p>\n",
       "</div>"
      ],
      "text/plain": [
       "               아파트     시도   시군구    읍면동     지번        거래일    전용면적   층   거래금액  \\\n",
       "0      텐즈힐아파트(1단지)  서울특별시   성동구  하왕십리동   1066 2020-01-01  84.960  19  12.00   \n",
       "1            서울숲더샵  서울특별시   성동구    행당동    377 2020-01-01  92.240  13  11.80   \n",
       "2          답십리청솔우성  서울특별시  동대문구   답십리동     80 2020-01-01  59.740   9   5.40   \n",
       "3             다우하임  서울특별시  동대문구    장안동  344-2 2020-01-01  29.980  11   2.35   \n",
       "4             면목삼익  서울특별시   중랑구    면목동   1516 2020-01-01  84.990   5   4.75   \n",
       "...            ...    ...   ...    ...    ...        ...     ...  ..    ...   \n",
       "80704      프라이어팰리스  서울특별시   강동구    암사동    413 2020-12-31  59.983  20  11.50   \n",
       "80705       우림루미아트  서울특별시   강동구    성내동    599 2020-12-31  84.500   7   7.90   \n",
       "80706        금호아파트  서울특별시   강동구    천호동     44 2020-12-31  27.610   5   3.78   \n",
       "80707    강일리버파크4단지  서울특별시   강동구    강일동    673 2020-12-31  84.740  12  11.10   \n",
       "80708    강일리버파크9단지  서울특별시   강동구    강일동    699 2020-12-31  84.740   5  10.40   \n",
       "\n",
       "          단위금액 금액구분               지번주소        ID       아파트명     세대수    임대수  \\\n",
       "0      1412.43   이상  서울 성동구 하왕십리동 1066  107240.0       텐즈힐1  1702.0  333.0   \n",
       "1      1279.27   이상     서울 성동구 행당동 377  103112.0      서울숲더샵   495.0    0.0   \n",
       "2       903.92   미만    서울 동대문구 답십리동 80    3273.0    답십리청솔우성  1542.0  432.0   \n",
       "3       783.86   미만  서울 동대문구 장안동 344-2  122416.0       다우하임    28.0    0.0   \n",
       "4       558.89   미만    서울 중랑구 면목동 1516    1247.0       면목삼익   216.0    0.0   \n",
       "...        ...  ...                ...       ...        ...     ...    ...   \n",
       "80704  1917.21   이상     서울 강동구 암사동 413   19578.0    프라이어팰리스  1622.0    0.0   \n",
       "80705   934.91   미만     서울 강동구 성내동 599   13860.0     우림루미아트    69.0    0.0   \n",
       "80706  1369.07   이상      서울 강동구 천호동 44     999.0         금호   232.0    0.0   \n",
       "80707  1309.89   이상     서울 강동구 강일동 673   27476.0  강일리버파크4단지   748.0  470.0   \n",
       "80708  1227.28   이상     서울 강동구 강일동 699   27481.0  강일리버파크9단지   841.0  737.0   \n",
       "\n",
       "         동수    용적률   건폐율    주차대수  \n",
       "0      21.0  224.0  21.0  2431.0  \n",
       "1       3.0  392.0  34.0   937.0  \n",
       "2      16.0  258.0  19.0  1377.0  \n",
       "3       1.0  607.0  58.0    22.0  \n",
       "4       3.0  402.0  27.0   233.0  \n",
       "...     ...    ...   ...     ...  \n",
       "80704  22.0  277.0  15.0  2185.0  \n",
       "80705   1.0  232.0  29.0    79.0  \n",
       "80706   1.0  248.0  22.0    37.0  \n",
       "80707  10.0  179.0  17.0   831.0  \n",
       "80708  13.0  163.0  15.0   980.0  \n",
       "\n",
       "[80709 rows x 20 columns]"
      ]
     },
     "execution_count": 170,
     "metadata": {},
     "output_type": "execute_result"
    }
   ],
   "source": [
    "# 왼쪽 외부 병합을 실행합니다.\n",
    "pd.merge(price, detail, 'left', on = '지번주소')"
   ]
  },
  {
   "cell_type": "code",
   "execution_count": 171,
   "id": "stupid-float",
   "metadata": {},
   "outputs": [],
   "source": [
    "# 가격 데이터의 외래키 컬럼명을 변경합니다.\n",
    "price = price.rename(columns = {'지번주소':'주소'})"
   ]
  },
  {
   "cell_type": "code",
   "execution_count": 172,
   "id": "adjustable-choir",
   "metadata": {},
   "outputs": [],
   "source": [
    "# 외래키 컬럼명이 서로 일치하지 않으면 반드시 지정해야 합니다.\n",
    "apt = pd.merge(price, detail, left_on = '주소', right_on = '지번주소')"
   ]
  },
  {
   "cell_type": "code",
   "execution_count": 173,
   "id": "entitled-boulder",
   "metadata": {},
   "outputs": [
    {
     "name": "stdout",
     "output_type": "stream",
     "text": [
      "<class 'pandas.core.frame.DataFrame'>\n",
      "Int64Index: 77080 entries, 0 to 77079\n",
      "Data columns (total 21 columns):\n",
      " #   Column  Non-Null Count  Dtype         \n",
      "---  ------  --------------  -----         \n",
      " 0   아파트     77080 non-null  object        \n",
      " 1   시도      77080 non-null  object        \n",
      " 2   시군구     77080 non-null  object        \n",
      " 3   읍면동     77080 non-null  object        \n",
      " 4   지번      77080 non-null  object        \n",
      " 5   거래일     77080 non-null  datetime64[ns]\n",
      " 6   전용면적    77080 non-null  float64       \n",
      " 7   층       77080 non-null  int64         \n",
      " 8   거래금액    77080 non-null  float64       \n",
      " 9   단위금액    77080 non-null  float64       \n",
      " 10  금액구분    77080 non-null  object        \n",
      " 11  주소      77080 non-null  object        \n",
      " 12  ID      77080 non-null  int64         \n",
      " 13  아파트명    77080 non-null  object        \n",
      " 14  지번주소    77080 non-null  object        \n",
      " 15  세대수     77080 non-null  int64         \n",
      " 16  임대수     77080 non-null  int64         \n",
      " 17  동수      77080 non-null  int64         \n",
      " 18  용적률     77080 non-null  int64         \n",
      " 19  건폐율     77080 non-null  int64         \n",
      " 20  주차대수    77080 non-null  int64         \n",
      "dtypes: datetime64[ns](1), float64(3), int64(8), object(9)\n",
      "memory usage: 12.9+ MB\n"
     ]
    }
   ],
   "source": [
    "# apt의 정보를 확인합니다.\n",
    "apt.info()"
   ]
  },
  {
   "cell_type": "markdown",
   "id": "brave-continuity",
   "metadata": {},
   "source": [
    "### 데이터프레임 정렬"
   ]
  },
  {
   "cell_type": "code",
   "execution_count": null,
   "id": "stopped-angola",
   "metadata": {},
   "outputs": [],
   "source": [
    "# 거래금액 컬럼 기준으로 오름차순으로 정한 결과에서 처음 5행만 출력합니다.\n",
    "apt.sort_values(['거래금액']).head()"
   ]
  },
  {
   "cell_type": "code",
   "execution_count": null,
   "id": "mechanical-kenya",
   "metadata": {},
   "outputs": [],
   "source": [
    "# 거래금액 컬럼 기준으로 오름차순으로 정한 결과에서 처음 다섯 행만 출력합니다.\n",
    "apt.sort_values(['거래금액'], ascending = False).head()"
   ]
  },
  {
   "cell_type": "code",
   "execution_count": null,
   "id": "connected-delicious",
   "metadata": {},
   "outputs": [],
   "source": [
    "# 층, 거래금액 컬럼 순으로 모두 내림차순 정렬하고 처음 다섯 행만 출력합니다.\n",
    "apt.sort_values(['층', '거래금액'], ascending = False).head()"
   ]
  },
  {
   "cell_type": "code",
   "execution_count": null,
   "id": "according-literacy",
   "metadata": {
    "scrolled": false
   },
   "outputs": [],
   "source": [
    "# 층은 내림차순, 거래금액은 오름차순으로 정렬하고 처음 다섯 행만 출력합니다.\n",
    "apt.sort_values(['층', '거래금액'], ascending = [False, True]).head()"
   ]
  },
  {
   "cell_type": "markdown",
   "id": "handmade-virus",
   "metadata": {},
   "source": [
    "### 외부 파일로 저장"
   ]
  },
  {
   "cell_type": "code",
   "execution_count": null,
   "id": "wanted-student",
   "metadata": {},
   "outputs": [],
   "source": [
    "# 현재 작업경로를 확인합니다.\n",
    "os.getcwd()"
   ]
  },
  {
   "cell_type": "code",
   "execution_count": null,
   "id": "altered-arrow",
   "metadata": {},
   "outputs": [],
   "source": [
    "# apt를 xlsx 파일로 저장합니다.\n",
    "apt.to_excel('APT_List_Seoul_2020.xlsx', index = None)"
   ]
  },
  {
   "cell_type": "code",
   "execution_count": null,
   "id": "aerial-concert",
   "metadata": {},
   "outputs": [],
   "source": [
    "# apt를 csv 파일로 저장합니다.\n",
    "apt.to_csv('APT_List_Seoul_2020.csv', index = None)"
   ]
  },
  {
   "cell_type": "code",
   "execution_count": null,
   "id": "median-survival",
   "metadata": {},
   "outputs": [],
   "source": [
    "# 현재 작업경로에 포함된 폴더명과 파일명을 출력합니다.\n",
    "os.listdir()"
   ]
  },
  {
   "cell_type": "markdown",
   "id": "vocational-sacrifice",
   "metadata": {},
   "source": [
    "---"
   ]
  }
 ],
 "metadata": {
  "kernelspec": {
   "display_name": "Python 3",
   "language": "python",
   "name": "python3"
  },
  "language_info": {
   "codemirror_mode": {
    "name": "ipython",
    "version": 3
   },
   "file_extension": ".py",
   "mimetype": "text/x-python",
   "name": "python",
   "nbconvert_exporter": "python",
   "pygments_lexer": "ipython3",
   "version": "3.9.2"
  },
  "toc": {
   "base_numbering": 1,
   "nav_menu": {},
   "number_sections": true,
   "sideBar": true,
   "skip_h1_title": false,
   "title_cell": "Table of Contents",
   "title_sidebar": "Contents",
   "toc_cell": false,
   "toc_position": {},
   "toc_section_display": true,
   "toc_window_display": true
  },
  "varInspector": {
   "cols": {
    "lenName": 16,
    "lenType": 16,
    "lenVar": 40
   },
   "kernels_config": {
    "python": {
     "delete_cmd_postfix": "",
     "delete_cmd_prefix": "del ",
     "library": "var_list.py",
     "varRefreshCmd": "print(var_dic_list())"
    },
    "r": {
     "delete_cmd_postfix": ") ",
     "delete_cmd_prefix": "rm(",
     "library": "var_list.r",
     "varRefreshCmd": "cat(var_dic_list()) "
    }
   },
   "types_to_exclude": [
    "module",
    "function",
    "builtin_function_or_method",
    "instance",
    "_Feature"
   ],
   "window_display": false
  }
 },
 "nbformat": 4,
 "nbformat_minor": 5
}
