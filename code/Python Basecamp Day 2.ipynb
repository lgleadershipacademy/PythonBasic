{
 "cells": [
  {
   "cell_type": "markdown",
   "id": "japanese-transparency",
   "metadata": {},
   "source": [
    "# Python 표준 라이브러리"
   ]
  },
  {
   "cell_type": "markdown",
   "id": "distributed-turkey",
   "metadata": {},
   "source": [
    "## 폴더와 파일 다루기"
   ]
  },
  {
   "cell_type": "markdown",
   "id": "challenging-hammer",
   "metadata": {},
   "source": [
    "### 작업경로 확인 및 변경"
   ]
  },
  {
   "cell_type": "code",
   "execution_count": null,
   "id": "united-potential",
   "metadata": {},
   "outputs": [],
   "source": [
    "# 관련 라이브러리를 호출합니다.\n",
    "import os, shutil"
   ]
  },
  {
   "cell_type": "code",
   "execution_count": null,
   "id": "mysterious-throw",
   "metadata": {},
   "outputs": [],
   "source": [
    "# 현재 작업경로를 확인합니다.\n",
    "os.getcwd()"
   ]
  },
  {
   "cell_type": "code",
   "execution_count": null,
   "id": "abstract-reader",
   "metadata": {},
   "outputs": [],
   "source": [
    "# 데이터 파일이 저장된 폴더로 작업경로를 변경합니다. (상대경로 사용)\n",
    "os.chdir('../data')"
   ]
  },
  {
   "cell_type": "markdown",
   "id": "offensive-madison",
   "metadata": {},
   "source": [
    "### 새 폴더 생성"
   ]
  },
  {
   "cell_type": "code",
   "execution_count": null,
   "id": "emerging-ethernet",
   "metadata": {},
   "outputs": [],
   "source": [
    "# 새로운 폴더를 생성합니다.\n",
    "os.mkdir('./temp')"
   ]
  },
  {
   "cell_type": "markdown",
   "id": "hindu-compilation",
   "metadata": {},
   "source": [
    "### 텍스트 파일 생성"
   ]
  },
  {
   "cell_type": "code",
   "execution_count": null,
   "id": "another-sensitivity",
   "metadata": {},
   "outputs": [],
   "source": [
    "# 현재 작업경로(cwd)에 'test.txt' 파일을 생성합니다.\n",
    "file = open('test.txt', 'w')"
   ]
  },
  {
   "cell_type": "code",
   "execution_count": null,
   "id": "ceramic-education",
   "metadata": {},
   "outputs": [],
   "source": [
    "# text.txt 파일에 row를 추가합니다.\n",
    "for i in range(1, 6):\n",
    "    row = f'{i}번째 페이지를 수집합니다.\\n'\n",
    "    file.write(row)"
   ]
  },
  {
   "cell_type": "code",
   "execution_count": null,
   "id": "celtic-communication",
   "metadata": {},
   "outputs": [],
   "source": [
    "# 텍스트 파일을 닫습니다.\n",
    "file.close()"
   ]
  },
  {
   "cell_type": "code",
   "execution_count": null,
   "id": "introductory-covering",
   "metadata": {},
   "outputs": [],
   "source": [
    "# text.txt 파일을 추가 모드로 엽니다.\n",
    "file = open('test.txt', 'a')"
   ]
  },
  {
   "cell_type": "code",
   "execution_count": null,
   "id": "killing-anaheim",
   "metadata": {},
   "outputs": [],
   "source": [
    "# text.txt 파일에 row를 추가합니다.\n",
    "for i in range(6, 11):\n",
    "    row = f'{i}번째 페이지를 수집합니다.\\n'\n",
    "    file.write(row)"
   ]
  },
  {
   "cell_type": "code",
   "execution_count": null,
   "id": "medieval-hartford",
   "metadata": {},
   "outputs": [],
   "source": [
    "# 텍스트 파일을 닫습니다.\n",
    "file.close()"
   ]
  },
  {
   "cell_type": "markdown",
   "id": "resident-bidder",
   "metadata": {},
   "source": [
    "### 텍스트 파일 읽기 (2가지 모드 비교)"
   ]
  },
  {
   "cell_type": "code",
   "execution_count": null,
   "id": "competent-storage",
   "metadata": {},
   "outputs": [],
   "source": [
    "# 'text.txt' 파일을 읽고 문자열로 결합하여 반환합니다.\n",
    "file = open('test.txt', 'r').read()"
   ]
  },
  {
   "cell_type": "code",
   "execution_count": null,
   "id": "precise-tiffany",
   "metadata": {},
   "outputs": [],
   "source": [
    "# file을 출력합니다. 한글이 제대로 출력됩니다.\n",
    "file"
   ]
  },
  {
   "cell_type": "code",
   "execution_count": null,
   "id": "diverse-overall",
   "metadata": {},
   "outputs": [],
   "source": [
    "# file의 클래스를 확인합니다.\n",
    "type(file)"
   ]
  },
  {
   "cell_type": "code",
   "execution_count": null,
   "id": "comparative-stuart",
   "metadata": {},
   "outputs": [],
   "source": [
    "# 'text.txt' 파일을 binary로 읽습니다.\n",
    "file = open('test.txt', 'rb').read()"
   ]
  },
  {
   "cell_type": "code",
   "execution_count": null,
   "id": "recovered-development",
   "metadata": {},
   "outputs": [],
   "source": [
    "# file을 출력합니다. 한글이 코드로 출력됩니다.\n",
    "file"
   ]
  },
  {
   "cell_type": "code",
   "execution_count": null,
   "id": "monetary-transformation",
   "metadata": {},
   "outputs": [],
   "source": [
    "# file의 클래스를 확인합니다.\n",
    "type(file)"
   ]
  },
  {
   "cell_type": "code",
   "execution_count": null,
   "id": "potential-gazette",
   "metadata": {},
   "outputs": [],
   "source": [
    "# file은 한글이 인코드된 상태이므로, 디코딩해야 제대로 출력됩니다.\n",
    "file.decode('utf-8')"
   ]
  },
  {
   "cell_type": "markdown",
   "id": "caring-skiing",
   "metadata": {},
   "source": [
    "### 파일 복사 및 이동"
   ]
  },
  {
   "cell_type": "code",
   "execution_count": null,
   "id": "binary-clearance",
   "metadata": {},
   "outputs": [],
   "source": [
    "# 현재 작업경로에 포함되어 있는 폴더명과 파일명을 출력합니다.\n",
    "os.listdir()"
   ]
  },
  {
   "cell_type": "code",
   "execution_count": null,
   "id": "delayed-portugal",
   "metadata": {},
   "outputs": [],
   "source": [
    "# 기존 파일을 복사합니다. (파일명, 파일명)\n",
    "shutil.copy('test.txt', 'copy1.txt')"
   ]
  },
  {
   "cell_type": "code",
   "execution_count": null,
   "id": "extra-freeze",
   "metadata": {},
   "outputs": [],
   "source": [
    "# 기존 파일을 다른 폴더로 복사합니다. (파일명, 폴더명)\n",
    "shutil.copy('test.txt', './temp')"
   ]
  },
  {
   "cell_type": "code",
   "execution_count": null,
   "id": "cognitive-holmes",
   "metadata": {},
   "outputs": [],
   "source": [
    "# 파일을 이동시킵니다. (파일명, 폴더명)\n",
    "shutil.move('copy1.txt', './temp')"
   ]
  },
  {
   "cell_type": "markdown",
   "id": "attempted-guess",
   "metadata": {},
   "source": [
    "### 파일명 변경"
   ]
  },
  {
   "cell_type": "code",
   "execution_count": null,
   "id": "fatal-damage",
   "metadata": {},
   "outputs": [],
   "source": [
    "# 작업경로를 변경합니다.\n",
    "os.chdir('./temp')"
   ]
  },
  {
   "cell_type": "code",
   "execution_count": null,
   "id": "governmental-upper",
   "metadata": {},
   "outputs": [],
   "source": [
    "# 현재 작업경로에 포함되어 있는 폴더명과 파일명을 출력합니다.\n",
    "os.listdir()"
   ]
  },
  {
   "cell_type": "code",
   "execution_count": null,
   "id": "prepared-depth",
   "metadata": {},
   "outputs": [],
   "source": [
    "# 파일명을 변경합니다. (파일명, 파일명)\n",
    "os.rename('test.txt', 'copy2.txt')"
   ]
  },
  {
   "cell_type": "code",
   "execution_count": null,
   "id": "floral-helping",
   "metadata": {},
   "outputs": [],
   "source": [
    "# 파일을 복사합니다. (파일명, 파일명)\n",
    "shutil.copy('copy2.txt', 'copy3.txt')"
   ]
  },
  {
   "cell_type": "markdown",
   "id": "controlling-clothing",
   "metadata": {},
   "source": [
    "### 파일 삭제"
   ]
  },
  {
   "cell_type": "code",
   "execution_count": null,
   "id": "considerable-editing",
   "metadata": {},
   "outputs": [],
   "source": [
    "# 현재 작업경로에 포함되어 있는 폴더명과 파일명을 출력합니다.\n",
    "os.listdir()"
   ]
  },
  {
   "cell_type": "code",
   "execution_count": null,
   "id": "strategic-grave",
   "metadata": {},
   "outputs": [],
   "source": [
    "# 한 개 파일을 삭제합니다.\n",
    "os.remove('copy1.txt')"
   ]
  },
  {
   "cell_type": "code",
   "execution_count": null,
   "id": "included-israeli",
   "metadata": {},
   "outputs": [],
   "source": [
    "# 여러 개의 파일을 한 번에 삭제하려면 아래와 같이 반복문을 실행합니다.\n",
    "for i in os.listdir():\n",
    "    if os.path.splitext(i)[-1] != '':\n",
    "        os.remove(i)"
   ]
  },
  {
   "cell_type": "markdown",
   "id": "iraqi-kernel",
   "metadata": {},
   "source": [
    "### 폴더 삭제"
   ]
  },
  {
   "cell_type": "code",
   "execution_count": null,
   "id": "administrative-research",
   "metadata": {},
   "outputs": [],
   "source": [
    "# 상위 폴더로 이동합니다.\n",
    "os.chdir('../')"
   ]
  },
  {
   "cell_type": "code",
   "execution_count": null,
   "id": "sexual-chick",
   "metadata": {},
   "outputs": [],
   "source": [
    "# 현재 작업경로에 포함되어 있는 폴더명과 파일명을 출력합니다.\n",
    "os.listdir()"
   ]
  },
  {
   "cell_type": "code",
   "execution_count": null,
   "id": "biological-mambo",
   "metadata": {},
   "outputs": [],
   "source": [
    "# 비어 있는 폴더를 삭제합니다.\n",
    "os.rmdir('temp')"
   ]
  },
  {
   "cell_type": "code",
   "execution_count": null,
   "id": "constant-system",
   "metadata": {},
   "outputs": [],
   "source": [
    "# 폴더와 파일을 모두 삭제합니다.\n",
    "# shutil.rmtree('temp')"
   ]
  },
  {
   "cell_type": "markdown",
   "id": "fluid-vatican",
   "metadata": {},
   "source": [
    "## 현재 날짜 및 시간 확인"
   ]
  },
  {
   "cell_type": "code",
   "execution_count": null,
   "id": "vanilla-omega",
   "metadata": {},
   "outputs": [],
   "source": [
    "# 관련 라이브러리를 호출합니다.\n",
    "from time import *"
   ]
  },
  {
   "cell_type": "code",
   "execution_count": null,
   "id": "labeled-oxygen",
   "metadata": {},
   "outputs": [],
   "source": [
    "# 유닉스 시간을 실수로 출력합니다.\n",
    "time()"
   ]
  },
  {
   "cell_type": "code",
   "execution_count": null,
   "id": "comparable-orchestra",
   "metadata": {},
   "outputs": [],
   "source": [
    "# 유닉스 시간을 로컬 시간으로 변환합니다.\n",
    "localtime(0)"
   ]
  },
  {
   "cell_type": "code",
   "execution_count": null,
   "id": "sustainable-photographer",
   "metadata": {},
   "outputs": [],
   "source": [
    "# 로컬 시간 데이터에서 원하는 날짜/시간 포맷으로 변환합니다.\n",
    "strftime('%Y년 %m월 %d일', localtime())"
   ]
  },
  {
   "cell_type": "markdown",
   "id": "enhanced-volume",
   "metadata": {},
   "source": [
    "## [참고] 로케일 관련 함수 소개"
   ]
  },
  {
   "cell_type": "code",
   "execution_count": null,
   "id": "relative-corporation",
   "metadata": {},
   "outputs": [],
   "source": [
    "# 로컬 시간의 타임존을 출력합니다.\n",
    "strftime('%Z', localtime())"
   ]
  },
  {
   "cell_type": "code",
   "execution_count": null,
   "id": "statistical-census",
   "metadata": {},
   "outputs": [],
   "source": [
    "# 관련 라이브러리를 호출합니다.\n",
    "import locale"
   ]
  },
  {
   "cell_type": "code",
   "execution_count": null,
   "id": "pharmaceutical-approach",
   "metadata": {},
   "outputs": [],
   "source": [
    "# 현재 설정된 로케일을 확인합니다.\n",
    "locale.getlocale()"
   ]
  },
  {
   "cell_type": "code",
   "execution_count": null,
   "id": "democratic-basis",
   "metadata": {},
   "outputs": [],
   "source": [
    "# 한국 로케일로 변경합니다.\n",
    "locale.setlocale(locale.LC_TIME, 'ko_KR')"
   ]
  },
  {
   "cell_type": "code",
   "execution_count": null,
   "id": "dominican-insulation",
   "metadata": {},
   "outputs": [],
   "source": [
    "# 로컬 시간의 타임존을 다시 출력합니다.\n",
    "strftime('%Z', localtime())"
   ]
  },
  {
   "cell_type": "markdown",
   "id": "human-lawrence",
   "metadata": {},
   "source": [
    "# numpy 기초"
   ]
  },
  {
   "cell_type": "code",
   "execution_count": null,
   "id": "facial-pizza",
   "metadata": {},
   "outputs": [],
   "source": [
    "# numpy 라이브러리를 호출합니다.\n",
    "import numpy as np"
   ]
  },
  {
   "cell_type": "markdown",
   "id": "coupled-assistant",
   "metadata": {},
   "source": [
    "## 1차원 배열 생성"
   ]
  },
  {
   "cell_type": "code",
   "execution_count": null,
   "id": "published-rally",
   "metadata": {},
   "outputs": [],
   "source": [
    "# 리스트로 1차원 배열을 생성합니다.\n",
    "ar1 = np.array([1, 2, 3])"
   ]
  },
  {
   "cell_type": "code",
   "execution_count": null,
   "id": "latter-chocolate",
   "metadata": {},
   "outputs": [],
   "source": [
    "# ar1을 출력합니다.\n",
    "ar1"
   ]
  },
  {
   "cell_type": "code",
   "execution_count": null,
   "id": "above-radius",
   "metadata": {},
   "outputs": [],
   "source": [
    "# ar1의 클래스를 확인합니다.\n",
    "type(ar1)"
   ]
  },
  {
   "cell_type": "code",
   "execution_count": null,
   "id": "dramatic-porcelain",
   "metadata": {},
   "outputs": [],
   "source": [
    "# ar1의 차원을 확인합니다. (1차원)\n",
    "ar1.ndim"
   ]
  },
  {
   "cell_type": "code",
   "execution_count": null,
   "id": "attractive-corps",
   "metadata": {},
   "outputs": [],
   "source": [
    "# ar1의 형태를 확인합니다. \n",
    "ar1.shape"
   ]
  },
  {
   "cell_type": "code",
   "execution_count": null,
   "id": "tested-consent",
   "metadata": {},
   "outputs": [],
   "source": [
    "# ar1 원소의 자료형을 확인합니다.\n",
    "ar1.dtype"
   ]
  },
  {
   "cell_type": "code",
   "execution_count": null,
   "id": "innocent-think",
   "metadata": {},
   "outputs": [],
   "source": [
    "# 0부터 4까지 연속된 정수를 원소로 갖는 1차원 배열을 생성합니다.\n",
    "np.arange(5)"
   ]
  },
  {
   "cell_type": "code",
   "execution_count": null,
   "id": "dominican-classics",
   "metadata": {},
   "outputs": [],
   "source": [
    "# 1부터 5까지 연속된 정수를를 원소로 갖는 1차원 배열을 생성합니다.\n",
    "np.arange(1, 6)"
   ]
  },
  {
   "cell_type": "code",
   "execution_count": null,
   "id": "destroyed-boundary",
   "metadata": {},
   "outputs": [],
   "source": [
    "# 1부터 10에서 홀수를 원소로 갖는 1차원 배열을 생성합니다.\n",
    "np.arange(1, 11, 2)"
   ]
  },
  {
   "cell_type": "code",
   "execution_count": null,
   "id": "dutch-fusion",
   "metadata": {},
   "outputs": [],
   "source": [
    "# 0부터 1까지 간격이 0.1인 실수를 원소로 갖는 1차원 배열을 생성합니다.\n",
    "np.arange(0, 1, 0.1)"
   ]
  },
  {
   "cell_type": "markdown",
   "id": "random-product",
   "metadata": {},
   "source": [
    "## 1차원 배열의 형 변환"
   ]
  },
  {
   "cell_type": "code",
   "execution_count": null,
   "id": "deluxe-measurement",
   "metadata": {},
   "outputs": [],
   "source": [
    "# 자료형이 섞여 있는 리스트로 1차원 배열을 생성합니다.\n",
    "ar1 = np.array([1, 2.0, '3'])"
   ]
  },
  {
   "cell_type": "code",
   "execution_count": null,
   "id": "falling-scope",
   "metadata": {},
   "outputs": [],
   "source": [
    "# ar1을 출력합니다.\n",
    "ar1"
   ]
  },
  {
   "cell_type": "code",
   "execution_count": null,
   "id": "affiliated-transsexual",
   "metadata": {},
   "outputs": [],
   "source": [
    "# ar1의 자료형을 확인합니다.\n",
    "ar1.dtype"
   ]
  },
  {
   "cell_type": "code",
   "execution_count": null,
   "id": "green-edinburgh",
   "metadata": {},
   "outputs": [],
   "source": [
    "# ar1의 원소를 실수로 변환합니다.\n",
    "ar1.astype('float')"
   ]
  },
  {
   "cell_type": "code",
   "execution_count": null,
   "id": "genuine-seeking",
   "metadata": {},
   "outputs": [],
   "source": [
    "# ar1의 원소를 정수로 변환합니다. (에러가 발생합니다!)\n",
    "ar1.astype('int')"
   ]
  },
  {
   "cell_type": "markdown",
   "id": "fifth-medium",
   "metadata": {},
   "source": [
    "## 1차원 배열의 인덱싱"
   ]
  },
  {
   "cell_type": "code",
   "execution_count": null,
   "id": "statutory-resolution",
   "metadata": {},
   "outputs": [],
   "source": [
    "# 1부터 11에서 홀수를 원소로 갖는 1차원 배열을 생성합니다. \n",
    "ar1 = np.arange(1, 12, 2)"
   ]
  },
  {
   "cell_type": "code",
   "execution_count": null,
   "id": "raised-richardson",
   "metadata": {},
   "outputs": [],
   "source": [
    "# ar1의 0번 인덱스(첫 번째) 원소를 선택합니다.\n",
    "ar1[0]"
   ]
  },
  {
   "cell_type": "code",
   "execution_count": null,
   "id": "velvet-bottom",
   "metadata": {},
   "outputs": [],
   "source": [
    "# ar1의 1번 인덱스(두 번째) 원소를 선택합니다.\n",
    "ar1[1]"
   ]
  },
  {
   "cell_type": "code",
   "execution_count": null,
   "id": "pressed-import",
   "metadata": {},
   "outputs": [],
   "source": [
    "# ar1의 마지막 원소를 선택합니다.\n",
    "ar1[-1]"
   ]
  },
  {
   "cell_type": "markdown",
   "id": "heard-alliance",
   "metadata": {},
   "source": [
    "## 1차원 배열의 슬라이싱"
   ]
  },
  {
   "cell_type": "code",
   "execution_count": null,
   "id": "checked-madonna",
   "metadata": {},
   "outputs": [],
   "source": [
    "# ar1의 0~2번 인덱스 원소를 선택합니다. \n",
    "ar1[:3]"
   ]
  },
  {
   "cell_type": "code",
   "execution_count": null,
   "id": "thorough-jacket",
   "metadata": {},
   "outputs": [],
   "source": [
    "# ar1의 3번 인덱스부터 마지막 원소까지 선택합니다.\n",
    "ar1[3:]"
   ]
  },
  {
   "cell_type": "code",
   "execution_count": null,
   "id": "considerable-fireplace",
   "metadata": {},
   "outputs": [],
   "source": [
    "# ar1의 전체 원소를 선택합니다.\n",
    "ar1[:]"
   ]
  },
  {
   "cell_type": "code",
   "execution_count": null,
   "id": "controlling-transparency",
   "metadata": {},
   "outputs": [],
   "source": [
    "# ar1에서 리스트로 지정된 인덱스 순서대로 원소를 선택합니다.\n",
    "ar1[[3, 0, 2, 4, 1]]"
   ]
  },
  {
   "cell_type": "code",
   "execution_count": null,
   "id": "controlled-binary",
   "metadata": {},
   "outputs": [],
   "source": [
    "# 오름차순 정렬 실습을 위해 ar1에 재할당합니다.\n",
    "ar1 = ar1[[3, 0, 2, 4, 1]]"
   ]
  },
  {
   "cell_type": "markdown",
   "id": "fifty-people",
   "metadata": {},
   "source": [
    "## 1차원 배열의 원소 정렬"
   ]
  },
  {
   "cell_type": "code",
   "execution_count": null,
   "id": "considerable-shore",
   "metadata": {},
   "outputs": [],
   "source": [
    "# ar1의 원소를 오름차순으로 정렬한 결과를 출력합니다.\n",
    "np.sort(ar1)"
   ]
  },
  {
   "cell_type": "code",
   "execution_count": null,
   "id": "blank-message",
   "metadata": {},
   "outputs": [],
   "source": [
    "# ar1을 출력합니다.\n",
    "ar1"
   ]
  },
  {
   "cell_type": "code",
   "execution_count": null,
   "id": "reflected-honey",
   "metadata": {},
   "outputs": [],
   "source": [
    "# ar1을 오름차순으로 정렬한 결과를 ar1에 재할당합니다.\n",
    "ar1.sort()"
   ]
  },
  {
   "cell_type": "code",
   "execution_count": null,
   "id": "funded-shark",
   "metadata": {},
   "outputs": [],
   "source": [
    "# ar1을 출력합니다.\n",
    "ar1"
   ]
  },
  {
   "cell_type": "code",
   "execution_count": null,
   "id": "composite-representation",
   "metadata": {},
   "outputs": [],
   "source": [
    "# 1차원 배열의 원소를 역순으로 정렬합니다.\n",
    "ar1 = ar1[::-1]"
   ]
  },
  {
   "cell_type": "code",
   "execution_count": null,
   "id": "organized-merchandise",
   "metadata": {},
   "outputs": [],
   "source": [
    "# ar1을 출력합니다.\n",
    "ar1"
   ]
  },
  {
   "cell_type": "markdown",
   "id": "neural-norman",
   "metadata": {},
   "source": [
    "## 2차원 배열 생성"
   ]
  },
  {
   "cell_type": "code",
   "execution_count": null,
   "id": "spanish-flexibility",
   "metadata": {},
   "outputs": [],
   "source": [
    "# 리스트로 2차원 배열을 생성합니다.\n",
    "ar2 = np.array([[1, 2, 3], [4, 5, 6]])"
   ]
  },
  {
   "cell_type": "code",
   "execution_count": null,
   "id": "architectural-wallpaper",
   "metadata": {},
   "outputs": [],
   "source": [
    "# ar2를 출력합니다.\n",
    "ar2"
   ]
  },
  {
   "cell_type": "code",
   "execution_count": null,
   "id": "dutch-saying",
   "metadata": {},
   "outputs": [],
   "source": [
    "# ar2의 클래스를 확인합니다.\n",
    "type(ar2)"
   ]
  },
  {
   "cell_type": "code",
   "execution_count": null,
   "id": "gorgeous-quality",
   "metadata": {},
   "outputs": [],
   "source": [
    "# ar2의 차원을 확인합니다. (2차원)\n",
    "ar2.ndim"
   ]
  },
  {
   "cell_type": "code",
   "execution_count": null,
   "id": "minimal-allowance",
   "metadata": {},
   "outputs": [],
   "source": [
    "# ar2의 형태를 확인합니다. \n",
    "ar2.shape"
   ]
  },
  {
   "cell_type": "code",
   "execution_count": null,
   "id": "instant-solution",
   "metadata": {},
   "outputs": [],
   "source": [
    "# ar2 원소의 자료형을 확인합니다.\n",
    "ar2.dtype"
   ]
  },
  {
   "cell_type": "markdown",
   "id": "patent-recorder",
   "metadata": {},
   "source": [
    "## 배열의 재구조"
   ]
  },
  {
   "cell_type": "code",
   "execution_count": null,
   "id": "stable-capital",
   "metadata": {},
   "outputs": [],
   "source": [
    "# 0부터 11까지 12개의 원소를 갖는 1차원 배열을 생성합니다.\n",
    "ar1 = np.arange(12)"
   ]
  },
  {
   "cell_type": "code",
   "execution_count": null,
   "id": "utility-acrobat",
   "metadata": {},
   "outputs": [],
   "source": [
    "# ar1을 3행 4열인 2차원 배열로 변환합니다.\n",
    "ar1.reshape(3, 4)"
   ]
  },
  {
   "cell_type": "code",
   "execution_count": null,
   "id": "animal-professor",
   "metadata": {},
   "outputs": [],
   "source": [
    "# 배열의 구조를 변경할 때 원소의 입력방향을 세로로 지정합니다.\n",
    "ar1.reshape(3, 4, order = 'F')"
   ]
  },
  {
   "cell_type": "code",
   "execution_count": null,
   "id": "inner-uncertainty",
   "metadata": {},
   "outputs": [],
   "source": [
    "# 행 위치에 숫자, 열 위치에 '-1'을 할당하면 열의 크기가 자동 계산됩니다.\n",
    "ar1.reshape(4, -1)"
   ]
  },
  {
   "cell_type": "code",
   "execution_count": null,
   "id": "lucky-stretch",
   "metadata": {},
   "outputs": [],
   "source": [
    "# 2차원 배열 인덱싱 실습을 위해 ar2에 재할당합니다.\n",
    "ar2 = ar1.reshape(4, -1)"
   ]
  },
  {
   "cell_type": "markdown",
   "id": "visible-router",
   "metadata": {},
   "source": [
    "## 2차원 배열의 인덱싱 및 슬라이싱"
   ]
  },
  {
   "cell_type": "code",
   "execution_count": null,
   "id": "lesbian-flooring",
   "metadata": {},
   "outputs": [],
   "source": [
    "# ar2의 1행 1열의 원소를 선택합니다.\n",
    "ar2[0, 0]"
   ]
  },
  {
   "cell_type": "code",
   "execution_count": null,
   "id": "legislative-horror",
   "metadata": {},
   "outputs": [],
   "source": [
    "# ar2의 2행 2열의 원소를 선택합니다. \n",
    "ar2[1, 1]"
   ]
  },
  {
   "cell_type": "code",
   "execution_count": null,
   "id": "answering-huntington",
   "metadata": {},
   "outputs": [],
   "source": [
    "# ar2의 1~2행 1~2열 원소를 선택합니다.\n",
    "ar2[0:2, 0:2]"
   ]
  },
  {
   "cell_type": "code",
   "execution_count": null,
   "id": "fiscal-reaction",
   "metadata": {},
   "outputs": [],
   "source": [
    "# ar2의 전체 행 2~3열 원소를 선택합니다.\n",
    "ar2[:, 1:3]"
   ]
  },
  {
   "cell_type": "code",
   "execution_count": null,
   "id": "exotic-start",
   "metadata": {},
   "outputs": [],
   "source": [
    "# ar2의 열 순서를 변경합니다.\n",
    "ar2[:, [2, 1]]"
   ]
  },
  {
   "cell_type": "markdown",
   "id": "exciting-springfield",
   "metadata": {},
   "source": [
    "# pandas 기초"
   ]
  },
  {
   "cell_type": "code",
   "execution_count": null,
   "id": "absolute-reasoning",
   "metadata": {},
   "outputs": [],
   "source": [
    "# pandas 라이브러리를 호출합니다.\n",
    "import pandas as pd"
   ]
  },
  {
   "cell_type": "markdown",
   "id": "palestinian-savannah",
   "metadata": {},
   "source": [
    "## 시리즈 생성"
   ]
  },
  {
   "cell_type": "code",
   "execution_count": null,
   "id": "lovely-tsunami",
   "metadata": {},
   "outputs": [],
   "source": [
    "# 1차원 배열로 시리즈를 생성합니다.\n",
    "sr = pd.Series(np.arange(1, 10, 2))"
   ]
  },
  {
   "cell_type": "code",
   "execution_count": null,
   "id": "agricultural-period",
   "metadata": {},
   "outputs": [],
   "source": [
    "# sr을 출력합니다.\n",
    "sr"
   ]
  },
  {
   "cell_type": "code",
   "execution_count": null,
   "id": "funded-metadata",
   "metadata": {},
   "outputs": [],
   "source": [
    "# sr의 클래스를 확인합니다.\n",
    "type(sr)"
   ]
  },
  {
   "cell_type": "code",
   "execution_count": null,
   "id": "civic-happening",
   "metadata": {},
   "outputs": [],
   "source": [
    "# 리스트로 시리즈를 생성합니다. (value, index 순)\n",
    "pd.Series([1, 3, 5, 7, 9], ['a', 'b', 'c', 'd', 'e'])"
   ]
  },
  {
   "cell_type": "code",
   "execution_count": null,
   "id": "protected-donna",
   "metadata": {},
   "outputs": [],
   "source": [
    "# 딕셔너리로 시리즈를 생성합니다. (key가 index로 자동 설정)\n",
    "pd.Series({'a':1, 'b':3, 'c':5, 'd':7, 'e':9})"
   ]
  },
  {
   "cell_type": "markdown",
   "id": "funded-copyright",
   "metadata": {},
   "source": [
    "## 시리즈 확인"
   ]
  },
  {
   "cell_type": "code",
   "execution_count": null,
   "id": "lyric-bottom",
   "metadata": {},
   "outputs": [],
   "source": [
    "# sr의 형태를 출력합니다.\n",
    "sr.shape"
   ]
  },
  {
   "cell_type": "code",
   "execution_count": null,
   "id": "anonymous-treatment",
   "metadata": {},
   "outputs": [],
   "source": [
    "# sr의 값을 출력합니다.\n",
    "sr.values"
   ]
  },
  {
   "cell_type": "code",
   "execution_count": null,
   "id": "metric-evans",
   "metadata": {},
   "outputs": [],
   "source": [
    "# sr의 인덱스명을 출력합니다.\n",
    "sr.index"
   ]
  },
  {
   "cell_type": "code",
   "execution_count": null,
   "id": "under-peninsula",
   "metadata": {},
   "outputs": [],
   "source": [
    "# sr의 자료형을 출력합니다.\n",
    "sr.dtypes"
   ]
  },
  {
   "cell_type": "code",
   "execution_count": null,
   "id": "under-london",
   "metadata": {},
   "outputs": [],
   "source": [
    "# 시리즈의 인덱스명을 변경합니다.\n",
    "sr.index = ['a', 'b', 'c', 'd', 'e']"
   ]
  },
  {
   "cell_type": "code",
   "execution_count": null,
   "id": "chemical-citizen",
   "metadata": {},
   "outputs": [],
   "source": [
    "# sr을 출력합니다.\n",
    "sr"
   ]
  },
  {
   "cell_type": "markdown",
   "id": "laughing-effects",
   "metadata": {},
   "source": [
    "## 시리즈의 팬시 인덱싱"
   ]
  },
  {
   "cell_type": "code",
   "execution_count": null,
   "id": "proof-governor",
   "metadata": {},
   "outputs": [],
   "source": [
    "# iloc 인덱싱은 대괄호 안에 정수 인덱스 스칼라를 지정하면 해당 원소를 반환합니다.\n",
    "sr.iloc[0]"
   ]
  },
  {
   "cell_type": "code",
   "execution_count": null,
   "id": "cloudy-wildlife",
   "metadata": {},
   "outputs": [],
   "source": [
    "# 대괄호 안에 스칼라 대신 리스트를 지정하면 항상 시리즈로 반환됩니다.\n",
    "sr.iloc[[0]]"
   ]
  },
  {
   "cell_type": "code",
   "execution_count": null,
   "id": "latest-involvement",
   "metadata": {},
   "outputs": [],
   "source": [
    "# 연속하지 않는 인덱스를 지정할 때 반드시 리스트로 할당해야 합니다.\n",
    "sr.iloc[[1, 3]]"
   ]
  },
  {
   "cell_type": "code",
   "execution_count": null,
   "id": "dramatic-associate",
   "metadata": {},
   "outputs": [],
   "source": [
    "# sr의 1~2번 인덱스 원소를 선택하여 시리즈로 출력합니다.\n",
    "sr.iloc[1:3]"
   ]
  },
  {
   "cell_type": "code",
   "execution_count": null,
   "id": "closing-concept",
   "metadata": {},
   "outputs": [],
   "source": [
    "# loc 인덱싱은 대괄호 안에 인덱스명 스칼라를 지정하면 해당 원소를 반환합니다.\n",
    "sr.loc['a']"
   ]
  },
  {
   "cell_type": "code",
   "execution_count": null,
   "id": "infinite-fireplace",
   "metadata": {},
   "outputs": [],
   "source": [
    "# 대괄호 안에 리스트를 지정하면 항상 시리즈로 반환됩니다.\n",
    "sr.loc[['a']]"
   ]
  },
  {
   "cell_type": "code",
   "execution_count": null,
   "id": "genetic-delay",
   "metadata": {},
   "outputs": [],
   "source": [
    "# sr의 인덱스명이 'b', 'd'인 원소를 선택합니다.\n",
    "sr.loc[['b', 'd']]"
   ]
  },
  {
   "cell_type": "code",
   "execution_count": null,
   "id": "emerging-federal",
   "metadata": {},
   "outputs": [],
   "source": [
    "# sr의 인덱스명이 'a', 'b', 'c'인 원소를 선택합니다.\n",
    "sr.loc['a':'c']"
   ]
  },
  {
   "cell_type": "markdown",
   "id": "southeast-electricity",
   "metadata": {},
   "source": [
    "## 시리즈의 불리언 인덱싱"
   ]
  },
  {
   "cell_type": "code",
   "execution_count": null,
   "id": "velvet-permission",
   "metadata": {},
   "outputs": [],
   "source": [
    "# sr 원소의 자료형을 확인합니다.\n",
    "sr.dtype"
   ]
  },
  {
   "cell_type": "code",
   "execution_count": null,
   "id": "interstate-range",
   "metadata": {},
   "outputs": [],
   "source": [
    "# sr로 비교 연산을 실행합니다.\n",
    "sr >= 5"
   ]
  },
  {
   "cell_type": "code",
   "execution_count": null,
   "id": "paperback-stupid",
   "metadata": {},
   "outputs": [],
   "source": [
    "# 대괄호 안에 비교 연산 코드를 지정하면 True에 해당하는 원소만 추출합니다.\n",
    "sr[sr >= 5]"
   ]
  },
  {
   "cell_type": "code",
   "execution_count": null,
   "id": "occupied-chapel",
   "metadata": {},
   "outputs": [],
   "source": [
    "# 두 개 이상의 비교 연산 결과로 불리언 인덱싱을 합니다.\n",
    "sr[(sr >= 5) & (sr <= 7)]"
   ]
  },
  {
   "cell_type": "markdown",
   "id": "parallel-ensemble",
   "metadata": {},
   "source": [
    "## 시리즈 원소 추가 및 삭제"
   ]
  },
  {
   "cell_type": "code",
   "execution_count": null,
   "id": "aboriginal-shape",
   "metadata": {},
   "outputs": [],
   "source": [
    "# 새로운 시리즈를 생성합니다.\n",
    "nr = pd.Series(range(2, 11, 2))"
   ]
  },
  {
   "cell_type": "code",
   "execution_count": null,
   "id": "southwest-quarter",
   "metadata": {},
   "outputs": [],
   "source": [
    "# nr을 출력합니다.\n",
    "nr"
   ]
  },
  {
   "cell_type": "code",
   "execution_count": null,
   "id": "informative-cause",
   "metadata": {},
   "outputs": [],
   "source": [
    "# append() 함수로 기존 시리즈에 새로운 시리즈를 추가합니다\n",
    "sr = sr.append(nr)"
   ]
  },
  {
   "cell_type": "code",
   "execution_count": null,
   "id": "monthly-daily",
   "metadata": {},
   "outputs": [],
   "source": [
    "# sr을 출력합니다.\n",
    "sr"
   ]
  },
  {
   "cell_type": "code",
   "execution_count": null,
   "id": "elementary-liabilities",
   "metadata": {},
   "outputs": [],
   "source": [
    "# drop() 함수에 인덱스명을 입력하여 원소를 삭제합니다.\n",
    "sr.drop(['a', 4])"
   ]
  },
  {
   "cell_type": "markdown",
   "id": "alone-amateur",
   "metadata": {},
   "source": [
    "## 시리즈 원소 변경"
   ]
  },
  {
   "cell_type": "code",
   "execution_count": null,
   "id": "controlled-spanking",
   "metadata": {},
   "outputs": [],
   "source": [
    "# sr의 전체 원소에 1을 더합니다.\n",
    "sr + 1"
   ]
  },
  {
   "cell_type": "code",
   "execution_count": null,
   "id": "variable-ordinance",
   "metadata": {},
   "outputs": [],
   "source": [
    "# sr의 전체 원소에 2를 곱합니다.\n",
    "sr * 2"
   ]
  },
  {
   "cell_type": "code",
   "execution_count": null,
   "id": "wound-delivery",
   "metadata": {},
   "outputs": [],
   "source": [
    "# sr에서 9보다 큰 원소를 시리즈로 반환합니다.\n",
    "sr[sr >= 9]"
   ]
  },
  {
   "cell_type": "code",
   "execution_count": null,
   "id": "sustained-cathedral",
   "metadata": {},
   "outputs": [],
   "source": [
    "# sr에서 9보다 큰 원소를 문자열로 변경합니다.\n",
    "sr[sr >= 9] = ['가', '나']"
   ]
  },
  {
   "cell_type": "code",
   "execution_count": null,
   "id": "dirty-storm",
   "metadata": {},
   "outputs": [],
   "source": [
    "# sr을 출력합니다.\n",
    "sr"
   ]
  },
  {
   "cell_type": "code",
   "execution_count": null,
   "id": "blond-saver",
   "metadata": {},
   "outputs": [],
   "source": [
    "# sr의 1번 인덱스(두 번째) 원소의 클래스를 확인합니다.\n",
    "type(sr.iloc[1])"
   ]
  },
  {
   "cell_type": "markdown",
   "id": "sensitive-classroom",
   "metadata": {},
   "source": [
    "## 시리즈의 결측값 처리"
   ]
  },
  {
   "cell_type": "code",
   "execution_count": null,
   "id": "forced-depression",
   "metadata": {},
   "outputs": [],
   "source": [
    "# sr의 원소 '가', '나'를 결측값으로 변경합니다. \n",
    "sr[(sr == '가') | (sr == '나')] = np.nan"
   ]
  },
  {
   "cell_type": "code",
   "execution_count": null,
   "id": "waiting-pontiac",
   "metadata": {},
   "outputs": [],
   "source": [
    "# sr을 출력합니다.\n",
    "sr"
   ]
  },
  {
   "cell_type": "code",
   "execution_count": null,
   "id": "identical-turkey",
   "metadata": {},
   "outputs": [],
   "source": [
    "# sr의 결측값 개수를 출력합니다.\n",
    "sr.isna().sum()"
   ]
  },
  {
   "cell_type": "code",
   "execution_count": null,
   "id": "substantial-northern",
   "metadata": {},
   "outputs": [],
   "source": [
    "# sr의 결측값을 0으로 변경한 결과를 출력합니다.\n",
    "sr.fillna(0)"
   ]
  },
  {
   "cell_type": "code",
   "execution_count": null,
   "id": "composed-retail",
   "metadata": {},
   "outputs": [],
   "source": [
    "# sr의 결측값을 삭제한 결과를 sr에 재할당합니다.\n",
    "sr = sr.dropna()"
   ]
  },
  {
   "cell_type": "code",
   "execution_count": null,
   "id": "incorporate-seminar",
   "metadata": {},
   "outputs": [],
   "source": [
    "# sr을 출력합니다.\n",
    "sr"
   ]
  },
  {
   "cell_type": "markdown",
   "id": "associate-parker",
   "metadata": {},
   "source": [
    "## 데이터프레임 생성"
   ]
  },
  {
   "cell_type": "code",
   "execution_count": null,
   "id": "immune-commons",
   "metadata": {},
   "outputs": [],
   "source": [
    "# 리스트로 데이터프레임을 생성합니다.\n",
    "df = pd.DataFrame([[1, 2, 3], [4, 5, 6], [7, 8, 9]],\n",
    "                  index = [1, 2, 3],\n",
    "                  columns = ['A반', 'B반', 'C반'])"
   ]
  },
  {
   "cell_type": "code",
   "execution_count": null,
   "id": "inner-hindu",
   "metadata": {},
   "outputs": [],
   "source": [
    "# df를 출력합니다.\n",
    "df"
   ]
  },
  {
   "cell_type": "code",
   "execution_count": null,
   "id": "promising-composer",
   "metadata": {},
   "outputs": [],
   "source": [
    "# df의 클래스를 확인합니다.\n",
    "type(df)"
   ]
  },
  {
   "cell_type": "code",
   "execution_count": null,
   "id": "illegal-leonard",
   "metadata": {},
   "outputs": [],
   "source": [
    "# df의 처음 다섯 행을 출력합니다.\n",
    "df.head()"
   ]
  },
  {
   "cell_type": "code",
   "execution_count": null,
   "id": "eleven-minutes",
   "metadata": {},
   "outputs": [],
   "source": [
    "# 딕셔너리로 데이터프레임을 생성합니다.\n",
    "pd.DataFrame({'A반':[1, 2, 3], 'B반':[4, 5, 6], 'C반':[7, 8, 9]})"
   ]
  },
  {
   "cell_type": "code",
   "execution_count": null,
   "id": "focused-sustainability",
   "metadata": {},
   "outputs": [],
   "source": [
    "# 딕셔너리를 원소로 갖는 리스트로 데이터프레임을 생성합니다.\n",
    "pd.DataFrame([{'A반': 1, 'B반': 2, 'C반': 3},\n",
    "              {'A반': 4, 'B반': 5, 'C반': 6},\n",
    "              {'A반': 7, 'B반': 8, 'C반': 9}])"
   ]
  },
  {
   "cell_type": "markdown",
   "id": "separate-clarity",
   "metadata": {},
   "source": [
    "## 데이터프레임 확인"
   ]
  },
  {
   "cell_type": "code",
   "execution_count": null,
   "id": "waiting-camel",
   "metadata": {},
   "outputs": [],
   "source": [
    "# df의 형태를 튜플로 출력합니다. (행의 수, 열의 수)\n",
    "df.shape"
   ]
  },
  {
   "cell_type": "code",
   "execution_count": null,
   "id": "composite-bible",
   "metadata": {},
   "outputs": [],
   "source": [
    "# df의 값을 2차원 배열로 출력합니다.\n",
    "df.values"
   ]
  },
  {
   "cell_type": "code",
   "execution_count": null,
   "id": "beneficial-latest",
   "metadata": {},
   "outputs": [],
   "source": [
    "# df의 인덱스명을 출력합니다. \n",
    "df.index"
   ]
  },
  {
   "cell_type": "code",
   "execution_count": null,
   "id": "iraqi-morgan",
   "metadata": {},
   "outputs": [],
   "source": [
    "# df의 컬럼명을 출력합니다. \n",
    "df.columns"
   ]
  },
  {
   "cell_type": "code",
   "execution_count": null,
   "id": "individual-hardwood",
   "metadata": {},
   "outputs": [],
   "source": [
    "# df의 컬럼별 자료형을 출력합니다. \n",
    "df.dtypes"
   ]
  },
  {
   "cell_type": "code",
   "execution_count": null,
   "id": "collaborative-spirituality",
   "metadata": {},
   "outputs": [],
   "source": [
    "# df의 정보를 한 번에 확인합니다.\n",
    "df.info()"
   ]
  },
  {
   "cell_type": "code",
   "execution_count": null,
   "id": "floppy-entity",
   "metadata": {},
   "outputs": [],
   "source": [
    "# df의 컬럼별 기술통계량을 한꺼번에 출력합니다. \n",
    "df.describe()"
   ]
  },
  {
   "cell_type": "markdown",
   "id": "terminal-roommate",
   "metadata": {},
   "source": [
    "# 데이터 입출력"
   ]
  },
  {
   "cell_type": "markdown",
   "id": "israeli-water",
   "metadata": {},
   "source": [
    "## xlsx 파일 입출력"
   ]
  },
  {
   "cell_type": "code",
   "execution_count": null,
   "id": "voluntary-wales",
   "metadata": {},
   "outputs": [],
   "source": [
    "!pip install openpyxl"
   ]
  },
  {
   "cell_type": "code",
   "execution_count": null,
   "id": "sustained-blank",
   "metadata": {},
   "outputs": [],
   "source": [
    "# xlsx 파일을 읽고 데이터프레임을 생성합니다.\n",
    "df = pd.read_excel('KBO_Hitters_2020.xlsx')"
   ]
  },
  {
   "cell_type": "code",
   "execution_count": null,
   "id": "reliable-combat",
   "metadata": {},
   "outputs": [],
   "source": [
    "# df의 정보를 한 번에 확인합니다.\n",
    "df.info()"
   ]
  },
  {
   "cell_type": "code",
   "execution_count": null,
   "id": "departmental-rally",
   "metadata": {},
   "outputs": [],
   "source": [
    "# df의 처음 다섯 행을 출력합니다.\n",
    "df.head()"
   ]
  },
  {
   "cell_type": "code",
   "execution_count": null,
   "id": "derived-result",
   "metadata": {},
   "outputs": [],
   "source": [
    "# 데이터프레임을 xlsx 파일로 저장합니다.\n",
    "df.to_excel('test.xlsx', sheet_name = 'test', index = None)"
   ]
  },
  {
   "cell_type": "markdown",
   "id": "shared-champion",
   "metadata": {},
   "source": [
    "## csv 파일 인코딩 방식 확인 및 입출력"
   ]
  },
  {
   "cell_type": "code",
   "execution_count": null,
   "id": "consolidated-substance",
   "metadata": {},
   "outputs": [],
   "source": [
    "# 관련 라이브러리를 호출합니다.\n",
    "import chardet"
   ]
  },
  {
   "cell_type": "code",
   "execution_count": null,
   "id": "willing-transcription",
   "metadata": {},
   "outputs": [],
   "source": [
    "# 텍스트 파일을 bytes 모드로 읽습니다.\n",
    "raw = open('KBO_Hitters_2020.csv', 'rb').read()"
   ]
  },
  {
   "cell_type": "code",
   "execution_count": null,
   "id": "consecutive-inspiration",
   "metadata": {},
   "outputs": [],
   "source": [
    "# 텍스트 파일의 문자 인코딩 방식을 확인합니다.\n",
    "chardet.detect(raw)"
   ]
  },
  {
   "cell_type": "code",
   "execution_count": null,
   "id": "specialized-cameroon",
   "metadata": {},
   "outputs": [],
   "source": [
    "# 텍스트 파일을 읽고 데이터프레임을 생성합니다.\n",
    "df = pd.read_csv('KBO_Hitters_2020.csv', encoding = 'EUC-KR')"
   ]
  },
  {
   "cell_type": "code",
   "execution_count": null,
   "id": "endless-operator",
   "metadata": {},
   "outputs": [],
   "source": [
    "# 데이터프레임을 csv 파일로 저장합니다.\n",
    "df.to_csv('test.csv', index = None, encoding = 'EUC-KR')"
   ]
  },
  {
   "cell_type": "markdown",
   "id": "healthy-nowhere",
   "metadata": {},
   "source": [
    "## 데이터프레임 팬시 인덱싱"
   ]
  },
  {
   "cell_type": "code",
   "execution_count": null,
   "id": "material-venice",
   "metadata": {},
   "outputs": [],
   "source": [
    "# 정수 인덱스를 스칼라로 지정하면 해당 행을 선택하여 시리즈로 출력합니다.\n",
    "df.iloc[0]"
   ]
  },
  {
   "cell_type": "code",
   "execution_count": null,
   "id": "noble-earthquake",
   "metadata": {},
   "outputs": [],
   "source": [
    "# 정수 인덱스를 리스트로 지정하면 해당 행을 선택하여 데이터프레임으로 출력합니다.\n",
    "df.iloc[[0]]"
   ]
  },
  {
   "cell_type": "code",
   "execution_count": null,
   "id": "promotional-fight",
   "metadata": {},
   "outputs": [],
   "source": [
    "# 대괄호 안에 콜론을 사용하여 슬라이싱하면 해당 행을 데이터프레임으로 반환합니다.\n",
    "df.iloc[0:10]"
   ]
  },
  {
   "cell_type": "code",
   "execution_count": null,
   "id": "abstract-richards",
   "metadata": {},
   "outputs": [],
   "source": [
    "# 컬럼을 선택하려면 대괄호 안에 콤마(,)를 추가하고 콤마 뒤에 정수 인덱스를 지정합니다.\n",
    "df.iloc[0:10, ]"
   ]
  },
  {
   "cell_type": "code",
   "execution_count": null,
   "id": "driving-curtis",
   "metadata": {},
   "outputs": [],
   "source": [
    "# df의 0~9번 인덱스 행, 0~11번 인덱스 컬럼을 데이터프레임으로 반환합니다.\n",
    "df.iloc[0:10, 0:12]"
   ]
  },
  {
   "cell_type": "code",
   "execution_count": null,
   "id": "early-rings",
   "metadata": {},
   "outputs": [],
   "source": [
    "# 대괄호 안에 리스트를 지정하면 원하는 순서대로 선택할 수 있습니다.\n",
    "df.iloc[:, [1, 0, 4, 5, 6]]"
   ]
  },
  {
   "cell_type": "code",
   "execution_count": null,
   "id": "necessary-pepper",
   "metadata": {},
   "outputs": [],
   "source": [
    "# df의 인덱스를 정수 1부터 시작하도록 변경합니다.\n",
    "df.index = range(1, 297)"
   ]
  },
  {
   "cell_type": "code",
   "execution_count": null,
   "id": "wrapped-commissioner",
   "metadata": {},
   "outputs": [],
   "source": [
    "# df의 인덱스명이 1인 행의 전체 컬럼을 선택하여 시리즈로 반환합니다.\n",
    "df.loc[1]"
   ]
  },
  {
   "cell_type": "code",
   "execution_count": null,
   "id": "worse-interface",
   "metadata": {},
   "outputs": [],
   "source": [
    "# 인덱스명을 리스트로 지정하면 해당 행을 선택하여 데이터프레임으로 반환합니다.\n",
    "df.loc[[1]]"
   ]
  },
  {
   "cell_type": "code",
   "execution_count": null,
   "id": "confidential-veteran",
   "metadata": {},
   "outputs": [],
   "source": [
    "# df의 인덱스명이 1~10인 행을 선택하여 데이터프레임으로 반환합니다.\n",
    "df.loc[1:10]"
   ]
  },
  {
   "cell_type": "code",
   "execution_count": null,
   "id": "wrapped-subdivision",
   "metadata": {},
   "outputs": [],
   "source": [
    "# df의 인덱스명이 1~10인 행, 선수명~도루 컬럼을 반환합니다.\n",
    "df.loc[1:10, '선수명':'도루']"
   ]
  },
  {
   "cell_type": "code",
   "execution_count": null,
   "id": "impressed-weight",
   "metadata": {},
   "outputs": [],
   "source": [
    "# 컬럼명을 원하는 순서대로 선택할 수 있습니다.\n",
    "df.loc[:, ['팀명', '선수명', '타수', '안타', '홈런']]"
   ]
  },
  {
   "cell_type": "markdown",
   "id": "curious-helmet",
   "metadata": {},
   "source": [
    "# 데이터프레임 전처리"
   ]
  },
  {
   "cell_type": "markdown",
   "id": "small-owner",
   "metadata": {},
   "source": [
    "##  실습 데이터셋 준비"
   ]
  },
  {
   "cell_type": "code",
   "execution_count": null,
   "id": "billion-insider",
   "metadata": {},
   "outputs": [],
   "source": [
    "# 현재 작업경로에 저장된 파일명을 출력합니다.\n",
    "os.listdir()"
   ]
  },
  {
   "cell_type": "code",
   "execution_count": null,
   "id": "academic-folder",
   "metadata": {},
   "outputs": [],
   "source": [
    "# 가격 xlsx 파일을 읽고 데이터프레임을 생성합니다.\n",
    "price = pd.read_excel('APT_Price_Seoul_2020.xlsx')"
   ]
  },
  {
   "cell_type": "code",
   "execution_count": null,
   "id": "compound-stereo",
   "metadata": {},
   "outputs": [],
   "source": [
    "# price의 처음 다섯 행을 출력합니다.\n",
    "price.head()"
   ]
  },
  {
   "cell_type": "code",
   "execution_count": null,
   "id": "therapeutic-basketball",
   "metadata": {},
   "outputs": [],
   "source": [
    "# price의 정보를 출력합니다.\n",
    "price.info()"
   ]
  },
  {
   "cell_type": "code",
   "execution_count": null,
   "id": "adaptive-password",
   "metadata": {},
   "outputs": [],
   "source": [
    "# 상세정보 xlsx 파일을 읽고 데이터프레임을 생성합니다.\n",
    "detail = pd.read_excel('Naver_APT_Detail.xlsx')"
   ]
  },
  {
   "cell_type": "code",
   "execution_count": null,
   "id": "powered-preservation",
   "metadata": {},
   "outputs": [],
   "source": [
    "# detail의 처음 다섯 행을 출력합니다.\n",
    "detail.head()"
   ]
  },
  {
   "cell_type": "code",
   "execution_count": null,
   "id": "meaningful-complement",
   "metadata": {},
   "outputs": [],
   "source": [
    "# detail의 정보를 출력합니다.\n",
    "detail.info()"
   ]
  },
  {
   "cell_type": "markdown",
   "id": "vulnerable-faith",
   "metadata": {},
   "source": [
    "### [참고] csv 파일 읽을 때 날짜 자료형 유지하는 방법"
   ]
  },
  {
   "cell_type": "code",
   "execution_count": null,
   "id": "retired-start",
   "metadata": {},
   "outputs": [],
   "source": [
    "# csv 파일을 bytes 모드로 읽습니다.\n",
    "raw = open('APT_Price_Seoul_2020.csv', 'rb').read()"
   ]
  },
  {
   "cell_type": "code",
   "execution_count": null,
   "id": "outstanding-portfolio",
   "metadata": {},
   "outputs": [],
   "source": [
    "# 텍스트 파일의 문자 인코딩 방식을 확인합니다.\n",
    "chardet.detect(raw[:100])"
   ]
  },
  {
   "cell_type": "code",
   "execution_count": null,
   "id": "cutting-banner",
   "metadata": {},
   "outputs": [],
   "source": [
    "# 가격 csv 파일을 읽고 데이터프레임을 생성합니다.\n",
    "price = pd.read_csv('APT_Price_Seoul_2020.csv')"
   ]
  },
  {
   "cell_type": "code",
   "execution_count": null,
   "id": "informative-argument",
   "metadata": {},
   "outputs": [],
   "source": [
    "# price의 정보를 확인합니다.\n",
    "price.info()"
   ]
  },
  {
   "cell_type": "code",
   "execution_count": null,
   "id": "rocky-pride",
   "metadata": {},
   "outputs": [],
   "source": [
    "# csv 파일을 읽을 때 날짜 자료형으로 읽을 컬럼명을 지정합니다.\n",
    "price = pd.read_csv('APT_Price_Seoul_2020.csv', parse_dates = ['거래일'])"
   ]
  },
  {
   "cell_type": "code",
   "execution_count": null,
   "id": "owned-possession",
   "metadata": {},
   "outputs": [],
   "source": [
    "# price의 정보를 다시 확인합니다.\n",
    "price.info()"
   ]
  },
  {
   "cell_type": "markdown",
   "id": "amateur-compression",
   "metadata": {},
   "source": [
    "## 컬럼 선택 및 삭제"
   ]
  },
  {
   "cell_type": "code",
   "execution_count": null,
   "id": "rising-wedding",
   "metadata": {},
   "outputs": [],
   "source": [
    "# 가격 데이터의 컬럼명을 출력합니다.\n",
    "price.columns"
   ]
  },
  {
   "cell_type": "code",
   "execution_count": null,
   "id": "impossible-marker",
   "metadata": {},
   "outputs": [],
   "source": [
    "# 일련번호 컬럼을 선택하여 시리즈로 반환합니다.\n",
    "price['일련번호']"
   ]
  },
  {
   "cell_type": "code",
   "execution_count": null,
   "id": "general-frederick",
   "metadata": {},
   "outputs": [],
   "source": [
    "# 여러 컬럼을 선택하려면 리스트를 입력합니다.\n",
    "price[['일련번호', '거래일']]"
   ]
  },
  {
   "cell_type": "code",
   "execution_count": null,
   "id": "burning-contribution",
   "metadata": {},
   "outputs": [],
   "source": [
    "# drop() 함수에 삭제할 컬럼명을 리스트로 입력하여 삭제합니다.\n",
    "price.drop('일련번호', axis = 1)"
   ]
  },
  {
   "cell_type": "code",
   "execution_count": null,
   "id": "simple-stevens",
   "metadata": {},
   "outputs": [],
   "source": [
    "# 컬럼을 삭제하고 price에 재할당합니다.\n",
    "price = price.drop('일련번호', axis = 1)"
   ]
  },
  {
   "cell_type": "markdown",
   "id": "buried-partition",
   "metadata": {},
   "source": [
    "## 컬럼명 변경"
   ]
  },
  {
   "cell_type": "code",
   "execution_count": null,
   "id": "employed-swaziland",
   "metadata": {},
   "outputs": [],
   "source": [
    "# rename() 함수로 일부 컬럼명을 변경합니다.\n",
    "price = price.rename(columns = {'아파트': '아파트명'})"
   ]
  },
  {
   "cell_type": "code",
   "execution_count": null,
   "id": "supposed-honor",
   "metadata": {},
   "outputs": [],
   "source": [
    "# 가격 데이터의 컬럼명을 출력합니다.\n",
    "price.columns"
   ]
  },
  {
   "cell_type": "code",
   "execution_count": null,
   "id": "corrected-grave",
   "metadata": {},
   "outputs": [],
   "source": [
    "# columns 속성을 사용하면 컬럼명 전체를 변경합니다.\n",
    "price.columns = ['아파트', '시도', '시군구', '읍면동', '지번', '거래일', '전용면적', '층', '거래금액']"
   ]
  },
  {
   "cell_type": "code",
   "execution_count": null,
   "id": "color-tribute",
   "metadata": {},
   "outputs": [],
   "source": [
    "# 가격 데이터의 처음 다섯 행을 출력합니다.\n",
    "price.head()"
   ]
  },
  {
   "cell_type": "markdown",
   "id": "changed-gates",
   "metadata": {},
   "source": [
    "## 컬럼 자료형 변환"
   ]
  },
  {
   "cell_type": "code",
   "execution_count": null,
   "id": "jewish-longer",
   "metadata": {},
   "outputs": [],
   "source": [
    "# 거래일 컬럼을 문자열로 변환합니다.\n",
    "price['거래일'] = price['거래일'].astype('str')"
   ]
  },
  {
   "cell_type": "code",
   "execution_count": null,
   "id": "regular-worth",
   "metadata": {},
   "outputs": [],
   "source": [
    "# 거래금액 컬럼을 실수로 변환합니다.\n",
    "price['거래금액'] = price['거래금액'].astype('float')"
   ]
  },
  {
   "cell_type": "code",
   "execution_count": null,
   "id": "spatial-moral",
   "metadata": {},
   "outputs": [],
   "source": [
    "# 가격 데이터의 컬럼별 자료형을 확인합니다.\n",
    "price.dtypes"
   ]
  },
  {
   "cell_type": "code",
   "execution_count": null,
   "id": "confident-butterfly",
   "metadata": {},
   "outputs": [],
   "source": [
    "# 거래일 컬럼을 날짜로 복원합니다.\n",
    "price['거래일'] = pd.to_datetime(price['거래일'])"
   ]
  },
  {
   "cell_type": "code",
   "execution_count": null,
   "id": "destroyed-colon",
   "metadata": {},
   "outputs": [],
   "source": [
    "# 가격 데이터의 컬럼별 자료형을 다시 확인합니다.\n",
    "price.dtypes"
   ]
  },
  {
   "cell_type": "code",
   "execution_count": null,
   "id": "creative-burton",
   "metadata": {},
   "outputs": [],
   "source": [
    "# astype() 함수에 딕셔너리로 입력하면 여러 컬럼을 각각 변환합니다.\n",
    "price = price.astype({'층':'float', '거래금액':'int'})"
   ]
  },
  {
   "cell_type": "code",
   "execution_count": null,
   "id": "genetic-cheat",
   "metadata": {},
   "outputs": [],
   "source": [
    "# 가격 데이터의 컬럼별 자료형을 확인합니다.\n",
    "price.dtypes"
   ]
  },
  {
   "cell_type": "code",
   "execution_count": null,
   "id": "hollow-capability",
   "metadata": {},
   "outputs": [],
   "source": [
    "# 여러 컬럼을 하나의 자료형으로 동시에 변환합니다.\n",
    "price.iloc[:, 7:9] = price.iloc[:, 7:9].astype(int)"
   ]
  },
  {
   "cell_type": "code",
   "execution_count": null,
   "id": "floppy-connecticut",
   "metadata": {},
   "outputs": [],
   "source": [
    "# 가격 데이터의 컬럼별 자료형을 확인합니다.\n",
    "price.dtypes"
   ]
  },
  {
   "cell_type": "markdown",
   "id": "external-military",
   "metadata": {},
   "source": [
    "### [참고] 문자열을 날짜 자료형으로 변환"
   ]
  },
  {
   "cell_type": "code",
   "execution_count": null,
   "id": "aware-factor",
   "metadata": {},
   "outputs": [],
   "source": [
    "# yyyy-mm-dd 형태가 아닌 문자열 데이터로 데이터프레임을 생성합니다.\n",
    "dates = pd.DataFrame(['2020년 12월 13일', '2021년 1월 1일'], columns = ['날짜'])"
   ]
  },
  {
   "cell_type": "code",
   "execution_count": null,
   "id": "excess-weapon",
   "metadata": {},
   "outputs": [],
   "source": [
    "# 거래일 컬럼을 날짜datetime로 변환하려고 하면 에러가 발생합니다.\n",
    "dates['날짜'] = dates['날짜'].astype('datetime64')"
   ]
  },
  {
   "cell_type": "code",
   "execution_count": null,
   "id": "novel-setting",
   "metadata": {},
   "outputs": [],
   "source": [
    "# to_datetime() 함수의 format 매개변수에 날짜 포맷을 지정하면 변환됩니다.\n",
    "dates['날짜'] = pd.to_datetime(dates['날짜'], format = '%Y년 %m월 %d일')"
   ]
  },
  {
   "cell_type": "markdown",
   "id": "potential-bookmark",
   "metadata": {},
   "source": [
    "## 조건에 맞는 행 선택"
   ]
  },
  {
   "cell_type": "code",
   "execution_count": null,
   "id": "fewer-second",
   "metadata": {},
   "outputs": [],
   "source": [
    "# 거래금액이 700000(70억) 이상인 행만 선택합니다.\n",
    "price.loc[price['거래금액'] >= 700000]"
   ]
  },
  {
   "cell_type": "code",
   "execution_count": null,
   "id": "sustained-scientist",
   "metadata": {},
   "outputs": [],
   "source": [
    "# 거래금액이 70억 이상인 행을 선택하여 df1에 할당합니다.\n",
    "df1 = price.loc[price['거래금액'] >= 700000]"
   ]
  },
  {
   "cell_type": "code",
   "execution_count": null,
   "id": "pacific-employee",
   "metadata": {},
   "outputs": [],
   "source": [
    "# df1의 처음 10행을 출력합니다.\n",
    "df1.head(10)"
   ]
  },
  {
   "cell_type": "code",
   "execution_count": null,
   "id": "generous-sodium",
   "metadata": {},
   "outputs": [],
   "source": [
    "# 거래금액이 70억 미만이고, 60층 이상인 행을 선택하여 df2에 할당합니다.\n",
    "df2 = price.loc[(price['거래금액'] < 700000) & (price['층'] >= 60)]"
   ]
  },
  {
   "cell_type": "code",
   "execution_count": null,
   "id": "hidden-algeria",
   "metadata": {},
   "outputs": [],
   "source": [
    "# df2의 처음 10행을 출력합니다.\n",
    "df2.head(10)"
   ]
  },
  {
   "cell_type": "markdown",
   "id": "iraqi-roman",
   "metadata": {},
   "source": [
    "## 행 삭제 및 인덱스명 초기화"
   ]
  },
  {
   "cell_type": "code",
   "execution_count": null,
   "id": "adopted-spyware",
   "metadata": {},
   "outputs": [],
   "source": [
    "# drop() 함수에 인덱스명 스칼라/리스트를 입력하여 행을 삭제합니다.\n",
    "df2.drop([23700, 44541])"
   ]
  },
  {
   "cell_type": "code",
   "execution_count": null,
   "id": "industrial-democrat",
   "metadata": {},
   "outputs": [],
   "source": [
    "# df1의 인덱스명을 초기화한 결과를 출력합니다.\n",
    "df1.reset_index()"
   ]
  },
  {
   "cell_type": "code",
   "execution_count": null,
   "id": "empty-lightweight",
   "metadata": {},
   "outputs": [],
   "source": [
    "# index 컬럼이 생성되지 않도록 drop = True를 추가합니다.\n",
    "df1.reset_index(drop = True)"
   ]
  },
  {
   "cell_type": "code",
   "execution_count": null,
   "id": "written-purple",
   "metadata": {},
   "outputs": [],
   "source": [
    "# 인덱스명을 초기화한 결과를 df1에 재할당합니다.\n",
    "df1 = df1.reset_index(drop = True)"
   ]
  },
  {
   "cell_type": "markdown",
   "id": "rational-burns",
   "metadata": {},
   "source": [
    "## 결측값 처리"
   ]
  },
  {
   "cell_type": "code",
   "execution_count": null,
   "id": "martial-album",
   "metadata": {},
   "outputs": [],
   "source": [
    "# 컬럼별 결측값 개수를 확인합니다.\n",
    "price.isna().sum()"
   ]
  },
  {
   "cell_type": "code",
   "execution_count": null,
   "id": "outstanding-brazil",
   "metadata": {},
   "outputs": [],
   "source": [
    "# 결측값을 포함하는 행을 삭제한 결과를 출력합니다.\n",
    "price.dropna()"
   ]
  },
  {
   "cell_type": "code",
   "execution_count": null,
   "id": "liked-simple",
   "metadata": {},
   "outputs": [],
   "source": [
    "# 결측값을 공백으로 채운 결과를 출력합니다.\n",
    "price.fillna('')"
   ]
  },
  {
   "cell_type": "code",
   "execution_count": null,
   "id": "narrow-soundtrack",
   "metadata": {},
   "outputs": [],
   "source": [
    "# 가격 데이터에서 결측값을 삭제하고 재할당합니다.\n",
    "price = price.dropna()"
   ]
  },
  {
   "cell_type": "code",
   "execution_count": null,
   "id": "human-motivation",
   "metadata": {},
   "outputs": [],
   "source": [
    "# 컬럼별 결측값 개수를 다시 확인합니다.\n",
    "price.isna().sum()"
   ]
  },
  {
   "cell_type": "markdown",
   "id": "american-milan",
   "metadata": {},
   "source": [
    "## 파생변수 생성"
   ]
  },
  {
   "cell_type": "code",
   "execution_count": null,
   "id": "inappropriate-resistance",
   "metadata": {},
   "outputs": [],
   "source": [
    "# 거래금액 컬럼을 만원 단위에서 억원 단위로 변경합니다.\n",
    "price['거래금액'] = price['거래금액'] / 10000"
   ]
  },
  {
   "cell_type": "code",
   "execution_count": null,
   "id": "dependent-modification",
   "metadata": {},
   "outputs": [],
   "source": [
    "# 거래금액을 전용면적으로 나눈 새로운 컬럼을 생성합니다.\n",
    "price['단위금액'] = price['거래금액'] / price['전용면적'] * 10000"
   ]
  },
  {
   "cell_type": "code",
   "execution_count": null,
   "id": "norman-asian",
   "metadata": {},
   "outputs": [],
   "source": [
    "# 가격 데이터의 처음 다섯 행을 출력합니다.\n",
    "price.head()"
   ]
  },
  {
   "cell_type": "code",
   "execution_count": null,
   "id": "macro-error",
   "metadata": {},
   "outputs": [],
   "source": [
    "# 단위금액 컬럼값을 반올림하여 소수점 둘째 자리까지 남깁니다.\n",
    "price['단위금액'] = price['단위금액'].round(2)"
   ]
  },
  {
   "cell_type": "code",
   "execution_count": null,
   "id": "planned-supervision",
   "metadata": {},
   "outputs": [],
   "source": [
    "# 가격 데이터의 처음 다섯 행을 출력합니다.\n",
    "price.head()"
   ]
  },
  {
   "cell_type": "code",
   "execution_count": null,
   "id": "lasting-chapter",
   "metadata": {},
   "outputs": [],
   "source": [
    "# 단위금액의 크기를 1천만원 기준으로 구분하는 이진형 컬럼을 생성합니다.\n",
    "price.loc[price['단위금액'] >= 1000, '금액구분'] = '이상'\n",
    "price.loc[price['단위금액'] < 1000, '금액구분'] = '미만'"
   ]
  },
  {
   "cell_type": "code",
   "execution_count": null,
   "id": "duplicate-battlefield",
   "metadata": {},
   "outputs": [],
   "source": [
    "# 가격 데이터의 처음 다섯 행을 출력합니다.\n",
    "price.head()"
   ]
  },
  {
   "cell_type": "code",
   "execution_count": null,
   "id": "blond-dryer",
   "metadata": {},
   "outputs": [],
   "source": [
    "# 여러 컬럼값을 결합하여 지번주소 컬럼을 생성합니다.\n",
    "price['지번주소'] = price['시도'] + ' ' + price['시군구'] + ' ' + price['읍면동'] + ' ' + price['지번']"
   ]
  },
  {
   "cell_type": "markdown",
   "id": "latest-insight",
   "metadata": {},
   "source": [
    "### [참고] 같은 함수 반복 실행 실습"
   ]
  },
  {
   "cell_type": "code",
   "execution_count": null,
   "id": "posted-wrestling",
   "metadata": {},
   "outputs": [],
   "source": [
    "# 거래금액 컬럼의 각 원소에 10000을 곱하고 정수로 변환합니다.\n",
    "price['거래금액'].map(lambda x: x*10000).astype('int')"
   ]
  },
  {
   "cell_type": "code",
   "execution_count": null,
   "id": "tamil-penny",
   "metadata": {},
   "outputs": [],
   "source": [
    "# 시도~지번 컬럼을 갖는 데이터프레임 각 열의 길이를 반환합니다.\n",
    "price.loc[:, '시도':'지번'].apply(len, axis = 0)"
   ]
  },
  {
   "cell_type": "code",
   "execution_count": null,
   "id": "thorough-monitoring",
   "metadata": {},
   "outputs": [],
   "source": [
    "# 시도~지번 컬럼을 갖는 데이터프레임 각 행의 길이를 반환합니다.\n",
    "price.loc[:, '시도':'지번'].apply(len, axis = 1)"
   ]
  },
  {
   "cell_type": "code",
   "execution_count": null,
   "id": "protective-illness",
   "metadata": {},
   "outputs": [],
   "source": [
    "# 시도~지번 컬럼을 갖는 데이터프레임 각 행 원소를 하나로 결합합니다.\n",
    "price.loc[:, '시도':'지번'].apply(lambda x: ' '.join(x), axis = 1)"
   ]
  },
  {
   "cell_type": "code",
   "execution_count": null,
   "id": "different-juice",
   "metadata": {},
   "outputs": [],
   "source": [
    "# 시도~지번 컬럼을 갖는 데이터프레임 각 원소의 길이를 반환합니다.\n",
    "price.loc[:, '시도':'지번'].applymap(len)"
   ]
  },
  {
   "cell_type": "markdown",
   "id": "olympic-holiday",
   "metadata": {},
   "source": [
    "### [참고] 날짜 컬럼 분해"
   ]
  },
  {
   "cell_type": "code",
   "execution_count": null,
   "id": "celtic-alignment",
   "metadata": {},
   "outputs": [],
   "source": [
    "# 날짜 자료형에서 연도만 추출합니다.\n",
    "price['거래일'].dt.year"
   ]
  },
  {
   "cell_type": "code",
   "execution_count": null,
   "id": "inappropriate-printer",
   "metadata": {},
   "outputs": [],
   "source": [
    "# 날짜 자료형에서 월만 추출합니다.\n",
    "price['거래일'].dt.month"
   ]
  },
  {
   "cell_type": "code",
   "execution_count": null,
   "id": "nearby-marine",
   "metadata": {},
   "outputs": [],
   "source": [
    "# 날짜 자료형에서 일만 추출합니다.\n",
    "price['거래일'].dt.day"
   ]
  },
  {
   "cell_type": "code",
   "execution_count": null,
   "id": "reduced-journal",
   "metadata": {},
   "outputs": [],
   "source": [
    "# 날짜 자료형에서 시만 추출합니다.\n",
    "price['거래일'].dt.hour"
   ]
  },
  {
   "cell_type": "code",
   "execution_count": null,
   "id": "thousand-rover",
   "metadata": {},
   "outputs": [],
   "source": [
    "# 날짜 자료형에서 분만 추출합니다.\n",
    "price['거래일'].dt.minute"
   ]
  },
  {
   "cell_type": "code",
   "execution_count": null,
   "id": "experienced-frequency",
   "metadata": {},
   "outputs": [],
   "source": [
    "# 날짜 자료형에서 초만 추출합니다.\n",
    "price['거래일'].dt.second"
   ]
  },
  {
   "cell_type": "markdown",
   "id": "danish-patient",
   "metadata": {},
   "source": [
    "## 집계함수로 데이터 요약"
   ]
  },
  {
   "cell_type": "code",
   "execution_count": null,
   "id": "mediterranean-recipient",
   "metadata": {},
   "outputs": [],
   "source": [
    "# 시군구별 단위금액 빈도수를 반환합니다.\n",
    "price.groupby('시군구').count()['거래금액']"
   ]
  },
  {
   "cell_type": "code",
   "execution_count": null,
   "id": "divine-alaska",
   "metadata": {
    "scrolled": false
   },
   "outputs": [],
   "source": [
    "# 시군구별 단위금액 합계를 반환합니다.\n",
    "price.groupby('시군구').sum()['거래금액']"
   ]
  },
  {
   "cell_type": "code",
   "execution_count": null,
   "id": "dress-medicine",
   "metadata": {},
   "outputs": [],
   "source": [
    "# 시군구별 단위금액 평균을 반환합니다.\n",
    "price.groupby('시군구').mean()['단위금액']"
   ]
  },
  {
   "cell_type": "code",
   "execution_count": null,
   "id": "selective-minimum",
   "metadata": {},
   "outputs": [],
   "source": [
    "# 시군구별 단위금액 표준편차를 반환합니다.\n",
    "price.groupby('시군구').std()['단위금액']"
   ]
  },
  {
   "cell_type": "code",
   "execution_count": null,
   "id": "nuclear-directive",
   "metadata": {},
   "outputs": [],
   "source": [
    "# 시군구별 단위금액 최소값을 반환합니다.\n",
    "price.groupby('시군구').min()['단위금액']"
   ]
  },
  {
   "cell_type": "code",
   "execution_count": null,
   "id": "addressed-reality",
   "metadata": {},
   "outputs": [],
   "source": [
    "# 시군구별 단위금액 최대값을 반환합니다.\n",
    "price.groupby('시군구').max()['단위금액']"
   ]
  },
  {
   "cell_type": "code",
   "execution_count": null,
   "id": "focused-innocent",
   "metadata": {},
   "outputs": [],
   "source": [
    "# 시군구별 단위금액의 기술통계량을 한 번에 반환합니다.\n",
    "price.groupby('시군구').describe()['단위금액']"
   ]
  },
  {
   "cell_type": "markdown",
   "id": "short-grenada",
   "metadata": {},
   "source": [
    "### 데이터프레임 구조 변경"
   ]
  },
  {
   "cell_type": "code",
   "execution_count": null,
   "id": "center-induction",
   "metadata": {},
   "outputs": [],
   "source": [
    "# 두 개의 컬럼으로 데이터를 요약하여 Long type의 데이터프레임을 생성합니다.\n",
    "long = price.groupby(['시군구', '금액구분']).count()[['단위금액']]"
   ]
  },
  {
   "cell_type": "code",
   "execution_count": null,
   "id": "bigger-breeding",
   "metadata": {},
   "outputs": [],
   "source": [
    "# long의 처음 10행만 출력합니다.\n",
    "long.head(10)"
   ]
  },
  {
   "cell_type": "code",
   "execution_count": null,
   "id": "waiting-balance",
   "metadata": {},
   "outputs": [],
   "source": [
    "# 단위금액 컬럼명을 건수로 변경합니다.\n",
    "long.columns = ['건수']"
   ]
  },
  {
   "cell_type": "code",
   "execution_count": null,
   "id": "absolute-flesh",
   "metadata": {},
   "outputs": [],
   "source": [
    "# Long type을 Wide type으로 변경합니다.\n",
    "wide = long.unstack()"
   ]
  },
  {
   "cell_type": "code",
   "execution_count": null,
   "id": "august-toner",
   "metadata": {},
   "outputs": [],
   "source": [
    "# wide의 처음 10행만 출력합니다.\n",
    "wide.head(10)"
   ]
  },
  {
   "cell_type": "code",
   "execution_count": null,
   "id": "collectible-communist",
   "metadata": {},
   "outputs": [],
   "source": [
    "# Wide type을 Long type으로 변경하고 처음 10행만 출력합니다.\n",
    "wide.stack().head(10)"
   ]
  },
  {
   "cell_type": "markdown",
   "id": "several-bobby",
   "metadata": {},
   "source": [
    "## 피벗 테이블 생성"
   ]
  },
  {
   "cell_type": "code",
   "execution_count": null,
   "id": "historical-baghdad",
   "metadata": {},
   "outputs": [],
   "source": [
    "# 원데이터로부터 피벗 테이블을 생성합니다.\n",
    "pd.pivot_table(price, \n",
    "               index = '시군구', \n",
    "               columns = '금액구분', \n",
    "               values = '단위금액', \n",
    "               aggfunc = ['mean', 'std'])"
   ]
  },
  {
   "cell_type": "markdown",
   "id": "scenic-spirituality",
   "metadata": {},
   "source": [
    "## 데이터프레임 결합"
   ]
  },
  {
   "cell_type": "code",
   "execution_count": null,
   "id": "spoken-bicycle",
   "metadata": {},
   "outputs": [],
   "source": [
    "# 컬럼명이 같은 df1과 df2를 세로 방향으로 결합한 결과를 반환합니다.\n",
    "pd.concat([df1, df2])"
   ]
  },
  {
   "cell_type": "code",
   "execution_count": null,
   "id": "likely-messenger",
   "metadata": {},
   "outputs": [],
   "source": [
    "# 두 데이터프레임을 결합한 결과에서 인덱스명을 초기화합니다.\n",
    "pd.concat([df1, df2], ignore_index = True)"
   ]
  },
  {
   "cell_type": "code",
   "execution_count": null,
   "id": "played-private",
   "metadata": {},
   "outputs": [],
   "source": [
    "# df2의 일부 컬럼명을 변경합니다.\n",
    "df2 = df2.rename(columns = {'아파트':'아파트명'})"
   ]
  },
  {
   "cell_type": "code",
   "execution_count": null,
   "id": "restricted-breakfast",
   "metadata": {},
   "outputs": [],
   "source": [
    "# 컬럼명이 다른 df1과 df2를 세로 방향으로 결합한 결과를 반환합니다.\n",
    "pd.concat([df1, df2])"
   ]
  },
  {
   "cell_type": "code",
   "execution_count": null,
   "id": "satisfied-garden",
   "metadata": {},
   "outputs": [],
   "source": [
    "# 인덱스명이 다른 df1과 df2를 가로 방향으로 결합한 결과를 반환합니다.\n",
    "pd.concat([df1, df2], axis = 1)"
   ]
  },
  {
   "cell_type": "markdown",
   "id": "previous-spanish",
   "metadata": {},
   "source": [
    "## 외래키 확인 및 전처리"
   ]
  },
  {
   "cell_type": "code",
   "execution_count": null,
   "id": "occupational-numbers",
   "metadata": {},
   "outputs": [],
   "source": [
    "# 가격 데이터와 상세정보 데이터에서 일치하는 컬럼명을 찾습니다.\n",
    "set(price.columns) & set(detail.columns)"
   ]
  },
  {
   "cell_type": "code",
   "execution_count": null,
   "id": "musical-isolation",
   "metadata": {},
   "outputs": [],
   "source": [
    "# 가격 데이터의 지번주소를 출력합니다.\n",
    "price['지번주소']"
   ]
  },
  {
   "cell_type": "code",
   "execution_count": null,
   "id": "together-hungarian",
   "metadata": {},
   "outputs": [],
   "source": [
    "# 상세정보 데이터의 지번주소를 출력합니다.\n",
    "detail['지번주소']"
   ]
  },
  {
   "cell_type": "code",
   "execution_count": null,
   "id": "yellow-crawford",
   "metadata": {},
   "outputs": [],
   "source": [
    "# 가격 데이터의 지번주소에서 '특별시'를 삭제합니다.\n",
    "price['지번주소'] = price['지번주소'].str.replace('특별시', '')"
   ]
  },
  {
   "cell_type": "code",
   "execution_count": null,
   "id": "forty-cherry",
   "metadata": {},
   "outputs": [],
   "source": [
    "# 가격 데이터의 지번주소를 다시 출력합니다.\n",
    "price['지번주소']"
   ]
  },
  {
   "cell_type": "markdown",
   "id": "vulnerable-teaching",
   "metadata": {},
   "source": [
    "## 데이터프레임 중복 확인 및 제거"
   ]
  },
  {
   "cell_type": "code",
   "execution_count": null,
   "id": "spiritual-landing",
   "metadata": {},
   "outputs": [],
   "source": [
    "# 상세정보 데이터에서 지번주소 컬럼의 중복 건수를 출력합니다.\n",
    "detail.duplicated(['지번주소']).sum()"
   ]
  },
  {
   "cell_type": "code",
   "execution_count": null,
   "id": "unauthorized-vision",
   "metadata": {},
   "outputs": [],
   "source": [
    "# 지번주소 컬럼이 중복인 인덱스를 추출합니다.\n",
    "dup = detail.duplicated(['지번주소'], keep = False)\n",
    "print(dup)"
   ]
  },
  {
   "cell_type": "code",
   "execution_count": null,
   "id": "hawaiian-subscriber",
   "metadata": {},
   "outputs": [],
   "source": [
    "# 상세정보 데이터에서 지번주소 컬럼이 중복인 행만 선택합니다.\n",
    "detail.loc[dup]"
   ]
  },
  {
   "cell_type": "code",
   "execution_count": null,
   "id": "perceived-heaven",
   "metadata": {},
   "outputs": [],
   "source": [
    "# 지번주소 컬럼이 중복이면 첫 번째 행을 남기고 재할당합니다.\n",
    "detail = detail.drop_duplicates(['지번주소'], keep = 'first')"
   ]
  },
  {
   "cell_type": "markdown",
   "id": "buried-sterling",
   "metadata": {},
   "source": [
    "## 데이터프레임 병합"
   ]
  },
  {
   "cell_type": "code",
   "execution_count": null,
   "id": "economic-kitty",
   "metadata": {},
   "outputs": [],
   "source": [
    "# 내부 병합을 실행합니다.\n",
    "pd.merge(price, detail, 'inner', on = '지번주소')"
   ]
  },
  {
   "cell_type": "code",
   "execution_count": null,
   "id": "split-holmes",
   "metadata": {
    "scrolled": false
   },
   "outputs": [],
   "source": [
    "# 외부 병합을 실행합니다.\n",
    "pd.merge(price, detail, 'outer', on = '지번주소')"
   ]
  },
  {
   "cell_type": "code",
   "execution_count": null,
   "id": "humanitarian-haiti",
   "metadata": {},
   "outputs": [],
   "source": [
    "# 왼쪽 외부 병합을 실행합니다.\n",
    "pd.merge(price, detail, 'left', on = '지번주소')"
   ]
  },
  {
   "cell_type": "code",
   "execution_count": null,
   "id": "stupid-float",
   "metadata": {},
   "outputs": [],
   "source": [
    "# 가격 데이터의 외래키 컬럼명을 변경합니다.\n",
    "price = price.rename(columns = {'지번주소':'주소'})"
   ]
  },
  {
   "cell_type": "code",
   "execution_count": null,
   "id": "adjustable-choir",
   "metadata": {},
   "outputs": [],
   "source": [
    "# 외래키가 일치하지 않으면 두 데이터프레임의 외래키를 각각 지정해야 합니다.\n",
    "apt = pd.merge(price, detail, left_on = '주소', right_on = '지번주소')"
   ]
  },
  {
   "cell_type": "code",
   "execution_count": null,
   "id": "entitled-boulder",
   "metadata": {},
   "outputs": [],
   "source": [
    "# apt의 정보를 확인합니다.\n",
    "apt.info()"
   ]
  },
  {
   "cell_type": "markdown",
   "id": "brave-continuity",
   "metadata": {},
   "source": [
    "## 데이터프레임 정렬"
   ]
  },
  {
   "cell_type": "code",
   "execution_count": null,
   "id": "stopped-angola",
   "metadata": {},
   "outputs": [],
   "source": [
    "# 거래금액 컬럼 기준으로 오름차순으로 정한 결과에서 처음 5행만 출력합니다.\n",
    "apt.sort_values(['거래금액']).head()"
   ]
  },
  {
   "cell_type": "code",
   "execution_count": null,
   "id": "mechanical-kenya",
   "metadata": {},
   "outputs": [],
   "source": [
    "# 거래금액 컬럼 기준으로 오름차순으로 정한 결과에서 처음 다섯 행만 출력합니다.\n",
    "apt.sort_values(['거래금액'], ascending = False).head()"
   ]
  },
  {
   "cell_type": "code",
   "execution_count": null,
   "id": "connected-delicious",
   "metadata": {},
   "outputs": [],
   "source": [
    "# 층, 거래금액 컬럼 순으로 모두 내림차순 정렬하고 처음 다섯 행만 출력합니다.\n",
    "apt.sort_values(['층', '거래금액'], ascending = False).head()"
   ]
  },
  {
   "cell_type": "code",
   "execution_count": null,
   "id": "according-literacy",
   "metadata": {
    "scrolled": false
   },
   "outputs": [],
   "source": [
    "# 층은 내림차순, 거래금액은 오름차순으로 정렬하고 처음 다섯 행만 출력합니다.\n",
    "apt.sort_values(['층', '거래금액'], ascending = [False, True]).head()"
   ]
  },
  {
   "cell_type": "markdown",
   "id": "handmade-virus",
   "metadata": {},
   "source": [
    "## 외부 파일로 저장"
   ]
  },
  {
   "cell_type": "code",
   "execution_count": null,
   "id": "wanted-student",
   "metadata": {},
   "outputs": [],
   "source": [
    "# 현재 작업경로를 확인합니다.\n",
    "os.getcwd()"
   ]
  },
  {
   "cell_type": "code",
   "execution_count": null,
   "id": "altered-arrow",
   "metadata": {},
   "outputs": [],
   "source": [
    "# apt를 xlsx 파일로 저장합니다.\n",
    "apt.to_excel('APT_List_Seoul_2020.xlsx', index = None)"
   ]
  },
  {
   "cell_type": "code",
   "execution_count": null,
   "id": "aerial-concert",
   "metadata": {},
   "outputs": [],
   "source": [
    "# apt를 csv 파일로 저장합니다.\n",
    "apt.to_csv('APT_List_Seoul_2020.csv', index = None)"
   ]
  },
  {
   "cell_type": "code",
   "execution_count": null,
   "id": "median-survival",
   "metadata": {},
   "outputs": [],
   "source": [
    "# 현재 작업경로에 포함된 폴더명과 파일명을 출력합니다.\n",
    "os.listdir()"
   ]
  },
  {
   "cell_type": "markdown",
   "id": "vocational-sacrifice",
   "metadata": {},
   "source": [
    "---"
   ]
  }
 ],
 "metadata": {
  "kernelspec": {
   "display_name": "Python 3",
   "language": "python",
   "name": "python3"
  },
  "language_info": {
   "codemirror_mode": {
    "name": "ipython",
    "version": 3
   },
   "file_extension": ".py",
   "mimetype": "text/x-python",
   "name": "python",
   "nbconvert_exporter": "python",
   "pygments_lexer": "ipython3",
   "version": "3.9.2"
  },
  "toc": {
   "base_numbering": 1,
   "nav_menu": {},
   "number_sections": true,
   "sideBar": true,
   "skip_h1_title": false,
   "title_cell": "Table of Contents",
   "title_sidebar": "Contents",
   "toc_cell": false,
   "toc_position": {},
   "toc_section_display": true,
   "toc_window_display": false
  },
  "varInspector": {
   "cols": {
    "lenName": 16,
    "lenType": 16,
    "lenVar": 40
   },
   "kernels_config": {
    "python": {
     "delete_cmd_postfix": "",
     "delete_cmd_prefix": "del ",
     "library": "var_list.py",
     "varRefreshCmd": "print(var_dic_list())"
    },
    "r": {
     "delete_cmd_postfix": ") ",
     "delete_cmd_prefix": "rm(",
     "library": "var_list.r",
     "varRefreshCmd": "cat(var_dic_list()) "
    }
   },
   "types_to_exclude": [
    "module",
    "function",
    "builtin_function_or_method",
    "instance",
    "_Feature"
   ],
   "window_display": false
  }
 },
 "nbformat": 4,
 "nbformat_minor": 5
}
