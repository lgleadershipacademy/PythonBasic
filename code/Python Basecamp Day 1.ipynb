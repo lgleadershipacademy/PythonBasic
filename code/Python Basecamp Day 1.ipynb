{
 "cells": [
  {
   "cell_type": "markdown",
   "id": "designing-zambia",
   "metadata": {},
   "source": [
    "# Python 자료형 기초"
   ]
  },
  {
   "cell_type": "markdown",
   "id": "important-vision",
   "metadata": {},
   "source": [
    "## Python 변수와 객체"
   ]
  },
  {
   "cell_type": "code",
   "execution_count": 1,
   "id": "thousand-looking",
   "metadata": {},
   "outputs": [],
   "source": [
    "# 변수 a에 정수 1을 할당합니다.\n",
    "a = 1"
   ]
  },
  {
   "cell_type": "code",
   "execution_count": 2,
   "id": "excess-occasion",
   "metadata": {},
   "outputs": [
    {
     "data": {
      "text/plain": [
       "4392954880"
      ]
     },
     "execution_count": 2,
     "metadata": {},
     "output_type": "execute_result"
    }
   ],
   "source": [
    "# a가 가리키는 메모리 주소를 출력합니다.\n",
    "id(a)"
   ]
  },
  {
   "cell_type": "code",
   "execution_count": 3,
   "id": "original-oracle",
   "metadata": {},
   "outputs": [],
   "source": [
    "# a에 정수 2를 할당합니다.\n",
    "a = 2"
   ]
  },
  {
   "cell_type": "code",
   "execution_count": 4,
   "id": "behind-sweden",
   "metadata": {},
   "outputs": [
    {
     "data": {
      "text/plain": [
       "4392954912"
      ]
     },
     "execution_count": 4,
     "metadata": {},
     "output_type": "execute_result"
    }
   ],
   "source": [
    "# a가 가리키는 메모리 주소를 출력하니 바뀌었습니다.\n",
    "id(a)"
   ]
  },
  {
   "cell_type": "markdown",
   "id": "manual-advisory",
   "metadata": {},
   "source": [
    "## Python 객체의 속성과 방식"
   ]
  },
  {
   "cell_type": "code",
   "execution_count": 5,
   "id": "extended-owner",
   "metadata": {},
   "outputs": [],
   "source": [
    "# 변수 a에 정수 10을 할당합니다.\n",
    "a = 10"
   ]
  },
  {
   "cell_type": "code",
   "execution_count": 6,
   "id": "acquired-porcelain",
   "metadata": {},
   "outputs": [
    {
     "data": {
      "text/plain": [
       "10"
      ]
     },
     "execution_count": 6,
     "metadata": {},
     "output_type": "execute_result"
    }
   ],
   "source": [
    "# a를 출력합니다.\n",
    "a"
   ]
  },
  {
   "cell_type": "code",
   "execution_count": 7,
   "id": "religious-customer",
   "metadata": {},
   "outputs": [
    {
     "name": "stdout",
     "output_type": "stream",
     "text": [
      "10\n"
     ]
    }
   ],
   "source": [
    "# print() 함수로 a를 출력합니다.\n",
    "print(a)"
   ]
  },
  {
   "cell_type": "code",
   "execution_count": 8,
   "id": "american-weekly",
   "metadata": {},
   "outputs": [
    {
     "data": {
      "text/plain": [
       "int"
      ]
     },
     "execution_count": 8,
     "metadata": {},
     "output_type": "execute_result"
    }
   ],
   "source": [
    "# a의 클래스를 확인합니다.\n",
    "type(a)"
   ]
  },
  {
   "cell_type": "code",
   "execution_count": 9,
   "id": "interim-contribution",
   "metadata": {
    "scrolled": true
   },
   "outputs": [
    {
     "data": {
      "text/plain": [
       "['__abs__',\n",
       " '__add__',\n",
       " '__and__',\n",
       " '__bool__',\n",
       " '__ceil__',\n",
       " '__class__',\n",
       " '__delattr__',\n",
       " '__dir__',\n",
       " '__divmod__',\n",
       " '__doc__',\n",
       " '__eq__',\n",
       " '__float__',\n",
       " '__floor__',\n",
       " '__floordiv__',\n",
       " '__format__',\n",
       " '__ge__',\n",
       " '__getattribute__',\n",
       " '__getnewargs__',\n",
       " '__gt__',\n",
       " '__hash__',\n",
       " '__index__',\n",
       " '__init__',\n",
       " '__init_subclass__',\n",
       " '__int__',\n",
       " '__invert__',\n",
       " '__le__',\n",
       " '__lshift__',\n",
       " '__lt__',\n",
       " '__mod__',\n",
       " '__mul__',\n",
       " '__ne__',\n",
       " '__neg__',\n",
       " '__new__',\n",
       " '__or__',\n",
       " '__pos__',\n",
       " '__pow__',\n",
       " '__radd__',\n",
       " '__rand__',\n",
       " '__rdivmod__',\n",
       " '__reduce__',\n",
       " '__reduce_ex__',\n",
       " '__repr__',\n",
       " '__rfloordiv__',\n",
       " '__rlshift__',\n",
       " '__rmod__',\n",
       " '__rmul__',\n",
       " '__ror__',\n",
       " '__round__',\n",
       " '__rpow__',\n",
       " '__rrshift__',\n",
       " '__rshift__',\n",
       " '__rsub__',\n",
       " '__rtruediv__',\n",
       " '__rxor__',\n",
       " '__setattr__',\n",
       " '__sizeof__',\n",
       " '__str__',\n",
       " '__sub__',\n",
       " '__subclasshook__',\n",
       " '__truediv__',\n",
       " '__trunc__',\n",
       " '__xor__',\n",
       " 'as_integer_ratio',\n",
       " 'bit_length',\n",
       " 'conjugate',\n",
       " 'denominator',\n",
       " 'from_bytes',\n",
       " 'imag',\n",
       " 'numerator',\n",
       " 'real',\n",
       " 'to_bytes']"
      ]
     },
     "execution_count": 9,
     "metadata": {},
     "output_type": "execute_result"
    }
   ],
   "source": [
    "# a가 갖는 속성과 방식을 출력합니다.\n",
    "dir(a)"
   ]
  },
  {
   "cell_type": "code",
   "execution_count": 10,
   "id": "impressed-guatemala",
   "metadata": {},
   "outputs": [
    {
     "data": {
      "text/plain": [
       "10"
      ]
     },
     "execution_count": 10,
     "metadata": {},
     "output_type": "execute_result"
    }
   ],
   "source": [
    "# a의 속성 numerator에 접근합니다.\n",
    "a.numerator"
   ]
  },
  {
   "cell_type": "code",
   "execution_count": 11,
   "id": "smart-estonia",
   "metadata": {},
   "outputs": [
    {
     "data": {
      "text/plain": [
       "4"
      ]
     },
     "execution_count": 11,
     "metadata": {},
     "output_type": "execute_result"
    }
   ],
   "source": [
    "# a의 방식 bit_length에 접근합니다.\n",
    "a.bit_length()"
   ]
  },
  {
   "cell_type": "markdown",
   "id": "editorial-celebration",
   "metadata": {},
   "source": [
    "## Python 객체의 생성 및 교환"
   ]
  },
  {
   "cell_type": "code",
   "execution_count": 12,
   "id": "dramatic-shore",
   "metadata": {},
   "outputs": [],
   "source": [
    "# 변수 a와 b에 같은 문자열을 동시에 할당합니다.\n",
    "a = b = 'Language'"
   ]
  },
  {
   "cell_type": "code",
   "execution_count": 13,
   "id": "blank-violence",
   "metadata": {},
   "outputs": [
    {
     "name": "stdout",
     "output_type": "stream",
     "text": [
      "Language\n",
      "Language\n"
     ]
    }
   ],
   "source": [
    "# a와 b를 각각 출력합니다.\n",
    "print(a); print(b)"
   ]
  },
  {
   "cell_type": "code",
   "execution_count": 14,
   "id": "annual-routine",
   "metadata": {},
   "outputs": [],
   "source": [
    "# a와 b에 두 개의 문자열을 차례대로 할당합니다.\n",
    "a, b = 'Python', 'R'"
   ]
  },
  {
   "cell_type": "code",
   "execution_count": 15,
   "id": "possible-asset",
   "metadata": {},
   "outputs": [
    {
     "name": "stdout",
     "output_type": "stream",
     "text": [
      "Python\n",
      "R\n"
     ]
    }
   ],
   "source": [
    "# a와 b를 각각 출력합니다.\n",
    "print(a); print(b)"
   ]
  },
  {
   "cell_type": "code",
   "execution_count": 16,
   "id": "northern-workplace",
   "metadata": {},
   "outputs": [],
   "source": [
    "# a와 b에 할당되었던 값을 서로 교환합니다.\n",
    "a, b = b, a"
   ]
  },
  {
   "cell_type": "code",
   "execution_count": 17,
   "id": "ambient-spare",
   "metadata": {},
   "outputs": [
    {
     "name": "stdout",
     "output_type": "stream",
     "text": [
      "R\n",
      "Python\n"
     ]
    }
   ],
   "source": [
    "# a와 b를 각각 출력합니다.\n",
    "print(a); print(b)"
   ]
  },
  {
   "cell_type": "markdown",
   "id": "loaded-movie",
   "metadata": {},
   "source": [
    "# Python 자료형의 종류"
   ]
  },
  {
   "cell_type": "markdown",
   "id": "chief-reality",
   "metadata": {},
   "source": [
    "## 숫자 : 정수와 실수"
   ]
  },
  {
   "cell_type": "markdown",
   "id": "worse-origin",
   "metadata": {},
   "source": [
    "### 숫자 변수 생성"
   ]
  },
  {
   "cell_type": "code",
   "execution_count": 18,
   "id": "unlike-vegetation",
   "metadata": {},
   "outputs": [],
   "source": [
    "# 변수 a에 정수 3을 할당합니다.\n",
    "a = 4"
   ]
  },
  {
   "cell_type": "code",
   "execution_count": 19,
   "id": "designing-diabetes",
   "metadata": {},
   "outputs": [
    {
     "data": {
      "text/plain": [
       "4"
      ]
     },
     "execution_count": 19,
     "metadata": {},
     "output_type": "execute_result"
    }
   ],
   "source": [
    "# a를 출력합니다.\n",
    "a"
   ]
  },
  {
   "cell_type": "code",
   "execution_count": 20,
   "id": "convenient-counter",
   "metadata": {},
   "outputs": [
    {
     "data": {
      "text/plain": [
       "int"
      ]
     },
     "execution_count": 20,
     "metadata": {},
     "output_type": "execute_result"
    }
   ],
   "source": [
    "# a의 클래스를 확인합니다.\n",
    "type(a)"
   ]
  },
  {
   "cell_type": "code",
   "execution_count": 21,
   "id": "adjacent-superintendent",
   "metadata": {},
   "outputs": [],
   "source": [
    "# 변수 b에 실수 3.0을 할당합니다.\n",
    "b = 3.0"
   ]
  },
  {
   "cell_type": "code",
   "execution_count": 22,
   "id": "posted-intention",
   "metadata": {},
   "outputs": [
    {
     "data": {
      "text/plain": [
       "3.0"
      ]
     },
     "execution_count": 22,
     "metadata": {},
     "output_type": "execute_result"
    }
   ],
   "source": [
    "# b를 출력합니다.\n",
    "b"
   ]
  },
  {
   "cell_type": "code",
   "execution_count": 23,
   "id": "received-commerce",
   "metadata": {},
   "outputs": [
    {
     "data": {
      "text/plain": [
       "float"
      ]
     },
     "execution_count": 23,
     "metadata": {},
     "output_type": "execute_result"
    }
   ],
   "source": [
    "# b의 클래스를 확인합니다.\n",
    "type(b)"
   ]
  },
  {
   "cell_type": "markdown",
   "id": "sustainable-paint",
   "metadata": {},
   "source": [
    "### 산술 연산자"
   ]
  },
  {
   "cell_type": "code",
   "execution_count": 24,
   "id": "proper-xerox",
   "metadata": {},
   "outputs": [
    {
     "data": {
      "text/plain": [
       "7.0"
      ]
     },
     "execution_count": 24,
     "metadata": {},
     "output_type": "execute_result"
    }
   ],
   "source": [
    "# a와 b를 더합니다.\n",
    "a + b"
   ]
  },
  {
   "cell_type": "code",
   "execution_count": 25,
   "id": "supported-balance",
   "metadata": {},
   "outputs": [
    {
     "data": {
      "text/plain": [
       "1.0"
      ]
     },
     "execution_count": 25,
     "metadata": {},
     "output_type": "execute_result"
    }
   ],
   "source": [
    "# a에서 b를 뺍니다.\n",
    "a - b"
   ]
  },
  {
   "cell_type": "code",
   "execution_count": 26,
   "id": "gothic-organization",
   "metadata": {},
   "outputs": [
    {
     "data": {
      "text/plain": [
       "12.0"
      ]
     },
     "execution_count": 26,
     "metadata": {},
     "output_type": "execute_result"
    }
   ],
   "source": [
    "# a와 b를 곱합니다.\n",
    "a * b"
   ]
  },
  {
   "cell_type": "code",
   "execution_count": 27,
   "id": "sought-terrace",
   "metadata": {},
   "outputs": [
    {
     "data": {
      "text/plain": [
       "64.0"
      ]
     },
     "execution_count": 27,
     "metadata": {},
     "output_type": "execute_result"
    }
   ],
   "source": [
    "# a를 b로 거듭제곱합니다.\n",
    "a ** b"
   ]
  },
  {
   "cell_type": "code",
   "execution_count": 28,
   "id": "funky-entry",
   "metadata": {},
   "outputs": [
    {
     "data": {
      "text/plain": [
       "1.3333333333333333"
      ]
     },
     "execution_count": 28,
     "metadata": {},
     "output_type": "execute_result"
    }
   ],
   "source": [
    "# a를 b로 나눕니다.\n",
    "a / b"
   ]
  },
  {
   "cell_type": "code",
   "execution_count": 29,
   "id": "approved-asset",
   "metadata": {},
   "outputs": [
    {
     "data": {
      "text/plain": [
       "1.0"
      ]
     },
     "execution_count": 29,
     "metadata": {},
     "output_type": "execute_result"
    }
   ],
   "source": [
    "# a를 b로 나눈 (소수점 이하를 절사한) 몫을 반환합니다.\n",
    "a // b"
   ]
  },
  {
   "cell_type": "code",
   "execution_count": 30,
   "id": "worldwide-experiment",
   "metadata": {},
   "outputs": [
    {
     "data": {
      "text/plain": [
       "1.0"
      ]
     },
     "execution_count": 30,
     "metadata": {},
     "output_type": "execute_result"
    }
   ],
   "source": [
    "# a를 b로 나눈 나머지를 반환합니다.\n",
    "a % b"
   ]
  },
  {
   "cell_type": "markdown",
   "id": "cardiovascular-encounter",
   "metadata": {},
   "source": [
    "### 복합 할당 연산자"
   ]
  },
  {
   "cell_type": "code",
   "execution_count": 31,
   "id": "animated-requirement",
   "metadata": {},
   "outputs": [
    {
     "data": {
      "text/plain": [
       "5"
      ]
     },
     "execution_count": 31,
     "metadata": {},
     "output_type": "execute_result"
    }
   ],
   "source": [
    "# a에 1을 더한 값을 a에 재할당합니다.\n",
    "a += 1; a"
   ]
  },
  {
   "cell_type": "code",
   "execution_count": 32,
   "id": "tracked-variance",
   "metadata": {},
   "outputs": [
    {
     "data": {
      "text/plain": [
       "4"
      ]
     },
     "execution_count": 32,
     "metadata": {},
     "output_type": "execute_result"
    }
   ],
   "source": [
    "# a에서 1을 뺀 값을 a에 재할당합니다.\n",
    "a -= 1; a"
   ]
  },
  {
   "cell_type": "code",
   "execution_count": 33,
   "id": "wrapped-bridges",
   "metadata": {},
   "outputs": [
    {
     "data": {
      "text/plain": [
       "6.0"
      ]
     },
     "execution_count": 33,
     "metadata": {},
     "output_type": "execute_result"
    }
   ],
   "source": [
    "# b에 2를 곱한 값을 b에 재할당합니다.\n",
    "b *= 2; b"
   ]
  },
  {
   "cell_type": "code",
   "execution_count": 34,
   "id": "brief-oliver",
   "metadata": {},
   "outputs": [
    {
     "data": {
      "text/plain": [
       "3.0"
      ]
     },
     "execution_count": 34,
     "metadata": {},
     "output_type": "execute_result"
    }
   ],
   "source": [
    "# b를 2로 나눈 값을 b에 재할당합니다.\n",
    "b /= 2; b"
   ]
  },
  {
   "cell_type": "markdown",
   "id": "athletic-hamilton",
   "metadata": {},
   "source": [
    "### 비교 연산자"
   ]
  },
  {
   "cell_type": "code",
   "execution_count": 35,
   "id": "competent-revolution",
   "metadata": {},
   "outputs": [
    {
     "data": {
      "text/plain": [
       "True"
      ]
     },
     "execution_count": 35,
     "metadata": {},
     "output_type": "execute_result"
    }
   ],
   "source": [
    "# a가 b보다 크면 True, 작거나 같으면 False를 반환합니다.\n",
    "a > b"
   ]
  },
  {
   "cell_type": "code",
   "execution_count": 36,
   "id": "based-kenya",
   "metadata": {},
   "outputs": [
    {
     "data": {
      "text/plain": [
       "True"
      ]
     },
     "execution_count": 36,
     "metadata": {},
     "output_type": "execute_result"
    }
   ],
   "source": [
    "# a가 b보다 크거나 같으면 True, 작으면 False를 반환합니다.\n",
    "a >= b"
   ]
  },
  {
   "cell_type": "code",
   "execution_count": 37,
   "id": "valuable-charles",
   "metadata": {},
   "outputs": [
    {
     "data": {
      "text/plain": [
       "False"
      ]
     },
     "execution_count": 37,
     "metadata": {},
     "output_type": "execute_result"
    }
   ],
   "source": [
    "# a가 b보다 작으면 True, 크거나 같으면 False를 반환합니다.\n",
    "a < b"
   ]
  },
  {
   "cell_type": "code",
   "execution_count": 38,
   "id": "standing-morning",
   "metadata": {},
   "outputs": [
    {
     "data": {
      "text/plain": [
       "False"
      ]
     },
     "execution_count": 38,
     "metadata": {},
     "output_type": "execute_result"
    }
   ],
   "source": [
    "# a가 b보다 작거나 같으면 True, 크면 False를 반환합니다.\n",
    "a <= b"
   ]
  },
  {
   "cell_type": "code",
   "execution_count": 39,
   "id": "fossil-capture",
   "metadata": {},
   "outputs": [
    {
     "data": {
      "text/plain": [
       "False"
      ]
     },
     "execution_count": 39,
     "metadata": {},
     "output_type": "execute_result"
    }
   ],
   "source": [
    "# a가 b와 같으면 True, 다르면 False를 반환합니다.\n",
    "a == b"
   ]
  },
  {
   "cell_type": "code",
   "execution_count": 40,
   "id": "seasonal-chester",
   "metadata": {},
   "outputs": [
    {
     "data": {
      "text/plain": [
       "True"
      ]
     },
     "execution_count": 40,
     "metadata": {},
     "output_type": "execute_result"
    }
   ],
   "source": [
    "# a가 b와 다르면 True, 같으면 False를 반환합니다.\n",
    "a != b"
   ]
  },
  {
   "cell_type": "markdown",
   "id": "reverse-therapist",
   "metadata": {},
   "source": [
    "### 논리 연산자"
   ]
  },
  {
   "cell_type": "code",
   "execution_count": 41,
   "id": "polished-carbon",
   "metadata": {},
   "outputs": [],
   "source": [
    "# 논리 연산자 실습을 위해 a의 값을 변경합니다.\n",
    "a = 4"
   ]
  },
  {
   "cell_type": "code",
   "execution_count": 42,
   "id": "suitable-nirvana",
   "metadata": {},
   "outputs": [
    {
     "data": {
      "text/plain": [
       "True"
      ]
     },
     "execution_count": 42,
     "metadata": {},
     "output_type": "execute_result"
    }
   ],
   "source": [
    "# & 기호 양쪽의 논리값이 모두 True일 때 True를 반환합니다. [논리곱]\n",
    "(a > b) & (a != b)"
   ]
  },
  {
   "cell_type": "code",
   "execution_count": 43,
   "id": "dramatic-arkansas",
   "metadata": {},
   "outputs": [
    {
     "data": {
      "text/plain": [
       "False"
      ]
     },
     "execution_count": 43,
     "metadata": {},
     "output_type": "execute_result"
    }
   ],
   "source": [
    "# & 기호 양쪽의 논리값 중 하나 이상이 False일 때 False를 반환합니다.\n",
    "(a > b) & (a == b)"
   ]
  },
  {
   "cell_type": "code",
   "execution_count": 44,
   "id": "atlantic-advertising",
   "metadata": {},
   "outputs": [
    {
     "data": {
      "text/plain": [
       "True"
      ]
     },
     "execution_count": 44,
     "metadata": {},
     "output_type": "execute_result"
    }
   ],
   "source": [
    "# | 기호 양쪽의 논리값 중 하나 이상이 True일 때 True를 반환합니다. [논리합]\n",
    "(a > b) | (a == b)"
   ]
  },
  {
   "cell_type": "code",
   "execution_count": 45,
   "id": "macro-movement",
   "metadata": {},
   "outputs": [
    {
     "data": {
      "text/plain": [
       "False"
      ]
     },
     "execution_count": 45,
     "metadata": {},
     "output_type": "execute_result"
    }
   ],
   "source": [
    "# | 기호 양쪽의 논리값이 모두 False일 때 False를 반환합니다.\n",
    "(a < b) | (a == b)"
   ]
  },
  {
   "cell_type": "markdown",
   "id": "sized-filing",
   "metadata": {},
   "source": [
    "## 문자열"
   ]
  },
  {
   "cell_type": "markdown",
   "id": "unique-verification",
   "metadata": {},
   "source": [
    "### 문자열 생성"
   ]
  },
  {
   "cell_type": "code",
   "execution_count": 46,
   "id": "configured-repository",
   "metadata": {},
   "outputs": [],
   "source": [
    "# 변수 str1에 문자열을 할당합니다.\n",
    "str1 = 'Life is short, '"
   ]
  },
  {
   "cell_type": "code",
   "execution_count": 47,
   "id": "indonesian-marking",
   "metadata": {},
   "outputs": [
    {
     "data": {
      "text/plain": [
       "'Life is short, '"
      ]
     },
     "execution_count": 47,
     "metadata": {},
     "output_type": "execute_result"
    }
   ],
   "source": [
    "# str1을 출력합니다.\n",
    "str1"
   ]
  },
  {
   "cell_type": "code",
   "execution_count": 48,
   "id": "dangerous-refrigerator",
   "metadata": {},
   "outputs": [
    {
     "data": {
      "text/plain": [
       "str"
      ]
     },
     "execution_count": 48,
     "metadata": {},
     "output_type": "execute_result"
    }
   ],
   "source": [
    "# str1의 클래스를 확인합니다.\n",
    "type(str1)"
   ]
  },
  {
   "cell_type": "code",
   "execution_count": 49,
   "id": "sublime-trace",
   "metadata": {},
   "outputs": [
    {
     "name": "stdout",
     "output_type": "stream",
     "text": [
      "Life is short, \n"
     ]
    }
   ],
   "source": [
    "# print() 함수에 문자열을 입력하고 실행하면 출력되는 결과가 달라집니다.\n",
    "print(str1)"
   ]
  },
  {
   "cell_type": "code",
   "execution_count": 50,
   "id": "fewer-aircraft",
   "metadata": {},
   "outputs": [
    {
     "data": {
      "text/plain": [
       "15"
      ]
     },
     "execution_count": 50,
     "metadata": {},
     "output_type": "execute_result"
    }
   ],
   "source": [
    "# str1의 글자수를 반환합니다.\n",
    "len(str1)"
   ]
  },
  {
   "cell_type": "code",
   "execution_count": 51,
   "id": "reported-greece",
   "metadata": {},
   "outputs": [],
   "source": [
    "# 변수 str2에 문자열을 할당합니다.\n",
    "str2 = \"you need Python!\""
   ]
  },
  {
   "cell_type": "code",
   "execution_count": 52,
   "id": "constitutional-trunk",
   "metadata": {},
   "outputs": [
    {
     "data": {
      "text/plain": [
       "'you need Python!'"
      ]
     },
     "execution_count": 52,
     "metadata": {},
     "output_type": "execute_result"
    }
   ],
   "source": [
    "# str2를 출력합니다.\n",
    "str2"
   ]
  },
  {
   "cell_type": "markdown",
   "id": "authentic-champion",
   "metadata": {},
   "source": [
    "### 문자열 연산자"
   ]
  },
  {
   "cell_type": "code",
   "execution_count": 53,
   "id": "split-andorra",
   "metadata": {},
   "outputs": [
    {
     "data": {
      "text/plain": [
       "'Life is short, you need Python!'"
      ]
     },
     "execution_count": 53,
     "metadata": {},
     "output_type": "execute_result"
    }
   ],
   "source": [
    "# + 기호는 문자열을 하나로 결합합니다.\n",
    "str1 + str2"
   ]
  },
  {
   "cell_type": "code",
   "execution_count": 54,
   "id": "international-bolivia",
   "metadata": {},
   "outputs": [
    {
     "data": {
      "text/plain": [
       "'you need Python!you need Python!you need Python!'"
      ]
     },
     "execution_count": 54,
     "metadata": {},
     "output_type": "execute_result"
    }
   ],
   "source": [
    "# * 기호는 문자열을 지정된 횟수만큼 반복합니다.\n",
    "str2 * 3"
   ]
  },
  {
   "cell_type": "code",
   "execution_count": 55,
   "id": "imposed-mechanism",
   "metadata": {},
   "outputs": [
    {
     "data": {
      "text/plain": [
       "\"Monty Python's Flying Circus\""
      ]
     },
     "execution_count": 55,
     "metadata": {},
     "output_type": "execute_result"
    }
   ],
   "source": [
    "# 문자열 안에 따옴표를 추가하려면 바깥쪽 따옴표와 서로 다른 따옴표를 사용해야 합니다.\n",
    "\"Monty Python's Flying Circus\""
   ]
  },
  {
   "cell_type": "code",
   "execution_count": 56,
   "id": "special-commitment",
   "metadata": {},
   "outputs": [
    {
     "data": {
      "text/plain": [
       "\"Monty Python's Flying Circus\""
      ]
     },
     "execution_count": 56,
     "metadata": {},
     "output_type": "execute_result"
    }
   ],
   "source": [
    "# 만약 같은 따옴표를 써야 한다면 안쪽 따옴표 앞에 역슬래쉬(\\) 기호를 추가해야 합니다.\n",
    "'Monty Python\\'s Flying Circus'"
   ]
  },
  {
   "cell_type": "code",
   "execution_count": 57,
   "id": "requested-click",
   "metadata": {},
   "outputs": [
    {
     "data": {
      "text/plain": [
       "'I\\'m saying \"You need Python!\" now.'"
      ]
     },
     "execution_count": 57,
     "metadata": {},
     "output_type": "execute_result"
    }
   ],
   "source": [
    "# 두 가지를 포함하는 예제입니다.\n",
    "'I\\'m saying \"You need Python!\" now.'"
   ]
  },
  {
   "cell_type": "markdown",
   "id": "smart-evolution",
   "metadata": {},
   "source": [
    "### 문자열의 인덱싱"
   ]
  },
  {
   "cell_type": "code",
   "execution_count": 58,
   "id": "worthy-adelaide",
   "metadata": {},
   "outputs": [],
   "source": [
    "# sen에 문자열을 할당합니다.\n",
    "sen = '아버지가 안방에 들어가신다.'"
   ]
  },
  {
   "cell_type": "code",
   "execution_count": 59,
   "id": "willing-breakdown",
   "metadata": {},
   "outputs": [
    {
     "data": {
      "text/plain": [
       "'아'"
      ]
     },
     "execution_count": 59,
     "metadata": {},
     "output_type": "execute_result"
    }
   ],
   "source": [
    "# sen의 첫 번째 문자(0번 인덱스)를 선택합니다.\n",
    "sen[0]"
   ]
  },
  {
   "cell_type": "code",
   "execution_count": 60,
   "id": "formed-church",
   "metadata": {},
   "outputs": [
    {
     "data": {
      "text/plain": [
       "'버'"
      ]
     },
     "execution_count": 60,
     "metadata": {},
     "output_type": "execute_result"
    }
   ],
   "source": [
    "# sen의 두 번째 문자(1번 인덱스)를 선택합니다.\n",
    "sen[1]"
   ]
  },
  {
   "cell_type": "code",
   "execution_count": 61,
   "id": "common-syria",
   "metadata": {},
   "outputs": [
    {
     "data": {
      "text/plain": [
       "'.'"
      ]
     },
     "execution_count": 61,
     "metadata": {},
     "output_type": "execute_result"
    }
   ],
   "source": [
    "# sen의 마지막 문자(-1번 인덱스)를 선택합니다.\n",
    "sen[-1]"
   ]
  },
  {
   "cell_type": "markdown",
   "id": "impaired-simulation",
   "metadata": {},
   "source": [
    "### 문자열의 슬라이싱"
   ]
  },
  {
   "cell_type": "code",
   "execution_count": 62,
   "id": "renewable-blair",
   "metadata": {},
   "outputs": [
    {
     "data": {
      "text/plain": [
       "'아버지'"
      ]
     },
     "execution_count": 62,
     "metadata": {},
     "output_type": "execute_result"
    }
   ],
   "source": [
    "# sen의 1~3번째 문자를 하나씩 선택하여 하나로 결합합니다.\n",
    "sen[0] + sen[1] + sen[2]"
   ]
  },
  {
   "cell_type": "code",
   "execution_count": 63,
   "id": "upset-hebrew",
   "metadata": {},
   "outputs": [
    {
     "data": {
      "text/plain": [
       "'아버지'"
      ]
     },
     "execution_count": 63,
     "metadata": {},
     "output_type": "execute_result"
    }
   ],
   "source": [
    "# sen의 0번 인덱스부터 2번 인덱스를 선택합니다.\n",
    "sen[0:3]"
   ]
  },
  {
   "cell_type": "code",
   "execution_count": 64,
   "id": "behavioral-reduction",
   "metadata": {},
   "outputs": [
    {
     "data": {
      "text/plain": [
       "'아버지'"
      ]
     },
     "execution_count": 64,
     "metadata": {},
     "output_type": "execute_result"
    }
   ],
   "source": [
    "# 콜론 앞에 정수를 생략하면 첫 번째 문자부터 선택합니다.\n",
    "sen[:3]"
   ]
  },
  {
   "cell_type": "code",
   "execution_count": 65,
   "id": "weird-cooling",
   "metadata": {},
   "outputs": [
    {
     "data": {
      "text/plain": [
       "'들어가신다.'"
      ]
     },
     "execution_count": 65,
     "metadata": {},
     "output_type": "execute_result"
    }
   ],
   "source": [
    "# 콜론 뒤에 정수를 생략하면 마지막 문자까지 선택합니다.\n",
    "sen[9:]"
   ]
  },
  {
   "cell_type": "code",
   "execution_count": 66,
   "id": "complete-samuel",
   "metadata": {},
   "outputs": [
    {
     "data": {
      "text/plain": [
       "'들어가신다'"
      ]
     },
     "execution_count": 66,
     "metadata": {},
     "output_type": "execute_result"
    }
   ],
   "source": [
    "# sen의 열 번째 문자부터 끝에서 두 번째 문자를 선택합니다.\n",
    "sen[9:-1]"
   ]
  },
  {
   "cell_type": "code",
   "execution_count": 67,
   "id": "acquired-wrestling",
   "metadata": {},
   "outputs": [
    {
     "data": {
      "text/plain": [
       "'아버지가 안방에 들어가신다.'"
      ]
     },
     "execution_count": 67,
     "metadata": {},
     "output_type": "execute_result"
    }
   ],
   "source": [
    "# sen의 전체 문자열을 선택합니다.\n",
    "sen[:]"
   ]
  },
  {
   "cell_type": "markdown",
   "id": "beginning-resistance",
   "metadata": {},
   "source": [
    "### 문자열 공백 제거"
   ]
  },
  {
   "cell_type": "code",
   "execution_count": 68,
   "id": "likely-generator",
   "metadata": {},
   "outputs": [],
   "source": [
    "# 문자열 양쪽에 공백을 추가합니다.\n",
    "sen = '\\n 나의 살던 고향은 꽃피는 산골\\t'"
   ]
  },
  {
   "cell_type": "code",
   "execution_count": 69,
   "id": "defensive-convergence",
   "metadata": {},
   "outputs": [
    {
     "data": {
      "text/plain": [
       "'\\n 나의 살던 고향은 꽃피는 산골\\t'"
      ]
     },
     "execution_count": 69,
     "metadata": {},
     "output_type": "execute_result"
    }
   ],
   "source": [
    "# sen을 출력합니다.\n",
    "sen"
   ]
  },
  {
   "cell_type": "code",
   "execution_count": 70,
   "id": "dependent-whale",
   "metadata": {
    "scrolled": true
   },
   "outputs": [
    {
     "data": {
      "text/plain": [
       "['__add__',\n",
       " '__class__',\n",
       " '__contains__',\n",
       " '__delattr__',\n",
       " '__dir__',\n",
       " '__doc__',\n",
       " '__eq__',\n",
       " '__format__',\n",
       " '__ge__',\n",
       " '__getattribute__',\n",
       " '__getitem__',\n",
       " '__getnewargs__',\n",
       " '__gt__',\n",
       " '__hash__',\n",
       " '__init__',\n",
       " '__init_subclass__',\n",
       " '__iter__',\n",
       " '__le__',\n",
       " '__len__',\n",
       " '__lt__',\n",
       " '__mod__',\n",
       " '__mul__',\n",
       " '__ne__',\n",
       " '__new__',\n",
       " '__reduce__',\n",
       " '__reduce_ex__',\n",
       " '__repr__',\n",
       " '__rmod__',\n",
       " '__rmul__',\n",
       " '__setattr__',\n",
       " '__sizeof__',\n",
       " '__str__',\n",
       " '__subclasshook__',\n",
       " 'capitalize',\n",
       " 'casefold',\n",
       " 'center',\n",
       " 'count',\n",
       " 'encode',\n",
       " 'endswith',\n",
       " 'expandtabs',\n",
       " 'find',\n",
       " 'format',\n",
       " 'format_map',\n",
       " 'index',\n",
       " 'isalnum',\n",
       " 'isalpha',\n",
       " 'isascii',\n",
       " 'isdecimal',\n",
       " 'isdigit',\n",
       " 'isidentifier',\n",
       " 'islower',\n",
       " 'isnumeric',\n",
       " 'isprintable',\n",
       " 'isspace',\n",
       " 'istitle',\n",
       " 'isupper',\n",
       " 'join',\n",
       " 'ljust',\n",
       " 'lower',\n",
       " 'lstrip',\n",
       " 'maketrans',\n",
       " 'partition',\n",
       " 'replace',\n",
       " 'rfind',\n",
       " 'rindex',\n",
       " 'rjust',\n",
       " 'rpartition',\n",
       " 'rsplit',\n",
       " 'rstrip',\n",
       " 'split',\n",
       " 'splitlines',\n",
       " 'startswith',\n",
       " 'strip',\n",
       " 'swapcase',\n",
       " 'title',\n",
       " 'translate',\n",
       " 'upper',\n",
       " 'zfill']"
      ]
     },
     "execution_count": 70,
     "metadata": {},
     "output_type": "execute_result"
    }
   ],
   "source": [
    "# sen에 포함된 속성과 방식 목록을 출력합니다.\n",
    "dir(sen)"
   ]
  },
  {
   "cell_type": "code",
   "execution_count": 71,
   "id": "convertible-muslim",
   "metadata": {},
   "outputs": [],
   "source": [
    "# sen의 양쪽 공백을 제거하고 sen에 재할당합니다.\n",
    "sen = sen.strip()"
   ]
  },
  {
   "cell_type": "code",
   "execution_count": 72,
   "id": "weekly-train",
   "metadata": {},
   "outputs": [
    {
     "data": {
      "text/plain": [
       "'나의 살던 고향은 꽃피는 산골'"
      ]
     },
     "execution_count": 72,
     "metadata": {},
     "output_type": "execute_result"
    }
   ],
   "source": [
    "# sen을 출력합니다. 양쪽 공백이 제거되었습니다.\n",
    "sen"
   ]
  },
  {
   "cell_type": "markdown",
   "id": "continental-concern",
   "metadata": {},
   "source": [
    "### 문자열 변경"
   ]
  },
  {
   "cell_type": "code",
   "execution_count": 73,
   "id": "athletic-snapshot",
   "metadata": {},
   "outputs": [
    {
     "data": {
      "text/plain": [
       "'나의 살던 고향은 꽃피는 공원'"
      ]
     },
     "execution_count": 73,
     "metadata": {},
     "output_type": "execute_result"
    }
   ],
   "source": [
    "# sen의 '산골'을 '공원'으로 바꾼 결과를 출력합니다.\n",
    "sen.replace('산골', '공원')"
   ]
  },
  {
   "cell_type": "code",
   "execution_count": 74,
   "id": "worst-drawing",
   "metadata": {},
   "outputs": [
    {
     "data": {
      "text/plain": [
       "'나의 살던 고향은 꽃피는 산골'"
      ]
     },
     "execution_count": 74,
     "metadata": {},
     "output_type": "execute_result"
    }
   ],
   "source": [
    "# sen을 출력합니다. sen은 값이 업데이트되지 않았으므로 '산골'이 그대로 있습니다.\n",
    "sen"
   ]
  },
  {
   "cell_type": "markdown",
   "id": "computational-frank",
   "metadata": {},
   "source": [
    "### 문자열 인덱스 확인"
   ]
  },
  {
   "cell_type": "code",
   "execution_count": 75,
   "id": "compact-forward",
   "metadata": {},
   "outputs": [
    {
     "data": {
      "text/plain": [
       "4"
      ]
     },
     "execution_count": 75,
     "metadata": {},
     "output_type": "execute_result"
    }
   ],
   "source": [
    "# sen에 포함된 공백의 개수를 반환합니다.\n",
    "sen.count(' ')"
   ]
  },
  {
   "cell_type": "code",
   "execution_count": 76,
   "id": "judicial-minneapolis",
   "metadata": {},
   "outputs": [
    {
     "data": {
      "text/plain": [
       "2"
      ]
     },
     "execution_count": 76,
     "metadata": {},
     "output_type": "execute_result"
    }
   ],
   "source": [
    "# sen에서 공백이 처음 나오는 인덱스를 반환합니다.\n",
    "sen.index(' ')"
   ]
  },
  {
   "cell_type": "code",
   "execution_count": 77,
   "id": "refined-elements",
   "metadata": {},
   "outputs": [
    {
     "data": {
      "text/plain": [
       "5"
      ]
     },
     "execution_count": 77,
     "metadata": {},
     "output_type": "execute_result"
    }
   ],
   "source": [
    "# index() 함수에 탐색할 범위를 설정할 수 있습니다. 3번 인덱스부터 마지막 인덱스까지 탐색합니다.\n",
    "sen.index(' ', 3, len(sen))"
   ]
  },
  {
   "cell_type": "code",
   "execution_count": 78,
   "id": "comic-sellers",
   "metadata": {},
   "outputs": [
    {
     "data": {
      "text/plain": [
       "14"
      ]
     },
     "execution_count": 78,
     "metadata": {},
     "output_type": "execute_result"
    }
   ],
   "source": [
    "# 글자수가 2 이상인 문자도 탐색할 수 있습니다.\n",
    "sen.index('산골')"
   ]
  },
  {
   "cell_type": "code",
   "execution_count": 79,
   "id": "broad-regulation",
   "metadata": {},
   "outputs": [
    {
     "ename": "ValueError",
     "evalue": "substring not found",
     "output_type": "error",
     "traceback": [
      "\u001b[0;31m---------------------------------------------------------------------------\u001b[0m",
      "\u001b[0;31mValueError\u001b[0m                                Traceback (most recent call last)",
      "\u001b[0;32m<ipython-input-79-753e5f1f773e>\u001b[0m in \u001b[0;36m<module>\u001b[0;34m\u001b[0m\n\u001b[1;32m      1\u001b[0m \u001b[0;31m# 문자열에 없는 문자를 입력하면 에러가 발생합니다.\u001b[0m\u001b[0;34m\u001b[0m\u001b[0;34m\u001b[0m\u001b[0;34m\u001b[0m\u001b[0m\n\u001b[0;32m----> 2\u001b[0;31m \u001b[0msen\u001b[0m\u001b[0;34m.\u001b[0m\u001b[0mindex\u001b[0m\u001b[0;34m(\u001b[0m\u001b[0;34m'공원'\u001b[0m\u001b[0;34m)\u001b[0m\u001b[0;34m\u001b[0m\u001b[0;34m\u001b[0m\u001b[0m\n\u001b[0m",
      "\u001b[0;31mValueError\u001b[0m: substring not found"
     ]
    }
   ],
   "source": [
    "# 문자열에 없는 문자를 입력하면 에러가 발생합니다.\n",
    "sen.index('공원')"
   ]
  },
  {
   "cell_type": "code",
   "execution_count": 80,
   "id": "cross-madrid",
   "metadata": {},
   "outputs": [
    {
     "data": {
      "text/plain": [
       "-1"
      ]
     },
     "execution_count": 80,
     "metadata": {},
     "output_type": "execute_result"
    }
   ],
   "source": [
    "# find() 함수는 index() 함수와 같은 기능을 수행합니다.\n",
    "# 다만 문자열에 없는 문자를 입력하면 에러를 발생시키는 대신 -1을 반환합니다.\n",
    "sen.find('공원')"
   ]
  },
  {
   "cell_type": "markdown",
   "id": "static-mineral",
   "metadata": {},
   "source": [
    "### 문자열 분리"
   ]
  },
  {
   "cell_type": "code",
   "execution_count": 81,
   "id": "offensive-spoke",
   "metadata": {},
   "outputs": [
    {
     "data": {
      "text/plain": [
       "['나의 살던 고향', ' 꽃피는 산골']"
      ]
     },
     "execution_count": 81,
     "metadata": {},
     "output_type": "execute_result"
    }
   ],
   "source": [
    "# sen을 문자 '은'으로 분리합니다.\n",
    "sen.split('은')"
   ]
  },
  {
   "cell_type": "code",
   "execution_count": 82,
   "id": "swedish-civilization",
   "metadata": {},
   "outputs": [],
   "source": [
    "# sen을 공백으로 분리한 결과로 strs를 생성합니다.\n",
    "strs = sen.split()"
   ]
  },
  {
   "cell_type": "code",
   "execution_count": 83,
   "id": "twelve-mediterranean",
   "metadata": {},
   "outputs": [
    {
     "data": {
      "text/plain": [
       "['나의', '살던', '고향은', '꽃피는', '산골']"
      ]
     },
     "execution_count": 83,
     "metadata": {},
     "output_type": "execute_result"
    }
   ],
   "source": [
    "# strs를 출력합니다.\n",
    "strs"
   ]
  },
  {
   "cell_type": "code",
   "execution_count": 84,
   "id": "centered-negotiation",
   "metadata": {},
   "outputs": [
    {
     "data": {
      "text/plain": [
       "list"
      ]
     },
     "execution_count": 84,
     "metadata": {},
     "output_type": "execute_result"
    }
   ],
   "source": [
    "# strs의 클래스를 확인합니다.\n",
    "type(strs)"
   ]
  },
  {
   "cell_type": "markdown",
   "id": "optimum-blame",
   "metadata": {},
   "source": [
    "### 문자열 결합"
   ]
  },
  {
   "cell_type": "code",
   "execution_count": 85,
   "id": "structured-ordinance",
   "metadata": {},
   "outputs": [
    {
     "data": {
      "text/plain": [
       "'나의 살던 고향은 꽃피는 산골'"
      ]
     },
     "execution_count": 85,
     "metadata": {},
     "output_type": "execute_result"
    }
   ],
   "source": [
    "# strs의 원소 사이에 공백을 추가하여 하나의 문자열로 결합합니다.\n",
    "' '.join(strs)"
   ]
  },
  {
   "cell_type": "code",
   "execution_count": 86,
   "id": "finnish-identity",
   "metadata": {},
   "outputs": [
    {
     "data": {
      "text/plain": [
       "'나의-살던-고향은-꽃피는-산골'"
      ]
     },
     "execution_count": 86,
     "metadata": {},
     "output_type": "execute_result"
    }
   ],
   "source": [
    "# 원하는 문자를 구분자로 설정할 수 있습니다.\n",
    "'-'.join(strs)"
   ]
  },
  {
   "cell_type": "markdown",
   "id": "junior-peoples",
   "metadata": {},
   "source": [
    "### 문자열 포맷팅"
   ]
  },
  {
   "cell_type": "code",
   "execution_count": 87,
   "id": "overall-overview",
   "metadata": {},
   "outputs": [],
   "source": [
    "# 변수 rate와 name에 적당한 값을 각각 할당합니다.\n",
    "rate = 3.2; name = '홍길동'"
   ]
  },
  {
   "cell_type": "code",
   "execution_count": 88,
   "id": "joint-necklace",
   "metadata": {},
   "outputs": [
    {
     "data": {
      "text/plain": [
       "'고객님의 이자율은 3.200000 %입니다.'"
      ]
     },
     "execution_count": 88,
     "metadata": {},
     "output_type": "execute_result"
    }
   ],
   "source": [
    "# 문자열의 '%f'에 rate의 값을 실수로 출력합니다.\n",
    "'고객님의 이자율은 %f %%입니다.' %(rate)"
   ]
  },
  {
   "cell_type": "code",
   "execution_count": 89,
   "id": "compound-associate",
   "metadata": {},
   "outputs": [
    {
     "data": {
      "text/plain": [
       "'고객님의 이자율은 3.20 %입니다.'"
      ]
     },
     "execution_count": 89,
     "metadata": {},
     "output_type": "execute_result"
    }
   ],
   "source": [
    "# 실수의 소수점 자리수를 설정하여 출력합니다.\n",
    "'고객님의 이자율은 %.2f %%입니다.' %(rate)"
   ]
  },
  {
   "cell_type": "code",
   "execution_count": 90,
   "id": "loving-helen",
   "metadata": {},
   "outputs": [
    {
     "data": {
      "text/plain": [
       "'홍길동 고객님의 이자율은 3.20 %입니다.'"
      ]
     },
     "execution_count": 90,
     "metadata": {},
     "output_type": "execute_result"
    }
   ],
   "source": [
    "# name과 rate의 값을 순차적으로 '%s'와 '%f'에 반영합니다.\n",
    "'%s 고객님의 이자율은 %.2f %%입니다.' %(name, rate)"
   ]
  },
  {
   "cell_type": "markdown",
   "id": "novel-albuquerque",
   "metadata": {},
   "source": [
    "### format() 함수를 사용한 포맷팅"
   ]
  },
  {
   "cell_type": "code",
   "execution_count": 91,
   "id": "sunrise-matter",
   "metadata": {},
   "outputs": [
    {
     "data": {
      "text/plain": [
       "'홍길동 고객님의 이자율은 3.2 %입니다.'"
      ]
     },
     "execution_count": 91,
     "metadata": {},
     "output_type": "execute_result"
    }
   ],
   "source": [
    "# format() 함수에 입력된 변수를 문자열의 중괄호 안에 적용하여 출력합니다.\n",
    "'{} 고객님의 이자율은 {} %입니다.'.format(name, rate)"
   ]
  },
  {
   "cell_type": "code",
   "execution_count": 92,
   "id": "tender-ghana",
   "metadata": {},
   "outputs": [
    {
     "data": {
      "text/plain": [
       "'홍길동 고객님의 이자율은 3.2 %입니다.'"
      ]
     },
     "execution_count": 92,
     "metadata": {},
     "output_type": "execute_result"
    }
   ],
   "source": [
    "# format() 함수에 입력된 변수의 인덱스를 중괄호 안에 지정할 수 있습니다.\n",
    "'{0} 고객님의 이자율은 {1} %입니다.'.format(name, rate)"
   ]
  },
  {
   "cell_type": "code",
   "execution_count": 93,
   "id": "renewable-charge",
   "metadata": {},
   "outputs": [
    {
     "data": {
      "text/plain": [
       "'홍길동 고객님의 이자율은 3.20 %입니다.'"
      ]
     },
     "execution_count": 93,
     "metadata": {},
     "output_type": "execute_result"
    }
   ],
   "source": [
    "# 실수 변수의 소수점 자리수를 설정할 수 있습니다.\n",
    "'{0} 고객님의 이자율은 {1:.2f} %입니다.'.format(name, rate)"
   ]
  },
  {
   "cell_type": "code",
   "execution_count": 94,
   "id": "sound-rings",
   "metadata": {},
   "outputs": [
    {
     "data": {
      "text/plain": [
       "'홍길동 고객님의 이자율은 3.20 %입니다.'"
      ]
     },
     "execution_count": 94,
     "metadata": {},
     "output_type": "execute_result"
    }
   ],
   "source": [
    "# Python 3.6에서 도입된 f 문자열은 format() 함수보다 간결해졌습니다.\n",
    "f'{name} 고객님의 이자율은 {rate:.2f} %입니다.'"
   ]
  },
  {
   "cell_type": "markdown",
   "id": "earlier-circular",
   "metadata": {},
   "source": [
    "## 원소의 형 변환"
   ]
  },
  {
   "cell_type": "code",
   "execution_count": 95,
   "id": "systematic-arrival",
   "metadata": {},
   "outputs": [],
   "source": [
    "# a에 문자열 '1.2'를 할당합니다.\n",
    "a = '1.2'"
   ]
  },
  {
   "cell_type": "code",
   "execution_count": 96,
   "id": "beneficial-mailing",
   "metadata": {},
   "outputs": [
    {
     "data": {
      "text/plain": [
       "str"
      ]
     },
     "execution_count": 96,
     "metadata": {},
     "output_type": "execute_result"
    }
   ],
   "source": [
    "# a의 클래스를 확인합니다.\n",
    "type(a)"
   ]
  },
  {
   "cell_type": "code",
   "execution_count": 97,
   "id": "generous-outside",
   "metadata": {},
   "outputs": [],
   "source": [
    "# a를 실수로 형 변환하고 b에 할당합니다.\n",
    "b = float(a)"
   ]
  },
  {
   "cell_type": "code",
   "execution_count": 98,
   "id": "circular-brand",
   "metadata": {},
   "outputs": [
    {
     "data": {
      "text/plain": [
       "float"
      ]
     },
     "execution_count": 98,
     "metadata": {},
     "output_type": "execute_result"
    }
   ],
   "source": [
    "# b의 클래스를 확인합니다.\n",
    "type(b)"
   ]
  },
  {
   "cell_type": "code",
   "execution_count": 99,
   "id": "italic-limit",
   "metadata": {},
   "outputs": [
    {
     "ename": "ValueError",
     "evalue": "invalid literal for int() with base 10: '1.2'",
     "output_type": "error",
     "traceback": [
      "\u001b[0;31m---------------------------------------------------------------------------\u001b[0m",
      "\u001b[0;31mValueError\u001b[0m                                Traceback (most recent call last)",
      "\u001b[0;32m<ipython-input-99-e7a4ff000e84>\u001b[0m in \u001b[0;36m<module>\u001b[0;34m\u001b[0m\n\u001b[1;32m      1\u001b[0m \u001b[0;31m# a를 정수로 형 변환 시도합니다.\u001b[0m\u001b[0;34m\u001b[0m\u001b[0;34m\u001b[0m\u001b[0;34m\u001b[0m\u001b[0m\n\u001b[0;32m----> 2\u001b[0;31m \u001b[0mc\u001b[0m \u001b[0;34m=\u001b[0m \u001b[0mint\u001b[0m\u001b[0;34m(\u001b[0m\u001b[0ma\u001b[0m\u001b[0;34m)\u001b[0m\u001b[0;34m\u001b[0m\u001b[0;34m\u001b[0m\u001b[0m\n\u001b[0m",
      "\u001b[0;31mValueError\u001b[0m: invalid literal for int() with base 10: '1.2'"
     ]
    }
   ],
   "source": [
    "# a를 정수로 형 변환 시도합니다. (에러가 발생합니다!)\n",
    "c = int(a)"
   ]
  },
  {
   "cell_type": "code",
   "execution_count": 100,
   "id": "spread-tenant",
   "metadata": {},
   "outputs": [],
   "source": [
    "# b를 정수로 형 변환하고 c에 할당합니다.\n",
    "c = int(b)"
   ]
  },
  {
   "cell_type": "code",
   "execution_count": 101,
   "id": "nominated-secretary",
   "metadata": {},
   "outputs": [
    {
     "data": {
      "text/plain": [
       "int"
      ]
     },
     "execution_count": 101,
     "metadata": {},
     "output_type": "execute_result"
    }
   ],
   "source": [
    "# c의 클래스를 확인합니다.\n",
    "type(c)"
   ]
  },
  {
   "cell_type": "markdown",
   "id": "applicable-vulnerability",
   "metadata": {},
   "source": [
    "## 부울"
   ]
  },
  {
   "cell_type": "code",
   "execution_count": 102,
   "id": "ranging-alexandria",
   "metadata": {},
   "outputs": [],
   "source": [
    "# 변수 a에 True를 할당합니다.\n",
    "a = True"
   ]
  },
  {
   "cell_type": "code",
   "execution_count": 103,
   "id": "multiple-reggae",
   "metadata": {},
   "outputs": [
    {
     "data": {
      "text/plain": [
       "bool"
      ]
     },
     "execution_count": 103,
     "metadata": {},
     "output_type": "execute_result"
    }
   ],
   "source": [
    "# a의 클래스를 확인합니다.\n",
    "type(a)"
   ]
  },
  {
   "cell_type": "code",
   "execution_count": 104,
   "id": "macro-burden",
   "metadata": {},
   "outputs": [
    {
     "data": {
      "text/plain": [
       "True"
      ]
     },
     "execution_count": 104,
     "metadata": {},
     "output_type": "execute_result"
    }
   ],
   "source": [
    "# 어떤 객체를 True/False로 반환합니다.\n",
    "bool(1)"
   ]
  },
  {
   "cell_type": "markdown",
   "id": "coastal-potter",
   "metadata": {},
   "source": [
    "## 리스트"
   ]
  },
  {
   "cell_type": "markdown",
   "id": "killing-cassette",
   "metadata": {},
   "source": [
    "### 리스트 생성"
   ]
  },
  {
   "cell_type": "code",
   "execution_count": 105,
   "id": "important-receiver",
   "metadata": {},
   "outputs": [],
   "source": [
    "# 빈 리스트를 생성합니다.\n",
    "a = []"
   ]
  },
  {
   "cell_type": "code",
   "execution_count": 106,
   "id": "intense-wallace",
   "metadata": {},
   "outputs": [
    {
     "data": {
      "text/plain": [
       "list"
      ]
     },
     "execution_count": 106,
     "metadata": {},
     "output_type": "execute_result"
    }
   ],
   "source": [
    "# a의 클래스를 확인합니다.\n",
    "type(a)"
   ]
  },
  {
   "cell_type": "code",
   "execution_count": 107,
   "id": "innocent-hydrogen",
   "metadata": {},
   "outputs": [],
   "source": [
    "# 리스트 원소를 콤마(,)로 구분하여 생성합니다.\n",
    "b = [1, 5, 3]"
   ]
  },
  {
   "cell_type": "code",
   "execution_count": 108,
   "id": "dutch-bulgaria",
   "metadata": {},
   "outputs": [
    {
     "data": {
      "text/plain": [
       "[1, 5, 3]"
      ]
     },
     "execution_count": 108,
     "metadata": {},
     "output_type": "execute_result"
    }
   ],
   "source": [
    "# b를 출력합니다.\n",
    "b"
   ]
  },
  {
   "cell_type": "code",
   "execution_count": 109,
   "id": "happy-handle",
   "metadata": {},
   "outputs": [],
   "source": [
    "# 여러 자료형을 원소로 갖는 리스트를 생성합니다.\n",
    "c = [1, 2.0, 'a']"
   ]
  },
  {
   "cell_type": "code",
   "execution_count": 110,
   "id": "approximate-characterization",
   "metadata": {},
   "outputs": [
    {
     "data": {
      "text/plain": [
       "[1, 2.0, 'a']"
      ]
     },
     "execution_count": 110,
     "metadata": {},
     "output_type": "execute_result"
    }
   ],
   "source": [
    "# c를 출력합니다.\n",
    "c"
   ]
  },
  {
   "cell_type": "code",
   "execution_count": 111,
   "id": "technological-password",
   "metadata": {},
   "outputs": [
    {
     "data": {
      "text/plain": [
       "[[], [1, 5, 3], [1, 2.0, 'a']]"
      ]
     },
     "execution_count": 111,
     "metadata": {},
     "output_type": "execute_result"
    }
   ],
   "source": [
    "# 여러 변수로 하나의 리스트를 생성합니다.\n",
    "[a, b, c]"
   ]
  },
  {
   "cell_type": "markdown",
   "id": "cognitive-survey",
   "metadata": {},
   "source": [
    "### 리스트의 인덱싱"
   ]
  },
  {
   "cell_type": "code",
   "execution_count": 112,
   "id": "naked-interface",
   "metadata": {},
   "outputs": [],
   "source": [
    "# 리스트를 생성합니다.\n",
    "a = [1, 2, '3', '4', ['가', '나', '다']]"
   ]
  },
  {
   "cell_type": "code",
   "execution_count": 113,
   "id": "careful-suffering",
   "metadata": {},
   "outputs": [
    {
     "data": {
      "text/plain": [
       "3"
      ]
     },
     "execution_count": 113,
     "metadata": {},
     "output_type": "execute_result"
    }
   ],
   "source": [
    "# a의 0번 인덱스 원소와 1번 인덱스 원소를 더합니다.\n",
    "a[0] + a[1]"
   ]
  },
  {
   "cell_type": "code",
   "execution_count": 114,
   "id": "acute-charter",
   "metadata": {},
   "outputs": [
    {
     "data": {
      "text/plain": [
       "'34'"
      ]
     },
     "execution_count": 114,
     "metadata": {},
     "output_type": "execute_result"
    }
   ],
   "source": [
    "# a의 2번 인덱스 원소와 3번 인덱스 원소를 결합합니다.\n",
    "a[2] + a[3]"
   ]
  },
  {
   "cell_type": "code",
   "execution_count": 115,
   "id": "adjusted-cincinnati",
   "metadata": {},
   "outputs": [
    {
     "data": {
      "text/plain": [
       "'가'"
      ]
     },
     "execution_count": 115,
     "metadata": {},
     "output_type": "execute_result"
    }
   ],
   "source": [
    "# a의 4번 인덱스 원소는 리스트이므로, 대괄호를 이어서 사용하면 리스트의 개별 원소를 반환합니다.\n",
    "a[4][0]"
   ]
  },
  {
   "cell_type": "markdown",
   "id": "desperate-television",
   "metadata": {},
   "source": [
    "### 리스트의 슬라이싱"
   ]
  },
  {
   "cell_type": "code",
   "execution_count": 116,
   "id": "received-cabinet",
   "metadata": {},
   "outputs": [
    {
     "data": {
      "text/plain": [
       "[1, 2]"
      ]
     },
     "execution_count": 116,
     "metadata": {},
     "output_type": "execute_result"
    }
   ],
   "source": [
    "# a의 0~1번 인덱스 원소를 선택합니다.\n",
    "a[0:2]"
   ]
  },
  {
   "cell_type": "code",
   "execution_count": 117,
   "id": "brief-symphony",
   "metadata": {},
   "outputs": [
    {
     "data": {
      "text/plain": [
       "['3', '4']"
      ]
     },
     "execution_count": 117,
     "metadata": {},
     "output_type": "execute_result"
    }
   ],
   "source": [
    "# a의 2~3번 인덱스 원소를 선택합니다.\n",
    "a[2:4]"
   ]
  },
  {
   "cell_type": "code",
   "execution_count": 118,
   "id": "unable-distinction",
   "metadata": {},
   "outputs": [
    {
     "data": {
      "text/plain": [
       "[1, 2, '3', '4']"
      ]
     },
     "execution_count": 118,
     "metadata": {},
     "output_type": "execute_result"
    }
   ],
   "source": [
    "# a의 0~3번 인덱스 원소를 선택합니다.\n",
    "a[:4]"
   ]
  },
  {
   "cell_type": "code",
   "execution_count": 119,
   "id": "elect-apparel",
   "metadata": {},
   "outputs": [
    {
     "data": {
      "text/plain": [
       "[['가', '나', '다']]"
      ]
     },
     "execution_count": 119,
     "metadata": {},
     "output_type": "execute_result"
    }
   ],
   "source": [
    "# a의 4~마지막 원소를 선택합니다.\n",
    "a[4:]"
   ]
  },
  {
   "cell_type": "code",
   "execution_count": 120,
   "id": "written-prairie",
   "metadata": {},
   "outputs": [
    {
     "data": {
      "text/plain": [
       "[1, 2, '3', '4']"
      ]
     },
     "execution_count": 120,
     "metadata": {},
     "output_type": "execute_result"
    }
   ],
   "source": [
    "# a의 처음부터 끝에서 두 번째 원소를 선택합니다.\n",
    "a[:-1]"
   ]
  },
  {
   "cell_type": "markdown",
   "id": "chronic-remove",
   "metadata": {},
   "source": [
    "### 이중 콜론 연산자"
   ]
  },
  {
   "cell_type": "code",
   "execution_count": 121,
   "id": "sustained-alexandria",
   "metadata": {},
   "outputs": [],
   "source": [
    "# 리스트를 생성합니다.\n",
    "a = [1, 2, 3, 4, 5, 6]"
   ]
  },
  {
   "cell_type": "code",
   "execution_count": 122,
   "id": "brown-reservoir",
   "metadata": {},
   "outputs": [
    {
     "data": {
      "text/plain": [
       "[2, 4]"
      ]
     },
     "execution_count": 122,
     "metadata": {},
     "output_type": "execute_result"
    }
   ],
   "source": [
    "# a의 1~4번 인덱스 원소를 두 칸 간격인 1번, 3번 인덱스 원소를 반환합니다.\n",
    "a[1:5:2]"
   ]
  },
  {
   "cell_type": "code",
   "execution_count": 123,
   "id": "cooperative-inventory",
   "metadata": {},
   "outputs": [
    {
     "data": {
      "text/plain": [
       "[1, 3, 5]"
      ]
     },
     "execution_count": 123,
     "metadata": {},
     "output_type": "execute_result"
    }
   ],
   "source": [
    "# a의 처음부터 4번 인덱스 원소까지 두 칸 간격인 0번, 2번, 4번 인덱스 원소를 반환합니다.\n",
    "a[:5:2]"
   ]
  },
  {
   "cell_type": "code",
   "execution_count": 124,
   "id": "northern-final",
   "metadata": {},
   "outputs": [
    {
     "data": {
      "text/plain": [
       "[2, 4, 6]"
      ]
     },
     "execution_count": 124,
     "metadata": {},
     "output_type": "execute_result"
    }
   ],
   "source": [
    "# a의 1번 인덱스부터 마지막 원소까지 두 칸 간격으로 반환합니다.\n",
    "a[1::2]"
   ]
  },
  {
   "cell_type": "code",
   "execution_count": 125,
   "id": "acknowledged-arthritis",
   "metadata": {},
   "outputs": [
    {
     "data": {
      "text/plain": [
       "[1, 3, 5]"
      ]
     },
     "execution_count": 125,
     "metadata": {},
     "output_type": "execute_result"
    }
   ],
   "source": [
    "# a의 처음부터 마지막 원소까지 두 칸 간격으로 반환합니다.\n",
    "a[::2]"
   ]
  },
  {
   "cell_type": "code",
   "execution_count": 126,
   "id": "municipal-yellow",
   "metadata": {},
   "outputs": [
    {
     "data": {
      "text/plain": [
       "[6, 5, 4, 3, 2, 1]"
      ]
     },
     "execution_count": 126,
     "metadata": {},
     "output_type": "execute_result"
    }
   ],
   "source": [
    "# a의 전체 원소를 역순으로 반환합니다. 내림차순 정렬이 아닙니다.\n",
    "a[::-1]"
   ]
  },
  {
   "cell_type": "markdown",
   "id": "beneficial-horizontal",
   "metadata": {},
   "source": [
    "### 리스트의 인덱싱 및 슬라이싱 관련 주의사항"
   ]
  },
  {
   "cell_type": "code",
   "execution_count": 127,
   "id": "increased-employment",
   "metadata": {},
   "outputs": [
    {
     "ename": "SyntaxError",
     "evalue": "invalid syntax (<ipython-input-127-fe95ab4d163c>, line 2)",
     "output_type": "error",
     "traceback": [
      "\u001b[0;36m  File \u001b[0;32m\"<ipython-input-127-fe95ab4d163c>\"\u001b[0;36m, line \u001b[0;32m2\u001b[0m\n\u001b[0;31m    a[]\u001b[0m\n\u001b[0m      ^\u001b[0m\n\u001b[0;31mSyntaxError\u001b[0m\u001b[0;31m:\u001b[0m invalid syntax\n"
     ]
    }
   ],
   "source": [
    "# 대괄호 안에 아무것도 입력하지 않으면 에러가 발생합니다.\n",
    "a[]"
   ]
  },
  {
   "cell_type": "code",
   "execution_count": 128,
   "id": "pointed-investor",
   "metadata": {},
   "outputs": [
    {
     "data": {
      "text/plain": [
       "[1, 2, 3, 4, 5, 6]"
      ]
     },
     "execution_count": 128,
     "metadata": {},
     "output_type": "execute_result"
    }
   ],
   "source": [
    "# 빈 콜론을 입력하면 리스트 a의 전체 원소를 반환합니다.\n",
    "a[:]"
   ]
  },
  {
   "cell_type": "code",
   "execution_count": 129,
   "id": "applied-mechanism",
   "metadata": {},
   "outputs": [
    {
     "data": {
      "text/plain": [
       "1"
      ]
     },
     "execution_count": 129,
     "metadata": {},
     "output_type": "execute_result"
    }
   ],
   "source": [
    "# 대괄호 안에 인덱스를 스칼라로 설정하면 해당 원소를 본래 자료형으로 반환합니다.\n",
    "a[0]"
   ]
  },
  {
   "cell_type": "code",
   "execution_count": 130,
   "id": "therapeutic-ballet",
   "metadata": {},
   "outputs": [
    {
     "data": {
      "text/plain": [
       "[1]"
      ]
     },
     "execution_count": 130,
     "metadata": {},
     "output_type": "execute_result"
    }
   ],
   "source": [
    "# 대괄호 안에 콜론을 사용하면 연속된 원소를 항상 리스트로 반환합니다.\n",
    "a[0:1]"
   ]
  },
  {
   "cell_type": "code",
   "execution_count": 131,
   "id": "juvenile-baseline",
   "metadata": {},
   "outputs": [
    {
     "ename": "TypeError",
     "evalue": "list indices must be integers or slices, not list",
     "output_type": "error",
     "traceback": [
      "\u001b[0;31m---------------------------------------------------------------------------\u001b[0m",
      "\u001b[0;31mTypeError\u001b[0m                                 Traceback (most recent call last)",
      "\u001b[0;32m<ipython-input-131-58809c81c350>\u001b[0m in \u001b[0;36m<module>\u001b[0;34m\u001b[0m\n\u001b[1;32m      1\u001b[0m \u001b[0;31m# 대괄호 안에 리스트를 입력하면 에러가 발생합니다.\u001b[0m\u001b[0;34m\u001b[0m\u001b[0;34m\u001b[0m\u001b[0;34m\u001b[0m\u001b[0m\n\u001b[0;32m----> 2\u001b[0;31m \u001b[0ma\u001b[0m\u001b[0;34m[\u001b[0m\u001b[0;34m[\u001b[0m\u001b[0;36m0\u001b[0m\u001b[0;34m,\u001b[0m \u001b[0;36m1\u001b[0m\u001b[0;34m]\u001b[0m\u001b[0;34m]\u001b[0m\u001b[0;34m\u001b[0m\u001b[0;34m\u001b[0m\u001b[0m\n\u001b[0m",
      "\u001b[0;31mTypeError\u001b[0m: list indices must be integers or slices, not list"
     ]
    }
   ],
   "source": [
    "# 대괄호 안에 리스트를 입력하면 에러가 발생합니다.\n",
    "a[[0, 1]]"
   ]
  },
  {
   "cell_type": "markdown",
   "id": "funded-haiti",
   "metadata": {},
   "source": [
    "### range() 함수 사용법"
   ]
  },
  {
   "cell_type": "code",
   "execution_count": 132,
   "id": "false-occupation",
   "metadata": {},
   "outputs": [],
   "source": [
    "# a에 0에서 4까지 연속된 정수 객체를 할당합니다.\n",
    "a = range(5)"
   ]
  },
  {
   "cell_type": "code",
   "execution_count": 133,
   "id": "settled-insured",
   "metadata": {},
   "outputs": [
    {
     "data": {
      "text/plain": [
       "range(0, 5)"
      ]
     },
     "execution_count": 133,
     "metadata": {},
     "output_type": "execute_result"
    }
   ],
   "source": [
    "# a를 출력합니다.\n",
    "a"
   ]
  },
  {
   "cell_type": "code",
   "execution_count": 134,
   "id": "retained-creation",
   "metadata": {},
   "outputs": [
    {
     "data": {
      "text/plain": [
       "range"
      ]
     },
     "execution_count": 134,
     "metadata": {},
     "output_type": "execute_result"
    }
   ],
   "source": [
    "# a의 클래스를 확인합니다.\n",
    "type(a)"
   ]
  },
  {
   "cell_type": "code",
   "execution_count": 135,
   "id": "institutional-leadership",
   "metadata": {},
   "outputs": [],
   "source": [
    "# 리스트로 형 변환합니다.\n",
    "a = list(a)"
   ]
  },
  {
   "cell_type": "code",
   "execution_count": 136,
   "id": "occupied-understanding",
   "metadata": {},
   "outputs": [
    {
     "data": {
      "text/plain": [
       "[0, 1, 2, 3, 4]"
      ]
     },
     "execution_count": 136,
     "metadata": {},
     "output_type": "execute_result"
    }
   ],
   "source": [
    "# a를 출력합니다.\n",
    "a"
   ]
  },
  {
   "cell_type": "code",
   "execution_count": 137,
   "id": "recreational-castle",
   "metadata": {},
   "outputs": [
    {
     "data": {
      "text/plain": [
       "list"
      ]
     },
     "execution_count": 137,
     "metadata": {},
     "output_type": "execute_result"
    }
   ],
   "source": [
    "# a의 클래스를 확인합니다.\n",
    "type(a)"
   ]
  },
  {
   "cell_type": "code",
   "execution_count": 138,
   "id": "tough-accounting",
   "metadata": {},
   "outputs": [
    {
     "data": {
      "text/plain": [
       "[1, 2, 3, 4, 5]"
      ]
     },
     "execution_count": 138,
     "metadata": {},
     "output_type": "execute_result"
    }
   ],
   "source": [
    "# range() 함수에 정수를 두 개 입력하면, 두 숫자 사이의 연속된 정수를 반환합니다.\n",
    "list(range(1, 6))"
   ]
  },
  {
   "cell_type": "code",
   "execution_count": 139,
   "id": "chief-herald",
   "metadata": {},
   "outputs": [
    {
     "data": {
      "text/plain": [
       "[1, 3, 5, 7, 9]"
      ]
     },
     "execution_count": 139,
     "metadata": {},
     "output_type": "execute_result"
    }
   ],
   "source": [
    "# range() 함수에 정수를 세 개 입력하면, 마지막 숫자는 간격으로 설정됩니다.\n",
    "list(range(1, 11, 2))"
   ]
  },
  {
   "cell_type": "markdown",
   "id": "expressed-inflation",
   "metadata": {},
   "source": [
    "### 리스트 원소 추가"
   ]
  },
  {
   "cell_type": "code",
   "execution_count": 140,
   "id": "simplified-artwork",
   "metadata": {},
   "outputs": [],
   "source": [
    "# a에 정수 5를 마지막 원소로 추가합니다.\n",
    "a.append(5)"
   ]
  },
  {
   "cell_type": "code",
   "execution_count": 141,
   "id": "canadian-anniversary",
   "metadata": {},
   "outputs": [],
   "source": [
    "# append() 함수에 리스트를 입력하면, 해당 리스트가 원소로 추가됩니다.\n",
    "a.append([6, 7])"
   ]
  },
  {
   "cell_type": "code",
   "execution_count": 142,
   "id": "falling-nation",
   "metadata": {},
   "outputs": [
    {
     "data": {
      "text/plain": [
       "[0, 1, 2, 3, 4, 5, [6, 7]]"
      ]
     },
     "execution_count": 142,
     "metadata": {},
     "output_type": "execute_result"
    }
   ],
   "source": [
    "# a를 출력합니다.\n",
    "a"
   ]
  },
  {
   "cell_type": "code",
   "execution_count": 143,
   "id": "intended-thanksgiving",
   "metadata": {},
   "outputs": [],
   "source": [
    "# extend() 함수에 입력된 리스트의 원소를 a에 추가합니다.\n",
    "a.extend([8, 9])"
   ]
  },
  {
   "cell_type": "code",
   "execution_count": 144,
   "id": "hairy-holmes",
   "metadata": {},
   "outputs": [
    {
     "data": {
      "text/plain": [
       "[0, 1, 2, 3, 4, 5, [6, 7], 8, 9]"
      ]
     },
     "execution_count": 144,
     "metadata": {},
     "output_type": "execute_result"
    }
   ],
   "source": [
    "# a를 출력합니다.\n",
    "a"
   ]
  },
  {
   "cell_type": "markdown",
   "id": "exempt-registrar",
   "metadata": {},
   "source": [
    "### 리스트 원소 삽입"
   ]
  },
  {
   "cell_type": "code",
   "execution_count": 145,
   "id": "failing-reliance",
   "metadata": {},
   "outputs": [],
   "source": [
    "# a의 1번 인덱스 앞에 정수 10을 삽입합니다.\n",
    "a.insert(1, 10)"
   ]
  },
  {
   "cell_type": "code",
   "execution_count": 146,
   "id": "checked-novelty",
   "metadata": {},
   "outputs": [
    {
     "data": {
      "text/plain": [
       "[0, 10, 1, 2, 3, 4, 5, [6, 7], 8, 9]"
      ]
     },
     "execution_count": 146,
     "metadata": {},
     "output_type": "execute_result"
    }
   ],
   "source": [
    "# a를 출력합니다.\n",
    "a"
   ]
  },
  {
   "cell_type": "markdown",
   "id": "hundred-strain",
   "metadata": {},
   "source": [
    "### 리스트 원소 삭제"
   ]
  },
  {
   "cell_type": "code",
   "execution_count": 147,
   "id": "filled-tracker",
   "metadata": {},
   "outputs": [],
   "source": [
    "# remove() 함수는 입력된 값을 (중복된 경우 맨 처음) 하나만 삭제합니다.\n",
    "a.remove([6, 7])"
   ]
  },
  {
   "cell_type": "code",
   "execution_count": 148,
   "id": "announced-tower",
   "metadata": {},
   "outputs": [
    {
     "data": {
      "text/plain": [
       "[0, 10, 1, 2, 3, 4, 5, 8, 9]"
      ]
     },
     "execution_count": 148,
     "metadata": {},
     "output_type": "execute_result"
    }
   ],
   "source": [
    "# a를 출력합니다.\n",
    "a"
   ]
  },
  {
   "cell_type": "code",
   "execution_count": 149,
   "id": "given-animation",
   "metadata": {},
   "outputs": [
    {
     "data": {
      "text/plain": [
       "1"
      ]
     },
     "execution_count": 149,
     "metadata": {},
     "output_type": "execute_result"
    }
   ],
   "source": [
    "# pop() 함수는 입력된 인덱스의 원소를 출력하고, 해당 원소를 제거한 결과를 재할당합니다.\n",
    "a.pop(2)"
   ]
  },
  {
   "cell_type": "code",
   "execution_count": 150,
   "id": "developmental-twins",
   "metadata": {},
   "outputs": [
    {
     "data": {
      "text/plain": [
       "[0, 10, 2, 3, 4, 5, 8, 9]"
      ]
     },
     "execution_count": 150,
     "metadata": {},
     "output_type": "execute_result"
    }
   ],
   "source": [
    "# a를 출력합니다.\n",
    "a"
   ]
  },
  {
   "cell_type": "markdown",
   "id": "numerous-boundary",
   "metadata": {},
   "source": [
    "### 리스트 원소 변경"
   ]
  },
  {
   "cell_type": "code",
   "execution_count": 151,
   "id": "dangerous-clarity",
   "metadata": {},
   "outputs": [],
   "source": [
    "# a의 0번 인덱스 원소를 정수 1로 변경합니다.\n",
    "a[0] = 1"
   ]
  },
  {
   "cell_type": "code",
   "execution_count": 152,
   "id": "hourly-branch",
   "metadata": {},
   "outputs": [
    {
     "data": {
      "text/plain": [
       "[1, 10, 2, 3, 4, 5, 8, 9]"
      ]
     },
     "execution_count": 152,
     "metadata": {},
     "output_type": "execute_result"
    }
   ],
   "source": [
    "# a를 출력합니다.\n",
    "a"
   ]
  },
  {
   "cell_type": "code",
   "execution_count": 153,
   "id": "original-fitness",
   "metadata": {},
   "outputs": [],
   "source": [
    "# a의 3~4번 인덱스 원소를 리스트 [7, 6]의 원소로 변경합니다.\n",
    "a[3:5] = [7, 6]"
   ]
  },
  {
   "cell_type": "code",
   "execution_count": 154,
   "id": "completed-devon",
   "metadata": {},
   "outputs": [
    {
     "data": {
      "text/plain": [
       "[1, 10, 2, 7, 6, 5, 8, 9]"
      ]
     },
     "execution_count": 154,
     "metadata": {},
     "output_type": "execute_result"
    }
   ],
   "source": [
    "# a를 출력합니다.\n",
    "a"
   ]
  },
  {
   "cell_type": "code",
   "execution_count": 155,
   "id": "laughing-bradford",
   "metadata": {},
   "outputs": [],
   "source": [
    "# a의 3번 인덱스 원소를 리스트 [4, 3]으로 변경합니다.\n",
    "a[3] = [4, 3]"
   ]
  },
  {
   "cell_type": "code",
   "execution_count": 156,
   "id": "illegal-bearing",
   "metadata": {},
   "outputs": [
    {
     "data": {
      "text/plain": [
       "[1, 10, 2, [4, 3], 6, 5, 8, 9]"
      ]
     },
     "execution_count": 156,
     "metadata": {},
     "output_type": "execute_result"
    }
   ],
   "source": [
    "# a를 출력합니다.\n",
    "a"
   ]
  },
  {
   "cell_type": "markdown",
   "id": "living-cornwall",
   "metadata": {},
   "source": [
    "### 리스트 연산자"
   ]
  },
  {
   "cell_type": "code",
   "execution_count": 157,
   "id": "systematic-complexity",
   "metadata": {},
   "outputs": [
    {
     "data": {
      "text/plain": [
       "[1, 10, 2, [4, 3], 6, 5, 8, 9, 1, 10, 2, [4, 3], 6, 5, 8, 9]"
      ]
     },
     "execution_count": 157,
     "metadata": {},
     "output_type": "execute_result"
    }
   ],
   "source": [
    "# a와 a를 결합합니다.\n",
    "a + a"
   ]
  },
  {
   "cell_type": "code",
   "execution_count": 158,
   "id": "accompanied-cross",
   "metadata": {},
   "outputs": [
    {
     "data": {
      "text/plain": [
       "[1, 10, 2, [4, 3], 6, 5, 8, 9, 1, 10, 2, [4, 3], 6, 5, 8, 9]"
      ]
     },
     "execution_count": 158,
     "metadata": {},
     "output_type": "execute_result"
    }
   ],
   "source": [
    "# a의 전체 원소를 두 번 반복합니다.\n",
    "a * 2"
   ]
  },
  {
   "cell_type": "code",
   "execution_count": 159,
   "id": "behind-folks",
   "metadata": {},
   "outputs": [
    {
     "data": {
      "text/plain": [
       "True"
      ]
     },
     "execution_count": 159,
     "metadata": {},
     "output_type": "execute_result"
    }
   ],
   "source": [
    "# 1이 리스트 a의 원소이면 True, 원소가 아니면 False를 반환합니다.\n",
    "1 in a"
   ]
  },
  {
   "cell_type": "code",
   "execution_count": 160,
   "id": "automated-broad",
   "metadata": {},
   "outputs": [
    {
     "data": {
      "text/plain": [
       "False"
      ]
     },
     "execution_count": 160,
     "metadata": {},
     "output_type": "execute_result"
    }
   ],
   "source": [
    "# 1이 리스트 a의 원소가 아니면 True, 원소이면 False를 반환합니다.\n",
    "1 not in a"
   ]
  },
  {
   "cell_type": "markdown",
   "id": "backed-cosmetic",
   "metadata": {},
   "source": [
    "### 리스트 원소 확인"
   ]
  },
  {
   "cell_type": "code",
   "execution_count": 161,
   "id": "north-gothic",
   "metadata": {},
   "outputs": [
    {
     "data": {
      "text/plain": [
       "1"
      ]
     },
     "execution_count": 161,
     "metadata": {},
     "output_type": "execute_result"
    }
   ],
   "source": [
    "# a의 원소에 1이 몇 개 있는지 확인합니다.\n",
    "a.count(1)"
   ]
  },
  {
   "cell_type": "code",
   "execution_count": 162,
   "id": "finite-humanitarian",
   "metadata": {},
   "outputs": [
    {
     "data": {
      "text/plain": [
       "0"
      ]
     },
     "execution_count": 162,
     "metadata": {},
     "output_type": "execute_result"
    }
   ],
   "source": [
    "# 리스트에 없는 원소를 입력하면 0을 반환합니다.\n",
    "a.count(7)"
   ]
  },
  {
   "cell_type": "code",
   "execution_count": 163,
   "id": "heated-conversation",
   "metadata": {},
   "outputs": [
    {
     "data": {
      "text/plain": [
       "0"
      ]
     },
     "execution_count": 163,
     "metadata": {},
     "output_type": "execute_result"
    }
   ],
   "source": [
    "# 리스트 원소 중 1이 처음 나오는 인덱스를 반환합니다.\n",
    "a.index(1)"
   ]
  },
  {
   "cell_type": "code",
   "execution_count": 164,
   "id": "missing-barrel",
   "metadata": {},
   "outputs": [
    {
     "ename": "ValueError",
     "evalue": "7 is not in list",
     "output_type": "error",
     "traceback": [
      "\u001b[0;31m---------------------------------------------------------------------------\u001b[0m",
      "\u001b[0;31mValueError\u001b[0m                                Traceback (most recent call last)",
      "\u001b[0;32m<ipython-input-164-64ee6f5c069d>\u001b[0m in \u001b[0;36m<module>\u001b[0;34m\u001b[0m\n\u001b[1;32m      1\u001b[0m \u001b[0;31m# 리스트에 없는 원소를 입력하면 에러가 발생합니다.\u001b[0m\u001b[0;34m\u001b[0m\u001b[0;34m\u001b[0m\u001b[0;34m\u001b[0m\u001b[0m\n\u001b[0;32m----> 2\u001b[0;31m \u001b[0ma\u001b[0m\u001b[0;34m.\u001b[0m\u001b[0mindex\u001b[0m\u001b[0;34m(\u001b[0m\u001b[0;36m7\u001b[0m\u001b[0;34m)\u001b[0m\u001b[0;34m\u001b[0m\u001b[0;34m\u001b[0m\u001b[0m\n\u001b[0m",
      "\u001b[0;31mValueError\u001b[0m: 7 is not in list"
     ]
    }
   ],
   "source": [
    "# 리스트에 없는 원소를 입력하면 에러가 발생합니다.\n",
    "a.index(7)"
   ]
  },
  {
   "cell_type": "markdown",
   "id": "soviet-highland",
   "metadata": {},
   "source": [
    "### 리스트 원소 정렬"
   ]
  },
  {
   "cell_type": "code",
   "execution_count": 165,
   "id": "indie-religion",
   "metadata": {},
   "outputs": [],
   "source": [
    "# a에 포함된 리스트 [4, 3]을 삭제합니다.\n",
    "a.remove([4, 3])"
   ]
  },
  {
   "cell_type": "code",
   "execution_count": 166,
   "id": "opposite-mozambique",
   "metadata": {},
   "outputs": [],
   "source": [
    "# a의 원소를 오름차순으로 정렬합니다.\n",
    "a.sort()"
   ]
  },
  {
   "cell_type": "code",
   "execution_count": 167,
   "id": "liable-anchor",
   "metadata": {},
   "outputs": [
    {
     "data": {
      "text/plain": [
       "[1, 2, 5, 6, 8, 9, 10]"
      ]
     },
     "execution_count": 167,
     "metadata": {},
     "output_type": "execute_result"
    }
   ],
   "source": [
    "# a를 출력합니다.\n",
    "a"
   ]
  },
  {
   "cell_type": "code",
   "execution_count": 168,
   "id": "modular-complement",
   "metadata": {},
   "outputs": [],
   "source": [
    "# a의 원소를 역순으로 변경합니다.\n",
    "a.reverse()"
   ]
  },
  {
   "cell_type": "code",
   "execution_count": 169,
   "id": "compact-commissioner",
   "metadata": {},
   "outputs": [
    {
     "data": {
      "text/plain": [
       "[10, 9, 8, 6, 5, 2, 1]"
      ]
     },
     "execution_count": 169,
     "metadata": {},
     "output_type": "execute_result"
    }
   ],
   "source": [
    "# a를 출력합니다.\n",
    "a"
   ]
  },
  {
   "cell_type": "markdown",
   "id": "joined-platform",
   "metadata": {},
   "source": [
    "## 튜플"
   ]
  },
  {
   "cell_type": "code",
   "execution_count": 170,
   "id": "internal-lease",
   "metadata": {},
   "outputs": [],
   "source": [
    "# 튜플을 생성합니다.\n",
    "t = (1, 2.1, '3')"
   ]
  },
  {
   "cell_type": "code",
   "execution_count": 171,
   "id": "insured-criminal",
   "metadata": {},
   "outputs": [],
   "source": [
    "# tuple() 클래스는 리스트를 튜플로 변환합니다.\n",
    "t = tuple([1, 2.1, '3'])"
   ]
  },
  {
   "cell_type": "code",
   "execution_count": 172,
   "id": "differential-nation",
   "metadata": {},
   "outputs": [
    {
     "data": {
      "text/plain": [
       "(1, 2.1, '3')"
      ]
     },
     "execution_count": 172,
     "metadata": {},
     "output_type": "execute_result"
    }
   ],
   "source": [
    "# t를 출력합니다.\n",
    "t"
   ]
  },
  {
   "cell_type": "code",
   "execution_count": 173,
   "id": "unlike-bracelet",
   "metadata": {},
   "outputs": [
    {
     "data": {
      "text/plain": [
       "tuple"
      ]
     },
     "execution_count": 173,
     "metadata": {},
     "output_type": "execute_result"
    }
   ],
   "source": [
    "# t의 클래스를 확인합니다.\n",
    "type(t)"
   ]
  },
  {
   "cell_type": "markdown",
   "id": "varying-northern",
   "metadata": {},
   "source": [
    "## 딕셔너리"
   ]
  },
  {
   "cell_type": "markdown",
   "id": "theoretical-screw",
   "metadata": {},
   "source": [
    "### 딕셔너리 생성"
   ]
  },
  {
   "cell_type": "code",
   "execution_count": 174,
   "id": "protected-unknown",
   "metadata": {},
   "outputs": [],
   "source": [
    "# 딕셔너리를 생성합니다.\n",
    "d = {'item' : 'pants', 'size' : ['S', 'M', 'L', 'XL']}"
   ]
  },
  {
   "cell_type": "code",
   "execution_count": 175,
   "id": "permanent-booking",
   "metadata": {},
   "outputs": [
    {
     "data": {
      "text/plain": [
       "{'item': 'pants', 'size': ['S', 'M', 'L', 'XL']}"
      ]
     },
     "execution_count": 175,
     "metadata": {},
     "output_type": "execute_result"
    }
   ],
   "source": [
    "# d를 출력합니다.\n",
    "d"
   ]
  },
  {
   "cell_type": "code",
   "execution_count": 176,
   "id": "three-classics",
   "metadata": {},
   "outputs": [
    {
     "data": {
      "text/plain": [
       "dict"
      ]
     },
     "execution_count": 176,
     "metadata": {},
     "output_type": "execute_result"
    }
   ],
   "source": [
    "# d의 클래스를 확인합니다.\n",
    "type(d)"
   ]
  },
  {
   "cell_type": "code",
   "execution_count": 177,
   "id": "further-elimination",
   "metadata": {},
   "outputs": [
    {
     "data": {
      "text/plain": [
       "{'item': 'pants'}"
      ]
     },
     "execution_count": 177,
     "metadata": {},
     "output_type": "execute_result"
    }
   ],
   "source": [
    "# dict() 클래스로 딕셔너리를 생성합니다.\n",
    "dict(item = 'pants')"
   ]
  },
  {
   "cell_type": "code",
   "execution_count": 178,
   "id": "rental-frame",
   "metadata": {},
   "outputs": [
    {
     "ename": "SyntaxError",
     "evalue": "expression cannot contain assignment, perhaps you meant \"==\"? (<ipython-input-178-cdd6bf62af08>, line 2)",
     "output_type": "error",
     "traceback": [
      "\u001b[0;36m  File \u001b[0;32m\"<ipython-input-178-cdd6bf62af08>\"\u001b[0;36m, line \u001b[0;32m2\u001b[0m\n\u001b[0;31m    dict('item' = 'pants')\u001b[0m\n\u001b[0m         ^\u001b[0m\n\u001b[0;31mSyntaxError\u001b[0m\u001b[0;31m:\u001b[0m expression cannot contain assignment, perhaps you meant \"==\"?\n"
     ]
    }
   ],
   "source": [
    "# key를 따옴표로 감싸면 에러가 발생합니다.\n",
    "dict('item' = 'pants')"
   ]
  },
  {
   "cell_type": "code",
   "execution_count": 179,
   "id": "directed-julian",
   "metadata": {},
   "outputs": [
    {
     "ename": "SyntaxError",
     "evalue": "invalid syntax (<ipython-input-179-008e30a635de>, line 2)",
     "output_type": "error",
     "traceback": [
      "\u001b[0;36m  File \u001b[0;32m\"<ipython-input-179-008e30a635de>\"\u001b[0;36m, line \u001b[0;32m2\u001b[0m\n\u001b[0;31m    dict(item : 'pants')\u001b[0m\n\u001b[0m              ^\u001b[0m\n\u001b[0;31mSyntaxError\u001b[0m\u001b[0;31m:\u001b[0m invalid syntax\n"
     ]
    }
   ],
   "source": [
    "# 콜론을 사용하면 에러가 발생합니다.\n",
    "dict(item : 'pants')"
   ]
  },
  {
   "cell_type": "markdown",
   "id": "armed-african",
   "metadata": {},
   "source": [
    "### 딕셔너리 원소 선택"
   ]
  },
  {
   "cell_type": "code",
   "execution_count": 180,
   "id": "elegant-patent",
   "metadata": {
    "scrolled": true
   },
   "outputs": [
    {
     "data": {
      "text/plain": [
       "'pants'"
      ]
     },
     "execution_count": 180,
     "metadata": {},
     "output_type": "execute_result"
    }
   ],
   "source": [
    "# d에서 key가 'item'인 원소의 value를 반환합니다.\n",
    "d['item']"
   ]
  },
  {
   "cell_type": "code",
   "execution_count": 181,
   "id": "excessive-modification",
   "metadata": {},
   "outputs": [
    {
     "ename": "KeyError",
     "evalue": "'items'",
     "output_type": "error",
     "traceback": [
      "\u001b[0;31m---------------------------------------------------------------------------\u001b[0m",
      "\u001b[0;31mKeyError\u001b[0m                                  Traceback (most recent call last)",
      "\u001b[0;32m<ipython-input-181-960f45ba095c>\u001b[0m in \u001b[0;36m<module>\u001b[0;34m\u001b[0m\n\u001b[1;32m      1\u001b[0m \u001b[0;31m# d에서 key가 'items'인 원소의 value를 반환합니다.\u001b[0m\u001b[0;34m\u001b[0m\u001b[0;34m\u001b[0m\u001b[0;34m\u001b[0m\u001b[0m\n\u001b[0;32m----> 2\u001b[0;31m \u001b[0md\u001b[0m\u001b[0;34m[\u001b[0m\u001b[0;34m'items'\u001b[0m\u001b[0;34m]\u001b[0m\u001b[0;34m\u001b[0m\u001b[0;34m\u001b[0m\u001b[0m\n\u001b[0m",
      "\u001b[0;31mKeyError\u001b[0m: 'items'"
     ]
    }
   ],
   "source": [
    "# d에서 key가 'items'인 원소의 value를 반환합니다. (에러가 발생합니다!)\n",
    "d['items']"
   ]
  },
  {
   "cell_type": "markdown",
   "id": "strategic-flood",
   "metadata": {},
   "source": [
    "### 딕셔너리 원소 추가"
   ]
  },
  {
   "cell_type": "code",
   "execution_count": 182,
   "id": "forced-ebony",
   "metadata": {},
   "outputs": [
    {
     "data": {
      "text/plain": [
       "False"
      ]
     },
     "execution_count": 182,
     "metadata": {},
     "output_type": "execute_result"
    }
   ],
   "source": [
    "# d에서 key가 'shop'인 원소가 포함되어 있는지 확인합니다.\n",
    "'shop' in d"
   ]
  },
  {
   "cell_type": "code",
   "execution_count": 183,
   "id": "julian-ocean",
   "metadata": {},
   "outputs": [],
   "source": [
    "# d에서 key가 'shop'인 원소를 추가하고 value에 'A1'을 할당합니다.\n",
    "d['shop'] = 'A1'"
   ]
  },
  {
   "cell_type": "code",
   "execution_count": 184,
   "id": "tested-collect",
   "metadata": {},
   "outputs": [
    {
     "data": {
      "text/plain": [
       "{'item': 'pants', 'size': ['S', 'M', 'L', 'XL'], 'shop': 'A1'}"
      ]
     },
     "execution_count": 184,
     "metadata": {},
     "output_type": "execute_result"
    }
   ],
   "source": [
    "# d를 출력합니다.\n",
    "d"
   ]
  },
  {
   "cell_type": "markdown",
   "id": "great-beverage",
   "metadata": {},
   "source": [
    "### 딕셔너리 원소 변경"
   ]
  },
  {
   "cell_type": "code",
   "execution_count": 185,
   "id": "sapphire-plaza",
   "metadata": {},
   "outputs": [],
   "source": [
    "# d에서 key가 'item'인 원소의 value를 'skirt'로 변경합니다.\n",
    "d['item'] = 'skirt'"
   ]
  },
  {
   "cell_type": "code",
   "execution_count": 186,
   "id": "dependent-assist",
   "metadata": {},
   "outputs": [
    {
     "data": {
      "text/plain": [
       "'skirt'"
      ]
     },
     "execution_count": 186,
     "metadata": {},
     "output_type": "execute_result"
    }
   ],
   "source": [
    "# d에서 key가 'item'인 원소인 value를 반환합니다.\n",
    "d['item']"
   ]
  },
  {
   "cell_type": "markdown",
   "id": "understood-ability",
   "metadata": {},
   "source": [
    "### 딕셔너리 원소 삭제"
   ]
  },
  {
   "cell_type": "code",
   "execution_count": 187,
   "id": "amateur-insulin",
   "metadata": {},
   "outputs": [],
   "source": [
    "# del 문을 이용하여 d에서 key가 'item'인 원소를 제거합니다.\n",
    "del d['item']"
   ]
  },
  {
   "cell_type": "code",
   "execution_count": 188,
   "id": "handmade-penguin",
   "metadata": {},
   "outputs": [
    {
     "data": {
      "text/plain": [
       "{'size': ['S', 'M', 'L', 'XL'], 'shop': 'A1'}"
      ]
     },
     "execution_count": 188,
     "metadata": {},
     "output_type": "execute_result"
    }
   ],
   "source": [
    "# d를 출력합니다.\n",
    "d"
   ]
  },
  {
   "cell_type": "markdown",
   "id": "manual-estate",
   "metadata": {},
   "source": [
    "### 딕셔너리 key와 value 반환"
   ]
  },
  {
   "cell_type": "code",
   "execution_count": 189,
   "id": "national-swimming",
   "metadata": {},
   "outputs": [
    {
     "data": {
      "text/plain": [
       "['size', 'shop']"
      ]
     },
     "execution_count": 189,
     "metadata": {},
     "output_type": "execute_result"
    }
   ],
   "source": [
    "# keys() 함수로 딕셔너리의 key를 리스트로 반환합니다.\n",
    "list(d.keys())"
   ]
  },
  {
   "cell_type": "code",
   "execution_count": 190,
   "id": "parallel-compound",
   "metadata": {},
   "outputs": [
    {
     "data": {
      "text/plain": [
       "[['S', 'M', 'L', 'XL'], 'A1']"
      ]
     },
     "execution_count": 190,
     "metadata": {},
     "output_type": "execute_result"
    }
   ],
   "source": [
    "# values() 함수로 딕셔너리의 values를 리스트로 반환합니다.\n",
    "list(d.values())"
   ]
  },
  {
   "cell_type": "code",
   "execution_count": 191,
   "id": "equal-panama",
   "metadata": {},
   "outputs": [
    {
     "data": {
      "text/plain": [
       "[('size', ['S', 'M', 'L', 'XL']), ('shop', 'A1')]"
      ]
     },
     "execution_count": 191,
     "metadata": {},
     "output_type": "execute_result"
    }
   ],
   "source": [
    "# items() 함수로 딕셔너리의 key와 value를 함께 리스트로 반환합니다.\n",
    "list(d.items())"
   ]
  },
  {
   "cell_type": "markdown",
   "id": "electronic-henry",
   "metadata": {},
   "source": [
    "## 집합"
   ]
  },
  {
   "cell_type": "code",
   "execution_count": 192,
   "id": "martial-compact",
   "metadata": {},
   "outputs": [],
   "source": [
    "# 집합을 생성합니다.\n",
    "s = {1, 2, 3, 1, 2, 3}"
   ]
  },
  {
   "cell_type": "code",
   "execution_count": 193,
   "id": "satisfactory-gossip",
   "metadata": {},
   "outputs": [],
   "source": [
    "# set() 클래스는 리스트를 집합으로 변환합니다.\n",
    "s = set([1, 2, 3, 1, 2, 3])"
   ]
  },
  {
   "cell_type": "code",
   "execution_count": 194,
   "id": "japanese-mechanics",
   "metadata": {},
   "outputs": [
    {
     "data": {
      "text/plain": [
       "{1, 2, 3}"
      ]
     },
     "execution_count": 194,
     "metadata": {},
     "output_type": "execute_result"
    }
   ],
   "source": [
    "# s를 출력합니다.\n",
    "s"
   ]
  },
  {
   "cell_type": "code",
   "execution_count": 195,
   "id": "plastic-honduras",
   "metadata": {},
   "outputs": [
    {
     "data": {
      "text/plain": [
       "set"
      ]
     },
     "execution_count": 195,
     "metadata": {},
     "output_type": "execute_result"
    }
   ],
   "source": [
    "# s의 클래스를 확인합니다.\n",
    "type(s)"
   ]
  },
  {
   "cell_type": "markdown",
   "id": "piano-messaging",
   "metadata": {},
   "source": [
    "# Python 문법 기초"
   ]
  },
  {
   "cell_type": "markdown",
   "id": "emerging-stevens",
   "metadata": {},
   "source": [
    "## if 조건문"
   ]
  },
  {
   "cell_type": "code",
   "execution_count": 197,
   "id": "written-import",
   "metadata": {},
   "outputs": [
    {
     "name": "stdout",
     "output_type": "stream",
     "text": [
      "전공: 응용통계\n"
     ]
    }
   ],
   "source": [
    "# input() 함수는 값을 입력받아 문자열로 반환하여 major에 할당합니다.\n",
    "major = input('전공: ')"
   ]
  },
  {
   "cell_type": "code",
   "execution_count": 198,
   "id": "moved-diamond",
   "metadata": {},
   "outputs": [
    {
     "name": "stdout",
     "output_type": "stream",
     "text": [
      "Study R!\n"
     ]
    }
   ],
   "source": [
    "# 학습할 언어를 답변하는 조건문을 작성합니다.\n",
    "if major.find('통계') >= 0:\n",
    "    print('Study R!')\n",
    "elif major.find('컴퓨터') >= 0:\n",
    "    print('Study Python!')\n",
    "else:\n",
    "    print('Study what you want!')"
   ]
  },
  {
   "cell_type": "markdown",
   "id": "dominant-indian",
   "metadata": {},
   "source": [
    "## for 반복문"
   ]
  },
  {
   "cell_type": "code",
   "execution_count": 199,
   "id": "experimental-forest",
   "metadata": {},
   "outputs": [],
   "source": [
    "# 중식당 메뉴를 리스트로 생성합니다.\n",
    "menu = ['짜장면', '탕수육', '짬뽕', '깐풍기', '전가복', '샥스핀']"
   ]
  },
  {
   "cell_type": "code",
   "execution_count": 200,
   "id": "cooked-chase",
   "metadata": {},
   "outputs": [
    {
     "name": "stdout",
     "output_type": "stream",
     "text": [
      "짜장면\n",
      "탕수육\n",
      "짬뽕\n",
      "깐풍기\n",
      "전가복\n",
      "샥스핀\n"
     ]
    }
   ],
   "source": [
    "# 반복문을 사용하여 중식당 메뉴를 차례대로 출력합니다.\n",
    "for order in menu:\n",
    "    print(order)"
   ]
  },
  {
   "cell_type": "code",
   "execution_count": 201,
   "id": "intermediate-horror",
   "metadata": {},
   "outputs": [
    {
     "name": "stdout",
     "output_type": "stream",
     "text": [
      "짜장면 시킬까요?\n",
      "탕수육 시킬까요?\n",
      "짬뽕 시킬까요?\n",
      "깐풍기 시킬까요?\n",
      "전가복 시킬까요?\n",
      "샥스핀 시킬까요?\n"
     ]
    }
   ],
   "source": [
    "# 문자열 결합을 통해 출력되는 안내문을 변경합니다.\n",
    "for order in menu:\n",
    "    print(order + ' 시킬까요?')"
   ]
  },
  {
   "cell_type": "code",
   "execution_count": 202,
   "id": "plain-medication",
   "metadata": {},
   "outputs": [
    {
     "name": "stdout",
     "output_type": "stream",
     "text": [
      "짜장면 시킬까요?\n",
      "-> 요리부터 주문합시다!\n",
      "\n",
      "탕수육 시킬까요?\n",
      "-> 다음 메뉴는 뭔가요?\n",
      "\n",
      "짬뽕 시킬까요?\n",
      "-> 요리부터 주문합시다!\n",
      "\n",
      "깐풍기 시킬까요?\n",
      "-> 다음 메뉴는 뭔가요?\n",
      "\n",
      "전가복 시킬까요?\n",
      "-> 다음 메뉴는 뭔가요?\n",
      "\n",
      "샥스핀 시킬까요?\n",
      "-> 다음 메뉴는 뭔가요?\n",
      "\n"
     ]
    }
   ],
   "source": [
    "# 중식당 메뉴를 차례대로 출력하면서, 조건에 따라 코드를 다르게 실행합니다.\n",
    "for order in menu:\n",
    "    print(order + ' 시킬까요?')\n",
    "    if order in ['짜장면', '짬뽕']:\n",
    "        print('-> 요리부터 주문합시다!\\n')\n",
    "        continue\n",
    "    print('-> 다음 메뉴는 뭔가요?\\n')"
   ]
  },
  {
   "cell_type": "markdown",
   "id": "seven-electronics",
   "metadata": {},
   "source": [
    "### 중첩 for 반복문"
   ]
  },
  {
   "cell_type": "code",
   "execution_count": 203,
   "id": "certified-accordance",
   "metadata": {
    "scrolled": true
   },
   "outputs": [
    {
     "name": "stdout",
     "output_type": "stream",
     "text": [
      "2 * 1 = 2\n",
      "2 * 2 = 4\n",
      "2 * 3 = 6\n",
      "2 * 4 = 8\n",
      "2 * 5 = 10\n",
      "2 * 6 = 12\n",
      "2 * 7 = 14\n",
      "2 * 8 = 16\n",
      "2 * 9 = 18\n",
      "**********\n",
      "3 * 1 = 3\n",
      "3 * 2 = 6\n",
      "3 * 3 = 9\n",
      "3 * 4 = 12\n",
      "3 * 5 = 15\n",
      "3 * 6 = 18\n",
      "3 * 7 = 21\n",
      "3 * 8 = 24\n",
      "3 * 9 = 27\n",
      "**********\n",
      "4 * 1 = 4\n",
      "4 * 2 = 8\n",
      "4 * 3 = 12\n",
      "4 * 4 = 16\n",
      "4 * 5 = 20\n",
      "4 * 6 = 24\n",
      "4 * 7 = 28\n",
      "4 * 8 = 32\n",
      "4 * 9 = 36\n",
      "**********\n",
      "5 * 1 = 5\n",
      "5 * 2 = 10\n",
      "5 * 3 = 15\n",
      "5 * 4 = 20\n",
      "5 * 5 = 25\n",
      "5 * 6 = 30\n",
      "5 * 7 = 35\n",
      "5 * 8 = 40\n",
      "5 * 9 = 45\n",
      "**********\n",
      "6 * 1 = 6\n",
      "6 * 2 = 12\n",
      "6 * 3 = 18\n",
      "6 * 4 = 24\n",
      "6 * 5 = 30\n",
      "6 * 6 = 36\n",
      "6 * 7 = 42\n",
      "6 * 8 = 48\n",
      "6 * 9 = 54\n",
      "**********\n",
      "7 * 1 = 7\n",
      "7 * 2 = 14\n",
      "7 * 3 = 21\n",
      "7 * 4 = 28\n",
      "7 * 5 = 35\n",
      "7 * 6 = 42\n",
      "7 * 7 = 49\n",
      "7 * 8 = 56\n",
      "7 * 9 = 63\n",
      "**********\n",
      "8 * 1 = 8\n",
      "8 * 2 = 16\n",
      "8 * 3 = 24\n",
      "8 * 4 = 32\n",
      "8 * 5 = 40\n",
      "8 * 6 = 48\n",
      "8 * 7 = 56\n",
      "8 * 8 = 64\n",
      "8 * 9 = 72\n",
      "**********\n",
      "9 * 1 = 9\n",
      "9 * 2 = 18\n",
      "9 * 3 = 27\n",
      "9 * 4 = 36\n",
      "9 * 5 = 45\n",
      "9 * 6 = 54\n",
      "9 * 7 = 63\n",
      "9 * 8 = 72\n",
      "9 * 9 = 81\n",
      "**********\n"
     ]
    }
   ],
   "source": [
    "# 두 리스트 원소에 대한 모든 경우의 수를 반복 실행합니다.\n",
    "for i in range(2, 10):\n",
    "    for j in range(1, 10):\n",
    "        print(f'{i} * {j} = {i*j}')\n",
    "    print('*' * 10)"
   ]
  },
  {
   "cell_type": "code",
   "execution_count": 204,
   "id": "simplified-professor",
   "metadata": {},
   "outputs": [
    {
     "name": "stdout",
     "output_type": "stream",
     "text": [
      "2 * 1 = 2\n",
      "3 * 2 = 6\n",
      "4 * 3 = 12\n",
      "5 * 4 = 20\n",
      "6 * 5 = 30\n",
      "7 * 6 = 42\n",
      "8 * 7 = 56\n",
      "9 * 8 = 72\n"
     ]
    }
   ],
   "source": [
    "# zip() 함수로 두 개의 리스트에서 서로 대응하는 원소끼리 반복문을 실행합니다.\n",
    "for i, j in zip(range(2, 10), range(1, 10)):\n",
    "    print(f'{i} * {j} = {i*j}')"
   ]
  },
  {
   "cell_type": "markdown",
   "id": "noted-patent",
   "metadata": {},
   "source": [
    "### 리스트 컴프리헨션"
   ]
  },
  {
   "cell_type": "code",
   "execution_count": 205,
   "id": "closing-berlin",
   "metadata": {},
   "outputs": [],
   "source": [
    "# 정수 1~10을 원소로 갖는 리스트를 생성합니다.\n",
    "nums = list(range(1, 11))"
   ]
  },
  {
   "cell_type": "code",
   "execution_count": 206,
   "id": "sticky-comparison",
   "metadata": {},
   "outputs": [
    {
     "data": {
      "text/plain": [
       "[1, 4, 9, 16, 25, 36, 49, 64, 81, 100]"
      ]
     },
     "execution_count": 206,
     "metadata": {},
     "output_type": "execute_result"
    }
   ],
   "source": [
    "# 결과를 저장할 빈 리스트를 미리 생성합니다.\n",
    "sqrs1 = []\n",
    "\n",
    "# 반복문을 사용하여 nums의 각 원소를 제곱합니다.\n",
    "for num in nums:\n",
    "    sqrs1.append(num**2)\n",
    "\n",
    "# sqrs1을 출력합니다.\n",
    "sqrs1"
   ]
  },
  {
   "cell_type": "code",
   "execution_count": 207,
   "id": "chinese-cathedral",
   "metadata": {},
   "outputs": [
    {
     "data": {
      "text/plain": [
       "[1, 4, 9, 16, 25, 36, 49, 64, 81, 100]"
      ]
     },
     "execution_count": 207,
     "metadata": {},
     "output_type": "execute_result"
    }
   ],
   "source": [
    "# 리스트 컴프리헨션을 사용합니다.\n",
    "sqrs2 = [num ** 2 for num in nums]\n",
    "\n",
    "# sqrs2를 출력합니다.\n",
    "sqrs2"
   ]
  },
  {
   "cell_type": "code",
   "execution_count": 208,
   "id": "russian-record",
   "metadata": {},
   "outputs": [
    {
     "data": {
      "text/plain": [
       "[4, 16, 36, 64, 100]"
      ]
     },
     "execution_count": 208,
     "metadata": {},
     "output_type": "execute_result"
    }
   ],
   "source": [
    "# 리스트 컴프리헨션 안에 조건문을 추가하여 특정 조건을 만족하는 리스트 원소만 대상으로 코드를 실행할 수 있습니다.\n",
    "[num ** 2 for num in nums if num % 2 == 0]"
   ]
  },
  {
   "cell_type": "code",
   "execution_count": 209,
   "id": "dependent-killing",
   "metadata": {
    "scrolled": true
   },
   "outputs": [
    {
     "data": {
      "text/plain": [
       "['2*1=2',\n",
       " '2*2=4',\n",
       " '2*3=6',\n",
       " '2*4=8',\n",
       " '2*5=10',\n",
       " '2*6=12',\n",
       " '2*7=14',\n",
       " '2*8=16',\n",
       " '2*9=18',\n",
       " '3*1=3',\n",
       " '3*2=6',\n",
       " '3*3=9',\n",
       " '3*4=12',\n",
       " '3*5=15',\n",
       " '3*6=18',\n",
       " '3*7=21',\n",
       " '3*8=24',\n",
       " '3*9=27',\n",
       " '4*1=4',\n",
       " '4*2=8',\n",
       " '4*3=12',\n",
       " '4*4=16',\n",
       " '4*5=20',\n",
       " '4*6=24',\n",
       " '4*7=28',\n",
       " '4*8=32',\n",
       " '4*9=36',\n",
       " '5*1=5',\n",
       " '5*2=10',\n",
       " '5*3=15',\n",
       " '5*4=20',\n",
       " '5*5=25',\n",
       " '5*6=30',\n",
       " '5*7=35',\n",
       " '5*8=40',\n",
       " '5*9=45',\n",
       " '6*1=6',\n",
       " '6*2=12',\n",
       " '6*3=18',\n",
       " '6*4=24',\n",
       " '6*5=30',\n",
       " '6*6=36',\n",
       " '6*7=42',\n",
       " '6*8=48',\n",
       " '6*9=54',\n",
       " '7*1=7',\n",
       " '7*2=14',\n",
       " '7*3=21',\n",
       " '7*4=28',\n",
       " '7*5=35',\n",
       " '7*6=42',\n",
       " '7*7=49',\n",
       " '7*8=56',\n",
       " '7*9=63',\n",
       " '8*1=8',\n",
       " '8*2=16',\n",
       " '8*3=24',\n",
       " '8*4=32',\n",
       " '8*5=40',\n",
       " '8*6=48',\n",
       " '8*7=56',\n",
       " '8*8=64',\n",
       " '8*9=72',\n",
       " '9*1=9',\n",
       " '9*2=18',\n",
       " '9*3=27',\n",
       " '9*4=36',\n",
       " '9*5=45',\n",
       " '9*6=54',\n",
       " '9*7=63',\n",
       " '9*8=72',\n",
       " '9*9=81']"
      ]
     },
     "execution_count": 209,
     "metadata": {},
     "output_type": "execute_result"
    }
   ],
   "source": [
    "# 리스트 컴프리헨션 안에 변수를 2개 입력하면 전체 경우의 수에 대해 같은 코드를 반복 실행하여 리스트로 반환합니다.\n",
    "[f'{i}*{j}={i*j}' for i in range(2, 10) for j in range(1, 10)]"
   ]
  },
  {
   "cell_type": "markdown",
   "id": "accredited-asset",
   "metadata": {},
   "source": [
    "## while 반복문"
   ]
  },
  {
   "cell_type": "code",
   "execution_count": 210,
   "id": "beginning-constitutional",
   "metadata": {},
   "outputs": [
    {
     "name": "stdout",
     "output_type": "stream",
     "text": [
      "10\n",
      "9\n",
      "8\n",
      "7\n",
      "6\n",
      "5\n",
      "4\n",
      "3\n",
      "2\n",
      "1\n"
     ]
    }
   ],
   "source": [
    "# 변수 i에 정수 10을 할당합니다.\n",
    "i = 10\n",
    "\n",
    "# 반복하여 i를 출력하고 1씩 차감하다가, i가 0이 되면 중단합니다.\n",
    "while i:\n",
    "    print(i)\n",
    "    i -= 1"
   ]
  },
  {
   "cell_type": "code",
   "execution_count": 211,
   "id": "patient-shadow",
   "metadata": {
    "scrolled": true
   },
   "outputs": [
    {
     "name": "stdout",
     "output_type": "stream",
     "text": [
      "0\n",
      "1\n",
      "2\n",
      "3\n",
      "4\n",
      "5\n",
      "6\n",
      "7\n",
      "8\n",
      "9\n",
      "10\n",
      "11\n",
      "12\n",
      "13\n",
      "14\n",
      "15\n",
      "16\n",
      "17\n",
      "18\n",
      "19\n",
      "20\n",
      "21\n",
      "22\n",
      "23\n",
      "24\n",
      "25\n",
      "26\n",
      "27\n",
      "28\n",
      "29\n",
      "30\n",
      "31\n",
      "32\n",
      "33\n",
      "34\n",
      "35\n",
      "36\n",
      "37\n",
      "38\n",
      "39\n",
      "40\n",
      "41\n",
      "42\n",
      "43\n",
      "44\n",
      "45\n",
      "46\n",
      "47\n",
      "48\n",
      "49\n",
      "50\n",
      "51\n",
      "52\n",
      "53\n",
      "54\n",
      "55\n",
      "56\n",
      "57\n",
      "58\n",
      "59\n",
      "60\n",
      "61\n",
      "62\n",
      "63\n",
      "64\n",
      "65\n",
      "66\n",
      "67\n",
      "68\n",
      "69\n",
      "70\n",
      "71\n",
      "72\n",
      "73\n",
      "74\n",
      "75\n",
      "76\n",
      "77\n",
      "78\n",
      "79\n",
      "80\n",
      "81\n",
      "82\n",
      "83\n",
      "84\n",
      "85\n",
      "86\n",
      "87\n",
      "88\n",
      "89\n",
      "90\n",
      "91\n",
      "92\n",
      "93\n",
      "94\n",
      "95\n",
      "96\n",
      "97\n",
      "98\n",
      "99\n"
     ]
    }
   ],
   "source": [
    "# 강제로 중단하기 전까지 무한 반복합니다. (멈추려면 interrupt키를 누르세요!)\n",
    "while True:\n",
    "    print(i)\n",
    "    i += 1"
   ]
  },
  {
   "cell_type": "code",
   "execution_count": 212,
   "id": "studied-breakdown",
   "metadata": {},
   "outputs": [
    {
     "name": "stdout",
     "output_type": "stream",
     "text": [
      "아메리카노 결제 후 잔액은 25900입니다.\n",
      "아메리카노 결제 후 잔액은 21800입니다.\n",
      "아메리카노 결제 후 잔액은 17700입니다.\n",
      "아메리카노 결제 후 잔액은 13600입니다.\n",
      "아메리카노 결제 후 잔액은 9500입니다.\n",
      "아메리카노 결제 후 잔액은 5400입니다.\n",
      "아메리카노 결제 후 잔액은 1300입니다.\n",
      "카드를 충전하세요!\n"
     ]
    }
   ],
   "source": [
    "# 별다방 선불카드에 30000원을 충전합니다.\n",
    "card = 30000\n",
    "\n",
    "# card가 0이 되기 전까지 반복 실행합니다.\n",
    "while card:\n",
    "    if card < 4100:\n",
    "        print('카드를 충전하세요!'); break\n",
    "    else:\n",
    "        card -= 4100\n",
    "        print(f'아메리카노 결제 후 잔액은 {card}입니다.')"
   ]
  },
  {
   "cell_type": "markdown",
   "id": "emotional-relevance",
   "metadata": {},
   "source": [
    "## 사용자 정의함수"
   ]
  },
  {
   "cell_type": "markdown",
   "id": "official-chorus",
   "metadata": {},
   "source": [
    "### 같은 코드 중복 실행"
   ]
  },
  {
   "cell_type": "code",
   "execution_count": 213,
   "id": "widespread-family",
   "metadata": {},
   "outputs": [
    {
     "data": {
      "text/plain": [
       "21.224489795918366"
      ]
     },
     "execution_count": 213,
     "metadata": {},
     "output_type": "execute_result"
    }
   ],
   "source": [
    "# 체질량지수를 출력합니다.\n",
    "hgt = 175\n",
    "wgt = 65\n",
    "hgt /= 100\n",
    "bmi = wgt / hgt**2\n",
    "bmi"
   ]
  },
  {
   "cell_type": "code",
   "execution_count": 214,
   "id": "incredible-rental",
   "metadata": {},
   "outputs": [
    {
     "data": {
      "text/plain": [
       "26.315789473684212"
      ]
     },
     "execution_count": 214,
     "metadata": {},
     "output_type": "execute_result"
    }
   ],
   "source": [
    "# 체질량지수를 출력합니다.\n",
    "hgt = 190\n",
    "wgt = 95\n",
    "hgt /= 100\n",
    "bmi = wgt / hgt**2\n",
    "bmi"
   ]
  },
  {
   "cell_type": "markdown",
   "id": "secret-equity",
   "metadata": {},
   "source": [
    "### 사용자 정의 함수"
   ]
  },
  {
   "cell_type": "code",
   "execution_count": 215,
   "id": "knowing-combine",
   "metadata": {},
   "outputs": [],
   "source": [
    "# 체질량지수를 반환하는 사용자 정의 함수를 생성합니다.\n",
    "def BMI(height, weight):\n",
    "    height /= 100\n",
    "    bmi = weight / height ** 2\n",
    "    return bmi"
   ]
  },
  {
   "cell_type": "code",
   "execution_count": 216,
   "id": "based-building",
   "metadata": {},
   "outputs": [
    {
     "data": {
      "text/plain": [
       "21.224489795918366"
      ]
     },
     "execution_count": 216,
     "metadata": {},
     "output_type": "execute_result"
    }
   ],
   "source": [
    "# 사용자 정의 함수를 실행합니다.\n",
    "BMI(175, 65)"
   ]
  },
  {
   "cell_type": "code",
   "execution_count": 217,
   "id": "dirty-korea",
   "metadata": {},
   "outputs": [
    {
     "data": {
      "text/plain": [
       "21.224489795918366"
      ]
     },
     "execution_count": 217,
     "metadata": {},
     "output_type": "execute_result"
    }
   ],
   "source": [
    "# 함수의 매개변수를 추가하면 순서가 바뀌어도 됩니다.\n",
    "BMI(weight = 65, height = 175)"
   ]
  },
  {
   "cell_type": "markdown",
   "id": "intimate-player",
   "metadata": {},
   "source": [
    "### 인자의 기본값 설정"
   ]
  },
  {
   "cell_type": "code",
   "execution_count": 218,
   "id": "generic-patrol",
   "metadata": {},
   "outputs": [],
   "source": [
    "# 사용자 정의 함수를 생성할 때 인자의 기본값을 설정합니다.\n",
    "def BMI(height = 175, weight = 65):\n",
    "    height /= 100\n",
    "    bmi = weight / height ** 2\n",
    "    return bmi"
   ]
  },
  {
   "cell_type": "code",
   "execution_count": 219,
   "id": "stable-maintenance",
   "metadata": {},
   "outputs": [
    {
     "data": {
      "text/plain": [
       "21.224489795918366"
      ]
     },
     "execution_count": 219,
     "metadata": {},
     "output_type": "execute_result"
    }
   ],
   "source": [
    "# 사용자 정의 함수를 실행할 때 인자를 생략하면 기본값으로 자동 적용됩니다.\n",
    "BMI()"
   ]
  },
  {
   "cell_type": "code",
   "execution_count": 220,
   "id": "after-stupid",
   "metadata": {},
   "outputs": [
    {
     "data": {
      "text/plain": [
       "26.315789473684212"
      ]
     },
     "execution_count": 220,
     "metadata": {},
     "output_type": "execute_result"
    }
   ],
   "source": [
    "# 사용자 정의 함수의 인자를 원하는 값으로 입력합니다.\n",
    "BMI(height = 190, weight = 95)"
   ]
  },
  {
   "cell_type": "markdown",
   "id": "looking-million",
   "metadata": {},
   "source": [
    "### 람다 표현식"
   ]
  },
  {
   "cell_type": "code",
   "execution_count": 221,
   "id": "rural-institute",
   "metadata": {},
   "outputs": [
    {
     "data": {
      "text/plain": [
       "22.49134948096886"
      ]
     },
     "execution_count": 221,
     "metadata": {},
     "output_type": "execute_result"
    }
   ],
   "source": [
    "# lambda 표현식은 '한 줄의 코드'로 함수를 만들 때 사용합니다.\n",
    "BMI2 = lambda height, weight: weight / (height/100) ** 2\n",
    "BMI2(170, 65)"
   ]
  },
  {
   "cell_type": "code",
   "execution_count": 222,
   "id": "harmful-crossing",
   "metadata": {},
   "outputs": [
    {
     "data": {
      "text/plain": [
       "22.49134948096886"
      ]
     },
     "execution_count": 222,
     "metadata": {},
     "output_type": "execute_result"
    }
   ],
   "source": [
    "# lambda 표현식은 함수명 없이도 사용할 수 있으므로 '익명함수'로 불립니다.\n",
    "(lambda height, weight: weight / (height/100)**2)(170, 65)"
   ]
  },
  {
   "cell_type": "markdown",
   "id": "alive-supply",
   "metadata": {},
   "source": [
    "---"
   ]
  }
 ],
 "metadata": {
  "kernelspec": {
   "display_name": "Python 3",
   "language": "python",
   "name": "python3"
  },
  "language_info": {
   "codemirror_mode": {
    "name": "ipython",
    "version": 3
   },
   "file_extension": ".py",
   "mimetype": "text/x-python",
   "name": "python",
   "nbconvert_exporter": "python",
   "pygments_lexer": "ipython3",
   "version": "3.8.2"
  },
  "toc": {
   "base_numbering": 1,
   "nav_menu": {},
   "number_sections": true,
   "sideBar": true,
   "skip_h1_title": false,
   "title_cell": "Table of Contents",
   "title_sidebar": "Contents",
   "toc_cell": false,
   "toc_position": {},
   "toc_section_display": true,
   "toc_window_display": false
  },
  "varInspector": {
   "cols": {
    "lenName": 16,
    "lenType": 16,
    "lenVar": 40
   },
   "kernels_config": {
    "python": {
     "delete_cmd_postfix": "",
     "delete_cmd_prefix": "del ",
     "library": "var_list.py",
     "varRefreshCmd": "print(var_dic_list())"
    },
    "r": {
     "delete_cmd_postfix": ") ",
     "delete_cmd_prefix": "rm(",
     "library": "var_list.r",
     "varRefreshCmd": "cat(var_dic_list()) "
    }
   },
   "types_to_exclude": [
    "module",
    "function",
    "builtin_function_or_method",
    "instance",
    "_Feature"
   ],
   "window_display": false
  }
 },
 "nbformat": 4,
 "nbformat_minor": 5
}
