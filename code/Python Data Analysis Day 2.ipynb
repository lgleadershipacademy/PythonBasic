{
 "cells": [
  {
   "cell_type": "markdown",
   "id": "restricted-compact",
   "metadata": {},
   "source": [
    "<p style=\"font-family:verdana;font-size:200%;text-align:center;\">Python Data Analysis Day 2</p>"
   ]
  },
  {
   "cell_type": "markdown",
   "id": "piano-messaging",
   "metadata": {},
   "source": [
    "## Python 문법 기초"
   ]
  },
  {
   "cell_type": "markdown",
   "id": "emerging-stevens",
   "metadata": {},
   "source": [
    "### if 조건문"
   ]
  },
  {
   "cell_type": "code",
   "execution_count": null,
   "id": "written-import",
   "metadata": {},
   "outputs": [],
   "source": [
    "# input() 함수는 값을 입력받아 문자열로 반환하여 major에 할당합니다.\n",
    "major = input('전공: ')"
   ]
  },
  {
   "cell_type": "code",
   "execution_count": null,
   "id": "moved-diamond",
   "metadata": {},
   "outputs": [],
   "source": [
    "# 학습할 언어를 답변하는 조건문을 작성합니다.\n",
    "if major.find('통계') >= 0:\n",
    "    print('Study R!')\n",
    "elif major.find('컴퓨터') >= 0:\n",
    "    print('Study Python!')\n",
    "else:\n",
    "    print('Study what you want!')"
   ]
  },
  {
   "cell_type": "markdown",
   "id": "dominant-indian",
   "metadata": {},
   "source": [
    "### for 반복문"
   ]
  },
  {
   "cell_type": "code",
   "execution_count": null,
   "id": "experimental-forest",
   "metadata": {},
   "outputs": [],
   "source": [
    "# 중식당 메뉴를 리스트로 생성합니다.\n",
    "menu = ['짜장면', '탕수육', '짬뽕', '깐풍기', '전가복', '샥스핀']"
   ]
  },
  {
   "cell_type": "code",
   "execution_count": null,
   "id": "cooked-chase",
   "metadata": {},
   "outputs": [],
   "source": [
    "# 반복문을 사용하여 중식당 메뉴를 차례대로 출력합니다.\n",
    "for order in menu:\n",
    "    print(order)"
   ]
  },
  {
   "cell_type": "code",
   "execution_count": null,
   "id": "intermediate-horror",
   "metadata": {},
   "outputs": [],
   "source": [
    "# 문자열 결합을 통해 출력되는 안내문을 변경합니다.\n",
    "for order in menu:\n",
    "    print(order + ' 시킬까요?')"
   ]
  },
  {
   "cell_type": "code",
   "execution_count": null,
   "id": "plain-medication",
   "metadata": {},
   "outputs": [],
   "source": [
    "# 중식당 메뉴를 차례대로 출력하면서, 조건에 따라 코드를 다르게 실행합니다.\n",
    "for order in menu:\n",
    "    print(order + ' 시킬까요?')\n",
    "    if order in ['짜장면', '짬뽕']:\n",
    "        continue\n",
    "        print('-> 요리부터 주문합시다!\\n')\n",
    "    else:\n",
    "        print('-> 다음 메뉴는 뭔가요?\\n')"
   ]
  },
  {
   "cell_type": "markdown",
   "id": "seven-electronics",
   "metadata": {},
   "source": [
    "#### 중첩 for 반복문"
   ]
  },
  {
   "cell_type": "code",
   "execution_count": null,
   "id": "certified-accordance",
   "metadata": {
    "scrolled": true
   },
   "outputs": [],
   "source": [
    "# 두 리스트 원소에 대한 모든 경우의 수를 반복 실행합니다.\n",
    "for i in range(2, 10):\n",
    "    for j in range(1, 10):\n",
    "        print(f'{i} * {j} = {i*j}')\n",
    "    print('*' * 10)"
   ]
  },
  {
   "cell_type": "code",
   "execution_count": null,
   "id": "simplified-professor",
   "metadata": {},
   "outputs": [],
   "source": [
    "# zip() 함수로 두 개의 리스트에서 서로 대응하는 원소끼리 반복문을 실행합니다.\n",
    "for i, j in zip(range(1, 10), range(1, 10)):\n",
    "    print(f'{i} * {j} = {i*j}')"
   ]
  },
  {
   "cell_type": "markdown",
   "id": "noted-patent",
   "metadata": {},
   "source": [
    "#### 리스트 컴프리헨션"
   ]
  },
  {
   "cell_type": "code",
   "execution_count": null,
   "id": "closing-berlin",
   "metadata": {},
   "outputs": [],
   "source": [
    "# 정수 1~10을 원소로 갖는 리스트를 생성합니다.\n",
    "nums = list(range(1, 11))"
   ]
  },
  {
   "cell_type": "code",
   "execution_count": null,
   "id": "sticky-comparison",
   "metadata": {},
   "outputs": [],
   "source": [
    "# 결과를 저장할 빈 리스트를 미리 생성합니다.\n",
    "sqrs1 = []\n",
    "\n",
    "# 반복문을 사용하여 nums의 각 원소를 제곱합니다.\n",
    "for num in nums:\n",
    "    sqrs1.append(num**2)\n",
    "\n",
    "# sqrs1을 출력합니다.\n",
    "sqrs1"
   ]
  },
  {
   "cell_type": "code",
   "execution_count": null,
   "id": "chinese-cathedral",
   "metadata": {},
   "outputs": [],
   "source": [
    "# 리스트 컴프리헨션을 사용합니다.\n",
    "sqrs2 = [num ** 2 for num in nums]\n",
    "\n",
    "# sqrs2를 출력합니다.\n",
    "sqrs2"
   ]
  },
  {
   "cell_type": "code",
   "execution_count": null,
   "id": "russian-record",
   "metadata": {},
   "outputs": [],
   "source": [
    "# 리스트 컴프리헨션 안에 조건문을 추가하여 특정 조건을 만족하는 리스트 원소만 대상으로 코드를 \n",
    "# 실행할 수 있습니다.\n",
    "[num ** 2 for num in nums if num % 2 == 0]"
   ]
  },
  {
   "cell_type": "code",
   "execution_count": null,
   "id": "dependent-killing",
   "metadata": {
    "scrolled": true
   },
   "outputs": [],
   "source": [
    "# 리스트 컴프리헨션 안에 변수를 2개 입력하면 전체 경우의 수에 대해 같은 코드를 반복 실행하여 \n",
    "# 리스트로 반환합니다.\n",
    "[f'{i}*{j}={i*j}' for i in range(2, 10) for j in range(1, 10)]"
   ]
  },
  {
   "cell_type": "markdown",
   "id": "accredited-asset",
   "metadata": {},
   "source": [
    "### while 반복문"
   ]
  },
  {
   "cell_type": "code",
   "execution_count": null,
   "id": "beginning-constitutional",
   "metadata": {},
   "outputs": [],
   "source": [
    "# 변수 i에 정수 10을 할당합니다.\n",
    "i = 10\n",
    "\n",
    "# 반복하여 i를 출력하고 1씩 차감하다가, i가 0이 되면 중단합니다.\n",
    "while i:\n",
    "    print(i)\n",
    "    i -= 1"
   ]
  },
  {
   "cell_type": "code",
   "execution_count": null,
   "id": "patient-shadow",
   "metadata": {
    "scrolled": true
   },
   "outputs": [],
   "source": [
    "# 강제로 중단하기 전까지 무한 반복합니다. (멈추려면 interrupt키를 누르세요!)\n",
    "while True:\n",
    "    print(i)\n",
    "    i += 1"
   ]
  },
  {
   "cell_type": "code",
   "execution_count": null,
   "id": "studied-breakdown",
   "metadata": {},
   "outputs": [],
   "source": [
    "# 별다방 선불카드에 30000원을 충전합니다.\n",
    "card = 30000\n",
    "\n",
    "# card가 0이 되기 전까지 반복 실행합니다.\n",
    "while card:\n",
    "    if card < 4100:\n",
    "        print('카드를 충전하세요!')\n",
    "        break\n",
    "    else:\n",
    "        card -= 4100\n",
    "        print(f'아메리카노 결제 후 잔액은 {card}입니다.')"
   ]
  },
  {
   "cell_type": "markdown",
   "id": "emotional-relevance",
   "metadata": {},
   "source": [
    "### 사용자 정의함수"
   ]
  },
  {
   "cell_type": "markdown",
   "id": "official-chorus",
   "metadata": {},
   "source": [
    "#### 같은 코드 중복 실행"
   ]
  },
  {
   "cell_type": "code",
   "execution_count": null,
   "id": "widespread-family",
   "metadata": {},
   "outputs": [],
   "source": [
    "# 체질량지수를 출력합니다.\n",
    "hgt = 175\n",
    "wgt = 65\n",
    "hgt /= 100\n",
    "bmi = wgt / hgt**2\n",
    "bmi"
   ]
  },
  {
   "cell_type": "code",
   "execution_count": null,
   "id": "incredible-rental",
   "metadata": {},
   "outputs": [],
   "source": [
    "# 체질량지수를 출력합니다.\n",
    "hgt = 190\n",
    "wgt = 95\n",
    "hgt /= 100\n",
    "bmi = wgt / hgt**2\n",
    "bmi"
   ]
  },
  {
   "cell_type": "markdown",
   "id": "secret-equity",
   "metadata": {},
   "source": [
    "#### 사용자 정의 함수"
   ]
  },
  {
   "cell_type": "code",
   "execution_count": null,
   "id": "knowing-combine",
   "metadata": {},
   "outputs": [],
   "source": [
    "# 체질량지수를 반환하는 사용자 정의 함수를 생성합니다.\n",
    "def BMI(height, weight):\n",
    "    height /= 100\n",
    "    bmi = weight / height ** 2\n",
    "    return bmi"
   ]
  },
  {
   "cell_type": "code",
   "execution_count": null,
   "id": "based-building",
   "metadata": {},
   "outputs": [],
   "source": [
    "# 사용자 정의 함수를 실행합니다.\n",
    "BMI(175, 65)"
   ]
  },
  {
   "cell_type": "code",
   "execution_count": null,
   "id": "dirty-korea",
   "metadata": {},
   "outputs": [],
   "source": [
    "# 함수의 매개변수를 추가하면 순서가 바뀌어도 됩니다.\n",
    "BMI(weight = 65, height = 175)"
   ]
  },
  {
   "cell_type": "markdown",
   "id": "intimate-player",
   "metadata": {},
   "source": [
    "#### 인자의 기본값 설정"
   ]
  },
  {
   "cell_type": "code",
   "execution_count": null,
   "id": "generic-patrol",
   "metadata": {},
   "outputs": [],
   "source": [
    "# 사용자 정의 함수를 생성할 때 인자의 기본값을 설정합니다.\n",
    "def BMI(height = 175, weight = 65):\n",
    "    height /= 100\n",
    "    bmi = weight / height ** 2\n",
    "    return bmi"
   ]
  },
  {
   "cell_type": "code",
   "execution_count": null,
   "id": "stable-maintenance",
   "metadata": {},
   "outputs": [],
   "source": [
    "# 사용자 정의 함수를 실행할 때 인자를 생략하면 기본값으로 자동 적용됩니다.\n",
    "BMI()"
   ]
  },
  {
   "cell_type": "code",
   "execution_count": null,
   "id": "after-stupid",
   "metadata": {},
   "outputs": [],
   "source": [
    "# 사용자 정의 함수의 인자를 원하는 값으로 입력합니다.\n",
    "BMI(height = 190, weight = 95)"
   ]
  },
  {
   "cell_type": "markdown",
   "id": "looking-million",
   "metadata": {},
   "source": [
    "#### 람다 표현식"
   ]
  },
  {
   "cell_type": "code",
   "execution_count": null,
   "id": "rural-institute",
   "metadata": {},
   "outputs": [],
   "source": [
    "# lambda 표현식은 '한 줄의 코드'로 함수를 만들 때 사용합니다.\n",
    "BMI2 = lambda height, weight: weight / (height/100)**2\n",
    "BMI2(170, 65)"
   ]
  },
  {
   "cell_type": "code",
   "execution_count": null,
   "id": "harmful-crossing",
   "metadata": {},
   "outputs": [],
   "source": [
    "# lambda 표현식은 함수명 없이도 사용할 수 있으므로 '익명함수'로 불립니다.\n",
    "(lambda height, weight: weight / (height/100)**2)(170, 65)"
   ]
  },
  {
   "cell_type": "markdown",
   "id": "japanese-transparency",
   "metadata": {},
   "source": [
    "## Python 표준 라이브러리"
   ]
  },
  {
   "cell_type": "markdown",
   "id": "challenging-hammer",
   "metadata": {},
   "source": [
    "### 작업경로 확인,  변경 및 새 폴더 생성"
   ]
  },
  {
   "cell_type": "code",
   "execution_count": null,
   "id": "united-potential",
   "metadata": {},
   "outputs": [],
   "source": [
    "# 관련 라이브러리를 호출합니다.\n",
    "import os, shutil"
   ]
  },
  {
   "cell_type": "code",
   "execution_count": null,
   "id": "mysterious-throw",
   "metadata": {},
   "outputs": [],
   "source": [
    "# 현재 작업경로를 확인합니다.\n",
    "os.getcwd()"
   ]
  },
  {
   "cell_type": "code",
   "execution_count": null,
   "id": "abstract-reader",
   "metadata": {},
   "outputs": [],
   "source": [
    "# 데이터 파일이 저장된 폴더로 작업경로를 변경합니다. (상대경로 사용)\n",
    "os.chdir('../data')"
   ]
  },
  {
   "cell_type": "code",
   "execution_count": null,
   "id": "emerging-ethernet",
   "metadata": {},
   "outputs": [],
   "source": [
    "# 새로운 폴더를 생성합니다.\n",
    "os.mkdir('./temp')"
   ]
  },
  {
   "cell_type": "markdown",
   "id": "hindu-compilation",
   "metadata": {},
   "source": [
    "### 새로운 텍스트 파일 생성"
   ]
  },
  {
   "cell_type": "code",
   "execution_count": null,
   "id": "another-sensitivity",
   "metadata": {},
   "outputs": [],
   "source": [
    "# 현재 작업경로에 'test.txt' 파일을 생성합니다.\n",
    "file = open(file = 'test.txt', mode = 'w')"
   ]
  },
  {
   "cell_type": "code",
   "execution_count": null,
   "id": "ceramic-education",
   "metadata": {},
   "outputs": [],
   "source": [
    "# text.txt 파일에 문자열을 추가합니다.\n",
    "for i in range(1, 6):\n",
    "    file.write(f'{i}번째 페이지 수집!\\n')"
   ]
  },
  {
   "cell_type": "code",
   "execution_count": null,
   "id": "celtic-communication",
   "metadata": {},
   "outputs": [],
   "source": [
    "# 텍스트 파일을 닫습니다.\n",
    "file.close()"
   ]
  },
  {
   "cell_type": "markdown",
   "id": "broadband-opera",
   "metadata": {},
   "source": [
    "### 기존 텍스트 파일에 데이터 추가"
   ]
  },
  {
   "cell_type": "code",
   "execution_count": null,
   "id": "introductory-covering",
   "metadata": {},
   "outputs": [],
   "source": [
    "# 'test.txt' 파일을 추가 모드로 엽니다.\n",
    "file = open(file = 'test.txt', mode = 'a')"
   ]
  },
  {
   "cell_type": "code",
   "execution_count": null,
   "id": "killing-anaheim",
   "metadata": {},
   "outputs": [],
   "source": [
    "# 'test.txt' 파일에 문자열을 추가합니다.\n",
    "for i in range(11, 16):\n",
    "    file.write(f'{i}번째 페이지 수집!\\n')"
   ]
  },
  {
   "cell_type": "code",
   "execution_count": null,
   "id": "medieval-hartford",
   "metadata": {},
   "outputs": [],
   "source": [
    "# 텍스트 파일을 닫습니다.\n",
    "file.close()"
   ]
  },
  {
   "cell_type": "markdown",
   "id": "resident-bidder",
   "metadata": {},
   "source": [
    "### 텍스트 파일 읽기 (2가지 모드 비교)"
   ]
  },
  {
   "cell_type": "code",
   "execution_count": null,
   "id": "competent-storage",
   "metadata": {},
   "outputs": [],
   "source": [
    "# 'test.txt' 파일을 읽고 문자열로 결합하여 반환합니다.\n",
    "file = open(file = 'test.txt', mode = 'r').read()"
   ]
  },
  {
   "cell_type": "code",
   "execution_count": null,
   "id": "precise-tiffany",
   "metadata": {},
   "outputs": [],
   "source": [
    "# file을 출력합니다. 한글이 제대로 출력됩니다.\n",
    "file"
   ]
  },
  {
   "cell_type": "code",
   "execution_count": null,
   "id": "diverse-overall",
   "metadata": {},
   "outputs": [],
   "source": [
    "# file의 클래스를 확인합니다.\n",
    "type(file)"
   ]
  },
  {
   "cell_type": "code",
   "execution_count": null,
   "id": "comparative-stuart",
   "metadata": {},
   "outputs": [],
   "source": [
    "# 'text.txt' 파일을 binary로 읽습니다.\n",
    "file = open(file = 'test.txt', mode = 'rb').read()"
   ]
  },
  {
   "cell_type": "code",
   "execution_count": null,
   "id": "recovered-development",
   "metadata": {},
   "outputs": [],
   "source": [
    "# file을 출력합니다. 한글이 코드로 출력됩니다.\n",
    "file"
   ]
  },
  {
   "cell_type": "code",
   "execution_count": null,
   "id": "monetary-transformation",
   "metadata": {},
   "outputs": [],
   "source": [
    "# file의 클래스를 확인합니다.\n",
    "type(file)"
   ]
  },
  {
   "cell_type": "code",
   "execution_count": null,
   "id": "potential-gazette",
   "metadata": {},
   "outputs": [],
   "source": [
    "# file은 한글이 인코드된 상태이므로, 디코딩해야 제대로 출력됩니다.\n",
    "file.decode('UTF-8')"
   ]
  },
  {
   "cell_type": "markdown",
   "id": "caring-skiing",
   "metadata": {},
   "source": [
    "### 파일 복사 및 이동"
   ]
  },
  {
   "cell_type": "code",
   "execution_count": null,
   "id": "binary-clearance",
   "metadata": {},
   "outputs": [],
   "source": [
    "# 현재 작업경로에 포함되어 있는 폴더명과 파일명을 출력합니다.\n",
    "os.listdir()"
   ]
  },
  {
   "cell_type": "code",
   "execution_count": null,
   "id": "delayed-portugal",
   "metadata": {},
   "outputs": [],
   "source": [
    "# 기존 파일을 복사합니다. (파일명, 파일명)\n",
    "shutil.copy(src = 'test.txt', dst = 'copy1.txt')"
   ]
  },
  {
   "cell_type": "code",
   "execution_count": null,
   "id": "extra-freeze",
   "metadata": {},
   "outputs": [],
   "source": [
    "# 기존 파일을 다른 폴더로 복사합니다. (파일명, 폴더명)\n",
    "shutil.copy(src = 'test.txt', dst = './temp')"
   ]
  },
  {
   "cell_type": "code",
   "execution_count": null,
   "id": "cognitive-holmes",
   "metadata": {},
   "outputs": [],
   "source": [
    "# 파일을 이동시킵니다. (파일명, 폴더명)\n",
    "shutil.move(src = 'copy1.txt', dst = './temp')"
   ]
  },
  {
   "cell_type": "markdown",
   "id": "attempted-guess",
   "metadata": {},
   "source": [
    "### 파일명 변경"
   ]
  },
  {
   "cell_type": "code",
   "execution_count": null,
   "id": "fatal-damage",
   "metadata": {},
   "outputs": [],
   "source": [
    "# 작업경로를 변경합니다.\n",
    "os.chdir(path = './temp')"
   ]
  },
  {
   "cell_type": "code",
   "execution_count": null,
   "id": "governmental-upper",
   "metadata": {},
   "outputs": [],
   "source": [
    "# 현재 작업경로에 포함되어 있는 폴더명과 파일명을 출력합니다.\n",
    "os.listdir()"
   ]
  },
  {
   "cell_type": "code",
   "execution_count": null,
   "id": "prepared-depth",
   "metadata": {},
   "outputs": [],
   "source": [
    "# 파일명을 변경합니다. (파일명, 파일명)\n",
    "os.rename(src = 'test.txt', dst = 'copy2.txt')"
   ]
  },
  {
   "cell_type": "code",
   "execution_count": null,
   "id": "floral-helping",
   "metadata": {},
   "outputs": [],
   "source": [
    "# 파일을 복사합니다. (파일명, 파일명)\n",
    "shutil.copy(src = 'copy2.txt', dst = 'copy3.txt')"
   ]
  },
  {
   "cell_type": "markdown",
   "id": "controlling-clothing",
   "metadata": {},
   "source": [
    "### 파일 삭제"
   ]
  },
  {
   "cell_type": "code",
   "execution_count": null,
   "id": "considerable-editing",
   "metadata": {},
   "outputs": [],
   "source": [
    "# 현재 작업경로에 포함되어 있는 폴더명과 파일명을 출력합니다.\n",
    "os.listdir()"
   ]
  },
  {
   "cell_type": "code",
   "execution_count": null,
   "id": "strategic-grave",
   "metadata": {},
   "outputs": [],
   "source": [
    "# 한 개 파일을 삭제합니다.\n",
    "os.remove('copy1.txt')"
   ]
  },
  {
   "cell_type": "code",
   "execution_count": null,
   "id": "included-israeli",
   "metadata": {},
   "outputs": [],
   "source": [
    "# 여러 개의 파일을 한 번에 삭제하려면 아래와 같이 반복문을 실행합니다.\n",
    "for i in os.listdir():\n",
    "    if os.path.splitext(i)[-1] != '':\n",
    "        os.remove(i)"
   ]
  },
  {
   "cell_type": "markdown",
   "id": "iraqi-kernel",
   "metadata": {},
   "source": [
    "### 폴더 삭제"
   ]
  },
  {
   "cell_type": "code",
   "execution_count": null,
   "id": "administrative-research",
   "metadata": {},
   "outputs": [],
   "source": [
    "# 상위 폴더로 이동합니다.\n",
    "os.chdir('..')"
   ]
  },
  {
   "cell_type": "code",
   "execution_count": null,
   "id": "sexual-chick",
   "metadata": {},
   "outputs": [],
   "source": [
    "# 현재 작업경로에 포함되어 있는 폴더명과 파일명을 출력합니다.\n",
    "os.listdir()"
   ]
  },
  {
   "cell_type": "code",
   "execution_count": null,
   "id": "biological-mambo",
   "metadata": {},
   "outputs": [],
   "source": [
    "# 비어 있는 폴더를 삭제합니다.\n",
    "os.rmdir('temp')"
   ]
  },
  {
   "cell_type": "code",
   "execution_count": null,
   "id": "constant-system",
   "metadata": {},
   "outputs": [],
   "source": [
    "# 폴더와 파일을 모두 삭제합니다.\n",
    "# shutil.rmtree('temp')"
   ]
  },
  {
   "cell_type": "markdown",
   "id": "fluid-vatican",
   "metadata": {},
   "source": [
    "### 현재 날짜 및 시간 확인"
   ]
  },
  {
   "cell_type": "code",
   "execution_count": null,
   "id": "vanilla-omega",
   "metadata": {},
   "outputs": [],
   "source": [
    "# 관련 라이브러리를 호출합니다.\n",
    "from time import *"
   ]
  },
  {
   "cell_type": "code",
   "execution_count": null,
   "id": "labeled-oxygen",
   "metadata": {},
   "outputs": [],
   "source": [
    "# 유닉스 시간을 실수로 출력합니다.\n",
    "time()"
   ]
  },
  {
   "cell_type": "code",
   "execution_count": null,
   "id": "comparable-orchestra",
   "metadata": {},
   "outputs": [],
   "source": [
    "# 유닉스 시간을 로컬 시간으로 변환합니다.\n",
    "localtime(time())"
   ]
  },
  {
   "cell_type": "code",
   "execution_count": null,
   "id": "sustainable-photographer",
   "metadata": {},
   "outputs": [],
   "source": [
    "# 로컬 시간 데이터에서 원하는 날짜/시간 포맷으로 변환합니다.\n",
    "strftime('%Y년 %m월 %d일 %A', localtime())"
   ]
  },
  {
   "cell_type": "markdown",
   "id": "enhanced-volume",
   "metadata": {},
   "source": [
    "### [참고] 로케일 관련 함수 소개"
   ]
  },
  {
   "cell_type": "code",
   "execution_count": null,
   "id": "statistical-census",
   "metadata": {},
   "outputs": [],
   "source": [
    "# 관련 라이브러리를 호출합니다.\n",
    "import locale"
   ]
  },
  {
   "cell_type": "code",
   "execution_count": null,
   "id": "pharmaceutical-approach",
   "metadata": {},
   "outputs": [],
   "source": [
    "# 현재 설정된 로케일을 확인합니다.\n",
    "locale.getlocale()"
   ]
  },
  {
   "cell_type": "code",
   "execution_count": null,
   "id": "democratic-basis",
   "metadata": {},
   "outputs": [],
   "source": [
    "# 한국 로케일로 변경합니다. (Windows)\n",
    "locale.setlocale(locale.LC_TIME, 'korean')"
   ]
  },
  {
   "cell_type": "code",
   "execution_count": null,
   "id": "liked-legislature",
   "metadata": {},
   "outputs": [],
   "source": [
    "# 한국 로케일로 변경합니다. (MacOS)\n",
    "locale.setlocale(locale.LC_TIME, 'ko_KR')"
   ]
  },
  {
   "cell_type": "code",
   "execution_count": null,
   "id": "dominican-insulation",
   "metadata": {},
   "outputs": [],
   "source": [
    "# 로컬 시간 데이터를 날짜/시간 포맷으로 다시 변환합니다.\n",
    "strftime('%Y년 %m월 %d일 %A', localtime())"
   ]
  },
  {
   "cell_type": "markdown",
   "id": "human-lawrence",
   "metadata": {},
   "source": [
    "## numpy 기초"
   ]
  },
  {
   "cell_type": "code",
   "execution_count": null,
   "id": "facial-pizza",
   "metadata": {},
   "outputs": [],
   "source": [
    "# numpy 라이브러리를 호출합니다.\n",
    "import numpy as np"
   ]
  },
  {
   "cell_type": "markdown",
   "id": "coupled-assistant",
   "metadata": {},
   "source": [
    "### 1차원 배열 생성"
   ]
  },
  {
   "cell_type": "code",
   "execution_count": null,
   "id": "published-rally",
   "metadata": {},
   "outputs": [],
   "source": [
    "# 리스트로 1차원 배열을 생성합니다.\n",
    "ar1 = np.array([1, 2, 3])"
   ]
  },
  {
   "cell_type": "code",
   "execution_count": null,
   "id": "latter-chocolate",
   "metadata": {},
   "outputs": [],
   "source": [
    "# ar1을 출력합니다.\n",
    "ar1"
   ]
  },
  {
   "cell_type": "code",
   "execution_count": null,
   "id": "above-radius",
   "metadata": {},
   "outputs": [],
   "source": [
    "# ar1의 클래스를 확인합니다.\n",
    "type(ar1)"
   ]
  },
  {
   "cell_type": "code",
   "execution_count": null,
   "id": "dramatic-porcelain",
   "metadata": {},
   "outputs": [],
   "source": [
    "# ar1의 차원을 확인합니다. (1차원)\n",
    "ar1.ndim"
   ]
  },
  {
   "cell_type": "code",
   "execution_count": null,
   "id": "attractive-corps",
   "metadata": {},
   "outputs": [],
   "source": [
    "# ar1의 형태를 확인합니다. \n",
    "ar1.shape"
   ]
  },
  {
   "cell_type": "code",
   "execution_count": null,
   "id": "tested-consent",
   "metadata": {},
   "outputs": [],
   "source": [
    "# ar1 원소의 자료형을 확인합니다.\n",
    "ar1.dtype"
   ]
  },
  {
   "cell_type": "code",
   "execution_count": null,
   "id": "innocent-think",
   "metadata": {},
   "outputs": [],
   "source": [
    "# 0부터 4까지 연속된 정수를 원소로 갖는 1차원 배열을 생성합니다.\n",
    "np.arange(5)"
   ]
  },
  {
   "cell_type": "code",
   "execution_count": null,
   "id": "dominican-classics",
   "metadata": {},
   "outputs": [],
   "source": [
    "# 1부터 5까지 연속된 정수를를 원소로 갖는 1차원 배열을 생성합니다.\n",
    "np.arange(1, 6)"
   ]
  },
  {
   "cell_type": "code",
   "execution_count": null,
   "id": "destroyed-boundary",
   "metadata": {},
   "outputs": [],
   "source": [
    "# 1부터 10에서 홀수를 원소로 갖는 1차원 배열을 생성합니다.\n",
    "np.arange(1, 11, 2)"
   ]
  },
  {
   "cell_type": "code",
   "execution_count": null,
   "id": "dutch-fusion",
   "metadata": {},
   "outputs": [],
   "source": [
    "# 0부터 1까지 간격이 0.1인 실수를 원소로 갖는 1차원 배열을 생성합니다.\n",
    "np.arange(0, 1, 0.1)"
   ]
  },
  {
   "cell_type": "markdown",
   "id": "random-product",
   "metadata": {},
   "source": [
    "### 1차원 배열의 형 변환"
   ]
  },
  {
   "cell_type": "code",
   "execution_count": null,
   "id": "deluxe-measurement",
   "metadata": {},
   "outputs": [],
   "source": [
    "# 자료형이 섞여 있는 리스트로 1차원 배열을 생성합니다.\n",
    "ar1 = np.array([1, 2.0, '3'])"
   ]
  },
  {
   "cell_type": "code",
   "execution_count": null,
   "id": "falling-scope",
   "metadata": {},
   "outputs": [],
   "source": [
    "# ar1을 출력합니다.\n",
    "ar1"
   ]
  },
  {
   "cell_type": "code",
   "execution_count": null,
   "id": "green-edinburgh",
   "metadata": {},
   "outputs": [],
   "source": [
    "# ar1의 원소를 실수로 변환합니다.\n",
    "ar1.astype('float')"
   ]
  },
  {
   "cell_type": "code",
   "execution_count": null,
   "id": "genuine-seeking",
   "metadata": {},
   "outputs": [],
   "source": [
    "# ar1의 원소를 정수로 변환합니다. (에러가 발생합니다!)\n",
    "ar1.astype('int')"
   ]
  },
  {
   "cell_type": "code",
   "execution_count": null,
   "id": "loving-symposium",
   "metadata": {},
   "outputs": [],
   "source": [
    "# 따라서 ar1의 원소를 먼저 실수로 변환하면, 정수로 변환할 수 있습니다.\n",
    "ar1.astype('float').astype('int')"
   ]
  },
  {
   "cell_type": "markdown",
   "id": "fifth-medium",
   "metadata": {},
   "source": [
    "### 1차원 배열의 인덱싱"
   ]
  },
  {
   "cell_type": "code",
   "execution_count": null,
   "id": "statutory-resolution",
   "metadata": {},
   "outputs": [],
   "source": [
    "# 1부터 11에서 홀수를 원소로 갖는 1차원 배열을 생성합니다. \n",
    "ar1 = np.arange(1, 12, 2)"
   ]
  },
  {
   "cell_type": "code",
   "execution_count": null,
   "id": "raised-richardson",
   "metadata": {},
   "outputs": [],
   "source": [
    "# ar1의 0번 인덱스(첫 번째) 원소를 선택합니다.\n",
    "ar1[0]"
   ]
  },
  {
   "cell_type": "code",
   "execution_count": null,
   "id": "velvet-bottom",
   "metadata": {},
   "outputs": [],
   "source": [
    "# ar1의 1번 인덱스(두 번째) 원소를 선택합니다.\n",
    "ar1[1]"
   ]
  },
  {
   "cell_type": "code",
   "execution_count": null,
   "id": "pressed-import",
   "metadata": {},
   "outputs": [],
   "source": [
    "# ar1의 마지막 원소를 선택합니다.\n",
    "ar1[-1]"
   ]
  },
  {
   "cell_type": "markdown",
   "id": "heard-alliance",
   "metadata": {},
   "source": [
    "### 1차원 배열의 슬라이싱"
   ]
  },
  {
   "cell_type": "code",
   "execution_count": null,
   "id": "checked-madonna",
   "metadata": {},
   "outputs": [],
   "source": [
    "# ar1의 0~2번 인덱스 원소를 선택합니다. \n",
    "ar1[:3]"
   ]
  },
  {
   "cell_type": "code",
   "execution_count": null,
   "id": "thorough-jacket",
   "metadata": {},
   "outputs": [],
   "source": [
    "# ar1의 3번 인덱스부터 마지막 원소까지 선택합니다.\n",
    "ar1[3:]"
   ]
  },
  {
   "cell_type": "code",
   "execution_count": null,
   "id": "considerable-fireplace",
   "metadata": {},
   "outputs": [],
   "source": [
    "# ar1의 전체 원소를 선택합니다.\n",
    "ar1[:]"
   ]
  },
  {
   "cell_type": "code",
   "execution_count": null,
   "id": "controlling-transparency",
   "metadata": {},
   "outputs": [],
   "source": [
    "# ar1에서 리스트로 지정된 인덱스 순서대로 원소를 선택합니다.\n",
    "ar1[[3, 0, 2, 4, 1]]"
   ]
  },
  {
   "cell_type": "code",
   "execution_count": null,
   "id": "controlled-binary",
   "metadata": {},
   "outputs": [],
   "source": [
    "# 오름차순 정렬 실습을 위해 ar1에 재할당합니다.\n",
    "ar1 = ar1[[3, 0, 2, 4, 1]]"
   ]
  },
  {
   "cell_type": "markdown",
   "id": "fifty-people",
   "metadata": {},
   "source": [
    "### 1차원 배열의 원소 정렬"
   ]
  },
  {
   "cell_type": "code",
   "execution_count": null,
   "id": "reflected-honey",
   "metadata": {},
   "outputs": [],
   "source": [
    "# ar1을 오름차순으로 정렬한 결과를 ar1에 재할당합니다.\n",
    "ar1.sort()"
   ]
  },
  {
   "cell_type": "code",
   "execution_count": null,
   "id": "funded-shark",
   "metadata": {},
   "outputs": [],
   "source": [
    "# ar1을 출력합니다.\n",
    "ar1"
   ]
  },
  {
   "cell_type": "code",
   "execution_count": null,
   "id": "composite-representation",
   "metadata": {},
   "outputs": [],
   "source": [
    "# 1차원 배열의 원소를 역순으로 정렬합니다.\n",
    "ar1 = ar1[::-1]"
   ]
  },
  {
   "cell_type": "code",
   "execution_count": null,
   "id": "organized-merchandise",
   "metadata": {},
   "outputs": [],
   "source": [
    "# ar1을 출력합니다.\n",
    "ar1"
   ]
  },
  {
   "cell_type": "markdown",
   "id": "neural-norman",
   "metadata": {},
   "source": [
    "### 2차원 배열 생성"
   ]
  },
  {
   "cell_type": "code",
   "execution_count": null,
   "id": "spanish-flexibility",
   "metadata": {},
   "outputs": [],
   "source": [
    "# 리스트로 2차원 배열을 생성합니다.\n",
    "ar2 = np.array([[1, 2, 3], [4, 5, 6]])"
   ]
  },
  {
   "cell_type": "code",
   "execution_count": null,
   "id": "architectural-wallpaper",
   "metadata": {},
   "outputs": [],
   "source": [
    "# ar2를 출력합니다.\n",
    "ar2"
   ]
  },
  {
   "cell_type": "code",
   "execution_count": null,
   "id": "dutch-saying",
   "metadata": {},
   "outputs": [],
   "source": [
    "# ar2의 클래스를 확인합니다.\n",
    "type(ar2)"
   ]
  },
  {
   "cell_type": "code",
   "execution_count": null,
   "id": "gorgeous-quality",
   "metadata": {},
   "outputs": [],
   "source": [
    "# ar2의 차원을 확인합니다. (2차원)\n",
    "ar2.ndim"
   ]
  },
  {
   "cell_type": "code",
   "execution_count": null,
   "id": "minimal-allowance",
   "metadata": {},
   "outputs": [],
   "source": [
    "# ar2의 형태를 확인합니다. \n",
    "ar2.shape"
   ]
  },
  {
   "cell_type": "code",
   "execution_count": null,
   "id": "instant-solution",
   "metadata": {},
   "outputs": [],
   "source": [
    "# ar2 원소의 자료형을 확인합니다.\n",
    "ar2.dtype"
   ]
  },
  {
   "cell_type": "markdown",
   "id": "patent-recorder",
   "metadata": {},
   "source": [
    "### 배열의 재구조"
   ]
  },
  {
   "cell_type": "code",
   "execution_count": null,
   "id": "stable-capital",
   "metadata": {},
   "outputs": [],
   "source": [
    "# 0부터 11까지 12개의 원소를 갖는 1차원 배열을 생성합니다.\n",
    "ar1 = np.arange(12)"
   ]
  },
  {
   "cell_type": "code",
   "execution_count": null,
   "id": "utility-acrobat",
   "metadata": {},
   "outputs": [],
   "source": [
    "# ar1을 3행 4열인 2차원 배열로 변환합니다.\n",
    "ar1.reshape(3, 4)"
   ]
  },
  {
   "cell_type": "code",
   "execution_count": null,
   "id": "animal-professor",
   "metadata": {},
   "outputs": [],
   "source": [
    "# 배열의 구조를 변경할 때 원소의 입력방향을 세로로 지정합니다.\n",
    "ar1.reshape(3, 4, order = 'F')"
   ]
  },
  {
   "cell_type": "code",
   "execution_count": null,
   "id": "inner-uncertainty",
   "metadata": {},
   "outputs": [],
   "source": [
    "# 행 위치에 숫자, 열 위치에 '-1'을 할당하면 열의 크기가 자동 계산됩니다.\n",
    "ar1.reshape(4, -1)"
   ]
  },
  {
   "cell_type": "code",
   "execution_count": null,
   "id": "lucky-stretch",
   "metadata": {},
   "outputs": [],
   "source": [
    "# 2차원 배열 인덱싱 실습을 위해 ar2에 재할당합니다.\n",
    "ar2 = ar1.reshape(4, -1)"
   ]
  },
  {
   "cell_type": "markdown",
   "id": "visible-router",
   "metadata": {},
   "source": [
    "### 2차원 배열의 인덱싱 및 슬라이싱"
   ]
  },
  {
   "cell_type": "code",
   "execution_count": null,
   "id": "lesbian-flooring",
   "metadata": {},
   "outputs": [],
   "source": [
    "# ar2의 1행 1열의 원소를 선택합니다.\n",
    "ar2[0, 0]"
   ]
  },
  {
   "cell_type": "code",
   "execution_count": null,
   "id": "legislative-horror",
   "metadata": {},
   "outputs": [],
   "source": [
    "# ar2의 2행 2열의 원소를 선택합니다. \n",
    "ar2[1, 1]"
   ]
  },
  {
   "cell_type": "code",
   "execution_count": null,
   "id": "answering-huntington",
   "metadata": {},
   "outputs": [],
   "source": [
    "# ar2의 1~2행 1~2열 원소를 선택합니다.\n",
    "ar2[0:2, 0:2]"
   ]
  },
  {
   "cell_type": "code",
   "execution_count": null,
   "id": "fiscal-reaction",
   "metadata": {},
   "outputs": [],
   "source": [
    "# ar2의 전체 행 2~3열 원소를 선택합니다.\n",
    "ar2[:, 1:3]"
   ]
  },
  {
   "cell_type": "code",
   "execution_count": null,
   "id": "exotic-start",
   "metadata": {},
   "outputs": [],
   "source": [
    "# ar2의 열 순서를 변경합니다.\n",
    "ar2[:, [2, 1]]"
   ]
  },
  {
   "cell_type": "markdown",
   "id": "exciting-springfield",
   "metadata": {},
   "source": [
    "## pandas 기초"
   ]
  },
  {
   "cell_type": "code",
   "execution_count": null,
   "id": "absolute-reasoning",
   "metadata": {},
   "outputs": [],
   "source": [
    "# pandas 라이브러리를 호출합니다.\n",
    "import pandas as pd"
   ]
  },
  {
   "cell_type": "markdown",
   "id": "palestinian-savannah",
   "metadata": {},
   "source": [
    "### 시리즈 생성"
   ]
  },
  {
   "cell_type": "code",
   "execution_count": null,
   "id": "lovely-tsunami",
   "metadata": {},
   "outputs": [],
   "source": [
    "# 1차원 배열로 시리즈를 생성합니다.\n",
    "sr = pd.Series(np.arange(1, 10, 2))"
   ]
  },
  {
   "cell_type": "code",
   "execution_count": null,
   "id": "agricultural-period",
   "metadata": {},
   "outputs": [],
   "source": [
    "# sr을 출력합니다.\n",
    "sr"
   ]
  },
  {
   "cell_type": "code",
   "execution_count": null,
   "id": "funded-metadata",
   "metadata": {},
   "outputs": [],
   "source": [
    "# sr의 클래스를 확인합니다.\n",
    "type(sr)"
   ]
  },
  {
   "cell_type": "code",
   "execution_count": null,
   "id": "civic-happening",
   "metadata": {},
   "outputs": [],
   "source": [
    "# 리스트로 시리즈를 생성합니다. (value, index 순)\n",
    "pd.Series([1, 3, 5, 7, 9], ['a', 'b', 'c', 'd', 'e'])"
   ]
  },
  {
   "cell_type": "code",
   "execution_count": null,
   "id": "protected-donna",
   "metadata": {},
   "outputs": [],
   "source": [
    "# 딕셔너리로 시리즈를 생성합니다. (key가 index로 자동 설정)\n",
    "pd.Series({'a':1, 'b':3, 'c':5, 'd':7, 'e':9})"
   ]
  },
  {
   "cell_type": "markdown",
   "id": "funded-copyright",
   "metadata": {},
   "source": [
    "### 시리즈 확인"
   ]
  },
  {
   "cell_type": "code",
   "execution_count": null,
   "id": "lyric-bottom",
   "metadata": {},
   "outputs": [],
   "source": [
    "# sr의 형태를 출력합니다.\n",
    "sr.shape"
   ]
  },
  {
   "cell_type": "code",
   "execution_count": null,
   "id": "anonymous-treatment",
   "metadata": {},
   "outputs": [],
   "source": [
    "# sr의 값을 출력합니다.\n",
    "sr.values"
   ]
  },
  {
   "cell_type": "code",
   "execution_count": null,
   "id": "metric-evans",
   "metadata": {},
   "outputs": [],
   "source": [
    "# sr의 인덱스명을 출력합니다.\n",
    "sr.index"
   ]
  },
  {
   "cell_type": "code",
   "execution_count": null,
   "id": "under-peninsula",
   "metadata": {},
   "outputs": [],
   "source": [
    "# sr의 자료형을 출력합니다.\n",
    "sr.dtypes"
   ]
  },
  {
   "cell_type": "code",
   "execution_count": null,
   "id": "under-london",
   "metadata": {},
   "outputs": [],
   "source": [
    "# 시리즈의 인덱스명을 변경합니다.\n",
    "sr.index = ['a', 'b', 'c', 'd', 'e']"
   ]
  },
  {
   "cell_type": "code",
   "execution_count": null,
   "id": "chemical-citizen",
   "metadata": {},
   "outputs": [],
   "source": [
    "# sr을 출력합니다.\n",
    "sr"
   ]
  },
  {
   "cell_type": "markdown",
   "id": "laughing-effects",
   "metadata": {},
   "source": [
    "### 시리즈의 팬시 인덱싱"
   ]
  },
  {
   "cell_type": "code",
   "execution_count": null,
   "id": "proof-governor",
   "metadata": {},
   "outputs": [],
   "source": [
    "# iloc 인덱싱은 대괄호 안에 정수 인덱스 스칼라를 지정하면 해당 원소를 반환합니다.\n",
    "sr.iloc[0]"
   ]
  },
  {
   "cell_type": "code",
   "execution_count": null,
   "id": "cloudy-wildlife",
   "metadata": {},
   "outputs": [],
   "source": [
    "# 대괄호 안에 스칼라 대신 리스트를 지정하면 항상 시리즈로 반환됩니다.\n",
    "sr.iloc[[0]]"
   ]
  },
  {
   "cell_type": "code",
   "execution_count": null,
   "id": "latest-involvement",
   "metadata": {},
   "outputs": [],
   "source": [
    "# 연속하지 않는 인덱스를 지정할 때 반드시 리스트로 할당해야 합니다.\n",
    "sr.iloc[[1, 3]]"
   ]
  },
  {
   "cell_type": "code",
   "execution_count": null,
   "id": "dramatic-associate",
   "metadata": {},
   "outputs": [],
   "source": [
    "# sr의 1~2번 인덱스 원소를 선택하여 시리즈로 출력합니다.\n",
    "sr.iloc[1:3]"
   ]
  },
  {
   "cell_type": "code",
   "execution_count": null,
   "id": "closing-concept",
   "metadata": {},
   "outputs": [],
   "source": [
    "# loc 인덱싱은 대괄호 안에 인덱스명 스칼라를 지정하면 해당 원소를 반환합니다.\n",
    "sr.loc['a']"
   ]
  },
  {
   "cell_type": "code",
   "execution_count": null,
   "id": "infinite-fireplace",
   "metadata": {},
   "outputs": [],
   "source": [
    "# 대괄호 안에 리스트를 지정하면 항상 시리즈로 반환됩니다.\n",
    "sr.loc[['a']]"
   ]
  },
  {
   "cell_type": "code",
   "execution_count": null,
   "id": "genetic-delay",
   "metadata": {},
   "outputs": [],
   "source": [
    "# sr의 인덱스명이 'b', 'd'인 원소를 선택합니다.\n",
    "sr.loc[['b', 'd']]"
   ]
  },
  {
   "cell_type": "code",
   "execution_count": null,
   "id": "emerging-federal",
   "metadata": {},
   "outputs": [],
   "source": [
    "# sr의 인덱스명이 'b', 'c', 'd'인 원소를 선택합니다.\n",
    "sr.loc['b':'d']"
   ]
  },
  {
   "cell_type": "markdown",
   "id": "southeast-electricity",
   "metadata": {},
   "source": [
    "### 시리즈의 불리언 인덱싱"
   ]
  },
  {
   "cell_type": "code",
   "execution_count": null,
   "id": "velvet-permission",
   "metadata": {},
   "outputs": [],
   "source": [
    "# sr 원소의 자료형을 확인합니다.\n",
    "sr.dtype"
   ]
  },
  {
   "cell_type": "code",
   "execution_count": null,
   "id": "interstate-range",
   "metadata": {},
   "outputs": [],
   "source": [
    "# sr로 비교 연산을 실행합니다.\n",
    "sr >= 5"
   ]
  },
  {
   "cell_type": "code",
   "execution_count": null,
   "id": "paperback-stupid",
   "metadata": {},
   "outputs": [],
   "source": [
    "# 대괄호 안에 비교 연산 코드를 지정하면 True에 해당하는 원소만 추출합니다.\n",
    "sr.loc[sr >= 5]"
   ]
  },
  {
   "cell_type": "code",
   "execution_count": null,
   "id": "occupied-chapel",
   "metadata": {},
   "outputs": [],
   "source": [
    "# 두 개 이상의 비교 연산 결과로 불리언 인덱싱을 합니다.\n",
    "sr.loc[(sr >= 5) & (sr <= 7)]"
   ]
  },
  {
   "cell_type": "markdown",
   "id": "parallel-ensemble",
   "metadata": {},
   "source": [
    "### 시리즈 원소 추가 및 삭제"
   ]
  },
  {
   "cell_type": "code",
   "execution_count": null,
   "id": "aboriginal-shape",
   "metadata": {},
   "outputs": [],
   "source": [
    "# 새로운 시리즈를 생성합니다.\n",
    "nr = pd.Series(range(2, 11, 2))"
   ]
  },
  {
   "cell_type": "code",
   "execution_count": null,
   "id": "southwest-quarter",
   "metadata": {},
   "outputs": [],
   "source": [
    "# nr을 출력합니다.\n",
    "nr"
   ]
  },
  {
   "cell_type": "code",
   "execution_count": null,
   "id": "informative-cause",
   "metadata": {},
   "outputs": [],
   "source": [
    "# append() 함수로 기존 시리즈에 새로운 시리즈를 추가합니다\n",
    "sr = sr.append(nr)"
   ]
  },
  {
   "cell_type": "code",
   "execution_count": null,
   "id": "monthly-daily",
   "metadata": {},
   "outputs": [],
   "source": [
    "# sr을 출력합니다.\n",
    "sr"
   ]
  },
  {
   "cell_type": "code",
   "execution_count": null,
   "id": "elementary-liabilities",
   "metadata": {},
   "outputs": [],
   "source": [
    "# drop() 함수에 인덱스명을 입력하여 원소를 삭제합니다.\n",
    "sr.drop(['a', 4])"
   ]
  },
  {
   "cell_type": "markdown",
   "id": "alone-amateur",
   "metadata": {},
   "source": [
    "### 시리즈 원소 변경"
   ]
  },
  {
   "cell_type": "code",
   "execution_count": null,
   "id": "controlled-spanking",
   "metadata": {},
   "outputs": [],
   "source": [
    "# sr의 전체 원소에 1을 더합니다.\n",
    "sr + 1"
   ]
  },
  {
   "cell_type": "code",
   "execution_count": null,
   "id": "variable-ordinance",
   "metadata": {},
   "outputs": [],
   "source": [
    "# sr의 전체 원소에 2를 곱합니다.\n",
    "sr * 2"
   ]
  },
  {
   "cell_type": "code",
   "execution_count": null,
   "id": "sustained-cathedral",
   "metadata": {},
   "outputs": [],
   "source": [
    "# sr에서 9보다 큰 원소를 문자열로 변경합니다.\n",
    "sr.loc[sr >= 9] = ['가', '나']"
   ]
  },
  {
   "cell_type": "code",
   "execution_count": null,
   "id": "dirty-storm",
   "metadata": {},
   "outputs": [],
   "source": [
    "# sr을 출력합니다.\n",
    "sr"
   ]
  },
  {
   "cell_type": "code",
   "execution_count": null,
   "id": "blond-saver",
   "metadata": {},
   "outputs": [],
   "source": [
    "# sr의 1번 인덱스(두 번째) 원소의 클래스를 확인합니다.\n",
    "type(sr.iloc[1])"
   ]
  },
  {
   "cell_type": "code",
   "execution_count": null,
   "id": "burning-answer",
   "metadata": {},
   "outputs": [],
   "source": [
    "# sr의 1번 인덱스(다섯 번째) 원소의 클래스를 확인합니다.\n",
    "type(sr.iloc[4])"
   ]
  },
  {
   "cell_type": "markdown",
   "id": "sensitive-classroom",
   "metadata": {},
   "source": [
    "### 시리즈의 결측값 처리"
   ]
  },
  {
   "cell_type": "code",
   "execution_count": null,
   "id": "forced-depression",
   "metadata": {},
   "outputs": [],
   "source": [
    "# sr의 원소 '가', '나'를 결측값으로 변경합니다. \n",
    "sr.loc[(sr == '가') | (sr == '나')] = np.nan"
   ]
  },
  {
   "cell_type": "code",
   "execution_count": null,
   "id": "waiting-pontiac",
   "metadata": {},
   "outputs": [],
   "source": [
    "# sr을 출력합니다.\n",
    "sr"
   ]
  },
  {
   "cell_type": "code",
   "execution_count": null,
   "id": "identical-turkey",
   "metadata": {},
   "outputs": [],
   "source": [
    "# sr의 결측값 개수를 출력합니다.\n",
    "sr.isna().sum()"
   ]
  },
  {
   "cell_type": "code",
   "execution_count": null,
   "id": "substantial-northern",
   "metadata": {},
   "outputs": [],
   "source": [
    "# sr의 결측값을 0으로 변경한 결과를 출력합니다.\n",
    "sr.fillna(0)"
   ]
  },
  {
   "cell_type": "code",
   "execution_count": null,
   "id": "composed-retail",
   "metadata": {},
   "outputs": [],
   "source": [
    "# sr의 결측값을 삭제한 결과를 sr에 재할당합니다.\n",
    "sr.dropna()"
   ]
  },
  {
   "cell_type": "markdown",
   "id": "associate-parker",
   "metadata": {},
   "source": [
    "### 데이터프레임 생성"
   ]
  },
  {
   "cell_type": "code",
   "execution_count": null,
   "id": "immune-commons",
   "metadata": {},
   "outputs": [],
   "source": [
    "# 리스트로 데이터프레임을 생성합니다.\n",
    "df = pd.DataFrame([[1, 2, 3], [4, 5, 6], [7, 8, 9]],\n",
    "                  index = [1, 2, 3],\n",
    "                  columns = ['A반', 'B반', 'C반'])"
   ]
  },
  {
   "cell_type": "code",
   "execution_count": null,
   "id": "inner-hindu",
   "metadata": {},
   "outputs": [],
   "source": [
    "# df를 출력합니다.\n",
    "df"
   ]
  },
  {
   "cell_type": "code",
   "execution_count": null,
   "id": "promising-composer",
   "metadata": {},
   "outputs": [],
   "source": [
    "# df의 클래스를 확인합니다.\n",
    "type(df)"
   ]
  },
  {
   "cell_type": "code",
   "execution_count": null,
   "id": "eleven-minutes",
   "metadata": {},
   "outputs": [],
   "source": [
    "# 딕셔너리로 데이터프레임을 생성합니다.\n",
    "pd.DataFrame({'A반':[1, 2, 3], 'B반':[4, 5, 6], 'C반':[7, 8, 9]})"
   ]
  },
  {
   "cell_type": "code",
   "execution_count": null,
   "id": "focused-sustainability",
   "metadata": {},
   "outputs": [],
   "source": [
    "# 딕셔너리를 원소로 갖는 리스트로 데이터프레임을 생성합니다.\n",
    "pd.DataFrame([{'A반': 1, 'B반': 2, 'C반': 3},\n",
    "              {'A반': 4, 'B반': 5, 'C반': 6},\n",
    "              {'A반': 7, 'B반': 8, 'C반': 9}])"
   ]
  },
  {
   "cell_type": "markdown",
   "id": "separate-clarity",
   "metadata": {},
   "source": [
    "### 데이터프레임 확인"
   ]
  },
  {
   "cell_type": "code",
   "execution_count": null,
   "id": "waiting-camel",
   "metadata": {},
   "outputs": [],
   "source": [
    "# df의 형태를 튜플로 출력합니다. (행의 수, 열의 수)\n",
    "df.shape"
   ]
  },
  {
   "cell_type": "code",
   "execution_count": null,
   "id": "composite-bible",
   "metadata": {},
   "outputs": [],
   "source": [
    "# df의 값을 2차원 배열로 출력합니다.\n",
    "df.values"
   ]
  },
  {
   "cell_type": "code",
   "execution_count": null,
   "id": "beneficial-latest",
   "metadata": {},
   "outputs": [],
   "source": [
    "# df의 인덱스명을 출력합니다. \n",
    "df.index"
   ]
  },
  {
   "cell_type": "code",
   "execution_count": null,
   "id": "iraqi-morgan",
   "metadata": {},
   "outputs": [],
   "source": [
    "# df의 컬럼명을 출력합니다. \n",
    "df.columns"
   ]
  },
  {
   "cell_type": "code",
   "execution_count": null,
   "id": "individual-hardwood",
   "metadata": {},
   "outputs": [],
   "source": [
    "# df의 컬럼별 자료형을 출력합니다. \n",
    "df.dtypes"
   ]
  },
  {
   "cell_type": "code",
   "execution_count": null,
   "id": "collaborative-spirituality",
   "metadata": {},
   "outputs": [],
   "source": [
    "# df의 정보를 한 번에 확인합니다.\n",
    "df.info()"
   ]
  },
  {
   "cell_type": "code",
   "execution_count": null,
   "id": "floppy-entity",
   "metadata": {},
   "outputs": [],
   "source": [
    "# df의 컬럼별 기술통계량을 한꺼번에 출력합니다. \n",
    "df.describe()"
   ]
  },
  {
   "cell_type": "markdown",
   "id": "terminal-roommate",
   "metadata": {},
   "source": [
    "## 데이터 입출력"
   ]
  },
  {
   "cell_type": "markdown",
   "id": "israeli-water",
   "metadata": {},
   "source": [
    "### xlsx 파일 입출력"
   ]
  },
  {
   "cell_type": "code",
   "execution_count": null,
   "id": "sustained-blank",
   "metadata": {},
   "outputs": [],
   "source": [
    "# xlsx 파일을 읽고 데이터프레임을 생성합니다.\n",
    "df = pd.read_excel(io = 'KBO_Hitters_2020.xlsx', \n",
    "                   sheet_name = 'Sheet1',\n",
    "                   skiprows = None)"
   ]
  },
  {
   "cell_type": "code",
   "execution_count": null,
   "id": "reliable-combat",
   "metadata": {},
   "outputs": [],
   "source": [
    "# df의 정보를 한 번에 확인합니다.\n",
    "df.info()"
   ]
  },
  {
   "cell_type": "code",
   "execution_count": null,
   "id": "departmental-rally",
   "metadata": {},
   "outputs": [],
   "source": [
    "# df의 처음 다섯 행을 출력합니다.\n",
    "df.head()"
   ]
  },
  {
   "cell_type": "code",
   "execution_count": null,
   "id": "necessary-pepper",
   "metadata": {},
   "outputs": [],
   "source": [
    "# df의 인덱스를 정수 1부터 시작하도록 변경합니다.\n",
    "df.index = range(1, 297)"
   ]
  },
  {
   "cell_type": "code",
   "execution_count": null,
   "id": "derived-result",
   "metadata": {},
   "outputs": [],
   "source": [
    "# 데이터프레임을 xlsx 파일로 저장합니다.\n",
    "df.to_excel('test.xlsx', sheet_name = 'test', index = None)"
   ]
  },
  {
   "cell_type": "markdown",
   "id": "shared-champion",
   "metadata": {},
   "source": [
    "### csv 파일 인코딩 방식 확인 및 입출력"
   ]
  },
  {
   "cell_type": "code",
   "execution_count": null,
   "id": "consolidated-substance",
   "metadata": {},
   "outputs": [],
   "source": [
    "# 관련 라이브러리를 호출합니다.\n",
    "import chardet"
   ]
  },
  {
   "cell_type": "code",
   "execution_count": null,
   "id": "willing-transcription",
   "metadata": {},
   "outputs": [],
   "source": [
    "# 텍스트 파일을 bytes 모드로 읽습니다.\n",
    "raw = open('KBO_Hitters_2020.csv', 'rb').read()"
   ]
  },
  {
   "cell_type": "code",
   "execution_count": null,
   "id": "consecutive-inspiration",
   "metadata": {},
   "outputs": [],
   "source": [
    "# 텍스트 파일의 문자 인코딩 방식을 확인합니다.\n",
    "chardet.detect(raw)"
   ]
  },
  {
   "cell_type": "code",
   "execution_count": null,
   "id": "specialized-cameroon",
   "metadata": {},
   "outputs": [],
   "source": [
    "# 텍스트 파일을 읽고 데이터프레임을 생성합니다.\n",
    "df = pd.read_csv('KBO_Hitters_2020.csv', encoding = 'EUC-KR')"
   ]
  },
  {
   "cell_type": "code",
   "execution_count": null,
   "id": "endless-operator",
   "metadata": {},
   "outputs": [],
   "source": [
    "# 데이터프레임을 csv 파일로 저장합니다.\n",
    "df.to_csv('test.csv', index = None, encoding = 'EUC-KR')"
   ]
  },
  {
   "cell_type": "markdown",
   "id": "healthy-nowhere",
   "metadata": {},
   "source": [
    "### 데이터프레임 팬시 인덱싱"
   ]
  },
  {
   "cell_type": "code",
   "execution_count": null,
   "id": "material-venice",
   "metadata": {},
   "outputs": [],
   "source": [
    "# 정수 인덱스를 스칼라로 지정하면 해당 행을 선택하여 시리즈로 출력합니다.\n",
    "df.iloc[0]"
   ]
  },
  {
   "cell_type": "code",
   "execution_count": null,
   "id": "noble-earthquake",
   "metadata": {},
   "outputs": [],
   "source": [
    "# 정수 인덱스를 리스트로 지정하면 해당 행을 선택하여 데이터프레임으로 출력합니다.\n",
    "df.iloc[[0]]"
   ]
  },
  {
   "cell_type": "code",
   "execution_count": null,
   "id": "promotional-fight",
   "metadata": {},
   "outputs": [],
   "source": [
    "# 대괄호 안에 콜론을 사용하여 슬라이싱하면 해당 행을 데이터프레임으로 반환합니다.\n",
    "df.iloc[0:10]"
   ]
  },
  {
   "cell_type": "code",
   "execution_count": null,
   "id": "abstract-richards",
   "metadata": {},
   "outputs": [],
   "source": [
    "# 대괄호 안에 콤마(,)를 추가하고, 콤마 뒤에 선택할 컬럼의 정수 인덱스를 지정합니다.\n",
    "df.iloc[0:10, :]"
   ]
  },
  {
   "cell_type": "code",
   "execution_count": null,
   "id": "driving-curtis",
   "metadata": {},
   "outputs": [],
   "source": [
    "# df의 0~9번 인덱스 행, 0~11번 인덱스 컬럼을 데이터프레임으로 반환합니다.\n",
    "df.iloc[0:10, 0:12]"
   ]
  },
  {
   "cell_type": "code",
   "execution_count": null,
   "id": "early-rings",
   "metadata": {},
   "outputs": [],
   "source": [
    "# 대괄호 안에 리스트를 지정하면 원하는 순서대로 선택할 수 있습니다.\n",
    "df.iloc[:, [1, 0, 4, 5, 6]]"
   ]
  },
  {
   "cell_type": "code",
   "execution_count": null,
   "id": "wrapped-commissioner",
   "metadata": {},
   "outputs": [],
   "source": [
    "# df의 인덱스명이 1인 행의 전체 컬럼을 선택하여 시리즈로 반환합니다.\n",
    "df.loc[1]"
   ]
  },
  {
   "cell_type": "code",
   "execution_count": null,
   "id": "worse-interface",
   "metadata": {},
   "outputs": [],
   "source": [
    "# 인덱스명을 리스트로 지정하면 해당 행을 선택하여 데이터프레임으로 반환합니다.\n",
    "df.loc[[1]]"
   ]
  },
  {
   "cell_type": "code",
   "execution_count": null,
   "id": "confidential-veteran",
   "metadata": {},
   "outputs": [],
   "source": [
    "# df의 인덱스명이 1~10인 행을 선택하여 데이터프레임으로 반환합니다.\n",
    "df.loc[1:10]"
   ]
  },
  {
   "cell_type": "code",
   "execution_count": null,
   "id": "ancient-rapid",
   "metadata": {},
   "outputs": [],
   "source": [
    "# 대괄호 안에 콤마(,)를 추가하고, 콤마 뒤에 선택할 컬럼의 컬럼명을 지정합니다.\n",
    "df.loc[1:10, :]"
   ]
  },
  {
   "cell_type": "code",
   "execution_count": null,
   "id": "wrapped-subdivision",
   "metadata": {},
   "outputs": [],
   "source": [
    "# df의 인덱스명이 1~10인 행, 선수명~도루 컬럼을 반환합니다.\n",
    "df.loc[1:10, '선수명':'도루']"
   ]
  },
  {
   "cell_type": "code",
   "execution_count": null,
   "id": "impressed-weight",
   "metadata": {},
   "outputs": [],
   "source": [
    "# 컬럼명을 원하는 순서대로 선택할 수 있습니다.\n",
    "df.loc[:, ['팀명', '선수명', '타수', '안타', '홈런']]"
   ]
  },
  {
   "cell_type": "markdown",
   "id": "confident-valley",
   "metadata": {},
   "source": [
    "<p style=\"font-family:verdana;font-size:200%;text-align:center;\">End of Document</p>"
   ]
  }
 ],
 "metadata": {
  "kernelspec": {
   "display_name": "Python 3",
   "language": "python",
   "name": "python3"
  },
  "language_info": {
   "codemirror_mode": {
    "name": "ipython",
    "version": 3
   },
   "file_extension": ".py",
   "mimetype": "text/x-python",
   "name": "python",
   "nbconvert_exporter": "python",
   "pygments_lexer": "ipython3",
   "version": "3.9.2"
  },
  "toc": {
   "base_numbering": 1,
   "nav_menu": {},
   "number_sections": true,
   "sideBar": true,
   "skip_h1_title": false,
   "title_cell": "Table of Contents",
   "title_sidebar": "Contents",
   "toc_cell": false,
   "toc_position": {},
   "toc_section_display": true,
   "toc_window_display": false
  },
  "varInspector": {
   "cols": {
    "lenName": 16,
    "lenType": 16,
    "lenVar": 40
   },
   "kernels_config": {
    "python": {
     "delete_cmd_postfix": "",
     "delete_cmd_prefix": "del ",
     "library": "var_list.py",
     "varRefreshCmd": "print(var_dic_list())"
    },
    "r": {
     "delete_cmd_postfix": ") ",
     "delete_cmd_prefix": "rm(",
     "library": "var_list.r",
     "varRefreshCmd": "cat(var_dic_list()) "
    }
   },
   "types_to_exclude": [
    "module",
    "function",
    "builtin_function_or_method",
    "instance",
    "_Feature"
   ],
   "window_display": false
  }
 },
 "nbformat": 4,
 "nbformat_minor": 5
}
