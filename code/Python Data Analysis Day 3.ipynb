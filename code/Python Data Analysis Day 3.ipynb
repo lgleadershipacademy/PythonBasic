{
 "cells": [
  {
   "cell_type": "markdown",
   "id": "realistic-baltimore",
   "metadata": {},
   "source": [
    "<p style=\"font-family:verdana;font-size:200%;text-align:center;\">Python Data Analysis Day 3</p>"
   ]
  },
  {
   "cell_type": "markdown",
   "id": "curious-helmet",
   "metadata": {},
   "source": [
    "## 데이터프레임 전처리"
   ]
  },
  {
   "cell_type": "markdown",
   "id": "small-owner",
   "metadata": {},
   "source": [
    "###  실습 데이터셋 준비"
   ]
  },
  {
   "cell_type": "code",
   "execution_count": null,
   "id": "virtual-diamond",
   "metadata": {},
   "outputs": [],
   "source": [
    "# 라이브러리를 호출합니다.\n",
    "import os\n",
    "import numpy as np\n",
    "import pandas as pd"
   ]
  },
  {
   "cell_type": "code",
   "execution_count": null,
   "id": "understanding-district",
   "metadata": {},
   "outputs": [],
   "source": [
    "# 작업경로를 data 폴더로 변경합니다.\n",
    "os.chdir('../data')"
   ]
  },
  {
   "cell_type": "code",
   "execution_count": null,
   "id": "billion-insider",
   "metadata": {},
   "outputs": [],
   "source": [
    "# 현재 작업경로에 저장된 파일명을 출력합니다.\n",
    "os.listdir()"
   ]
  },
  {
   "cell_type": "code",
   "execution_count": null,
   "id": "academic-folder",
   "metadata": {},
   "outputs": [],
   "source": [
    "# 가격 xlsx 파일을 읽고 데이터프레임을 생성합니다.\n",
    "price = pd.read_excel('APT_Price_Seoul_2020.xlsx')"
   ]
  },
  {
   "cell_type": "code",
   "execution_count": null,
   "id": "compound-stereo",
   "metadata": {},
   "outputs": [],
   "source": [
    "# price의 처음 다섯 행을 출력합니다.\n",
    "price.head()"
   ]
  },
  {
   "cell_type": "code",
   "execution_count": null,
   "id": "therapeutic-basketball",
   "metadata": {},
   "outputs": [],
   "source": [
    "# price의 정보를 출력합니다.\n",
    "price.info()"
   ]
  },
  {
   "cell_type": "code",
   "execution_count": null,
   "id": "adaptive-password",
   "metadata": {},
   "outputs": [],
   "source": [
    "# 상세정보 xlsx 파일을 읽고 데이터프레임을 생성합니다.\n",
    "detail = pd.read_excel('Naver_APT_Detail.xlsx')"
   ]
  },
  {
   "cell_type": "code",
   "execution_count": null,
   "id": "powered-preservation",
   "metadata": {},
   "outputs": [],
   "source": [
    "# detail의 처음 다섯 행을 출력합니다.\n",
    "detail.head()"
   ]
  },
  {
   "cell_type": "code",
   "execution_count": null,
   "id": "meaningful-complement",
   "metadata": {},
   "outputs": [],
   "source": [
    "# detail의 정보를 출력합니다.\n",
    "detail.info()"
   ]
  },
  {
   "cell_type": "markdown",
   "id": "vulnerable-faith",
   "metadata": {},
   "source": [
    "#### [참고] csv 파일 읽을 때 날짜 자료형 유지하는 방법"
   ]
  },
  {
   "cell_type": "code",
   "execution_count": null,
   "id": "according-scott",
   "metadata": {},
   "outputs": [],
   "source": [
    "# 라이브러리를 호출합니다.\n",
    "import chardet"
   ]
  },
  {
   "cell_type": "code",
   "execution_count": null,
   "id": "retired-start",
   "metadata": {},
   "outputs": [],
   "source": [
    "# csv 파일을 bytes 모드로 읽습니다.\n",
    "raw = open('APT_Price_Seoul_2020.csv', 'rb').read()"
   ]
  },
  {
   "cell_type": "code",
   "execution_count": null,
   "id": "outstanding-portfolio",
   "metadata": {},
   "outputs": [],
   "source": [
    "# 텍스트 파일의 문자 인코딩 방식을 확인합니다.\n",
    "chardet.detect(raw[:100])"
   ]
  },
  {
   "cell_type": "code",
   "execution_count": null,
   "id": "cutting-banner",
   "metadata": {},
   "outputs": [],
   "source": [
    "# 가격 csv 파일을 읽고 데이터프레임을 생성합니다.\n",
    "price = pd.read_csv('APT_Price_Seoul_2020.csv')"
   ]
  },
  {
   "cell_type": "code",
   "execution_count": null,
   "id": "informative-argument",
   "metadata": {},
   "outputs": [],
   "source": [
    "# price의 정보를 확인합니다.\n",
    "price.info()"
   ]
  },
  {
   "cell_type": "code",
   "execution_count": null,
   "id": "rocky-pride",
   "metadata": {},
   "outputs": [],
   "source": [
    "# csv 파일을 읽을 때 날짜 자료형으로 읽을 컬럼명을 지정합니다.\n",
    "price = pd.read_csv('APT_Price_Seoul_2020.csv', parse_dates = ['거래일'])"
   ]
  },
  {
   "cell_type": "code",
   "execution_count": null,
   "id": "owned-possession",
   "metadata": {},
   "outputs": [],
   "source": [
    "# price의 정보를 다시 확인합니다.\n",
    "price.info()"
   ]
  },
  {
   "cell_type": "markdown",
   "id": "amateur-compression",
   "metadata": {},
   "source": [
    "### 컬럼 선택 및 삭제"
   ]
  },
  {
   "cell_type": "code",
   "execution_count": null,
   "id": "impossible-marker",
   "metadata": {},
   "outputs": [],
   "source": [
    "# 거래금액 컬럼을 선택하여 시리즈로 반환합니다.\n",
    "price['거래금액']"
   ]
  },
  {
   "cell_type": "code",
   "execution_count": null,
   "id": "differential-tonight",
   "metadata": {},
   "outputs": [],
   "source": [
    "# 컬럼명을 리스트로 지정하면 데이터프레임으로 반환합니다.\n",
    "price[['거래금액']]"
   ]
  },
  {
   "cell_type": "code",
   "execution_count": null,
   "id": "general-frederick",
   "metadata": {},
   "outputs": [],
   "source": [
    "# 여러 컬럼을 선택하려면 리스트를 입력합니다.\n",
    "price[['거래금액', '거래일']]"
   ]
  },
  {
   "cell_type": "code",
   "execution_count": null,
   "id": "burning-contribution",
   "metadata": {},
   "outputs": [],
   "source": [
    "# drop() 함수에 삭제할 컬럼명을 리스트로 입력하여 삭제합니다.\n",
    "price.drop('일련번호', axis = 1)"
   ]
  },
  {
   "cell_type": "code",
   "execution_count": null,
   "id": "simple-stevens",
   "metadata": {},
   "outputs": [],
   "source": [
    "# 컬럼을 삭제하고 price에 재할당합니다.\n",
    "price = price.drop('일련번호', axis = 1)"
   ]
  },
  {
   "cell_type": "markdown",
   "id": "buried-partition",
   "metadata": {},
   "source": [
    "### 컬럼명 변경"
   ]
  },
  {
   "cell_type": "code",
   "execution_count": null,
   "id": "employed-swaziland",
   "metadata": {},
   "outputs": [],
   "source": [
    "# rename() 함수로 일부 컬럼명을 변경합니다.\n",
    "price = price.rename(columns = {'아파트': '아파트명'})"
   ]
  },
  {
   "cell_type": "code",
   "execution_count": null,
   "id": "supposed-honor",
   "metadata": {},
   "outputs": [],
   "source": [
    "# 가격 데이터의 컬럼명을 출력합니다.\n",
    "price.columns"
   ]
  },
  {
   "cell_type": "code",
   "execution_count": null,
   "id": "corrected-grave",
   "metadata": {},
   "outputs": [],
   "source": [
    "# columns 속성을 사용하면 컬럼명 전체를 변경합니다.\n",
    "price.columns = ['아파트', '시도', '시군구', '읍면동', '지번', '거래일', \n",
    "                 '전용면적', '층', '거래금액']"
   ]
  },
  {
   "cell_type": "code",
   "execution_count": null,
   "id": "color-tribute",
   "metadata": {},
   "outputs": [],
   "source": [
    "# 가격 데이터의 처음 다섯 행을 출력합니다.\n",
    "price.head()"
   ]
  },
  {
   "cell_type": "markdown",
   "id": "changed-gates",
   "metadata": {},
   "source": [
    "### 컬럼 자료형 변환"
   ]
  },
  {
   "cell_type": "code",
   "execution_count": null,
   "id": "jewish-longer",
   "metadata": {},
   "outputs": [],
   "source": [
    "# 거래일 컬럼을 문자열로 변환합니다.\n",
    "price['거래일'] = price['거래일'].astype('str')"
   ]
  },
  {
   "cell_type": "code",
   "execution_count": null,
   "id": "regular-worth",
   "metadata": {},
   "outputs": [],
   "source": [
    "# 거래금액 컬럼을 실수로 변환합니다.\n",
    "price['거래금액'] = price['거래금액'].astype('float')"
   ]
  },
  {
   "cell_type": "code",
   "execution_count": null,
   "id": "spatial-moral",
   "metadata": {},
   "outputs": [],
   "source": [
    "# 가격 데이터의 컬럼별 자료형을 확인합니다.\n",
    "price.dtypes"
   ]
  },
  {
   "cell_type": "code",
   "execution_count": null,
   "id": "confident-butterfly",
   "metadata": {},
   "outputs": [],
   "source": [
    "# 거래일 컬럼을 날짜로 복원합니다.\n",
    "price['거래일'] = pd.to_datetime(price['거래일'])"
   ]
  },
  {
   "cell_type": "code",
   "execution_count": null,
   "id": "destroyed-colon",
   "metadata": {},
   "outputs": [],
   "source": [
    "# 가격 데이터의 컬럼별 자료형을 다시 확인합니다.\n",
    "price.dtypes"
   ]
  },
  {
   "cell_type": "code",
   "execution_count": null,
   "id": "creative-burton",
   "metadata": {},
   "outputs": [],
   "source": [
    "# astype() 함수에 딕셔너리로 입력하면 여러 컬럼을 각각 변환합니다.\n",
    "price = price.astype({'층':'float', '거래금액':'int'})"
   ]
  },
  {
   "cell_type": "code",
   "execution_count": null,
   "id": "genetic-cheat",
   "metadata": {},
   "outputs": [],
   "source": [
    "# 가격 데이터의 컬럼별 자료형을 확인합니다.\n",
    "price.dtypes"
   ]
  },
  {
   "cell_type": "code",
   "execution_count": null,
   "id": "hollow-capability",
   "metadata": {},
   "outputs": [],
   "source": [
    "# 여러 컬럼을 하나의 자료형으로 동시에 변환합니다.\n",
    "price.iloc[:, 7:9] = price.iloc[:, 7:9].astype(int)"
   ]
  },
  {
   "cell_type": "code",
   "execution_count": null,
   "id": "floppy-connecticut",
   "metadata": {},
   "outputs": [],
   "source": [
    "# 가격 데이터의 컬럼별 자료형을 확인합니다.\n",
    "price.dtypes"
   ]
  },
  {
   "cell_type": "markdown",
   "id": "external-military",
   "metadata": {},
   "source": [
    "### [참고] 문자열을 날짜 자료형으로 변환"
   ]
  },
  {
   "cell_type": "code",
   "execution_count": null,
   "id": "aware-factor",
   "metadata": {},
   "outputs": [],
   "source": [
    "# yyyy-mm-dd 형태가 아닌 문자열 데이터로 데이터프레임을 생성합니다.\n",
    "dates = pd.DataFrame(['2020년 12월 13일', '2021년 1월 1일'], \n",
    "                     columns = ['날짜'])"
   ]
  },
  {
   "cell_type": "code",
   "execution_count": null,
   "id": "excess-weapon",
   "metadata": {},
   "outputs": [],
   "source": [
    "# 거래일 컬럼을 날짜로 변환하려고 하면 에러가 발생합니다.\n",
    "dates['날짜'] = dates['날짜'].astype('datetime64')"
   ]
  },
  {
   "cell_type": "code",
   "execution_count": null,
   "id": "novel-setting",
   "metadata": {},
   "outputs": [],
   "source": [
    "# to_datetime() 함수의 format 매개변수에 날짜 포맷을 지정하면 변환됩니다.\n",
    "dates['날짜'] = pd.to_datetime(dates['날짜'], format = '%Y년 %m월 %d일')"
   ]
  },
  {
   "cell_type": "markdown",
   "id": "potential-bookmark",
   "metadata": {},
   "source": [
    "### 조건에 맞는 행 선택"
   ]
  },
  {
   "cell_type": "code",
   "execution_count": null,
   "id": "fewer-second",
   "metadata": {},
   "outputs": [],
   "source": [
    "# 거래금액이 700000(70억) 이상인 행만 선택합니다.\n",
    "price.loc[price['거래금액'] >= 700000]"
   ]
  },
  {
   "cell_type": "code",
   "execution_count": null,
   "id": "sustained-scientist",
   "metadata": {},
   "outputs": [],
   "source": [
    "# 거래금액이 70억 이상인 행을 선택하여 df1에 할당합니다.\n",
    "df1 = price.loc[price['거래금액'] >= 700000]"
   ]
  },
  {
   "cell_type": "code",
   "execution_count": null,
   "id": "pacific-employee",
   "metadata": {},
   "outputs": [],
   "source": [
    "# df1의 처음 10행을 출력합니다.\n",
    "df1.head(10)"
   ]
  },
  {
   "cell_type": "code",
   "execution_count": null,
   "id": "generous-sodium",
   "metadata": {},
   "outputs": [],
   "source": [
    "# 거래금액이 70억 미만이고, 60층 이상인 행을 선택하여 df2에 할당합니다.\n",
    "df2 = price.loc[(price['거래금액'] < 700000) & (price['층'] >= 60)]"
   ]
  },
  {
   "cell_type": "code",
   "execution_count": null,
   "id": "hidden-algeria",
   "metadata": {},
   "outputs": [],
   "source": [
    "# df2의 처음 10행을 출력합니다.\n",
    "df2.head(10)"
   ]
  },
  {
   "cell_type": "markdown",
   "id": "iraqi-roman",
   "metadata": {},
   "source": [
    "### 행 삭제 및 인덱스명 초기화"
   ]
  },
  {
   "cell_type": "code",
   "execution_count": null,
   "id": "adopted-spyware",
   "metadata": {},
   "outputs": [],
   "source": [
    "# drop() 함수에 인덱스명 스칼라/리스트를 입력하여 행을 삭제합니다.\n",
    "df2.drop([23700, 44541])"
   ]
  },
  {
   "cell_type": "code",
   "execution_count": null,
   "id": "intermediate-sweden",
   "metadata": {},
   "outputs": [],
   "source": [
    "# [주의] 인덱스명에 없는 값을 입력하면 에러가 발생합니다.\n",
    "df2.drop([1, 2])"
   ]
  },
  {
   "cell_type": "code",
   "execution_count": null,
   "id": "industrial-democrat",
   "metadata": {},
   "outputs": [],
   "source": [
    "# df1의 인덱스명을 초기화한 결과를 출력합니다.\n",
    "df1.reset_index()"
   ]
  },
  {
   "cell_type": "code",
   "execution_count": null,
   "id": "empty-lightweight",
   "metadata": {},
   "outputs": [],
   "source": [
    "# index 컬럼이 생성되지 않도록 drop = True를 추가합니다.\n",
    "df1.reset_index(drop = True)"
   ]
  },
  {
   "cell_type": "code",
   "execution_count": null,
   "id": "written-purple",
   "metadata": {},
   "outputs": [],
   "source": [
    "# 인덱스명을 초기화한 결과를 df1에 재할당합니다.\n",
    "df1 = df1.reset_index(drop = True)"
   ]
  },
  {
   "cell_type": "markdown",
   "id": "rational-burns",
   "metadata": {},
   "source": [
    "### 결측값 처리"
   ]
  },
  {
   "cell_type": "code",
   "execution_count": null,
   "id": "martial-album",
   "metadata": {},
   "outputs": [],
   "source": [
    "# 컬럼별 결측값 개수를 확인합니다.\n",
    "price.isna().sum()"
   ]
  },
  {
   "cell_type": "code",
   "execution_count": null,
   "id": "outstanding-brazil",
   "metadata": {},
   "outputs": [],
   "source": [
    "# 결측값을 포함하는 행을 삭제한 결과를 출력합니다.\n",
    "price.dropna()"
   ]
  },
  {
   "cell_type": "code",
   "execution_count": null,
   "id": "liked-simple",
   "metadata": {},
   "outputs": [],
   "source": [
    "# 결측값을 공백으로 채운 결과를 출력합니다.\n",
    "price.fillna('')"
   ]
  },
  {
   "cell_type": "code",
   "execution_count": null,
   "id": "narrow-soundtrack",
   "metadata": {},
   "outputs": [],
   "source": [
    "# 가격 데이터에서 결측값을 삭제하고 재할당합니다.\n",
    "price = price.dropna()"
   ]
  },
  {
   "cell_type": "code",
   "execution_count": null,
   "id": "human-motivation",
   "metadata": {},
   "outputs": [],
   "source": [
    "# 컬럼별 결측값 개수를 다시 확인합니다.\n",
    "price.isna().sum()"
   ]
  },
  {
   "cell_type": "markdown",
   "id": "american-milan",
   "metadata": {},
   "source": [
    "### 파생변수 생성"
   ]
  },
  {
   "cell_type": "code",
   "execution_count": null,
   "id": "dependent-modification",
   "metadata": {},
   "outputs": [],
   "source": [
    "# 거래금액을 전용면적으로 나눈 새로운 컬럼을 생성합니다.\n",
    "price['단위금액'] = price['거래금액'] / price['전용면적']"
   ]
  },
  {
   "cell_type": "code",
   "execution_count": null,
   "id": "norman-asian",
   "metadata": {},
   "outputs": [],
   "source": [
    "# 가격 데이터의 처음 다섯 행을 출력합니다.\n",
    "price.head()"
   ]
  },
  {
   "cell_type": "code",
   "execution_count": null,
   "id": "macro-error",
   "metadata": {},
   "outputs": [],
   "source": [
    "# 단위금액 컬럼값을 반올림하여 소수점 둘째 자리까지 남깁니다.\n",
    "price['단위금액'] = price['단위금액'].round(2)"
   ]
  },
  {
   "cell_type": "code",
   "execution_count": null,
   "id": "inappropriate-resistance",
   "metadata": {},
   "outputs": [],
   "source": [
    "# 거래금액 컬럼을 만원 단위에서 억원 단위로 변경합니다.\n",
    "price['거래금액'] = price['거래금액'] / 10000"
   ]
  },
  {
   "cell_type": "code",
   "execution_count": null,
   "id": "planned-supervision",
   "metadata": {},
   "outputs": [],
   "source": [
    "# 가격 데이터의 처음 다섯 행을 출력합니다.\n",
    "price.head()"
   ]
  },
  {
   "cell_type": "code",
   "execution_count": null,
   "id": "lasting-chapter",
   "metadata": {},
   "outputs": [],
   "source": [
    "# 단위금액의 크기를 1천만원 기준으로 구분하는 이진형 컬럼을 생성합니다.\n",
    "price.loc[price['단위금액'] >= 1000, '금액구분'] = '1천 이상'\n",
    "price.loc[price['단위금액'] < 1000, '금액구분'] = '1천 미만'"
   ]
  },
  {
   "cell_type": "code",
   "execution_count": null,
   "id": "duplicate-battlefield",
   "metadata": {},
   "outputs": [],
   "source": [
    "# 가격 데이터의 처음 다섯 행을 출력합니다.\n",
    "price.head()"
   ]
  },
  {
   "cell_type": "code",
   "execution_count": null,
   "id": "blond-dryer",
   "metadata": {},
   "outputs": [],
   "source": [
    "# 여러 컬럼값을 결합하여 지번주소 컬럼을 생성합니다.\n",
    "price['지번주소'] = price['시도'] + ' ' + price['시군구'] + ' ' + price['읍면동'] + ' ' + price['지번']"
   ]
  },
  {
   "cell_type": "markdown",
   "id": "latest-insight",
   "metadata": {},
   "source": [
    "#### [참고] 같은 함수 반복 실행 실습"
   ]
  },
  {
   "cell_type": "code",
   "execution_count": null,
   "id": "posted-wrestling",
   "metadata": {},
   "outputs": [],
   "source": [
    "# 거래금액 컬럼의 각 원소에 10000을 곱하고 정수로 변환합니다.\n",
    "price['거래금액'].map(lambda x: x*10000).astype('int')"
   ]
  },
  {
   "cell_type": "code",
   "execution_count": null,
   "id": "tamil-penny",
   "metadata": {},
   "outputs": [],
   "source": [
    "# 시도~지번 컬럼을 갖는 데이터프레임 각 열의 길이를 반환합니다.\n",
    "price.loc[:, '시도':'지번'].apply(len, axis = 0)"
   ]
  },
  {
   "cell_type": "code",
   "execution_count": null,
   "id": "thorough-monitoring",
   "metadata": {},
   "outputs": [],
   "source": [
    "# 시도~지번 컬럼을 갖는 데이터프레임 각 행의 길이를 반환합니다.\n",
    "price.loc[:, '시도':'지번'].apply(len, axis = 1)"
   ]
  },
  {
   "cell_type": "code",
   "execution_count": null,
   "id": "protective-illness",
   "metadata": {},
   "outputs": [],
   "source": [
    "# 시도~지번 컬럼을 갖는 데이터프레임 각 행 원소를 하나로 결합합니다.\n",
    "price.loc[:, '시도':'지번'].apply(lambda x: ' '.join(x), axis = 1)"
   ]
  },
  {
   "cell_type": "code",
   "execution_count": null,
   "id": "different-juice",
   "metadata": {},
   "outputs": [],
   "source": [
    "# 시도~지번 컬럼을 갖는 데이터프레임 각 원소의 길이를 반환합니다.\n",
    "price.loc[:, '시도':'지번'].applymap(len)"
   ]
  },
  {
   "cell_type": "markdown",
   "id": "olympic-holiday",
   "metadata": {},
   "source": [
    "#### [참고] 날짜 컬럼 분해"
   ]
  },
  {
   "cell_type": "code",
   "execution_count": null,
   "id": "celtic-alignment",
   "metadata": {},
   "outputs": [],
   "source": [
    "# 날짜 자료형에서 연도만 추출합니다.\n",
    "price['거래일'].dt.year"
   ]
  },
  {
   "cell_type": "code",
   "execution_count": null,
   "id": "inappropriate-printer",
   "metadata": {},
   "outputs": [],
   "source": [
    "# 날짜 자료형에서 월만 추출합니다.\n",
    "price['거래일'].dt.month"
   ]
  },
  {
   "cell_type": "code",
   "execution_count": null,
   "id": "nearby-marine",
   "metadata": {},
   "outputs": [],
   "source": [
    "# 날짜 자료형에서 일만 추출합니다.\n",
    "price['거래일'].dt.day"
   ]
  },
  {
   "cell_type": "code",
   "execution_count": null,
   "id": "reduced-journal",
   "metadata": {},
   "outputs": [],
   "source": [
    "# 날짜 자료형에서 시만 추출합니다.\n",
    "price['거래일'].dt.hour"
   ]
  },
  {
   "cell_type": "code",
   "execution_count": null,
   "id": "thousand-rover",
   "metadata": {},
   "outputs": [],
   "source": [
    "# 날짜 자료형에서 분만 추출합니다.\n",
    "price['거래일'].dt.minute"
   ]
  },
  {
   "cell_type": "code",
   "execution_count": null,
   "id": "experienced-frequency",
   "metadata": {},
   "outputs": [],
   "source": [
    "# 날짜 자료형에서 초만 추출합니다.\n",
    "price['거래일'].dt.second"
   ]
  },
  {
   "cell_type": "markdown",
   "id": "danish-patient",
   "metadata": {},
   "source": [
    "### 집계함수로 데이터 요약"
   ]
  },
  {
   "cell_type": "code",
   "execution_count": null,
   "id": "mediterranean-recipient",
   "metadata": {},
   "outputs": [],
   "source": [
    "# 시군구별 단위금액 빈도수를 반환합니다.\n",
    "price.groupby('시군구').count()['거래금액']"
   ]
  },
  {
   "cell_type": "code",
   "execution_count": null,
   "id": "divine-alaska",
   "metadata": {
    "scrolled": false
   },
   "outputs": [],
   "source": [
    "# 시군구별 단위금액 합계를 반환합니다.\n",
    "price.groupby('시군구').sum()['거래금액']"
   ]
  },
  {
   "cell_type": "code",
   "execution_count": null,
   "id": "dress-medicine",
   "metadata": {},
   "outputs": [],
   "source": [
    "# 시군구별 단위금액 평균을 반환합니다.\n",
    "price.groupby('시군구').mean()['단위금액']"
   ]
  },
  {
   "cell_type": "code",
   "execution_count": null,
   "id": "selective-minimum",
   "metadata": {},
   "outputs": [],
   "source": [
    "# 시군구별 단위금액 표준편차를 반환합니다.\n",
    "price.groupby('시군구').std()['단위금액']"
   ]
  },
  {
   "cell_type": "code",
   "execution_count": null,
   "id": "nuclear-directive",
   "metadata": {},
   "outputs": [],
   "source": [
    "# 시군구별 단위금액 최소값을 반환합니다.\n",
    "price.groupby('시군구').min()['단위금액']"
   ]
  },
  {
   "cell_type": "code",
   "execution_count": null,
   "id": "addressed-reality",
   "metadata": {},
   "outputs": [],
   "source": [
    "# 시군구별 단위금액 최대값을 반환합니다.\n",
    "price.groupby('시군구').max()['단위금액']"
   ]
  },
  {
   "cell_type": "code",
   "execution_count": null,
   "id": "focused-innocent",
   "metadata": {},
   "outputs": [],
   "source": [
    "# 시군구별 단위금액의 기술통계량을 한 번에 반환합니다.\n",
    "price.groupby('시군구').describe()['단위금액']"
   ]
  },
  {
   "cell_type": "markdown",
   "id": "short-grenada",
   "metadata": {},
   "source": [
    "### 데이터프레임 구조 변경"
   ]
  },
  {
   "cell_type": "code",
   "execution_count": null,
   "id": "center-induction",
   "metadata": {},
   "outputs": [],
   "source": [
    "# 두 개의 컬럼으로 데이터를 요약하여 Long type의 데이터프레임을 생성합니다.\n",
    "long = price.groupby(['시군구', '금액구분']).count()[['단위금액']]"
   ]
  },
  {
   "cell_type": "code",
   "execution_count": null,
   "id": "bigger-breeding",
   "metadata": {},
   "outputs": [],
   "source": [
    "# long의 처음 10행만 출력합니다.\n",
    "long.head(10)"
   ]
  },
  {
   "cell_type": "code",
   "execution_count": null,
   "id": "waiting-balance",
   "metadata": {},
   "outputs": [],
   "source": [
    "# 단위금액 컬럼명을 건수로 변경합니다.\n",
    "long.columns = ['건수']"
   ]
  },
  {
   "cell_type": "code",
   "execution_count": null,
   "id": "absolute-flesh",
   "metadata": {},
   "outputs": [],
   "source": [
    "# Long type을 Wide type으로 변경합니다.\n",
    "wide = long.unstack()"
   ]
  },
  {
   "cell_type": "code",
   "execution_count": null,
   "id": "august-toner",
   "metadata": {},
   "outputs": [],
   "source": [
    "# wide의 처음 10행만 출력합니다.\n",
    "wide.head(10)"
   ]
  },
  {
   "cell_type": "code",
   "execution_count": null,
   "id": "collectible-communist",
   "metadata": {},
   "outputs": [],
   "source": [
    "# Wide type을 Long type으로 변경하고 처음 10행만 출력합니다.\n",
    "wide.stack().head(10)"
   ]
  },
  {
   "cell_type": "markdown",
   "id": "several-bobby",
   "metadata": {},
   "source": [
    "### 피벗 테이블 생성"
   ]
  },
  {
   "cell_type": "code",
   "execution_count": null,
   "id": "historical-baghdad",
   "metadata": {},
   "outputs": [],
   "source": [
    "# 원데이터로부터 피벗 테이블을 생성합니다.\n",
    "pd.pivot_table(data = price, \n",
    "               index = '시군구', \n",
    "               columns = '금액구분', \n",
    "               values = '단위금액', \n",
    "               aggfunc = ['mean', 'std'])"
   ]
  },
  {
   "cell_type": "markdown",
   "id": "scenic-spirituality",
   "metadata": {},
   "source": [
    "### 데이터프레임 결합"
   ]
  },
  {
   "cell_type": "code",
   "execution_count": null,
   "id": "spoken-bicycle",
   "metadata": {},
   "outputs": [],
   "source": [
    "# 컬럼명이 같은 df1과 df2를 세로 방향으로 결합한 결과를 반환합니다.\n",
    "pd.concat([df1, df2])"
   ]
  },
  {
   "cell_type": "code",
   "execution_count": null,
   "id": "likely-messenger",
   "metadata": {},
   "outputs": [],
   "source": [
    "# 두 데이터프레임을 결합한 결과에서 인덱스명을 초기화합니다.\n",
    "pd.concat([df1, df2], ignore_index = True)"
   ]
  },
  {
   "cell_type": "code",
   "execution_count": null,
   "id": "played-private",
   "metadata": {},
   "outputs": [],
   "source": [
    "# df2의 일부 컬럼명을 변경합니다.\n",
    "df2 = df2.rename(columns = {'아파트':'아파트명'})"
   ]
  },
  {
   "cell_type": "code",
   "execution_count": null,
   "id": "restricted-breakfast",
   "metadata": {},
   "outputs": [],
   "source": [
    "# 컬럼명이 다른 df1과 df2를 세로 방향으로 결합한 결과를 반환합니다.\n",
    "pd.concat([df1, df2])"
   ]
  },
  {
   "cell_type": "code",
   "execution_count": null,
   "id": "satisfied-garden",
   "metadata": {},
   "outputs": [],
   "source": [
    "# 인덱스명이 다른 df1과 df2를 가로 방향으로 결합한 결과를 반환합니다.\n",
    "pd.concat([df1, df2], axis = 1)"
   ]
  },
  {
   "cell_type": "markdown",
   "id": "previous-spanish",
   "metadata": {},
   "source": [
    "### 외래키 확인 및 전처리"
   ]
  },
  {
   "cell_type": "code",
   "execution_count": null,
   "id": "occupational-numbers",
   "metadata": {},
   "outputs": [],
   "source": [
    "# 가격 데이터와 상세정보 데이터에서 일치하는 컬럼명을 찾습니다.\n",
    "set(price.columns) & set(detail.columns)"
   ]
  },
  {
   "cell_type": "code",
   "execution_count": null,
   "id": "musical-isolation",
   "metadata": {},
   "outputs": [],
   "source": [
    "# 가격 데이터의 지번주소를 출력합니다.\n",
    "price['지번주소']"
   ]
  },
  {
   "cell_type": "code",
   "execution_count": null,
   "id": "together-hungarian",
   "metadata": {},
   "outputs": [],
   "source": [
    "# 상세정보 데이터의 지번주소를 출력합니다.\n",
    "detail['지번주소']"
   ]
  },
  {
   "cell_type": "code",
   "execution_count": null,
   "id": "yellow-crawford",
   "metadata": {},
   "outputs": [],
   "source": [
    "# 가격 데이터의 지번주소에서 '특별시'를 삭제합니다.\n",
    "price['지번주소'] = price['지번주소'].str.replace('특별시', '')"
   ]
  },
  {
   "cell_type": "code",
   "execution_count": null,
   "id": "forty-cherry",
   "metadata": {},
   "outputs": [],
   "source": [
    "# 가격 데이터의 지번주소를 다시 출력합니다.\n",
    "price['지번주소']"
   ]
  },
  {
   "cell_type": "markdown",
   "id": "vulnerable-teaching",
   "metadata": {},
   "source": [
    "### 데이터프레임 중복 확인 및 제거"
   ]
  },
  {
   "cell_type": "code",
   "execution_count": null,
   "id": "spiritual-landing",
   "metadata": {},
   "outputs": [],
   "source": [
    "# 상세정보 데이터에서 지번주소 컬럼의 중복 건수를 출력합니다.\n",
    "detail.duplicated(['지번주소']).sum()"
   ]
  },
  {
   "cell_type": "code",
   "execution_count": null,
   "id": "unauthorized-vision",
   "metadata": {},
   "outputs": [],
   "source": [
    "# 지번주소 컬럼이 중복인 인덱스를 추출합니다.\n",
    "dup = detail.duplicated(['지번주소'], keep = False)\n",
    "print(dup)"
   ]
  },
  {
   "cell_type": "code",
   "execution_count": null,
   "id": "hawaiian-subscriber",
   "metadata": {},
   "outputs": [],
   "source": [
    "# 상세정보 데이터에서 지번주소 컬럼이 중복인 행만 선택합니다.\n",
    "detail.loc[dup]"
   ]
  },
  {
   "cell_type": "code",
   "execution_count": null,
   "id": "perceived-heaven",
   "metadata": {},
   "outputs": [],
   "source": [
    "# 지번주소 컬럼이 중복이면 첫 번째 행을 남기고 재할당합니다.\n",
    "detail = detail.drop_duplicates(['지번주소'], keep = 'first')"
   ]
  },
  {
   "cell_type": "markdown",
   "id": "buried-sterling",
   "metadata": {},
   "source": [
    "### 데이터프레임 병합"
   ]
  },
  {
   "cell_type": "code",
   "execution_count": null,
   "id": "economic-kitty",
   "metadata": {},
   "outputs": [],
   "source": [
    "# 내부 병합을 실행합니다.\n",
    "pd.merge(price, detail, how = 'inner', on = '지번주소')"
   ]
  },
  {
   "cell_type": "code",
   "execution_count": null,
   "id": "split-holmes",
   "metadata": {
    "scrolled": false
   },
   "outputs": [],
   "source": [
    "# 외부 병합을 실행합니다.\n",
    "pd.merge(price, detail, how = 'outer', on = '지번주소')"
   ]
  },
  {
   "cell_type": "code",
   "execution_count": null,
   "id": "humanitarian-haiti",
   "metadata": {},
   "outputs": [],
   "source": [
    "# 왼쪽 외부 병합을 실행합니다.\n",
    "pd.merge(price, detail, how = 'left', on = '지번주소')"
   ]
  },
  {
   "cell_type": "code",
   "execution_count": null,
   "id": "stupid-float",
   "metadata": {},
   "outputs": [],
   "source": [
    "# 가격 데이터의 외래키 컬럼명을 변경합니다.\n",
    "price = price.rename(columns = {'지번주소':'주소'})"
   ]
  },
  {
   "cell_type": "code",
   "execution_count": null,
   "id": "adjustable-choir",
   "metadata": {},
   "outputs": [],
   "source": [
    "# 외래키 컬럼명이 서로 일치하지 않으면 반드시 지정해야 합니다.\n",
    "apt = pd.merge(price, detail, left_on = '주소', right_on = '지번주소')"
   ]
  },
  {
   "cell_type": "code",
   "execution_count": null,
   "id": "entitled-boulder",
   "metadata": {},
   "outputs": [],
   "source": [
    "# apt의 정보를 확인합니다.\n",
    "apt.info()"
   ]
  },
  {
   "cell_type": "markdown",
   "id": "brave-continuity",
   "metadata": {},
   "source": [
    "### 데이터프레임 정렬"
   ]
  },
  {
   "cell_type": "code",
   "execution_count": null,
   "id": "stopped-angola",
   "metadata": {},
   "outputs": [],
   "source": [
    "# 거래금액 컬럼 기준으로 오름차순으로 정한 결과에서 처음 5행만 출력합니다.\n",
    "apt.sort_values(['거래금액']).head()"
   ]
  },
  {
   "cell_type": "code",
   "execution_count": null,
   "id": "mechanical-kenya",
   "metadata": {},
   "outputs": [],
   "source": [
    "# 거래금액 컬럼 기준으로 오름차순으로 정한 결과에서 처음 다섯 행만 출력합니다.\n",
    "apt.sort_values(['거래금액'], ascending = False).head()"
   ]
  },
  {
   "cell_type": "code",
   "execution_count": null,
   "id": "connected-delicious",
   "metadata": {},
   "outputs": [],
   "source": [
    "# 층, 거래금액 컬럼 순으로 모두 내림차순 정렬하고 처음 다섯 행만 출력합니다.\n",
    "apt.sort_values(['층', '거래금액'], ascending = False).head()"
   ]
  },
  {
   "cell_type": "code",
   "execution_count": null,
   "id": "according-literacy",
   "metadata": {
    "scrolled": false
   },
   "outputs": [],
   "source": [
    "# 층은 내림차순, 거래금액은 오름차순으로 정렬하고 처음 다섯 행만 출력합니다.\n",
    "apt.sort_values(['층', '거래금액'], ascending = [False, True]).head()"
   ]
  },
  {
   "cell_type": "markdown",
   "id": "handmade-virus",
   "metadata": {},
   "source": [
    "### 외부 파일로 저장"
   ]
  },
  {
   "cell_type": "code",
   "execution_count": null,
   "id": "wanted-student",
   "metadata": {},
   "outputs": [],
   "source": [
    "# 현재 작업경로를 확인합니다.\n",
    "os.getcwd()"
   ]
  },
  {
   "cell_type": "code",
   "execution_count": null,
   "id": "altered-arrow",
   "metadata": {},
   "outputs": [],
   "source": [
    "# apt를 xlsx 파일로 저장합니다.\n",
    "apt.to_excel('APT_List_Seoul_2020.xlsx', index = None)"
   ]
  },
  {
   "cell_type": "code",
   "execution_count": null,
   "id": "aerial-concert",
   "metadata": {},
   "outputs": [],
   "source": [
    "# apt를 csv 파일로 저장합니다.\n",
    "apt.to_csv('APT_List_Seoul_2020.csv', index = None)"
   ]
  },
  {
   "cell_type": "code",
   "execution_count": null,
   "id": "median-survival",
   "metadata": {
    "scrolled": true
   },
   "outputs": [],
   "source": [
    "# 현재 작업경로에 포함된 폴더명과 파일명을 출력합니다.\n",
    "os.listdir()"
   ]
  },
  {
   "cell_type": "markdown",
   "id": "disturbed-richards",
   "metadata": {},
   "source": [
    "## 기술통계 분석"
   ]
  },
  {
   "cell_type": "markdown",
   "id": "familiar-illustration",
   "metadata": {},
   "source": [
    "### 실습 데이터셋 준비"
   ]
  },
  {
   "cell_type": "code",
   "execution_count": null,
   "id": "studied-housing",
   "metadata": {},
   "outputs": [],
   "source": [
    "# 관련 라이브러리를 호출합니다.\n",
    "import numpy as np\n",
    "import pandas as pd\n",
    "import chardet"
   ]
  },
  {
   "cell_type": "code",
   "execution_count": null,
   "id": "current-inspiration",
   "metadata": {},
   "outputs": [],
   "source": [
    "# 현재 작업경로에 포함된 폴더명과 파일명을 출력합니다.\n",
    "os.listdir()"
   ]
  },
  {
   "cell_type": "code",
   "execution_count": null,
   "id": "thorough-information",
   "metadata": {},
   "outputs": [],
   "source": [
    "# 실습할 csv 파일명을 fileName에 할당합니다.\n",
    "fileName = 'APT_List_Seoul_2020.csv'"
   ]
  },
  {
   "cell_type": "code",
   "execution_count": null,
   "id": "recent-suspect",
   "metadata": {},
   "outputs": [],
   "source": [
    "# csv 파일을 'bytes'로 읽습니다.\n",
    "raw = open(fileName, 'rb').read()"
   ]
  },
  {
   "cell_type": "code",
   "execution_count": null,
   "id": "usual-isaac",
   "metadata": {},
   "outputs": [],
   "source": [
    "# 텍스트 파일의 문자 인코딩 방식을 확인합니다.\n",
    "chardet.detect(raw[:100])"
   ]
  },
  {
   "cell_type": "code",
   "execution_count": null,
   "id": "aquatic-pilot",
   "metadata": {},
   "outputs": [],
   "source": [
    "# 아파트 csv 파일을 읽고 데이터프레임을 생성합니다.\n",
    "apt = pd.read_csv(fileName)"
   ]
  },
  {
   "cell_type": "code",
   "execution_count": null,
   "id": "adverse-vector",
   "metadata": {},
   "outputs": [],
   "source": [
    "# apt의 정보를 확인합니다.\n",
    "apt.info()"
   ]
  },
  {
   "cell_type": "code",
   "execution_count": null,
   "id": "absent-turkey",
   "metadata": {},
   "outputs": [],
   "source": [
    "# 거래일 컬럼의 자료형을 'datetime64'로 변환합니다.\n",
    "apt['거래일'] = pd.to_datetime(apt['거래일'])"
   ]
  },
  {
   "cell_type": "code",
   "execution_count": null,
   "id": "compressed-barcelona",
   "metadata": {},
   "outputs": [],
   "source": [
    "# apt의 컬럼별 자료형을 출력합니다.\n",
    "apt.dtypes"
   ]
  },
  {
   "cell_type": "markdown",
   "id": "computational-bachelor",
   "metadata": {},
   "source": [
    "### 대푯값 : 평균, 절사평균"
   ]
  },
  {
   "cell_type": "code",
   "execution_count": null,
   "id": "pressed-techno",
   "metadata": {},
   "outputs": [],
   "source": [
    "# 거래금액 컬럼의 평균을 반환합니다.\n",
    "apt['거래금액'].mean()"
   ]
  },
  {
   "cell_type": "code",
   "execution_count": null,
   "id": "exact-wells",
   "metadata": {},
   "outputs": [],
   "source": [
    "# scipy.stats 모듈을 호출합니다.\n",
    "from scipy import stats"
   ]
  },
  {
   "cell_type": "code",
   "execution_count": null,
   "id": "acceptable-dialogue",
   "metadata": {},
   "outputs": [],
   "source": [
    "# 양 극단에서 10%씩 제외한 평균을 계산합니다.\n",
    "stats.trim_mean(apt['거래금액'], 0.1)"
   ]
  },
  {
   "cell_type": "markdown",
   "id": "dressed-hobby",
   "metadata": {},
   "source": [
    "### 대푯값 : 중위수"
   ]
  },
  {
   "cell_type": "code",
   "execution_count": null,
   "id": "moral-tattoo",
   "metadata": {},
   "outputs": [],
   "source": [
    "# 거래금액 컬럼의 중위수를 반환합니다.\n",
    "apt['거래금액'].median()"
   ]
  },
  {
   "cell_type": "code",
   "execution_count": null,
   "id": "framed-firewall",
   "metadata": {},
   "outputs": [],
   "source": [
    "# [주의] 양 극단의 50%씩 절사한 평균을 계산하면 원소 개수에 따라 중위수 또는 결측값을 반환합니다.\n",
    "stats.trim_mean(apt['거래금액'], 0.5)"
   ]
  },
  {
   "cell_type": "code",
   "execution_count": null,
   "id": "peaceful-virgin",
   "metadata": {},
   "outputs": [],
   "source": [
    "# 원소 개수가 홀수이면 결측값 대신 중위수를 반환합니다.\n",
    "stats.trim_mean(range(11), 0.5)"
   ]
  },
  {
   "cell_type": "markdown",
   "id": "contemporary-difficulty",
   "metadata": {},
   "source": [
    "### 대푯값 : 최빈값"
   ]
  },
  {
   "cell_type": "code",
   "execution_count": null,
   "id": "mounted-beverage",
   "metadata": {
    "scrolled": true
   },
   "outputs": [],
   "source": [
    "# 시군구 컬럼의 최빈값을 반환합니다.\n",
    "apt['시군구'].mode()"
   ]
  },
  {
   "cell_type": "code",
   "execution_count": null,
   "id": "monthly-dispute",
   "metadata": {},
   "outputs": [],
   "source": [
    "# 집계함수를 이용하여 시군구별 거래건수를 확인합니다.\n",
    "siggCnt = apt.groupby('시군구').count()[['거래금액']]\n",
    "siggCnt['시군구'] = siggCnt.index\n",
    "siggCnt = siggCnt.rename(columns = {'거래금액':'거래건수'})\n",
    "siggCnt = siggCnt.sort_values('거래건수', ascending = False)\n",
    "siggCnt = siggCnt.reset_index(drop = True)\n",
    "siggCnt.head()"
   ]
  },
  {
   "cell_type": "markdown",
   "id": "painted-plymouth",
   "metadata": {},
   "source": [
    "### 산포 : 범위"
   ]
  },
  {
   "cell_type": "code",
   "execution_count": null,
   "id": "vital-illustration",
   "metadata": {},
   "outputs": [],
   "source": [
    "# 거래금액 컬럼의 최소값을 반환합니다.\n",
    "apt['거래금액'].min()"
   ]
  },
  {
   "cell_type": "code",
   "execution_count": null,
   "id": "complex-quick",
   "metadata": {},
   "outputs": [],
   "source": [
    "# 거래금액 컬럼의 최대값을 반환합니다.\n",
    "apt['거래금액'].max()"
   ]
  },
  {
   "cell_type": "code",
   "execution_count": null,
   "id": "rolled-blanket",
   "metadata": {},
   "outputs": [],
   "source": [
    "# 거래금액 컬럼의 범위를 반환합니다.\n",
    "apt['거래금액'].max() - apt['거래금액'].min()"
   ]
  },
  {
   "cell_type": "markdown",
   "id": "dense-fisher",
   "metadata": {},
   "source": [
    "### 산포 : 분위수"
   ]
  },
  {
   "cell_type": "code",
   "execution_count": null,
   "id": "published-study",
   "metadata": {},
   "outputs": [],
   "source": [
    "# 거래금액 컬럼의 10 백분위수를 반환합니다.\n",
    "apt['거래금액'].quantile(0.10)"
   ]
  },
  {
   "cell_type": "code",
   "execution_count": null,
   "id": "relevant-portsmouth",
   "metadata": {},
   "outputs": [],
   "source": [
    "# 거래금액 컬럼의 90 백분위수를 반환합니다.\n",
    "apt['거래금액'].quantile(0.90)"
   ]
  },
  {
   "cell_type": "code",
   "execution_count": null,
   "id": "sound-cisco",
   "metadata": {},
   "outputs": [],
   "source": [
    "# 거래금액 컬럼의 10, 90 백분위수를 함께 반환합니다.\n",
    "apt['거래금액'].quantile([0.10, 0.90])"
   ]
  },
  {
   "cell_type": "code",
   "execution_count": null,
   "id": "fatty-princeton",
   "metadata": {},
   "outputs": [],
   "source": [
    "# 거래금액 컬럼의 십분위수를 반환합니다.\n",
    "apt['거래금액'].quantile(np.arange(0.0, 1.1, 0.1))"
   ]
  },
  {
   "cell_type": "markdown",
   "id": "occupational-speech",
   "metadata": {},
   "source": [
    "### 산포 : 사분위수와 사분범위"
   ]
  },
  {
   "cell_type": "code",
   "execution_count": null,
   "id": "drawn-india",
   "metadata": {},
   "outputs": [],
   "source": [
    "# 거래금액 컬럼의 1 사분위수를 반환합니다.\n",
    "apt['거래금액'].quantile(0.25)"
   ]
  },
  {
   "cell_type": "code",
   "execution_count": null,
   "id": "wicked-russia",
   "metadata": {},
   "outputs": [],
   "source": [
    "# 거래금액 컬럼의 3 사분위수를 반환합니다.\n",
    "apt['거래금액'].quantile(0.75)"
   ]
  },
  {
   "cell_type": "code",
   "execution_count": null,
   "id": "lyric-denver",
   "metadata": {},
   "outputs": [],
   "source": [
    "# 거래금액 컬럼의 최소값, 최대값 및 사분위수를 함께 반환합니다.\n",
    "apt['거래금액'].quantile(np.arange(0.0, 1.1, 0.25))"
   ]
  },
  {
   "cell_type": "code",
   "execution_count": null,
   "id": "laden-thing",
   "metadata": {},
   "outputs": [],
   "source": [
    "# 거래금액 컬럼의 사분범위를 계산합니다.\n",
    "apt['거래금액'].quantile(0.75) - apt['거래금액'].quantile(0.25)"
   ]
  },
  {
   "cell_type": "markdown",
   "id": "supported-proportion",
   "metadata": {},
   "source": [
    "### 산포 : 분산과 표준편차"
   ]
  },
  {
   "cell_type": "code",
   "execution_count": null,
   "id": "illegal-rendering",
   "metadata": {},
   "outputs": [],
   "source": [
    "# 거래금액 컬럼의 분산을 반환합니다.\n",
    "apt['거래금액'].var()"
   ]
  },
  {
   "cell_type": "code",
   "execution_count": null,
   "id": "adjacent-techno",
   "metadata": {},
   "outputs": [],
   "source": [
    "# 거래금액 컬럼의 표준편차를 반환합니다.\n",
    "apt['거래금액'].std()"
   ]
  },
  {
   "cell_type": "markdown",
   "id": "beautiful-occasion",
   "metadata": {},
   "source": [
    "### 산포 : 중위수절대편차"
   ]
  },
  {
   "cell_type": "code",
   "execution_count": null,
   "id": "aerial-manor",
   "metadata": {},
   "outputs": [],
   "source": [
    "# 거래금액 컬럼의 중위수절대편차를 반환합니다. (값이 조금 다릅니다!)\n",
    "apt['거래금액'].mad()"
   ]
  },
  {
   "cell_type": "code",
   "execution_count": null,
   "id": "distinct-begin",
   "metadata": {},
   "outputs": [],
   "source": [
    "# 로버스트한 통계량을 반환하는 모듈을 호출합니다.\n",
    "from statsmodels import robust"
   ]
  },
  {
   "cell_type": "code",
   "execution_count": null,
   "id": "endless-expert",
   "metadata": {},
   "outputs": [],
   "source": [
    "# 거래금액 컬럼의 중위수절대편차를 반환합니다.\n",
    "robust.mad(apt['거래금액'])"
   ]
  },
  {
   "cell_type": "markdown",
   "id": "empty-surge",
   "metadata": {},
   "source": [
    "### 여러 컬럼의 기술통계량 생성"
   ]
  },
  {
   "cell_type": "code",
   "execution_count": null,
   "id": "wound-briefs",
   "metadata": {},
   "outputs": [],
   "source": [
    "# apt의 숫자 컬럼에 대한 평균을 반환합니다.\n",
    "apt.apply('mean', numeric_only = True, axis = 0)"
   ]
  },
  {
   "cell_type": "code",
   "execution_count": null,
   "id": "three-trance",
   "metadata": {},
   "outputs": [],
   "source": [
    "# apt의 숫자 컬럼에 대한 분산을 반환합니다.\n",
    "apt.apply('var', numeric_only = True, axis = 0)"
   ]
  },
  {
   "cell_type": "code",
   "execution_count": null,
   "id": "former-serum",
   "metadata": {},
   "outputs": [],
   "source": [
    "# apt의 숫자 컬럼에 대한 표준편차를 반환합니다.\n",
    "apt.apply('std', numeric_only = True, axis = 0)"
   ]
  },
  {
   "cell_type": "code",
   "execution_count": null,
   "id": "desirable-account",
   "metadata": {},
   "outputs": [],
   "source": [
    "# apt의 문자열 컬럼에 대한 최빈값을 반환합니다.\n",
    "apt.apply('mode', axis = 0)"
   ]
  },
  {
   "cell_type": "code",
   "execution_count": null,
   "id": "fitted-bargain",
   "metadata": {},
   "outputs": [],
   "source": [
    "# apt의 모든 숫자 컬럼에 대한 기술통계량을 반환합니다.\n",
    "apt.describe()"
   ]
  },
  {
   "cell_type": "code",
   "execution_count": null,
   "id": "promotional-terry",
   "metadata": {},
   "outputs": [],
   "source": [
    "# apt의 모든 문자열 컬럼에 대한 기술통계량을 반환합니다.\n",
    "apt.describe(include = 'object')"
   ]
  },
  {
   "cell_type": "markdown",
   "id": "limited-notification",
   "metadata": {},
   "source": [
    "### 상관관계 : 공분산"
   ]
  },
  {
   "cell_type": "code",
   "execution_count": null,
   "id": "certified-coast",
   "metadata": {},
   "outputs": [],
   "source": [
    "# 전용면적과 거래금액 컬럼 간 공분산을 반환합니다.\n",
    "apt['전용면적'].cov(apt['거래금액'])"
   ]
  },
  {
   "cell_type": "code",
   "execution_count": null,
   "id": "equipped-bridge",
   "metadata": {},
   "outputs": [],
   "source": [
    "# apt의 모든 숫자 컬럼 간 공분산 행렬을 반환합니다.\n",
    "apt.cov()"
   ]
  },
  {
   "cell_type": "markdown",
   "id": "owned-template",
   "metadata": {},
   "source": [
    "### 상관관계 : 상관계수"
   ]
  },
  {
   "cell_type": "code",
   "execution_count": null,
   "id": "elementary-nudist",
   "metadata": {},
   "outputs": [],
   "source": [
    "# 전용면적과 거래금액 컬럼 간 상관계수를 반환합니다.\n",
    "apt['전용면적'].corr(apt['거래금액'])"
   ]
  },
  {
   "cell_type": "code",
   "execution_count": null,
   "id": "directed-landing",
   "metadata": {},
   "outputs": [],
   "source": [
    "# apt의 모든 숫자 컬럼 간 상관계수 행렬을 반환합니다.\n",
    "apt.corr()"
   ]
  },
  {
   "cell_type": "markdown",
   "id": "federal-denmark",
   "metadata": {},
   "source": [
    "<p style=\"font-family:verdana;font-size:200%;text-align:center;\">End of Document</p>"
   ]
  }
 ],
 "metadata": {
  "kernelspec": {
   "display_name": "Python 3",
   "language": "python",
   "name": "python3"
  },
  "language_info": {
   "codemirror_mode": {
    "name": "ipython",
    "version": 3
   },
   "file_extension": ".py",
   "mimetype": "text/x-python",
   "name": "python",
   "nbconvert_exporter": "python",
   "pygments_lexer": "ipython3",
   "version": "3.9.2"
  },
  "toc": {
   "base_numbering": 1,
   "nav_menu": {},
   "number_sections": true,
   "sideBar": true,
   "skip_h1_title": false,
   "title_cell": "Table of Contents",
   "title_sidebar": "Contents",
   "toc_cell": false,
   "toc_position": {},
   "toc_section_display": true,
   "toc_window_display": false
  },
  "varInspector": {
   "cols": {
    "lenName": 16,
    "lenType": 16,
    "lenVar": 40
   },
   "kernels_config": {
    "python": {
     "delete_cmd_postfix": "",
     "delete_cmd_prefix": "del ",
     "library": "var_list.py",
     "varRefreshCmd": "print(var_dic_list())"
    },
    "r": {
     "delete_cmd_postfix": ") ",
     "delete_cmd_prefix": "rm(",
     "library": "var_list.r",
     "varRefreshCmd": "cat(var_dic_list()) "
    }
   },
   "types_to_exclude": [
    "module",
    "function",
    "builtin_function_or_method",
    "instance",
    "_Feature"
   ],
   "window_display": false
  }
 },
 "nbformat": 4,
 "nbformat_minor": 5
}
